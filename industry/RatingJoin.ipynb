{
 "cells": [
  {
   "cell_type": "code",
   "execution_count": 1,
   "metadata": {},
   "outputs": [],
   "source": [
    "import json\n",
    "import pandas\n",
    "from collections import defaultdict"
   ]
  },
  {
   "cell_type": "code",
   "execution_count": 2,
   "metadata": {},
   "outputs": [],
   "source": [
    "result_files = [\n",
    "    ('hw01/hw01_test_results.json', 'hw01_test'),\n",
    "    ('hw02/xgboost_params_results.json', 'xgboost'),\n",
    "    ('hw02/gb_impl_results.json', 'gb_impl'),\n",
    "    ('hw03/text_classification_params_results.json', 'text_classification'),\n",
    "    ('hw03/logistic_regression_results.json', 'logistic_regression'),\n",
    "    ('hw03/ad_budget_results.json', 'ad_budget')\n",
    "]"
   ]
  },
  {
   "cell_type": "code",
   "execution_count": 3,
   "metadata": {},
   "outputs": [],
   "source": [
    "result = defaultdict(dict)\n",
    "for filepath, _ in result_files:\n",
    "    with open(filepath, 'r') as f:\n",
    "        for name, score in json.load(f).items():\n",
    "            result[name][filepath] = round(max(score, result[name].get(filepath, 0.)), 2)\n",
    "for name in result:\n",
    "    result[name]['total'] = round(sum(result[name].values()), 2)"
   ]
  },
  {
   "cell_type": "code",
   "execution_count": 4,
   "metadata": {},
   "outputs": [],
   "source": [
    "df = defaultdict(list)\n",
    "\n",
    "for name in result:\n",
    "    for filepath, column in result_files:\n",
    "        df[column].append(result[name].get(filepath))\n",
    "    df['total'].append(result[name]['total'])\n",
    "    df['nickname'].append(name)\n",
    "\n",
    "df = pandas.DataFrame(df, columns=['nickname']+[c for _, c in result_files]+['total'])"
   ]
  },
  {
   "cell_type": "code",
   "execution_count": 5,
   "metadata": {},
   "outputs": [
    {
     "data": {
      "text/html": [
       "<div>\n",
       "<style scoped>\n",
       "    .dataframe tbody tr th:only-of-type {\n",
       "        vertical-align: middle;\n",
       "    }\n",
       "\n",
       "    .dataframe tbody tr th {\n",
       "        vertical-align: top;\n",
       "    }\n",
       "\n",
       "    .dataframe thead th {\n",
       "        text-align: right;\n",
       "    }\n",
       "</style>\n",
       "<table border=\"1\" class=\"dataframe\">\n",
       "  <thead>\n",
       "    <tr style=\"text-align: right;\">\n",
       "      <th></th>\n",
       "      <th>nickname</th>\n",
       "      <th>hw01_test</th>\n",
       "      <th>xgboost</th>\n",
       "      <th>gb_impl</th>\n",
       "      <th>text_classification</th>\n",
       "      <th>logistic_regression</th>\n",
       "      <th>ad_budget</th>\n",
       "      <th>total</th>\n",
       "    </tr>\n",
       "  </thead>\n",
       "  <tbody>\n",
       "    <tr>\n",
       "      <th>0</th>\n",
       "      <td></td>\n",
       "      <td>NaN</td>\n",
       "      <td>NaN</td>\n",
       "      <td>NaN</td>\n",
       "      <td>NaN</td>\n",
       "      <td>0.05</td>\n",
       "      <td>0.06</td>\n",
       "      <td>0.11</td>\n",
       "    </tr>\n",
       "    <tr>\n",
       "      <th>1</th>\n",
       "      <td>bulatza</td>\n",
       "      <td>0.10</td>\n",
       "      <td>NaN</td>\n",
       "      <td>NaN</td>\n",
       "      <td>NaN</td>\n",
       "      <td>NaN</td>\n",
       "      <td>NaN</td>\n",
       "      <td>0.10</td>\n",
       "    </tr>\n",
       "    <tr>\n",
       "      <th>2</th>\n",
       "      <td>Alyona.knyaz</td>\n",
       "      <td>0.22</td>\n",
       "      <td>NaN</td>\n",
       "      <td>NaN</td>\n",
       "      <td>NaN</td>\n",
       "      <td>NaN</td>\n",
       "      <td>NaN</td>\n",
       "      <td>0.22</td>\n",
       "    </tr>\n",
       "    <tr>\n",
       "      <th>3</th>\n",
       "      <td>anastasiya_pavlovskaya</td>\n",
       "      <td>0.37</td>\n",
       "      <td>NaN</td>\n",
       "      <td>NaN</td>\n",
       "      <td>NaN</td>\n",
       "      <td>NaN</td>\n",
       "      <td>NaN</td>\n",
       "      <td>0.37</td>\n",
       "    </tr>\n",
       "    <tr>\n",
       "      <th>4</th>\n",
       "      <td>@IvaN_SmIrnoB</td>\n",
       "      <td>1.65</td>\n",
       "      <td>NaN</td>\n",
       "      <td>NaN</td>\n",
       "      <td>NaN</td>\n",
       "      <td>NaN</td>\n",
       "      <td>NaN</td>\n",
       "      <td>1.65</td>\n",
       "    </tr>\n",
       "  </tbody>\n",
       "</table>\n",
       "</div>"
      ],
      "text/plain": [
       "                 nickname  hw01_test  xgboost  gb_impl  text_classification  \\\n",
       "0                                NaN      NaN      NaN                  NaN   \n",
       "1                 bulatza       0.10      NaN      NaN                  NaN   \n",
       "2            Alyona.knyaz       0.22      NaN      NaN                  NaN   \n",
       "3  anastasiya_pavlovskaya       0.37      NaN      NaN                  NaN   \n",
       "4           @IvaN_SmIrnoB       1.65      NaN      NaN                  NaN   \n",
       "\n",
       "   logistic_regression  ad_budget  total  \n",
       "0                 0.05       0.06   0.11  \n",
       "1                  NaN        NaN   0.10  \n",
       "2                  NaN        NaN   0.22  \n",
       "3                  NaN        NaN   0.37  \n",
       "4                  NaN        NaN   1.65  "
      ]
     },
     "execution_count": 5,
     "metadata": {},
     "output_type": "execute_result"
    }
   ],
   "source": [
    "df.head()"
   ]
  },
  {
   "cell_type": "code",
   "execution_count": 6,
   "metadata": {},
   "outputs": [],
   "source": [
    "df.to_csv('rating.csv', index=False)"
   ]
  },
  {
   "cell_type": "code",
   "execution_count": 7,
   "metadata": {},
   "outputs": [
    {
     "data": {
      "text/plain": [
       "51"
      ]
     },
     "execution_count": 7,
     "metadata": {},
     "output_type": "execute_result"
    }
   ],
   "source": [
    "sum(df.total >= 3.5)"
   ]
  },
  {
   "cell_type": "code",
   "execution_count": 8,
   "metadata": {},
   "outputs": [],
   "source": [
    "df = pandas.read_csv('hw0/results.csv')\n",
    "df = df[df.columns[1:5]]\n",
    "df.columns = ['email', 'score', 'fio', 'nickname']\n",
    "df.score = df.score.apply(lambda x: round(0.02 * float(x.split('/')[0]), 2))"
   ]
  },
  {
   "cell_type": "code",
   "execution_count": 9,
   "metadata": {},
   "outputs": [
    {
     "name": "stdout",
     "output_type": "stream",
     "text": [
      "281 365 160\n"
     ]
    }
   ],
   "source": [
    "a = set(result)\n",
    "b = set(df.nickname)\n",
    "print(len(a), len(b), len(a & b))"
   ]
  },
  {
   "cell_type": "code",
   "execution_count": null,
   "metadata": {},
   "outputs": [],
   "source": []
  },
  {
   "cell_type": "code",
   "execution_count": null,
   "metadata": {},
   "outputs": [],
   "source": []
  }
 ],
 "metadata": {
  "kernelspec": {
   "display_name": "Python 3",
   "language": "python",
   "name": "python3"
  },
  "language_info": {
   "codemirror_mode": {
    "name": "ipython",
    "version": 3
   },
   "file_extension": ".py",
   "mimetype": "text/x-python",
   "name": "python",
   "nbconvert_exporter": "python",
   "pygments_lexer": "ipython3",
   "version": "3.4.3"
  }
 },
 "nbformat": 4,
 "nbformat_minor": 2
}
