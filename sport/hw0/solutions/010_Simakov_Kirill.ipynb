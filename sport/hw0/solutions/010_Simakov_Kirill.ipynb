{
 "cells": [
  {
   "cell_type": "code",
   "execution_count": 24,
   "metadata": {
    "collapsed": true
   },
   "outputs": [],
   "source": [
    "import pandas as pd\n",
    "import numpy as np\n",
    "from sklearn.feature_extraction.text import CountVectorizer, TfidfTransformer\n",
    "from sklearn.metrics import roc_auc_score\n",
    "from sklearn.linear_model import LogisticRegression\n",
    "from sklearn.model_selection import cross_val_score, GridSearchCV\n",
    "from sklearn.preprocessing import StandardScaler, LabelEncoder\n",
    "from scipy import sparse\n",
    "import re\n",
    "from natasha import NamesExtractor\n",
    "import pymorphy2\n",
    "\n",
    "pd.set_option('display.max_columns', 500)\n",
    "pd.set_option('display.max_rows', 500)\n",
    "%matplotlib inline"
   ]
  },
  {
   "cell_type": "code",
   "execution_count": 25,
   "metadata": {
    "collapsed": true
   },
   "outputs": [],
   "source": [
    "train = pd.read_csv('train.csv')\n",
    "test = pd.read_csv('test.csv')"
   ]
  },
  {
   "cell_type": "code",
   "execution_count": 26,
   "metadata": {
    "collapsed": true
   },
   "outputs": [],
   "source": [
    "train['first_upper'] = train['Word'].apply(lambda x: 1 if x[0].isupper() else 0)\n",
    "test['first_upper'] = test['Word'].apply(lambda x: 1 if x[0].isupper() else 0)"
   ]
  },
  {
   "cell_type": "code",
   "execution_count": 27,
   "metadata": {
    "collapsed": true
   },
   "outputs": [],
   "source": [
    "train['all_upper'] = train['Word'].apply(lambda x: 1 if x.isupper() else 0)\n",
    "test['all_upper'] = test['Word'].apply(lambda x: 1 if x.isupper() else 0)"
   ]
  },
  {
   "cell_type": "code",
   "execution_count": 28,
   "metadata": {
    "collapsed": true
   },
   "outputs": [],
   "source": [
    "def find_char(string):\n",
    "    chars = set('#@%&*)(!?/\\][$,.:; ')\n",
    "    if any((c in chars) for c in string):\n",
    "        return 1\n",
    "    else:\n",
    "        return 0\n",
    "train['has_specail_char'] = train['Word'].apply(lambda x: find_char(x))\n",
    "test['has_specail_char'] = test['Word'].apply(lambda x: find_char(x))"
   ]
  },
  {
   "cell_type": "code",
   "execution_count": 29,
   "metadata": {
    "collapsed": true
   },
   "outputs": [],
   "source": [
    "def has_numbers(string):\n",
    "    return bool(re.search(r'\\d', string))\n",
    "train['has_numbers'] = train['Word'].apply(lambda x: has_numbers(x)).map({True: 1, False: 0})\n",
    "test['has_numbers'] = test['Word'].apply(lambda x: has_numbers(x)).map({True: 1, False: 0})"
   ]
  },
  {
   "cell_type": "code",
   "execution_count": 30,
   "metadata": {
    "collapsed": true
   },
   "outputs": [],
   "source": [
    "train['length'] = train['Word'].apply(lambda x: len(x))\n",
    "test['length'] = test['Word'].apply(lambda x: len(x))\n",
    "\n",
    "train['vow'] = train['Word'].apply(lambda x: len(re.findall('[ауоыиэяюёе]', x, re.IGNORECASE)))\n",
    "test['vow'] = test['Word'].apply(lambda x: len(re.findall('[ауоыиэяюёе]', x, re.IGNORECASE)))\n",
    "\n",
    "train['con'] = train['length'] - train['vow'] \n",
    "test['con'] = test['length'] - test['vow']"
   ]
  },
  {
   "cell_type": "code",
   "execution_count": 31,
   "metadata": {
    "collapsed": true
   },
   "outputs": [],
   "source": [
    "train['duplicated'] = train['Word'].duplicated()\n",
    "test['duplicated'] = test['Word'].duplicated()\n",
    "train['duplicated'] = train['duplicated'].map({True: 1, False: 0})\n",
    "test['duplicated'] = test['duplicated'].map({True: 1, False: 0})"
   ]
  },
  {
   "cell_type": "code",
   "execution_count": 32,
   "metadata": {
    "collapsed": true
   },
   "outputs": [],
   "source": [
    "func = NamesExtractor()\n",
    "def function_natasha(word):\n",
    "    return 1 if func(word) else 0\n",
    "\n",
    "train['natasha_person'] = train['Word'].apply(function_natasha)\n",
    "test['natasha_person'] = test['Word'].apply(function_natasha)"
   ]
  },
  {
   "cell_type": "code",
   "execution_count": 33,
   "metadata": {
    "collapsed": true
   },
   "outputs": [],
   "source": [
    "morph = pymorphy2.MorphAnalyzer()\n",
    "\n",
    "train['pymorphy'] = train['Word'].apply(lambda x: morph.tag(x)[0])\n",
    "test['pymorphy'] = test['Word'].apply(lambda x: morph.tag(x)[0])\n",
    "\n",
    "train['pymorphy_animacy'] = train['pymorphy'].apply(lambda x: x.animacy)\n",
    "train['pymorphy_POS'] = train['pymorphy'].apply(lambda x: x.POS)\n",
    "train['pymorphy_case'] = train['pymorphy'].apply(lambda x: x.case)\n",
    "train['pymorphy_number'] = train['pymorphy'].apply(lambda x: x.number)\n",
    "train['pymorphy_gender'] = train['pymorphy'].apply(lambda x: x.gender)\n",
    "test['pymorphy_animacy'] = test['pymorphy'].apply(lambda x: x.animacy)\n",
    "test['pymorphy_POS'] = test['pymorphy'].apply(lambda x: x.POS)\n",
    "test['pymorphy_case'] = test['pymorphy'].apply(lambda x: x.case)\n",
    "test['pymorphy_number'] = test['pymorphy'].apply(lambda x: x.number)\n",
    "test['pymorphy_gender'] = test['pymorphy'].apply(lambda x: x.gender)\n",
    "\n",
    "train.drop('pymorphy' , axis=1 , inplace=True)\n",
    "test.drop('pymorphy' , axis=1 , inplace=True)\n",
    "\n",
    "columns_to_one_hot = ['pymorphy_animacy', 'pymorphy_POS', 'pymorphy_case','pymorphy_number', 'pymorphy_gender']\n",
    "\n",
    "for col in columns_to_one_hot:\n",
    "    train[col] = LabelEncoder().fit_transform(list(train[col].fillna('nan')))\n",
    "    test[col] = LabelEncoder().fit_transform(list(test[col].fillna('nan')))"
   ]
  },
  {
   "cell_type": "code",
   "execution_count": 34,
   "metadata": {},
   "outputs": [
    {
     "data": {
      "text/plain": [
       "((101408, 16), (188920, 15))"
      ]
     },
     "execution_count": 34,
     "metadata": {},
     "output_type": "execute_result"
    }
   ],
   "source": [
    "train.shape, test.shape"
   ]
  },
  {
   "cell_type": "code",
   "execution_count": 35,
   "metadata": {},
   "outputs": [
    {
     "data": {
      "text/html": [
       "<div>\n",
       "<style>\n",
       "    .dataframe thead tr:only-child th {\n",
       "        text-align: right;\n",
       "    }\n",
       "\n",
       "    .dataframe thead th {\n",
       "        text-align: left;\n",
       "    }\n",
       "\n",
       "    .dataframe tbody tr th {\n",
       "        vertical-align: top;\n",
       "    }\n",
       "</style>\n",
       "<table border=\"1\" class=\"dataframe\">\n",
       "  <thead>\n",
       "    <tr style=\"text-align: right;\">\n",
       "      <th></th>\n",
       "      <th>Word</th>\n",
       "      <th>Label</th>\n",
       "      <th>first_upper</th>\n",
       "      <th>all_upper</th>\n",
       "      <th>has_specail_char</th>\n",
       "      <th>has_numbers</th>\n",
       "      <th>length</th>\n",
       "      <th>vow</th>\n",
       "      <th>con</th>\n",
       "      <th>duplicated</th>\n",
       "      <th>natasha_person</th>\n",
       "      <th>pymorphy_animacy</th>\n",
       "      <th>pymorphy_POS</th>\n",
       "      <th>pymorphy_case</th>\n",
       "      <th>pymorphy_number</th>\n",
       "      <th>pymorphy_gender</th>\n",
       "    </tr>\n",
       "  </thead>\n",
       "  <tbody>\n",
       "    <tr>\n",
       "      <th>0</th>\n",
       "      <td>Аалтонен</td>\n",
       "      <td>1</td>\n",
       "      <td>1</td>\n",
       "      <td>0</td>\n",
       "      <td>0</td>\n",
       "      <td>0</td>\n",
       "      <td>8</td>\n",
       "      <td>4</td>\n",
       "      <td>4</td>\n",
       "      <td>0</td>\n",
       "      <td>0</td>\n",
       "      <td>2</td>\n",
       "      <td>1</td>\n",
       "      <td>7</td>\n",
       "      <td>2</td>\n",
       "      <td>1</td>\n",
       "    </tr>\n",
       "    <tr>\n",
       "      <th>1</th>\n",
       "      <td>Аар</td>\n",
       "      <td>0</td>\n",
       "      <td>1</td>\n",
       "      <td>0</td>\n",
       "      <td>0</td>\n",
       "      <td>0</td>\n",
       "      <td>3</td>\n",
       "      <td>2</td>\n",
       "      <td>1</td>\n",
       "      <td>0</td>\n",
       "      <td>0</td>\n",
       "      <td>2</td>\n",
       "      <td>17</td>\n",
       "      <td>7</td>\n",
       "      <td>0</td>\n",
       "      <td>2</td>\n",
       "    </tr>\n",
       "    <tr>\n",
       "      <th>2</th>\n",
       "      <td>Аарон</td>\n",
       "      <td>0</td>\n",
       "      <td>1</td>\n",
       "      <td>0</td>\n",
       "      <td>0</td>\n",
       "      <td>0</td>\n",
       "      <td>5</td>\n",
       "      <td>3</td>\n",
       "      <td>2</td>\n",
       "      <td>0</td>\n",
       "      <td>1</td>\n",
       "      <td>0</td>\n",
       "      <td>8</td>\n",
       "      <td>8</td>\n",
       "      <td>2</td>\n",
       "      <td>1</td>\n",
       "    </tr>\n",
       "    <tr>\n",
       "      <th>3</th>\n",
       "      <td>ААРОН</td>\n",
       "      <td>0</td>\n",
       "      <td>1</td>\n",
       "      <td>1</td>\n",
       "      <td>0</td>\n",
       "      <td>0</td>\n",
       "      <td>5</td>\n",
       "      <td>3</td>\n",
       "      <td>2</td>\n",
       "      <td>0</td>\n",
       "      <td>1</td>\n",
       "      <td>0</td>\n",
       "      <td>8</td>\n",
       "      <td>8</td>\n",
       "      <td>2</td>\n",
       "      <td>1</td>\n",
       "    </tr>\n",
       "    <tr>\n",
       "      <th>4</th>\n",
       "      <td>Аарона</td>\n",
       "      <td>0</td>\n",
       "      <td>1</td>\n",
       "      <td>0</td>\n",
       "      <td>0</td>\n",
       "      <td>0</td>\n",
       "      <td>6</td>\n",
       "      <td>4</td>\n",
       "      <td>2</td>\n",
       "      <td>0</td>\n",
       "      <td>1</td>\n",
       "      <td>0</td>\n",
       "      <td>8</td>\n",
       "      <td>4</td>\n",
       "      <td>2</td>\n",
       "      <td>1</td>\n",
       "    </tr>\n",
       "    <tr>\n",
       "      <th>5</th>\n",
       "      <td>Аарона</td>\n",
       "      <td>1</td>\n",
       "      <td>1</td>\n",
       "      <td>0</td>\n",
       "      <td>0</td>\n",
       "      <td>0</td>\n",
       "      <td>6</td>\n",
       "      <td>4</td>\n",
       "      <td>2</td>\n",
       "      <td>1</td>\n",
       "      <td>1</td>\n",
       "      <td>0</td>\n",
       "      <td>8</td>\n",
       "      <td>4</td>\n",
       "      <td>2</td>\n",
       "      <td>1</td>\n",
       "    </tr>\n",
       "    <tr>\n",
       "      <th>6</th>\n",
       "      <td>Аароне</td>\n",
       "      <td>0</td>\n",
       "      <td>1</td>\n",
       "      <td>0</td>\n",
       "      <td>0</td>\n",
       "      <td>0</td>\n",
       "      <td>6</td>\n",
       "      <td>4</td>\n",
       "      <td>2</td>\n",
       "      <td>0</td>\n",
       "      <td>1</td>\n",
       "      <td>0</td>\n",
       "      <td>8</td>\n",
       "      <td>6</td>\n",
       "      <td>2</td>\n",
       "      <td>1</td>\n",
       "    </tr>\n",
       "    <tr>\n",
       "      <th>7</th>\n",
       "      <td>Ааронов</td>\n",
       "      <td>0</td>\n",
       "      <td>1</td>\n",
       "      <td>0</td>\n",
       "      <td>0</td>\n",
       "      <td>0</td>\n",
       "      <td>7</td>\n",
       "      <td>4</td>\n",
       "      <td>3</td>\n",
       "      <td>0</td>\n",
       "      <td>0</td>\n",
       "      <td>0</td>\n",
       "      <td>8</td>\n",
       "      <td>4</td>\n",
       "      <td>1</td>\n",
       "      <td>2</td>\n",
       "    </tr>\n",
       "    <tr>\n",
       "      <th>8</th>\n",
       "      <td>Аахена</td>\n",
       "      <td>0</td>\n",
       "      <td>1</td>\n",
       "      <td>0</td>\n",
       "      <td>0</td>\n",
       "      <td>0</td>\n",
       "      <td>6</td>\n",
       "      <td>4</td>\n",
       "      <td>2</td>\n",
       "      <td>0</td>\n",
       "      <td>0</td>\n",
       "      <td>1</td>\n",
       "      <td>8</td>\n",
       "      <td>4</td>\n",
       "      <td>2</td>\n",
       "      <td>1</td>\n",
       "    </tr>\n",
       "    <tr>\n",
       "      <th>9</th>\n",
       "      <td>Абабков</td>\n",
       "      <td>1</td>\n",
       "      <td>1</td>\n",
       "      <td>0</td>\n",
       "      <td>0</td>\n",
       "      <td>0</td>\n",
       "      <td>7</td>\n",
       "      <td>3</td>\n",
       "      <td>4</td>\n",
       "      <td>0</td>\n",
       "      <td>1</td>\n",
       "      <td>0</td>\n",
       "      <td>8</td>\n",
       "      <td>8</td>\n",
       "      <td>2</td>\n",
       "      <td>1</td>\n",
       "    </tr>\n",
       "  </tbody>\n",
       "</table>\n",
       "</div>"
      ],
      "text/plain": [
       "       Word  Label  first_upper  all_upper  has_specail_char  has_numbers  \\\n",
       "0  Аалтонен      1            1          0                 0            0   \n",
       "1       Аар      0            1          0                 0            0   \n",
       "2     Аарон      0            1          0                 0            0   \n",
       "3     ААРОН      0            1          1                 0            0   \n",
       "4    Аарона      0            1          0                 0            0   \n",
       "5    Аарона      1            1          0                 0            0   \n",
       "6    Аароне      0            1          0                 0            0   \n",
       "7   Ааронов      0            1          0                 0            0   \n",
       "8    Аахена      0            1          0                 0            0   \n",
       "9   Абабков      1            1          0                 0            0   \n",
       "\n",
       "   length  vow  con  duplicated  natasha_person  pymorphy_animacy  \\\n",
       "0       8    4    4           0               0                 2   \n",
       "1       3    2    1           0               0                 2   \n",
       "2       5    3    2           0               1                 0   \n",
       "3       5    3    2           0               1                 0   \n",
       "4       6    4    2           0               1                 0   \n",
       "5       6    4    2           1               1                 0   \n",
       "6       6    4    2           0               1                 0   \n",
       "7       7    4    3           0               0                 0   \n",
       "8       6    4    2           0               0                 1   \n",
       "9       7    3    4           0               1                 0   \n",
       "\n",
       "   pymorphy_POS  pymorphy_case  pymorphy_number  pymorphy_gender  \n",
       "0             1              7                2                1  \n",
       "1            17              7                0                2  \n",
       "2             8              8                2                1  \n",
       "3             8              8                2                1  \n",
       "4             8              4                2                1  \n",
       "5             8              4                2                1  \n",
       "6             8              6                2                1  \n",
       "7             8              4                1                2  \n",
       "8             8              4                2                1  \n",
       "9             8              8                2                1  "
      ]
     },
     "execution_count": 35,
     "metadata": {},
     "output_type": "execute_result"
    }
   ],
   "source": [
    "train.head(10)"
   ]
  },
  {
   "cell_type": "code",
   "execution_count": 36,
   "metadata": {
    "collapsed": true
   },
   "outputs": [],
   "source": [
    "num_cols = ['length', 'vow', 'con', 'pymorphy_animacy', 'pymorphy_POS', 'pymorphy_case','pymorphy_number', 'pymorphy_gender']\n",
    "numeric_train = train[num_cols]\n",
    "numeric_test = test[num_cols]"
   ]
  },
  {
   "cell_type": "code",
   "execution_count": 37,
   "metadata": {
    "collapsed": true
   },
   "outputs": [],
   "source": [
    "scaler = StandardScaler()\n",
    "numeric_train_scaled = scaler.fit_transform(numeric_train)\n",
    "numeric_test_scaled = scaler.transform(numeric_test)"
   ]
  },
  {
   "cell_type": "code",
   "execution_count": 44,
   "metadata": {
    "collapsed": true
   },
   "outputs": [],
   "source": [
    "words_train = train['Word']\n",
    "words_test = test['Word']\n",
    "y_train = train['Label']\n",
    "\n",
    "train_bool_features = train.drop(num_cols, axis=1)\n",
    "train_bool_features.drop(['Label', 'Word'], axis=1, inplace=True)\n",
    "test_bool_features = test.drop(num_cols, axis=1)\n",
    "test_bool_features.drop(['Word'], axis=1, inplace=True)"
   ]
  },
  {
   "cell_type": "code",
   "execution_count": 46,
   "metadata": {},
   "outputs": [
    {
     "data": {
      "text/plain": [
       "((101408, 714496), (188920, 714496))"
      ]
     },
     "execution_count": 46,
     "metadata": {},
     "output_type": "execute_result"
    }
   ],
   "source": [
    "count_vect = CountVectorizer(analyzer='char_wb', ngram_range=(2, 8))\n",
    "words_train_counts = count_vect.fit_transform(words_train)\n",
    "words_test_counts = count_vect.transform(words_test)\n",
    "words_train_counts.shape, words_test_counts.shape"
   ]
  },
  {
   "cell_type": "code",
   "execution_count": 47,
   "metadata": {},
   "outputs": [
    {
     "data": {
      "text/plain": [
       "((101408, 714496), (188920, 714496))"
      ]
     },
     "execution_count": 47,
     "metadata": {},
     "output_type": "execute_result"
    }
   ],
   "source": [
    "tfidf_transformer = TfidfTransformer(use_idf=True)\n",
    "words_train_tfidf = tfidf_transformer.fit_transform(words_train_counts)\n",
    "words_test_tfidf = tfidf_transformer.transform(words_test_counts)\n",
    "words_train_tfidf.shape, words_test_tfidf.shape"
   ]
  },
  {
   "cell_type": "code",
   "execution_count": 48,
   "metadata": {},
   "outputs": [],
   "source": [
    "X_train = sparse.hstack((words_train_tfidf, train_bool_features.values))\n",
    "X_test = sparse.hstack((words_test_tfidf, test_bool_features.values))"
   ]
  },
  {
   "cell_type": "code",
   "execution_count": 49,
   "metadata": {
    "collapsed": true
   },
   "outputs": [],
   "source": [
    "X_train = sparse.hstack((X_train, numeric_train_scaled))\n",
    "X_test = sparse.hstack((X_test, numeric_test_scaled))"
   ]
  },
  {
   "cell_type": "code",
   "execution_count": 50,
   "metadata": {},
   "outputs": [
    {
     "data": {
      "text/plain": [
       "0.89189588546634047"
      ]
     },
     "execution_count": 50,
     "metadata": {},
     "output_type": "execute_result"
    }
   ],
   "source": [
    "LR = LogisticRegression(random_state=777)\n",
    "LR.fit(X_train, y_train)\n",
    "np.mean(cross_val_score(LR, X_train, y_train, cv=3, scoring='roc_auc'))"
   ]
  },
  {
   "cell_type": "code",
   "execution_count": 52,
   "metadata": {
    "collapsed": true
   },
   "outputs": [],
   "source": [
    "y_pred = LR.predict_proba(X_test)[:,1]\n",
    "test['Prediction'] = y_pred\n",
    "test['Word'] = test.index\n",
    "test.rename(columns={'Word': 'Id'}, inplace=True)\n",
    "test[['Id', 'Prediction']].to_csv('predictions.csv', index=False)"
   ]
  }
 ],
 "metadata": {
  "kernelspec": {
   "display_name": "Python 3",
   "language": "python",
   "name": "python3"
  },
  "language_info": {
   "codemirror_mode": {
    "name": "ipython",
    "version": 3
   },
   "file_extension": ".py",
   "mimetype": "text/x-python",
   "name": "python",
   "nbconvert_exporter": "python",
   "pygments_lexer": "ipython3",
   "version": "3.6.3"
  }
 },
 "nbformat": 4,
 "nbformat_minor": 2
}
