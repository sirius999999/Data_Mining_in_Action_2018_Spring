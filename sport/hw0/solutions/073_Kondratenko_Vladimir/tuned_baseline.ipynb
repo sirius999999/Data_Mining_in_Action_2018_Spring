{
 "cells": [
  {
   "cell_type": "markdown",
   "metadata": {},
   "source": [
    "В ноутбуке baseline я написал просто работающую модель. В этом ноутбуке я постарался ее немого улучшить.\n",
    "\n",
    "Во первых, нужно подумать, как валидироваться. У меня есть теория, что две посылки в день неслучайны + уж слишком все хорошо на паблик лидерборде. Поэтому я решил разделить данные на две части, сохранив баланс классов при помощи StratifiedShuffleSplit, оставив на test 20% всей выборки.\n",
    "\n",
    "Так же я решил добавить дополнительные признаки - последние 2 и 3 символа в слове. Я попробовал 2 метода: добавлял окончания как есть, и добавлял \"информативные\" окончания, заменяя неинформативные на NaN. \"Информативные\" окончания встечаются более чем в 100 словах и при этом в одном из двух классов не реже, чем в 70%. На моей валидации победил второй вариант."
   ]
  },
  {
   "cell_type": "code",
   "execution_count": 4,
   "metadata": {
    "collapsed": true
   },
   "outputs": [],
   "source": [
    "import pandas as pd\n",
    "import numpy as np\n",
    "import xgboost as xgb\n",
    "from sklearn.model_selection import StratifiedShuffleSplit\n",
    "from sklearn.metrics import roc_auc_score\n",
    "import matplotlib.pyplot as plt\n",
    "%matplotlib inline\n",
    "\n",
    "train = pd.read_csv('train.csv')\n",
    "test = pd.read_csv('test.csv')\n",
    "train['Word'] = train['Word'].apply(lambda x: x.lower())\n",
    "test['Word'] = test['Word'].apply(lambda x: x.lower())\n",
    "\n",
    "#удалим дубликаты и мусор\n",
    "train.drop_duplicates(inplace = True)\n",
    "train = train.loc[~train.Word.isin(set(train[train.Label == 1].Word.values) & set(train[train.Label == 0].Word.values))] \n",
    "\n",
    "#sss = StratifiedShuffleSplit(n_splits=1, test_size=0.2, random_state=42)\n",
    "#ind = list(sss.split(X=np.zeros(len(train)), y=train.Label.values))[0]\n",
    "#train_ind = ind[0]\n",
    "#test_ind = ind[1]\n",
    "\n",
    "#test = train.iloc[test_ind]\n",
    "#train = train.iloc[train_ind]\n",
    "\n",
    "ss = pd.read_csv('sample_submission.csv')"
   ]
  },
  {
   "cell_type": "code",
   "execution_count": 5,
   "metadata": {
    "collapsed": true
   },
   "outputs": [],
   "source": [
    "########генерим фичи"
   ]
  },
  {
   "cell_type": "code",
   "execution_count": 6,
   "metadata": {
    "collapsed": true
   },
   "outputs": [],
   "source": [
    "###пары"
   ]
  },
  {
   "cell_type": "code",
   "execution_count": 7,
   "metadata": {
    "collapsed": true
   },
   "outputs": [],
   "source": [
    "#добавим окончаний\n",
    "for i in [2,3]:\n",
    "    train[f'{i}g'] = train['Word'].apply(lambda s: s[-i:])"
   ]
  },
  {
   "cell_type": "code",
   "execution_count": 8,
   "metadata": {
    "collapsed": true
   },
   "outputs": [],
   "source": [
    "#информативные пары\n",
    "#.sum().Label это количество слов первого класса с этим окончанием\n",
    "#.count().Label это всего слов с этим окончанием\n",
    "tdf = train.set_index('Word')\n",
    "df = tdf.set_index('2g').loc[(tdf.groupby('2g').count().Label>200) \\\n",
    "                             & (( tdf.groupby('2g').sum().Label / tdf.groupby('2g').count().Label > 0.7)| \\\n",
    "                                (tdf.groupby('2g').sum().Label / tdf.groupby('2g').count().Label < 0.3))]\n",
    "l2 = list(set(df.index.tolist()))\n",
    "\n",
    "df = tdf.set_index('3g').loc[(tdf.groupby('3g').count().Label>100) \\\n",
    "                             & (( tdf.groupby('3g').sum().Label / tdf.groupby('3g').count().Label > 0.7)| \\\n",
    "                                (tdf.groupby('3g').sum().Label / tdf.groupby('3g').count().Label < 0.3))]\n",
    "l3 = list(set(df.index.tolist()))\n",
    "\n",
    "d_l2 = {s:i for i,s in enumerate(l2)}\n",
    "d_l3 = {s:i for i,s in enumerate(l3)}"
   ]
  },
  {
   "cell_type": "code",
   "execution_count": 9,
   "metadata": {
    "collapsed": true
   },
   "outputs": [],
   "source": [
    "########"
   ]
  },
  {
   "cell_type": "code",
   "execution_count": 10,
   "metadata": {
    "collapsed": true
   },
   "outputs": [],
   "source": [
    "train['2g'] = train['2g'].apply(lambda s: d_l2[s] if s in d_l2.keys() else np.nan)\n",
    "train['3g'] = train['3g'].apply(lambda s: d_l3[s] if s in d_l3.keys() else np.nan)\n",
    "\n",
    "for i in [2,3]:\n",
    "    test[f'{i}g'] = test['Word'].apply(lambda s: s[-i:])\n",
    "    \n",
    "test['2g'] = test['2g'].apply(lambda s: d_l2[s] if s in d_l2.keys() else np.nan)\n",
    "test['3g'] = test['3g'].apply(lambda s: d_l3[s] if s in d_l3.keys() else np.nan)"
   ]
  },
  {
   "cell_type": "code",
   "execution_count": 11,
   "metadata": {
    "collapsed": true
   },
   "outputs": [],
   "source": [
    "########"
   ]
  },
  {
   "cell_type": "code",
   "execution_count": 12,
   "metadata": {
    "scrolled": false
   },
   "outputs": [
    {
     "name": "stderr",
     "output_type": "stream",
     "text": [
      "/home/kondrat/anaconda2/envs/py3/lib/python3.6/site-packages/pandas/core/frame.py:2852: SettingWithCopyWarning: \n",
      "A value is trying to be set on a copy of a slice from a DataFrame\n",
      "\n",
      "See the caveats in the documentation: http://pandas.pydata.org/pandas-docs/stable/indexing.html#indexing-view-versus-copy\n",
      "  downcast=downcast, **kwargs)\n"
     ]
    }
   ],
   "source": [
    "#я немного поменял параметры исходя из результатов моей валидации\n",
    "#n - количество первых букв - фич в слове\n",
    "#слова длиннее m по умолчанию считаем не фамилиями\n",
    "n = 10\n",
    "m = 15\n",
    "list_of_features = [f'feature_{i}' for i in range(n)] + ['2g','3g']\n",
    "\n",
    "features = train['Word'].apply(lambda s: \\\n",
    "                                [ord(i) for i in s[:min(len(s),n)]] + [None for i in range(max(0,n-len(s)))]).tolist()\n",
    "train.reset_index(drop=True, inplace=True)\n",
    "train = train.join(pd.DataFrame(features, columns=[f'feature_{i}' for i in range(n)]))\n",
    "\n",
    "x_train = train[list_of_features]\n",
    "y_train = train[['Label']]\n",
    "\n",
    "x_train.fillna(np.nan, inplace=True)\n",
    "dtrain = xgb.DMatrix(x_train, y_train)"
   ]
  },
  {
   "cell_type": "code",
   "execution_count": 13,
   "metadata": {
    "collapsed": true
   },
   "outputs": [],
   "source": [
    "#так же исходя из моей валидации я потюнил xgb \"руками\"\n",
    "#к следующему разу постараюсь написать код, который будет делать gridsearch за меня\n",
    "import xgboost as xgb\n",
    "xgb_params = {\n",
    "    'eta': 0.8,\n",
    "    'base_score': 0.1,\n",
    "    'max_depth': 6,\n",
    "    'subsample': 0.6,\n",
    "    'colsample_bytree': 0.7,\n",
    "    'colsample_bylevel': 0.7,\n",
    "    'scale_pos_weight': 2,\n",
    "    'objective': 'binary:logistic',\n",
    "    'eval_metric': 'auc',\n",
    "    'silent': 0,\n",
    "    #'gamma': 0.3\n",
    "}\n"
   ]
  },
  {
   "cell_type": "code",
   "execution_count": 1269,
   "metadata": {
    "collapsed": true
   },
   "outputs": [],
   "source": [
    "num_boost_round = 1500\n",
    "model = xgb.train(xgb_params, dtrain, num_boost_round = num_boost_round)"
   ]
  },
  {
   "cell_type": "code",
   "execution_count": 1275,
   "metadata": {},
   "outputs": [
    {
     "data": {
      "text/plain": [
       "[('feature_0', 9048),\n",
       " ('feature_2', 8812),\n",
       " ('feature_3', 8547),\n",
       " ('2g', 7920),\n",
       " ('feature_4', 7823),\n",
       " ('feature_1', 7187),\n",
       " ('feature_5', 6527),\n",
       " ('feature_6', 5130),\n",
       " ('3g', 4658),\n",
       " ('feature_7', 3356),\n",
       " ('feature_8', 1763),\n",
       " ('feature_9', 1003)]"
      ]
     },
     "execution_count": 1275,
     "metadata": {},
     "output_type": "execute_result"
    }
   ],
   "source": [
    "#взглянем на важность признаков\n",
    "#странно, что 2g не на первом месте, возможно параметры подобраны не совсем удачно\n",
    "sorted(model.get_fscore().items(), key=operator.itemgetter(1), reverse=True)"
   ]
  },
  {
   "cell_type": "code",
   "execution_count": 1271,
   "metadata": {},
   "outputs": [
    {
     "name": "stderr",
     "output_type": "stream",
     "text": [
      "/home/kondrat/anaconda2/envs/py3/lib/python3.6/site-packages/pandas/core/indexing.py:337: SettingWithCopyWarning: \n",
      "A value is trying to be set on a copy of a slice from a DataFrame.\n",
      "Try using .loc[row_indexer,col_indexer] = value instead\n",
      "\n",
      "See the caveats in the documentation: http://pandas.pydata.org/pandas-docs/stable/indexing.html#indexing-view-versus-copy\n",
      "  self.obj[key] = _infer_fill_value(value)\n",
      "/home/kondrat/anaconda2/envs/py3/lib/python3.6/site-packages/pandas/core/indexing.py:517: SettingWithCopyWarning: \n",
      "A value is trying to be set on a copy of a slice from a DataFrame.\n",
      "Try using .loc[row_indexer,col_indexer] = value instead\n",
      "\n",
      "See the caveats in the documentation: http://pandas.pydata.org/pandas-docs/stable/indexing.html#indexing-view-versus-copy\n",
      "  self.obj[item] = s\n"
     ]
    }
   ],
   "source": [
    "#попробуем предсказывать все\n",
    "test_df = test[['Word']]\n",
    "test_df.loc[test_df.Word.apply(len) > m, 'Label'] = 0\n",
    "\n",
    "features = test['Word'].apply(lambda s: \\\n",
    "                                [ord(i) for i in s[:min(len(s),n)]] + [None for i in range(max(0,n-len(s)))]).tolist()\n",
    "#получим предикты\n",
    "test_df = test_df.join(pd.DataFrame(features, columns=[f'feature_{i}' for i in range(n)]))\n",
    "\n",
    "index_to_pred = test_df.Label.isnull()\n",
    "dtest = xgb.DMatrix(test_df.loc[index_to_pred, list_of_features])\n",
    "y_predict = model.predict(dtest)\n",
    "\n",
    "#coберем все воедино\n",
    "test_df.loc[index_to_pred, 'Label'] = y_predict\n",
    "test_df = test_df['Label'].reset_index()\n",
    "test_df.columns = ss.columns\n",
    "test_df.to_csv('base_2_3.csv',index = False)"
   ]
  },
  {
   "cell_type": "code",
   "execution_count": 2,
   "metadata": {
    "collapsed": true
   },
   "outputs": [],
   "source": [
    "##############"
   ]
  },
  {
   "cell_type": "code",
   "execution_count": null,
   "metadata": {
    "collapsed": true
   },
   "outputs": [],
   "source": [
    "#посмотрим на распределение предсказаний"
   ]
  },
  {
   "cell_type": "code",
   "execution_count": 1273,
   "metadata": {
    "scrolled": false
   },
   "outputs": [
    {
     "data": {
      "text/html": [
       "<div>\n",
       "<style>\n",
       "    .dataframe thead tr:only-child th {\n",
       "        text-align: right;\n",
       "    }\n",
       "\n",
       "    .dataframe thead th {\n",
       "        text-align: left;\n",
       "    }\n",
       "\n",
       "    .dataframe tbody tr th {\n",
       "        vertical-align: top;\n",
       "    }\n",
       "</style>\n",
       "<table border=\"1\" class=\"dataframe\">\n",
       "  <thead>\n",
       "    <tr style=\"text-align: right;\">\n",
       "      <th></th>\n",
       "      <th>Prediction</th>\n",
       "    </tr>\n",
       "  </thead>\n",
       "  <tbody>\n",
       "    <tr>\n",
       "      <th>count</th>\n",
       "      <td>188920.000000</td>\n",
       "    </tr>\n",
       "    <tr>\n",
       "      <th>mean</th>\n",
       "      <td>0.127621</td>\n",
       "    </tr>\n",
       "    <tr>\n",
       "      <th>std</th>\n",
       "      <td>0.282280</td>\n",
       "    </tr>\n",
       "    <tr>\n",
       "      <th>min</th>\n",
       "      <td>0.000000</td>\n",
       "    </tr>\n",
       "    <tr>\n",
       "      <th>25%</th>\n",
       "      <td>0.000005</td>\n",
       "    </tr>\n",
       "    <tr>\n",
       "      <th>50%</th>\n",
       "      <td>0.000620</td>\n",
       "    </tr>\n",
       "    <tr>\n",
       "      <th>75%</th>\n",
       "      <td>0.040208</td>\n",
       "    </tr>\n",
       "    <tr>\n",
       "      <th>max</th>\n",
       "      <td>1.000000</td>\n",
       "    </tr>\n",
       "  </tbody>\n",
       "</table>\n",
       "</div>"
      ],
      "text/plain": [
       "          Prediction\n",
       "count  188920.000000\n",
       "mean        0.127621\n",
       "std         0.282280\n",
       "min         0.000000\n",
       "25%         0.000005\n",
       "50%         0.000620\n",
       "75%         0.040208\n",
       "max         1.000000"
      ]
     },
     "execution_count": 1273,
     "metadata": {},
     "output_type": "execute_result"
    }
   ],
   "source": [
    "test_df[['Prediction']].describe()"
   ]
  },
  {
   "cell_type": "code",
   "execution_count": 1274,
   "metadata": {},
   "outputs": [
    {
     "data": {
      "text/plain": [
       "array([[<matplotlib.axes._subplots.AxesSubplot object at 0x7f700420ec88>]], dtype=object)"
      ]
     },
     "execution_count": 1274,
     "metadata": {},
     "output_type": "execute_result"
    },
    {
     "data": {
      "image/png": "[encoded data removed]",
      "text/plain": [
       "<matplotlib.figure.Figure at 0x7f701b8612b0>"
      ]
     },
     "metadata": {},
     "output_type": "display_data"
    }
   ],
   "source": [
    "test_df[['Prediction']].hist()"
   ]
  },
  {
   "cell_type": "code",
   "execution_count": null,
   "metadata": {
    "collapsed": true
   },
   "outputs": [],
   "source": [
    "auc = roc_auc_score(y_true=test.loc[test_df.Id, 'Label'].values, y_score = test_df.Prediction.values)\n",
    "auc"
   ]
  },
  {
   "cell_type": "code",
   "execution_count": 1306,
   "metadata": {
    "collapsed": true
   },
   "outputs": [],
   "source": [
    "#добавим ответы из test, причем те, и только те, \n",
    "#которые не противоречат друг другу (встречаются только с 1 значением Label) \n",
    "temp_test_df = test_df.set_index('Word').join(train[['Word','Label']].set_index('Word')).reset_index()\n",
    "temp_test_df.loc[~temp_test_df.Label.isnull(),'Prediction'] = temp_test_df[~temp_test_df.Label.isnull()]['Label']\n",
    "temp_test_df.drop(['Word', 'Label'],axis = 1, inplace=True)\n",
    "temp_test_df.columns = ss.columns\n",
    "temp_test_df.to_csv('train_base_2_3.csv',index = False)"
   ]
  },
  {
   "cell_type": "markdown",
   "metadata": {},
   "source": [
    "Эти решения набрали на public leaderboard ~0.81 и 0.79 соответсвенно, что хуже, чем baseline."
   ]
  },
  {
   "cell_type": "code",
   "execution_count": 896,
   "metadata": {
    "collapsed": true
   },
   "outputs": [],
   "source": [
    "##################"
   ]
  }
 ],
 "metadata": {
  "kernelspec": {
   "display_name": "Python 3",
   "language": "python",
   "name": "python3"
  },
  "language_info": {
   "codemirror_mode": {
    "name": "ipython",
    "version": 3
   },
   "file_extension": ".py",
   "mimetype": "text/x-python",
   "name": "python",
   "nbconvert_exporter": "python",
   "pygments_lexer": "ipython3",
   "version": "3.6.4"
  }
 },
 "nbformat": 4,
 "nbformat_minor": 2
}
