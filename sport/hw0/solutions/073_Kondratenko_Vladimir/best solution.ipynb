{
 "cells": [
  {
   "cell_type": "markdown",
   "metadata": {},
   "source": [
    "Оказалось, что лучшим решением на правате был самый тупой бейзлан, а я просто неправильно валидировался. Я до сих пор не понимаю, почему это так(\n",
    "\n",
    "Это решение дает 0.87126 на private и 0.86842 на public. Я же в качестве финального решения использовал решение из tuned baseline.ipynb"
   ]
  },
  {
   "cell_type": "code",
   "execution_count": 1,
   "metadata": {},
   "outputs": [],
   "source": [
    "import pandas as pd\n",
    "import numpy as np\n",
    "import xgboost as xgb\n",
    "import operator\n",
    "from sklearn.model_selection import StratifiedShuffleSplit\n",
    "import matplotlib.pyplot as plt\n",
    "%matplotlib inline\n",
    "\n",
    "train = pd.read_csv('train.csv')\n",
    "test = pd.read_csv('test.csv')\n",
    "train['Word'] = train['Word'].apply(lambda x: x.lower())\n",
    "test['Word'] = test['Word'].apply(lambda x: x.lower())\n",
    "\n",
    "#удалим дубликаты и мусор\n",
    "train.drop_duplicates(inplace = True)\n",
    "train = train.loc[~train.Word.isin(set(train[train.Label == 1].Word.values) & set(train[train.Label == 0].Word.values))]\n",
    "ss = pd.read_csv('sample_submission.csv')"
   ]
  },
  {
   "cell_type": "code",
   "execution_count": 3,
   "metadata": {},
   "outputs": [
    {
     "name": "stderr",
     "output_type": "stream",
     "text": [
      "/home/kondrat/.conda/envs/py3/lib/python3.6/site-packages/pandas/core/frame.py:3035: SettingWithCopyWarning: \n",
      "A value is trying to be set on a copy of a slice from a DataFrame\n",
      "\n",
      "See the caveats in the documentation: http://pandas.pydata.org/pandas-docs/stable/indexing.html#indexing-view-versus-copy\n",
      "  downcast=downcast, **kwargs)\n"
     ]
    }
   ],
   "source": [
    "n = 18\n",
    "features = train['Word'].apply(lambda s: \\\n",
    "                                [ord(i) for i in s[:min(len(s),n)]] + [None for i in range(max(0,n-len(s)))]).tolist()\n",
    "train.reset_index(drop=True, inplace=True)\n",
    "train = train.join(pd.DataFrame(features, columns=[f'feature_{i}' for i in range(n)]))\n",
    "\n",
    "import xgboost as xgb\n",
    "\n",
    "xgb_params = {\n",
    "    'eta': 0.05,\n",
    "    'max_depth': 5,\n",
    "    'objective': 'binary:logistic',\n",
    "    'eval_metric': 'auc',\n",
    "    'silent': 0    \n",
    "}\n",
    "\n",
    "x_train = train[[f'feature_{i}' for i in range(n)]]\n",
    "y_train = train[['Label']]\n",
    "x_train.fillna(np.nan, inplace=True)\n",
    "dtrain = xgb.DMatrix(x_train, y_train)"
   ]
  },
  {
   "cell_type": "code",
   "execution_count": 4,
   "metadata": {},
   "outputs": [
    {
     "name": "stdout",
     "output_type": "stream",
     "text": [
      "[0]\ttrain-auc:0.707843+0.0022848\ttest-auc:0.702803+0.00660271\n",
      "[50]\ttrain-auc:0.802+0.000472858\ttest-auc:0.788566+0.00529924\n",
      "[100]\ttrain-auc:0.844258+0.00137139\ttest-auc:0.826121+0.00321993\n",
      "[150]\ttrain-auc:0.866997+0.00135006\ttest-auc:0.844578+0.00409058\n",
      "[200]\ttrain-auc:0.879433+0.000824918\ttest-auc:0.854351+0.0029754\n",
      "[250]\ttrain-auc:0.888367+0.000735101\ttest-auc:0.861087+0.00192025\n",
      "[300]\ttrain-auc:0.895366+0.000478391\ttest-auc:0.865928+0.00153414\n",
      "[350]\ttrain-auc:0.901802+0.00055494\ttest-auc:0.870176+0.000922842\n",
      "[400]\ttrain-auc:0.906598+0.000480543\ttest-auc:0.873269+0.000972268\n",
      "[450]\ttrain-auc:0.911571+0.000790663\ttest-auc:0.876412+0.000634092\n",
      "[500]\ttrain-auc:0.916131+0.00043371\ttest-auc:0.879254+0.000657537\n",
      "[550]\ttrain-auc:0.920685+0.000886793\ttest-auc:0.881858+0.000671338\n",
      "[600]\ttrain-auc:0.924429+0.00101964\ttest-auc:0.884027+0.000815579\n",
      "[650]\ttrain-auc:0.927775+0.000710761\ttest-auc:0.885904+0.000841234\n",
      "[700]\ttrain-auc:0.930887+0.000763817\ttest-auc:0.887631+0.000727534\n",
      "[750]\ttrain-auc:0.93383+0.000551839\ttest-auc:0.889115+0.000937615\n",
      "[800]\ttrain-auc:0.936496+0.000642369\ttest-auc:0.890381+0.0010479\n",
      "[850]\ttrain-auc:0.939379+0.000727578\ttest-auc:0.89186+0.00118215\n",
      "[900]\ttrain-auc:0.941674+0.000406592\ttest-auc:0.892988+0.00154661\n",
      "[950]\ttrain-auc:0.943864+0.000414698\ttest-auc:0.894102+0.00168482\n",
      "[999]\ttrain-auc:0.945732+0.000465759\ttest-auc:0.894937+0.00157801\n"
     ]
    }
   ],
   "source": [
    "cv_output = xgb.cv(xgb_params, dtrain, num_boost_round=1000,\n",
    "    verbose_eval=50, show_stdv=True, stratified=True, nfold = 3)"
   ]
  },
  {
   "cell_type": "code",
   "execution_count": 5,
   "metadata": {},
   "outputs": [],
   "source": [
    "num_boost_round = 1000\n",
    "model = xgb.train(xgb_params, dtrain, num_boost_round = num_boost_round)"
   ]
  },
  {
   "cell_type": "code",
   "execution_count": 6,
   "metadata": {},
   "outputs": [],
   "source": [
    "#оформим csv для сабмита\n",
    "test['Word'] = test['Word'].apply(lambda s: s.lower())\n",
    "test_df = test[['Word']]\n",
    "test_df.loc[test_df.Word.apply(len) > n, 'Label'] = 0\n",
    "\n",
    "features = test['Word'].apply(lambda s: \\\n",
    "                                [ord(i) for i in s[:min(len(s),n)]] + [None for i in range(max(0,n-len(s)))]).tolist()\n",
    "#получим предикты\n",
    "test_df = test_df.join(pd.DataFrame(features, columns=[f'feature_{i}' for i in range(n)]))\n",
    "\n",
    "index_to_pred = test_df.Label.isnull()\n",
    "dtest = xgb.DMatrix(test_df.loc[index_to_pred, [f'feature_{i}' for i in range(n)]])\n",
    "y_predict = model.predict(dtest)\n",
    "\n",
    "#coберем все воедино\n",
    "test_df.loc[index_to_pred, 'Label'] = y_predict\n",
    "test_df = test_df['Label'].reset_index()\n",
    "test_df.columns = ss.columns\n",
    "test_df.to_csv('best_pred.csv',index = False)"
   ]
  },
  {
   "cell_type": "code",
   "execution_count": null,
   "metadata": {},
   "outputs": [],
   "source": [
    "###############"
   ]
  },
  {
   "cell_type": "code",
   "execution_count": 9,
   "metadata": {},
   "outputs": [
    {
     "data": {
      "text/plain": [
       "[('feature_5', 2616),\n",
       " ('feature_6', 2567),\n",
       " ('feature_0', 2505),\n",
       " ('feature_3', 2413),\n",
       " ('feature_4', 2407),\n",
       " ('feature_7', 2220),\n",
       " ('feature_2', 2082),\n",
       " ('feature_1', 2067),\n",
       " ('feature_8', 1682),\n",
       " ('feature_9', 1092),\n",
       " ('feature_10', 575),\n",
       " ('feature_11', 456),\n",
       " ('feature_12', 211),\n",
       " ('feature_13', 178),\n",
       " ('feature_14', 109),\n",
       " ('feature_15', 45),\n",
       " ('feature_17', 13),\n",
       " ('feature_16', 4)]"
      ]
     },
     "execution_count": 9,
     "metadata": {},
     "output_type": "execute_result"
    }
   ],
   "source": [
    "sorted(model.get_fscore().items(), key=operator.itemgetter(1), reverse=True)"
   ]
  },
  {
   "cell_type": "code",
   "execution_count": 10,
   "metadata": {},
   "outputs": [
    {
     "data": {
      "text/html": [
       "<div>\n",
       "<style scoped>\n",
       "    .dataframe tbody tr th:only-of-type {\n",
       "        vertical-align: middle;\n",
       "    }\n",
       "\n",
       "    .dataframe tbody tr th {\n",
       "        vertical-align: top;\n",
       "    }\n",
       "\n",
       "    .dataframe thead th {\n",
       "        text-align: right;\n",
       "    }\n",
       "</style>\n",
       "<table border=\"1\" class=\"dataframe\">\n",
       "  <thead>\n",
       "    <tr style=\"text-align: right;\">\n",
       "      <th></th>\n",
       "      <th>Prediction</th>\n",
       "    </tr>\n",
       "  </thead>\n",
       "  <tbody>\n",
       "    <tr>\n",
       "      <th>count</th>\n",
       "      <td>188920.000000</td>\n",
       "    </tr>\n",
       "    <tr>\n",
       "      <th>mean</th>\n",
       "      <td>0.099427</td>\n",
       "    </tr>\n",
       "    <tr>\n",
       "      <th>std</th>\n",
       "      <td>0.147447</td>\n",
       "    </tr>\n",
       "    <tr>\n",
       "      <th>min</th>\n",
       "      <td>0.000000</td>\n",
       "    </tr>\n",
       "    <tr>\n",
       "      <th>25%</th>\n",
       "      <td>0.011375</td>\n",
       "    </tr>\n",
       "    <tr>\n",
       "      <th>50%</th>\n",
       "      <td>0.040715</td>\n",
       "    </tr>\n",
       "    <tr>\n",
       "      <th>75%</th>\n",
       "      <td>0.122603</td>\n",
       "    </tr>\n",
       "    <tr>\n",
       "      <th>max</th>\n",
       "      <td>0.984698</td>\n",
       "    </tr>\n",
       "  </tbody>\n",
       "</table>\n",
       "</div>"
      ],
      "text/plain": [
       "          Prediction\n",
       "count  188920.000000\n",
       "mean        0.099427\n",
       "std         0.147447\n",
       "min         0.000000\n",
       "25%         0.011375\n",
       "50%         0.040715\n",
       "75%         0.122603\n",
       "max         0.984698"
      ]
     },
     "execution_count": 10,
     "metadata": {},
     "output_type": "execute_result"
    }
   ],
   "source": [
    "test_df[['Prediction']].describe()"
   ]
  },
  {
   "cell_type": "code",
   "execution_count": 11,
   "metadata": {},
   "outputs": [
    {
     "data": {
      "text/plain": [
       "array([[<matplotlib.axes._subplots.AxesSubplot object at 0x7faaeef9e208>]],\n",
       "      dtype=object)"
      ]
     },
     "execution_count": 11,
     "metadata": {},
     "output_type": "execute_result"
    },
    {
     "data": {
      "image/png": "[encoded data removed]",
      "text/plain": [
       "<matplotlib.figure.Figure at 0x7faaeef9ea58>"
      ]
     },
     "metadata": {},
     "output_type": "display_data"
    }
   ],
   "source": [
    "test_df[['Prediction']].hist()"
   ]
  },
  {
   "cell_type": "markdown",
   "metadata": {},
   "source": [
    "Это решение дает 0.87126 на private и 0.86842 на public"
   ]
  }
 ],
 "metadata": {
  "kernelspec": {
   "display_name": "Python 3",
   "language": "python",
   "name": "python3"
  },
  "language_info": {
   "codemirror_mode": {
    "name": "ipython",
    "version": 3
   },
   "file_extension": ".py",
   "mimetype": "text/x-python",
   "name": "python",
   "nbconvert_exporter": "python",
   "pygments_lexer": "ipython3",
   "version": "3.6.4"
  }
 },
 "nbformat": 4,
 "nbformat_minor": 2
}
