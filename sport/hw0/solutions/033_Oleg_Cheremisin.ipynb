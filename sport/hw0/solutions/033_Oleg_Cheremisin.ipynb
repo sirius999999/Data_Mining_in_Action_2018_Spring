{
 "cells": [
  {
   "cell_type": "markdown",
   "metadata": {},
   "source": [
    "DMIA [Спорт 2018 весна] hw0\n",
    "\n",
    "33 of 115 /  Oleg Cheremisin / Private LB 0.91229\n",
    "\n",
    "TLDR: Upsampling + Tfidf + SGD\n",
    "\n",
    "\n",
    "Попробовано:\n",
    "1. апсемплинг - увеличивает результат на тесте и на лидерборде (поднялся на 5 позиций), применен\n",
    "2. pymorphy2 нормализация - ухудшает результат и на тесте и на лидерборде 0.89782 > 0.84251, убран\n",
    "3. xgboost с заданным по расбалансу классов scale_pos_weight - скор лб чуть ниже чем sgd upscale 0.87976 vs 0.89782 \n",
    "4. 5 последних букв вместо слова целином n-gramm ами - ухудшает, убран"
   ]
  },
  {
   "cell_type": "code",
   "execution_count": 8,
   "metadata": {
    "collapsed": true
   },
   "outputs": [],
   "source": [
    "import pandas as pd\n",
    "import numpy as np\n",
    "\n",
    "random_state = 42\n",
    "\n",
    "from sklearn.utils import resample\n",
    "\n",
    "train = pd.read_csv('datasets/dmia-surnames/train.csv')\n",
    "test = pd.read_csv('datasets/dmia-surnames/test.csv')\n",
    "sample_submission = pd.read_csv('datasets/dmia-surnames/sample_submission .csv')"
   ]
  },
  {
   "cell_type": "code",
   "execution_count": 9,
   "metadata": {
    "collapsed": true
   },
   "outputs": [],
   "source": [
    "train_majority = train[train['Label']==0]\n",
    "train_minority = train[train['Label']==1]\n",
    "train_minority_upsampled =  resample(train_minority, \n",
    "                                 replace=True,\n",
    "                                 n_samples=train_majority.shape[0], \n",
    "                                 random_state=random_state) \n",
    "\n",
    "train = train_majority.append(train_minority_upsampled)\n",
    "\n",
    "train = train.sample(frac=1)\n",
    "train = train.reset_index(drop=False).drop([\"index\"], axis=1)"
   ]
  },
  {
   "cell_type": "code",
   "execution_count": 10,
   "metadata": {},
   "outputs": [
    {
     "data": {
      "text/html": [
       "<div>\n",
       "<style>\n",
       "    .dataframe thead tr:only-child th {\n",
       "        text-align: right;\n",
       "    }\n",
       "\n",
       "    .dataframe thead th {\n",
       "        text-align: left;\n",
       "    }\n",
       "\n",
       "    .dataframe tbody tr th {\n",
       "        vertical-align: top;\n",
       "    }\n",
       "</style>\n",
       "<table border=\"1\" class=\"dataframe\">\n",
       "  <thead>\n",
       "    <tr style=\"text-align: right;\">\n",
       "      <th></th>\n",
       "      <th>Word</th>\n",
       "      <th>Label</th>\n",
       "    </tr>\n",
       "  </thead>\n",
       "  <tbody>\n",
       "    <tr>\n",
       "      <th>89577</th>\n",
       "      <td>кимбл</td>\n",
       "      <td>1</td>\n",
       "    </tr>\n",
       "    <tr>\n",
       "      <th>149359</th>\n",
       "      <td>константиновым</td>\n",
       "      <td>1</td>\n",
       "    </tr>\n",
       "    <tr>\n",
       "      <th>90433</th>\n",
       "      <td>меркадо</td>\n",
       "      <td>1</td>\n",
       "    </tr>\n",
       "    <tr>\n",
       "      <th>175098</th>\n",
       "      <td>монетой</td>\n",
       "      <td>0</td>\n",
       "    </tr>\n",
       "    <tr>\n",
       "      <th>109695</th>\n",
       "      <td>граффом</td>\n",
       "      <td>1</td>\n",
       "    </tr>\n",
       "    <tr>\n",
       "      <th>175377</th>\n",
       "      <td>тосканини</td>\n",
       "      <td>1</td>\n",
       "    </tr>\n",
       "    <tr>\n",
       "      <th>64354</th>\n",
       "      <td>пендерецкого</td>\n",
       "      <td>1</td>\n",
       "    </tr>\n",
       "    <tr>\n",
       "      <th>152841</th>\n",
       "      <td>порше</td>\n",
       "      <td>1</td>\n",
       "    </tr>\n",
       "    <tr>\n",
       "      <th>39567</th>\n",
       "      <td>биологи</td>\n",
       "      <td>0</td>\n",
       "    </tr>\n",
       "    <tr>\n",
       "      <th>153916</th>\n",
       "      <td>глотов</td>\n",
       "      <td>1</td>\n",
       "    </tr>\n",
       "    <tr>\n",
       "      <th>131892</th>\n",
       "      <td>стеклотара</td>\n",
       "      <td>0</td>\n",
       "    </tr>\n",
       "    <tr>\n",
       "      <th>109472</th>\n",
       "      <td>аванзале</td>\n",
       "      <td>0</td>\n",
       "    </tr>\n",
       "    <tr>\n",
       "      <th>70973</th>\n",
       "      <td>дебая</td>\n",
       "      <td>1</td>\n",
       "    </tr>\n",
       "    <tr>\n",
       "      <th>176737</th>\n",
       "      <td>автомобилям</td>\n",
       "      <td>0</td>\n",
       "    </tr>\n",
       "    <tr>\n",
       "      <th>19689</th>\n",
       "      <td>макартура</td>\n",
       "      <td>1</td>\n",
       "    </tr>\n",
       "  </tbody>\n",
       "</table>\n",
       "</div>"
      ],
      "text/plain": [
       "                  Word  Label\n",
       "89577            кимбл      1\n",
       "149359  константиновым      1\n",
       "90433          меркадо      1\n",
       "175098         монетой      0\n",
       "109695         граффом      1\n",
       "175377       тосканини      1\n",
       "64354     пендерецкого      1\n",
       "152841           порше      1\n",
       "39567          биологи      0\n",
       "153916          глотов      1\n",
       "131892      стеклотара      0\n",
       "109472        аванзале      0\n",
       "70973            дебая      1\n",
       "176737     автомобилям      0\n",
       "19689        макартура      1"
      ]
     },
     "execution_count": 10,
     "metadata": {},
     "output_type": "execute_result"
    }
   ],
   "source": [
    "train['Word'] = train['Word'].apply(lambda x: x.lower()) #.apply(lambda x: x[-5:])\n",
    "test['word'] = test['Word'].apply(lambda x: x.lower()) #.apply(lambda x: x[-5:])\n",
    "\n",
    "train.sample(15)"
   ]
  },
  {
   "cell_type": "code",
   "execution_count": null,
   "metadata": {
    "collapsed": true
   },
   "outputs": [],
   "source": []
  },
  {
   "cell_type": "code",
   "execution_count": 11,
   "metadata": {},
   "outputs": [
    {
     "data": {
      "text/plain": [
       "TfidfVectorizer(analyzer='char_wb', binary=False, decode_error='strict',\n",
       "        dtype=<class 'numpy.int64'>, encoding='utf-8', input='content',\n",
       "        lowercase=True, max_df=1.0, max_features=None, min_df=1,\n",
       "        ngram_range=(1, 5), norm='l2', preprocessor=None, smooth_idf=True,\n",
       "        stop_words=None, strip_accents=None, sublinear_tf=False,\n",
       "        token_pattern='(?u)\\\\b\\\\w\\\\w+\\\\b', tokenizer=None, use_idf=True,\n",
       "        vocabulary=None)"
      ]
     },
     "execution_count": 11,
     "metadata": {},
     "output_type": "execute_result"
    }
   ],
   "source": [
    "from sklearn.feature_extraction.text import TfidfVectorizer\n",
    "tfidf = TfidfVectorizer(ngram_range=(1, 5), analyzer='char_wb')\n",
    "tfidf.fit(train.append(test)['Word'])"
   ]
  },
  {
   "cell_type": "code",
   "execution_count": 12,
   "metadata": {
    "collapsed": true
   },
   "outputs": [],
   "source": [
    "ttrain = tfidf.transform(train['Word'])\n",
    "ttest = tfidf.transform(test['Word'])"
   ]
  },
  {
   "cell_type": "code",
   "execution_count": 13,
   "metadata": {},
   "outputs": [
    {
     "name": "stdout",
     "output_type": "stream",
     "text": [
      "0.968553629048\n",
      "SGDClassifier(alpha=0.0001, average=False, class_weight=None, epsilon=0.1,\n",
      "       eta0=0.0, fit_intercept=True, l1_ratio=0.15,\n",
      "       learning_rate='optimal', loss='modified_huber', max_iter=300,\n",
      "       n_iter=None, n_jobs=1, penalty='l2', power_t=0.5, random_state=None,\n",
      "       shuffle=True, tol=None, verbose=0, warm_start=False)\n"
     ]
    }
   ],
   "source": [
    "from sklearn.cross_validation import train_test_split\n",
    "from sklearn.model_selection import GridSearchCV\n",
    "from sklearn.linear_model import LogisticRegression, SGDClassifier, SGDRegressor\n",
    "\n",
    "X_train, X_test, y_train, y_test = train_test_split(ttrain, train['Label'], \n",
    "    test_size=0.2,random_state = random_state )\n",
    "\n",
    "model = SGDClassifier()\n",
    "\n",
    "parameters = {\n",
    "    'max_iter': [300],\n",
    "    'loss':['modified_huber']\n",
    "}\n",
    "\n",
    "grid = GridSearchCV(model,parameters,scoring='roc_auc')\n",
    "\n",
    "grid.fit(X_train, y_train)\n",
    "\n",
    "print(grid.best_score_)\n",
    "print(grid.best_estimator_)"
   ]
  },
  {
   "cell_type": "code",
   "execution_count": 14,
   "metadata": {
    "collapsed": true
   },
   "outputs": [],
   "source": [
    "submission = sample_submission\n",
    "submission['Prediction'] = grid.best_estimator_.predict(ttest)\n",
    "submission.to_csv('datasets/dmia-surnames/submission_2018-02-17.csv', index=False)"
   ]
  },
  {
   "cell_type": "code",
   "execution_count": null,
   "metadata": {
    "collapsed": true
   },
   "outputs": [],
   "source": []
  },
  {
   "cell_type": "code",
   "execution_count": null,
   "metadata": {
    "collapsed": true
   },
   "outputs": [],
   "source": []
  }
 ],
 "metadata": {
  "kernelspec": {
   "display_name": "Python 3",
   "language": "python",
   "name": "python3"
  },
  "language_info": {
   "codemirror_mode": {
    "name": "ipython",
    "version": 3
   },
   "file_extension": ".py",
   "mimetype": "text/x-python",
   "name": "python",
   "nbconvert_exporter": "python",
   "pygments_lexer": "ipython3",
   "version": "3.6.3"
  }
 },
 "nbformat": 4,
 "nbformat_minor": 2
}
