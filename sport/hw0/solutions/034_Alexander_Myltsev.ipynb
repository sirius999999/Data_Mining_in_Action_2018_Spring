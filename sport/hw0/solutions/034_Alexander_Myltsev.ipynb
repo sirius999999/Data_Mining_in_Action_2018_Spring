{
 "cells": [
  {
   "cell_type": "code",
   "execution_count": 1,
   "metadata": {},
   "outputs": [
    {
     "name": "stderr",
     "output_type": "stream",
     "text": [
      "/home/amyltsev/anaconda2/envs/snakes3/lib/python3.4/site-packages/sklearn/cross_validation.py:41: DeprecationWarning: This module was deprecated in version 0.18 in favor of the model_selection module into which all the refactored classes and functions are moved. Also note that the interface of the new CV iterators are different from that of this module. This module will be removed in 0.20.\n",
      "  \"This module will be removed in 0.20.\", DeprecationWarning)\n",
      "/home/amyltsev/anaconda2/envs/snakes3/lib/python3.4/site-packages/sklearn/learning_curve.py:22: DeprecationWarning: This module was deprecated in version 0.18 in favor of the model_selection module into which all the functions are moved. This module will be removed in 0.20\n",
      "  DeprecationWarning)\n",
      "/home/amyltsev/anaconda2/envs/snakes3/lib/python3.4/site-packages/sklearn/grid_search.py:42: DeprecationWarning: This module was deprecated in version 0.18 in favor of the model_selection module into which all the refactored classes and functions are moved. This module will be removed in 0.20.\n",
      "  DeprecationWarning)\n"
     ]
    }
   ],
   "source": [
    "from sklearn import ensemble, cross_validation, learning_curve, metrics \n",
    "\n",
    "import numpy as np\n",
    "import pandas as pd\n",
    "import xgboost as xgb\n",
    "import pandas as pd\n",
    "import numpy as np\n",
    "from sklearn.metrics import roc_auc_score\n",
    "#from lightgbm import LGBMClassifier\n",
    "from sklearn.model_selection import train_test_split\n",
    "import matplotlib.pyplot as plt\n",
    "from sklearn.linear_model import SGDClassifier\n",
    "from sklearn.ensemble import RandomForestClassifier\n",
    "from sklearn.utils import resample\n",
    "from sklearn.grid_search import GridSearchCV\n",
    "import re\n",
    "from sklearn.model_selection import cross_val_score\n",
    "from sklearn.feature_extraction.text import CountVectorizer\n",
    "from sklearn.feature_extraction.text import TfidfTransformer\n",
    "from sklearn.naive_bayes import MultinomialNB\n",
    "from sklearn.pipeline import Pipeline, make_pipeline\n",
    "import xgboost as xgb\n",
    "import pymorphy2\n",
    "from sklearn.preprocessing import LabelEncoder\n",
    "\n",
    "import pymystem3\n",
    "from natasha import NamesExtractor\n",
    "# pd.options.mode.chained_assignment = None"
   ]
  },
  {
   "cell_type": "code",
   "execution_count": 2,
   "metadata": {},
   "outputs": [
    {
     "name": "stdout",
     "output_type": "stream",
     "text": [
      "Populating the interactive namespace from numpy and matplotlib\n"
     ]
    }
   ],
   "source": [
    "%pylab inline"
   ]
  },
  {
   "cell_type": "code",
   "execution_count": 3,
   "metadata": {},
   "outputs": [
    {
     "data": {
      "text/html": [
       "<div>\n",
       "<table border=\"1\" class=\"dataframe\">\n",
       "  <thead>\n",
       "    <tr style=\"text-align: right;\">\n",
       "      <th></th>\n",
       "      <th>Word</th>\n",
       "      <th>Label</th>\n",
       "    </tr>\n",
       "  </thead>\n",
       "  <tbody>\n",
       "    <tr>\n",
       "      <th>0</th>\n",
       "      <td>Аалтонен</td>\n",
       "      <td>1</td>\n",
       "    </tr>\n",
       "    <tr>\n",
       "      <th>1</th>\n",
       "      <td>Аар</td>\n",
       "      <td>0</td>\n",
       "    </tr>\n",
       "    <tr>\n",
       "      <th>2</th>\n",
       "      <td>Аарон</td>\n",
       "      <td>0</td>\n",
       "    </tr>\n",
       "    <tr>\n",
       "      <th>3</th>\n",
       "      <td>ААРОН</td>\n",
       "      <td>0</td>\n",
       "    </tr>\n",
       "    <tr>\n",
       "      <th>4</th>\n",
       "      <td>Аарона</td>\n",
       "      <td>0</td>\n",
       "    </tr>\n",
       "  </tbody>\n",
       "</table>\n",
       "</div>"
      ],
      "text/plain": [
       "       Word  Label\n",
       "0  Аалтонен      1\n",
       "1       Аар      0\n",
       "2     Аарон      0\n",
       "3     ААРОН      0\n",
       "4    Аарона      0"
      ]
     },
     "execution_count": 3,
     "metadata": {},
     "output_type": "execute_result"
    }
   ],
   "source": [
    "names_data=pd.read_csv('train.csv')\n",
    "names_test = pd.read_csv('test.csv')\n",
    "names_data.head()"
   ]
  },
  {
   "cell_type": "code",
   "execution_count": 4,
   "metadata": {},
   "outputs": [
    {
     "data": {
      "text/html": [
       "<div>\n",
       "<table border=\"1\" class=\"dataframe\">\n",
       "  <thead>\n",
       "    <tr style=\"text-align: right;\">\n",
       "      <th></th>\n",
       "      <th></th>\n",
       "      <th>Word</th>\n",
       "    </tr>\n",
       "    <tr>\n",
       "      <th>Label</th>\n",
       "      <th></th>\n",
       "      <th></th>\n",
       "    </tr>\n",
       "  </thead>\n",
       "  <tbody>\n",
       "    <tr>\n",
       "      <th rowspan=\"4\" valign=\"top\">0</th>\n",
       "      <th>count</th>\n",
       "      <td>90770</td>\n",
       "    </tr>\n",
       "    <tr>\n",
       "      <th>unique</th>\n",
       "      <td>90769</td>\n",
       "    </tr>\n",
       "    <tr>\n",
       "      <th>top</th>\n",
       "      <td>кунгфу</td>\n",
       "    </tr>\n",
       "    <tr>\n",
       "      <th>freq</th>\n",
       "      <td>2</td>\n",
       "    </tr>\n",
       "    <tr>\n",
       "      <th rowspan=\"4\" valign=\"top\">1</th>\n",
       "      <th>count</th>\n",
       "      <td>10638</td>\n",
       "    </tr>\n",
       "    <tr>\n",
       "      <th>unique</th>\n",
       "      <td>10638</td>\n",
       "    </tr>\n",
       "    <tr>\n",
       "      <th>top</th>\n",
       "      <td>Винклеру</td>\n",
       "    </tr>\n",
       "    <tr>\n",
       "      <th>freq</th>\n",
       "      <td>1</td>\n",
       "    </tr>\n",
       "  </tbody>\n",
       "</table>\n",
       "</div>"
      ],
      "text/plain": [
       "                  Word\n",
       "Label                 \n",
       "0     count      90770\n",
       "      unique     90769\n",
       "      top       кунгфу\n",
       "      freq           2\n",
       "1     count      10638\n",
       "      unique     10638\n",
       "      top     Винклеру\n",
       "      freq           1"
      ]
     },
     "execution_count": 4,
     "metadata": {},
     "output_type": "execute_result"
    }
   ],
   "source": [
    "names_data.groupby('Label').describe()"
   ]
  },
  {
   "cell_type": "code",
   "execution_count": 5,
   "metadata": {
    "collapsed": true
   },
   "outputs": [],
   "source": [
    "names_data = pd.read_csv('train.csv')\n",
    "X = names_data['Word']\n",
    "y = names_data['Label']\n",
    "del names_data"
   ]
  },
  {
   "cell_type": "code",
   "execution_count": null,
   "metadata": {
    "collapsed": true
   },
   "outputs": [],
   "source": []
  },
  {
   "cell_type": "markdown",
   "metadata": {},
   "source": [
    "Генерация фич\n",
    "==="
   ]
  },
  {
   "cell_type": "code",
   "execution_count": 6,
   "metadata": {
    "collapsed": true
   },
   "outputs": [],
   "source": [
    "X__all_words = set(X.str.lower())"
   ]
  },
  {
   "cell_type": "code",
   "execution_count": 9,
   "metadata": {},
   "outputs": [],
   "source": [
    "words_both_labels = set(\n",
    "    pd.concat([X, y], axis=1) \\\n",
    "        .groupby(by='Word').filter(lambda x: set(x.Label) == {0,1}) \\\n",
    "        .Word\n",
    ")"
   ]
  },
  {
   "cell_type": "code",
   "execution_count": 10,
   "metadata": {},
   "outputs": [],
   "source": [
    "morph = pymorphy2.MorphAnalyzer()\n",
    "mystem = pymystem3.Mystem()\n",
    "func = NamesExtractor()\n",
    "\n",
    "def get_features(words):\n",
    "    result = pd.DataFrame()\n",
    "    \n",
    "    result['word_len'] = words.apply(lambda w: len(w))\n",
    "    \n",
    "    result['pymorphy'] = words.apply(lambda x: morph.tag(x)[0])\n",
    "    result['pymorphy_animacy'] = result['pymorphy'].apply(lambda x: x.animacy)\n",
    "    result['pymorphy_POS'] = result['pymorphy'].apply(lambda x: x.POS)\n",
    "    result['pymorphy_case'] = result['pymorphy'].apply(lambda x: x.case)\n",
    "    result['pymorphy_number'] = result['pymorphy'].apply(lambda x: x.number)\n",
    "    result['pymorphy_gender'] = result['pymorphy'].apply(lambda x: x.gender)\n",
    "    result.drop('pymorphy', axis=1, inplace=True)\n",
    "    \n",
    "    columns_to_one_hot = ['pymorphy_animacy', 'pymorphy_POS', 'pymorphy_case','pymorphy_number', 'pymorphy_gender']\n",
    "    for col in columns_to_one_hot:\n",
    "        result[col] = LabelEncoder().fit_transform(list(result[col].fillna('nan')))\n",
    "    \n",
    "    result['first_letter_uppercase'] = words.apply(lambda w: (w[0].isupper()))\n",
    "    result['all_uppercase'] = words.apply(lambda w: (w.isupper()))\n",
    "\n",
    "    #russian_alphabet = 'абвгдежзийклмнопрстуфхцчшщъыьэюя-'\n",
    "    #for char in russian_alphabet:\n",
    "    #    names_data[char] = names['Word'].apply(lambda w: char in w.lower())\n",
    "    \n",
    "    allowed_vowel = set('уеёыаоэяию')\n",
    "    allowed_consonant = set('йцкнгшщзхъфвпрлджчсмтьб')\n",
    "    allowed_letters = allowed_vowel | allowed_consonant | set(\"-’'\")\n",
    "    \n",
    "    result['allowed_chars_only'] = words.apply(lambda w: (len(set(w.lower()) - allowed_letters) == 0))\n",
    "    result['vowels_count'] = words.apply(lambda w: len([c for c in w.lower() if c in allowed_vowel]))\n",
    "    result['consonants_count'] = words.apply(lambda w: len([c for c in w.lower() if c in allowed_consonant]))\n",
    "    \n",
    "    def femine_gender(w):\n",
    "        w = w.lower()\n",
    "        male_gender = (w[-1] in allowed_consonant) and ((w + 'а') in X__all_words)\n",
    "        fem_gender  = (w[-1] == 'а') and (w[:-1] in X__all_words)\n",
    "        return male_gender or fem_gender\n",
    "    result['has_feminine_gender'] = words.apply(femine_gender)\n",
    "    \n",
    "    ###########\n",
    "    # PyMyStem\n",
    "    ###########\n",
    "    def name_from_pymystem(word):\n",
    "        try:\n",
    "            return 1 if 'имя' in mystem.analyze(word)[0]['analysis'][0]['gr'].split(',') else 0\n",
    "        except:\n",
    "            return 0\n",
    "\n",
    "    def surn_from_pymystem(word):\n",
    "        try:\n",
    "            return 1 if 'фам' in mystem.analyze(word)[0]['analysis'][0]['gr'].split(',') else 0\n",
    "        except:\n",
    "            return 0\n",
    "    result['name_from_pymystem'] = words.apply(name_from_pymystem)\n",
    "    result['surn_from_pymystem'] = words.apply(surn_from_pymystem)\n",
    "    \n",
    "    ###########\n",
    "    # Natasha\n",
    "    ###########\n",
    "    def function_natasha(word):\n",
    "        return 1 if func(word) else 0\n",
    "    result['natasha_person'] = words.apply(function_natasha)\n",
    "    \n",
    "\n",
    "    forbidden_chars = set('./0123456789«·»éó')\n",
    "    result['has_special_char'] = words.apply(lambda w: (len(set(w.lower()) & forbidden_chars) > 0))\n",
    "    \n",
    "    result['in_both_classes'] = words.apply(lambda w: (w.lower() in words_both_labels))\n",
    "\n",
    "    #result['Word'] = words\n",
    "    #result['Label'] = words['Label']\n",
    "    #names_data[names_data['has_invalid_char']]\n",
    "    \n",
    "    return result\n",
    "\n",
    "#ddd=pd.concat([get_features(X_train), X_train, y_train], axis=1).sort_index()\n",
    "#ddd[ddd.Label].head(20)"
   ]
  },
  {
   "cell_type": "code",
   "execution_count": 11,
   "metadata": {},
   "outputs": [],
   "source": [
    "X__features = get_features(X)"
   ]
  },
  {
   "cell_type": "code",
   "execution_count": 12,
   "metadata": {},
   "outputs": [
    {
     "data": {
      "text/html": [
       "<div>\n",
       "<table border=\"1\" class=\"dataframe\">\n",
       "  <thead>\n",
       "    <tr style=\"text-align: right;\">\n",
       "      <th></th>\n",
       "      <th>word_len</th>\n",
       "      <th>pymorphy_animacy</th>\n",
       "      <th>pymorphy_POS</th>\n",
       "      <th>pymorphy_case</th>\n",
       "      <th>pymorphy_number</th>\n",
       "      <th>pymorphy_gender</th>\n",
       "      <th>first_letter_uppercase</th>\n",
       "      <th>all_uppercase</th>\n",
       "      <th>allowed_chars_only</th>\n",
       "      <th>vowels_count</th>\n",
       "      <th>consonants_count</th>\n",
       "      <th>has_feminine_gender</th>\n",
       "      <th>name_from_pymystem</th>\n",
       "      <th>surn_from_pymystem</th>\n",
       "      <th>natasha_person</th>\n",
       "      <th>has_special_char</th>\n",
       "      <th>in_both_classes</th>\n",
       "    </tr>\n",
       "  </thead>\n",
       "  <tbody>\n",
       "    <tr>\n",
       "      <th>101401</th>\n",
       "      <td>4</td>\n",
       "      <td>1</td>\n",
       "      <td>8</td>\n",
       "      <td>8</td>\n",
       "      <td>2</td>\n",
       "      <td>1</td>\n",
       "      <td>False</td>\n",
       "      <td>False</td>\n",
       "      <td>True</td>\n",
       "      <td>2</td>\n",
       "      <td>2</td>\n",
       "      <td>True</td>\n",
       "      <td>0</td>\n",
       "      <td>0</td>\n",
       "      <td>0</td>\n",
       "      <td>False</td>\n",
       "      <td>False</td>\n",
       "    </tr>\n",
       "    <tr>\n",
       "      <th>101402</th>\n",
       "      <td>5</td>\n",
       "      <td>1</td>\n",
       "      <td>8</td>\n",
       "      <td>4</td>\n",
       "      <td>2</td>\n",
       "      <td>1</td>\n",
       "      <td>False</td>\n",
       "      <td>False</td>\n",
       "      <td>True</td>\n",
       "      <td>3</td>\n",
       "      <td>2</td>\n",
       "      <td>True</td>\n",
       "      <td>0</td>\n",
       "      <td>0</td>\n",
       "      <td>0</td>\n",
       "      <td>False</td>\n",
       "      <td>False</td>\n",
       "    </tr>\n",
       "    <tr>\n",
       "      <th>101403</th>\n",
       "      <td>5</td>\n",
       "      <td>0</td>\n",
       "      <td>8</td>\n",
       "      <td>8</td>\n",
       "      <td>2</td>\n",
       "      <td>1</td>\n",
       "      <td>True</td>\n",
       "      <td>False</td>\n",
       "      <td>True</td>\n",
       "      <td>2</td>\n",
       "      <td>3</td>\n",
       "      <td>False</td>\n",
       "      <td>0</td>\n",
       "      <td>1</td>\n",
       "      <td>0</td>\n",
       "      <td>False</td>\n",
       "      <td>False</td>\n",
       "    </tr>\n",
       "    <tr>\n",
       "      <th>101404</th>\n",
       "      <td>5</td>\n",
       "      <td>1</td>\n",
       "      <td>8</td>\n",
       "      <td>0</td>\n",
       "      <td>2</td>\n",
       "      <td>0</td>\n",
       "      <td>False</td>\n",
       "      <td>False</td>\n",
       "      <td>True</td>\n",
       "      <td>2</td>\n",
       "      <td>3</td>\n",
       "      <td>False</td>\n",
       "      <td>0</td>\n",
       "      <td>0</td>\n",
       "      <td>0</td>\n",
       "      <td>False</td>\n",
       "      <td>False</td>\n",
       "    </tr>\n",
       "    <tr>\n",
       "      <th>101405</th>\n",
       "      <td>4</td>\n",
       "      <td>1</td>\n",
       "      <td>8</td>\n",
       "      <td>4</td>\n",
       "      <td>1</td>\n",
       "      <td>0</td>\n",
       "      <td>False</td>\n",
       "      <td>False</td>\n",
       "      <td>True</td>\n",
       "      <td>2</td>\n",
       "      <td>2</td>\n",
       "      <td>False</td>\n",
       "      <td>0</td>\n",
       "      <td>0</td>\n",
       "      <td>0</td>\n",
       "      <td>False</td>\n",
       "      <td>False</td>\n",
       "    </tr>\n",
       "    <tr>\n",
       "      <th>101406</th>\n",
       "      <td>7</td>\n",
       "      <td>1</td>\n",
       "      <td>8</td>\n",
       "      <td>0</td>\n",
       "      <td>2</td>\n",
       "      <td>0</td>\n",
       "      <td>False</td>\n",
       "      <td>False</td>\n",
       "      <td>True</td>\n",
       "      <td>3</td>\n",
       "      <td>4</td>\n",
       "      <td>False</td>\n",
       "      <td>0</td>\n",
       "      <td>0</td>\n",
       "      <td>0</td>\n",
       "      <td>False</td>\n",
       "      <td>False</td>\n",
       "    </tr>\n",
       "    <tr>\n",
       "      <th>101407</th>\n",
       "      <td>7</td>\n",
       "      <td>1</td>\n",
       "      <td>8</td>\n",
       "      <td>8</td>\n",
       "      <td>2</td>\n",
       "      <td>0</td>\n",
       "      <td>False</td>\n",
       "      <td>False</td>\n",
       "      <td>True</td>\n",
       "      <td>2</td>\n",
       "      <td>5</td>\n",
       "      <td>False</td>\n",
       "      <td>0</td>\n",
       "      <td>0</td>\n",
       "      <td>0</td>\n",
       "      <td>False</td>\n",
       "      <td>False</td>\n",
       "    </tr>\n",
       "  </tbody>\n",
       "</table>\n",
       "</div>"
      ],
      "text/plain": [
       "        word_len  pymorphy_animacy  pymorphy_POS  pymorphy_case  \\\n",
       "101401         4                 1             8              8   \n",
       "101402         5                 1             8              4   \n",
       "101403         5                 0             8              8   \n",
       "101404         5                 1             8              0   \n",
       "101405         4                 1             8              4   \n",
       "101406         7                 1             8              0   \n",
       "101407         7                 1             8              8   \n",
       "\n",
       "        pymorphy_number  pymorphy_gender first_letter_uppercase all_uppercase  \\\n",
       "101401                2                1                  False         False   \n",
       "101402                2                1                  False         False   \n",
       "101403                2                1                   True         False   \n",
       "101404                2                0                  False         False   \n",
       "101405                1                0                  False         False   \n",
       "101406                2                0                  False         False   \n",
       "101407                2                0                  False         False   \n",
       "\n",
       "       allowed_chars_only  vowels_count  consonants_count has_feminine_gender  \\\n",
       "101401               True             2                 2                True   \n",
       "101402               True             3                 2                True   \n",
       "101403               True             2                 3               False   \n",
       "101404               True             2                 3               False   \n",
       "101405               True             2                 2               False   \n",
       "101406               True             3                 4               False   \n",
       "101407               True             2                 5               False   \n",
       "\n",
       "        name_from_pymystem  surn_from_pymystem  natasha_person  \\\n",
       "101401                   0                   0               0   \n",
       "101402                   0                   0               0   \n",
       "101403                   0                   1               0   \n",
       "101404                   0                   0               0   \n",
       "101405                   0                   0               0   \n",
       "101406                   0                   0               0   \n",
       "101407                   0                   0               0   \n",
       "\n",
       "       has_special_char in_both_classes  \n",
       "101401            False           False  \n",
       "101402            False           False  \n",
       "101403            False           False  \n",
       "101404            False           False  \n",
       "101405            False           False  \n",
       "101406            False           False  \n",
       "101407            False           False  "
      ]
     },
     "execution_count": 12,
     "metadata": {},
     "output_type": "execute_result"
    }
   ],
   "source": [
    "X__features.tail(n=7)"
   ]
  },
  {
   "cell_type": "code",
   "execution_count": null,
   "metadata": {
    "collapsed": true
   },
   "outputs": [],
   "source": []
  },
  {
   "cell_type": "markdown",
   "metadata": {},
   "source": [
    "### ngrams"
   ]
  },
  {
   "cell_type": "code",
   "execution_count": 13,
   "metadata": {},
   "outputs": [
    {
     "data": {
      "text/plain": [
       "101408"
      ]
     },
     "execution_count": 13,
     "metadata": {},
     "output_type": "execute_result"
    }
   ],
   "source": [
    "names_test__index_start = len(X)\n",
    "names_test__index_start"
   ]
  },
  {
   "cell_type": "code",
   "execution_count": 15,
   "metadata": {},
   "outputs": [
    {
     "data": {
      "text/plain": [
       "Int64Index([101408, 101409, 101410, 101411, 101412, 101413, 101414, 101415,\n",
       "            101416, 101417,\n",
       "            ...\n",
       "            290318, 290319, 290320, 290321, 290322, 290323, 290324, 290325,\n",
       "            290326, 290327],\n",
       "           dtype='int64', length=188920)"
      ]
     },
     "execution_count": 15,
     "metadata": {},
     "output_type": "execute_result"
    }
   ],
   "source": [
    "names_data=pd.read_csv('train.csv')\n",
    "\n",
    "names_test__copy = names_test.copy()\n",
    "names_test__copy.index += names_data.index.max() + 1\n",
    "names_test__copy.index"
   ]
  },
  {
   "cell_type": "code",
   "execution_count": 16,
   "metadata": {},
   "outputs": [
    {
     "data": {
      "text/html": [
       "<div>\n",
       "<table border=\"1\" class=\"dataframe\">\n",
       "  <thead>\n",
       "    <tr style=\"text-align: right;\">\n",
       "      <th></th>\n",
       "      <th>Label</th>\n",
       "      <th>Word</th>\n",
       "    </tr>\n",
       "  </thead>\n",
       "  <tbody>\n",
       "    <tr>\n",
       "      <th>101404</th>\n",
       "      <td>0.0</td>\n",
       "      <td>ёлкой</td>\n",
       "    </tr>\n",
       "    <tr>\n",
       "      <th>101405</th>\n",
       "      <td>0.0</td>\n",
       "      <td>ёлок</td>\n",
       "    </tr>\n",
       "    <tr>\n",
       "      <th>101406</th>\n",
       "      <td>0.0</td>\n",
       "      <td>ёлочкой</td>\n",
       "    </tr>\n",
       "    <tr>\n",
       "      <th>101407</th>\n",
       "      <td>0.0</td>\n",
       "      <td>ёмкость</td>\n",
       "    </tr>\n",
       "    <tr>\n",
       "      <th>101408</th>\n",
       "      <td>NaN</td>\n",
       "      <td>Аалто</td>\n",
       "    </tr>\n",
       "    <tr>\n",
       "      <th>101409</th>\n",
       "      <td>NaN</td>\n",
       "      <td>ААР</td>\n",
       "    </tr>\n",
       "    <tr>\n",
       "      <th>101410</th>\n",
       "      <td>NaN</td>\n",
       "      <td>Аара</td>\n",
       "    </tr>\n",
       "    <tr>\n",
       "      <th>101411</th>\n",
       "      <td>NaN</td>\n",
       "      <td>Ааре</td>\n",
       "    </tr>\n",
       "  </tbody>\n",
       "</table>\n",
       "</div>"
      ],
      "text/plain": [
       "        Label     Word\n",
       "101404    0.0    ёлкой\n",
       "101405    0.0     ёлок\n",
       "101406    0.0  ёлочкой\n",
       "101407    0.0  ёмкость\n",
       "101408    NaN    Аалто\n",
       "101409    NaN      ААР\n",
       "101410    NaN     Аара\n",
       "101411    NaN     Ааре"
      ]
     },
     "execution_count": 16,
     "metadata": {},
     "output_type": "execute_result"
    }
   ],
   "source": [
    "names_all = pd.concat([names_data, names_test__copy])\n",
    "names_all[101404:101412]"
   ]
  },
  {
   "cell_type": "code",
   "execution_count": 17,
   "metadata": {
    "collapsed": true
   },
   "outputs": [],
   "source": [
    "bigram_vectorizer = CountVectorizer(analyzer='char_wb', ngram_range=(2,10), \n",
    "                                    max_features=5000, encoding='utf8')\n",
    "for_tf_idf = bigram_vectorizer.fit_transform(names_all.Word.apply(str.lower).tolist())\n",
    "tfidf_sparse = TfidfTransformer(use_idf=True).fit_transform(for_tf_idf)"
   ]
  },
  {
   "cell_type": "code",
   "execution_count": 18,
   "metadata": {},
   "outputs": [
    {
     "data": {
      "text/plain": [
       "((101408, 2), (188920, 1), (290328, 5000), (101408, 5000), (188920, 5000))"
      ]
     },
     "execution_count": 18,
     "metadata": {},
     "output_type": "execute_result"
    }
   ],
   "source": [
    "tfidf = pd.DataFrame(tfidf_sparse.toarray(), index=names_all.index,\n",
    "                     columns=['tf_idf_' + str(i) for i in range(tfidf_sparse.shape[1])])\n",
    "tfidf_train = tfidf.sort_index()[:names_data.index.max()+1]\n",
    "tfidf_test = tfidf.sort_index()[names_data.index.max()+1:]\n",
    "\n",
    "names_data.shape, names_test.shape, tfidf.shape, tfidf_train.shape, tfidf_test.shape"
   ]
  },
  {
   "cell_type": "code",
   "execution_count": 19,
   "metadata": {},
   "outputs": [
    {
     "data": {
      "text/html": [
       "<div>\n",
       "<table border=\"1\" class=\"dataframe\">\n",
       "  <thead>\n",
       "    <tr style=\"text-align: right;\">\n",
       "      <th></th>\n",
       "      <th>tf_idf_0</th>\n",
       "      <th>tf_idf_1</th>\n",
       "      <th>tf_idf_2</th>\n",
       "      <th>tf_idf_3</th>\n",
       "      <th>tf_idf_4</th>\n",
       "      <th>tf_idf_5</th>\n",
       "      <th>tf_idf_6</th>\n",
       "      <th>tf_idf_7</th>\n",
       "      <th>tf_idf_8</th>\n",
       "      <th>tf_idf_9</th>\n",
       "      <th>...</th>\n",
       "      <th>tf_idf_4990</th>\n",
       "      <th>tf_idf_4991</th>\n",
       "      <th>tf_idf_4992</th>\n",
       "      <th>tf_idf_4993</th>\n",
       "      <th>tf_idf_4994</th>\n",
       "      <th>tf_idf_4995</th>\n",
       "      <th>tf_idf_4996</th>\n",
       "      <th>tf_idf_4997</th>\n",
       "      <th>tf_idf_4998</th>\n",
       "      <th>tf_idf_4999</th>\n",
       "    </tr>\n",
       "  </thead>\n",
       "  <tbody>\n",
       "    <tr>\n",
       "      <th>290323</th>\n",
       "      <td>0.0</td>\n",
       "      <td>0.0</td>\n",
       "      <td>0.0</td>\n",
       "      <td>0.0</td>\n",
       "      <td>0.0</td>\n",
       "      <td>0.0</td>\n",
       "      <td>0.0</td>\n",
       "      <td>0.0</td>\n",
       "      <td>0.0</td>\n",
       "      <td>0.0</td>\n",
       "      <td>...</td>\n",
       "      <td>0.000000</td>\n",
       "      <td>0.000000</td>\n",
       "      <td>0.0</td>\n",
       "      <td>0.0</td>\n",
       "      <td>0.0</td>\n",
       "      <td>0.0</td>\n",
       "      <td>0.388803</td>\n",
       "      <td>0.0</td>\n",
       "      <td>0.0</td>\n",
       "      <td>0.0</td>\n",
       "    </tr>\n",
       "    <tr>\n",
       "      <th>290324</th>\n",
       "      <td>0.0</td>\n",
       "      <td>0.0</td>\n",
       "      <td>0.0</td>\n",
       "      <td>0.0</td>\n",
       "      <td>0.0</td>\n",
       "      <td>0.0</td>\n",
       "      <td>0.0</td>\n",
       "      <td>0.0</td>\n",
       "      <td>0.0</td>\n",
       "      <td>0.0</td>\n",
       "      <td>...</td>\n",
       "      <td>0.000000</td>\n",
       "      <td>0.000000</td>\n",
       "      <td>0.0</td>\n",
       "      <td>0.0</td>\n",
       "      <td>0.0</td>\n",
       "      <td>0.0</td>\n",
       "      <td>0.388803</td>\n",
       "      <td>0.0</td>\n",
       "      <td>0.0</td>\n",
       "      <td>0.0</td>\n",
       "    </tr>\n",
       "    <tr>\n",
       "      <th>290325</th>\n",
       "      <td>0.0</td>\n",
       "      <td>0.0</td>\n",
       "      <td>0.0</td>\n",
       "      <td>0.0</td>\n",
       "      <td>0.0</td>\n",
       "      <td>0.0</td>\n",
       "      <td>0.0</td>\n",
       "      <td>0.0</td>\n",
       "      <td>0.0</td>\n",
       "      <td>0.0</td>\n",
       "      <td>...</td>\n",
       "      <td>0.000000</td>\n",
       "      <td>0.000000</td>\n",
       "      <td>0.0</td>\n",
       "      <td>0.0</td>\n",
       "      <td>0.0</td>\n",
       "      <td>0.0</td>\n",
       "      <td>0.361601</td>\n",
       "      <td>0.0</td>\n",
       "      <td>0.0</td>\n",
       "      <td>0.0</td>\n",
       "    </tr>\n",
       "    <tr>\n",
       "      <th>290326</th>\n",
       "      <td>0.0</td>\n",
       "      <td>0.0</td>\n",
       "      <td>0.0</td>\n",
       "      <td>0.0</td>\n",
       "      <td>0.0</td>\n",
       "      <td>0.0</td>\n",
       "      <td>0.0</td>\n",
       "      <td>0.0</td>\n",
       "      <td>0.0</td>\n",
       "      <td>0.0</td>\n",
       "      <td>...</td>\n",
       "      <td>0.000000</td>\n",
       "      <td>0.000000</td>\n",
       "      <td>0.0</td>\n",
       "      <td>0.0</td>\n",
       "      <td>0.0</td>\n",
       "      <td>0.0</td>\n",
       "      <td>0.307834</td>\n",
       "      <td>0.0</td>\n",
       "      <td>0.0</td>\n",
       "      <td>0.0</td>\n",
       "    </tr>\n",
       "    <tr>\n",
       "      <th>290327</th>\n",
       "      <td>0.0</td>\n",
       "      <td>0.0</td>\n",
       "      <td>0.0</td>\n",
       "      <td>0.0</td>\n",
       "      <td>0.0</td>\n",
       "      <td>0.0</td>\n",
       "      <td>0.0</td>\n",
       "      <td>0.0</td>\n",
       "      <td>0.0</td>\n",
       "      <td>0.0</td>\n",
       "      <td>...</td>\n",
       "      <td>0.229257</td>\n",
       "      <td>0.230887</td>\n",
       "      <td>0.0</td>\n",
       "      <td>0.0</td>\n",
       "      <td>0.0</td>\n",
       "      <td>0.0</td>\n",
       "      <td>0.328147</td>\n",
       "      <td>0.0</td>\n",
       "      <td>0.0</td>\n",
       "      <td>0.0</td>\n",
       "    </tr>\n",
       "  </tbody>\n",
       "</table>\n",
       "<p>5 rows × 5000 columns</p>\n",
       "</div>"
      ],
      "text/plain": [
       "        tf_idf_0  tf_idf_1  tf_idf_2  tf_idf_3  tf_idf_4  tf_idf_5  tf_idf_6  \\\n",
       "290323       0.0       0.0       0.0       0.0       0.0       0.0       0.0   \n",
       "290324       0.0       0.0       0.0       0.0       0.0       0.0       0.0   \n",
       "290325       0.0       0.0       0.0       0.0       0.0       0.0       0.0   \n",
       "290326       0.0       0.0       0.0       0.0       0.0       0.0       0.0   \n",
       "290327       0.0       0.0       0.0       0.0       0.0       0.0       0.0   \n",
       "\n",
       "        tf_idf_7  tf_idf_8  tf_idf_9     ...       tf_idf_4990  tf_idf_4991  \\\n",
       "290323       0.0       0.0       0.0     ...          0.000000     0.000000   \n",
       "290324       0.0       0.0       0.0     ...          0.000000     0.000000   \n",
       "290325       0.0       0.0       0.0     ...          0.000000     0.000000   \n",
       "290326       0.0       0.0       0.0     ...          0.000000     0.000000   \n",
       "290327       0.0       0.0       0.0     ...          0.229257     0.230887   \n",
       "\n",
       "        tf_idf_4992  tf_idf_4993  tf_idf_4994  tf_idf_4995  tf_idf_4996  \\\n",
       "290323          0.0          0.0          0.0          0.0     0.388803   \n",
       "290324          0.0          0.0          0.0          0.0     0.388803   \n",
       "290325          0.0          0.0          0.0          0.0     0.361601   \n",
       "290326          0.0          0.0          0.0          0.0     0.307834   \n",
       "290327          0.0          0.0          0.0          0.0     0.328147   \n",
       "\n",
       "        tf_idf_4997  tf_idf_4998  tf_idf_4999  \n",
       "290323          0.0          0.0          0.0  \n",
       "290324          0.0          0.0          0.0  \n",
       "290325          0.0          0.0          0.0  \n",
       "290326          0.0          0.0          0.0  \n",
       "290327          0.0          0.0          0.0  \n",
       "\n",
       "[5 rows x 5000 columns]"
      ]
     },
     "execution_count": 19,
     "metadata": {},
     "output_type": "execute_result"
    }
   ],
   "source": [
    "tfidf.tail()"
   ]
  },
  {
   "cell_type": "code",
   "execution_count": 20,
   "metadata": {},
   "outputs": [],
   "source": [
    "del names_data, names_all"
   ]
  },
  {
   "cell_type": "code",
   "execution_count": null,
   "metadata": {
    "collapsed": true
   },
   "outputs": [],
   "source": []
  },
  {
   "cell_type": "code",
   "execution_count": 21,
   "metadata": {},
   "outputs": [],
   "source": [
    "X__features_tfidf = pd.concat([X__features, tfidf_train], axis=1)"
   ]
  },
  {
   "cell_type": "code",
   "execution_count": 22,
   "metadata": {
    "collapsed": true
   },
   "outputs": [],
   "source": [
    "X_train, X_valid, y_train, y_valid = train_test_split(X__features_tfidf, y, test_size=.2, random_state=42)"
   ]
  },
  {
   "cell_type": "code",
   "execution_count": 23,
   "metadata": {},
   "outputs": [
    {
     "data": {
      "text/html": [
       "<div>\n",
       "<table border=\"1\" class=\"dataframe\">\n",
       "  <thead>\n",
       "    <tr style=\"text-align: right;\">\n",
       "      <th></th>\n",
       "      <th>word_len</th>\n",
       "      <th>pymorphy_animacy</th>\n",
       "      <th>pymorphy_POS</th>\n",
       "      <th>pymorphy_case</th>\n",
       "      <th>pymorphy_number</th>\n",
       "      <th>pymorphy_gender</th>\n",
       "      <th>first_letter_uppercase</th>\n",
       "      <th>all_uppercase</th>\n",
       "      <th>allowed_chars_only</th>\n",
       "      <th>vowels_count</th>\n",
       "      <th>...</th>\n",
       "      <th>tf_idf_4990</th>\n",
       "      <th>tf_idf_4991</th>\n",
       "      <th>tf_idf_4992</th>\n",
       "      <th>tf_idf_4993</th>\n",
       "      <th>tf_idf_4994</th>\n",
       "      <th>tf_idf_4995</th>\n",
       "      <th>tf_idf_4996</th>\n",
       "      <th>tf_idf_4997</th>\n",
       "      <th>tf_idf_4998</th>\n",
       "      <th>tf_idf_4999</th>\n",
       "    </tr>\n",
       "  </thead>\n",
       "  <tbody>\n",
       "    <tr>\n",
       "      <th>63786</th>\n",
       "      <td>10</td>\n",
       "      <td>0</td>\n",
       "      <td>8</td>\n",
       "      <td>0</td>\n",
       "      <td>1</td>\n",
       "      <td>0</td>\n",
       "      <td>False</td>\n",
       "      <td>False</td>\n",
       "      <td>True</td>\n",
       "      <td>5</td>\n",
       "      <td>...</td>\n",
       "      <td>0.0</td>\n",
       "      <td>0.0</td>\n",
       "      <td>0.0</td>\n",
       "      <td>0.0</td>\n",
       "      <td>0.0</td>\n",
       "      <td>0.0</td>\n",
       "      <td>0.0</td>\n",
       "      <td>0.0</td>\n",
       "      <td>0.0</td>\n",
       "      <td>0.0</td>\n",
       "    </tr>\n",
       "    <tr>\n",
       "      <th>48947</th>\n",
       "      <td>17</td>\n",
       "      <td>0</td>\n",
       "      <td>8</td>\n",
       "      <td>6</td>\n",
       "      <td>2</td>\n",
       "      <td>1</td>\n",
       "      <td>False</td>\n",
       "      <td>False</td>\n",
       "      <td>True</td>\n",
       "      <td>7</td>\n",
       "      <td>...</td>\n",
       "      <td>0.0</td>\n",
       "      <td>0.0</td>\n",
       "      <td>0.0</td>\n",
       "      <td>0.0</td>\n",
       "      <td>0.0</td>\n",
       "      <td>0.0</td>\n",
       "      <td>0.0</td>\n",
       "      <td>0.0</td>\n",
       "      <td>0.0</td>\n",
       "      <td>0.0</td>\n",
       "    </tr>\n",
       "    <tr>\n",
       "      <th>83846</th>\n",
       "      <td>11</td>\n",
       "      <td>1</td>\n",
       "      <td>8</td>\n",
       "      <td>6</td>\n",
       "      <td>1</td>\n",
       "      <td>1</td>\n",
       "      <td>False</td>\n",
       "      <td>False</td>\n",
       "      <td>True</td>\n",
       "      <td>4</td>\n",
       "      <td>...</td>\n",
       "      <td>0.0</td>\n",
       "      <td>0.0</td>\n",
       "      <td>0.0</td>\n",
       "      <td>0.0</td>\n",
       "      <td>0.0</td>\n",
       "      <td>0.0</td>\n",
       "      <td>0.0</td>\n",
       "      <td>0.0</td>\n",
       "      <td>0.0</td>\n",
       "      <td>0.0</td>\n",
       "    </tr>\n",
       "    <tr>\n",
       "      <th>59674</th>\n",
       "      <td>9</td>\n",
       "      <td>1</td>\n",
       "      <td>8</td>\n",
       "      <td>2</td>\n",
       "      <td>2</td>\n",
       "      <td>1</td>\n",
       "      <td>False</td>\n",
       "      <td>False</td>\n",
       "      <td>True</td>\n",
       "      <td>4</td>\n",
       "      <td>...</td>\n",
       "      <td>0.0</td>\n",
       "      <td>0.0</td>\n",
       "      <td>0.0</td>\n",
       "      <td>0.0</td>\n",
       "      <td>0.0</td>\n",
       "      <td>0.0</td>\n",
       "      <td>0.0</td>\n",
       "      <td>0.0</td>\n",
       "      <td>0.0</td>\n",
       "      <td>0.0</td>\n",
       "    </tr>\n",
       "    <tr>\n",
       "      <th>13575</th>\n",
       "      <td>9</td>\n",
       "      <td>1</td>\n",
       "      <td>8</td>\n",
       "      <td>4</td>\n",
       "      <td>1</td>\n",
       "      <td>1</td>\n",
       "      <td>True</td>\n",
       "      <td>False</td>\n",
       "      <td>True</td>\n",
       "      <td>3</td>\n",
       "      <td>...</td>\n",
       "      <td>0.0</td>\n",
       "      <td>0.0</td>\n",
       "      <td>0.0</td>\n",
       "      <td>0.0</td>\n",
       "      <td>0.0</td>\n",
       "      <td>0.0</td>\n",
       "      <td>0.0</td>\n",
       "      <td>0.0</td>\n",
       "      <td>0.0</td>\n",
       "      <td>0.0</td>\n",
       "    </tr>\n",
       "  </tbody>\n",
       "</table>\n",
       "<p>5 rows × 5017 columns</p>\n",
       "</div>"
      ],
      "text/plain": [
       "       word_len  pymorphy_animacy  pymorphy_POS  pymorphy_case  \\\n",
       "63786        10                 0             8              0   \n",
       "48947        17                 0             8              6   \n",
       "83846        11                 1             8              6   \n",
       "59674         9                 1             8              2   \n",
       "13575         9                 1             8              4   \n",
       "\n",
       "       pymorphy_number  pymorphy_gender first_letter_uppercase all_uppercase  \\\n",
       "63786                1                0                  False         False   \n",
       "48947                2                1                  False         False   \n",
       "83846                1                1                  False         False   \n",
       "59674                2                1                  False         False   \n",
       "13575                1                1                   True         False   \n",
       "\n",
       "      allowed_chars_only  vowels_count     ...       tf_idf_4990 tf_idf_4991  \\\n",
       "63786               True             5     ...               0.0         0.0   \n",
       "48947               True             7     ...               0.0         0.0   \n",
       "83846               True             4     ...               0.0         0.0   \n",
       "59674               True             4     ...               0.0         0.0   \n",
       "13575               True             3     ...               0.0         0.0   \n",
       "\n",
       "       tf_idf_4992  tf_idf_4993  tf_idf_4994 tf_idf_4995 tf_idf_4996  \\\n",
       "63786          0.0          0.0          0.0         0.0         0.0   \n",
       "48947          0.0          0.0          0.0         0.0         0.0   \n",
       "83846          0.0          0.0          0.0         0.0         0.0   \n",
       "59674          0.0          0.0          0.0         0.0         0.0   \n",
       "13575          0.0          0.0          0.0         0.0         0.0   \n",
       "\n",
       "       tf_idf_4997  tf_idf_4998  tf_idf_4999  \n",
       "63786          0.0          0.0          0.0  \n",
       "48947          0.0          0.0          0.0  \n",
       "83846          0.0          0.0          0.0  \n",
       "59674          0.0          0.0          0.0  \n",
       "13575          0.0          0.0          0.0  \n",
       "\n",
       "[5 rows x 5017 columns]"
      ]
     },
     "execution_count": 23,
     "metadata": {},
     "output_type": "execute_result"
    }
   ],
   "source": [
    "X_train.head()"
   ]
  },
  {
   "cell_type": "code",
   "execution_count": 24,
   "metadata": {},
   "outputs": [
    {
     "data": {
      "text/plain": [
       "63786    0\n",
       "48947    0\n",
       "83846    0\n",
       "59674    0\n",
       "13575    0\n",
       "Name: Label, dtype: int64"
      ]
     },
     "execution_count": 24,
     "metadata": {},
     "output_type": "execute_result"
    }
   ],
   "source": [
    "y_train.head()"
   ]
  },
  {
   "cell_type": "code",
   "execution_count": 25,
   "metadata": {},
   "outputs": [
    {
     "data": {
      "text/plain": [
       "((81126, 5017), (81126,))"
      ]
     },
     "execution_count": 25,
     "metadata": {},
     "output_type": "execute_result"
    }
   ],
   "source": [
    "X_train.shape, y_train.shape"
   ]
  },
  {
   "cell_type": "markdown",
   "metadata": {},
   "source": [
    "Обучение модели\n",
    "==="
   ]
  },
  {
   "cell_type": "code",
   "execution_count": 26,
   "metadata": {
    "collapsed": true
   },
   "outputs": [],
   "source": [
    "d_train = xgb.DMatrix(X_train, label=y_train)\n",
    "d_valid = xgb.DMatrix(X_valid, label=y_valid)"
   ]
  },
  {
   "cell_type": "code",
   "execution_count": 27,
   "metadata": {
    "scrolled": true
   },
   "outputs": [
    {
     "name": "stdout",
     "output_type": "stream",
     "text": [
      "Training ...\n",
      "[0]\ttrain-auc:0.921544\tvalid-auc:0.912341\n",
      "Multiple eval metrics have been passed: 'valid-auc' will be used for early stopping.\n",
      "\n",
      "Will train until valid-auc hasn't improved in 500 rounds.\n",
      "[10]\ttrain-auc:0.943325\tvalid-auc:0.935371\n",
      "[20]\ttrain-auc:0.947072\tvalid-auc:0.936432\n",
      "[30]\ttrain-auc:0.949122\tvalid-auc:0.936616\n",
      "[40]\ttrain-auc:0.951316\tvalid-auc:0.936691\n",
      "[50]\ttrain-auc:0.953046\tvalid-auc:0.937209\n",
      "[60]\ttrain-auc:0.954478\tvalid-auc:0.937624\n",
      "[70]\ttrain-auc:0.955301\tvalid-auc:0.937826\n",
      "[80]\ttrain-auc:0.956212\tvalid-auc:0.937731\n",
      "[90]\ttrain-auc:0.957692\tvalid-auc:0.938416\n",
      "[100]\ttrain-auc:0.958724\tvalid-auc:0.938474\n",
      "[110]\ttrain-auc:0.959756\tvalid-auc:0.938911\n",
      "[120]\ttrain-auc:0.96039\tvalid-auc:0.938972\n",
      "[130]\ttrain-auc:0.961081\tvalid-auc:0.938979\n",
      "[140]\ttrain-auc:0.961799\tvalid-auc:0.939317\n",
      "[150]\ttrain-auc:0.962417\tvalid-auc:0.939435\n",
      "[160]\ttrain-auc:0.963091\tvalid-auc:0.939603\n",
      "[170]\ttrain-auc:0.963582\tvalid-auc:0.939452\n",
      "[180]\ttrain-auc:0.964303\tvalid-auc:0.939563\n",
      "[190]\ttrain-auc:0.965133\tvalid-auc:0.939973\n",
      "[200]\ttrain-auc:0.965864\tvalid-auc:0.940176\n",
      "[210]\ttrain-auc:0.966379\tvalid-auc:0.940129\n",
      "[220]\ttrain-auc:0.96688\tvalid-auc:0.939717\n",
      "[230]\ttrain-auc:0.967252\tvalid-auc:0.93994\n",
      "[240]\ttrain-auc:0.967762\tvalid-auc:0.9402\n",
      "[250]\ttrain-auc:0.96833\tvalid-auc:0.940222\n",
      "[260]\ttrain-auc:0.969107\tvalid-auc:0.940418\n",
      "[270]\ttrain-auc:0.969457\tvalid-auc:0.940506\n",
      "[280]\ttrain-auc:0.969876\tvalid-auc:0.940577\n",
      "[290]\ttrain-auc:0.970358\tvalid-auc:0.940698\n",
      "[300]\ttrain-auc:0.970689\tvalid-auc:0.940742\n",
      "[310]\ttrain-auc:0.970998\tvalid-auc:0.940992\n",
      "[320]\ttrain-auc:0.971439\tvalid-auc:0.940957\n",
      "[330]\ttrain-auc:0.971922\tvalid-auc:0.940959\n",
      "[340]\ttrain-auc:0.972343\tvalid-auc:0.940726\n",
      "[350]\ttrain-auc:0.972749\tvalid-auc:0.940693\n",
      "[360]\ttrain-auc:0.973085\tvalid-auc:0.940707\n",
      "[370]\ttrain-auc:0.973361\tvalid-auc:0.940654\n",
      "[380]\ttrain-auc:0.973676\tvalid-auc:0.940714\n",
      "[390]\ttrain-auc:0.973995\tvalid-auc:0.940696\n",
      "[400]\ttrain-auc:0.974329\tvalid-auc:0.940739\n",
      "[410]\ttrain-auc:0.974699\tvalid-auc:0.940808\n",
      "[420]\ttrain-auc:0.974955\tvalid-auc:0.940793\n",
      "[430]\ttrain-auc:0.975285\tvalid-auc:0.941009\n",
      "[440]\ttrain-auc:0.975582\tvalid-auc:0.940915\n",
      "[450]\ttrain-auc:0.976\tvalid-auc:0.940906\n",
      "[460]\ttrain-auc:0.976379\tvalid-auc:0.940987\n",
      "[470]\ttrain-auc:0.976681\tvalid-auc:0.941093\n",
      "[480]\ttrain-auc:0.976978\tvalid-auc:0.941102\n",
      "[490]\ttrain-auc:0.977284\tvalid-auc:0.941073\n",
      "[500]\ttrain-auc:0.977462\tvalid-auc:0.941173\n",
      "[510]\ttrain-auc:0.977855\tvalid-auc:0.941071\n",
      "[520]\ttrain-auc:0.978193\tvalid-auc:0.941221\n",
      "[530]\ttrain-auc:0.978555\tvalid-auc:0.941217\n",
      "[540]\ttrain-auc:0.978798\tvalid-auc:0.941267\n",
      "[550]\ttrain-auc:0.979046\tvalid-auc:0.941024\n",
      "[560]\ttrain-auc:0.979258\tvalid-auc:0.941122\n",
      "[570]\ttrain-auc:0.979509\tvalid-auc:0.940938\n",
      "[580]\ttrain-auc:0.979739\tvalid-auc:0.941058\n",
      "[590]\ttrain-auc:0.980019\tvalid-auc:0.941086\n",
      "[600]\ttrain-auc:0.980298\tvalid-auc:0.940969\n",
      "[610]\ttrain-auc:0.980485\tvalid-auc:0.940881\n",
      "[620]\ttrain-auc:0.980679\tvalid-auc:0.940942\n",
      "[630]\ttrain-auc:0.980907\tvalid-auc:0.940819\n",
      "[640]\ttrain-auc:0.981092\tvalid-auc:0.940874\n",
      "[650]\ttrain-auc:0.981363\tvalid-auc:0.940737\n",
      "[660]\ttrain-auc:0.981529\tvalid-auc:0.940923\n",
      "[670]\ttrain-auc:0.981701\tvalid-auc:0.940926\n",
      "[680]\ttrain-auc:0.981916\tvalid-auc:0.940777\n",
      "[690]\ttrain-auc:0.982104\tvalid-auc:0.940842\n",
      "[700]\ttrain-auc:0.982263\tvalid-auc:0.940798\n",
      "[710]\ttrain-auc:0.982443\tvalid-auc:0.940909\n",
      "[720]\ttrain-auc:0.982609\tvalid-auc:0.940816\n",
      "[730]\ttrain-auc:0.982789\tvalid-auc:0.940955\n",
      "[740]\ttrain-auc:0.982957\tvalid-auc:0.940811\n",
      "[750]\ttrain-auc:0.98311\tvalid-auc:0.940993\n",
      "[760]\ttrain-auc:0.983341\tvalid-auc:0.941045\n",
      "[770]\ttrain-auc:0.983571\tvalid-auc:0.940942\n",
      "[780]\ttrain-auc:0.983713\tvalid-auc:0.941013\n",
      "[790]\ttrain-auc:0.983857\tvalid-auc:0.940924\n",
      "[800]\ttrain-auc:0.984107\tvalid-auc:0.940903\n",
      "[810]\ttrain-auc:0.984261\tvalid-auc:0.940763\n",
      "[820]\ttrain-auc:0.984441\tvalid-auc:0.940744\n",
      "[830]\ttrain-auc:0.984632\tvalid-auc:0.940597\n",
      "[840]\ttrain-auc:0.984752\tvalid-auc:0.940525\n",
      "[850]\ttrain-auc:0.984912\tvalid-auc:0.940585\n",
      "[860]\ttrain-auc:0.985032\tvalid-auc:0.940499\n",
      "[870]\ttrain-auc:0.985189\tvalid-auc:0.940404\n",
      "[880]\ttrain-auc:0.985324\tvalid-auc:0.94043\n",
      "[890]\ttrain-auc:0.985469\tvalid-auc:0.940215\n",
      "[900]\ttrain-auc:0.985632\tvalid-auc:0.940251\n",
      "[910]\ttrain-auc:0.985731\tvalid-auc:0.940355\n",
      "[920]\ttrain-auc:0.985896\tvalid-auc:0.940273\n",
      "[930]\ttrain-auc:0.986045\tvalid-auc:0.940257\n",
      "[940]\ttrain-auc:0.986235\tvalid-auc:0.940255\n",
      "[950]\ttrain-auc:0.98635\tvalid-auc:0.939996\n",
      "[960]\ttrain-auc:0.986452\tvalid-auc:0.940053\n",
      "[970]\ttrain-auc:0.986586\tvalid-auc:0.940138\n",
      "[980]\ttrain-auc:0.986765\tvalid-auc:0.940117\n",
      "[990]\ttrain-auc:0.98684\tvalid-auc:0.940178\n",
      "[1000]\ttrain-auc:0.986968\tvalid-auc:0.940244\n",
      "[1010]\ttrain-auc:0.987079\tvalid-auc:0.940223\n",
      "[1020]\ttrain-auc:0.987182\tvalid-auc:0.940144\n",
      "[1030]\ttrain-auc:0.98732\tvalid-auc:0.940224\n",
      "[1040]\ttrain-auc:0.987467\tvalid-auc:0.940225\n",
      "Stopping. Best iteration:\n",
      "[540]\ttrain-auc:0.978798\tvalid-auc:0.941267\n",
      "\n"
     ]
    }
   ],
   "source": [
    "print('Training ...')\n",
    "\n",
    "params = {'max_depth': 10, \n",
    "          'min_child_weight': 50, \n",
    "          #'subsample': 0.9,\n",
    "          'colsample_bytree': 0.9,  \n",
    "          'colsample_bylevel': 0.6,\n",
    "          'lambda': 0.1,\n",
    "          'alpha': 0.1,\n",
    "          'eta': 0.5, \n",
    "          'objective': 'binary:logistic',\n",
    "          'eval_metric': 'auc',\n",
    "          'silent': 1,\n",
    "          'seed': 17\n",
    "         }\n",
    "\n",
    "watchlist = [(d_train, 'train'), (d_valid, 'valid')]\n",
    "model = xgb.train(params=params, dtrain=d_train, num_boost_round=40000, \n",
    "                  evals=watchlist, early_stopping_rounds=500, verbose_eval=10)"
   ]
  },
  {
   "cell_type": "code",
   "execution_count": 35,
   "metadata": {},
   "outputs": [
    {
     "name": "stdout",
     "output_type": "stream",
     "text": [
      "AUC XgBoost:  0.978173460301\n"
     ]
    }
   ],
   "source": [
    "d_train_full = xgb.DMatrix(X__features_tfidf, label=y)\n",
    "print('AUC XgBoost: ', roc_auc_score(y, model.predict(d_train_full)))"
   ]
  },
  {
   "cell_type": "code",
   "execution_count": 33,
   "metadata": {
    "collapsed": true
   },
   "outputs": [],
   "source": [
    "model.save_model('xgb__pymorphy_natasha.model')"
   ]
  },
  {
   "cell_type": "markdown",
   "metadata": {},
   "source": [
    "Классификация теста\n",
    "==="
   ]
  },
  {
   "cell_type": "code",
   "execution_count": 36,
   "metadata": {},
   "outputs": [
    {
     "name": "stdout",
     "output_type": "stream",
     "text": [
      "(188920,) (188920, 1)\n"
     ]
    },
    {
     "data": {
      "text/html": [
       "<div>\n",
       "<table border=\"1\" class=\"dataframe\">\n",
       "  <thead>\n",
       "    <tr style=\"text-align: right;\">\n",
       "      <th></th>\n",
       "      <th>word_len</th>\n",
       "      <th>pymorphy_animacy</th>\n",
       "      <th>pymorphy_POS</th>\n",
       "      <th>pymorphy_case</th>\n",
       "      <th>pymorphy_number</th>\n",
       "      <th>pymorphy_gender</th>\n",
       "      <th>first_letter_uppercase</th>\n",
       "      <th>all_uppercase</th>\n",
       "      <th>allowed_chars_only</th>\n",
       "      <th>vowels_count</th>\n",
       "      <th>consonants_count</th>\n",
       "      <th>has_feminine_gender</th>\n",
       "      <th>name_from_pymystem</th>\n",
       "      <th>surn_from_pymystem</th>\n",
       "      <th>natasha_person</th>\n",
       "      <th>has_special_char</th>\n",
       "      <th>in_both_classes</th>\n",
       "    </tr>\n",
       "  </thead>\n",
       "  <tbody>\n",
       "    <tr>\n",
       "      <th>0</th>\n",
       "      <td>5</td>\n",
       "      <td>2</td>\n",
       "      <td>1</td>\n",
       "      <td>7</td>\n",
       "      <td>2</td>\n",
       "      <td>3</td>\n",
       "      <td>True</td>\n",
       "      <td>False</td>\n",
       "      <td>True</td>\n",
       "      <td>3</td>\n",
       "      <td>2</td>\n",
       "      <td>False</td>\n",
       "      <td>0</td>\n",
       "      <td>0</td>\n",
       "      <td>0</td>\n",
       "      <td>False</td>\n",
       "      <td>False</td>\n",
       "    </tr>\n",
       "    <tr>\n",
       "      <th>1</th>\n",
       "      <td>3</td>\n",
       "      <td>2</td>\n",
       "      <td>17</td>\n",
       "      <td>7</td>\n",
       "      <td>0</td>\n",
       "      <td>2</td>\n",
       "      <td>True</td>\n",
       "      <td>True</td>\n",
       "      <td>True</td>\n",
       "      <td>2</td>\n",
       "      <td>1</td>\n",
       "      <td>False</td>\n",
       "      <td>0</td>\n",
       "      <td>0</td>\n",
       "      <td>0</td>\n",
       "      <td>False</td>\n",
       "      <td>False</td>\n",
       "    </tr>\n",
       "    <tr>\n",
       "      <th>2</th>\n",
       "      <td>4</td>\n",
       "      <td>1</td>\n",
       "      <td>8</td>\n",
       "      <td>4</td>\n",
       "      <td>2</td>\n",
       "      <td>1</td>\n",
       "      <td>True</td>\n",
       "      <td>False</td>\n",
       "      <td>True</td>\n",
       "      <td>3</td>\n",
       "      <td>1</td>\n",
       "      <td>True</td>\n",
       "      <td>0</td>\n",
       "      <td>0</td>\n",
       "      <td>0</td>\n",
       "      <td>False</td>\n",
       "      <td>False</td>\n",
       "    </tr>\n",
       "    <tr>\n",
       "      <th>3</th>\n",
       "      <td>4</td>\n",
       "      <td>1</td>\n",
       "      <td>8</td>\n",
       "      <td>8</td>\n",
       "      <td>2</td>\n",
       "      <td>0</td>\n",
       "      <td>True</td>\n",
       "      <td>False</td>\n",
       "      <td>True</td>\n",
       "      <td>3</td>\n",
       "      <td>1</td>\n",
       "      <td>False</td>\n",
       "      <td>0</td>\n",
       "      <td>0</td>\n",
       "      <td>0</td>\n",
       "      <td>False</td>\n",
       "      <td>False</td>\n",
       "    </tr>\n",
       "    <tr>\n",
       "      <th>4</th>\n",
       "      <td>5</td>\n",
       "      <td>0</td>\n",
       "      <td>8</td>\n",
       "      <td>8</td>\n",
       "      <td>2</td>\n",
       "      <td>1</td>\n",
       "      <td>True</td>\n",
       "      <td>False</td>\n",
       "      <td>True</td>\n",
       "      <td>3</td>\n",
       "      <td>2</td>\n",
       "      <td>True</td>\n",
       "      <td>0</td>\n",
       "      <td>0</td>\n",
       "      <td>1</td>\n",
       "      <td>False</td>\n",
       "      <td>False</td>\n",
       "    </tr>\n",
       "  </tbody>\n",
       "</table>\n",
       "</div>"
      ],
      "text/plain": [
       "   word_len  pymorphy_animacy  pymorphy_POS  pymorphy_case  pymorphy_number  \\\n",
       "0         5                 2             1              7                2   \n",
       "1         3                 2            17              7                0   \n",
       "2         4                 1             8              4                2   \n",
       "3         4                 1             8              8                2   \n",
       "4         5                 0             8              8                2   \n",
       "\n",
       "   pymorphy_gender first_letter_uppercase all_uppercase allowed_chars_only  \\\n",
       "0                3                   True         False               True   \n",
       "1                2                   True          True               True   \n",
       "2                1                   True         False               True   \n",
       "3                0                   True         False               True   \n",
       "4                1                   True         False               True   \n",
       "\n",
       "   vowels_count  consonants_count has_feminine_gender  name_from_pymystem  \\\n",
       "0             3                 2               False                   0   \n",
       "1             2                 1               False                   0   \n",
       "2             3                 1                True                   0   \n",
       "3             3                 1               False                   0   \n",
       "4             3                 2                True                   0   \n",
       "\n",
       "   surn_from_pymystem  natasha_person has_special_char in_both_classes  \n",
       "0                   0               0            False           False  \n",
       "1                   0               0            False           False  \n",
       "2                   0               0            False           False  \n",
       "3                   0               0            False           False  \n",
       "4                   0               1            False           False  "
      ]
     },
     "execution_count": 36,
     "metadata": {},
     "output_type": "execute_result"
    }
   ],
   "source": [
    "X_test = names_test['Word']\n",
    "print(X_test.shape, names_test.shape)\n",
    "X_test__features = get_features(X_test)\n",
    "X_test__features.head()"
   ]
  },
  {
   "cell_type": "code",
   "execution_count": 37,
   "metadata": {},
   "outputs": [
    {
     "data": {
      "text/plain": [
       "(188920, 17)"
      ]
     },
     "execution_count": 37,
     "metadata": {},
     "output_type": "execute_result"
    }
   ],
   "source": [
    "X_test__features.shape"
   ]
  },
  {
   "cell_type": "code",
   "execution_count": 38,
   "metadata": {},
   "outputs": [
    {
     "data": {
      "text/plain": [
       "Int64Index([     0,      1,      2,      3,      4,      5,      6,      7,\n",
       "                 8,      9,\n",
       "            ...\n",
       "            188910, 188911, 188912, 188913, 188914, 188915, 188916, 188917,\n",
       "            188918, 188919],\n",
       "           dtype='int64', length=188920)"
      ]
     },
     "execution_count": 38,
     "metadata": {},
     "output_type": "execute_result"
    }
   ],
   "source": [
    "tfidf_test__copy = tfidf_test.copy()\n",
    "tfidf_test__copy.index -= tfidf_test__copy.index.min()\n",
    "tfidf_test__copy.index"
   ]
  },
  {
   "cell_type": "code",
   "execution_count": 39,
   "metadata": {},
   "outputs": [
    {
     "data": {
      "text/plain": [
       "(188920, 5017)"
      ]
     },
     "execution_count": 39,
     "metadata": {},
     "output_type": "execute_result"
    }
   ],
   "source": [
    "X_test__features__tfidf = pd.concat([X_test__features, tfidf_test__copy], axis=1)\n",
    "X_test__features__tfidf.shape"
   ]
  },
  {
   "cell_type": "code",
   "execution_count": null,
   "metadata": {
    "collapsed": true
   },
   "outputs": [],
   "source": []
  },
  {
   "cell_type": "code",
   "execution_count": 40,
   "metadata": {},
   "outputs": [
    {
     "data": {
      "text/plain": [
       "array([ 0.11589072,  0.16156481,  0.01235403, ...,  0.00327116,\n",
       "        0.00063115,  0.00093985], dtype=float32)"
      ]
     },
     "execution_count": 40,
     "metadata": {},
     "output_type": "execute_result"
    }
   ],
   "source": [
    "d_test = xgb.DMatrix(X_test__features__tfidf)\n",
    "predictions = model.predict(d_test)\n",
    "predictions"
   ]
  },
  {
   "cell_type": "code",
   "execution_count": 48,
   "metadata": {
    "collapsed": true
   },
   "outputs": [],
   "source": [
    "submission = pd.DataFrame({'Id': range(0, len(predictions)), 'Prediction': predictions})\n",
    "submission.to_csv('myltsev_submission.csv', index=False)"
   ]
  },
  {
   "cell_type": "code",
   "execution_count": null,
   "metadata": {
    "collapsed": true
   },
   "outputs": [],
   "source": []
  }
 ],
 "metadata": {
  "kernelspec": {
   "display_name": "Python 2",
   "language": "python",
   "name": "python2"
  },
  "language_info": {
   "codemirror_mode": {
    "name": "ipython",
    "version": 2
   },
   "file_extension": ".py",
   "mimetype": "text/x-python",
   "name": "python",
   "nbconvert_exporter": "python",
   "pygments_lexer": "ipython2",
   "version": "2.7.14"
  },
  "varInspector": {
   "cols": {
    "lenName": 16,
    "lenType": 16,
    "lenVar": 40
   },
   "kernels_config": {
    "python": {
     "delete_cmd_postfix": "",
     "delete_cmd_prefix": "del ",
     "library": "var_list.py",
     "varRefreshCmd": "print(var_dic_list())"
    },
    "r": {
     "delete_cmd_postfix": ") ",
     "delete_cmd_prefix": "rm(",
     "library": "var_list.r",
     "varRefreshCmd": "cat(var_dic_list()) "
    }
   },
   "position": {
    "height": "893px",
    "left": "1529.29px",
    "right": "20px",
    "top": "63.9489px",
    "width": "529px"
   },
   "types_to_exclude": [
    "module",
    "function",
    "builtin_function_or_method",
    "instance",
    "_Feature"
   ],
   "window_display": false
  }
 },
 "nbformat": 4,
 "nbformat_minor": 2
}
