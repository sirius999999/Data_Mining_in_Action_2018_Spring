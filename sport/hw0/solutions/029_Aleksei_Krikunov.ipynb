{
 "cells": [
  {
   "cell_type": "code",
   "execution_count": 1,
   "metadata": {
    "collapsed": false
   },
   "outputs": [],
   "source": [
    "import pandas as pd\n",
    "\n",
    "from sklearn import tree\n",
    "from sklearn.feature_extraction.text import CountVectorizer\n",
    "from sklearn.feature_extraction import DictVectorizer\n",
    "from sklearn.model_selection import GridSearchCV, cross_val_score\n",
    "from sklearn.ensemble import RandomForestClassifier\n",
    "\n",
    "from natasha import NamesExtractor\n",
    "\n",
    "import xgboost as xgb\n",
    "\n",
    "import pymorphy2"
   ]
  },
  {
   "cell_type": "markdown",
   "metadata": {},
   "source": [
    "## Read the data"
   ]
  },
  {
   "cell_type": "code",
   "execution_count": 2,
   "metadata": {
    "collapsed": true
   },
   "outputs": [],
   "source": [
    "train = pd.read_csv('train.csv')"
   ]
  },
  {
   "cell_type": "code",
   "execution_count": 3,
   "metadata": {
    "collapsed": false
   },
   "outputs": [
    {
     "data": {
      "text/html": [
       "<div>\n",
       "<table border=\"1\" class=\"dataframe\">\n",
       "  <thead>\n",
       "    <tr style=\"text-align: right;\">\n",
       "      <th></th>\n",
       "      <th>Word</th>\n",
       "      <th>Label</th>\n",
       "    </tr>\n",
       "  </thead>\n",
       "  <tbody>\n",
       "    <tr>\n",
       "      <th>0</th>\n",
       "      <td>Аалтонен</td>\n",
       "      <td>1</td>\n",
       "    </tr>\n",
       "    <tr>\n",
       "      <th>1</th>\n",
       "      <td>Аар</td>\n",
       "      <td>0</td>\n",
       "    </tr>\n",
       "    <tr>\n",
       "      <th>2</th>\n",
       "      <td>Аарон</td>\n",
       "      <td>0</td>\n",
       "    </tr>\n",
       "    <tr>\n",
       "      <th>3</th>\n",
       "      <td>ААРОН</td>\n",
       "      <td>0</td>\n",
       "    </tr>\n",
       "    <tr>\n",
       "      <th>4</th>\n",
       "      <td>Аарона</td>\n",
       "      <td>0</td>\n",
       "    </tr>\n",
       "  </tbody>\n",
       "</table>\n",
       "</div>"
      ],
      "text/plain": [
       "       Word  Label\n",
       "0  Аалтонен      1\n",
       "1       Аар      0\n",
       "2     Аарон      0\n",
       "3     ААРОН      0\n",
       "4    Аарона      0"
      ]
     },
     "execution_count": 3,
     "metadata": {},
     "output_type": "execute_result"
    }
   ],
   "source": [
    "train.head()"
   ]
  },
  {
   "cell_type": "code",
   "execution_count": 4,
   "metadata": {
    "collapsed": false
   },
   "outputs": [],
   "source": [
    "morph = pymorphy2.MorphAnalyzer()\n",
    "\n",
    "vowel = u'уеёыаоэяию'\n",
    "consonant = u'йцкнгшщзхъфвпрлджчсмтьб'\n",
    "ru_letter = vowel + consonant + u\"-’'\"\n",
    "\n",
    "def count_vow(word):\n",
    "    vow = 0\n",
    "    for i in word:\n",
    "        if i in vowel:\n",
    "            vow += 1\n",
    "    return vow\n",
    "\n",
    "def count_con(word):\n",
    "    cons = 0\n",
    "    for i in word:\n",
    "        if i in consonant:\n",
    "            cons += 1\n",
    "    return cons\n",
    "\n",
    "def is_only_ru(word):\n",
    "    return len(set(word) - set(ru_letter)) == 0\n",
    "\n",
    "def feature_extraction(data):\n",
    "    df = data.copy()\n",
    "    \n",
    "    df['starts_with_upper'] = df.Word.map(lambda x: x[0].isupper())\n",
    "    df['length'] = df.Word.map(len)\n",
    "    df['caps'] = df.Word.str.isupper()\n",
    "    \n",
    "    df['lower_word'] = df.Word.str.lower()\n",
    "    \n",
    "    df['1s'] = df.lower_word.map(lambda x: x[-1])\n",
    "    df['2s'] = df.lower_word.map(lambda x: x[-2:-1])\n",
    "    df['3s'] = df.lower_word.map(lambda x: x[-3:-2])\n",
    "    \n",
    "    df['2gr'] = df.lower_word.map(lambda x: x[-2:])\n",
    "    df['4gr'] = df.lower_word.map(lambda x: x[-4:])\n",
    "    df['POS'] = df.lower_word.map(lambda x: morph.parse(x)[0].tag.POS)\n",
    "    df['Number'] = df.lower_word.map(lambda x: morph.parse(x)[0].tag.number)\n",
    "    \n",
    "    df['2gr_norm'] = df.Word.map(lambda x: morph.parse(x)[0].normal_form)\n",
    "    \n",
    "    df['vow_count'] = data['Word'].apply(lambda x: count_vow(x))\n",
    "    df['cons_count'] = data['Word'].apply(lambda x: count_con(x))\n",
    "    df['russian']  = data['Word'].apply(lambda x: is_only_ru(x)==1)\n",
    "    \n",
    "    extractor = NamesExtractor()\n",
    "    df['NatashaName'] = df.Word.map(lambda text: bool(extractor(text)))\n",
    "    \n",
    "    return df"
   ]
  },
  {
   "cell_type": "code",
   "execution_count": 5,
   "metadata": {
    "collapsed": true
   },
   "outputs": [],
   "source": [
    "COLS_TO_RETAIN = ['1s', '2s', '3s', '2gr', 'caps', 'length', 'starts_with_upper', 'POS', 'NatashaName', 'Number',\n",
    "                 'vow_count', 'cons_count', 'russian']\n",
    "\n",
    "def transform_data(data, transformer = None):\n",
    "    cat_dict = data[COLS_TO_RETAIN].to_dict(orient = 'records')\n",
    "\n",
    "    if not transformer:\n",
    "        transformer = DictVectorizer(sparse=False)\n",
    "        transformer.fit(cat_dict)\n",
    "    X = transformer.transform(cat_dict)\n",
    "\n",
    "    X = pd.DataFrame(X)\n",
    "    X.fillna(0, inplace=True)\n",
    "    \n",
    "    return X, transformer"
   ]
  },
  {
   "cell_type": "code",
   "execution_count": 6,
   "metadata": {
    "collapsed": true
   },
   "outputs": [],
   "source": [
    "data = feature_extraction(train)\n",
    "X, transformer = transform_data(data)"
   ]
  },
  {
   "cell_type": "code",
   "execution_count": null,
   "metadata": {
    "collapsed": true
   },
   "outputs": [],
   "source": [
    "clf = RandomForestClassifier()"
   ]
  },
  {
   "cell_type": "code",
   "execution_count": null,
   "metadata": {
    "collapsed": true
   },
   "outputs": [],
   "source": [
    "%time\n",
    "param_grid = {\n",
    "    'max_depth': [20, 25, 30],\n",
    "    'criterion': ['entropy', 'gini'],\n",
    "    'class_weight': [{1: 1}, {1: 2} {1: 10}]\n",
    "}\n",
    "\n",
    "print('Accuracy best params and score')\n",
    "result = GridSearchCV(clf, param_grid, cv=5, scoring='roc_auc').fit(X, data.Label)\n",
    "print('\\tParams:', result.best_params_)\n",
    "print('\\tScore:', result.best_score_)"
   ]
  },
  {
   "cell_type": "code",
   "execution_count": null,
   "metadata": {
    "collapsed": false
   },
   "outputs": [
    {
     "data": {
      "text/plain": [
       "array([ 0.91429764,  0.90971751,  0.9067754 ,  0.87286923,  0.90549927])"
      ]
     },
     "execution_count": 7,
     "metadata": {},
     "output_type": "execute_result"
    }
   ],
   "source": [
    "clf = RandomForestClassifier(max_depth=25, criterion='entropy', class_weight={1: 1})\n",
    "cross_val_score(clf, X, data.Label, cv=5, scoring='roc_auc' )"
   ]
  },
  {
   "cell_type": "code",
   "execution_count": null,
   "metadata": {
    "collapsed": false
   },
   "outputs": [],
   "source": [
    "gb_clf = xgb.XGBClassifier(colsample_bytree=0.97, max_depth=10, n_estimators=90, subsample=0.97,\n",
    "                          tree_method = 'gpu_hist', predictor = 'gpu_predictor')\n",
    "#gb_clf = GradientBoostingClassifier(random_state=1488, max_depth=10, n_estimators=90, subsample=0.97)\n",
    "cross_val_score(gb_clf, X, data.Label, cv=5, scoring='roc_auc' )"
   ]
  },
  {
   "cell_type": "code",
   "execution_count": null,
   "metadata": {
    "collapsed": true,
    "scrolled": true
   },
   "outputs": [],
   "source": [
    "#from sklearn.ensemble import GradientBoostingClassifier\n",
    "#gb_clf = GradientBoostingClassifier(random_state=1488)\n",
    "\n",
    "param_grid = {\n",
    "    'loss' : ['deviance', 'exponential'],\n",
    "    'n_estimators': [20, 50, 100, 150, 200],\n",
    "    'max_depth': [3, 5, 7]\n",
    "}\n",
    "\n",
    "print('Accuracy best params and score')\n",
    "result = GridSearchCV(gb_clf, param_grid, cv=5, scoring='roc_auc').fit(X, data.Label)\n",
    "print('\\tParams:', result.best_params_)\n",
    "print('\\tScore:', result.best_score_)"
   ]
  },
  {
   "cell_type": "code",
   "execution_count": null,
   "metadata": {
    "collapsed": true
   },
   "outputs": [],
   "source": [
    "cross_val_score(gb_clf, X, data.Label, cv=5, scoring='roc_auc' )"
   ]
  },
  {
   "cell_type": "code",
   "execution_count": null,
   "metadata": {
    "collapsed": true
   },
   "outputs": [],
   "source": [
    "clf = RandomForestClassifier(criterion='entropy', class_weight={1: 5}, max_depth=25)"
   ]
  },
  {
   "cell_type": "code",
   "execution_count": 8,
   "metadata": {
    "collapsed": true
   },
   "outputs": [],
   "source": [
    "test = pd.read_csv('test.csv')\n",
    "test.columns = ['Word']\n",
    "\n",
    "test_data = feature_extraction(test)"
   ]
  },
  {
   "cell_type": "code",
   "execution_count": 9,
   "metadata": {
    "collapsed": true
   },
   "outputs": [],
   "source": [
    "X_test, _ = transform_data(test_data, transformer)"
   ]
  },
  {
   "cell_type": "code",
   "execution_count": 10,
   "metadata": {
    "collapsed": false
   },
   "outputs": [
    {
     "ename": "NameError",
     "evalue": "name 'clf' is not defined",
     "output_type": "error",
     "traceback": [
      "\u001b[0;31m---------------------------------------------------------------------------\u001b[0m",
      "\u001b[0;31mNameError\u001b[0m                                 Traceback (most recent call last)",
      "\u001b[0;32m<ipython-input-10-9c2a4116ede1>\u001b[0m in \u001b[0;36m<module>\u001b[0;34m()\u001b[0m\n\u001b[0;32m----> 1\u001b[0;31m \u001b[0mclf\u001b[0m\u001b[1;33m.\u001b[0m\u001b[0mfit\u001b[0m\u001b[1;33m(\u001b[0m\u001b[0mX\u001b[0m\u001b[1;33m,\u001b[0m \u001b[0mdata\u001b[0m\u001b[1;33m.\u001b[0m\u001b[0mLabel\u001b[0m\u001b[1;33m)\u001b[0m\u001b[1;33m\u001b[0m\u001b[0m\n\u001b[0m",
      "\u001b[0;31mNameError\u001b[0m: name 'clf' is not defined"
     ]
    }
   ],
   "source": [
    "clf.fit(X, data.Label)"
   ]
  },
  {
   "cell_type": "code",
   "execution_count": null,
   "metadata": {
    "collapsed": true
   },
   "outputs": [],
   "source": [
    "predict = clf.predict(X_test)"
   ]
  },
  {
   "cell_type": "code",
   "execution_count": null,
   "metadata": {
    "collapsed": true
   },
   "outputs": [],
   "source": [
    "test['Label'] = predict"
   ]
  },
  {
   "cell_type": "code",
   "execution_count": null,
   "metadata": {
    "collapsed": true
   },
   "outputs": [],
   "source": [
    "result = pd.DataFrame()\n",
    "result['Prediction'] = test.Label\n",
    "result['Id'] = test.index"
   ]
  },
  {
   "cell_type": "code",
   "execution_count": null,
   "metadata": {
    "collapsed": true
   },
   "outputs": [],
   "source": [
    "result.to_csv('result19.02_xgb.csv', index=False)"
   ]
  },
  {
   "cell_type": "code",
   "execution_count": null,
   "metadata": {
    "collapsed": true
   },
   "outputs": [],
   "source": []
  }
 ],
 "metadata": {
  "anaconda-cloud": {},
  "kernelspec": {
   "display_name": "Python [conda root]",
   "language": "python",
   "name": "conda-root-py"
  },
  "language_info": {
   "codemirror_mode": {
    "name": "ipython",
    "version": 3
   },
   "file_extension": ".py",
   "mimetype": "text/x-python",
   "name": "python",
   "nbconvert_exporter": "python",
   "pygments_lexer": "ipython3",
   "version": "3.5.2"
  }
 },
 "nbformat": 4,
 "nbformat_minor": 2
}
