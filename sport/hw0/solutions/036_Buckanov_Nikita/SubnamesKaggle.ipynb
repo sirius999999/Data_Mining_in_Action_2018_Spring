{
 "cells": [
  {
   "cell_type": "markdown",
   "metadata": {},
   "source": [
    "# Логистическая регрессия c применением tf-idf  и pymorphy2\n",
    "private LB 0.9066 public 0.90211"
   ]
  },
  {
   "cell_type": "code",
   "execution_count": 23,
   "metadata": {
    "scrolled": true
   },
   "outputs": [],
   "source": [
    "import pandas as pd\n",
    "import numpy as np\n",
    "from sklearn.pipeline import Pipeline, FeatureUnion\n",
    "from sklearn.feature_extraction.text import TfidfVectorizer\n",
    "from sklearn.feature_extraction.text import TfidfTransformer,CountVectorizer\n",
    "from sklearn.ensemble import GradientBoostingClassifier\n",
    "from sklearn.linear_model import LogisticRegression\n",
    "from sklearn.model_selection import GridSearchCV\n",
    "from sklearn.decomposition import PCA\n",
    "from sklearn.decomposition import TruncatedSVD\n",
    "from scipy import sparse as sp\n",
    "from scipy import sparse\n",
    "from extractors import Upper, All_upper, All_lower, Word_length, Vow_count, Con_count, Spec_count, Tolower, Pymorphy_predict,Pymorphy_normal\n",
    "import pymorphy2\n",
    "input_data = pd.read_csv('data/train.csv')\n",
    "test_data = pd.read_csv('data/test.csv')\n",
    "submit  = pd.read_csv('data/sample_submission.csv')\n",
    "input_data.head()\n",
    "mysubmit = pd.read_csv('mytest.csv')"
   ]
  },
  {
   "cell_type": "code",
   "execution_count": 23,
   "metadata": {
    "scrolled": true
   },
   "outputs": [],
   "source": [
    "# чтобы заработал GridSearch вынести в отдельный фаил\n",
    "from sklearn.base import BaseEstimator, TransformerMixin\n",
    "from scipy import sparse\n",
    "import re\n",
    "import pymorphy2\n",
    "\n",
    "\n",
    "class Upper(BaseEstimator, TransformerMixin):\n",
    "    def fit_transform(self, X, y=None):\n",
    "        return sparse.csr_matrix([int(t[0].isupper()) for t in X]).transpose()\n",
    "    def transform(self, X, y=None):\n",
    "        return sparse.csr_matrix([int(t[0].isupper()) for t in X]).transpose()\n",
    "    def fit(self, X, y=None):\n",
    "        return  # generally does nothing\n",
    "\n",
    "class All_upper(BaseEstimator, TransformerMixin):\n",
    "    def fit_transform(self, X, y=None):\n",
    "        return sparse.csr_matrix([int(t.isupper()) for t in X]).transpose()\n",
    "    def transform(self, X, y=None):\n",
    "        return sparse.csr_matrix([int(t.isupper()) for t in X]).transpose()\n",
    "    def fit(self, X, y=None):\n",
    "        return  # generally does nothing\n",
    "    \n",
    "class All_lower(BaseEstimator, TransformerMixin):\n",
    "    def fit_transform(self, X, y=None):\n",
    "        return sparse.csr_matrix([int(t.islower()) for t in X]).transpose()\n",
    "    def transform(self, X, y=None):\n",
    "        return sparse.csr_matrix([int(t.islower()) for t in X]).transpose()\n",
    "    def fit(self, X, y=None):\n",
    "        return  # generally does nothing\n",
    "\n",
    "class Word_length(BaseEstimator, TransformerMixin):\n",
    "    def fit_transform(self, X, y=None):\n",
    "        return sparse.csr_matrix([len(t) for t in X]).transpose()\n",
    "    def transform(self, X, y=None):\n",
    "        return sparse.csr_matrix([len(t) for t in X]).transpose()\n",
    "    def fit(self, X, y=None):\n",
    "        return  # generally does nothing\n",
    "\n",
    "class Vow_count(BaseEstimator, TransformerMixin):\n",
    "    def fit_transform(self, X, y=None):\n",
    "        return sparse.csr_matrix([len(re.findall('[уеыаоэяию]', t, re.IGNORECASE)) for t in X]).transpose()\n",
    "    def transform(self, X, y=None):\n",
    "        return sparse.csr_matrix([len(t) for t in X]).transpose()\n",
    "    def fit(self, X, y=None):\n",
    "        return  # generally does nothing\n",
    "\n",
    "class Con_count(BaseEstimator, TransformerMixin):\n",
    "    def fit_transform(self, X, y=None):\n",
    "        return sparse.csr_matrix([len(t) - len(re.findall('[уеыаоэяию]', t, re.IGNORECASE)) for t in X]).transpose()\n",
    "    def transform(self, X, y=None):\n",
    "        return sparse.csr_matrix([len(t) for t in X]).transpose()\n",
    "    def fit(self, X, y=None):\n",
    "        return  # generally does nothing\n",
    "    \n",
    "class Spec_count(BaseEstimator, TransformerMixin):\n",
    "    def fit_transform(self, X, y=None):\n",
    "        return sparse.csr_matrix([len(t) - len(re.findall('[- ]', t, re.IGNORECASE)) for t in X]).transpose()\n",
    "    def transform(self, X, y=None):\n",
    "        return sparse.csr_matrix([len(t) for t in X]).transpose()\n",
    "    def fit(self, X, y=None):\n",
    "        return  # generally does nothing\n",
    "    \n",
    "class Tolower(BaseEstimator, TransformerMixin):\n",
    "    def fit_transform(self, X, y=None):\n",
    "        return [t.lower()[:-5] for t in X]\n",
    "    def transform(self, X, y=None):\n",
    "        return [t.lower()[:-5] for t in X]\n",
    "    def fit(self, X, y=None):\n",
    "        return  # generally does nothing\n",
    "       \n",
    "class Pymorphy_predict(BaseEstimator, TransformerMixin):\n",
    "    def __init__(self):\n",
    "        self.morph = pymorphy2.MorphAnalyzer()\n",
    "    def fit_transform(self, X, y=None):\n",
    "        return sparse.csr_matrix([sum([p.score*int('фам' in p.tag.cyr_repr) for p in self.morph.parse(t)]) for t in X]).transpose()\n",
    "    def transform(self, X, y=None):\n",
    "        return sparse.csr_matrix([sum([p.score*int('фам' in p.tag.cyr_repr) for p in self.morph.parse(t)]) for t in X]).transpose()\n",
    "    def fit(self, X, y=None):\n",
    "        return  # generally does nothing\n",
    "    def predict_proba(self,X):\n",
    "        return[ [1-sum([p.score*int('фам' in p.tag.cyr_repr) for p in self.morph.parse(t)]), \n",
    "                   sum([p.score*int('фам' in p.tag.cyr_repr) for p in self.morph.parse(t)])] for t in X ] \n",
    "\n",
    "class Pymorphy_normal(BaseEstimator, TransformerMixin):\n",
    "    def __init__(self):\n",
    "        self.morph = pymorphy2.MorphAnalyzer()\n",
    "    def fit_transform(self, X, y=None): \n",
    "        return sparse.csr_matrix([ int(t in [p.normal_form for p in self.morph.parse(t)]) for t in X]).transpose()\n",
    "    def transform(self, X, y=None):\n",
    "        return sparse.csr_matrix([ int(t in [p.normal_form for p in self.morph.parse(t)]) for t in X]).transpose()\n",
    "    def fit(self, X, y=None):\n",
    "        return  # generally does nothing\n"
   ]
  },
  {
   "cell_type": "markdown",
   "metadata": {},
   "source": [
    "## Pipeline"
   ]
  },
  {
   "cell_type": "code",
   "execution_count": 24,
   "metadata": {
    "scrolled": true
   },
   "outputs": [],
   "source": [
    "tfidf_pipe=Pipeline(steps=[\n",
    "    ('vect', CountVectorizer(analyzer='char_wb', ngram_range=(1,5), encoding='utf8')),\n",
    "    ('tfidf', TfidfTransformer(use_idf=True)),\n",
    "    ])\n",
    "learning_pipe = Pipeline([\n",
    "    ('get_features', \n",
    "    FeatureUnion([\n",
    "    ('tfidf', tfidf_pipe),\n",
    "    ('Upper', Upper()),\n",
    "    ('All_upper', All_upper()),\n",
    "    ('All_lower', All_lower()),\n",
    "    ('Word_length', Word_length()),\n",
    "    ('Vow_count', Vow_count()),\n",
    "    ('Con_count', Con_count()),\n",
    "    ('Spec_count', Spec_count()),\n",
    "    ('pymorphy', Pymorphy_predict()),\n",
    "    ('pymorphy_norm', Pymorphy_normal())\n",
    "    ])),\n",
    "    ('model', LogisticRegression())\n",
    "    ])"
   ]
  },
  {
   "cell_type": "markdown",
   "metadata": {},
   "source": [
    "## GradientBoosting"
   ]
  },
  {
   "cell_type": "code",
   "execution_count": 35,
   "metadata": {},
   "outputs": [
    {
     "data": {
      "text/plain": [
       "Pipeline(memory=None,\n",
       "     steps=[('get_features', FeatureUnion(n_jobs=1,\n",
       "       transformer_list=[('tfidf', None), ('Upper', Upper()), ('All_upper', All_upper()), ('All_lower', All_lower()), ('Word_length', Word_length()), ('Vow_count', Vow_count()), ('Con_count', Con_count()), ('Spec_count', Spec_count()), ('pymorphy', Pymo...      presort='auto', random_state=None, subsample=1.0, verbose=0,\n",
       "              warm_start=False))])"
      ]
     },
     "execution_count": 35,
     "metadata": {},
     "output_type": "execute_result"
    }
   ],
   "source": [
    "boost = learning_pipe\n",
    "boost.set_params(\n",
    "    model = GradientBoostingClassifier(max_depth = 10),\n",
    "    get_features__tfidf = None\n",
    ")"
   ]
  },
  {
   "cell_type": "code",
   "execution_count": 36,
   "metadata": {},
   "outputs": [
    {
     "name": "stderr",
     "output_type": "stream",
     "text": [
      "C:\\ProgramData\\Anaconda3\\lib\\site-packages\\sklearn\\utils\\deprecation.py:122: FutureWarning: You are accessing a training score ('mean_train_score'), which will not be available by default any more in 0.21. If you need training scores, please set return_train_score=True\n",
      "  warnings.warn(*warn_args, **warn_kwargs)\n",
      "C:\\ProgramData\\Anaconda3\\lib\\site-packages\\sklearn\\utils\\deprecation.py:122: FutureWarning: You are accessing a training score ('split0_train_score'), which will not be available by default any more in 0.21. If you need training scores, please set return_train_score=True\n",
      "  warnings.warn(*warn_args, **warn_kwargs)\n",
      "C:\\ProgramData\\Anaconda3\\lib\\site-packages\\sklearn\\utils\\deprecation.py:122: FutureWarning: You are accessing a training score ('split1_train_score'), which will not be available by default any more in 0.21. If you need training scores, please set return_train_score=True\n",
      "  warnings.warn(*warn_args, **warn_kwargs)\n",
      "C:\\ProgramData\\Anaconda3\\lib\\site-packages\\sklearn\\utils\\deprecation.py:122: FutureWarning: You are accessing a training score ('split2_train_score'), which will not be available by default any more in 0.21. If you need training scores, please set return_train_score=True\n",
      "  warnings.warn(*warn_args, **warn_kwargs)\n",
      "C:\\ProgramData\\Anaconda3\\lib\\site-packages\\sklearn\\utils\\deprecation.py:122: FutureWarning: You are accessing a training score ('std_train_score'), which will not be available by default any more in 0.21. If you need training scores, please set return_train_score=True\n",
      "  warnings.warn(*warn_args, **warn_kwargs)\n"
     ]
    },
    {
     "data": {
      "text/plain": [
       "{'mean_fit_time': array([79.51672308]),\n",
       " 'mean_score_time': array([18.87221034]),\n",
       " 'mean_test_score': array([0.74750595]),\n",
       " 'mean_train_score': array([0.74458066]),\n",
       " 'params': [{}],\n",
       " 'rank_test_score': array([1]),\n",
       " 'split0_test_score': array([0.76034853]),\n",
       " 'split0_train_score': array([0.74438997]),\n",
       " 'split1_test_score': array([0.74561339]),\n",
       " 'split1_train_score': array([0.71706516]),\n",
       " 'split2_test_score': array([0.73655559]),\n",
       " 'split2_train_score': array([0.77228684]),\n",
       " 'std_fit_time': array([0.56462985]),\n",
       " 'std_score_time': array([0.23471046]),\n",
       " 'std_test_score': array([0.00980516]),\n",
       " 'std_train_score': array([0.02254456])}"
      ]
     },
     "execution_count": 36,
     "metadata": {},
     "output_type": "execute_result"
    }
   ],
   "source": [
    "param_grid = dict()\n",
    "boost_cv = GridSearchCV(boost, param_grid,n_jobs= 3,scoring = 'roc_auc')\n",
    "boost_cv.fit(input_data['Word'],input_data['Label'])\n",
    "boost_cv.cv_results_"
   ]
  },
  {
   "cell_type": "code",
   "execution_count": 6,
   "metadata": {},
   "outputs": [
    {
     "data": {
      "text/plain": [
       "{}"
      ]
     },
     "execution_count": 6,
     "metadata": {},
     "output_type": "execute_result"
    }
   ],
   "source": [
    "boost_cv.best_params_"
   ]
  },
  {
   "cell_type": "markdown",
   "metadata": {},
   "source": [
    "## Logistic regression"
   ]
  },
  {
   "cell_type": "code",
   "execution_count": 33,
   "metadata": {},
   "outputs": [
    {
     "data": {
      "text/plain": [
       "Pipeline(memory=None,\n",
       "     steps=[('get_features', FeatureUnion(n_jobs=1,\n",
       "       transformer_list=[('tfidf', None), ('Upper', Upper()), ('All_upper', All_upper()), ('All_lower', All_lower()), ('Word_length', Word_length()), ('Vow_count', Vow_count()), ('Con_count', Con_count()), ('Spec_count', Spec_count()), ('pymorphy', Pymo...ty='l2', random_state=None, solver='liblinear', tol=0.0001,\n",
       "          verbose=0, warm_start=False))])"
      ]
     },
     "execution_count": 33,
     "metadata": {},
     "output_type": "execute_result"
    }
   ],
   "source": [
    "logreg = learning_pipe\n",
    "logreg.set_params(\n",
    "    model = LogisticRegression(),\n",
    "    get_features__tfidf = tfidf_pipe\n",
    ")"
   ]
  },
  {
   "cell_type": "code",
   "execution_count": 34,
   "metadata": {},
   "outputs": [
    {
     "name": "stderr",
     "output_type": "stream",
     "text": [
      "C:\\ProgramData\\Anaconda3\\lib\\site-packages\\sklearn\\utils\\deprecation.py:122: FutureWarning: You are accessing a training score ('mean_train_score'), which will not be available by default any more in 0.21. If you need training scores, please set return_train_score=True\n",
      "  warnings.warn(*warn_args, **warn_kwargs)\n",
      "C:\\ProgramData\\Anaconda3\\lib\\site-packages\\sklearn\\utils\\deprecation.py:122: FutureWarning: You are accessing a training score ('split0_train_score'), which will not be available by default any more in 0.21. If you need training scores, please set return_train_score=True\n",
      "  warnings.warn(*warn_args, **warn_kwargs)\n",
      "C:\\ProgramData\\Anaconda3\\lib\\site-packages\\sklearn\\utils\\deprecation.py:122: FutureWarning: You are accessing a training score ('split1_train_score'), which will not be available by default any more in 0.21. If you need training scores, please set return_train_score=True\n",
      "  warnings.warn(*warn_args, **warn_kwargs)\n",
      "C:\\ProgramData\\Anaconda3\\lib\\site-packages\\sklearn\\utils\\deprecation.py:122: FutureWarning: You are accessing a training score ('split2_train_score'), which will not be available by default any more in 0.21. If you need training scores, please set return_train_score=True\n",
      "  warnings.warn(*warn_args, **warn_kwargs)\n",
      "C:\\ProgramData\\Anaconda3\\lib\\site-packages\\sklearn\\utils\\deprecation.py:122: FutureWarning: You are accessing a training score ('std_train_score'), which will not be available by default any more in 0.21. If you need training scores, please set return_train_score=True\n",
      "  warnings.warn(*warn_args, **warn_kwargs)\n"
     ]
    },
    {
     "data": {
      "text/plain": [
       "{'mean_fit_time': array([33.91624983]),\n",
       " 'mean_score_time': array([14.24820518]),\n",
       " 'mean_test_score': array([0.85902621]),\n",
       " 'mean_train_score': array([0.85966096]),\n",
       " 'param_model__C': masked_array(data=[0.01],\n",
       "              mask=[False],\n",
       "        fill_value='?',\n",
       "             dtype=object),\n",
       " 'param_model__class_weight': masked_array(data=['balanced'],\n",
       "              mask=[False],\n",
       "        fill_value='?',\n",
       "             dtype=object),\n",
       " 'param_model__dual': masked_array(data=[False],\n",
       "              mask=[False],\n",
       "        fill_value='?',\n",
       "             dtype=object),\n",
       " 'param_model__penalty': masked_array(data=['l2'],\n",
       "              mask=[False],\n",
       "        fill_value='?',\n",
       "             dtype=object),\n",
       " 'params': [{'model__C': 0.01,\n",
       "   'model__class_weight': 'balanced',\n",
       "   'model__dual': False,\n",
       "   'model__penalty': 'l2'}],\n",
       " 'rank_test_score': array([1]),\n",
       " 'split0_test_score': array([0.86609786]),\n",
       " 'split0_train_score': array([0.85346007]),\n",
       " 'split1_test_score': array([0.86966377]),\n",
       " 'split1_train_score': array([0.85579507]),\n",
       " 'split2_test_score': array([0.84131648]),\n",
       " 'split2_train_score': array([0.86972773]),\n",
       " 'std_fit_time': array([0.02583634]),\n",
       " 'std_score_time': array([0.08177957]),\n",
       " 'std_test_score': array([0.01260682]),\n",
       " 'std_train_score': array([0.00718183])}"
      ]
     },
     "execution_count": 34,
     "metadata": {},
     "output_type": "execute_result"
    }
   ],
   "source": [
    "param_grid = dict(model__penalty = ['l2'],\n",
    "                  model__dual = [False],\n",
    "                  model__C = [0.01],\n",
    "                  model__class_weight = ['balanced']\n",
    "                 )\n",
    "logreg_cv = GridSearchCV(logreg, param_grid, n_jobs= 6,scoring = 'roc_auc')\n",
    "logreg_cv.fit(input_data['Word'],input_data['Label'])\n",
    "logreg_cv.cv_results_"
   ]
  },
  {
   "cell_type": "markdown",
   "metadata": {},
   "source": [
    "## Soft vote of LogReg and GB"
   ]
  },
  {
   "cell_type": "code",
   "execution_count": 27,
   "metadata": {},
   "outputs": [
    {
     "name": "stderr",
     "output_type": "stream",
     "text": [
      "C:\\ProgramData\\Anaconda3\\lib\\site-packages\\sklearn\\utils\\deprecation.py:122: FutureWarning: You are accessing a training score ('mean_train_score'), which will not be available by default any more in 0.21. If you need training scores, please set return_train_score=True\n",
      "  warnings.warn(*warn_args, **warn_kwargs)\n",
      "C:\\ProgramData\\Anaconda3\\lib\\site-packages\\sklearn\\utils\\deprecation.py:122: FutureWarning: You are accessing a training score ('split0_train_score'), which will not be available by default any more in 0.21. If you need training scores, please set return_train_score=True\n",
      "  warnings.warn(*warn_args, **warn_kwargs)\n",
      "C:\\ProgramData\\Anaconda3\\lib\\site-packages\\sklearn\\utils\\deprecation.py:122: FutureWarning: You are accessing a training score ('split1_train_score'), which will not be available by default any more in 0.21. If you need training scores, please set return_train_score=True\n",
      "  warnings.warn(*warn_args, **warn_kwargs)\n",
      "C:\\ProgramData\\Anaconda3\\lib\\site-packages\\sklearn\\utils\\deprecation.py:122: FutureWarning: You are accessing a training score ('split2_train_score'), which will not be available by default any more in 0.21. If you need training scores, please set return_train_score=True\n",
      "  warnings.warn(*warn_args, **warn_kwargs)\n",
      "C:\\ProgramData\\Anaconda3\\lib\\site-packages\\sklearn\\utils\\deprecation.py:122: FutureWarning: You are accessing a training score ('std_train_score'), which will not be available by default any more in 0.21. If you need training scores, please set return_train_score=True\n",
      "  warnings.warn(*warn_args, **warn_kwargs)\n"
     ]
    },
    {
     "data": {
      "text/plain": [
       "{'mean_fit_time': array([81.20602616]),\n",
       " 'mean_score_time': array([51.03237987]),\n",
       " 'mean_test_score': array([0.83287029]),\n",
       " 'mean_train_score': array([0.91029423]),\n",
       " 'params': [{}],\n",
       " 'rank_test_score': array([1]),\n",
       " 'split0_test_score': array([0.81980515]),\n",
       " 'split0_train_score': array([0.90491541]),\n",
       " 'split1_test_score': array([0.8248275]),\n",
       " 'split1_train_score': array([0.91234977]),\n",
       " 'split2_test_score': array([0.85397884]),\n",
       " 'split2_train_score': array([0.91361753]),\n",
       " 'std_fit_time': array([1.32173937]),\n",
       " 'std_score_time': array([1.1891567]),\n",
       " 'std_test_score': array([0.01506595]),\n",
       " 'std_train_score': array([0.00383846])}"
      ]
     },
     "execution_count": 27,
     "metadata": {},
     "output_type": "execute_result"
    }
   ],
   "source": [
    "from sklearn.ensemble import VotingClassifier\n",
    "param_grid = dict()\n",
    "vote = VotingClassifier([('boost',boost),('logreg',logreg),('pymorphy',Pymorphy_predict())],voting = 'soft',weights=[2,1,0.5])\n",
    "vote_cv = GridSearchCV(vote, param_grid, n_jobs= 6,scoring = 'roc_auc')\n",
    "vote_cv.fit(input_data['Word'],input_data['Label'])\n",
    "vote_cv.cv_results_"
   ]
  },
  {
   "cell_type": "code",
   "execution_count": 28,
   "metadata": {},
   "outputs": [
    {
     "data": {
      "text/plain": [
       "0.8328702909450558"
      ]
     },
     "execution_count": 28,
     "metadata": {},
     "output_type": "execute_result"
    }
   ],
   "source": [
    "vote_cv.best_score_"
   ]
  },
  {
   "cell_type": "markdown",
   "metadata": {},
   "source": [
    "## Fit and Save"
   ]
  },
  {
   "cell_type": "code",
   "execution_count": 31,
   "metadata": {},
   "outputs": [],
   "source": [
    "fitted_model, answer = fit(logreg,input_data,test_data)\n",
    "save(answer, 'vote.csv')"
   ]
  },
  {
   "cell_type": "code",
   "execution_count": 32,
   "metadata": {},
   "outputs": [],
   "source": [
    "def fit(pipe,input_data,test_data):\n",
    "    pipe.fit(input_data['Word'], input_data['Label'])\n",
    "    answer = pipe.predict_proba(test_data['Word'])\n",
    "    return pipe, answer\n",
    "def save(answer, name):\n",
    "    my_submit = [('id', range(188920)),\n",
    "                 ('Prediction', [t[1] for t in answer])\n",
    "                ]\n",
    "    sdf = pd.DataFrame.from_items(my_submit)\n",
    "    sdf.to_csv(name,columns = ['id','Prediction'],index = False)\n",
    "    sdf.head()"
   ]
  },
  {
   "cell_type": "markdown",
   "metadata": {},
   "source": [
    "## DATA TRICKS"
   ]
  },
  {
   "cell_type": "code",
   "execution_count": null,
   "metadata": {},
   "outputs": [],
   "source": [
    "#simple answer\n",
    "predictions = [int(t[0].isupper()) for t in input_data['Word']]\n",
    "my_submit = [('id', range(188920)),\n",
    "             ('Prediction', predictions)\n",
    "            ]\n",
    "sdf = pd.DataFrame.from_items(my_submit)\n",
    "sdf.to_csv('mytest2.csv',columns = ['id','Prediction'],index = False)\n",
    "sdf.head()"
   ]
  }
 ],
 "metadata": {
  "kernelspec": {
   "display_name": "Python 3",
   "language": "python",
   "name": "python3"
  },
  "language_info": {
   "codemirror_mode": {
    "name": "ipython",
    "version": 3
   },
   "file_extension": ".py",
   "mimetype": "text/x-python",
   "name": "python",
   "nbconvert_exporter": "python",
   "pygments_lexer": "ipython3",
   "version": "3.6.4"
  }
 },
 "nbformat": 4,
 "nbformat_minor": 2
}
