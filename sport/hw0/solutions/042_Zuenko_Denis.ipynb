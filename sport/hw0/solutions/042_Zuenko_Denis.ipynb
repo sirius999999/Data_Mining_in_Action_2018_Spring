{
 "cells": [
  {
   "cell_type": "code",
   "execution_count": 1,
   "metadata": {},
   "outputs": [],
   "source": [
    "import numpy as np\n",
    "import pandas as pd\n",
    "\n",
    "from sklearn.model_selection import StratifiedKFold, GridSearchCV\n",
    "from sklearn.feature_extraction.text import CountVectorizer\n",
    "from sklearn.linear_model import LogisticRegression\n",
    "\n",
    "import lightgbm as lgb\n",
    "\n",
    "from scipy.sparse import coo_matrix, hstack\n",
    "\n",
    "import pymystem3\n",
    "mystem = pymystem3.Mystem()\n",
    "\n",
    "import matplotlib.pyplot as plt\n",
    "%matplotlib inline\n",
    "\n",
    "import datetime\n",
    "import re"
   ]
  },
  {
   "cell_type": "markdown",
   "metadata": {},
   "source": [
    "## Loading data"
   ]
  },
  {
   "cell_type": "markdown",
   "metadata": {},
   "source": [
    "Нужно классифировать фамили:\n",
    "- 0 если не фамилия\n",
    "- 1 если фамилия\n",
    "Классы несбалансированы нужно использовать roc_auc"
   ]
  },
  {
   "cell_type": "code",
   "execution_count": 2,
   "metadata": {},
   "outputs": [],
   "source": [
    "train = pd.read_csv('train.csv')\n",
    "test = pd.read_csv('test.csv')"
   ]
  },
  {
   "cell_type": "code",
   "execution_count": 3,
   "metadata": {},
   "outputs": [],
   "source": [
    "train = train.drop(index = train[train.Word.duplicated()].index, axis=1)"
   ]
  },
  {
   "cell_type": "markdown",
   "metadata": {},
   "source": [
    "CountVectorizer поддерживает подсчет N-грам слов или последовательностей символов. Векторизатор строит словарь индексов признаков\n",
    "Значение индекса слова в словаре связано с его частотой употребления во всем обучающем корпусе.\n",
    "Будем использовать Наивный Байесовский классификатор и scikit-learn включает в себя несколько вариантов этого классификатора. Самый подходящий для подсчета слов — это его поли номинальный вариант.\n",
    "\n",
    "Создадим конвеер для того, чтобы было продбирать гиперпараметры с помощью GridSearchCV, не забывая при этом разбивать на фолды. В качестве теста пробую Kmeans"
   ]
  },
  {
   "cell_type": "code",
   "execution_count": 4,
   "metadata": {},
   "outputs": [
    {
     "data": {
      "text/plain": [
       "array([[<matplotlib.axes._subplots.AxesSubplot object at 0x7f540b79bf98>]],\n",
       "      dtype=object)"
      ]
     },
     "execution_count": 4,
     "metadata": {},
     "output_type": "execute_result"
    },
    {
     "data": {
      "image/png": "[encoded data removed]",
      "text/plain": [
       "<matplotlib.figure.Figure at 0x7f54581b7e80>"
      ]
     },
     "metadata": {},
     "output_type": "display_data"
    }
   ],
   "source": [
    "train.hist()"
   ]
  },
  {
   "cell_type": "markdown",
   "metadata": {},
   "source": [
    "## Features extraction"
   ]
  },
  {
   "cell_type": "code",
   "execution_count": 18,
   "metadata": {},
   "outputs": [],
   "source": [
    "consonants = list(u'йцкнгшщзхъфвпрлджчсмтьб'+u'йцкнгшщзхъфвпрлджчсмтьб'.upper())\n",
    "vowels = list(u'уеёыаоэяию'+u'уеёыаоэяию'.upper())\n",
    "\n",
    "def name_from_pymystem(word):\n",
    "    try:\n",
    "        return 1 if 'имя' in mystem.analyze(word)[0]['analysis'][0]['gr'].split(',') else 0\n",
    "    except:\n",
    "        return 0\n",
    "\n",
    "def surn_from_pymystem(word):\n",
    "    try:\n",
    "        return 1 if 'фам' in mystem.analyze(word)[0]['analysis'][0]['gr'].split(',') else 0\n",
    "    except:\n",
    "        return 0\n",
    "    \n",
    "def up_cases(word):\n",
    "    return sum(1 for c in word if c.isupper())\n",
    "\n",
    "def low_cases(word):\n",
    "    return sum(1 for c in word if c.isupper())\n",
    "\n",
    "def vow(word):\n",
    "    return sum(1 for c in word if c in vowels)\n",
    "\n",
    "def con(word):\n",
    "    return sum(1 for c in word if c in consonants)\n",
    "\n",
    "def spec(word):\n",
    "    return sum(1 for c in word if c not in consonants or c not in vowels)\n",
    "\n",
    "def len_eq(word):\n",
    "    if len(word) == con(word) or len(word) == vow(word) or len(word) < 4 or len(word) > 13:\n",
    "        return 1\n",
    "    else:\n",
    "        return 0\n",
    "\n",
    "def Make_x(X_train):\n",
    "    X_train['name_from_pymystem'] = X_train['Word'].apply(name_from_pymystem)\n",
    "    X_train['surn_from_pymystem'] = X_train['Word'].apply(surn_from_pymystem)\n",
    "    X_train['up_cases'] = X_train['Word'].apply(up_cases)\n",
    "    X_train['low_cases'] = X_train['Word'].apply(low_cases)\n",
    "    X_train['con'] = X_train['Word'].apply(con)\n",
    "    X_train['vow'] = X_train['Word'].apply(vow)\n",
    "    X_train['len'] = X_train['Word'].apply(lambda word: len(list(word)))\n",
    "    \n",
    "    \n",
    "    return X_train[['name_from_pymystem','surn_from_pymystem',\n",
    "                    'up_cases', 'low_cases',\n",
    "                    'con', 'vow','len']].as_matrix()"
   ]
  },
  {
   "cell_type": "code",
   "execution_count": 19,
   "metadata": {},
   "outputs": [],
   "source": [
    "train = train.drop(index = train[((train['Word'].apply(len_eq) == 1) | (train['Word'].apply(spec) <= 1) )\n",
    "                                 & (train['Label'] == 1)].index, axis=1)"
   ]
  },
  {
   "cell_type": "markdown",
   "metadata": {},
   "source": [
    "## Finding param"
   ]
  },
  {
   "cell_type": "code",
   "execution_count": 20,
   "metadata": {},
   "outputs": [],
   "source": [
    "def Testing_grid_reg(X_train, Y_train, c=[10.0 ** i for i in range(-3, 5)]):\n",
    "    cv = StratifiedKFold(n_splits=5, shuffle=True, random_state=42)\n",
    "    \n",
    "    cc = CountVectorizer(encoding = 'unicode',\n",
    "                         lowercase = False,\n",
    "                         analyzer = 'char', \n",
    "                         ngram_range = (2,7), \n",
    "                         min_df = 3, \n",
    "                         max_df = 14)\n",
    "    X_train_cc = cc.fit_transform(X_train['Word'].as_matrix())\n",
    "    \n",
    "    X_train = hstack((X_train_cc, Make_x(X_train)))\n",
    "    \n",
    "    clf = LogisticRegression(class_weight = 'balanced', solver = 'sag', n_jobs=1)\n",
    "    \n",
    "    grid=  {'C': c,\n",
    "            'penalty' : ['l2'],\n",
    "            'max_iter' : [10000]\n",
    "           }\n",
    "    \n",
    "    start_time = datetime.datetime.now()\n",
    "    gs = GridSearchCV(clf, scoring='roc_auc', \n",
    "                      param_grid=grid, cv=cv, \n",
    "                      return_train_score=True, n_jobs=-1, verbose = True)\n",
    "    gs.fit(X_train,Y_train)\n",
    "    \n",
    "    print ('Time elapsed:', datetime.datetime.now() - start_time)\n",
    "    print (max(gs.cv_results_['mean_test_score']))\n",
    "    \n",
    "    return gs.best_params_"
   ]
  },
  {
   "cell_type": "code",
   "execution_count": 33,
   "metadata": {},
   "outputs": [],
   "source": [
    "def Testing_grid_lgb(X_train, Y_train):\n",
    "    cv = StratifiedKFold(n_splits=5, shuffle=True, random_state=42)\n",
    "    \n",
    "    cc = CountVectorizer(encoding = 'unicode',\n",
    "                         lowercase = False,\n",
    "                         analyzer = 'char', \n",
    "                         ngram_range = (2,7), \n",
    "                         min_df = 3, \n",
    "                         max_df = 14,\n",
    "                         dtype= np.float32)\n",
    "    X_train_cc = cc.fit_transform(X_train['Word'].as_matrix())\n",
    "    \n",
    "    X_train = hstack((X_train_cc, Make_x(X_train)))\n",
    "    \n",
    "    # Create parameters to search\n",
    "    gridParams = {\n",
    "        'n_estimators': [90],\n",
    "        'learning_rate': [0.7],\n",
    "        'num_leaves': [100],\n",
    "        'boosting_type' : ['dart'],\n",
    "        'objective' : ['binary'],\n",
    "        'colsample_bytree' : [0.8],\n",
    "        'reg_alpha' : [0.9],\n",
    "        'reg_lambda' : [0.1],\n",
    "        'subsample_freq': [0.5, 1],\n",
    "        'min_split_gain': [0.01, 0.05], \n",
    "        'min_child_weight': [1, 5],\n",
    "        'scale_pos_weight': [0.5]\n",
    "    }\n",
    "    \n",
    "    clf = lgb.LGBMClassifier(boosting_type= 'gbdt', \n",
    "                             objective = 'binary', \n",
    "                             class_weight = 'balanced',\n",
    "                             n_jobs = 1, # Updated from 'nthread' \n",
    "                             silent = False,\n",
    "                             max_depth = -1,\n",
    "                             max_bin = 512,\n",
    "                             subsample_for_bin = 800,\n",
    "                             bagging_freq = 4\n",
    "                            )\n",
    "    \n",
    "    \n",
    "    start_time = datetime.datetime.now()\n",
    "    gs = GridSearchCV(clf, scoring='roc_auc',\n",
    "                      param_grid=gridParams, cv=cv, \n",
    "                      return_train_score=True, n_jobs=-1, verbose = True,\n",
    "                      refit=True)\n",
    "    gs.fit(X_train,Y_train, eval_metric=['roc_auc', 'f1'])\n",
    "    \n",
    "    print ('Time elapsed:', datetime.datetime.now() - start_time)\n",
    "    print (max(gs.cv_results_['mean_test_score']))\n",
    "    \n",
    "    return gs.best_params_"
   ]
  },
  {
   "cell_type": "code",
   "execution_count": 34,
   "metadata": {},
   "outputs": [
    {
     "name": "stdout",
     "output_type": "stream",
     "text": [
      "Fitting 5 folds for each of 24 candidates, totalling 120 fits\n"
     ]
    },
    {
     "name": "stderr",
     "output_type": "stream",
     "text": [
      "[Parallel(n_jobs=-1)]: Done  26 tasks      | elapsed:   16.2s\n",
      "[Parallel(n_jobs=-1)]: Done 120 out of 120 | elapsed:   54.0s finished\n"
     ]
    },
    {
     "name": "stdout",
     "output_type": "stream",
     "text": [
      "Time elapsed: 0:00:56.189551\n",
      "0.9056704446277791\n",
      "{'boosting_type': 'dart', 'colsample_bytree': 0.8, 'learning_rate': 0.7, 'min_child_weight': 1, 'min_split_gain': 0.05, 'n_estimators': 90, 'num_leaves': 100, 'objective': 'binary', 'reg_alpha': 0.9, 'reg_lambda': 0.1, 'scale_pos_weight': 0.5, 'subsample_freq': 0.5}\n"
     ]
    }
   ],
   "source": [
    "p = Testing_grid_lgb(train, train['Label'].as_matrix())\n",
    "print (p)"
   ]
  },
  {
   "cell_type": "markdown",
   "metadata": {},
   "source": [
    "## Retrain our model"
   ]
  },
  {
   "cell_type": "code",
   "execution_count": 40,
   "metadata": {},
   "outputs": [],
   "source": [
    "def vec():\n",
    "    cc = CountVectorizer(encoding = 'unicode',\n",
    "                         lowercase = False,\n",
    "                         analyzer = 'char', \n",
    "                         ngram_range = (2,8), \n",
    "                         min_df = 3, \n",
    "                         max_df = 14,\n",
    "                         dtype= np.float32)\n",
    "    cc = cc.fit(train['Word'].as_matrix())\n",
    "    \n",
    "    X_test_cc, X_train_cc = cc.transform(test['Word'].as_matrix()), cc.transform(train['Word'].as_matrix())\n",
    "        \n",
    "    X_train = hstack((X_train_cc, Make_x(train)))\n",
    "    X_test = hstack((X_test_cc, Make_x(test)))\n",
    "    \n",
    "    return X_train, train['Label'].as_matrix(), X_test\n",
    "\n",
    "def Predict_reg(p):\n",
    "    \n",
    "    X_train, y_train, X_test = vec()\n",
    "    clf = LogisticRegression(class_weight = 'balanced', \n",
    "                             solver = 'sag', n_jobs=1,\n",
    "                             C = p['C'],\n",
    "                             penalty = p['penalty'],\n",
    "                             max_iter = p['max_iter'])\n",
    "    clf.fit(X_train, y_train)\n",
    "    y_pred = clf.predict_proba(X_test)\n",
    "    return y_pred\n",
    "\n",
    "def Predict_lgb(p):\n",
    "    X_train, y_train, X_test = vec()\n",
    "    \n",
    "    clf = lgb.LGBMClassifier(boosting_type= 'gbdt', objective = 'binary', \n",
    "                             class_weight = 'balanced',\n",
    "                             n_jobs = 1, # Updated from 'nthread' \n",
    "                             silent = False,\n",
    "                             max_depth = -1,\n",
    "                             max_bin = 512,\n",
    "                             subsample_for_bin = 250,\n",
    "                             bagging_freq = 4,    \n",
    "                             n_estimators = p['n_estimators'],\n",
    "                             learning_rate = p['learning_rate'],\n",
    "                             num_leaves = p['num_leaves'],\n",
    "                             colsample_bytree = p['colsample_bytree'],\n",
    "                             reg_alpha = p['reg_alpha'],\n",
    "                             reg_lambda = p['reg_lambda'],\n",
    "                             subsample_freq = p['subsample_freq'],\n",
    "                             min_split_gain = p['min_split_gain'], \n",
    "                             min_child_weight = p['min_child_weight']\n",
    "                            )\n",
    "    \n",
    "    clf.fit(X_train, y_train)\n",
    "    y_pred = clf.predict_proba(X_test)\n",
    "    \n",
    "    return y_pred\n"
   ]
  },
  {
   "cell_type": "markdown",
   "metadata": {},
   "source": [
    "## Labling trest data"
   ]
  },
  {
   "cell_type": "code",
   "execution_count": 41,
   "metadata": {},
   "outputs": [
    {
     "name": "stderr",
     "output_type": "stream",
     "text": [
      "/home/denis/anaconda3/lib/python3.6/site-packages/lightgbm/basic.py:447: UserWarning: Converting data to scipy sparse matrix.\n",
      "  warnings.warn('Converting data to scipy sparse matrix.')\n"
     ]
    }
   ],
   "source": [
    "y_pred = Predict_lgb(p)\n",
    "sample = pd.read_csv('sample_submission.csv')\n",
    "sample['Prediction'] = y_pred\n",
    "sample.to_csv('res.csv',index=False)"
   ]
  },
  {
   "cell_type": "code",
   "execution_count": null,
   "metadata": {},
   "outputs": [],
   "source": []
  }
 ],
 "metadata": {
  "kernelspec": {
   "display_name": "Python 3",
   "language": "python",
   "name": "python3"
  },
  "language_info": {
   "codemirror_mode": {
    "name": "ipython",
    "version": 3
   },
   "file_extension": ".py",
   "mimetype": "text/x-python",
   "name": "python",
   "nbconvert_exporter": "python",
   "pygments_lexer": "ipython3",
   "version": "3.6.2"
  },
  "toc": {
   "nav_menu": {},
   "number_sections": true,
   "sideBar": true,
   "skip_h1_title": false,
   "title_cell": "Table of Contents",
   "title_sidebar": "Contents",
   "toc_cell": false,
   "toc_position": {},
   "toc_section_display": true,
   "toc_window_display": false
  }
 },
 "nbformat": 4,
 "nbformat_minor": 2
}
