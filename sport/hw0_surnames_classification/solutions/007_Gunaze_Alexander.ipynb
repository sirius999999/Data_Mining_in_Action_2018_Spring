{
 "cells": [
  {
   "cell_type": "code",
   "execution_count": 2,
   "metadata": {},
   "outputs": [],
   "source": [
    "import pandas as pd\n",
    "import numpy as np\n",
    "\n",
    "from __future__ import division, print_function\n",
    "# отключим всякие предупреждения Anaconda\n",
    "from __future__ import division, print_function\n",
    "# отключим всякие предупреждения Anaconda\n",
    "import warnings\n",
    "warnings.filterwarnings('ignore')\n",
    "\n",
    "import matplotlib.pyplot as plt\n",
    "from pylab import rcParams\n",
    "rcParams['figure.figsize'] = 18, 5\n",
    "import seaborn as sns\n",
    "\n",
    "from natasha import NamesExtractor\n",
    "import pymystem3\n",
    "\n",
    "from scipy.sparse import csr_matrix\n",
    "from scipy.sparse import hstack"
   ]
  },
  {
   "cell_type": "markdown",
   "metadata": {},
   "source": [
    "## Считывание данных"
   ]
  },
  {
   "cell_type": "code",
   "execution_count": 3,
   "metadata": {},
   "outputs": [],
   "source": [
    "train_df=pd.read_csv('train.csv')\n",
    "test_df=pd.read_csv('test.csv')\n",
    "# выделяем целевую переменную и объединяем train и test\n",
    "y_train=train_df['Label']\n",
    "full_df=train_df.drop('Label',axis=1).append(test_df)"
   ]
  },
  {
   "cell_type": "code",
   "execution_count": 4,
   "metadata": {},
   "outputs": [],
   "source": [
    "idx_split=train_df.shape[0]"
   ]
  },
  {
   "cell_type": "markdown",
   "metadata": {},
   "source": [
    "## Получение признаков"
   ]
  },
  {
   "cell_type": "markdown",
   "metadata": {},
   "source": [
    "из pymorphy:"
   ]
  },
  {
   "cell_type": "code",
   "execution_count": 5,
   "metadata": {},
   "outputs": [],
   "source": [
    "from sklearn.preprocessing import LabelEncoder\n",
    "import pymorphy2\n",
    "morph = pymorphy2.MorphAnalyzer()"
   ]
  },
  {
   "cell_type": "code",
   "execution_count": 6,
   "metadata": {},
   "outputs": [],
   "source": [
    "full_df['Normal form']=full_df['Word'].apply(lambda x:morph.parse(x)[0][2])\n",
    "\n",
    "all_data = full_df['Word'].apply(lambda x: morph.tag(x)[0])\n",
    "\n",
    "full_df['Pymorphy_animacy'] = all_data.apply(lambda x: x.animacy)\n",
    "full_df['Pymorphy_POS'] = all_data.apply(lambda x: x.POS)\n",
    "full_df['Pymorphy_case'] = all_data.apply(lambda x: x.case)\n",
    "full_df['Pymorphy_number'] = all_data.apply(lambda x: x.number)\n",
    "full_df['Pymorphy_gender'] = all_data.apply(lambda x: x.gender)"
   ]
  },
  {
   "cell_type": "code",
   "execution_count": 7,
   "metadata": {},
   "outputs": [],
   "source": [
    "columns_to_one_hot = ['Pymorphy_animacy', 'Pymorphy_POS', 'Pymorphy_case','Pymorphy_number', 'Pymorphy_gender']\n",
    "\n",
    "for col in columns_to_one_hot:\n",
    "    full_df[col] = LabelEncoder().fit_transform(list(full_df[col].fillna('nan')))"
   ]
  },
  {
   "cell_type": "markdown",
   "metadata": {},
   "source": [
    "Из Наташи:"
   ]
  },
  {
   "cell_type": "code",
   "execution_count": 8,
   "metadata": {},
   "outputs": [],
   "source": [
    "func = NamesExtractor()\n",
    "def function_natasha(word):\n",
    "    return 1 if func(word) else 0\n",
    "\n",
    "full_df['natasha_person'] = full_df['Word'].apply(function_natasha)"
   ]
  },
  {
   "cell_type": "markdown",
   "metadata": {},
   "source": [
    "Из pymystem:"
   ]
  },
  {
   "cell_type": "code",
   "execution_count": 9,
   "metadata": {},
   "outputs": [],
   "source": [
    "mystem = pymystem3.Mystem()\n",
    "\n",
    "def name_from_pymystem(word):\n",
    "    try:\n",
    "        return 1 if 'имя' in mystem.analyze(word)[0]['analysis'][0]['gr'].split(',') else 0\n",
    "    except:\n",
    "        return 0\n",
    "\n",
    "def surn_from_pymystem(word):\n",
    "    try:\n",
    "        return 1 if 'фам' in mystem.analyze(word)[0]['analysis'][0]['gr'].split(',') else 0\n",
    "    except:\n",
    "        return 0\n",
    "\n",
    "full_df['name_from_pymystem'] = full_df['Word'].apply(name_from_pymystem)\n",
    "full_df['surn_from_pymystem'] = full_df['Word'].apply(surn_from_pymystem)"
   ]
  },
  {
   "cell_type": "markdown",
   "metadata": {},
   "source": [
    "из свойств слов и таблицы:"
   ]
  },
  {
   "cell_type": "code",
   "execution_count": 10,
   "metadata": {},
   "outputs": [],
   "source": [
    "full_df['count']=full_df.groupby('Normal form')['Normal form'].transform(lambda x: x.count())\n",
    "full_df['length']=full_df['Normal form'].apply(lambda x: len(x))\n",
    "full_df['first_letter']=full_df['Word'].apply(lambda x: int(x.istitle()))"
   ]
  },
  {
   "cell_type": "markdown",
   "metadata": {},
   "source": [
    "Также хотелось бы как-то отметить то, что фамилии имеют характерные окончания: -ов, -ова, -ко, -дзе и т.д.\n",
    "Для этого выделим последние 4 2-граммы каждого слова и перейдём к разреженной матрице"
   ]
  },
  {
   "cell_type": "code",
   "execution_count": 11,
   "metadata": {},
   "outputs": [],
   "source": [
    "def cutter(s,i):\n",
    "    if((i==2) & (len(s)>=2)):\n",
    "        return s[-2:]\n",
    "    if(len(s)>=i):\n",
    "        return s[-i:-i+2]\n",
    "    return '0'"
   ]
  },
  {
   "cell_type": "code",
   "execution_count": 12,
   "metadata": {},
   "outputs": [],
   "source": [
    "full_df['1']=full_df['Normal form'].apply(lambda x:cutter(x,2))\n",
    "full_df['2']=full_df['Normal form'].apply(lambda x:cutter(x,3))\n",
    "full_df['3']=full_df['Normal form'].apply(lambda x:cutter(x,4))\n",
    "full_df['4']=full_df['Normal form'].apply(lambda x:cutter(x,5))\n",
    "full_df1=full_df[['1','2','3','4']]"
   ]
  },
  {
   "cell_type": "markdown",
   "metadata": {},
   "source": [
    "Ставим в соответствие каждой 2-грамме число"
   ]
  },
  {
   "cell_type": "code",
   "execution_count": 13,
   "metadata": {},
   "outputs": [],
   "source": [
    "grams_flatten = full_df1.values.flatten()\n",
    "a=list(np.unique(grams_flatten))"
   ]
  },
  {
   "cell_type": "code",
   "execution_count": 14,
   "metadata": {},
   "outputs": [],
   "source": [
    "full_df['index1']=full_df['1'].apply(lambda x:a.index(x))\n",
    "full_df['index2']=full_df['2'].apply(lambda x:a.index(x))\n",
    "full_df['index3']=full_df['3'].apply(lambda x:a.index(x))\n",
    "full_df['index4']=full_df['4'].apply(lambda x:a.index(x))"
   ]
  },
  {
   "cell_type": "markdown",
   "metadata": {},
   "source": [
    "Получаем разреженную матрицу"
   ]
  },
  {
   "cell_type": "code",
   "execution_count": 15,
   "metadata": {},
   "outputs": [],
   "source": [
    "full_df2=full_df[['index1','index2','index3','index4']]\n",
    "grams_flatten = full_df2.values.flatten()\n",
    "\n",
    "# искомая матрица\n",
    "df_sparse = csr_matrix(([1] * grams_flatten.shape[0],\n",
    "                                grams_flatten,\n",
    "                                range(0, grams_flatten.shape[0]  + 4, 4)))[:, 1:]"
   ]
  },
  {
   "cell_type": "markdown",
   "metadata": {},
   "source": [
    "Добавляем ранее полученные признаки"
   ]
  },
  {
   "cell_type": "code",
   "execution_count": 17,
   "metadata": {},
   "outputs": [],
   "source": [
    "tmp = full_df[['Pymorphy_animacy', 'Pymorphy_POS',\n",
    "       'Pymorphy_case', 'Pymorphy_number', 'Pymorphy_gender', 'count',\n",
    "       'length', 'first_letter','natasha_person', 'name_from_pymystem',\n",
    "       'surn_from_pymystem']].as_matrix()\n",
    "X_train = csr_matrix(hstack([df_sparse[:idx_split,:], tmp[:idx_split,:]]))\n",
    "X_test = csr_matrix(hstack([df_sparse[idx_split:,:], tmp[idx_split:,:]]))"
   ]
  },
  {
   "cell_type": "markdown",
   "metadata": {},
   "source": [
    "## Построение модели"
   ]
  },
  {
   "cell_type": "code",
   "execution_count": 18,
   "metadata": {},
   "outputs": [],
   "source": [
    "from sklearn.metrics import roc_auc_score\n",
    "from sklearn.model_selection import cross_val_score, StratifiedKFold"
   ]
  },
  {
   "cell_type": "code",
   "execution_count": 19,
   "metadata": {},
   "outputs": [],
   "source": [
    "import xgboost as xgb"
   ]
  },
  {
   "cell_type": "code",
   "execution_count": 20,
   "metadata": {},
   "outputs": [],
   "source": [
    "def validate(x, y, estimators=600, rate=0.1, seed=17,depth=10, subs=0.8, colsample=0.8,alph=0):\n",
    "    model = xgb.XGBClassifier(n_estimators=estimators, learning_rate=rate, random_state=seed,\n",
    "                              subsample=subs, colsample_bytree=colsample, max_depth=depth, \n",
    "                              min_child_weight=0.5,reg_alpha=alph)\n",
    "    cv = StratifiedKFold(4 ,shuffle=True, random_state=99)\n",
    "    score = cross_val_score(model, x, y, scoring='roc_auc' , cv=cv)\n",
    "    print (score.mean() , score.std() , '\\n')"
   ]
  },
  {
   "cell_type": "markdown",
   "metadata": {},
   "source": [
    "0.9585178564786234"
   ]
  },
  {
   "cell_type": "code",
   "execution_count": 21,
   "metadata": {},
   "outputs": [
    {
     "name": "stdout",
     "output_type": "stream",
     "text": [
      "0.9582570062940432 0.0012969266916602804 \n",
      "\n",
      "CPU times: user 3min 50s, sys: 200 ms, total: 3min 50s\n",
      "Wall time: 3min 50s\n"
     ]
    }
   ],
   "source": [
    "%%time\n",
    "validate(X_train, y_train,subs=0.8,colsample=0.7)"
   ]
  },
  {
   "cell_type": "code",
   "execution_count": 23,
   "metadata": {},
   "outputs": [],
   "source": [
    "my_xgb = xgb.XGBClassifier(n_estimators=600, random_state=17, max_depth=10, colsample_bytree=0.7,\n",
    "                           subsample=0.8, min_child_weight=0.5,learning_rate=0.1, n_jobs=-1).fit(X_train, y_train)\n",
    "\n",
    "# сделаем прогноз для тестовой выборки\n",
    "y_test_xgb = my_xgb.predict_proba(X_test)[:, 1]"
   ]
  },
  {
   "cell_type": "code",
   "execution_count": 24,
   "metadata": {},
   "outputs": [],
   "source": [
    "result = pd.read_csv('sample_submission.csv',index_col='Id')\n",
    "result['Prediction'] = y_test_xgb\n",
    "result.to_csv('xgb.csv',index_label='Id')"
   ]
  }
 ],
 "metadata": {
  "kernelspec": {
   "display_name": "Python 3",
   "language": "python",
   "name": "python3"
  },
  "language_info": {
   "codemirror_mode": {
    "name": "ipython",
    "version": 3
   },
   "file_extension": ".py",
   "mimetype": "text/x-python",
   "name": "python",
   "nbconvert_exporter": "python",
   "pygments_lexer": "ipython3",
   "version": "3.5.2"
  }
 },
 "nbformat": 4,
 "nbformat_minor": 2
}
