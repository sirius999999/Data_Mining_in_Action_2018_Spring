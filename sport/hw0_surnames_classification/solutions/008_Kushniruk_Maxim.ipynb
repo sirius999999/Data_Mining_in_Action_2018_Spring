{
 "cells": [
  {
   "cell_type": "code",
   "execution_count": 1,
   "metadata": {},
   "outputs": [
    {
     "name": "stderr",
     "output_type": "stream",
     "text": [
      "/home/maxim/anaconda2/lib/python2.7/site-packages/sklearn/cross_validation.py:41: DeprecationWarning: This module was deprecated in version 0.18 in favor of the model_selection module into which all the refactored classes and functions are moved. Also note that the interface of the new CV iterators are different from that of this module. This module will be removed in 0.20.\n",
      "  \"This module will be removed in 0.20.\", DeprecationWarning)\n",
      "/home/maxim/anaconda2/lib/python2.7/site-packages/sklearn/grid_search.py:42: DeprecationWarning: This module was deprecated in version 0.18 in favor of the model_selection module into which all the refactored classes and functions are moved. This module will be removed in 0.20.\n",
      "  DeprecationWarning)\n"
     ]
    }
   ],
   "source": [
    "import numpy as np\n",
    "import warnings\n",
    "import re\n",
    "warnings.filterwarnings('ignore')\n",
    "from sklearn import metrics, cross_validation, preprocessing, pipeline\n",
    "import pandas as pd\n",
    "import seaborn as sns\n",
    "import matplotlib.pyplot as plt\n",
    "from sklearn.linear_model import LogisticRegression, SGDClassifier, RidgeClassifier, Perceptron\n",
    "from sklearn.ensemble import VotingClassifier\n",
    "from sklearn.grid_search import GridSearchCV\n",
    "from sklearn.cross_validation import StratifiedKFold\n",
    "from sklearn.cross_validation import cross_val_score, train_test_split\n",
    "from sklearn.preprocessing import StandardScaler, MaxAbsScaler\n",
    "from sklearn.metrics import accuracy_score\n",
    "from sklearn import metrics\n",
    "# from catboost import CatBoostClassifier\n",
    "from sklearn.pipeline import FeatureUnion\n",
    "from sklearn.pipeline import Pipeline\n",
    "from sklearn.preprocessing import FunctionTransformer ,normalize, scale,StandardScaler\n",
    "import pickle\n",
    "sns.set()\n",
    "import warnings\n",
    "from sklearn.feature_extraction.text import CountVectorizer, TfidfVectorizer, HashingVectorizer\n",
    "from sklearn.feature_extraction.text import TfidfTransformer\n",
    "import transliterate\n",
    " \n",
    "\n",
    "warnings.filterwarnings('ignore')\n",
    "%matplotlib inline"
   ]
  },
  {
   "cell_type": "code",
   "execution_count": 2,
   "metadata": {
    "collapsed": true
   },
   "outputs": [],
   "source": [
    "df=pd.read_csv('train.csv', encoding=\"utf-8\")\n",
    "df_test=pd.read_csv('test.csv', encoding=\"utf-8\")\n",
    "\n",
    "combine = [df, df_test]"
   ]
  },
  {
   "cell_type": "code",
   "execution_count": 3,
   "metadata": {
    "collapsed": true
   },
   "outputs": [],
   "source": [
    "CONS = u\"бвгджзклмнпрстфхцчшщ\"\n",
    "VOV = u\"аеёиоуыэюя\"\n",
    "\n",
    "\n",
    "for dataset in combine:\n",
    "    #dataset.Word.apply(str)\n",
    "    duplicates = np.array(dataset[dataset.duplicated('Word')].Word)\n",
    "    duplicates_index=dataset[dataset.duplicated('Word') ].index.tolist() \n",
    "    \n",
    "    dataset['index_ind'] =  dataset.index.tolist() \n",
    "    dataset['istitle'] =  dataset.Word.apply(lambda x: 1  if x.istitle()  else 0  )\n",
    "    dataset['isupper'] =  dataset.Word.apply(lambda x: 1  if x.isupper()  else 0  )\n",
    "    dataset['isalpha'] =  dataset.Word.apply(lambda x: 1  if x.isalpha()  else 0  )\n",
    "    dataset['len']= dataset.Word.apply(lambda x: len(x) )\n",
    "    #dataset['len_other']= dataset.Word.apply(lambda x: 1 if len(x)>=2 and len(x)<=11  else 0  )\n",
    "    dataset['len_other']= dataset.Word.apply(lambda x: 1  )\n",
    "    dataset['CONS_count'] = dataset.Word.apply(lambda x: 0 )\n",
    "    #dataset['CONS_count'] = dataset.Word.apply(lambda x: len([char for char in x.lower() if char in CONS ]))\n",
    "    dataset['VOV_count'] = dataset.Word.apply(lambda x: len([char for char in x.lower() if char in VOV ]))\n",
    "    dataset['last_3'] =  dataset.Word.apply(lambda x:  x[-3:])\n",
    "   # dataset['natasha_person'] =  dataset.Word.apply(function_natasha)\n",
    "    \n",
    "    dataset['duplicates'] = dataset.Word.apply(lambda x: 1 if x in duplicates else 0 )\n",
    "    dataset['duplicates_ind'] =  dataset.index_ind.apply(lambda x:  1 if x in duplicates_index else 0)\n",
    "    \n",
    "\n",
    "    \n",
    "train_col=['Word','last_3',  'VOV_count','CONS_count','len','isalpha','isupper','istitle','len_other']  \n",
    "\n",
    "\n",
    "  \n",
    "# ['duplicates_ind','duplicates','VOV_count','CONS_count','len_other','len','isalpha','isupper','istitle']"
   ]
  },
  {
   "cell_type": "code",
   "execution_count": 4,
   "metadata": {},
   "outputs": [
    {
     "name": "stdout",
     "output_type": "stream",
     "text": [
      "[ True False False False False False False False False]\n",
      "[False  True False False False False False False False]\n",
      "[False False  True  True  True False False False False]\n",
      "[False False False False False  True  True  True  True]\n"
     ]
    }
   ],
   "source": [
    "cat_col1=['Word']\n",
    "global categorical_data_indices1\n",
    "categorical_data_indices1 = np.array([(column in cat_col1) for column in df[train_col].columns], dtype = bool)\n",
    "print (categorical_data_indices1)\n",
    "\n",
    "cat_col2=['last_3']\n",
    "global categorical_data_indices2\n",
    "categorical_data_indices2 = np.array([(column in cat_col2) for column in df[train_col].columns], dtype = bool)\n",
    "print (categorical_data_indices2)\n",
    "\n",
    "float_col=['len','CONS_count','VOV_count']\n",
    "global numeric_data_indices\n",
    "numeric_data_indices = np.array([(column in float_col) for column in df[train_col].columns], dtype = bool)\n",
    "print (numeric_data_indices)\n",
    "\n",
    "global binary_data_indices \n",
    "binary_data_indices = np.array([(column not in float_col and column not in cat_col1 and column not in cat_col2) for column in df[train_col].columns], dtype = bool)\n",
    "print (binary_data_indices)"
   ]
  },
  {
   "cell_type": "code",
   "execution_count": 5,
   "metadata": {
    "collapsed": true
   },
   "outputs": [],
   "source": [
    "class ColumnExtractor_1st(object):\n",
    "    \n",
    "  #  def __init__(self, key):\n",
    "   #     self.key = key\n",
    "\n",
    "    def transform(self, X):\n",
    "        cols = X[:,0] # column 1st column\n",
    "        return cols\n",
    "\n",
    "    def fit(self, X, y=None):\n",
    "        return self\n",
    "    \n",
    "class ColumnExtractor_2st(object):\n",
    "    \n",
    "\n",
    "\n",
    "    def transform(self, X):\n",
    "        cols = X[:,1] # column 2nd column\n",
    "        return cols\n",
    "\n",
    "    def fit(self, X, y=None):\n",
    "        return self\n",
    "    \n",
    "class ColumnExtractor_3st(object):\n",
    "\n",
    "\n",
    "    def transform(self, X):\n",
    "        cols = X[:,2:5] # column  continous \n",
    "        return cols.astype(float)\n",
    "\n",
    "    def fit(self, X, y=None):\n",
    "        return self\n",
    "    \n",
    "class ColumnExtractor_4st(object):\n",
    "\n",
    "\n",
    "    def transform(self, X):\n",
    "        cols = X[:,5:] # column  continous \n",
    "        return cols.astype(float)\n",
    "\n",
    "    def fit(self, X, y=None):\n",
    "        return self"
   ]
  },
  {
   "cell_type": "code",
   "execution_count": 6,
   "metadata": {
    "collapsed": true
   },
   "outputs": [],
   "source": [
    "def MyPipe_v4(model):\n",
    "    pipe = pipeline.Pipeline([\n",
    "                         ('features', FeatureUnion([\n",
    "                             ('word_CountVectorizer', pipeline.Pipeline([\n",
    "                                 #('selecting', FunctionTransformer(lambda data: data[:, categorical_data_indices1])) ,\n",
    "                           \n",
    "                                 ('reduce_dim', ColumnExtractor_1st()),\n",
    "                                 ('vect', CountVectorizer(ngram_range=(2,7), analyzer='char',lowercase=False)),\n",
    "                                # ('TfidfTransformer',TfidfTransformer()),\n",
    "                                 #('scl', scaler),\n",
    "                                \n",
    "                                 \n",
    "                                 \n",
    "                                 \n",
    "                                 ])),\n",
    "                            ('last_3_CountVectorizer', pipeline.Pipeline([\n",
    "                                ('reduce_dim', ColumnExtractor_2st()),\n",
    "                                ('vect', CountVectorizer(ngram_range=(2,3), analyzer='char',lowercase=False)),\n",
    "                            ##     ('TfidfTransformer',TfidfTransformer()),\n",
    "                                #('scl', scaler),\n",
    "            \n",
    "                                ])),\n",
    "                             \n",
    "                            ('continuous', pipeline.Pipeline([\n",
    "                                  ('reduce_dim', ColumnExtractor_3st()),\n",
    "                                  ('scaling', MaxAbsScaler())\n",
    "                             ])),\n",
    "                             ('binury', pipeline.Pipeline([\n",
    "                                  ('reduce_dim', ColumnExtractor_4st()),\n",
    "                                \n",
    "                             ])),\n",
    "                            \n",
    "                        \n",
    "                           \n",
    "                             \n",
    "                             \n",
    "                             \n",
    "                             \n",
    "                             \n",
    "        \n",
    "        \n",
    "        \n",
    "        \n",
    "                         \n",
    "                              ])),\n",
    "                              \n",
    "                              \n",
    "                              ('clf', model)\n",
    "                            ])\n",
    "    return pipe"
   ]
  },
  {
   "cell_type": "code",
   "execution_count": 7,
   "metadata": {},
   "outputs": [
    {
     "name": "stdout",
     "output_type": "stream",
     "text": [
      "valuesROC-AUC (LR): 0.931015713067/0.00150023424529\n"
     ]
    }
   ],
   "source": [
    "\n",
    "cv = StratifiedKFold(df[df.duplicates==0].Label, n_folds=5, shuffle=True)\n",
    "train_col=['Word','last_3',  'VOV_count','CONS_count','len','isalpha','isupper','istitle','len_other']\n",
    "\n",
    "\n",
    "\n",
    "log_reg = LogisticRegression(penalty='l2', n_jobs=4, random_state=42,\n",
    "                             class_weight='balanced',\n",
    "                             C = 0.1, max_iter=50, solver='sag')\n",
    "\n",
    "\n",
    "my_pipe_log=MyPipe_v4(log_reg)\n",
    "\n",
    "\n",
    "score_log=cross_val_score(my_pipe_log, np.array(df[df.duplicates==0][train_col]), df[df.duplicates==0].Label, cv=cv, scoring='roc_auc')\n",
    "print(\"valuesROC-AUC (LR): {}/{}\".format(score_log.mean(), score_log.std()))"
   ]
  },
  {
   "cell_type": "code",
   "execution_count": 8,
   "metadata": {},
   "outputs": [
    {
     "name": "stdout",
     "output_type": "stream",
     "text": [
      "ROC-AUC (LR): 0.932636098363/0.00220553953636\n",
      "0.932636098363 0.00220553953636\n"
     ]
    }
   ],
   "source": [
    "\n",
    "cv = StratifiedKFold(df[df.duplicates==0].Label, n_folds=5, shuffle=True)\n",
    "train_col=['Word','last_3',  'VOV_count','CONS_count','len','isalpha','isupper','istitle','len_other']\n",
    "\n",
    "svm_sgd=SGDClassifier(loss='modified_huber', penalty='l2', alpha=1e-3, n_iter=200, random_state=42, \n",
    "                      n_jobs=4, class_weight='balanced')\n",
    "\n",
    "sgd_pipe=MyPipe_v4(svm_sgd)\n",
    "\n",
    "\n",
    "score_svm_sgd=cross_val_score(sgd_pipe,np.array(df[df.duplicates==0][train_col]), df[df.duplicates==0].Label, cv=cv, n_jobs=4, scoring='roc_auc')\n",
    "print(\"ROC-AUC (LR): {}/{}\".format(score_svm_sgd.mean(), score_svm_sgd.std()))\n",
    "print score_svm_sgd.mean() , score_svm_sgd.std()"
   ]
  },
  {
   "cell_type": "code",
   "execution_count": 117,
   "metadata": {},
   "outputs": [
    {
     "name": "stdout",
     "output_type": "stream",
     "text": [
      "ROC-AUC (LR): 0.93173131076/0.00332688209995 log l2 0.0001 100\n",
      "ROC-AUC (LR): 0.933008103489/0.00288496463752 log l2 1e-05 100\n",
      "ROC-AUC (LR): 0.917277988436/0.00428209187709 log l2 0.001 100\n",
      "ROC-AUC (LR): 0.931715460078/0.00331303769308 log l2 0.0001 200\n",
      "ROC-AUC (LR): 0.933152480475/0.00293851682033 log l2 1e-05 200\n",
      "ROC-AUC (LR): 0.917262022596/0.00428199273337 log l2 0.001 200\n",
      "ROC-AUC (LR): 0.931712082298/0.00332313049129 log l2 0.0001 300\n",
      "ROC-AUC (LR): 0.933222722717/0.00294992605696 log l2 1e-05 300\n",
      "ROC-AUC (LR): 0.917255592707/0.00428218628049 log l2 0.001 300\n",
      "ROC-AUC (LR): 0.931709342456/0.00331837682179 log l2 0.0001 400\n",
      "ROC-AUC (LR): 0.933225250152/0.00295598915346 log l2 1e-05 400\n",
      "ROC-AUC (LR): 0.917253548041/0.00428334223714 log l2 0.001 400\n"
     ]
    }
   ],
   "source": [
    "for clf__n_iter in  range(100,500,100):\n",
    "    for clf__alpha in [1e-4, 1e-5, 1e-3]:\n",
    "        for clf__penalty in [ \"l2\"]:\n",
    "            for clf_loss in ['log']:\n",
    "                svm_sgd=SGDClassifier(loss=clf_loss, penalty=clf__penalty, alpha=clf__alpha, n_iter=clf__n_iter, random_state=42, \n",
    "                      n_jobs=4, class_weight='balanced')\n",
    "                sgd_pipe=MyPipe_v4(svm_sgd)\n",
    "                score_svm_sgd=cross_val_score(sgd_pipe,np.array(df[df.duplicates==0][train_col]), df[df.duplicates==0].Label, cv=cv, n_jobs=4, scoring='roc_auc')\n",
    "                print(\"ROC-AUC (LR): {}/{}\".format(score_svm_sgd.mean(), score_svm_sgd.std())) ,clf_loss,clf__penalty,clf__alpha,clf__n_iter\n",
    "                \n",
    "            \n",
    "            "
   ]
  },
  {
   "cell_type": "code",
   "execution_count": null,
   "metadata": {
    "collapsed": true
   },
   "outputs": [],
   "source": []
  },
  {
   "cell_type": "code",
   "execution_count": 56,
   "metadata": {
    "collapsed": true
   },
   "outputs": [],
   "source": [
    "\n",
    "\n",
    "cv = StratifiedKFold(df[df.duplicates==0].Label, n_folds=5, shuffle=True)\n",
    "train_col=['Word','last_3',  'VOV_count','CONS_count','len','isalpha','isupper','istitle','len_other']\n",
    "\n",
    "svm_sgd=SGDClassifier(loss='log', penalty='l2', alpha=1e-5, n_iter=300, random_state=42, \n",
    "                      n_jobs=4, class_weight='balanced')\n",
    "\n",
    "sgd_pipe=MyPipe_v4(svm_sgd)\n",
    "\n",
    "sgd_pipe.fit(np.array(df[df.duplicates==0][train_col]), df[df.duplicates==0].Label)\n",
    "sgd_pred=sgd_pipe.predict_proba(np.array(df_test[train_col]))[:,1]\n",
    "df_test['pred1']=sgd_pred\n",
    "\n",
    "df_test.pred1[(df_test.duplicates==1) & (df_test.duplicates_ind==1) ]=1\n",
    "df_test.pred1[(df_test.duplicates==1) & (df_test.duplicates_ind==0) ]=0\n",
    "\n",
    "#score_svm_sgd=cross_val_score(sgd_pipe,np.array(df[df.duplicates==0][train_col]), df[df.duplicates==0].Label, cv=cv, n_jobs=4, scoring='roc_auc')\n",
    "#print(\"ROC-AUC (LR): {}/{}\".format(score_svm_sgd.mean(), score_svm_sgd.std()))\n",
    " "
   ]
  },
  {
   "cell_type": "code",
   "execution_count": 27,
   "metadata": {
    "collapsed": true
   },
   "outputs": [],
   "source": [
    "df_test['db']= df_test.Word.apply(lambda x: 1  if x in  df.Word.values  else 0  )"
   ]
  },
  {
   "cell_type": "code",
   "execution_count": 58,
   "metadata": {
    "collapsed": true
   },
   "outputs": [],
   "source": [
    "df_test_1=df_test.merge(df[['Word','Label']],on='Word', how='left')"
   ]
  },
  {
   "cell_type": "code",
   "execution_count": 63,
   "metadata": {
    "collapsed": true
   },
   "outputs": [],
   "source": [
    "\n",
    "df_test_1.pred1[df_test_1.Label==0]=1\n",
    "df_test_1.pred1[df_test_1.Label==1]=0"
   ]
  },
  {
   "cell_type": "code",
   "execution_count": 65,
   "metadata": {
    "collapsed": true
   },
   "outputs": [],
   "source": [
    "preds=pd.DataFrame({'Id':range(len(df_test)),'Prediction': df_test_1.pred1})\n"
   ]
  },
  {
   "cell_type": "code",
   "execution_count": 66,
   "metadata": {
    "collapsed": true
   },
   "outputs": [],
   "source": [
    "preds.to_csv('hw0_v2.csv', sep=',',  index=False)"
   ]
  },
  {
   "cell_type": "code",
   "execution_count": 17,
   "metadata": {},
   "outputs": [
    {
     "data": {
      "text/plain": [
       "<matplotlib.axes._subplots.AxesSubplot at 0x7faac04b5350>"
      ]
     },
     "execution_count": 17,
     "metadata": {},
     "output_type": "execute_result"
    },
    {
     "data": {
      "image/png": "[encoded data removed]",
      "text/plain": [
       "<matplotlib.figure.Figure at 0x7faac04bf790>"
      ]
     },
     "metadata": {},
     "output_type": "display_data"
    }
   ],
   "source": [
    "df[df.duplicates==1].pivot_table('Word','duplicates_ind','Label','count').plot(kind='bar', stacked=True)"
   ]
  },
  {
   "cell_type": "code",
   "execution_count": null,
   "metadata": {
    "collapsed": true
   },
   "outputs": [],
   "source": []
  }
 ],
 "metadata": {
  "kernelspec": {
   "display_name": "Python 2",
   "language": "python",
   "name": "python2"
  },
  "language_info": {
   "codemirror_mode": {
    "name": "ipython",
    "version": 2
   },
   "file_extension": ".py",
   "mimetype": "text/x-python",
   "name": "python",
   "nbconvert_exporter": "python",
   "pygments_lexer": "ipython2",
   "version": "2.7.13"
  }
 },
 "nbformat": 4,
 "nbformat_minor": 2
}
