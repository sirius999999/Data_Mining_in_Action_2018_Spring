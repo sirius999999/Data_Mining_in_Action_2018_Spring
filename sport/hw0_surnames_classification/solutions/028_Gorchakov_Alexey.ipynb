{
 "cells": [
  {
   "cell_type": "code",
   "execution_count": 1,
   "metadata": {},
   "outputs": [],
   "source": [
    "%matplotlib inline"
   ]
  },
  {
   "cell_type": "code",
   "execution_count": 2,
   "metadata": {},
   "outputs": [],
   "source": [
    "import pandas as pd\n",
    "import numpy as np\n",
    "import matplotlib as mpl\n",
    "import matplotlib.pyplot as plt\n",
    "\n",
    "import sklearn\n",
    "import sklearn.metrics\n",
    "import sklearn.model_selection"
   ]
  },
  {
   "cell_type": "code",
   "execution_count": 3,
   "metadata": {},
   "outputs": [],
   "source": [
    "def to_lower_word(row):\n",
    "    return row.Word.lower()"
   ]
  },
  {
   "cell_type": "code",
   "execution_count": 4,
   "metadata": {},
   "outputs": [
    {
     "name": "stdout",
     "output_type": "stream",
     "text": [
      "(188920, 1)\n"
     ]
    }
   ],
   "source": [
    "df_test = pd.read_csv(\"./data/test.csv\", encoding=\"utf-8\")\n",
    "print df_test.shape"
   ]
  },
  {
   "cell_type": "code",
   "execution_count": 5,
   "metadata": {},
   "outputs": [
    {
     "name": "stdout",
     "output_type": "stream",
     "text": [
      "(101408, 2)\n"
     ]
    }
   ],
   "source": [
    "df_train = pd.read_csv(\"./data/train.csv\", encoding=\"utf-8\")\n",
    "print df_train.shape"
   ]
  },
  {
   "cell_type": "code",
   "execution_count": 6,
   "metadata": {},
   "outputs": [],
   "source": [
    "df_train[\"word_lower\"] = df_train.apply(to_lower_word, axis=1)\n",
    "df_test[\"word_lower\"] = df_test.apply(to_lower_word, axis=1)"
   ]
  },
  {
   "cell_type": "code",
   "execution_count": 7,
   "metadata": {},
   "outputs": [
    {
     "data": {
      "text/html": [
       "<div>\n",
       "<style scoped>\n",
       "    .dataframe tbody tr th:only-of-type {\n",
       "        vertical-align: middle;\n",
       "    }\n",
       "\n",
       "    .dataframe tbody tr th {\n",
       "        vertical-align: top;\n",
       "    }\n",
       "\n",
       "    .dataframe thead th {\n",
       "        text-align: right;\n",
       "    }\n",
       "</style>\n",
       "<table border=\"1\" class=\"dataframe\">\n",
       "  <thead>\n",
       "    <tr style=\"text-align: right;\">\n",
       "      <th></th>\n",
       "      <th>Word</th>\n",
       "      <th>Label</th>\n",
       "      <th>word_lower</th>\n",
       "    </tr>\n",
       "  </thead>\n",
       "  <tbody>\n",
       "    <tr>\n",
       "      <th>0</th>\n",
       "      <td>Аалтонен</td>\n",
       "      <td>1</td>\n",
       "      <td>аалтонен</td>\n",
       "    </tr>\n",
       "    <tr>\n",
       "      <th>1</th>\n",
       "      <td>Аар</td>\n",
       "      <td>0</td>\n",
       "      <td>аар</td>\n",
       "    </tr>\n",
       "    <tr>\n",
       "      <th>2</th>\n",
       "      <td>Аарон</td>\n",
       "      <td>0</td>\n",
       "      <td>аарон</td>\n",
       "    </tr>\n",
       "    <tr>\n",
       "      <th>3</th>\n",
       "      <td>ААРОН</td>\n",
       "      <td>0</td>\n",
       "      <td>аарон</td>\n",
       "    </tr>\n",
       "    <tr>\n",
       "      <th>4</th>\n",
       "      <td>Аарона</td>\n",
       "      <td>0</td>\n",
       "      <td>аарона</td>\n",
       "    </tr>\n",
       "  </tbody>\n",
       "</table>\n",
       "</div>"
      ],
      "text/plain": [
       "       Word  Label word_lower\n",
       "0  Аалтонен      1   аалтонен\n",
       "1       Аар      0        аар\n",
       "2     Аарон      0      аарон\n",
       "3     ААРОН      0      аарон\n",
       "4    Аарона      0     аарона"
      ]
     },
     "execution_count": 7,
     "metadata": {},
     "output_type": "execute_result"
    }
   ],
   "source": [
    "df_train.head()"
   ]
  },
  {
   "cell_type": "code",
   "execution_count": 8,
   "metadata": {},
   "outputs": [],
   "source": [
    "import sklearn"
   ]
  },
  {
   "cell_type": "code",
   "execution_count": 9,
   "metadata": {},
   "outputs": [],
   "source": [
    "#vc = df_train.Word.value_counts()\n",
    "vc = df_train.word_lower.value_counts()"
   ]
  },
  {
   "cell_type": "code",
   "execution_count": 10,
   "metadata": {},
   "outputs": [
    {
     "data": {
      "text/plain": [
       "<matplotlib.axes._subplots.AxesSubplot at 0x7f4cf6d1c0d0>"
      ]
     },
     "execution_count": 10,
     "metadata": {},
     "output_type": "execute_result"
    },
    {
     "data": {
      "image/png": "[encoded data removed]",
      "text/plain": [
       "<matplotlib.figure.Figure at 0x7f4cf8e6aa10>"
      ]
     },
     "metadata": {},
     "output_type": "display_data"
    }
   ],
   "source": [
    "vc.hist()"
   ]
  },
  {
   "cell_type": "code",
   "execution_count": 11,
   "metadata": {},
   "outputs": [],
   "source": [
    "#vc2 = df_test.Word.value_counts()\n",
    "vc2 = df_test.word_lower.value_counts()"
   ]
  },
  {
   "cell_type": "code",
   "execution_count": 12,
   "metadata": {},
   "outputs": [
    {
     "data": {
      "text/plain": [
       "<matplotlib.axes._subplots.AxesSubplot at 0x7f4cf8dd9610>"
      ]
     },
     "execution_count": 12,
     "metadata": {},
     "output_type": "execute_result"
    },
    {
     "data": {
      "image/png": "[encoded data removed]",
      "text/plain": [
       "<matplotlib.figure.Figure at 0x7f4cf8dd0250>"
      ]
     },
     "metadata": {},
     "output_type": "display_data"
    }
   ],
   "source": [
    "vc2.hist()"
   ]
  },
  {
   "cell_type": "code",
   "execution_count": 13,
   "metadata": {},
   "outputs": [],
   "source": [
    "# Некоторое количество слов 2 раза встречаются, \n",
    "# а после приведения к нижнему регистру и того меньше"
   ]
  },
  {
   "cell_type": "code",
   "execution_count": 14,
   "metadata": {},
   "outputs": [],
   "source": [
    "#все буквы\n",
    "def get_unigrams(series):\n",
    "    unigrams = set([])\n",
    "    for word in set(series):\n",
    "        unigrams.update(word)\n",
    "    return unigrams\n",
    "\n",
    "alphabet_train = get_unigrams(df_train.word_lower) \n",
    "alphabet_test = get_unigrams(df_test.word_lower) "
   ]
  },
  {
   "cell_type": "code",
   "execution_count": 15,
   "metadata": {},
   "outputs": [
    {
     "name": "stdout",
     "output_type": "stream",
     "text": [
      "50\n",
      "57\n",
      "46\n",
      "15\n"
     ]
    }
   ],
   "source": [
    "print len(alphabet_train)\n",
    "print len(alphabet_test)\n",
    "print len(alphabet_test.intersection(alphabet_train))\n",
    "print len(alphabet_test.symmetric_difference(alphabet_train))"
   ]
  },
  {
   "cell_type": "code",
   "execution_count": 16,
   "metadata": {},
   "outputs": [
    {
     "name": "stdout",
     "output_type": "stream",
     "text": [
      "Different characters:\n",
      "1 ”\n",
      "2  \n",
      "3 \"\n",
      "4 &\n",
      "5 0\n",
      "6 1\n",
      "7 4\n",
      "8  \n",
      "9 ѐ\n",
      "10 \\\n",
      "11 á\n",
      "12 `\n",
      "13 ë\n",
      "14 ·\n",
      "15 ô\n"
     ]
    }
   ],
   "source": [
    "print \"Different characters:\"\n",
    "for i, char in enumerate(alphabet_test.symmetric_difference(alphabet_train), 1):\n",
    "    print i, char"
   ]
  },
  {
   "cell_type": "code",
   "execution_count": 17,
   "metadata": {},
   "outputs": [
    {
     "name": "stdout",
     "output_type": "stream",
     "text": [
      "Same characters:\n",
      "1 '\n",
      "2 -\n",
      "3 .\n",
      "4 /\n",
      "5 2\n",
      "6 3\n",
      "7 7\n",
      "8 «\n",
      "9 »\n",
      "10 é\n",
      "11 ó\n",
      "12 а\n",
      "13 б\n",
      "14 в\n",
      "15 г\n",
      "16 д\n",
      "17 е\n",
      "18 ж\n",
      "19 з\n",
      "20 и\n",
      "21 й\n",
      "22 к\n",
      "23 л\n",
      "24 м\n",
      "25 н\n",
      "26 о\n",
      "27 п\n",
      "28 р\n",
      "29 с\n",
      "30 т\n",
      "31 у\n",
      "32 ф\n",
      "33 х\n",
      "34 ц\n",
      "35 ч\n",
      "36 ш\n",
      "37 щ\n",
      "38 ъ\n",
      "39 ы\n",
      "40 ь\n",
      "41 э\n",
      "42 ю\n",
      "43 я\n",
      "44 ё\n",
      "45 ’\n",
      "46 “\n"
     ]
    }
   ],
   "source": [
    "print \"Same characters:\"\n",
    "for i, char in enumerate(sorted(alphabet_test.intersection(alphabet_train)), 1):\n",
    "    print i, char"
   ]
  },
  {
   "cell_type": "code",
   "execution_count": 18,
   "metadata": {},
   "outputs": [],
   "source": [
    "same_chars = sorted(alphabet_test.intersection(alphabet_train))"
   ]
  },
  {
   "cell_type": "code",
   "execution_count": 19,
   "metadata": {},
   "outputs": [],
   "source": [
    "# фактор has_char_n\n",
    "\n",
    "for n, char in enumerate(same_chars, 1):\n",
    "    name = \"char_{}\".format(n)\n",
    "    def has_char_in_word_lower(row):\n",
    "        return char in row.word_lower\n",
    "    df_train[name] = df_train.apply(has_char_in_word_lower, axis=1)\n",
    "    df_test[name] = df_test.apply(has_char_in_word_lower, axis=1)\n"
   ]
  },
  {
   "cell_type": "code",
   "execution_count": 20,
   "metadata": {},
   "outputs": [],
   "source": [
    "for n, char in enumerate(same_chars, 1):\n",
    "    name = \"char_{}\".format(n)\n",
    "    #print name, char\n",
    "    #print df_train[name].value_counts()\n",
    "    #print \n"
   ]
  },
  {
   "cell_type": "code",
   "execution_count": 21,
   "metadata": {},
   "outputs": [],
   "source": [
    "#df_train[df_train[\"char_46\"]]"
   ]
  },
  {
   "cell_type": "code",
   "execution_count": 22,
   "metadata": {},
   "outputs": [],
   "source": [
    "def get_word_lower_len(row):\n",
    "    return len(row.word_lower.strip())\n",
    "df_train[\"word_lower_len\"] = df_train.apply(get_word_lower_len, axis=1)\n",
    "df_test[\"word_lower_len\"] = df_test.apply(get_word_lower_len, axis=1)"
   ]
  },
  {
   "cell_type": "code",
   "execution_count": 23,
   "metadata": {},
   "outputs": [
    {
     "data": {
      "text/plain": [
       "<matplotlib.axes._subplots.AxesSubplot at 0x7f4cf8d4c110>"
      ]
     },
     "execution_count": 23,
     "metadata": {},
     "output_type": "execute_result"
    },
    {
     "data": {
      "image/png": "[encoded data removed]",
      "text/plain": [
       "<matplotlib.figure.Figure at 0x7f4cf8db3cd0>"
      ]
     },
     "metadata": {},
     "output_type": "display_data"
    }
   ],
   "source": [
    "df_train[\"word_lower_len\"].hist()"
   ]
  },
  {
   "cell_type": "code",
   "execution_count": 24,
   "metadata": {},
   "outputs": [
    {
     "data": {
      "text/plain": [
       "<matplotlib.axes._subplots.AxesSubplot at 0x7f4cf89e9ed0>"
      ]
     },
     "execution_count": 24,
     "metadata": {},
     "output_type": "execute_result"
    },
    {
     "data": {
      "image/png": "[encoded data removed]",
      "text/plain": [
       "<matplotlib.figure.Figure at 0x7f4cf89e9190>"
      ]
     },
     "metadata": {},
     "output_type": "display_data"
    }
   ],
   "source": [
    "df_test[\"word_lower_len\"].hist()"
   ]
  },
  {
   "cell_type": "code",
   "execution_count": 25,
   "metadata": {},
   "outputs": [],
   "source": [
    "only_cyrilic_set = set(u\"абвгдеёжзийклмнопрстуфхцчшщъыьэюя\")\n",
    "def contain_only_cyrilic_letters(row):\n",
    "    chars = set()\n",
    "    chars.update(row.word_lower)\n",
    "    return len(chars.difference(only_cyrilic_set)) == 0\n",
    "df_train[\"only_cyrilic_chars\"] = df_train.apply(contain_only_cyrilic_letters, axis=1)\n",
    "df_test[\"only_cyrilic_chars\"] = df_test.apply(contain_only_cyrilic_letters, axis=1)"
   ]
  },
  {
   "cell_type": "code",
   "execution_count": 26,
   "metadata": {},
   "outputs": [],
   "source": [
    "vowels_set = set(u\"аеёиоуыэюя\")\n",
    "consonants_set = only_cyrilic_set.difference(vowels_set)\n",
    "def n_vowels(row):\n",
    "    n = 0\n",
    "    for char in row.word_lower:\n",
    "        if char in vowels_set:\n",
    "            n += 1\n",
    "    return n\n",
    "\n",
    "df_train[\"n_vowels\"] = df_train.apply(n_vowels, axis=1)\n",
    "df_test[\"n_vowels\"] = df_test.apply(n_vowels, axis=1)\n",
    "\n",
    "def n_consonants(row):\n",
    "    n = 0\n",
    "    for char in row.word_lower:\n",
    "        if char in consonants_set:\n",
    "            n += 1\n",
    "    return n\n",
    "\n",
    "df_train[\"n_consonants\"] = df_train.apply(n_vowels, axis=1)\n",
    "df_test[\"n_consonants\"] = df_test.apply(n_vowels, axis=1)"
   ]
  },
  {
   "cell_type": "code",
   "execution_count": 27,
   "metadata": {},
   "outputs": [
    {
     "data": {
      "text/plain": [
       "<matplotlib.axes._subplots.AxesSubplot at 0x7f4cf8980350>"
      ]
     },
     "execution_count": 27,
     "metadata": {},
     "output_type": "execute_result"
    },
    {
     "data": {
      "image/png": "[encoded data removed]",
      "text/plain": [
       "<matplotlib.figure.Figure at 0x7f4cf8a16190>"
      ]
     },
     "metadata": {},
     "output_type": "display_data"
    }
   ],
   "source": [
    "df_train.n_consonants.hist()"
   ]
  },
  {
   "cell_type": "code",
   "execution_count": 28,
   "metadata": {},
   "outputs": [
    {
     "data": {
      "text/plain": [
       "u'\\u0435\\u043d'"
      ]
     },
     "execution_count": 28,
     "metadata": {},
     "output_type": "execute_result"
    }
   ],
   "source": [
    "row = df_train.iloc[0,:]\n",
    "row.word_lower[-2:]"
   ]
  },
  {
   "cell_type": "code",
   "execution_count": 29,
   "metadata": {},
   "outputs": [],
   "source": [
    "def get_ending_2(row):\n",
    "    return row.word_lower.strip()[-2:].encode(\"utf-8\")\n",
    "\n",
    "df_train[\"ending_2\"] = df_train.apply(get_ending_2, axis=1)\n",
    "df_test[\"ending_2\"] = df_test.apply(get_ending_2, axis=1)"
   ]
  },
  {
   "cell_type": "code",
   "execution_count": 30,
   "metadata": {},
   "outputs": [],
   "source": [
    "def get_ending_3(row):\n",
    "    return row.word_lower.strip()[-3:].encode(\"utf-8\")\n",
    "\n",
    "df_train[\"ending_3\"] = df_train.apply(get_ending_3, axis=1)\n",
    "df_test[\"ending_3\"] = df_test.apply(get_ending_3, axis=1)"
   ]
  },
  {
   "cell_type": "code",
   "execution_count": 31,
   "metadata": {},
   "outputs": [],
   "source": [
    "def start_1(row):\n",
    "    return row.Word.strip()[0].encode(\"utf-8\")\n",
    "\n",
    "df_train[\"start_1\"] = df_train.apply(start_1, axis=1)\n",
    "df_test[\"start_1\"] = df_test.apply(start_1, axis=1)"
   ]
  },
  {
   "cell_type": "code",
   "execution_count": 32,
   "metadata": {},
   "outputs": [],
   "source": [
    "def start_2(row):\n",
    "    return row.Word.strip()[0:2].encode(\"utf-8\")\n",
    "\n",
    "df_train[\"start_2\"] = df_train.apply(start_2, axis=1)\n",
    "df_test[\"start_2\"] = df_test.apply(start_2, axis=1)"
   ]
  },
  {
   "cell_type": "markdown",
   "metadata": {},
   "source": [
    "### Моделирование"
   ]
  },
  {
   "cell_type": "code",
   "execution_count": 33,
   "metadata": {},
   "outputs": [],
   "source": [
    "from catboost import CatBoostClassifier"
   ]
  },
  {
   "cell_type": "code",
   "execution_count": 34,
   "metadata": {},
   "outputs": [],
   "source": [
    "feature_columns = sorted(set(df_train.columns).difference({\"Word\", \"word_lower\", \"Label\"}))\n"
   ]
  },
  {
   "cell_type": "code",
   "execution_count": 35,
   "metadata": {},
   "outputs": [],
   "source": [
    "#train_data = df_train.loc[:, feature_columns].values\n",
    "#train_label = df_train.Label.values\n",
    "\n",
    "train_data, test_data, train_label, test_label = sklearn.model_selection.train_test_split(\n",
    "df_train.loc[:, feature_columns].values, df_train.Label.values, \n",
    "    test_size=0.3, random_state=0)"
   ]
  },
  {
   "cell_type": "code",
   "execution_count": 36,
   "metadata": {},
   "outputs": [],
   "source": [
    "#list(train_data[0,:])"
   ]
  },
  {
   "cell_type": "code",
   "execution_count": 37,
   "metadata": {},
   "outputs": [
    {
     "name": "stdout",
     "output_type": "stream",
     "text": [
      "0:\tlearn: 0.6512891\ttest: 0.6511209\tbest: 0.6511209 (0)\ttotal: 141ms\tremaining: 56.2s\n",
      "1:\tlearn: 0.6137889\ttest: 0.6132835\tbest: 0.6132835 (1)\ttotal: 209ms\tremaining: 41.7s\n",
      "2:\tlearn: 0.5794028\ttest: 0.5788827\tbest: 0.5788827 (2)\ttotal: 293ms\tremaining: 38.8s\n",
      "3:\tlearn: 0.5483294\ttest: 0.5478350\tbest: 0.5478350 (3)\ttotal: 380ms\tremaining: 37.6s\n",
      "4:\tlearn: 0.5206262\ttest: 0.5203433\tbest: 0.5203433 (4)\ttotal: 461ms\tremaining: 36.4s\n",
      "5:\tlearn: 0.4955640\ttest: 0.4955341\tbest: 0.4955341 (5)\ttotal: 535ms\tremaining: 35.1s\n",
      "6:\tlearn: 0.4724971\ttest: 0.4725128\tbest: 0.4725128 (6)\ttotal: 623ms\tremaining: 35s\n",
      "7:\tlearn: 0.4513126\ttest: 0.4516285\tbest: 0.4516285 (7)\ttotal: 707ms\tremaining: 34.7s\n",
      "8:\tlearn: 0.4323697\ttest: 0.4329647\tbest: 0.4329647 (8)\ttotal: 791ms\tremaining: 34.4s\n",
      "9:\tlearn: 0.4148154\ttest: 0.4156274\tbest: 0.4156274 (9)\ttotal: 875ms\tremaining: 34.1s\n",
      "10:\tlearn: 0.3992885\ttest: 0.4004771\tbest: 0.4004771 (10)\ttotal: 962ms\tremaining: 34s\n",
      "11:\tlearn: 0.3847943\ttest: 0.3864188\tbest: 0.3864188 (11)\ttotal: 1.04s\tremaining: 33.7s\n",
      "12:\tlearn: 0.3721650\ttest: 0.3739074\tbest: 0.3739074 (12)\ttotal: 1.13s\tremaining: 33.5s\n",
      "13:\tlearn: 0.3591305\ttest: 0.3610169\tbest: 0.3610169 (13)\ttotal: 1.21s\tremaining: 33.4s\n",
      "14:\tlearn: 0.3469978\ttest: 0.3489186\tbest: 0.3489186 (14)\ttotal: 1.3s\tremaining: 33.3s\n",
      "15:\tlearn: 0.3360535\ttest: 0.3378899\tbest: 0.3378899 (15)\ttotal: 1.37s\tremaining: 32.8s\n",
      "16:\tlearn: 0.3258056\ttest: 0.3277199\tbest: 0.3277199 (16)\ttotal: 1.45s\tremaining: 32.6s\n",
      "17:\tlearn: 0.3166648\ttest: 0.3187890\tbest: 0.3187890 (17)\ttotal: 1.51s\tremaining: 32.1s\n",
      "18:\tlearn: 0.3082587\ttest: 0.3105961\tbest: 0.3105961 (18)\ttotal: 1.59s\tremaining: 31.8s\n",
      "19:\tlearn: 0.3004027\ttest: 0.3029242\tbest: 0.3029242 (19)\ttotal: 1.65s\tremaining: 31.4s\n",
      "20:\tlearn: 0.2925807\ttest: 0.2951750\tbest: 0.2951750 (20)\ttotal: 1.74s\tremaining: 31.3s\n",
      "21:\tlearn: 0.2859451\ttest: 0.2888141\tbest: 0.2888141 (21)\ttotal: 1.82s\tremaining: 31.3s\n",
      "22:\tlearn: 0.2795125\ttest: 0.2825739\tbest: 0.2825739 (22)\ttotal: 1.89s\tremaining: 31s\n",
      "23:\tlearn: 0.2737993\ttest: 0.2770242\tbest: 0.2770242 (23)\ttotal: 1.96s\tremaining: 30.7s\n",
      "24:\tlearn: 0.2685004\ttest: 0.2718045\tbest: 0.2718045 (24)\ttotal: 2.05s\tremaining: 30.7s\n",
      "25:\tlearn: 0.2636376\ttest: 0.2669648\tbest: 0.2669648 (25)\ttotal: 2.12s\tremaining: 30.5s\n",
      "26:\tlearn: 0.2590171\ttest: 0.2623829\tbest: 0.2623829 (26)\ttotal: 2.2s\tremaining: 30.4s\n",
      "27:\tlearn: 0.2548505\ttest: 0.2582769\tbest: 0.2582769 (27)\ttotal: 2.27s\tremaining: 30.2s\n",
      "28:\tlearn: 0.2511160\ttest: 0.2546880\tbest: 0.2546880 (28)\ttotal: 2.35s\tremaining: 30.1s\n",
      "29:\tlearn: 0.2478814\ttest: 0.2515505\tbest: 0.2515505 (29)\ttotal: 2.43s\tremaining: 30s\n",
      "30:\tlearn: 0.2446217\ttest: 0.2485067\tbest: 0.2485067 (30)\ttotal: 2.52s\tremaining: 29.9s\n",
      "31:\tlearn: 0.2417195\ttest: 0.2456297\tbest: 0.2456297 (31)\ttotal: 2.59s\tremaining: 29.8s\n",
      "32:\tlearn: 0.2388174\ttest: 0.2429403\tbest: 0.2429403 (32)\ttotal: 2.65s\tremaining: 29.5s\n",
      "33:\tlearn: 0.2361892\ttest: 0.2404772\tbest: 0.2404772 (33)\ttotal: 2.74s\tremaining: 29.5s\n",
      "34:\tlearn: 0.2338406\ttest: 0.2383218\tbest: 0.2383218 (34)\ttotal: 2.83s\tremaining: 29.5s\n",
      "35:\tlearn: 0.2315956\ttest: 0.2362062\tbest: 0.2362062 (35)\ttotal: 2.91s\tremaining: 29.4s\n",
      "36:\tlearn: 0.2296671\ttest: 0.2342829\tbest: 0.2342829 (36)\ttotal: 2.98s\tremaining: 29.2s\n",
      "37:\tlearn: 0.2277730\ttest: 0.2325887\tbest: 0.2325887 (37)\ttotal: 3.06s\tremaining: 29.1s\n",
      "38:\tlearn: 0.2260993\ttest: 0.2310179\tbest: 0.2310179 (38)\ttotal: 3.13s\tremaining: 29s\n",
      "39:\tlearn: 0.2244891\ttest: 0.2296194\tbest: 0.2296194 (39)\ttotal: 3.21s\tremaining: 28.9s\n",
      "40:\tlearn: 0.2228281\ttest: 0.2281791\tbest: 0.2281791 (40)\ttotal: 3.29s\tremaining: 28.8s\n",
      "41:\tlearn: 0.2211174\ttest: 0.2266574\tbest: 0.2266574 (41)\ttotal: 3.37s\tremaining: 28.7s\n",
      "42:\tlearn: 0.2195801\ttest: 0.2253750\tbest: 0.2253750 (42)\ttotal: 3.45s\tremaining: 28.7s\n",
      "43:\tlearn: 0.2180370\ttest: 0.2240324\tbest: 0.2240324 (43)\ttotal: 3.54s\tremaining: 28.6s\n",
      "44:\tlearn: 0.2168077\ttest: 0.2229195\tbest: 0.2229195 (44)\ttotal: 3.61s\tremaining: 28.5s\n",
      "45:\tlearn: 0.2155583\ttest: 0.2218300\tbest: 0.2218300 (45)\ttotal: 3.7s\tremaining: 28.5s\n",
      "46:\tlearn: 0.2141831\ttest: 0.2208417\tbest: 0.2208417 (46)\ttotal: 3.77s\tremaining: 28.3s\n",
      "47:\tlearn: 0.2131459\ttest: 0.2198677\tbest: 0.2198677 (47)\ttotal: 3.85s\tremaining: 28.3s\n",
      "48:\tlearn: 0.2121189\ttest: 0.2190382\tbest: 0.2190382 (48)\ttotal: 3.94s\tremaining: 28.2s\n",
      "49:\tlearn: 0.2112483\ttest: 0.2183660\tbest: 0.2183660 (49)\ttotal: 4.02s\tremaining: 28.1s\n",
      "50:\tlearn: 0.2101727\ttest: 0.2175870\tbest: 0.2175870 (50)\ttotal: 4.09s\tremaining: 28s\n",
      "51:\tlearn: 0.2089581\ttest: 0.2167745\tbest: 0.2167745 (51)\ttotal: 4.18s\tremaining: 28s\n",
      "52:\tlearn: 0.2081558\ttest: 0.2161037\tbest: 0.2161037 (52)\ttotal: 4.26s\tremaining: 27.9s\n",
      "53:\tlearn: 0.2072967\ttest: 0.2154203\tbest: 0.2154203 (53)\ttotal: 4.35s\tremaining: 27.9s\n",
      "54:\tlearn: 0.2065936\ttest: 0.2148864\tbest: 0.2148864 (54)\ttotal: 4.43s\tremaining: 27.8s\n",
      "55:\tlearn: 0.2058523\ttest: 0.2142235\tbest: 0.2142235 (55)\ttotal: 4.51s\tremaining: 27.7s\n",
      "56:\tlearn: 0.2051267\ttest: 0.2137476\tbest: 0.2137476 (56)\ttotal: 4.58s\tremaining: 27.6s\n",
      "57:\tlearn: 0.2044813\ttest: 0.2131966\tbest: 0.2131966 (57)\ttotal: 4.67s\tremaining: 27.6s\n",
      "58:\tlearn: 0.2037702\ttest: 0.2126873\tbest: 0.2126873 (58)\ttotal: 4.75s\tremaining: 27.4s\n",
      "59:\tlearn: 0.2029995\ttest: 0.2120982\tbest: 0.2120982 (59)\ttotal: 4.85s\tremaining: 27.5s\n",
      "60:\tlearn: 0.2022259\ttest: 0.2116262\tbest: 0.2116262 (60)\ttotal: 4.93s\tremaining: 27.4s\n",
      "61:\tlearn: 0.2015060\ttest: 0.2111842\tbest: 0.2111842 (61)\ttotal: 5.01s\tremaining: 27.3s\n",
      "62:\tlearn: 0.2007868\ttest: 0.2107222\tbest: 0.2107222 (62)\ttotal: 5.09s\tremaining: 27.2s\n",
      "63:\tlearn: 0.1999731\ttest: 0.2102481\tbest: 0.2102481 (63)\ttotal: 5.19s\tremaining: 27.2s\n",
      "64:\tlearn: 0.1993026\ttest: 0.2098221\tbest: 0.2098221 (64)\ttotal: 5.28s\tremaining: 27.2s\n",
      "65:\tlearn: 0.1984783\ttest: 0.2094478\tbest: 0.2094478 (65)\ttotal: 5.38s\tremaining: 27.3s\n",
      "66:\tlearn: 0.1977018\ttest: 0.2090312\tbest: 0.2090312 (66)\ttotal: 5.48s\tremaining: 27.2s\n",
      "67:\tlearn: 0.1970397\ttest: 0.2086597\tbest: 0.2086597 (67)\ttotal: 5.56s\tremaining: 27.1s\n",
      "68:\tlearn: 0.1963041\ttest: 0.2082677\tbest: 0.2082677 (68)\ttotal: 5.65s\tremaining: 27.1s\n",
      "69:\tlearn: 0.1953256\ttest: 0.2079027\tbest: 0.2079027 (69)\ttotal: 5.74s\tremaining: 27.1s\n",
      "70:\tlearn: 0.1945560\ttest: 0.2075705\tbest: 0.2075705 (70)\ttotal: 5.84s\tremaining: 27.1s\n",
      "71:\tlearn: 0.1937065\ttest: 0.2072788\tbest: 0.2072788 (71)\ttotal: 5.93s\tremaining: 27s\n",
      "72:\tlearn: 0.1932191\ttest: 0.2070503\tbest: 0.2070503 (72)\ttotal: 6.01s\tremaining: 26.9s\n",
      "73:\tlearn: 0.1923968\ttest: 0.2068460\tbest: 0.2068460 (73)\ttotal: 6.11s\tremaining: 26.9s\n",
      "74:\tlearn: 0.1917719\ttest: 0.2066340\tbest: 0.2066340 (74)\ttotal: 6.2s\tremaining: 26.9s\n",
      "75:\tlearn: 0.1913768\ttest: 0.2064658\tbest: 0.2064658 (75)\ttotal: 6.29s\tremaining: 26.8s\n",
      "76:\tlearn: 0.1909213\ttest: 0.2062526\tbest: 0.2062526 (76)\ttotal: 6.39s\tremaining: 26.8s\n",
      "77:\tlearn: 0.1903524\ttest: 0.2059926\tbest: 0.2059926 (77)\ttotal: 6.49s\tremaining: 26.8s\n",
      "78:\tlearn: 0.1898071\ttest: 0.2058563\tbest: 0.2058563 (78)\ttotal: 6.58s\tremaining: 26.8s\n",
      "79:\tlearn: 0.1893170\ttest: 0.2056952\tbest: 0.2056952 (79)\ttotal: 6.67s\tremaining: 26.7s\n",
      "80:\tlearn: 0.1887776\ttest: 0.2054563\tbest: 0.2054563 (80)\ttotal: 6.76s\tremaining: 26.6s\n",
      "81:\tlearn: 0.1883780\ttest: 0.2052971\tbest: 0.2052971 (81)\ttotal: 6.85s\tremaining: 26.6s\n",
      "82:\tlearn: 0.1879216\ttest: 0.2050909\tbest: 0.2050909 (82)\ttotal: 6.93s\tremaining: 26.5s\n",
      "83:\tlearn: 0.1873704\ttest: 0.2049463\tbest: 0.2049463 (83)\ttotal: 7.03s\tremaining: 26.4s\n",
      "84:\tlearn: 0.1865240\ttest: 0.2047721\tbest: 0.2047721 (84)\ttotal: 7.14s\tremaining: 26.5s\n",
      "85:\tlearn: 0.1860557\ttest: 0.2046112\tbest: 0.2046112 (85)\ttotal: 7.24s\tremaining: 26.4s\n",
      "86:\tlearn: 0.1857456\ttest: 0.2044679\tbest: 0.2044679 (86)\ttotal: 7.32s\tremaining: 26.4s\n",
      "87:\tlearn: 0.1853307\ttest: 0.2043518\tbest: 0.2043518 (87)\ttotal: 7.42s\tremaining: 26.3s\n",
      "88:\tlearn: 0.1850703\ttest: 0.2041972\tbest: 0.2041972 (88)\ttotal: 7.51s\tremaining: 26.2s\n",
      "89:\tlearn: 0.1847942\ttest: 0.2040569\tbest: 0.2040569 (89)\ttotal: 7.6s\tremaining: 26.2s\n",
      "90:\tlearn: 0.1844803\ttest: 0.2038880\tbest: 0.2038880 (90)\ttotal: 7.68s\tremaining: 26.1s\n",
      "91:\tlearn: 0.1841198\ttest: 0.2038146\tbest: 0.2038146 (91)\ttotal: 7.75s\tremaining: 25.9s\n",
      "92:\tlearn: 0.1837760\ttest: 0.2037107\tbest: 0.2037107 (92)\ttotal: 7.84s\tremaining: 25.9s\n",
      "93:\tlearn: 0.1834286\ttest: 0.2035247\tbest: 0.2035247 (93)\ttotal: 7.93s\tremaining: 25.8s\n",
      "94:\tlearn: 0.1830705\ttest: 0.2034159\tbest: 0.2034159 (94)\ttotal: 8.01s\tremaining: 25.7s\n",
      "95:\tlearn: 0.1827791\ttest: 0.2033325\tbest: 0.2033325 (95)\ttotal: 8.09s\tremaining: 25.6s\n"
     ]
    },
    {
     "name": "stdout",
     "output_type": "stream",
     "text": [
      "96:\tlearn: 0.1823819\ttest: 0.2031986\tbest: 0.2031986 (96)\ttotal: 8.17s\tremaining: 25.5s\n",
      "97:\tlearn: 0.1820704\ttest: 0.2031231\tbest: 0.2031231 (97)\ttotal: 8.24s\tremaining: 25.4s\n",
      "98:\tlearn: 0.1818286\ttest: 0.2030375\tbest: 0.2030375 (98)\ttotal: 8.34s\tremaining: 25.4s\n",
      "99:\tlearn: 0.1814523\ttest: 0.2028968\tbest: 0.2028968 (99)\ttotal: 8.43s\tremaining: 25.3s\n",
      "100:\tlearn: 0.1811934\ttest: 0.2028412\tbest: 0.2028412 (100)\ttotal: 8.51s\tremaining: 25.2s\n",
      "101:\tlearn: 0.1809095\ttest: 0.2027419\tbest: 0.2027419 (101)\ttotal: 8.6s\tremaining: 25.1s\n",
      "102:\tlearn: 0.1806273\ttest: 0.2026493\tbest: 0.2026493 (102)\ttotal: 8.7s\tremaining: 25.1s\n",
      "103:\tlearn: 0.1801596\ttest: 0.2025795\tbest: 0.2025795 (103)\ttotal: 8.81s\tremaining: 25.1s\n",
      "104:\tlearn: 0.1797619\ttest: 0.2024223\tbest: 0.2024223 (104)\ttotal: 8.92s\tremaining: 25.1s\n",
      "105:\tlearn: 0.1793779\ttest: 0.2023560\tbest: 0.2023560 (105)\ttotal: 9.02s\tremaining: 25s\n",
      "106:\tlearn: 0.1790143\ttest: 0.2022881\tbest: 0.2022881 (106)\ttotal: 9.12s\tremaining: 25s\n",
      "107:\tlearn: 0.1786021\ttest: 0.2022218\tbest: 0.2022218 (107)\ttotal: 9.22s\tremaining: 24.9s\n",
      "108:\tlearn: 0.1783639\ttest: 0.2020986\tbest: 0.2020986 (108)\ttotal: 9.3s\tremaining: 24.8s\n",
      "109:\tlearn: 0.1781529\ttest: 0.2020527\tbest: 0.2020527 (109)\ttotal: 9.4s\tremaining: 24.8s\n",
      "110:\tlearn: 0.1777801\ttest: 0.2019670\tbest: 0.2019670 (110)\ttotal: 9.49s\tremaining: 24.7s\n",
      "111:\tlearn: 0.1773909\ttest: 0.2018994\tbest: 0.2018994 (111)\ttotal: 9.58s\tremaining: 24.6s\n",
      "112:\tlearn: 0.1768953\ttest: 0.2018200\tbest: 0.2018200 (112)\ttotal: 9.67s\tremaining: 24.6s\n",
      "113:\tlearn: 0.1766028\ttest: 0.2017165\tbest: 0.2017165 (113)\ttotal: 9.77s\tremaining: 24.5s\n",
      "114:\tlearn: 0.1760767\ttest: 0.2016189\tbest: 0.2016189 (114)\ttotal: 9.87s\tremaining: 24.5s\n",
      "115:\tlearn: 0.1756096\ttest: 0.2015318\tbest: 0.2015318 (115)\ttotal: 9.96s\tremaining: 24.4s\n",
      "116:\tlearn: 0.1752975\ttest: 0.2014463\tbest: 0.2014463 (116)\ttotal: 10.1s\tremaining: 24.3s\n",
      "117:\tlearn: 0.1749876\ttest: 0.2013879\tbest: 0.2013879 (117)\ttotal: 10.1s\tremaining: 24.2s\n",
      "118:\tlearn: 0.1746837\ttest: 0.2013033\tbest: 0.2013033 (118)\ttotal: 10.2s\tremaining: 24.2s\n",
      "119:\tlearn: 0.1743892\ttest: 0.2012772\tbest: 0.2012772 (119)\ttotal: 10.3s\tremaining: 24.1s\n",
      "120:\tlearn: 0.1738754\ttest: 0.2011820\tbest: 0.2011820 (120)\ttotal: 10.4s\tremaining: 24.1s\n",
      "121:\tlearn: 0.1735626\ttest: 0.2011262\tbest: 0.2011262 (121)\ttotal: 10.6s\tremaining: 24s\n",
      "122:\tlearn: 0.1733483\ttest: 0.2010556\tbest: 0.2010556 (122)\ttotal: 10.6s\tremaining: 24s\n",
      "123:\tlearn: 0.1730964\ttest: 0.2009997\tbest: 0.2009997 (123)\ttotal: 10.7s\tremaining: 23.9s\n",
      "124:\tlearn: 0.1728250\ttest: 0.2009549\tbest: 0.2009549 (124)\ttotal: 10.8s\tremaining: 23.8s\n",
      "125:\tlearn: 0.1725874\ttest: 0.2009177\tbest: 0.2009177 (125)\ttotal: 10.9s\tremaining: 23.7s\n",
      "126:\tlearn: 0.1722528\ttest: 0.2008629\tbest: 0.2008629 (126)\ttotal: 11s\tremaining: 23.6s\n",
      "127:\tlearn: 0.1719924\ttest: 0.2006779\tbest: 0.2006779 (127)\ttotal: 11.1s\tremaining: 23.6s\n",
      "128:\tlearn: 0.1716665\ttest: 0.2006201\tbest: 0.2006201 (128)\ttotal: 11.2s\tremaining: 23.5s\n",
      "129:\tlearn: 0.1714624\ttest: 0.2006075\tbest: 0.2006075 (129)\ttotal: 11.3s\tremaining: 23.4s\n",
      "130:\tlearn: 0.1712266\ttest: 0.2005407\tbest: 0.2005407 (130)\ttotal: 11.4s\tremaining: 23.3s\n",
      "131:\tlearn: 0.1709804\ttest: 0.2004763\tbest: 0.2004763 (131)\ttotal: 11.5s\tremaining: 23.3s\n",
      "132:\tlearn: 0.1707386\ttest: 0.2003810\tbest: 0.2003810 (132)\ttotal: 11.6s\tremaining: 23.2s\n",
      "133:\tlearn: 0.1704269\ttest: 0.2003053\tbest: 0.2003053 (133)\ttotal: 11.6s\tremaining: 23.1s\n",
      "134:\tlearn: 0.1702077\ttest: 0.2002550\tbest: 0.2002550 (134)\ttotal: 11.7s\tremaining: 23s\n",
      "135:\tlearn: 0.1699332\ttest: 0.2001551\tbest: 0.2001551 (135)\ttotal: 11.8s\tremaining: 22.9s\n",
      "136:\tlearn: 0.1694702\ttest: 0.2000706\tbest: 0.2000706 (136)\ttotal: 11.9s\tremaining: 22.9s\n",
      "137:\tlearn: 0.1692667\ttest: 0.2000375\tbest: 0.2000375 (137)\ttotal: 12s\tremaining: 22.8s\n",
      "138:\tlearn: 0.1690969\ttest: 0.2000036\tbest: 0.2000036 (138)\ttotal: 12.1s\tremaining: 22.7s\n",
      "139:\tlearn: 0.1688740\ttest: 0.1999881\tbest: 0.1999881 (139)\ttotal: 12.2s\tremaining: 22.7s\n",
      "140:\tlearn: 0.1686374\ttest: 0.1999337\tbest: 0.1999337 (140)\ttotal: 12.3s\tremaining: 22.6s\n",
      "141:\tlearn: 0.1683143\ttest: 0.1998423\tbest: 0.1998423 (141)\ttotal: 12.4s\tremaining: 22.5s\n",
      "142:\tlearn: 0.1680991\ttest: 0.1998008\tbest: 0.1998008 (142)\ttotal: 12.5s\tremaining: 22.5s\n",
      "143:\tlearn: 0.1678063\ttest: 0.1997752\tbest: 0.1997752 (143)\ttotal: 12.6s\tremaining: 22.4s\n",
      "144:\tlearn: 0.1676787\ttest: 0.1997164\tbest: 0.1997164 (144)\ttotal: 12.7s\tremaining: 22.3s\n",
      "145:\tlearn: 0.1673294\ttest: 0.1995963\tbest: 0.1995963 (145)\ttotal: 12.8s\tremaining: 22.3s\n",
      "146:\tlearn: 0.1670653\ttest: 0.1995739\tbest: 0.1995739 (146)\ttotal: 12.9s\tremaining: 22.2s\n",
      "147:\tlearn: 0.1667694\ttest: 0.1995466\tbest: 0.1995466 (147)\ttotal: 13s\tremaining: 22.1s\n",
      "148:\tlearn: 0.1662828\ttest: 0.1994532\tbest: 0.1994532 (148)\ttotal: 13.1s\tremaining: 22s\n",
      "149:\tlearn: 0.1659624\ttest: 0.1993643\tbest: 0.1993643 (149)\ttotal: 13.2s\tremaining: 21.9s\n",
      "150:\tlearn: 0.1658396\ttest: 0.1992731\tbest: 0.1992731 (150)\ttotal: 13.3s\tremaining: 21.9s\n",
      "151:\tlearn: 0.1656477\ttest: 0.1992337\tbest: 0.1992337 (151)\ttotal: 13.4s\tremaining: 21.8s\n",
      "152:\tlearn: 0.1655397\ttest: 0.1992091\tbest: 0.1992091 (152)\ttotal: 13.5s\tremaining: 21.7s\n",
      "153:\tlearn: 0.1654241\ttest: 0.1991616\tbest: 0.1991616 (153)\ttotal: 13.6s\tremaining: 21.6s\n",
      "154:\tlearn: 0.1651490\ttest: 0.1991271\tbest: 0.1991271 (154)\ttotal: 13.7s\tremaining: 21.6s\n",
      "155:\tlearn: 0.1650552\ttest: 0.1991180\tbest: 0.1991180 (155)\ttotal: 13.7s\tremaining: 21.5s\n",
      "156:\tlearn: 0.1649052\ttest: 0.1990958\tbest: 0.1990958 (156)\ttotal: 13.8s\tremaining: 21.4s\n",
      "157:\tlearn: 0.1646400\ttest: 0.1990243\tbest: 0.1990243 (157)\ttotal: 13.9s\tremaining: 21.3s\n",
      "158:\tlearn: 0.1644600\ttest: 0.1989343\tbest: 0.1989343 (158)\ttotal: 14s\tremaining: 21.2s\n",
      "159:\tlearn: 0.1643237\ttest: 0.1989267\tbest: 0.1989267 (159)\ttotal: 14.1s\tremaining: 21.2s\n",
      "160:\tlearn: 0.1640388\ttest: 0.1989061\tbest: 0.1989061 (160)\ttotal: 14.2s\tremaining: 21.1s\n",
      "161:\tlearn: 0.1637992\ttest: 0.1988281\tbest: 0.1988281 (161)\ttotal: 14.3s\tremaining: 21s\n",
      "162:\tlearn: 0.1634839\ttest: 0.1988063\tbest: 0.1988063 (162)\ttotal: 14.4s\tremaining: 20.9s\n",
      "163:\tlearn: 0.1631206\ttest: 0.1987765\tbest: 0.1987765 (163)\ttotal: 14.5s\tremaining: 20.8s\n",
      "164:\tlearn: 0.1626886\ttest: 0.1986956\tbest: 0.1986956 (164)\ttotal: 14.6s\tremaining: 20.8s\n",
      "165:\tlearn: 0.1624894\ttest: 0.1986800\tbest: 0.1986800 (165)\ttotal: 14.7s\tremaining: 20.7s\n",
      "166:\tlearn: 0.1624040\ttest: 0.1986411\tbest: 0.1986411 (166)\ttotal: 14.7s\tremaining: 20.5s\n",
      "167:\tlearn: 0.1620748\ttest: 0.1986034\tbest: 0.1986034 (167)\ttotal: 14.8s\tremaining: 20.4s\n",
      "168:\tlearn: 0.1617973\ttest: 0.1985700\tbest: 0.1985700 (168)\ttotal: 14.9s\tremaining: 20.4s\n",
      "169:\tlearn: 0.1616003\ttest: 0.1985380\tbest: 0.1985380 (169)\ttotal: 15s\tremaining: 20.3s\n",
      "170:\tlearn: 0.1612178\ttest: 0.1985184\tbest: 0.1985184 (170)\ttotal: 15.1s\tremaining: 20.2s\n",
      "171:\tlearn: 0.1608278\ttest: 0.1984979\tbest: 0.1984979 (171)\ttotal: 15.2s\tremaining: 20.1s\n",
      "172:\tlearn: 0.1606323\ttest: 0.1984807\tbest: 0.1984807 (172)\ttotal: 15.3s\tremaining: 20.1s\n",
      "173:\tlearn: 0.1602578\ttest: 0.1984387\tbest: 0.1984387 (173)\ttotal: 15.4s\tremaining: 20s\n",
      "174:\tlearn: 0.1600663\ttest: 0.1983142\tbest: 0.1983142 (174)\ttotal: 15.5s\tremaining: 19.9s\n",
      "175:\tlearn: 0.1597682\ttest: 0.1982890\tbest: 0.1982890 (175)\ttotal: 15.6s\tremaining: 19.8s\n",
      "176:\tlearn: 0.1595486\ttest: 0.1982445\tbest: 0.1982445 (176)\ttotal: 15.7s\tremaining: 19.7s\n",
      "177:\tlearn: 0.1593487\ttest: 0.1981935\tbest: 0.1981935 (177)\ttotal: 15.8s\tremaining: 19.6s\n",
      "178:\tlearn: 0.1592238\ttest: 0.1981709\tbest: 0.1981709 (178)\ttotal: 15.8s\tremaining: 19.6s\n",
      "179:\tlearn: 0.1588850\ttest: 0.1981113\tbest: 0.1981113 (179)\ttotal: 15.9s\tremaining: 19.5s\n",
      "180:\tlearn: 0.1586480\ttest: 0.1979648\tbest: 0.1979648 (180)\ttotal: 16s\tremaining: 19.4s\n",
      "181:\tlearn: 0.1585105\ttest: 0.1979322\tbest: 0.1979322 (181)\ttotal: 16.1s\tremaining: 19.3s\n",
      "182:\tlearn: 0.1583418\ttest: 0.1979467\tbest: 0.1979322 (181)\ttotal: 16.2s\tremaining: 19.2s\n",
      "183:\tlearn: 0.1580301\ttest: 0.1979169\tbest: 0.1979169 (183)\ttotal: 16.3s\tremaining: 19.1s\n",
      "184:\tlearn: 0.1578435\ttest: 0.1978770\tbest: 0.1978770 (184)\ttotal: 16.4s\tremaining: 19.1s\n",
      "185:\tlearn: 0.1575752\ttest: 0.1978536\tbest: 0.1978536 (185)\ttotal: 16.5s\tremaining: 19s\n",
      "186:\tlearn: 0.1574054\ttest: 0.1978231\tbest: 0.1978231 (186)\ttotal: 16.6s\tremaining: 18.9s\n",
      "187:\tlearn: 0.1571631\ttest: 0.1978146\tbest: 0.1978146 (187)\ttotal: 16.7s\tremaining: 18.8s\n",
      "188:\tlearn: 0.1570557\ttest: 0.1977451\tbest: 0.1977451 (188)\ttotal: 16.8s\tremaining: 18.7s\n",
      "189:\tlearn: 0.1568544\ttest: 0.1977293\tbest: 0.1977293 (189)\ttotal: 16.9s\tremaining: 18.7s\n"
     ]
    },
    {
     "name": "stdout",
     "output_type": "stream",
     "text": [
      "190:\tlearn: 0.1567008\ttest: 0.1976977\tbest: 0.1976977 (190)\ttotal: 17s\tremaining: 18.6s\n",
      "191:\tlearn: 0.1562498\ttest: 0.1976928\tbest: 0.1976928 (191)\ttotal: 17.1s\tremaining: 18.5s\n",
      "192:\tlearn: 0.1559571\ttest: 0.1976225\tbest: 0.1976225 (192)\ttotal: 17.2s\tremaining: 18.4s\n",
      "193:\tlearn: 0.1558283\ttest: 0.1976205\tbest: 0.1976205 (193)\ttotal: 17.2s\tremaining: 18.3s\n",
      "194:\tlearn: 0.1556516\ttest: 0.1975835\tbest: 0.1975835 (194)\ttotal: 17.3s\tremaining: 18.2s\n",
      "195:\tlearn: 0.1555067\ttest: 0.1975622\tbest: 0.1975622 (195)\ttotal: 17.4s\tremaining: 18.1s\n",
      "196:\tlearn: 0.1553523\ttest: 0.1975358\tbest: 0.1975358 (196)\ttotal: 17.5s\tremaining: 18s\n",
      "197:\tlearn: 0.1550533\ttest: 0.1974856\tbest: 0.1974856 (197)\ttotal: 17.6s\tremaining: 18s\n",
      "198:\tlearn: 0.1547624\ttest: 0.1974126\tbest: 0.1974126 (198)\ttotal: 17.7s\tremaining: 17.9s\n",
      "199:\tlearn: 0.1545546\ttest: 0.1973619\tbest: 0.1973619 (199)\ttotal: 17.8s\tremaining: 17.8s\n",
      "200:\tlearn: 0.1543840\ttest: 0.1973206\tbest: 0.1973206 (200)\ttotal: 17.9s\tremaining: 17.7s\n",
      "201:\tlearn: 0.1541951\ttest: 0.1972745\tbest: 0.1972745 (201)\ttotal: 18s\tremaining: 17.6s\n",
      "202:\tlearn: 0.1539059\ttest: 0.1972047\tbest: 0.1972047 (202)\ttotal: 18.1s\tremaining: 17.6s\n",
      "203:\tlearn: 0.1536162\ttest: 0.1971278\tbest: 0.1971278 (203)\ttotal: 18.2s\tremaining: 17.5s\n",
      "204:\tlearn: 0.1534476\ttest: 0.1971031\tbest: 0.1971031 (204)\ttotal: 18.3s\tremaining: 17.4s\n",
      "205:\tlearn: 0.1529454\ttest: 0.1971009\tbest: 0.1971009 (205)\ttotal: 18.4s\tremaining: 17.3s\n",
      "206:\tlearn: 0.1527173\ttest: 0.1970689\tbest: 0.1970689 (206)\ttotal: 18.5s\tremaining: 17.2s\n",
      "207:\tlearn: 0.1524559\ttest: 0.1970208\tbest: 0.1970208 (207)\ttotal: 18.6s\tremaining: 17.1s\n",
      "208:\tlearn: 0.1523064\ttest: 0.1970088\tbest: 0.1970088 (208)\ttotal: 18.7s\tremaining: 17.1s\n",
      "209:\tlearn: 0.1520780\ttest: 0.1970092\tbest: 0.1970088 (208)\ttotal: 18.8s\tremaining: 17s\n",
      "210:\tlearn: 0.1516340\ttest: 0.1970186\tbest: 0.1970088 (208)\ttotal: 18.9s\tremaining: 16.9s\n",
      "211:\tlearn: 0.1513721\ttest: 0.1969900\tbest: 0.1969900 (211)\ttotal: 19s\tremaining: 16.8s\n",
      "212:\tlearn: 0.1512895\ttest: 0.1969392\tbest: 0.1969392 (212)\ttotal: 19.1s\tremaining: 16.7s\n",
      "213:\tlearn: 0.1511229\ttest: 0.1969339\tbest: 0.1969339 (213)\ttotal: 19.1s\tremaining: 16.6s\n",
      "214:\tlearn: 0.1509372\ttest: 0.1969316\tbest: 0.1969316 (214)\ttotal: 19.2s\tremaining: 16.5s\n",
      "215:\tlearn: 0.1506282\ttest: 0.1968688\tbest: 0.1968688 (215)\ttotal: 19.3s\tremaining: 16.5s\n",
      "216:\tlearn: 0.1505651\ttest: 0.1968415\tbest: 0.1968415 (216)\ttotal: 19.4s\tremaining: 16.4s\n",
      "217:\tlearn: 0.1502186\ttest: 0.1967547\tbest: 0.1967547 (217)\ttotal: 19.5s\tremaining: 16.3s\n",
      "218:\tlearn: 0.1501109\ttest: 0.1967445\tbest: 0.1967445 (218)\ttotal: 19.6s\tremaining: 16.2s\n",
      "219:\tlearn: 0.1499204\ttest: 0.1966836\tbest: 0.1966836 (219)\ttotal: 19.7s\tremaining: 16.1s\n",
      "220:\tlearn: 0.1496668\ttest: 0.1966626\tbest: 0.1966626 (220)\ttotal: 19.8s\tremaining: 16s\n",
      "221:\tlearn: 0.1494648\ttest: 0.1965968\tbest: 0.1965968 (221)\ttotal: 19.8s\tremaining: 15.9s\n",
      "222:\tlearn: 0.1493209\ttest: 0.1965805\tbest: 0.1965805 (222)\ttotal: 19.9s\tremaining: 15.8s\n",
      "223:\tlearn: 0.1491685\ttest: 0.1965448\tbest: 0.1965448 (223)\ttotal: 20s\tremaining: 15.7s\n",
      "224:\tlearn: 0.1489134\ttest: 0.1965115\tbest: 0.1965115 (224)\ttotal: 20.1s\tremaining: 15.6s\n",
      "225:\tlearn: 0.1487936\ttest: 0.1964990\tbest: 0.1964990 (225)\ttotal: 20.2s\tremaining: 15.6s\n",
      "226:\tlearn: 0.1484690\ttest: 0.1964719\tbest: 0.1964719 (226)\ttotal: 20.3s\tremaining: 15.5s\n",
      "227:\tlearn: 0.1482869\ttest: 0.1964214\tbest: 0.1964214 (227)\ttotal: 20.4s\tremaining: 15.4s\n",
      "228:\tlearn: 0.1480710\ttest: 0.1964002\tbest: 0.1964002 (228)\ttotal: 20.5s\tremaining: 15.3s\n",
      "229:\tlearn: 0.1478719\ttest: 0.1963519\tbest: 0.1963519 (229)\ttotal: 20.6s\tremaining: 15.2s\n",
      "230:\tlearn: 0.1476714\ttest: 0.1963039\tbest: 0.1963039 (230)\ttotal: 20.7s\tremaining: 15.1s\n",
      "231:\tlearn: 0.1472661\ttest: 0.1962608\tbest: 0.1962608 (231)\ttotal: 20.8s\tremaining: 15s\n",
      "232:\tlearn: 0.1469619\ttest: 0.1962388\tbest: 0.1962388 (232)\ttotal: 20.9s\tremaining: 14.9s\n",
      "233:\tlearn: 0.1468503\ttest: 0.1962244\tbest: 0.1962244 (233)\ttotal: 21s\tremaining: 14.9s\n",
      "234:\tlearn: 0.1466627\ttest: 0.1962162\tbest: 0.1962162 (234)\ttotal: 21s\tremaining: 14.8s\n",
      "235:\tlearn: 0.1463762\ttest: 0.1961633\tbest: 0.1961633 (235)\ttotal: 21.1s\tremaining: 14.7s\n",
      "236:\tlearn: 0.1460362\ttest: 0.1961239\tbest: 0.1961239 (236)\ttotal: 21.2s\tremaining: 14.6s\n",
      "237:\tlearn: 0.1457251\ttest: 0.1960879\tbest: 0.1960879 (237)\ttotal: 21.3s\tremaining: 14.5s\n",
      "238:\tlearn: 0.1455949\ttest: 0.1960876\tbest: 0.1960876 (238)\ttotal: 21.4s\tremaining: 14.4s\n",
      "239:\tlearn: 0.1453584\ttest: 0.1960137\tbest: 0.1960137 (239)\ttotal: 21.5s\tremaining: 14.3s\n",
      "240:\tlearn: 0.1452263\ttest: 0.1959900\tbest: 0.1959900 (240)\ttotal: 21.6s\tremaining: 14.3s\n",
      "241:\tlearn: 0.1450635\ttest: 0.1959179\tbest: 0.1959179 (241)\ttotal: 21.7s\tremaining: 14.2s\n",
      "242:\tlearn: 0.1449097\ttest: 0.1959071\tbest: 0.1959071 (242)\ttotal: 21.8s\tremaining: 14.1s\n",
      "243:\tlearn: 0.1447745\ttest: 0.1958785\tbest: 0.1958785 (243)\ttotal: 21.9s\tremaining: 14s\n",
      "244:\tlearn: 0.1446384\ttest: 0.1958640\tbest: 0.1958640 (244)\ttotal: 22s\tremaining: 13.9s\n",
      "245:\tlearn: 0.1444646\ttest: 0.1958334\tbest: 0.1958334 (245)\ttotal: 22.1s\tremaining: 13.8s\n",
      "246:\tlearn: 0.1440079\ttest: 0.1957936\tbest: 0.1957936 (246)\ttotal: 22.2s\tremaining: 13.7s\n",
      "247:\tlearn: 0.1438756\ttest: 0.1957655\tbest: 0.1957655 (247)\ttotal: 22.3s\tremaining: 13.7s\n",
      "248:\tlearn: 0.1437874\ttest: 0.1957310\tbest: 0.1957310 (248)\ttotal: 22.4s\tremaining: 13.6s\n",
      "249:\tlearn: 0.1435606\ttest: 0.1957356\tbest: 0.1957310 (248)\ttotal: 22.5s\tremaining: 13.5s\n",
      "250:\tlearn: 0.1432731\ttest: 0.1957423\tbest: 0.1957310 (248)\ttotal: 22.6s\tremaining: 13.4s\n",
      "251:\tlearn: 0.1430910\ttest: 0.1957343\tbest: 0.1957310 (248)\ttotal: 22.7s\tremaining: 13.3s\n",
      "252:\tlearn: 0.1427265\ttest: 0.1957283\tbest: 0.1957283 (252)\ttotal: 22.8s\tremaining: 13.2s\n",
      "253:\tlearn: 0.1425523\ttest: 0.1956989\tbest: 0.1956989 (253)\ttotal: 22.8s\tremaining: 13.1s\n",
      "254:\tlearn: 0.1423386\ttest: 0.1956741\tbest: 0.1956741 (254)\ttotal: 22.9s\tremaining: 13s\n",
      "255:\tlearn: 0.1418583\ttest: 0.1956683\tbest: 0.1956683 (255)\ttotal: 23s\tremaining: 13s\n",
      "256:\tlearn: 0.1417078\ttest: 0.1956498\tbest: 0.1956498 (256)\ttotal: 23.1s\tremaining: 12.9s\n",
      "257:\tlearn: 0.1414397\ttest: 0.1956186\tbest: 0.1956186 (257)\ttotal: 23.2s\tremaining: 12.8s\n",
      "258:\tlearn: 0.1410395\ttest: 0.1956504\tbest: 0.1956186 (257)\ttotal: 23.3s\tremaining: 12.7s\n",
      "259:\tlearn: 0.1408506\ttest: 0.1956254\tbest: 0.1956186 (257)\ttotal: 23.4s\tremaining: 12.6s\n",
      "260:\tlearn: 0.1407859\ttest: 0.1956140\tbest: 0.1956140 (260)\ttotal: 23.5s\tremaining: 12.5s\n",
      "261:\tlearn: 0.1404984\ttest: 0.1955991\tbest: 0.1955991 (261)\ttotal: 23.6s\tremaining: 12.4s\n",
      "262:\tlearn: 0.1403252\ttest: 0.1955876\tbest: 0.1955876 (262)\ttotal: 23.7s\tremaining: 12.4s\n",
      "263:\tlearn: 0.1401725\ttest: 0.1955623\tbest: 0.1955623 (263)\ttotal: 23.8s\tremaining: 12.3s\n",
      "264:\tlearn: 0.1400850\ttest: 0.1955491\tbest: 0.1955491 (264)\ttotal: 23.9s\tremaining: 12.2s\n",
      "265:\tlearn: 0.1398769\ttest: 0.1955525\tbest: 0.1955491 (264)\ttotal: 24s\tremaining: 12.1s\n",
      "266:\tlearn: 0.1397911\ttest: 0.1955323\tbest: 0.1955323 (266)\ttotal: 24.1s\tremaining: 12s\n",
      "267:\tlearn: 0.1396107\ttest: 0.1954745\tbest: 0.1954745 (267)\ttotal: 24.2s\tremaining: 11.9s\n",
      "268:\tlearn: 0.1395265\ttest: 0.1954561\tbest: 0.1954561 (268)\ttotal: 24.2s\tremaining: 11.8s\n",
      "269:\tlearn: 0.1394021\ttest: 0.1954298\tbest: 0.1954298 (269)\ttotal: 24.3s\tremaining: 11.7s\n",
      "270:\tlearn: 0.1392083\ttest: 0.1954293\tbest: 0.1954293 (270)\ttotal: 24.4s\tremaining: 11.6s\n",
      "271:\tlearn: 0.1391256\ttest: 0.1954213\tbest: 0.1954213 (271)\ttotal: 24.5s\tremaining: 11.5s\n",
      "272:\tlearn: 0.1390594\ttest: 0.1954058\tbest: 0.1954058 (272)\ttotal: 24.6s\tremaining: 11.4s\n",
      "273:\tlearn: 0.1389175\ttest: 0.1953950\tbest: 0.1953950 (273)\ttotal: 24.7s\tremaining: 11.4s\n",
      "274:\tlearn: 0.1388158\ttest: 0.1953846\tbest: 0.1953846 (274)\ttotal: 24.8s\tremaining: 11.3s\n",
      "275:\tlearn: 0.1384021\ttest: 0.1953791\tbest: 0.1953791 (275)\ttotal: 24.9s\tremaining: 11.2s\n",
      "276:\tlearn: 0.1382109\ttest: 0.1953766\tbest: 0.1953766 (276)\ttotal: 25s\tremaining: 11.1s\n",
      "277:\tlearn: 0.1381037\ttest: 0.1953460\tbest: 0.1953460 (277)\ttotal: 25.1s\tremaining: 11s\n",
      "278:\tlearn: 0.1379854\ttest: 0.1953168\tbest: 0.1953168 (278)\ttotal: 25.2s\tremaining: 10.9s\n",
      "279:\tlearn: 0.1377161\ttest: 0.1953138\tbest: 0.1953138 (279)\ttotal: 25.3s\tremaining: 10.8s\n",
      "280:\tlearn: 0.1375210\ttest: 0.1953034\tbest: 0.1953034 (280)\ttotal: 25.4s\tremaining: 10.8s\n",
      "281:\tlearn: 0.1373836\ttest: 0.1953311\tbest: 0.1953034 (280)\ttotal: 25.5s\tremaining: 10.7s\n",
      "282:\tlearn: 0.1373020\ttest: 0.1953159\tbest: 0.1953034 (280)\ttotal: 25.6s\tremaining: 10.6s\n",
      "283:\tlearn: 0.1371688\ttest: 0.1952913\tbest: 0.1952913 (283)\ttotal: 25.7s\tremaining: 10.5s\n"
     ]
    },
    {
     "name": "stdout",
     "output_type": "stream",
     "text": [
      "284:\tlearn: 0.1369999\ttest: 0.1952494\tbest: 0.1952494 (284)\ttotal: 25.8s\tremaining: 10.4s\n",
      "285:\tlearn: 0.1367565\ttest: 0.1951747\tbest: 0.1951747 (285)\ttotal: 25.8s\tremaining: 10.3s\n",
      "286:\tlearn: 0.1366062\ttest: 0.1951547\tbest: 0.1951547 (286)\ttotal: 25.9s\tremaining: 10.2s\n",
      "287:\tlearn: 0.1364566\ttest: 0.1951346\tbest: 0.1951346 (287)\ttotal: 26s\tremaining: 10.1s\n",
      "288:\tlearn: 0.1363207\ttest: 0.1951390\tbest: 0.1951346 (287)\ttotal: 26.1s\tremaining: 10s\n",
      "289:\tlearn: 0.1361738\ttest: 0.1951655\tbest: 0.1951346 (287)\ttotal: 26.2s\tremaining: 9.94s\n",
      "290:\tlearn: 0.1358516\ttest: 0.1951253\tbest: 0.1951253 (290)\ttotal: 26.3s\tremaining: 9.84s\n",
      "291:\tlearn: 0.1356674\ttest: 0.1950941\tbest: 0.1950941 (291)\ttotal: 26.4s\tremaining: 9.76s\n",
      "292:\tlearn: 0.1355022\ttest: 0.1950823\tbest: 0.1950823 (292)\ttotal: 26.5s\tremaining: 9.66s\n",
      "293:\tlearn: 0.1352634\ttest: 0.1950708\tbest: 0.1950708 (293)\ttotal: 26.6s\tremaining: 9.57s\n",
      "294:\tlearn: 0.1351156\ttest: 0.1950553\tbest: 0.1950553 (294)\ttotal: 26.7s\tremaining: 9.49s\n",
      "295:\tlearn: 0.1349340\ttest: 0.1950236\tbest: 0.1950236 (295)\ttotal: 26.7s\tremaining: 9.4s\n",
      "296:\tlearn: 0.1347322\ttest: 0.1950178\tbest: 0.1950178 (296)\ttotal: 26.8s\tremaining: 9.31s\n",
      "297:\tlearn: 0.1345906\ttest: 0.1950206\tbest: 0.1950178 (296)\ttotal: 26.9s\tremaining: 9.22s\n",
      "298:\tlearn: 0.1343979\ttest: 0.1950154\tbest: 0.1950154 (298)\ttotal: 27s\tremaining: 9.14s\n",
      "299:\tlearn: 0.1340590\ttest: 0.1950149\tbest: 0.1950149 (299)\ttotal: 27.1s\tremaining: 9.05s\n",
      "300:\tlearn: 0.1339870\ttest: 0.1950201\tbest: 0.1950149 (299)\ttotal: 27.2s\tremaining: 8.96s\n",
      "301:\tlearn: 0.1338578\ttest: 0.1950025\tbest: 0.1950025 (301)\ttotal: 27.3s\tremaining: 8.86s\n",
      "302:\tlearn: 0.1336863\ttest: 0.1950211\tbest: 0.1950025 (301)\ttotal: 27.4s\tremaining: 8.78s\n",
      "303:\tlearn: 0.1334876\ttest: 0.1950312\tbest: 0.1950025 (301)\ttotal: 27.5s\tremaining: 8.68s\n",
      "304:\tlearn: 0.1333799\ttest: 0.1949957\tbest: 0.1949957 (304)\ttotal: 27.6s\tremaining: 8.59s\n",
      "305:\tlearn: 0.1332140\ttest: 0.1949925\tbest: 0.1949925 (305)\ttotal: 27.7s\tremaining: 8.5s\n",
      "306:\tlearn: 0.1329076\ttest: 0.1950008\tbest: 0.1949925 (305)\ttotal: 27.7s\tremaining: 8.4s\n",
      "307:\tlearn: 0.1328023\ttest: 0.1949793\tbest: 0.1949793 (307)\ttotal: 27.8s\tremaining: 8.31s\n",
      "308:\tlearn: 0.1325843\ttest: 0.1949550\tbest: 0.1949550 (308)\ttotal: 27.9s\tremaining: 8.22s\n",
      "309:\tlearn: 0.1324386\ttest: 0.1949268\tbest: 0.1949268 (309)\ttotal: 28s\tremaining: 8.13s\n",
      "310:\tlearn: 0.1321347\ttest: 0.1949049\tbest: 0.1949049 (310)\ttotal: 28.1s\tremaining: 8.04s\n",
      "311:\tlearn: 0.1320523\ttest: 0.1948806\tbest: 0.1948806 (311)\ttotal: 28.2s\tremaining: 7.95s\n",
      "312:\tlearn: 0.1318911\ttest: 0.1948663\tbest: 0.1948663 (312)\ttotal: 28.3s\tremaining: 7.86s\n",
      "313:\tlearn: 0.1316447\ttest: 0.1948902\tbest: 0.1948663 (312)\ttotal: 28.4s\tremaining: 7.77s\n",
      "314:\tlearn: 0.1315878\ttest: 0.1948888\tbest: 0.1948663 (312)\ttotal: 28.4s\tremaining: 7.67s\n",
      "315:\tlearn: 0.1313319\ttest: 0.1948426\tbest: 0.1948426 (315)\ttotal: 28.5s\tremaining: 7.59s\n",
      "316:\tlearn: 0.1311014\ttest: 0.1948401\tbest: 0.1948401 (316)\ttotal: 28.6s\tremaining: 7.5s\n",
      "317:\tlearn: 0.1309323\ttest: 0.1948321\tbest: 0.1948321 (317)\ttotal: 28.7s\tremaining: 7.41s\n",
      "318:\tlearn: 0.1306846\ttest: 0.1948388\tbest: 0.1948321 (317)\ttotal: 28.8s\tremaining: 7.32s\n",
      "319:\tlearn: 0.1305272\ttest: 0.1947736\tbest: 0.1947736 (319)\ttotal: 28.9s\tremaining: 7.23s\n",
      "320:\tlearn: 0.1303589\ttest: 0.1947771\tbest: 0.1947736 (319)\ttotal: 29s\tremaining: 7.14s\n",
      "321:\tlearn: 0.1302324\ttest: 0.1947531\tbest: 0.1947531 (321)\ttotal: 29.1s\tremaining: 7.06s\n",
      "322:\tlearn: 0.1300346\ttest: 0.1947196\tbest: 0.1947196 (322)\ttotal: 29.2s\tremaining: 6.97s\n",
      "323:\tlearn: 0.1297892\ttest: 0.1947120\tbest: 0.1947120 (323)\ttotal: 29.3s\tremaining: 6.88s\n",
      "324:\tlearn: 0.1297057\ttest: 0.1947183\tbest: 0.1947120 (323)\ttotal: 29.4s\tremaining: 6.78s\n",
      "325:\tlearn: 0.1295440\ttest: 0.1946908\tbest: 0.1946908 (325)\ttotal: 29.5s\tremaining: 6.7s\n",
      "326:\tlearn: 0.1294561\ttest: 0.1946395\tbest: 0.1946395 (326)\ttotal: 29.6s\tremaining: 6.6s\n",
      "327:\tlearn: 0.1292781\ttest: 0.1946411\tbest: 0.1946395 (326)\ttotal: 29.7s\tremaining: 6.51s\n",
      "328:\tlearn: 0.1290710\ttest: 0.1945706\tbest: 0.1945706 (328)\ttotal: 29.8s\tremaining: 6.42s\n",
      "329:\tlearn: 0.1289959\ttest: 0.1945630\tbest: 0.1945630 (329)\ttotal: 29.8s\tremaining: 6.33s\n",
      "330:\tlearn: 0.1288944\ttest: 0.1945534\tbest: 0.1945534 (330)\ttotal: 29.9s\tremaining: 6.24s\n",
      "331:\tlearn: 0.1287212\ttest: 0.1945646\tbest: 0.1945534 (330)\ttotal: 30s\tremaining: 6.15s\n",
      "332:\tlearn: 0.1286152\ttest: 0.1945562\tbest: 0.1945534 (330)\ttotal: 30.1s\tremaining: 6.06s\n",
      "333:\tlearn: 0.1284919\ttest: 0.1945536\tbest: 0.1945534 (330)\ttotal: 30.2s\tremaining: 5.97s\n",
      "334:\tlearn: 0.1283716\ttest: 0.1945568\tbest: 0.1945534 (330)\ttotal: 30.3s\tremaining: 5.88s\n",
      "335:\tlearn: 0.1282609\ttest: 0.1945401\tbest: 0.1945401 (335)\ttotal: 30.4s\tremaining: 5.79s\n",
      "336:\tlearn: 0.1280723\ttest: 0.1945394\tbest: 0.1945394 (336)\ttotal: 30.5s\tremaining: 5.7s\n",
      "337:\tlearn: 0.1279577\ttest: 0.1945283\tbest: 0.1945283 (337)\ttotal: 30.6s\tremaining: 5.61s\n",
      "338:\tlearn: 0.1278402\ttest: 0.1945304\tbest: 0.1945283 (337)\ttotal: 30.7s\tremaining: 5.52s\n",
      "339:\tlearn: 0.1276148\ttest: 0.1945121\tbest: 0.1945121 (339)\ttotal: 30.8s\tremaining: 5.43s\n",
      "340:\tlearn: 0.1274409\ttest: 0.1945008\tbest: 0.1945008 (340)\ttotal: 30.9s\tremaining: 5.34s\n",
      "341:\tlearn: 0.1272130\ttest: 0.1944618\tbest: 0.1944618 (341)\ttotal: 31s\tremaining: 5.25s\n",
      "342:\tlearn: 0.1270909\ttest: 0.1944636\tbest: 0.1944618 (341)\ttotal: 31.1s\tremaining: 5.16s\n",
      "343:\tlearn: 0.1269023\ttest: 0.1944287\tbest: 0.1944287 (343)\ttotal: 31.2s\tremaining: 5.07s\n",
      "344:\tlearn: 0.1267100\ttest: 0.1943949\tbest: 0.1943949 (344)\ttotal: 31.2s\tremaining: 4.98s\n",
      "345:\tlearn: 0.1266110\ttest: 0.1943683\tbest: 0.1943683 (345)\ttotal: 31.3s\tremaining: 4.89s\n",
      "346:\tlearn: 0.1265065\ttest: 0.1943582\tbest: 0.1943582 (346)\ttotal: 31.4s\tremaining: 4.8s\n",
      "347:\tlearn: 0.1264167\ttest: 0.1943571\tbest: 0.1943571 (347)\ttotal: 31.5s\tremaining: 4.71s\n",
      "348:\tlearn: 0.1262893\ttest: 0.1943465\tbest: 0.1943465 (348)\ttotal: 31.6s\tremaining: 4.62s\n",
      "349:\tlearn: 0.1260559\ttest: 0.1943502\tbest: 0.1943465 (348)\ttotal: 31.7s\tremaining: 4.53s\n",
      "350:\tlearn: 0.1259719\ttest: 0.1943385\tbest: 0.1943385 (350)\ttotal: 31.8s\tremaining: 4.44s\n",
      "351:\tlearn: 0.1257922\ttest: 0.1943028\tbest: 0.1943028 (351)\ttotal: 31.9s\tremaining: 4.35s\n",
      "352:\tlearn: 0.1256472\ttest: 0.1943049\tbest: 0.1943028 (351)\ttotal: 32s\tremaining: 4.26s\n",
      "353:\tlearn: 0.1254650\ttest: 0.1942337\tbest: 0.1942337 (353)\ttotal: 32.1s\tremaining: 4.17s\n",
      "354:\tlearn: 0.1253747\ttest: 0.1942066\tbest: 0.1942066 (354)\ttotal: 32.2s\tremaining: 4.08s\n",
      "355:\tlearn: 0.1250536\ttest: 0.1942024\tbest: 0.1942024 (355)\ttotal: 32.3s\tremaining: 3.99s\n",
      "356:\tlearn: 0.1249525\ttest: 0.1941839\tbest: 0.1941839 (356)\ttotal: 32.4s\tremaining: 3.9s\n",
      "357:\tlearn: 0.1248245\ttest: 0.1941661\tbest: 0.1941661 (357)\ttotal: 32.5s\tremaining: 3.81s\n",
      "358:\tlearn: 0.1247161\ttest: 0.1941659\tbest: 0.1941659 (358)\ttotal: 32.5s\tremaining: 3.72s\n",
      "359:\tlearn: 0.1246582\ttest: 0.1941577\tbest: 0.1941577 (359)\ttotal: 32.6s\tremaining: 3.63s\n",
      "360:\tlearn: 0.1245237\ttest: 0.1941407\tbest: 0.1941407 (360)\ttotal: 32.7s\tremaining: 3.54s\n",
      "361:\tlearn: 0.1243021\ttest: 0.1941260\tbest: 0.1941260 (361)\ttotal: 32.8s\tremaining: 3.44s\n",
      "362:\tlearn: 0.1242526\ttest: 0.1941126\tbest: 0.1941126 (362)\ttotal: 32.9s\tremaining: 3.35s\n",
      "363:\tlearn: 0.1240906\ttest: 0.1940966\tbest: 0.1940966 (363)\ttotal: 33s\tremaining: 3.27s\n",
      "364:\tlearn: 0.1239496\ttest: 0.1940386\tbest: 0.1940386 (364)\ttotal: 33.1s\tremaining: 3.18s\n",
      "365:\tlearn: 0.1238609\ttest: 0.1940317\tbest: 0.1940317 (365)\ttotal: 33.2s\tremaining: 3.09s\n",
      "366:\tlearn: 0.1236113\ttest: 0.1940377\tbest: 0.1940317 (365)\ttotal: 33.4s\tremaining: 3s\n",
      "367:\tlearn: 0.1233778\ttest: 0.1940092\tbest: 0.1940092 (367)\ttotal: 33.5s\tremaining: 2.91s\n",
      "368:\tlearn: 0.1230894\ttest: 0.1939879\tbest: 0.1939879 (368)\ttotal: 33.6s\tremaining: 2.82s\n",
      "369:\tlearn: 0.1229535\ttest: 0.1940008\tbest: 0.1939879 (368)\ttotal: 33.7s\tremaining: 2.73s\n",
      "370:\tlearn: 0.1228984\ttest: 0.1939966\tbest: 0.1939879 (368)\ttotal: 33.8s\tremaining: 2.64s\n",
      "371:\tlearn: 0.1228045\ttest: 0.1940109\tbest: 0.1939879 (368)\ttotal: 33.9s\tremaining: 2.55s\n",
      "372:\tlearn: 0.1226887\ttest: 0.1940047\tbest: 0.1939879 (368)\ttotal: 34s\tremaining: 2.46s\n",
      "373:\tlearn: 0.1225720\ttest: 0.1940013\tbest: 0.1939879 (368)\ttotal: 34.1s\tremaining: 2.37s\n",
      "374:\tlearn: 0.1223262\ttest: 0.1939757\tbest: 0.1939757 (374)\ttotal: 34.2s\tremaining: 2.28s\n",
      "375:\tlearn: 0.1221307\ttest: 0.1939570\tbest: 0.1939570 (375)\ttotal: 34.3s\tremaining: 2.19s\n",
      "376:\tlearn: 0.1218857\ttest: 0.1939692\tbest: 0.1939570 (375)\ttotal: 34.4s\tremaining: 2.1s\n"
     ]
    },
    {
     "name": "stdout",
     "output_type": "stream",
     "text": [
      "377:\tlearn: 0.1216893\ttest: 0.1939628\tbest: 0.1939570 (375)\ttotal: 34.5s\tremaining: 2.01s\n",
      "378:\tlearn: 0.1215495\ttest: 0.1939657\tbest: 0.1939570 (375)\ttotal: 34.6s\tremaining: 1.92s\n",
      "379:\tlearn: 0.1214156\ttest: 0.1939914\tbest: 0.1939570 (375)\ttotal: 34.7s\tremaining: 1.82s\n",
      "380:\tlearn: 0.1212440\ttest: 0.1939849\tbest: 0.1939570 (375)\ttotal: 34.8s\tremaining: 1.73s\n",
      "381:\tlearn: 0.1211436\ttest: 0.1939552\tbest: 0.1939552 (381)\ttotal: 34.9s\tremaining: 1.64s\n",
      "382:\tlearn: 0.1209983\ttest: 0.1939129\tbest: 0.1939129 (382)\ttotal: 35s\tremaining: 1.55s\n",
      "383:\tlearn: 0.1208517\ttest: 0.1939063\tbest: 0.1939063 (383)\ttotal: 35.1s\tremaining: 1.46s\n",
      "384:\tlearn: 0.1207573\ttest: 0.1939079\tbest: 0.1939063 (383)\ttotal: 35.2s\tremaining: 1.37s\n",
      "385:\tlearn: 0.1204792\ttest: 0.1938926\tbest: 0.1938926 (385)\ttotal: 35.3s\tremaining: 1.28s\n",
      "386:\tlearn: 0.1203413\ttest: 0.1938693\tbest: 0.1938693 (386)\ttotal: 35.4s\tremaining: 1.19s\n",
      "387:\tlearn: 0.1202456\ttest: 0.1938379\tbest: 0.1938379 (387)\ttotal: 35.5s\tremaining: 1.1s\n",
      "388:\tlearn: 0.1199946\ttest: 0.1938230\tbest: 0.1938230 (388)\ttotal: 35.6s\tremaining: 1.01s\n",
      "389:\tlearn: 0.1198297\ttest: 0.1938080\tbest: 0.1938080 (389)\ttotal: 35.7s\tremaining: 916ms\n",
      "390:\tlearn: 0.1196073\ttest: 0.1938007\tbest: 0.1938007 (390)\ttotal: 35.9s\tremaining: 825ms\n",
      "391:\tlearn: 0.1194297\ttest: 0.1938078\tbest: 0.1938007 (390)\ttotal: 35.9s\tremaining: 734ms\n",
      "392:\tlearn: 0.1193592\ttest: 0.1938025\tbest: 0.1938007 (390)\ttotal: 36s\tremaining: 642ms\n",
      "393:\tlearn: 0.1193087\ttest: 0.1937852\tbest: 0.1937852 (393)\ttotal: 36.2s\tremaining: 551ms\n",
      "394:\tlearn: 0.1192313\ttest: 0.1937740\tbest: 0.1937740 (394)\ttotal: 36.3s\tremaining: 459ms\n",
      "395:\tlearn: 0.1191077\ttest: 0.1937877\tbest: 0.1937740 (394)\ttotal: 36.4s\tremaining: 367ms\n",
      "396:\tlearn: 0.1189748\ttest: 0.1937856\tbest: 0.1937740 (394)\ttotal: 36.5s\tremaining: 276ms\n",
      "397:\tlearn: 0.1188012\ttest: 0.1937836\tbest: 0.1937740 (394)\ttotal: 36.6s\tremaining: 184ms\n",
      "398:\tlearn: 0.1186637\ttest: 0.1937615\tbest: 0.1937615 (398)\ttotal: 36.7s\tremaining: 91.9ms\n",
      "399:\tlearn: 0.1185649\ttest: 0.1937332\tbest: 0.1937332 (399)\ttotal: 36.8s\tremaining: 0us\n",
      "\n",
      "bestTest = 0.1937332181\n",
      "bestIteration = 399\n",
      "\n"
     ]
    },
    {
     "data": {
      "text/plain": [
       "<catboost.core._CatBoostBase at 0x7f4cf38816d0>"
      ]
     },
     "execution_count": 37,
     "metadata": {},
     "output_type": "execute_result"
    }
   ],
   "source": [
    "model = CatBoostClassifier(iterations=400, depth=12, loss_function='Logloss')#, logging_level='Verbose')\n",
    "#train the model\n",
    "model.fit(train_data, train_label,cat_features = [\n",
    "    feature_columns.index(\"ending_2\"),\n",
    "    feature_columns.index(\"ending_3\"),\n",
    "    feature_columns.index(\"start_1\"),\n",
    "    feature_columns.index(\"start_2\"),\n",
    "],\n",
    "    eval_set = (test_data, test_label)\n",
    ")"
   ]
  },
  {
   "cell_type": "code",
   "execution_count": null,
   "metadata": {},
   "outputs": [],
   "source": []
  },
  {
   "cell_type": "code",
   "execution_count": 38,
   "metadata": {},
   "outputs": [],
   "source": [
    "preds_proba = model.predict_proba(train_data)\n",
    "preds_proba_test = model.predict_proba(test_data)\n"
   ]
  },
  {
   "cell_type": "code",
   "execution_count": 39,
   "metadata": {},
   "outputs": [
    {
     "data": {
      "text/plain": [
       "(array([   362.,    262.,    354.,    455.,    524.,    688.,    876.,\n",
       "          1136.,   2237.,  23529.]),\n",
       " array([ 0.00346784,  0.10307578,  0.20268372,  0.30229165,  0.40189959,\n",
       "         0.50150753,  0.60111546,  0.7007234 ,  0.80033134,  0.89993927,\n",
       "         0.99954721]),\n",
       " <a list of 10 Patch objects>)"
      ]
     },
     "execution_count": 39,
     "metadata": {},
     "output_type": "execute_result"
    },
    {
     "data": {
      "image/png": "[encoded data removed]",
      "text/plain": [
       "<matplotlib.figure.Figure at 0x7f4cf3881290>"
      ]
     },
     "metadata": {},
     "output_type": "display_data"
    }
   ],
   "source": [
    "plt.hist(preds_proba[:,0])\n",
    "plt.hist(preds_proba_test[:,0])"
   ]
  },
  {
   "cell_type": "code",
   "execution_count": null,
   "metadata": {},
   "outputs": [],
   "source": []
  },
  {
   "cell_type": "code",
   "execution_count": 40,
   "metadata": {},
   "outputs": [
    {
     "data": {
      "text/plain": [
       "0.93527534369097742"
      ]
     },
     "execution_count": 40,
     "metadata": {},
     "output_type": "execute_result"
    }
   ],
   "source": [
    "sklearn.metrics.roc_auc_score(\n",
    "    y_true = train_label,\n",
    "    y_score = preds_proba[:, 1], \n",
    ")"
   ]
  },
  {
   "cell_type": "code",
   "execution_count": 41,
   "metadata": {},
   "outputs": [
    {
     "data": {
      "text/plain": [
       "0.9173244970213198"
      ]
     },
     "execution_count": 41,
     "metadata": {},
     "output_type": "execute_result"
    }
   ],
   "source": [
    "sklearn.metrics.roc_auc_score(\n",
    "    y_true = test_label,\n",
    "    y_score = preds_proba_test[:, 1], \n",
    ")"
   ]
  },
  {
   "cell_type": "code",
   "execution_count": 42,
   "metadata": {},
   "outputs": [
    {
     "data": {
      "text/plain": [
       "0.9173244970213198"
      ]
     },
     "execution_count": 42,
     "metadata": {},
     "output_type": "execute_result"
    }
   ],
   "source": [
    "sklearn.metrics.roc_auc_score(\n",
    "    y_true = test_label,\n",
    "    y_score = preds_proba_test[:, 1], \n",
    ")"
   ]
  },
  {
   "cell_type": "code",
   "execution_count": 43,
   "metadata": {},
   "outputs": [],
   "source": [
    "# Переобучаем на всем множестве с подобранными гиперпараметрами\n"
   ]
  },
  {
   "cell_type": "code",
   "execution_count": 44,
   "metadata": {},
   "outputs": [],
   "source": [
    "# делаем предсказание на тесте"
   ]
  },
  {
   "cell_type": "code",
   "execution_count": 45,
   "metadata": {},
   "outputs": [],
   "source": [
    "preds_proba_submission = model.predict_proba(df_test.loc[:, feature_columns].values)"
   ]
  },
  {
   "cell_type": "code",
   "execution_count": 48,
   "metadata": {},
   "outputs": [
    {
     "data": {
      "text/plain": [
       "RangeIndex(start=0, stop=188920, step=1)"
      ]
     },
     "execution_count": 48,
     "metadata": {},
     "output_type": "execute_result"
    }
   ],
   "source": []
  },
  {
   "cell_type": "code",
   "execution_count": 49,
   "metadata": {},
   "outputs": [],
   "source": [
    "df_submission = pd.read_csv(\"./data/sample_submission.csv\", encoding=\"utf-8\")\n"
   ]
  },
  {
   "cell_type": "code",
   "execution_count": 51,
   "metadata": {},
   "outputs": [],
   "source": [
    "df_submission.Prediction = preds_proba_submission[:,1]"
   ]
  },
  {
   "cell_type": "code",
   "execution_count": 52,
   "metadata": {},
   "outputs": [],
   "source": [
    "df_submission.to_csv(\"hw_1_take_02.csv\", index=False)"
   ]
  },
  {
   "cell_type": "code",
   "execution_count": 1,
   "metadata": {},
   "outputs": [],
   "source": [
    "# вышло 0.91664"
   ]
  }
 ],
 "metadata": {
  "kernelspec": {
   "display_name": "Python 2",
   "language": "python",
   "name": "python2"
  },
  "language_info": {
   "codemirror_mode": {
    "name": "ipython",
    "version": 2
   },
   "file_extension": ".py",
   "mimetype": "text/x-python",
   "name": "python",
   "nbconvert_exporter": "python",
   "pygments_lexer": "ipython2",
   "version": "2.7.14"
  }
 },
 "nbformat": 4,
 "nbformat_minor": 2
}
