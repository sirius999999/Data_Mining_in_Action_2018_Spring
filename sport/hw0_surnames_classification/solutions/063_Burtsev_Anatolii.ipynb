{
  "nbformat": 4,
  "nbformat_minor": 0,
  "metadata": {
    "colab": {
      "name": "Surname_detection_challenge.ipynb",
      "version": "0.3.2",
      "views": {},
      "default_view": {},
      "provenance": []
    },
    "kernelspec": {
      "name": "python3",
      "display_name": "Python 3"
    }
  },
  "cells": [
    {
      "metadata": {
        "id": "5_7kWNBbbvBm",
        "colab_type": "code",
        "colab": {
          "autoexec": {
            "startup": false,
            "wait_interval": 0
          }
        }
      },
      "cell_type": "code",
      "source": [
        "!pip install -q pymorphy2 natasha pymorphy2[fast] pyphen\n",
        "# !pip install -q xgboost==0.4a30 "
      ],
      "execution_count": 0,
      "outputs": []
    },
    {
      "metadata": {
        "id": "B6zJYqrMbpnq",
        "colab_type": "code",
        "colab": {
          "autoexec": {
            "startup": false,
            "wait_interval": 0
          },
          "output_extras": [
            {
              "item_id": 1
            }
          ],
          "base_uri": "https://localhost:8080/",
          "height": 105
        },
        "outputId": "5dba1344-da8b-4287-c2f2-823914b8102d",
        "executionInfo": {
          "status": "ok",
          "timestamp": 1519134256540,
          "user_tz": -180,
          "elapsed": 680,
          "user": {
            "displayName": "anatoly burtsev",
            "photoUrl": "//lh6.googleusercontent.com/-Rx6k210XS7Q/AAAAAAAAAAI/AAAAAAAAO7Y/_pniGmsK8U0/s50-c-k-no/photo.jpg",
            "userId": "101703342681483250106"
          }
        }
      },
      "cell_type": "code",
      "source": [
        "import pandas as pd\n",
        "import numpy as np\n",
        "from sklearn.metrics import roc_auc_score\n",
        "from sklearn.model_selection import train_test_split\n",
        "import matplotlib.pyplot as plt\n",
        "from sklearn.linear_model import SGDClassifier, LogisticRegression\n",
        "\n",
        "from sklearn.ensemble import RandomForestClassifier\n",
        "from sklearn.utils import resample\n",
        "from sklearn.grid_search import GridSearchCV\n",
        "import re\n",
        "from sklearn.model_selection import cross_val_score\n",
        "from sklearn.feature_extraction.text import CountVectorizer\n",
        "from sklearn.feature_extraction.text import TfidfTransformer\n",
        "from sklearn.naive_bayes import MultinomialNB\n",
        "from sklearn.pipeline import Pipeline\n",
        "# import xgboost as xgb\n",
        "pd.options.mode.chained_assignment = None\n",
        "import pyphen"
      ],
      "execution_count": 2,
      "outputs": [
        {
          "output_type": "stream",
          "text": [
            "/usr/local/lib/python3.6/dist-packages/sklearn/cross_validation.py:41: DeprecationWarning: This module was deprecated in version 0.18 in favor of the model_selection module into which all the refactored classes and functions are moved. Also note that the interface of the new CV iterators are different from that of this module. This module will be removed in 0.20.\n",
            "  \"This module will be removed in 0.20.\", DeprecationWarning)\n",
            "/usr/local/lib/python3.6/dist-packages/sklearn/grid_search.py:42: DeprecationWarning: This module was deprecated in version 0.18 in favor of the model_selection module into which all the refactored classes and functions are moved. This module will be removed in 0.20.\n",
            "  DeprecationWarning)\n"
          ],
          "name": "stderr"
        }
      ]
    },
    {
      "metadata": {
        "id": "VbxGfZg6c28F",
        "colab_type": "code",
        "colab": {
          "autoexec": {
            "startup": false,
            "wait_interval": 0
          }
        }
      },
      "cell_type": "code",
      "source": [
        "! wget -q https://github.com/anatolyburtsev/ml_notebooks/raw/master/DMIA_2018/sport_hw0/train.csv\n",
        "! wget -q https://github.com/anatolyburtsev/ml_notebooks/raw/master/DMIA_2018/sport_hw0/test.csv"
      ],
      "execution_count": 0,
      "outputs": []
    },
    {
      "metadata": {
        "id": "dyEGQ2nVc7bg",
        "colab_type": "code",
        "colab": {
          "autoexec": {
            "startup": false,
            "wait_interval": 0
          }
        }
      },
      "cell_type": "code",
      "source": [
        "data = pd.read_csv(\"train.csv\")\n",
        "# data[\"Word\"] = data[\"Word\"].apply(lambda x: x.lower())\n",
        "df_majority = data[data.Label==0]\n",
        "df_minority = data[data.Label==1]\n",
        "df_minority_upsampled = resample(df_minority, \n",
        "                                 replace=True,     # sample with replacement\n",
        "                                 n_samples=int(df_majority.shape[0]/2),    # to match majority class\n",
        "                                 random_state=123) # reproducible results\n",
        "df_majority_downsampled = resample(df_majority,\n",
        "                                  replace=True,\n",
        "                                  n_samples=df_minority.shape[0],\n",
        "                                  random_state=123)\n",
        "data = pd.concat([df_majority, df_minority_upsampled])\n",
        "# data = pd.concat([df_minority, df_majority_downsampled])\n",
        "data = data.sample(frac=1, random_state=123)\n",
        "data = data.reset_index(drop=False).drop([\"index\"], axis=1)"
      ],
      "execution_count": 0,
      "outputs": []
    },
    {
      "metadata": {
        "id": "mM7fRyV60daY",
        "colab_type": "code",
        "colab": {
          "autoexec": {
            "startup": false,
            "wait_interval": 0
          }
        }
      },
      "cell_type": "code",
      "source": [
        "vowel = u'уеёыаоэяию'\n",
        "consonant = u'йцкнгшщзхъфвпрлджчсмтьб'\n",
        "ru_letter = vowel + consonant + u\"-’'\"\n",
        "last_letter = list(set(data[\"Word\"].apply(lambda x: x[-1]).get_values()))\n",
        "last_2_letter = list(set(data[\"Word\"].apply(lambda x: x[-2:]).get_values()))\n",
        "last_3_letter = list(set(data[\"Word\"].apply(lambda x: x[-3:]).get_values()))\n",
        "\n",
        "def count_vow(word):\n",
        "    vow = 0\n",
        "    for i in word:\n",
        "        if i in vowel:\n",
        "            vow += 1\n",
        "    return vow\n",
        "\n",
        "def count_con(word):\n",
        "    cons = 0\n",
        "    for i in word:\n",
        "        if i in consonant:\n",
        "            cons += 1\n",
        "    return cons\n",
        "\n",
        "def is_only_ru(word):\n",
        "    return len(set(word) - set(ru_letter)) == 0\n",
        "  \n",
        "def add_onotoles_old_features(data):\n",
        "#     data = data[data[\"Word\"].apply(lambda x: is_only_ru(x))==1]\n",
        "    data[\"only_ru\"] = data[\"Word\"].apply(lambda x: is_only_ru(x))\n",
        "    data[\"len\"] = data[\"Word\"].apply(lambda x: len(x))\n",
        "    data[\"is_len_more_11\"] = data[\"len\"].apply(lambda x: x > 11)\n",
        "    data[\"vow_count\"] = data[\"Word\"].apply(lambda x: count_vow(x))\n",
        "    data[\"cons_count\"] = data[\"Word\"].apply(lambda x: count_con(x))\n",
        "    data[\"last_vow\"] = data[\"Word\"].apply(lambda x: x[-1] in vowel)\n",
        "    data[\"prelast_vow\"] = data[\"Word\"].apply(lambda x: len(x) > 2 and x[-2] in vowel)\n",
        "    data[\"ohara\"] = data[\"Word\"].apply(lambda x: x[:2] == \"о'\")\n",
        "    return data"
      ],
      "execution_count": 0,
      "outputs": []
    },
    {
      "metadata": {
        "id": "Ut-ewN0m0vfs",
        "colab_type": "code",
        "colab": {
          "autoexec": {
            "startup": false,
            "wait_interval": 0
          }
        }
      },
      "cell_type": "code",
      "source": [
        "data = add_onotoles_old_features(data)"
      ],
      "execution_count": 0,
      "outputs": []
    },
    {
      "metadata": {
        "id": "c43eiLkv1QkS",
        "colab_type": "code",
        "colab": {
          "autoexec": {
            "startup": false,
            "wait_interval": 0
          },
          "output_extras": [
            {
              "item_id": 1
            }
          ],
          "base_uri": "https://localhost:8080/",
          "height": 204
        },
        "outputId": "1c98673c-05a8-4f67-bd7b-3d4183092665",
        "executionInfo": {
          "status": "ok",
          "timestamp": 1519134682444,
          "user_tz": -180,
          "elapsed": 670,
          "user": {
            "displayName": "anatoly burtsev",
            "photoUrl": "//lh6.googleusercontent.com/-Rx6k210XS7Q/AAAAAAAAAAI/AAAAAAAAO7Y/_pniGmsK8U0/s50-c-k-no/photo.jpg",
            "userId": "101703342681483250106"
          }
        }
      },
      "cell_type": "code",
      "source": [
        "data.head()"
      ],
      "execution_count": 47,
      "outputs": [
        {
          "output_type": "execute_result",
          "data": {
            "text/html": [
              "<div>\n",
              "<style scoped>\n",
              "    .dataframe tbody tr th:only-of-type {\n",
              "        vertical-align: middle;\n",
              "    }\n",
              "\n",
              "    .dataframe tbody tr th {\n",
              "        vertical-align: top;\n",
              "    }\n",
              "\n",
              "    .dataframe thead th {\n",
              "        text-align: right;\n",
              "    }\n",
              "</style>\n",
              "<table border=\"1\" class=\"dataframe\">\n",
              "  <thead>\n",
              "    <tr style=\"text-align: right;\">\n",
              "      <th></th>\n",
              "      <th>Word</th>\n",
              "      <th>Label</th>\n",
              "      <th>only_ru</th>\n",
              "      <th>len</th>\n",
              "      <th>is_len_more_11</th>\n",
              "      <th>vow_count</th>\n",
              "      <th>cons_count</th>\n",
              "      <th>last_vow</th>\n",
              "      <th>prelast_vow</th>\n",
              "      <th>ohara</th>\n",
              "    </tr>\n",
              "  </thead>\n",
              "  <tbody>\n",
              "    <tr>\n",
              "      <th>0</th>\n",
              "      <td>пришествию</td>\n",
              "      <td>0</td>\n",
              "      <td>True</td>\n",
              "      <td>10</td>\n",
              "      <td>False</td>\n",
              "      <td>4</td>\n",
              "      <td>6</td>\n",
              "      <td>True</td>\n",
              "      <td>True</td>\n",
              "      <td>False</td>\n",
              "    </tr>\n",
              "    <tr>\n",
              "      <th>1</th>\n",
              "      <td>синергиям</td>\n",
              "      <td>0</td>\n",
              "      <td>True</td>\n",
              "      <td>9</td>\n",
              "      <td>False</td>\n",
              "      <td>4</td>\n",
              "      <td>5</td>\n",
              "      <td>False</td>\n",
              "      <td>True</td>\n",
              "      <td>False</td>\n",
              "    </tr>\n",
              "    <tr>\n",
              "      <th>2</th>\n",
              "      <td>Сыне</td>\n",
              "      <td>0</td>\n",
              "      <td>False</td>\n",
              "      <td>4</td>\n",
              "      <td>False</td>\n",
              "      <td>2</td>\n",
              "      <td>1</td>\n",
              "      <td>True</td>\n",
              "      <td>False</td>\n",
              "      <td>False</td>\n",
              "    </tr>\n",
              "    <tr>\n",
              "      <th>3</th>\n",
              "      <td>Арену</td>\n",
              "      <td>0</td>\n",
              "      <td>False</td>\n",
              "      <td>5</td>\n",
              "      <td>False</td>\n",
              "      <td>2</td>\n",
              "      <td>2</td>\n",
              "      <td>True</td>\n",
              "      <td>False</td>\n",
              "      <td>False</td>\n",
              "    </tr>\n",
              "    <tr>\n",
              "      <th>4</th>\n",
              "      <td>Лукьянова</td>\n",
              "      <td>1</td>\n",
              "      <td>False</td>\n",
              "      <td>9</td>\n",
              "      <td>False</td>\n",
              "      <td>4</td>\n",
              "      <td>4</td>\n",
              "      <td>True</td>\n",
              "      <td>False</td>\n",
              "      <td>False</td>\n",
              "    </tr>\n",
              "  </tbody>\n",
              "</table>\n",
              "</div>"
            ],
            "text/plain": [
              "         Word  Label  only_ru  len  is_len_more_11  vow_count  cons_count  \\\n",
              "0  пришествию      0     True   10           False          4           6   \n",
              "1   синергиям      0     True    9           False          4           5   \n",
              "2        Сыне      0    False    4           False          2           1   \n",
              "3       Арену      0    False    5           False          2           2   \n",
              "4   Лукьянова      1    False    9           False          4           4   \n",
              "\n",
              "   last_vow  prelast_vow  ohara  \n",
              "0      True         True  False  \n",
              "1     False         True  False  \n",
              "2      True        False  False  \n",
              "3      True        False  False  \n",
              "4      True        False  False  "
            ]
          },
          "metadata": {
            "tags": []
          },
          "execution_count": 47
        }
      ]
    },
    {
      "metadata": {
        "id": "8FEEEqENdPVQ",
        "colab_type": "code",
        "colab": {
          "autoexec": {
            "startup": false,
            "wait_interval": 0
          }
        }
      },
      "cell_type": "code",
      "source": [
        " # X_train, X_test, y_train, y_test = train_test_split(X, y, test_size=0.2, random_state=9)\n",
        "# text_clf = Pipeline([('vect', CountVectorizer(analyzer='char_wb', ngram_range=(2,7), lowercase=False)),\n",
        "#                      ('tfidf', TfidfTransformer(use_idf=True)),\n",
        "#                      ('clf', LogisticRegression(C=5, class_weight='balanced'))\n",
        "# #                      ('clf', RandomForestClassifier(max_depth=160, n_estimators=45, n_jobs=-1)),\n",
        "# #                      ('clf', xgb.XGBClassifier(colsample_bytree=0.97, max_depth=10, n_estimators=90, subsample=0.97))\n",
        "# #                      ('clf', SGDClassifier(alpha=1e-4, penalty='l2'))#alpha=1e-4, penalty='l2', class_weight='balanced')),\n",
        "#                     ])\n",
        "# print( cross_val_score(text_clf, X=X, y=y, scoring='roc_auc').mean())\n"
      ],
      "execution_count": 0,
      "outputs": []
    },
    {
      "metadata": {
        "id": "Q26jSUeHdnjc",
        "colab_type": "code",
        "colab": {
          "autoexec": {
            "startup": false,
            "wait_interval": 0
          }
        }
      },
      "cell_type": "code",
      "source": [
        "X = data.drop([\"Label\"], axis=1)\n",
        "y = data[\"Label\"]\n",
        "X_train, X_test, y_train, y_test = train_test_split(X, y, test_size=0.3, random_state=9)\n",
        "# text_clf.fit(X_train, y_train)\n",
        "# y_pred = text_clf.predict(X_test)\n",
        "# print(roc_auc_score(y_pred, y_test))"
      ],
      "execution_count": 0,
      "outputs": []
    },
    {
      "metadata": {
        "id": "XisjBjEEhnvS",
        "colab_type": "code",
        "colab": {
          "autoexec": {
            "startup": false,
            "wait_interval": 0
          },
          "output_extras": [
            {
              "item_id": 6
            }
          ],
          "base_uri": "https://localhost:8080/",
          "height": 170
        },
        "outputId": "5881aca7-1ece-416d-d684-f358fa838feb",
        "executionInfo": {
          "status": "ok",
          "timestamp": 1519134707591,
          "user_tz": -180,
          "elapsed": 23278,
          "user": {
            "displayName": "anatoly burtsev",
            "photoUrl": "//lh6.googleusercontent.com/-Rx6k210XS7Q/AAAAAAAAAAI/AAAAAAAAO7Y/_pniGmsK8U0/s50-c-k-no/photo.jpg",
            "userId": "101703342681483250106"
          }
        }
      },
      "cell_type": "code",
      "source": [
        "def connect_google_drive():\n",
        "  !apt-get install -y -qq software-properties-common python-software-properties module-init-tools\n",
        "  !add-apt-repository -y ppa:alessandro-strada/ppa 2>&1 > /dev/null\n",
        "  !apt-get update -qq 2>&1 > /dev/null\n",
        "  !apt-get -y install -qq google-drive-ocamlfuse fuse\n",
        "  from google.colab import auth\n",
        "  auth.authenticate_user()\n",
        "  from oauth2client.client import GoogleCredentials\n",
        "  creds = GoogleCredentials.get_application_default()\n",
        "  import getpass\n",
        "  !google-drive-ocamlfuse -headless -id={creds.client_id} -secret={creds.client_secret} < /dev/null 2>&1 | grep URL\n",
        "  vcode = getpass.getpass()\n",
        "  !echo {vcode} | google-drive-ocamlfuse -headless -id={creds.client_id} -secret={creds.client_secret}\n",
        "  !mkdir -p drive\n",
        "  !google-drive-ocamlfuse drive\n",
        "  \n",
        "connect_google_drive()"
      ],
      "execution_count": 50,
      "outputs": [
        {
          "output_type": "stream",
          "text": [
            "gpg: keybox '/tmp/tmpjh978h6d/pubring.gpg' created\n",
            "gpg: /tmp/tmpjh978h6d/trustdb.gpg: trustdb created\n",
            "gpg: key AD5F235DF639B041: public key \"Launchpad PPA for Alessandro Strada\" imported\n",
            "gpg: Total number processed: 1\n",
            "gpg:               imported: 1\n",
            "Warning: apt-key output should not be parsed (stdout is not a terminal)\n",
            "··········\n",
            "fuse: mountpoint is not empty\n",
            "fuse: if you are sure this is safe, use the 'nonempty' mount option\n"
          ],
          "name": "stdout"
        }
      ]
    },
    {
      "metadata": {
        "id": "Xcc2s0Clp3E2",
        "colab_type": "code",
        "colab": {
          "autoexec": {
            "startup": false,
            "wait_interval": 0
          },
          "output_extras": [
            {
              "item_id": 1
            }
          ],
          "base_uri": "https://localhost:8080/",
          "height": 85
        },
        "outputId": "57e558a1-beac-444e-8b16-8866d7df1984",
        "executionInfo": {
          "status": "ok",
          "timestamp": 1519134727084,
          "user_tz": -180,
          "elapsed": 19453,
          "user": {
            "displayName": "anatoly burtsev",
            "photoUrl": "//lh6.googleusercontent.com/-Rx6k210XS7Q/AAAAAAAAAAI/AAAAAAAAO7Y/_pniGmsK8U0/s50-c-k-no/photo.jpg",
            "userId": "101703342681483250106"
          }
        }
      },
      "cell_type": "code",
      "source": [
        "vect = CountVectorizer(analyzer='char_wb', ngram_range=(1,6), lowercase = False)\n",
        "tfidf = TfidfTransformer(use_idf=True)\n",
        "clf = LogisticRegression(C=5, class_weight='balanced')\n",
        "\n",
        "count_transformer = vect.fit(X_train[\"Word\"])\n",
        "counts = count_transformer.transform(X_train[\"Word\"])\n",
        "tfidf_transformer = tfidf.fit(counts)\n",
        "data_tfidf = tfidf_transformer.transform(counts)\n",
        "clf.fit(data_tfidf, y_train)\n",
        "\n",
        "# c_2 = count_transformer.transform(X_test)\n",
        "# tfidf_2 = tfidf_transformer.transform(c_2)\n",
        "\n",
        "# y_pred = clf.predict(tfidf_2)"
      ],
      "execution_count": 51,
      "outputs": [
        {
          "output_type": "execute_result",
          "data": {
            "text/plain": [
              "LogisticRegression(C=5, class_weight='balanced', dual=False,\n",
              "          fit_intercept=True, intercept_scaling=1, max_iter=100,\n",
              "          multi_class='ovr', n_jobs=1, penalty='l2', random_state=None,\n",
              "          solver='liblinear', tol=0.0001, verbose=0, warm_start=False)"
            ]
          },
          "metadata": {
            "tags": []
          },
          "execution_count": 51
        }
      ]
    },
    {
      "metadata": {
        "id": "zLFz3H0e6Gdl",
        "colab_type": "code",
        "colab": {
          "autoexec": {
            "startup": false,
            "wait_interval": 0
          }
        }
      },
      "cell_type": "code",
      "source": [
        "def predict_tfidf(X):\n",
        "  _count = count_transformer.transform(X)\n",
        "  _tfidf = tfidf_transformer.transform(_count)\n",
        "  _pred = clf.predict_proba(_tfidf)\n",
        "  return _pred[:, 0], _pred[:,1]"
      ],
      "execution_count": 0,
      "outputs": []
    },
    {
      "metadata": {
        "id": "sPcD__tI0bh9",
        "colab_type": "code",
        "colab": {
          "autoexec": {
            "startup": false,
            "wait_interval": 0
          }
        }
      },
      "cell_type": "code",
      "source": [
        "a = predict_tfidf(X_train[\"Word\"])\n",
        "X_train[\"prob_0_tfidf\"] = a[0]\n",
        "X_train[\"prob_1_tfidf\"] = a[1]"
      ],
      "execution_count": 0,
      "outputs": []
    },
    {
      "metadata": {
        "id": "tbDeapgB7aru",
        "colab_type": "code",
        "colab": {
          "autoexec": {
            "startup": false,
            "wait_interval": 0
          },
          "output_extras": [
            {
              "item_id": 1
            }
          ],
          "base_uri": "https://localhost:8080/",
          "height": 204
        },
        "outputId": "451fad64-1d4a-4360-d674-9d1cc94a9818",
        "executionInfo": {
          "status": "ok",
          "timestamp": 1519134734090,
          "user_tz": -180,
          "elapsed": 607,
          "user": {
            "displayName": "anatoly burtsev",
            "photoUrl": "//lh6.googleusercontent.com/-Rx6k210XS7Q/AAAAAAAAAAI/AAAAAAAAO7Y/_pniGmsK8U0/s50-c-k-no/photo.jpg",
            "userId": "101703342681483250106"
          }
        }
      },
      "cell_type": "code",
      "source": [
        "X_train.head()"
      ],
      "execution_count": 54,
      "outputs": [
        {
          "output_type": "execute_result",
          "data": {
            "text/html": [
              "<div>\n",
              "<style scoped>\n",
              "    .dataframe tbody tr th:only-of-type {\n",
              "        vertical-align: middle;\n",
              "    }\n",
              "\n",
              "    .dataframe tbody tr th {\n",
              "        vertical-align: top;\n",
              "    }\n",
              "\n",
              "    .dataframe thead th {\n",
              "        text-align: right;\n",
              "    }\n",
              "</style>\n",
              "<table border=\"1\" class=\"dataframe\">\n",
              "  <thead>\n",
              "    <tr style=\"text-align: right;\">\n",
              "      <th></th>\n",
              "      <th>Word</th>\n",
              "      <th>only_ru</th>\n",
              "      <th>len</th>\n",
              "      <th>is_len_more_11</th>\n",
              "      <th>vow_count</th>\n",
              "      <th>cons_count</th>\n",
              "      <th>last_vow</th>\n",
              "      <th>prelast_vow</th>\n",
              "      <th>ohara</th>\n",
              "      <th>prob_0_tfidf</th>\n",
              "      <th>prob_1_tfidf</th>\n",
              "    </tr>\n",
              "  </thead>\n",
              "  <tbody>\n",
              "    <tr>\n",
              "      <th>134358</th>\n",
              "      <td>захватами</td>\n",
              "      <td>True</td>\n",
              "      <td>9</td>\n",
              "      <td>False</td>\n",
              "      <td>4</td>\n",
              "      <td>5</td>\n",
              "      <td>True</td>\n",
              "      <td>False</td>\n",
              "      <td>False</td>\n",
              "      <td>0.997915</td>\n",
              "      <td>0.002085</td>\n",
              "    </tr>\n",
              "    <tr>\n",
              "      <th>33583</th>\n",
              "      <td>куб.м</td>\n",
              "      <td>False</td>\n",
              "      <td>5</td>\n",
              "      <td>False</td>\n",
              "      <td>1</td>\n",
              "      <td>3</td>\n",
              "      <td>False</td>\n",
              "      <td>False</td>\n",
              "      <td>False</td>\n",
              "      <td>0.979899</td>\n",
              "      <td>0.020101</td>\n",
              "    </tr>\n",
              "    <tr>\n",
              "      <th>98864</th>\n",
              "      <td>Элиной</td>\n",
              "      <td>False</td>\n",
              "      <td>6</td>\n",
              "      <td>False</td>\n",
              "      <td>2</td>\n",
              "      <td>3</td>\n",
              "      <td>False</td>\n",
              "      <td>True</td>\n",
              "      <td>False</td>\n",
              "      <td>0.767338</td>\n",
              "      <td>0.232662</td>\n",
              "    </tr>\n",
              "    <tr>\n",
              "      <th>60141</th>\n",
              "      <td>снарядам</td>\n",
              "      <td>True</td>\n",
              "      <td>8</td>\n",
              "      <td>False</td>\n",
              "      <td>3</td>\n",
              "      <td>5</td>\n",
              "      <td>False</td>\n",
              "      <td>True</td>\n",
              "      <td>False</td>\n",
              "      <td>0.990067</td>\n",
              "      <td>0.009933</td>\n",
              "    </tr>\n",
              "    <tr>\n",
              "      <th>48717</th>\n",
              "      <td>краснобая</td>\n",
              "      <td>True</td>\n",
              "      <td>9</td>\n",
              "      <td>False</td>\n",
              "      <td>4</td>\n",
              "      <td>5</td>\n",
              "      <td>True</td>\n",
              "      <td>True</td>\n",
              "      <td>False</td>\n",
              "      <td>0.891603</td>\n",
              "      <td>0.108397</td>\n",
              "    </tr>\n",
              "  </tbody>\n",
              "</table>\n",
              "</div>"
            ],
            "text/plain": [
              "             Word  only_ru  len  is_len_more_11  vow_count  cons_count  \\\n",
              "134358  захватами     True    9           False          4           5   \n",
              "33583       куб.м    False    5           False          1           3   \n",
              "98864      Элиной    False    6           False          2           3   \n",
              "60141    снарядам     True    8           False          3           5   \n",
              "48717   краснобая     True    9           False          4           5   \n",
              "\n",
              "        last_vow  prelast_vow  ohara  prob_0_tfidf  prob_1_tfidf  \n",
              "134358      True        False  False      0.997915      0.002085  \n",
              "33583      False        False  False      0.979899      0.020101  \n",
              "98864      False         True  False      0.767338      0.232662  \n",
              "60141      False         True  False      0.990067      0.009933  \n",
              "48717       True         True  False      0.891603      0.108397  "
            ]
          },
          "metadata": {
            "tags": []
          },
          "execution_count": 54
        }
      ]
    },
    {
      "metadata": {
        "id": "UWlASL_U86q8",
        "colab_type": "code",
        "colab": {
          "autoexec": {
            "startup": false,
            "wait_interval": 0
          },
          "output_extras": [
            {
              "item_id": 1
            }
          ],
          "base_uri": "https://localhost:8080/",
          "height": 85
        },
        "outputId": "99b65b77-181a-4a75-ac3f-79baa15258b6",
        "executionInfo": {
          "status": "ok",
          "timestamp": 1519134734926,
          "user_tz": -180,
          "elapsed": 768,
          "user": {
            "displayName": "anatoly burtsev",
            "photoUrl": "//lh6.googleusercontent.com/-Rx6k210XS7Q/AAAAAAAAAAI/AAAAAAAAO7Y/_pniGmsK8U0/s50-c-k-no/photo.jpg",
            "userId": "101703342681483250106"
          }
        }
      },
      "cell_type": "code",
      "source": [
        "cl = LogisticRegression(C=5, class_weight='balanced')\n",
        "cl.fit(X_train.drop([\"Word\"], axis=1), y_train)"
      ],
      "execution_count": 55,
      "outputs": [
        {
          "output_type": "execute_result",
          "data": {
            "text/plain": [
              "LogisticRegression(C=5, class_weight='balanced', dual=False,\n",
              "          fit_intercept=True, intercept_scaling=1, max_iter=100,\n",
              "          multi_class='ovr', n_jobs=1, penalty='l2', random_state=None,\n",
              "          solver='liblinear', tol=0.0001, verbose=0, warm_start=False)"
            ]
          },
          "metadata": {
            "tags": []
          },
          "execution_count": 55
        }
      ]
    },
    {
      "metadata": {
        "id": "NgdH5EqXCXLf",
        "colab_type": "code",
        "colab": {
          "autoexec": {
            "startup": false,
            "wait_interval": 0
          }
        }
      },
      "cell_type": "code",
      "source": [
        "a = predict_tfidf(X_test[\"Word\"])\n",
        "X_test[\"prob_0_tfidf\"] = a[0]\n",
        "X_test[\"prob_1_tfidf\"] = a[1]\n",
        "pred = cl.predict(X_test.drop([\"Word\"], axis=1))"
      ],
      "execution_count": 0,
      "outputs": []
    },
    {
      "metadata": {
        "id": "k_bero_rCtng",
        "colab_type": "code",
        "colab": {
          "autoexec": {
            "startup": false,
            "wait_interval": 0
          },
          "output_extras": [
            {
              "item_id": 1
            }
          ],
          "base_uri": "https://localhost:8080/",
          "height": 34
        },
        "outputId": "c9f174c9-e47e-4b8e-bf8c-1720b5f7869d",
        "executionInfo": {
          "status": "ok",
          "timestamp": 1519134738303,
          "user_tz": -180,
          "elapsed": 431,
          "user": {
            "displayName": "anatoly burtsev",
            "photoUrl": "//lh6.googleusercontent.com/-Rx6k210XS7Q/AAAAAAAAAAI/AAAAAAAAO7Y/_pniGmsK8U0/s50-c-k-no/photo.jpg",
            "userId": "101703342681483250106"
          }
        }
      },
      "cell_type": "code",
      "source": [
        "roc_auc_score(pred, y_test)"
      ],
      "execution_count": 57,
      "outputs": [
        {
          "output_type": "execute_result",
          "data": {
            "text/plain": [
              "0.9185150773400854"
            ]
          },
          "metadata": {
            "tags": []
          },
          "execution_count": 57
        }
      ]
    },
    {
      "metadata": {
        "id": "ZUoH78LbC2zz",
        "colab_type": "code",
        "colab": {
          "autoexec": {
            "startup": false,
            "wait_interval": 0
          }
        }
      },
      "cell_type": "code",
      "source": [
        "# make prediction and save it to google drive\n",
        "test = pd.read_csv('test.csv')"
      ],
      "execution_count": 0,
      "outputs": []
    },
    {
      "metadata": {
        "id": "PBaKNBEfGHhe",
        "colab_type": "code",
        "colab": {
          "autoexec": {
            "startup": false,
            "wait_interval": 0
          }
        }
      },
      "cell_type": "code",
      "source": [
        "test = add_onotoles_old_features(test)\n",
        "a = predict_tfidf(test[\"Word\"])\n",
        "test[\"prob_0_tfidf\"] = a[0]\n",
        "test[\"prob_1_tfidf\"] = a[1]"
      ],
      "execution_count": 0,
      "outputs": []
    },
    {
      "metadata": {
        "id": "M3hzvvHhGT5z",
        "colab_type": "code",
        "colab": {
          "autoexec": {
            "startup": false,
            "wait_interval": 0
          },
          "output_extras": [
            {
              "item_id": 1
            }
          ],
          "base_uri": "https://localhost:8080/",
          "height": 204
        },
        "outputId": "069aa884-2402-40d1-ce0e-406b3f64cae6",
        "executionInfo": {
          "status": "ok",
          "timestamp": 1519078251794,
          "user_tz": -180,
          "elapsed": 480,
          "user": {
            "displayName": "anatoly burtsev",
            "photoUrl": "//lh6.googleusercontent.com/-Rx6k210XS7Q/AAAAAAAAAAI/AAAAAAAAO7Y/_pniGmsK8U0/s50-c-k-no/photo.jpg",
            "userId": "101703342681483250106"
          }
        }
      },
      "cell_type": "code",
      "source": [
        "test.head()"
      ],
      "execution_count": 111,
      "outputs": [
        {
          "output_type": "execute_result",
          "data": {
            "text/html": [
              "<div>\n",
              "<style scoped>\n",
              "    .dataframe tbody tr th:only-of-type {\n",
              "        vertical-align: middle;\n",
              "    }\n",
              "\n",
              "    .dataframe tbody tr th {\n",
              "        vertical-align: top;\n",
              "    }\n",
              "\n",
              "    .dataframe thead th {\n",
              "        text-align: right;\n",
              "    }\n",
              "</style>\n",
              "<table border=\"1\" class=\"dataframe\">\n",
              "  <thead>\n",
              "    <tr style=\"text-align: right;\">\n",
              "      <th></th>\n",
              "      <th>Word</th>\n",
              "      <th>only_ru</th>\n",
              "      <th>len</th>\n",
              "      <th>is_len_more_11</th>\n",
              "      <th>vow_count</th>\n",
              "      <th>cons_count</th>\n",
              "      <th>last_vow</th>\n",
              "      <th>prelast_vow</th>\n",
              "      <th>ohara</th>\n",
              "      <th>prob_0_tfidf</th>\n",
              "      <th>prob_1_tfidf</th>\n",
              "    </tr>\n",
              "  </thead>\n",
              "  <tbody>\n",
              "    <tr>\n",
              "      <th>0</th>\n",
              "      <td>Аалто</td>\n",
              "      <td>False</td>\n",
              "      <td>5</td>\n",
              "      <td>False</td>\n",
              "      <td>2</td>\n",
              "      <td>2</td>\n",
              "      <td>True</td>\n",
              "      <td>False</td>\n",
              "      <td>False</td>\n",
              "      <td>0.229065</td>\n",
              "      <td>0.770935</td>\n",
              "    </tr>\n",
              "    <tr>\n",
              "      <th>1</th>\n",
              "      <td>ААР</td>\n",
              "      <td>False</td>\n",
              "      <td>3</td>\n",
              "      <td>False</td>\n",
              "      <td>0</td>\n",
              "      <td>0</td>\n",
              "      <td>False</td>\n",
              "      <td>False</td>\n",
              "      <td>False</td>\n",
              "      <td>0.326859</td>\n",
              "      <td>0.673141</td>\n",
              "    </tr>\n",
              "    <tr>\n",
              "      <th>2</th>\n",
              "      <td>Аара</td>\n",
              "      <td>False</td>\n",
              "      <td>4</td>\n",
              "      <td>False</td>\n",
              "      <td>2</td>\n",
              "      <td>1</td>\n",
              "      <td>True</td>\n",
              "      <td>False</td>\n",
              "      <td>False</td>\n",
              "      <td>0.123993</td>\n",
              "      <td>0.876007</td>\n",
              "    </tr>\n",
              "    <tr>\n",
              "      <th>3</th>\n",
              "      <td>Ааре</td>\n",
              "      <td>False</td>\n",
              "      <td>4</td>\n",
              "      <td>False</td>\n",
              "      <td>2</td>\n",
              "      <td>1</td>\n",
              "      <td>True</td>\n",
              "      <td>False</td>\n",
              "      <td>False</td>\n",
              "      <td>0.502951</td>\n",
              "      <td>0.497049</td>\n",
              "    </tr>\n",
              "    <tr>\n",
              "      <th>4</th>\n",
              "      <td>Аарон</td>\n",
              "      <td>False</td>\n",
              "      <td>5</td>\n",
              "      <td>False</td>\n",
              "      <td>2</td>\n",
              "      <td>2</td>\n",
              "      <td>False</td>\n",
              "      <td>True</td>\n",
              "      <td>False</td>\n",
              "      <td>0.641591</td>\n",
              "      <td>0.358409</td>\n",
              "    </tr>\n",
              "  </tbody>\n",
              "</table>\n",
              "</div>"
            ],
            "text/plain": [
              "    Word  only_ru  len  is_len_more_11  vow_count  cons_count  last_vow  \\\n",
              "0  Аалто    False    5           False          2           2      True   \n",
              "1    ААР    False    3           False          0           0     False   \n",
              "2   Аара    False    4           False          2           1      True   \n",
              "3   Ааре    False    4           False          2           1      True   \n",
              "4  Аарон    False    5           False          2           2     False   \n",
              "\n",
              "   prelast_vow  ohara  prob_0_tfidf  prob_1_tfidf  \n",
              "0        False  False      0.229065      0.770935  \n",
              "1        False  False      0.326859      0.673141  \n",
              "2        False  False      0.123993      0.876007  \n",
              "3        False  False      0.502951      0.497049  \n",
              "4         True  False      0.641591      0.358409  "
            ]
          },
          "metadata": {
            "tags": []
          },
          "execution_count": 111
        }
      ]
    },
    {
      "metadata": {
        "id": "asSzbS7wGMcW",
        "colab_type": "code",
        "colab": {
          "autoexec": {
            "startup": false,
            "wait_interval": 0
          },
          "output_extras": [
            {
              "item_id": 1
            }
          ],
          "base_uri": "https://localhost:8080/",
          "height": 68
        },
        "outputId": "3097fc2a-5e2b-4869-bec4-ba0bc3e5818b",
        "executionInfo": {
          "status": "ok",
          "timestamp": 1519134760085,
          "user_tz": -180,
          "elapsed": 3097,
          "user": {
            "displayName": "anatoly burtsev",
            "photoUrl": "//lh6.googleusercontent.com/-Rx6k210XS7Q/AAAAAAAAAAI/AAAAAAAAO7Y/_pniGmsK8U0/s50-c-k-no/photo.jpg",
            "userId": "101703342681483250106"
          }
        }
      },
      "cell_type": "code",
      "source": [
        "pred = cl.predict(test.drop([\"Word\"], axis=1))\n",
        "print(pd.Series(pred).value_counts())\n",
        "pd.Series(pred).to_csv(\"submission.csv\", index_label=[\"Id\",\"Prediction\"], header=True)\n",
        "! cp submission.csv drive/"
      ],
      "execution_count": 60,
      "outputs": [
        {
          "output_type": "stream",
          "text": [
            "0    159438\n",
            "1     29482\n",
            "dtype: int64\n"
          ],
          "name": "stdout"
        }
      ]
    },
    {
      "metadata": {
        "id": "t9mUt8HOF8AI",
        "colab_type": "code",
        "colab": {
          "autoexec": {
            "startup": false,
            "wait_interval": 0
          },
          "output_extras": [
            {
              "item_id": 1
            }
          ],
          "base_uri": "https://localhost:8080/",
          "height": 35
        },
        "outputId": "a0615630-8ded-46a7-beb2-397a06e97e76",
        "executionInfo": {
          "status": "ok",
          "timestamp": 1519078257086,
          "user_tz": -180,
          "elapsed": 1630,
          "user": {
            "displayName": "anatoly burtsev",
            "photoUrl": "//lh6.googleusercontent.com/-Rx6k210XS7Q/AAAAAAAAAAI/AAAAAAAAO7Y/_pniGmsK8U0/s50-c-k-no/photo.jpg",
            "userId": "101703342681483250106"
          }
        }
      },
      "cell_type": "code",
      "source": [
        "! wc -l submission.csv"
      ],
      "execution_count": 113,
      "outputs": [
        {
          "output_type": "stream",
          "text": [
            "188921 submission.csv\r\n"
          ],
          "name": "stdout"
        }
      ]
    },
    {
      "metadata": {
        "id": "77IFqQSqG3at",
        "colab_type": "code",
        "colab": {
          "autoexec": {
            "startup": false,
            "wait_interval": 0
          }
        }
      },
      "cell_type": "code",
      "source": [
        ""
      ],
      "execution_count": 0,
      "outputs": []
    },
    {
      "metadata": {
        "id": "bh5sgYDIQkKd",
        "colab_type": "code",
        "colab": {
          "autoexec": {
            "startup": false,
            "wait_interval": 0
          }
        }
      },
      "cell_type": "code",
      "source": [
        ""
      ],
      "execution_count": 0,
      "outputs": []
    },
    {
      "metadata": {
        "id": "yb2ni-ztRBf-",
        "colab_type": "code",
        "colab": {
          "autoexec": {
            "startup": false,
            "wait_interval": 0
          }
        }
      },
      "cell_type": "code",
      "source": [
        "dic??"
      ],
      "execution_count": 0,
      "outputs": []
    },
    {
      "metadata": {
        "id": "vLrFEkJgQn48",
        "colab_type": "code",
        "colab": {
          "autoexec": {
            "startup": false,
            "wait_interval": 0
          }
        }
      },
      "cell_type": "code",
      "source": [
        "# dic = pyphen.Pyphen(lang='ru')\n",
        "\n",
        "# def get_end(word):\n",
        "#   variants = [x for x in dic.iterate(word)]\n",
        "#   if len(variants) == 0 or len(variants[0]) == 0:\n",
        "#     return \"\"\n",
        "#   return variants[0][-1].lower()\n",
        "  \n",
        "\n",
        "# def get_endings(words):\n",
        "  \n",
        "#   return words.apply(lambda y: get_end(y))"
      ],
      "execution_count": 0,
      "outputs": []
    },
    {
      "metadata": {
        "id": "LwKBQp5pQ2YW",
        "colab_type": "code",
        "colab": {
          "autoexec": {
            "startup": false,
            "wait_interval": 0
          }
        }
      },
      "cell_type": "code",
      "source": [
        "# X_end_train = pd.get_dummies(get_endings(X_train[\"Word\"]))\n",
        "# X_end_test = pd.get_dummies(get_endings(X_test[\"Word\"]))\n",
        "# X = data.drop([\"Label\"], axis=1)\n",
        "# y = data[\"Label\"]\n",
        "# X_end = pd.concat([X, pd.get_dummies(get_endings(X[\"Word\"]))])\n",
        "# c = LogisticRegression()\n",
        "# c.fit(X_end_train, y_train)\n",
        "# pred = c.predict(X_end_test)\n",
        "# roc_auc_score(pred, y_test)"
      ],
      "execution_count": 0,
      "outputs": []
    },
    {
      "metadata": {
        "id": "67U7uaHWZpmi",
        "colab_type": "code",
        "colab": {
          "autoexec": {
            "startup": false,
            "wait_interval": 0
          }
        }
      },
      "cell_type": "code",
      "source": [
        "# X_train, X_test, y_train, y_test = train_test_split(X, y, test_size=0.3, random_state=9)\n"
      ],
      "execution_count": 0,
      "outputs": []
    },
    {
      "metadata": {
        "id": "hOZR0nOrWJtI",
        "colab_type": "code",
        "colab": {
          "autoexec": {
            "startup": false,
            "wait_interval": 0
          },
          "output_extras": [
            {
              "item_id": 1
            }
          ],
          "base_uri": "https://localhost:8080/",
          "height": 163
        },
        "outputId": "a2aa9f45-b433-4692-a202-f869e146d31c",
        "executionInfo": {
          "status": "error",
          "timestamp": 1519116492945,
          "user_tz": -180,
          "elapsed": 754,
          "user": {
            "displayName": "anatoly burtsev",
            "photoUrl": "//lh6.googleusercontent.com/-Rx6k210XS7Q/AAAAAAAAAAI/AAAAAAAAO7Y/_pniGmsK8U0/s50-c-k-no/photo.jpg",
            "userId": "101703342681483250106"
          }
        }
      },
      "cell_type": "code",
      "source": [
        ""
      ],
      "execution_count": 4,
      "outputs": [
        {
          "output_type": "error",
          "ename": "NameError",
          "evalue": "ignored",
          "traceback": [
            "\u001b[0;31m---------------------------------------------------------------------------\u001b[0m",
            "\u001b[0;31mNameError\u001b[0m                                 Traceback (most recent call last)",
            "\u001b[0;32m<ipython-input-4-bb3592c30e50>\u001b[0m in \u001b[0;36m<module>\u001b[0;34m()\u001b[0m\n\u001b[0;32m----> 1\u001b[0;31m \u001b[0mX_end\u001b[0m\u001b[0;34m.\u001b[0m\u001b[0mhead\u001b[0m\u001b[0;34m(\u001b[0m\u001b[0;34m)\u001b[0m\u001b[0;34m\u001b[0m\u001b[0m\n\u001b[0m",
            "\u001b[0;31mNameError\u001b[0m: name 'X_end' is not defined"
          ]
        }
      ]
    },
    {
      "metadata": {
        "id": "LcxlG_htYN6A",
        "colab_type": "code",
        "colab": {
          "autoexec": {
            "startup": false,
            "wait_interval": 0
          }
        }
      },
      "cell_type": "code",
      "source": [
        ""
      ],
      "execution_count": 0,
      "outputs": []
    }
  ]
}