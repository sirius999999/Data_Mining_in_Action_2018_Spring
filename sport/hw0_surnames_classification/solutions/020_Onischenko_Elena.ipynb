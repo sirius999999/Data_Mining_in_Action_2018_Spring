{
 "cells": [
  {
   "cell_type": "markdown",
   "metadata": {},
   "source": [
    "**SURNAMES https://www.kaggle.com/c/dmia-surnames-classification by maatkara (Елена Онищенко)                           \n",
    "Ансамбль линейных моделей, LB pr/pub: 0.92670 / 0.92455**"
   ]
  },
  {
   "cell_type": "markdown",
   "metadata": {
    "toc": "true"
   },
   "source": [
    "<h1>Table of Contents<span class=\"tocSkip\"></span></h1>\n",
    "<div class=\"toc\"><ul class=\"toc-item\"><li><span><a href=\"#Начало\" data-toc-modified-id=\"Начало-1\"><span class=\"toc-item-num\">1&nbsp;&nbsp;</span>Начало</a></span></li><li><span><a href=\"#Загрузка-данных\" data-toc-modified-id=\"Загрузка-данных-2\"><span class=\"toc-item-num\">2&nbsp;&nbsp;</span>Загрузка данных</a></span><ul class=\"toc-item\"><li><span><a href=\"#Дубликаты\" data-toc-modified-id=\"Дубликаты-2.1\"><span class=\"toc-item-num\">2.1&nbsp;&nbsp;</span>Дубликаты</a></span></li><li><span><a href=\"#Количество-слов\" data-toc-modified-id=\"Количество-слов-2.2\"><span class=\"toc-item-num\">2.2&nbsp;&nbsp;</span>Количество слов</a></span></li></ul></li><li><span><a href=\"#Добавим-признаки\" data-toc-modified-id=\"Добавим-признаки-3\"><span class=\"toc-item-num\">3&nbsp;&nbsp;</span>Добавим признаки</a></span><ul class=\"toc-item\"><li><span><a href=\"#Первая-буква-большая-&amp;Co\" data-toc-modified-id=\"Первая-буква-большая-&amp;Co-3.1\"><span class=\"toc-item-num\">3.1&nbsp;&nbsp;</span>Первая буква большая &amp;Co</a></span></li><li><span><a href=\"#Количество-букв\" data-toc-modified-id=\"Количество-букв-3.2\"><span class=\"toc-item-num\">3.2&nbsp;&nbsp;</span>Количество букв</a></span><ul class=\"toc-item\"><li><span><a href=\"#Количество-букв---в-порядковые\" data-toc-modified-id=\"Количество-букв---в-порядковые-3.2.1\"><span class=\"toc-item-num\">3.2.1&nbsp;&nbsp;</span>Количество букв - в порядковые</a></span></li><li><span><a href=\"#Обрезаем-хвосты-&gt;-3-std-РАЗДЕЛЬНО-ПО-КЛАССАМ\" data-toc-modified-id=\"Обрезаем-хвосты->-3-std-РАЗДЕЛЬНО-ПО-КЛАССАМ-3.2.2\"><span class=\"toc-item-num\">3.2.2&nbsp;&nbsp;</span>Обрезаем хвосты &gt; 3 std РАЗДЕЛЬНО ПО КЛАССАМ</a></span></li></ul></li><li><span><a href=\"#group_len_w--+--is_only_fst_upper\" data-toc-modified-id=\"group_len_w--+--is_only_fst_upper-3.3\"><span class=\"toc-item-num\">3.3&nbsp;&nbsp;</span>group_len_w  +  is_only_fst_upper</a></span></li><li><span><a href=\"#Дубликаты-с-разным-таргет\" data-toc-modified-id=\"Дубликаты-с-разным-таргет-3.4\"><span class=\"toc-item-num\">3.4&nbsp;&nbsp;</span>Дубликаты с разным таргет</a></span></li><li><span><a href=\"#Количество-гласных-и-согласных\" data-toc-modified-id=\"Количество-гласных-и-согласных-3.5\"><span class=\"toc-item-num\">3.5&nbsp;&nbsp;</span>Количество гласных и согласных</a></span><ul class=\"toc-item\"><li><span><a href=\"#ОБрезаем-хвосты\" data-toc-modified-id=\"ОБрезаем-хвосты-3.5.1\"><span class=\"toc-item-num\">3.5.1&nbsp;&nbsp;</span>ОБрезаем хвосты</a></span></li></ul></li><li><span><a href=\"#Является-ли-слово-Ф/И/ИФО\" data-toc-modified-id=\"Является-ли-слово-Ф/И/ИФО-3.6\"><span class=\"toc-item-num\">3.6&nbsp;&nbsp;</span>Является ли слово Ф/И/ИФО</a></span><ul class=\"toc-item\"><li><span><a href=\"#Является-ли-слово-именем\" data-toc-modified-id=\"Является-ли-слово-именем-3.6.1\"><span class=\"toc-item-num\">3.6.1&nbsp;&nbsp;</span>Является ли слово именем</a></span><ul class=\"toc-item\"><li><span><a href=\"#pymorphy2\" data-toc-modified-id=\"pymorphy2-3.6.1.1\"><span class=\"toc-item-num\">3.6.1.1&nbsp;&nbsp;</span>pymorphy2</a></span></li><li><span><a href=\"#pymystem3\" data-toc-modified-id=\"pymystem3-3.6.1.2\"><span class=\"toc-item-num\">3.6.1.2&nbsp;&nbsp;</span>pymystem3</a></span></li></ul></li><li><span><a href=\"#Является-ли-слово-фамилией\" data-toc-modified-id=\"Является-ли-слово-фамилией-3.6.2\"><span class=\"toc-item-num\">3.6.2&nbsp;&nbsp;</span>Является ли слово фамилией</a></span><ul class=\"toc-item\"><li><span><a href=\"#pymorphy2\" data-toc-modified-id=\"pymorphy2-3.6.2.1\"><span class=\"toc-item-num\">3.6.2.1&nbsp;&nbsp;</span>pymorphy2</a></span></li><li><span><a href=\"#pymystem3\" data-toc-modified-id=\"pymystem3-3.6.2.2\"><span class=\"toc-item-num\">3.6.2.2&nbsp;&nbsp;</span>pymystem3</a></span></li></ul></li><li><span><a href=\"#Является-ли-слово-Ф/И/О-natasha\" data-toc-modified-id=\"Является-ли-слово-Ф/И/О-natasha-3.6.3\"><span class=\"toc-item-num\">3.6.3&nbsp;&nbsp;</span>Является ли слово Ф/И/О natasha</a></span></li></ul></li><li><span><a href=\"#Окончания\" data-toc-modified-id=\"Окончания-3.7\"><span class=\"toc-item-num\">3.7&nbsp;&nbsp;</span>Окончания</a></span></li><li><span><a href=\"#Кодирование-средним-target\" data-toc-modified-id=\"Кодирование-средним-target-3.8\"><span class=\"toc-item-num\">3.8&nbsp;&nbsp;</span>Кодирование средним target</a></span></li><li><span><a href=\"#Записываем-на-диск\" data-toc-modified-id=\"Записываем-на-диск-3.9\"><span class=\"toc-item-num\">3.9&nbsp;&nbsp;</span>Записываем на диск</a></span></li><li><span><a href=\"#=&gt;Загрузка-с-диска\" data-toc-modified-id=\"=>Загрузка-с-диска-3.10\"><span class=\"toc-item-num\">3.10&nbsp;&nbsp;</span><span class=\"girk\">=&gt;</span>Загрузка с диска</a></span></li></ul></li><li><span><a href=\"#Модели\" data-toc-modified-id=\"Модели-4\"><span class=\"toc-item-num\">4&nbsp;&nbsp;</span>Модели</a></span><ul class=\"toc-item\"><li><span><a href=\"#Валидация\" data-toc-modified-id=\"Валидация-4.1\"><span class=\"toc-item-num\">4.1&nbsp;&nbsp;</span>Валидация</a></span><ul class=\"toc-item\"><li><span><a href=\"#SGD-LOGIT-&amp;-ENSAMBL\" data-toc-modified-id=\"SGD-LOGIT-&amp;-ENSAMBL-4.1.1\"><span class=\"toc-item-num\">4.1.1&nbsp;&nbsp;</span>SGD LOGIT &amp; ENSAMBL</a></span></li></ul></li><li><span><a href=\"#Baseline-0-prediction-=-df_test.is_fst_upper\" data-toc-modified-id=\"Baseline-0-prediction-=-df_test.is_fst_upper-4.2\"><span class=\"toc-item-num\">4.2&nbsp;&nbsp;</span>Baseline 0 prediction = df_test.is_fst_upper</a></span></li></ul></li><li><span><a href=\"#Submition\" data-toc-modified-id=\"Submition-5\"><span class=\"toc-item-num\">5&nbsp;&nbsp;</span>Submition</a></span></li></ul></div>"
   ]
  },
  {
   "cell_type": "markdown",
   "metadata": {},
   "source": [
    "# Начало"
   ]
  },
  {
   "cell_type": "code",
   "execution_count": 70,
   "metadata": {},
   "outputs": [
    {
     "name": "stdout",
     "output_type": "stream",
     "text": [
      "Populating the interactive namespace from numpy and matplotlib\n"
     ]
    }
   ],
   "source": [
    "import pandas as pd\n",
    "import numpy as np\n",
    "\n",
    "from sklearn.model_selection import cross_val_predict\n",
    "from sklearn.preprocessing import StandardScaler \n",
    "\n",
    "from sklearn.metrics import roc_auc_score, accuracy_score\n",
    "from sklearn.model_selection import StratifiedKFold\n",
    "from sklearn.feature_extraction.text import TfidfVectorizer\n",
    "from sklearn.feature_extraction import DictVectorizer\n",
    "from sklearn.model_selection import cross_val_predict\n",
    "from sklearn.linear_model import SGDClassifier as SGDC\n",
    "from sklearn.linear_model import LogisticRegression, LogisticRegressionCV\n",
    "from sklearn.model_selection import validation_curve\n",
    "\n",
    "%matplotlib inline\n",
    "import seaborn as sns\n",
    "import matplotlib.pyplot as plt\n",
    "import pickle\n",
    "\n",
    "%pylab inline\n",
    "figsize(12, 10)\n",
    "\n",
    "import warnings\n",
    "warnings.simplefilter('ignore')"
   ]
  },
  {
   "cell_type": "code",
   "execution_count": 2,
   "metadata": {
    "collapsed": true
   },
   "outputs": [],
   "source": [
    "import nltk\n",
    "import pymorphy2\n",
    "import scipy\n",
    "from scipy.sparse import csr_matrix\n"
   ]
  },
  {
   "cell_type": "code",
   "execution_count": 3,
   "metadata": {
    "collapsed": true
   },
   "outputs": [],
   "source": [
    "import pymystem3\n",
    "from natasha import NamesExtractor"
   ]
  },
  {
   "cell_type": "code",
   "execution_count": 5,
   "metadata": {},
   "outputs": [],
   "source": [
    "sns.set(style='darkgrid', palette=\"PRGn\")"
   ]
  },
  {
   "cell_type": "code",
   "execution_count": 7,
   "metadata": {
    "collapsed": true
   },
   "outputs": [],
   "source": [
    "PTD = '../../data/surnames/'\n",
    "PTIN = PTD + 'raw/'\n",
    "PTR = PTD + 'result/'\n",
    "PTTMP = PTD + '_tmp/'\n",
    "PTSUB = PTD + 'sub/'"
   ]
  },
  {
   "cell_type": "code",
   "execution_count": 8,
   "metadata": {
    "collapsed": true
   },
   "outputs": [],
   "source": [
    "import datetime as dt\n",
    "import pickle\n",
    "\n",
    "\n",
    "def load_files(pref, suf_out, ext='csv', header='infer', path=PTTMP, verbose_l=True):\n",
    "    \n",
    "    suf = ('' if suf_out==None else \"\".join((str(suf_out))))\n",
    "    ext = '.' + ext\n",
    "    name_file =  \"_\".join((path, pref, suf,  ext))\n",
    "    if verbose_l:  print('in', name_file)    \n",
    "    \n",
    "    #    X=pd.DataFrame()\n",
    "    try:\n",
    "        if ext=='.npz':\n",
    "            X = scipy.sparse.load_npz(name_file)\n",
    "        elif ext=='.pcl':\n",
    "            X = pd.read_pickle(name_file)\n",
    "        elif ext=='.csv':\n",
    "            X = pd.read_csv(name_file, index_col=0, header=header)\n",
    "        else:\n",
    "            print('Error! Расширение файла',ext,'мне не понравилось!')\n",
    "    except Exception as e:\n",
    "        print('Error!' , str(e))\n",
    "    return X\n",
    "\n",
    "\n",
    "def save_df_to_file(df, pref, ext='csv', suf_out=None, path=PTTMP, verbose=True):\n",
    "    \"\"\"  Сохранение на диск имя = _pref_suf_.ext\n",
    "    файла с расширением ext = ['npz','pcl','csv']\n",
    "    путь = path\n",
    "    \n",
    "    \"\"\"\n",
    "    \n",
    "    suf = ('' if suf_out is None else \"\".join((str(suf_out))))\n",
    "    ext = '.' + ext\n",
    "    \n",
    "    name_file_out =  \"_\".join((path, pref, suf,  ext))\n",
    "    \n",
    "    try:\n",
    "        if ext=='.npz':\n",
    "            scipy.sparse.save_npz(name_file_out, df)\n",
    "        elif ext=='.pcl':\n",
    "            df.to_pickle(name_file_out)\n",
    "        elif ext=='.csv':\n",
    "            df.to_csv(name_file_out)\n",
    "        else:\n",
    "            print('Error! Расширение файла',ext,'мне не понравилось!')\n",
    "        if verbose: print('Записали на диск файл', name_file_out)\n",
    "    except Exception as e2:\n",
    "        print('Error!', str(e))\n",
    "        "
   ]
  },
  {
   "cell_type": "code",
   "execution_count": 19,
   "metadata": {
    "collapsed": true
   },
   "outputs": [],
   "source": [
    "def mean_target_enc(train_df, valid_df, y_train, cat_feats, n_splits=3, random_state=0, shuffle=True, alpha=10): #, skf=skf):\n",
    "    \n",
    "    feats_new = []\n",
    "    skf = StratifiedKFold(n_splits=n_splits, shuffle=shuffle, random_state=random_state)\n",
    "    glob_mean = y_train.mean()\n",
    "    train_df = pd.concat([train_df, pd.Series(y_train, name='y')], axis=1)\n",
    "    new_train_df = train_df.copy()\n",
    "    new_valid_df = valid_df.copy()\n",
    "    \n",
    "    for col in cat_feats:\n",
    "        new_train_df[col + '_mean_target'] = [glob_mean for _ in range(new_train_df.shape[0])]\n",
    "\n",
    "    for train_idx, valid_idx in skf.split(train_df, y_train):\n",
    "        train_df_cv, valid_df_cv = train_df.iloc[train_idx, :], train_df.iloc[valid_idx, :]\n",
    "        \n",
    "        \n",
    "        for col in cat_feats:\n",
    "            feat_new = col + '_mean_target'\n",
    "            \n",
    "            k = train_df_cv.groupby(col).size()\n",
    "            \n",
    "            means = (train_df_cv.groupby(col)['y'].mean() * k + glob_mean * alpha) / (k + alpha)\n",
    "            means_reg = valid_df_cv[col].map(means) # (means * k + glob_mean * alpha) / (k + alpha)\n",
    "            valid_df_cv[feat_new] = means_reg.fillna(glob_mean)\n",
    "            #print(k)\n",
    "        \n",
    "        new_train_df.iloc[valid_idx] = valid_df_cv\n",
    "    \n",
    "    new_train_df.drop(cat_feats + ['y'], axis=1, inplace=True)\n",
    "    \n",
    "    for col in cat_feats:\n",
    "        feat_new = col + '_mean_target'\n",
    "        feats_new.append(feat_new)\n",
    "        \n",
    "        k = train_df.groupby(col).size() # кол-во значений\n",
    "        \n",
    "        means = (train_df.groupby(col)['y'].mean() * k + glob_mean * alpha) / (k + alpha)\n",
    "        means_reg = valid_df[col].map(means) # (means * k + glob_mean * alpha) / (k + alpha)\n",
    "        new_valid_df[feat_new] = means_reg.fillna(glob_mean)\n",
    "        #print(k)\n",
    "        \n",
    "    new_valid_df.drop(cat_feats, axis=1, inplace=True)\n",
    "    \n",
    "    return new_train_df, new_valid_df, feats_new"
   ]
  },
  {
   "cell_type": "code",
   "execution_count": 9,
   "metadata": {
    "collapsed": true
   },
   "outputs": [],
   "source": [
    "RS = 1 # Random State"
   ]
  },
  {
   "cell_type": "markdown",
   "metadata": {},
   "source": [
    "# Загрузка данных"
   ]
  },
  {
   "cell_type": "code",
   "execution_count": 9,
   "metadata": {},
   "outputs": [],
   "source": [
    "df_train = pd.read_csv(PTIN + 'train.csv', sep=',')  \n",
    "df_test = pd.read_csv(PTIN + 'test.csv', sep=',')"
   ]
  },
  {
   "cell_type": "markdown",
   "metadata": {},
   "source": [
    "## Дубликаты"
   ]
  },
  {
   "cell_type": "code",
   "execution_count": 16,
   "metadata": {},
   "outputs": [
    {
     "data": {
      "text/plain": [
       "1    183778\n",
       "2      2571\n",
       "Name: Word, dtype: int64"
      ]
     },
     "execution_count": 16,
     "metadata": {},
     "output_type": "execute_result"
    }
   ],
   "source": [
    "df_test['Word'].value_counts().value_counts()"
   ]
  },
  {
   "cell_type": "code",
   "execution_count": 17,
   "metadata": {},
   "outputs": [
    {
     "data": {
      "text/plain": [
       "(725, 2571)"
      ]
     },
     "execution_count": 17,
     "metadata": {},
     "output_type": "execute_result"
    }
   ],
   "source": [
    "df_train['Word'].duplicated().sum(), df_test['Word'].duplicated().sum()"
   ]
  },
  {
   "cell_type": "code",
   "execution_count": 18,
   "metadata": {},
   "outputs": [],
   "source": [
    "# Словарь дубликатов\n",
    "\n",
    "l_w_train_dubl = df_train.loc[(df_train['Word'].duplicated(keep=\"last\")), 'Word'].tolist()\n",
    "dict_train_dubl = df_train.loc[df_train['Word'].drop_duplicates(keep='first').index,['Word', 'Label']].set_index('Word').to_dict()['Label']"
   ]
  },
  {
   "cell_type": "code",
   "execution_count": 19,
   "metadata": {},
   "outputs": [
    {
     "data": {
      "text/html": [
       "<div>\n",
       "<style scoped>\n",
       "    .dataframe tbody tr th:only-of-type {\n",
       "        vertical-align: middle;\n",
       "    }\n",
       "\n",
       "    .dataframe tbody tr th {\n",
       "        vertical-align: top;\n",
       "    }\n",
       "\n",
       "    .dataframe thead th {\n",
       "        text-align: right;\n",
       "    }\n",
       "</style>\n",
       "<table border=\"1\" class=\"dataframe\">\n",
       "  <thead>\n",
       "    <tr style=\"text-align: right;\">\n",
       "      <th></th>\n",
       "      <th>Word</th>\n",
       "    </tr>\n",
       "  </thead>\n",
       "  <tbody>\n",
       "  </tbody>\n",
       "</table>\n",
       "</div>"
      ],
      "text/plain": [
       "Empty DataFrame\n",
       "Columns: [Word]\n",
       "Index: []"
      ]
     },
     "execution_count": 19,
     "metadata": {},
     "output_type": "execute_result"
    }
   ],
   "source": [
    "df_test.loc[df_test['Word'].isin(l_w_train_dubl), :]"
   ]
  },
  {
   "cell_type": "markdown",
   "metadata": {},
   "source": [
    "## Количество слов"
   ]
  },
  {
   "cell_type": "code",
   "execution_count": 21,
   "metadata": {},
   "outputs": [
    {
     "data": {
      "text/plain": [
       "1    101408\n",
       "Name: Word, dtype: int64"
      ]
     },
     "execution_count": 21,
     "metadata": {},
     "output_type": "execute_result"
    }
   ],
   "source": [
    "df_train.Word.str.split().str.len().value_counts()"
   ]
  },
  {
   "cell_type": "code",
   "execution_count": 22,
   "metadata": {},
   "outputs": [
    {
     "data": {
      "text/plain": [
       "1    188745\n",
       "2       146\n",
       "3        26\n",
       "4         3\n",
       "Name: Word, dtype: int64"
      ]
     },
     "execution_count": 22,
     "metadata": {},
     "output_type": "execute_result"
    }
   ],
   "source": [
    "df_test.Word.str.split().str.len().value_counts()"
   ]
  },
  {
   "cell_type": "code",
   "execution_count": 23,
   "metadata": {},
   "outputs": [
    {
     "data": {
      "text/html": [
       "<div>\n",
       "<style scoped>\n",
       "    .dataframe tbody tr th:only-of-type {\n",
       "        vertical-align: middle;\n",
       "    }\n",
       "\n",
       "    .dataframe tbody tr th {\n",
       "        vertical-align: top;\n",
       "    }\n",
       "\n",
       "    .dataframe thead th {\n",
       "        text-align: right;\n",
       "    }\n",
       "</style>\n",
       "<table border=\"1\" class=\"dataframe\">\n",
       "  <thead>\n",
       "    <tr style=\"text-align: right;\">\n",
       "      <th></th>\n",
       "      <th>Word</th>\n",
       "    </tr>\n",
       "  </thead>\n",
       "  <tbody>\n",
       "    <tr>\n",
       "      <th>18112</th>\n",
       "      <td>Бэнк оф Нью-Йорк Меллон</td>\n",
       "    </tr>\n",
       "    <tr>\n",
       "      <th>27843</th>\n",
       "      <td>Газ Де Франс</td>\n",
       "    </tr>\n",
       "    <tr>\n",
       "      <th>31424</th>\n",
       "      <td>ГМК “Норильский никель</td>\n",
       "    </tr>\n",
       "    <tr>\n",
       "      <th>36400</th>\n",
       "      <td>Де ла Круз</td>\n",
       "    </tr>\n",
       "    <tr>\n",
       "      <th>38698</th>\n",
       "      <td>Дж. П. Морган</td>\n",
       "    </tr>\n",
       "  </tbody>\n",
       "</table>\n",
       "</div>"
      ],
      "text/plain": [
       "                          Word\n",
       "18112  Бэнк оф Нью-Йорк Меллон\n",
       "27843             Газ Де Франс\n",
       "31424   ГМК “Норильский никель\n",
       "36400               Де ла Круз\n",
       "38698            Дж. П. Морган"
      ]
     },
     "execution_count": 23,
     "metadata": {},
     "output_type": "execute_result"
    }
   ],
   "source": [
    "df_test[df_test.Word.str.split().str.len()>2].head()"
   ]
  },
  {
   "cell_type": "markdown",
   "metadata": {},
   "source": [
    "# Добавим признаки"
   ]
  },
  {
   "cell_type": "markdown",
   "metadata": {},
   "source": [
    "## Первая буква большая &Co"
   ]
  },
  {
   "cell_type": "code",
   "execution_count": 26,
   "metadata": {},
   "outputs": [],
   "source": [
    "df_train['is_fst_upper'] = df_train.Word.str[0].str.isupper() * 1 #.str.len().value_counts()\n",
    "df_test['is_fst_upper'] = df_test.Word.str[0].str.isupper() * 1\n",
    "\n",
    "df_train['is_all_upper'] = df_train.Word.str.isupper() * 1 #.str.len().value_counts()\n",
    "df_test['is_all_upper'] = df_test.Word.str.isupper() * 1\n",
    "\n",
    "df_train['is_only_fst_upper'] = df_train.is_fst_upper * (1 - df_train.is_all_upper)\n",
    "df_test['is_only_fst_upper'] = df_test.is_fst_upper * (1 - df_test.is_all_upper)"
   ]
  },
  {
   "cell_type": "markdown",
   "metadata": {},
   "source": [
    "## Количество букв"
   ]
  },
  {
   "cell_type": "code",
   "execution_count": 27,
   "metadata": {},
   "outputs": [],
   "source": [
    "df_train['len_w'] = df_train.Word.map(len)\n",
    "df_test['len_w'] = df_test.Word.map(len)\n",
    "\n",
    "df_train['log_len_w'] = df_train.len_w.map(np.log)\n",
    "df_test['log_len_w'] = df_test.len_w.map(np.log)\n",
    "\n",
    "#df_train = df_train.drop('len_w', axis=1)\n",
    "#df_test = df_test.drop('len_w', axis=1)"
   ]
  },
  {
   "cell_type": "markdown",
   "metadata": {},
   "source": [
    "### Количество букв - в порядковые"
   ]
  },
  {
   "cell_type": "code",
   "execution_count": 28,
   "metadata": {},
   "outputs": [],
   "source": [
    "def get_group(w):\n",
    "    bond = [2, 3, 6, 7, 8, 10, 12, 13]# верхняя граница группы (кроме 13 0 от 13 и выше), имя группы\n",
    "    bond.reverse()\n",
    "    i, imax = 1, len(bond)\n",
    "    for l in bond[1:]:\n",
    "        if (w <= l):\n",
    "            group = imax - i \n",
    "        elif w >= bond[0]:\n",
    "            group = imax\n",
    "        i += 1\n",
    "    return group "
   ]
  },
  {
   "cell_type": "code",
   "execution_count": 29,
   "metadata": {
    "collapsed": true
   },
   "outputs": [],
   "source": [
    "df_train['group_len_w'] = df_train.len_w.map(get_group)\n",
    "df_test['group_len_w'] = df_test.len_w.map(get_group)"
   ]
  },
  {
   "cell_type": "code",
   "execution_count": 30,
   "metadata": {},
   "outputs": [
    {
     "data": {
      "text/plain": [
       "group_len_w\n",
       "1    0.219101\n",
       "2    0.186901\n",
       "3    0.154895\n",
       "4    0.136594\n",
       "5    0.123305\n",
       "6    0.084281\n",
       "7    0.040785\n",
       "8    0.014059\n",
       "Name: Label, dtype: float64"
      ]
     },
     "execution_count": 30,
     "metadata": {},
     "output_type": "execute_result"
    }
   ],
   "source": [
    "df_train.groupby(['group_len_w'])['Label'].mean()"
   ]
  },
  {
   "cell_type": "markdown",
   "metadata": {},
   "source": [
    "### Обрезаем хвосты > 3 std РАЗДЕЛЬНО ПО КЛАССАМ \n"
   ]
  },
  {
   "cell_type": "code",
   "execution_count": 31,
   "metadata": {},
   "outputs": [
    {
     "data": {
      "text/plain": [
       "(2.4849066497880004, 2.70805020110221, 1.0986122886681098, 1.3862943611198906)"
      ]
     },
     "execution_count": 31,
     "metadata": {},
     "output_type": "execute_result"
    }
   ],
   "source": [
    "g = 0.025 #  т.е. 0.5%:95% оставляем\n",
    "\n",
    "gmax1 = df_train.loc[df_train['Label'] == 1, 'log_len_w'].quantile(1 - g)\n",
    "gmax0 = df_train.loc[df_train['Label'] == 0, 'log_len_w'].quantile(1 - g)\n",
    "\n",
    "gmin1 = df_train.loc[df_train['Label'] == 1, 'log_len_w'].quantile(g)\n",
    "gmin0 = df_train.loc[df_train['Label'] == 0, 'log_len_w'].quantile(g)\n",
    "\n",
    "\n",
    "df_train.loc[((df_train.log_len_w > gmax0) & (df_train['Label'] == 0)),'log_len_w'] = gmax0\n",
    "df_train.loc[((df_train.log_len_w > gmax1) & (df_train['Label'] == 1)),'log_len_w'] = gmax1\n",
    "\n",
    "df_train.loc[((df_train.log_len_w < gmin0) & (df_train['Label'] == 0)),'log_len_w'] = gmin0\n",
    "df_train.loc[((df_train.log_len_w < gmin1) & (df_train['Label'] == 1)),'log_len_w'] = gmin1\n",
    "\n",
    "gmax1, gmax0, gmin1, gmin0"
   ]
  },
  {
   "cell_type": "markdown",
   "metadata": {},
   "source": [
    "## group_len_w  +  is_only_fst_upper"
   ]
  },
  {
   "cell_type": "code",
   "execution_count": 32,
   "metadata": {
    "collapsed": true
   },
   "outputs": [],
   "source": [
    "df_train['group_len_upper'] = df_train.group_len_w + df_train.is_only_fst_upper * 10\n",
    "df_test['group_len_upper'] = df_test.group_len_w + df_test.is_only_fst_upper * 10"
   ]
  },
  {
   "cell_type": "markdown",
   "metadata": {},
   "source": [
    "##  Дубликаты с разным таргет"
   ]
  },
  {
   "cell_type": "code",
   "execution_count": 48,
   "metadata": {},
   "outputs": [
    {
     "data": {
      "text/plain": [
       "(612, 725)"
      ]
     },
     "execution_count": 48,
     "metadata": {},
     "output_type": "execute_result"
    }
   ],
   "source": [
    "df_train.loc[(df_train['Word'].duplicated(keep=False)) & (df_train.is_fst_upper==1), :].shape[0], \\\n",
    "df_train.loc[(df_train['Word'].duplicated()), :].shape[0]"
   ]
  },
  {
   "cell_type": "code",
   "execution_count": 49,
   "metadata": {
    "collapsed": true
   },
   "outputs": [],
   "source": [
    "# Создаем новый признак при неравестве таргета дубликатов по Word\n",
    "\n",
    "df_train['dubl_2target'] = 0\n",
    "df_test['dubl_2target'] = 0\n",
    "dict_dubl_target = ((df_train.loc[df_train['Word'].duplicated(keep=False),['Word','Label']].groupby(['Word'])['Label'].mean() == 0.5) * 1).to_dict()\n",
    "set_dubl_target = set(dict_dubl_target.keys())\n",
    "df_train.loc[(df_train['Word'].isin(list(set_dubl_target))), ['dubl_2target']] = 1\n",
    "\n",
    "df_test['dubl_2target'] = 0"
   ]
  },
  {
   "cell_type": "markdown",
   "metadata": {},
   "source": [
    "##  Количество гласных и согласных"
   ]
  },
  {
   "cell_type": "code",
   "execution_count": 52,
   "metadata": {},
   "outputs": [],
   "source": [
    "def num_vowels(word):\n",
    "    vowels = \"аеёиоуыэюя\"\n",
    "    return sum(letter in vowels for letter in word.strip().lower())\n",
    "\n",
    "\n",
    "def num_not_vowels(word):\n",
    "    vowels = \"аеёиоуыэюя\"\n",
    "    return sum(letter not in vowels for letter in word.lower().lower())\n"
   ]
  },
  {
   "cell_type": "code",
   "execution_count": 53,
   "metadata": {},
   "outputs": [],
   "source": [
    "# + признаки - кол-во гласных и согласных\n",
    "\n",
    "df_train['num_vowels'] = df_train['Word'].map(num_vowels)\n",
    "df_test['num_vowels'] = df_test['Word'].map(num_vowels)\n",
    "\n",
    "df_train['num_consonants'] = df_train['Word'].map(num_not_vowels)\n",
    "df_test['num_consonants'] = df_test['Word'].map(num_not_vowels)\n",
    "\n",
    "df_train['log_nvowels'] = np.log(df_train.num_vowels + 1)\n",
    "df_test['log_nvowels'] = np.log(df_test.num_vowels + 1)\n",
    "\n",
    "df_train['log_nconsonants'] = np.log(df_train.num_consonants + 1)\n",
    "df_test['log_nconsonants'] = np.log(df_test.num_consonants + 1)\n"
   ]
  },
  {
   "cell_type": "code",
   "execution_count": 54,
   "metadata": {
    "collapsed": true
   },
   "outputs": [],
   "source": [
    "df_train = df_train.drop('num_consonants', axis=1)\n",
    "df_train = df_train.drop('num_vowels', axis=1)\n",
    "\n",
    "df_test = df_test.drop('num_consonants', axis=1)\n",
    "df_test = df_test.drop('num_vowels', axis=1)"
   ]
  },
  {
   "cell_type": "markdown",
   "metadata": {},
   "source": [
    "### ОБрезаем хвосты"
   ]
  },
  {
   "cell_type": "code",
   "execution_count": 55,
   "metadata": {},
   "outputs": [
    {
     "data": {
      "text/plain": [
       "(1.791759469228055, 2.0794415416798357, 0.6931471805599453, 1.0986122886681098)"
      ]
     },
     "execution_count": 55,
     "metadata": {},
     "output_type": "execute_result"
    }
   ],
   "source": [
    "g = 0.025 #  т.е. 2.5%:97,5% оставляем\n",
    "\n",
    "gmax1 = df_train.loc[df_train['Label'] == 1, 'log_nvowels'].quantile(1 - g)\n",
    "gmax0 = df_train.loc[df_train['Label'] == 0, 'log_nvowels'].quantile(1 - g)\n",
    "\n",
    "gmin1 = df_train.loc[df_train['Label'] == 1, 'log_nvowels'].quantile(g)\n",
    "gmin0 = df_train.loc[df_train['Label'] == 0, 'log_nvowels'].quantile(g)\n",
    "\n",
    "\n",
    "df_train.loc[((df_train.log_nvowels > gmax0) & (df_train['Label'] == 0)),'log_nvowels'] = gmax0\n",
    "df_train.loc[((df_train.log_nvowels > gmax1) & (df_train['Label'] == 1)),'log_nvowels'] = gmax1\n",
    "\n",
    "df_train.loc[((df_train.log_nvowels < gmin0) & (df_train['Label'] == 0)),'log_nvowels'] = gmin0\n",
    "df_train.loc[((df_train.log_nvowels < gmin1) & (df_train['Label'] == 1)),'log_nvowels'] = gmin1\n",
    "\n",
    "gmax1, gmax0, gmin1, gmin0"
   ]
  },
  {
   "cell_type": "code",
   "execution_count": 56,
   "metadata": {},
   "outputs": [
    {
     "data": {
      "text/plain": [
       "(2.0794415416798357, 2.302585092994046, 1.0986122886681098, 1.0986122886681098)"
      ]
     },
     "execution_count": 56,
     "metadata": {},
     "output_type": "execute_result"
    }
   ],
   "source": [
    "g = 0.025 #  т.е. 0.5%:95% оставляем\n",
    "\n",
    "gmax1 = df_train.loc[df_train['Label'] == 1, 'log_nconsonants'].quantile(1 - g)\n",
    "gmax0 = df_train.loc[df_train['Label'] == 0, 'log_nconsonants'].quantile(1 - g)\n",
    "\n",
    "gmin1 = df_train.loc[df_train['Label'] == 1, 'log_nconsonants'].quantile(g)\n",
    "gmin0 = df_train.loc[df_train['Label'] == 0, 'log_nconsonants'].quantile(g)\n",
    "\n",
    "\n",
    "df_train.loc[((df_train.log_nconsonants > gmax0) & (df_train['Label'] == 0)),'log_nconsonants'] = gmax0\n",
    "df_train.loc[((df_train.log_nconsonants > gmax1) & (df_train['Label'] == 1)),'log_nconsonants'] = gmax1\n",
    "\n",
    "df_train.loc[((df_train.log_nconsonants < gmin0) & (df_train['Label'] == 0)),'log_nconsonants'] = gmin0\n",
    "df_train.loc[((df_train.log_nconsonants < gmin1) & (df_train['Label'] == 1)),'log_nconsonants'] = gmin1\n",
    "\n",
    "gmax1, gmax0, gmin1, gmin0"
   ]
  },
  {
   "cell_type": "markdown",
   "metadata": {},
   "source": [
    " ## Является ли слово Ф/И/ИФО"
   ]
  },
  {
   "cell_type": "markdown",
   "metadata": {},
   "source": [
    " ### Является ли слово именем"
   ]
  },
  {
   "cell_type": "markdown",
   "metadata": {},
   "source": [
    "#### pymorphy2"
   ]
  },
  {
   "cell_type": "code",
   "execution_count": 59,
   "metadata": {
    "collapsed": true
   },
   "outputs": [],
   "source": [
    "# probability score threshold\n",
    "#prob_thresh = 0.3\n",
    "morph = pymorphy2.MorphAnalyzer()"
   ]
  },
  {
   "cell_type": "code",
   "execution_count": 60,
   "metadata": {},
   "outputs": [],
   "source": [
    "p0 = 0\n",
    "p1 = 1\n",
    "def get_name(text, prob_thresh=0.4):\n",
    "    for word in nltk.word_tokenize(text):\n",
    "        for p in morph.parse(word):\n",
    "            if 'Name' in p.tag and p.score >= prob_thresh:\n",
    "                #print('{:<12}\\t({:>12})\\tscore:\\t{:0.3}'.format(word, p.normal_form, p.score))\n",
    "                name_prob = p1\n",
    "            else:\n",
    "                name_prob = p0\n",
    "            return name_prob"
   ]
  },
  {
   "cell_type": "code",
   "execution_count": 61,
   "metadata": {},
   "outputs": [],
   "source": [
    "df_train['is_name'] = df_train.Word.apply(get_name)\n",
    "df_test['is_name'] = df_test.Word.apply(get_name)"
   ]
  },
  {
   "cell_type": "code",
   "execution_count": 62,
   "metadata": {},
   "outputs": [
    {
     "data": {
      "text/plain": [
       "is_name\n",
       "0    0.098550\n",
       "1    0.282212\n",
       "Name: Label, dtype: float64"
      ]
     },
     "execution_count": 62,
     "metadata": {},
     "output_type": "execute_result"
    }
   ],
   "source": [
    "df_train.groupby(['is_name'])['Label'].mean()"
   ]
  },
  {
   "cell_type": "markdown",
   "metadata": {},
   "source": [
    "#### pymystem3"
   ]
  },
  {
   "cell_type": "code",
   "execution_count": 63,
   "metadata": {},
   "outputs": [],
   "source": [
    "analize_sur_n = pymystem3.Mystem()"
   ]
  },
  {
   "cell_type": "code",
   "execution_count": 64,
   "metadata": {},
   "outputs": [],
   "source": [
    "p0 = 0\n",
    "p = 1 # df_train.groupby(['is_name_stem'])['Label'].mean().values[1] # \n",
    "p1 = 2\n",
    "def get_name_mystem(text, p0=p0,p=p, p1=p1):\n",
    "    #f = analize_sur.analyze(text)[0]['analysis'][0]['gr']\n",
    "    #if f.split(',')[0]=='S':\n",
    "    try:\n",
    "        f = analize_sur_n.analyze(text)[0]['analysis'][0]['gr'].split(',')[1] == 'имя'\n",
    "        f = p1 if f else p0\n",
    "        #print(text, ' : ', analize_sur.analyze(text)[0]['analysis'][0]['gr'])\n",
    "    except:\n",
    "        # print ('exs', ' : ', text, analize_sur.analyze(text)[0])\n",
    "        f = p\n",
    "    return f"
   ]
  },
  {
   "cell_type": "code",
   "execution_count": 65,
   "metadata": {},
   "outputs": [],
   "source": [
    "df_train['is_name_stem'] = df_train.Word.map(get_name_mystem)"
   ]
  },
  {
   "cell_type": "code",
   "execution_count": 66,
   "metadata": {},
   "outputs": [],
   "source": [
    "df_test['is_name_stem'] = df_test.Word.map(get_name_mystem)"
   ]
  },
  {
   "cell_type": "code",
   "execution_count": 67,
   "metadata": {},
   "outputs": [
    {
     "data": {
      "text/plain": [
       "is_name_stem\n",
       "0    0.090303\n",
       "1    0.187625\n",
       "2    0.346705\n",
       "Name: Label, dtype: float64"
      ]
     },
     "execution_count": 67,
     "metadata": {},
     "output_type": "execute_result"
    }
   ],
   "source": [
    "df_train.groupby(['is_name_stem'])['Label'].mean()"
   ]
  },
  {
   "cell_type": "markdown",
   "metadata": {},
   "source": [
    " ### Является ли слово фамилией "
   ]
  },
  {
   "cell_type": "markdown",
   "metadata": {},
   "source": [
    "#### pymorphy2"
   ]
  },
  {
   "cell_type": "code",
   "execution_count": 69,
   "metadata": {
    "collapsed": true
   },
   "outputs": [],
   "source": [
    "morph = pymorphy2.MorphAnalyzer()"
   ]
  },
  {
   "cell_type": "code",
   "execution_count": 70,
   "metadata": {},
   "outputs": [],
   "source": [
    "def get_surn(text):\n",
    "    for word in nltk.word_tokenize(text):\n",
    "        for p in morph.parse(word):\n",
    "            if 'Surn' in p.tag: \n",
    "                # print('{:<12}\\t({:>12})\\tscore:\\t{:0.3}'.format(word, p.normal_form, p.score))\n",
    "                surn_prob = p.score\n",
    "            else:\n",
    "                surn_prob = 0\n",
    "            return surn_prob"
   ]
  },
  {
   "cell_type": "code",
   "execution_count": 71,
   "metadata": {},
   "outputs": [],
   "source": [
    "df_train['is_surname'] = df_train.Word.apply(get_surn)\n",
    "df_test['is_surname'] = df_test.Word.apply(get_surn)"
   ]
  },
  {
   "cell_type": "markdown",
   "metadata": {},
   "source": [
    "#### pymystem3"
   ]
  },
  {
   "cell_type": "code",
   "execution_count": 73,
   "metadata": {},
   "outputs": [],
   "source": [
    "analize_sur = pymystem3.Mystem()"
   ]
  },
  {
   "cell_type": "code",
   "execution_count": 74,
   "metadata": {},
   "outputs": [],
   "source": [
    "p2 = 2 # 0.373134\n",
    "p0 = 0 # 0.068881\n",
    "p01 = 3 # 0.114078\n",
    "p1 = 1 # 0.825241\n",
    "\n",
    "def get_surn_mystem(text, p2=p2, p0=p0):\n",
    "    #f = analize_sur.analyze(text)[0]['analysis'][0]['gr']\n",
    "    #if f.split(',')[0]=='S':\n",
    "    try:\n",
    "        f = analize_sur.analyze(text)[0]['analysis'][0]['gr'].split(',')[1] == 'фам'\n",
    "        f = p1 if f else p0\n",
    "        #print(text, ' : ', analize_sur.analyze(text)[0]['analysis'][0]['gr'])\n",
    "    except:\n",
    "        # print ('exs',analize_sur.analyze(text)[0])\n",
    "        f = p1 if (text.startswith(\"О'\") | text.startswith(\"О’\")) else p2 if len(text) == 2 else p01\n",
    "    \n",
    "    return f"
   ]
  },
  {
   "cell_type": "code",
   "execution_count": 75,
   "metadata": {},
   "outputs": [],
   "source": [
    "df_train['is_surn_stem'] = df_train.Word.map(get_surn_mystem)\n",
    "\n",
    "df_test['is_surn_stem'] = df_test.Word.map(get_surn_mystem)"
   ]
  },
  {
   "cell_type": "code",
   "execution_count": 76,
   "metadata": {},
   "outputs": [
    {
     "data": {
      "text/plain": [
       "is_surn_stem\n",
       "0    0.068881\n",
       "1    0.825241\n",
       "2    0.373134\n",
       "3    0.114078\n",
       "Name: Label, dtype: float64"
      ]
     },
     "execution_count": 76,
     "metadata": {},
     "output_type": "execute_result"
    }
   ],
   "source": [
    "df_train.groupby(['is_surn_stem'])['Label'].mean()"
   ]
  },
  {
   "cell_type": "markdown",
   "metadata": {},
   "source": [
    "### Является ли слово Ф/И/О natasha"
   ]
  },
  {
   "cell_type": "code",
   "execution_count": 77,
   "metadata": {},
   "outputs": [
    {
     "name": "stdout",
     "output_type": "stream",
     "text": [
      "CPU times: user 28 ms, sys: 0 ns, total: 28 ms\n",
      "Wall time: 24.2 ms\n"
     ]
    }
   ],
   "source": [
    "func = NamesExtractor()\n",
    "def natasha(word):\n",
    "    return 1 if func(word) else 0"
   ]
  },
  {
   "cell_type": "code",
   "execution_count": 80,
   "metadata": {},
   "outputs": [
    {
     "name": "stdout",
     "output_type": "stream",
     "text": [
      "CPU times: user 4min 55s, sys: 1.57 s, total: 4min 56s\n",
      "Wall time: 4min 57s\n"
     ]
    }
   ],
   "source": [
    "%%time\n",
    "df_train['natasha_pers'] = df_train['Word'].apply(natasha)"
   ]
  },
  {
   "cell_type": "code",
   "execution_count": 81,
   "metadata": {},
   "outputs": [
    {
     "name": "stdout",
     "output_type": "stream",
     "text": [
      "CPU times: user 9min 49s, sys: 2.09 s, total: 9min 51s\n",
      "Wall time: 9min 51s\n"
     ]
    }
   ],
   "source": [
    "%%time\n",
    "df_test['natasha_pers'] = df_test['Word'].apply(natasha)"
   ]
  },
  {
   "cell_type": "code",
   "execution_count": 82,
   "metadata": {},
   "outputs": [
    {
     "data": {
      "text/plain": [
       "natasha_pers\n",
       "0    0.066772\n",
       "1    0.538621\n",
       "Name: Label, dtype: float64"
      ]
     },
     "execution_count": 82,
     "metadata": {},
     "output_type": "execute_result"
    }
   ],
   "source": [
    "df_train.groupby(['natasha_pers'])['Label'].mean()"
   ]
  },
  {
   "cell_type": "markdown",
   "metadata": {},
   "source": [
    "## Окончания"
   ]
  },
  {
   "cell_type": "code",
   "execution_count": 122,
   "metadata": {},
   "outputs": [],
   "source": [
    "def get_ch_l(text, last_range=(2,4+1)):\n",
    "    \"\"\"\n",
    "    Взять окончания слова: \n",
    "    кол-во букв - от last_range[0] до last_range[2]-1\n",
    "    \"\"\"\n",
    "    \n",
    "    ch_l = []\n",
    "    if len(text) < last_range[1]:\n",
    "        last_range = (last_range[0], len(text)) # мы исследуем окончания, первая буква точно не окончание :)\n",
    "    if len(text) < last_range[0]:\n",
    "        last_range = (len(text), 2)\n",
    "    for i in range(last_range[0], last_range[1]):\n",
    "        ch_l.append(str(text[-i:]))\n",
    "    return ','.join(ch_l)\n"
   ]
  },
  {
   "cell_type": "code",
   "execution_count": 123,
   "metadata": {},
   "outputs": [],
   "source": [
    "df_train['ch_list'] = df_train.Word.str.lower().apply(get_ch_l)\n",
    "df_test['ch_list'] = df_test.Word.str.lower().apply(get_ch_l)\n"
   ]
  },
  {
   "cell_type": "markdown",
   "metadata": {},
   "source": [
    "## Кодирование средним target"
   ]
  },
  {
   "cell_type": "code",
   "execution_count": 101,
   "metadata": {},
   "outputs": [],
   "source": [
    "# Кодирование средним target\n",
    "cat_feats = ['is_fst_upper','is_all_upper', 'is_only_fst_upper', 'group_len_w', 'group_len_upper', 'dubl_2target',\\\n",
    "             'is_name', 'is_name_stem', 'is_surn_stem', 'natasha_pers']\n",
    "col_target = 'Label' \n",
    "y_tr = df_train[col_target]"
   ]
  },
  {
   "cell_type": "code",
   "execution_count": 102,
   "metadata": {},
   "outputs": [],
   "source": [
    "train_mean_target, test_mean_target, feats_new = mean_target_enc(df_train, df_test, y_tr,  cat_feats, alpha=10)"
   ]
  },
  {
   "cell_type": "code",
   "execution_count": 126,
   "metadata": {},
   "outputs": [
    {
     "data": {
      "text/plain": [
       "natasha_pers\n",
       "0    0.066772\n",
       "1    0.538621\n",
       "Name: Label, dtype: float64"
      ]
     },
     "execution_count": 126,
     "metadata": {},
     "output_type": "execute_result"
    }
   ],
   "source": [
    "df_train.groupby(['natasha_pers'])['Label'].mean()"
   ]
  },
  {
   "cell_type": "code",
   "execution_count": 130,
   "metadata": {},
   "outputs": [
    {
     "data": {
      "text/plain": [
       "0    93213\n",
       "1     8195\n",
       "Name: natasha_pers, dtype: int64"
      ]
     },
     "execution_count": 130,
     "metadata": {},
     "output_type": "execute_result"
    }
   ],
   "source": [
    "df_train['natasha_pers'].value_counts()"
   ]
  },
  {
   "cell_type": "markdown",
   "metadata": {},
   "source": [
    "## Записываем на диск"
   ]
  },
  {
   "cell_type": "code",
   "execution_count": 169,
   "metadata": {},
   "outputs": [
    {
     "name": "stdout",
     "output_type": "stream",
     "text": [
      "Записали на диск файл ../../data/surnames/_tmp/_feats_new__.csv\n"
     ]
    }
   ],
   "source": [
    "save_df_to_file(pd.Series(feats_new), 'feats_new')"
   ]
  },
  {
   "cell_type": "code",
   "execution_count": 119,
   "metadata": {},
   "outputs": [
    {
     "name": "stdout",
     "output_type": "stream",
     "text": [
      "Записали на диск файл ../../data/surnames/_tmp/_train__.csv\n",
      "Записали на диск файл ../../data/surnames/_tmp/_test__.csv\n"
     ]
    }
   ],
   "source": [
    "save_df_to_file(df_train, 'train')\n",
    "save_df_to_file(df_test, 'test')"
   ]
  },
  {
   "cell_type": "code",
   "execution_count": 114,
   "metadata": {},
   "outputs": [
    {
     "name": "stdout",
     "output_type": "stream",
     "text": [
      "Записали на диск файл ../../data/surnames/_tmp/_train_mean_target__.csv\n",
      "Записали на диск файл ../../data/surnames/_tmp/_test_mean_target__.csv\n"
     ]
    }
   ],
   "source": [
    "save_df_to_file(train_mean_target,'train_mean_target')\n",
    "save_df_to_file(test_mean_target, 'test_mean_target')"
   ]
  },
  {
   "cell_type": "markdown",
   "metadata": {},
   "source": [
    "## <span class=\"girk\">=></span>Загрузка с диска"
   ]
  },
  {
   "cell_type": "code",
   "execution_count": 10,
   "metadata": {},
   "outputs": [
    {
     "name": "stdout",
     "output_type": "stream",
     "text": [
      "in ../../data/surnames/_tmp/_feats_new__.csv\n"
     ]
    }
   ],
   "source": [
    "feats_new = load_files('feats_new', suf_out=None, header=None)[1].tolist()"
   ]
  },
  {
   "cell_type": "code",
   "execution_count": 120,
   "metadata": {},
   "outputs": [
    {
     "name": "stdout",
     "output_type": "stream",
     "text": [
      "in ../../data/surnames/_tmp/_train__.csv\n",
      "in ../../data/surnames/_tmp/_test__.csv\n"
     ]
    }
   ],
   "source": [
    "df_train = load_files('train', suf_out=None)\n",
    "df_test = load_files('test', suf_out=None)"
   ]
  },
  {
   "cell_type": "code",
   "execution_count": 116,
   "metadata": {},
   "outputs": [
    {
     "name": "stdout",
     "output_type": "stream",
     "text": [
      "in ../../data/surnames/_tmp/_train_mean_target__.csv\n",
      "in ../../data/surnames/_tmp/_test_mean_target__.csv\n"
     ]
    }
   ],
   "source": [
    "train_mean_target = load_files('train_mean_target', suf_out=None)\n",
    "test_mean_target = load_files('test_mean_target', suf_out=None)"
   ]
  },
  {
   "cell_type": "markdown",
   "metadata": {},
   "source": [
    "# Модели"
   ]
  },
  {
   "cell_type": "code",
   "execution_count": 82,
   "metadata": {
    "collapsed": true
   },
   "outputs": [],
   "source": [
    "col_heat_mean = ['Label', 'log_len_w', 'log_nvowels', 'log_nconsonants', 'is_fst_upper_mean_target',\n",
    "       'is_all_upper_mean_target', 'is_only_fst_upper_mean_target',\n",
    "       'group_len_w_mean_target', 'group_len_upper_mean_target',\n",
    "       'dubl_2target_mean_target', 'is_name_mean_target', 'is_surname',\n",
    "       'group_len_w_mean_target', 'is_surn_stem_mean_target','natasha_pers_mean_target'] #'is_name_stem_mean_target',"
   ]
  },
  {
   "cell_type": "code",
   "execution_count": 83,
   "metadata": {},
   "outputs": [
    {
     "data": {
      "image/png": "[encoded data removed]",
      "text/plain": [
       "<matplotlib.figure.Figure at 0x7fddacb73710>"
      ]
     },
     "metadata": {},
     "output_type": "display_data"
    }
   ],
   "source": [
    "sns.heatmap(train_mean_target[col_heat_mean].corr());"
   ]
  },
  {
   "cell_type": "markdown",
   "metadata": {},
   "source": [
    "## Валидация"
   ]
  },
  {
   "cell_type": "code",
   "execution_count": 37,
   "metadata": {},
   "outputs": [
    {
     "data": {
      "text/plain": [
       "((101408, 18), (101408,))"
      ]
     },
     "execution_count": 37,
     "metadata": {},
     "output_type": "execute_result"
    }
   ],
   "source": [
    "feat_to_model = ['Label', 'Word', 'ch_list', 'is_fst_upper','is_all_upper', 'is_only_fst_upper',\n",
    "       'len_w', 'log_len_w', 'group_len_w', 'group_len_upper', 'dubl_2target',\n",
    "       'log_nvowels', 'log_nconsonants', 'is_name', 'is_name_stem',\n",
    "       'is_surname', 'is_surn_stem', 'natasha_pers']\n",
    "X = df_train[feat_to_model]\n",
    "col_target = 'Label' # !\n",
    "y = df_train[col_target] # !\n",
    "X.shape, y.shape"
   ]
  },
  {
   "cell_type": "code",
   "execution_count": 101,
   "metadata": {},
   "outputs": [],
   "source": [
    "cat_feats = ['is_fst_upper','is_all_upper', 'is_only_fst_upper', 'group_len_w', 'group_len_upper', 'dubl_2target',\\\n",
    "             'is_name', 'is_name_stem', 'is_surn_stem', 'natasha_pers']\n"
   ]
  },
  {
   "cell_type": "markdown",
   "metadata": {},
   "source": [
    "### SGD LOGIT & ENSAMBL"
   ]
  },
  {
   "cell_type": "code",
   "execution_count": 137,
   "metadata": {},
   "outputs": [
    {
     "name": "stdout",
     "output_type": "stream",
     "text": [
      "0.9277468824552279 sgd_roc_auc_valid  | 0.9612607515015279 sgd_roc_auc_train\n",
      "0.9405850036967575 logit_roc_auc_valid  | 0.9847961333121085 logit_roc_auc_train | 0.95 C\n",
      "0.9405850036967575 a_roc_auc_valid  | 0.9847961333121085 a_roc_auc_train | 0.0 M\n",
      "0.9406534155670112 a_roc_auc_valid  | 0.9843667019235958 a_roc_auc_train | 0.05 M\n",
      "0.9406350636633967 a_roc_auc_valid  | 0.9838875825640763 a_roc_auc_train | 0.1 M\n",
      "0.9405325856642907 a_roc_auc_valid  | 0.9833515587804363 a_roc_auc_train | 0.15000000000000002 M\n",
      "0.9403699536855368 a_roc_auc_valid  | 0.9827535951334833 a_roc_auc_train | 0.2 M\n",
      "0.9401312111710208 a_roc_auc_valid  | 0.9820934795801965 a_roc_auc_train | 0.25 M\n",
      "0.9398268156300658 a_roc_auc_valid  | 0.9813647343228185 a_roc_auc_train | 0.30000000000000004 M\n",
      "0.9394568136647621 a_roc_auc_valid  | 0.9805612730276274 a_roc_auc_train | 0.35000000000000003 M\n",
      "0.939007327172276 a_roc_auc_valid  | 0.9796812339103038 a_roc_auc_train | 0.4 M\n",
      "0.9384952913526409 a_roc_auc_valid  | 0.9787152195038119 a_roc_auc_train | 0.45 M\n",
      "0.9379167916301749 a_roc_auc_valid  | 0.9776663848218804 a_roc_auc_train | 0.5 M\n",
      "0.9372648470115785 a_roc_auc_valid  | 0.9765310016355835 a_roc_auc_train | 0.55 M\n",
      "0.93654819072879 a_roc_auc_valid  | 0.9753059755149125 a_roc_auc_train | 0.6000000000000001 M\n",
      "0.9357615567454748 a_roc_auc_valid  | 0.9739886664077597 a_roc_auc_train | 0.65 M\n",
      "0.934893592792155 a_roc_auc_valid  | 0.9725716714495648 a_roc_auc_train | 0.7000000000000001 M\n",
      "0.9339548123006631 a_roc_auc_valid  | 0.9710529331239895 a_roc_auc_train | 0.75 M\n",
      "0.9329291655107017 a_roc_auc_valid  | 0.9694211898495351 a_roc_auc_train | 0.8 M\n",
      "0.9318238477851917 a_roc_auc_valid  | 0.9676613492894822 a_roc_auc_train | 0.8500000000000001 M\n",
      "0.9306185219714227 a_roc_auc_valid  | 0.9657481643435746 a_roc_auc_train | 0.9 M\n",
      "0.9292808928200177 a_roc_auc_valid  | 0.9636430734740062 a_roc_auc_train | 0.9500000000000001 M\n",
      "0.9329659578619045 sgd_roc_auc_valid  | 0.9541304193104586 sgd_roc_auc_train\n",
      "0.9447696804406978 logit_roc_auc_valid  | 0.9846716652243549 logit_roc_auc_train | 0.95 C\n",
      "0.9447696804406978 a_roc_auc_valid  | 0.9846716652243549 a_roc_auc_train | 0.0 M\n",
      "0.9449250238523486 a_roc_auc_valid  | 0.9840921796120141 a_roc_auc_train | 0.05 M\n",
      "0.9450052446925763 a_roc_auc_valid  | 0.9834479323330925 a_roc_auc_train | 0.1 M\n",
      "0.94500228079956 a_roc_auc_valid  | 0.9827373039381497 a_roc_auc_train | 0.15000000000000002 M\n",
      "0.9449403932221098 a_roc_auc_valid  | 0.9819556271505999 a_roc_auc_train | 0.2 M\n",
      "0.9448076611452323 a_roc_auc_valid  | 0.9810961934885197 a_roc_auc_train | 0.25 M\n",
      "0.9446311044615519 a_roc_auc_valid  | 0.9801617501905988 a_roc_auc_train | 0.30000000000000004 M\n",
      "0.9443911130109852 a_roc_auc_valid  | 0.9791435498997206 a_roc_auc_train | 0.35000000000000003 M\n",
      "0.9440940339983881 a_roc_auc_valid  | 0.978040651238081 a_roc_auc_train | 0.4 M\n",
      "0.9437446860800168 a_roc_auc_valid  | 0.9768609533907165 a_roc_auc_train | 0.45 M\n",
      "0.9433297876598072 a_roc_auc_valid  | 0.9755911395899334 a_roc_auc_train | 0.5 M\n",
      "0.9428615298448836 a_roc_auc_valid  | 0.9742298956350351 a_roc_auc_train | 0.55 M\n",
      "0.9423282714328004 a_roc_auc_valid  | 0.9727635412560081 a_roc_auc_train | 0.6000000000000001 M\n",
      "0.9417234228878268 a_roc_auc_valid  | 0.9711908764291665 a_roc_auc_train | 0.65 M\n",
      "0.9410386703968471 a_roc_auc_valid  | 0.969503580213577 a_roc_auc_train | 0.7000000000000001 M\n",
      "0.9402570135168993 a_roc_auc_valid  | 0.9676796001351445 a_roc_auc_train | 0.75 M\n",
      "0.9393580684931816 a_roc_auc_valid  | 0.9656964852653075 a_roc_auc_train | 0.8 M\n",
      "0.9383047866629884 a_roc_auc_valid  | 0.9635050416233923 a_roc_auc_train | 0.8500000000000001 M\n",
      "0.9370333604427019 a_roc_auc_valid  | 0.9610263426030433 a_roc_auc_train | 0.9 M\n",
      "0.9354011221895466 a_roc_auc_valid  | 0.9580881137360359 a_roc_auc_train | 0.9500000000000001 M\n",
      "0.9337607296473366 sgd_roc_auc_valid  | 0.9613071001678961 sgd_roc_auc_train\n",
      "0.940031434708834 logit_roc_auc_valid  | 0.9847766753680228 logit_roc_auc_train | 0.95 C\n",
      "0.940031434708834 a_roc_auc_valid  | 0.9847766753680228 a_roc_auc_train | 0.0 M\n",
      "0.9402908491644006 a_roc_auc_valid  | 0.9842919460438747 a_roc_auc_train | 0.05 M\n",
      "0.9404511563367667 a_roc_auc_valid  | 0.9837544561618877 a_roc_auc_train | 0.1 M\n",
      "0.9405380161855531 a_roc_auc_valid  | 0.9831626818336715 a_roc_auc_train | 0.15000000000000002 M\n",
      "0.9405587268394865 a_roc_auc_valid  | 0.9825136288748497 a_roc_auc_train | 0.2 M\n",
      "0.9405260110900239 a_roc_auc_valid  | 0.9818066145647829 a_roc_auc_train | 0.25 M\n",
      "0.9404476890265672 a_roc_auc_valid  | 0.9810340847044461 a_roc_auc_train | 0.30000000000000004 M\n",
      "0.9403262679245025 a_roc_auc_valid  | 0.9802007158137171 a_roc_auc_train | 0.35000000000000003 M\n",
      "0.9401616732180189 a_roc_auc_valid  | 0.9793018243824044 a_roc_auc_train | 0.4 M\n",
      "0.9399550699979091 a_roc_auc_valid  | 0.978335073315622 a_roc_auc_train | 0.45 M\n",
      "0.9396958978812276 a_roc_auc_valid  | 0.9773026552417724 a_roc_auc_train | 0.5 M\n",
      "0.9393984362207303 a_roc_auc_valid  | 0.97619915033762 a_roc_auc_train | 0.55 M\n",
      "0.9390532804035382 a_roc_auc_valid  | 0.9750197189759673 a_roc_auc_train | 0.6000000000000001 M\n",
      "0.9386716432634412 a_roc_auc_valid  | 0.9737573219108997 a_roc_auc_train | 0.65 M\n",
      "0.9382319193567776 a_roc_auc_valid  | 0.972397857349544 a_roc_auc_train | 0.7000000000000001 M\n",
      "0.9377304549588203 a_roc_auc_valid  | 0.9709343536190186 a_roc_auc_train | 0.75 M\n",
      "0.9371621516322605 a_roc_auc_valid  | 0.9693525201879795 a_roc_auc_train | 0.8 M\n",
      "0.9365149949608425 a_roc_auc_valid  | 0.9676421185769339 a_roc_auc_train | 0.8500000000000001 M\n",
      "0.9357738014813543 a_roc_auc_valid  | 0.9657651517706156 a_roc_auc_train | 0.9 M\n",
      "0.9348825722699293 a_roc_auc_valid  | 0.9636885066529426 a_roc_auc_train | 0.9500000000000001 M\n",
      "0.9420304882309133 best_result_, 0.1  best_params_ M\n"
     ]
    }
   ],
   "source": [
    "\"\"\"\n",
    "LOGIT\n",
    "['Word', 'ch_list', 'log_len_w', 'log_nvowels', 'log_nconsonants', 'is_fst_upper', 'is_all_upper', 'is_name', 'is_surname', 'dubl_2target']\n",
    "\n",
    "\"\"\"\n",
    "cat_feats = ['is_all_upper', 'is_only_fst_upper', 'group_len_w', 'group_len_upper', 'dubl_2target',\\\n",
    "              'is_fst_upper', 'is_name', 'is_surn_stem', 'natasha_pers'] # 'is_name_stem', 'is_fst_upper', \n",
    "\n",
    "num_feats = [ 'log_len_w','is_surname', 'log_nvowels', 'log_nconsonants'] #, '\n",
    "bi_col = [] #['is_fst_upper', 'is_name', 'is_all_upper', 'dubl_2target'] \n",
    "\n",
    "\n",
    "cols = ['i', 'roc_auc_val', 'loss', 'penalty', 'n_iter', 'alpha']\n",
    "res_sgd_df = pd.DataFrame()\n",
    "res_df = pd.DataFrame()\n",
    "result_df = pd.DataFrame()\n",
    "\n",
    "skf = StratifiedKFold(n_splits=3, shuffle=True, random_state=100)\n",
    "\n",
    "\n",
    "#, 'is_name']\n",
    "roc_auc_tr_cv = []\n",
    "roc_auc_val_cv = []\n",
    "roc_auc_tr_logit =[]\n",
    "roc_auc_val_logit =[]\n",
    "\n",
    "RS=1024\n",
    "post = 0 # Флаг постобработки\n",
    "roc_auc_valid_post = 0\n",
    "\n",
    "l_w_train = df_train['Word'].tolist()\n",
    "dict_train = df_train.loc[df_train['Word'].drop_duplicates(keep='first').index,['Word', 'Label']].set_index('Word').to_dict()['Label'] # ! 1й дубликат правильный\n",
    "l_xtrain = []\n",
    "l_xvalid = []\n",
    "i = 0  # # папки валидации\n",
    "ii = 0\n",
    "\n",
    "Ms = (np.arange(0, 1, 0.05)) # (np.arange(0, 1, 0.05)) # [0.15] #(np.arange(0, 1, 0.05))# для ансамбля [0.1]\n",
    "Cs = [0.95] #list(np.linspace(0.7, 0.8, num=2)) # list(np.logspace(-2, 0, num=5))для LOGIT [0.95] Sub6\n",
    "\n",
    "greed_search_params_sgd = {\n",
    "    'loss' : ['log'],\n",
    "    'penalty' : ['l2'], #['l1','l2'],\n",
    "    'n_iter' : [7], #list(range(7, 8)) Sub6, # 100\n",
    "    'alpha' :  [0.00005] # [0.00003] #list(np.linspace(0.00005, 0.00006, num=1))Sub6; #0.00001, 100  [0.00005]\n",
    "}\n",
    "\n",
    "for train_index, test_index in skf.split(X, y):\n",
    "    # print(\"TRAIN:\", train_index, \"TEST:\", test_index)\n",
    "    X_train, X_valid = X.iloc[train_index, :], X.iloc[test_index,:]\n",
    "    y_train, y_valid = y[train_index], y[test_index]\n",
    "    \n",
    "    # Кодирование категориальных средним таргет\n",
    "    num_col = []\n",
    "    \n",
    "    train_mean_target_part, valid_mean_target_part, feats_new = mean_target_enc(X_train, X_valid, y_train, cat_feats, alpha=10)\n",
    "    num_col = feats_new + num_feats\n",
    "    \n",
    "    # окончания\n",
    "    vectorizer_ch_l = TfidfVectorizer(min_df=3)\n",
    "    X_train_ch_l = vectorizer_ch_l.fit_transform(X_train.ch_list)\n",
    "    X_valid_ch_l = vectorizer_ch_l.transform(X_valid.ch_list)\n",
    "        \n",
    "    # chars\n",
    "    # !!! ? lowercase=False ?\n",
    "    vectorizer_ch = TfidfVectorizer(analyzer='char', min_df=3, ngram_range=(1, 5), lowercase=False)\n",
    "    X_train_ch = vectorizer_ch.fit_transform(X_train.Word)\n",
    "    X_valid_ch = vectorizer_ch.transform(X_valid.Word)\n",
    "    \n",
    "    # numerical - to Scaler\n",
    "    scaler = StandardScaler()\n",
    "    X_train_scale = scaler.fit_transform(train_mean_target_part[num_col])\n",
    "    X_valid_scale = scaler.transform(valid_mean_target_part[num_col])\n",
    "    \n",
    "    #X_train_bi = X_train[bi_col].\n",
    "    X_train_bi = np.array(X_train[bi_col])\n",
    "    X_valid_bi = np.array(X_valid[bi_col])\n",
    "    \n",
    "    # Соединяем матрицы\n",
    "    X_train_new = scipy.sparse.hstack([X_train_ch, X_train_ch_l, X_train_bi, X_train_scale]) \n",
    "    X_valid_new = scipy.sparse.hstack([X_valid_ch, X_valid_ch_l, X_valid_bi, X_valid_scale])    \n",
    "    \n",
    "    del X_train_ch, X_train_ch_l, X_train_bi, X_train_scale, train_mean_target_part\n",
    "    del X_valid_ch, X_valid_ch_l, X_valid_bi, X_valid_scale, valid_mean_target_part\n",
    "    \n",
    "    \n",
    "    # Модель SGDC\n",
    "    for n_iter in greed_search_params_sgd['n_iter']:\n",
    "        for alpha in greed_search_params_sgd['alpha']:\n",
    "            sgd = SGDC(random_state=RS, n_jobs=-1, shuffle=True, class_weight='balanced',\\\n",
    "                       loss='log', penalty='l2', alpha=alpha, n_iter=n_iter)\n",
    "            sgd.fit(X_train_new, y_train) # гласные  и согласные не берем\n",
    "            pred_sgd = sgd.predict_proba(X_valid_new)[:,1]\n",
    "                    \n",
    "            sgd_roc_auc_valid = roc_auc_score(y_valid, sgd.predict_proba(X_valid_new)[:,1])\n",
    "            \n",
    "             \n",
    "            #для гридсёча        \n",
    "            #res_sgd_df.loc[ii, 'i'] = i\n",
    "            #res_sgd_df.loc[ii, 'roc_auc_val'] = sgd_roc_auc_valid\n",
    "            #res_sgd_df.loc[ii, 'n_iter'] = n_iter\n",
    "            #res_sgd_df.loc[ii, 'alpha'] = alpha\n",
    "            #ii += 1\n",
    "            \n",
    "            sgd_roc_auc_train = roc_auc_score(y_train, sgd.predict_proba(X_train_new)[:,1])\n",
    "            print('{} sgd_roc_auc_valid  | {} sgd_roc_auc_train'.format(sgd_roc_auc_valid, sgd_roc_auc_train))               \n",
    "            # print('{} sgd_roc_auc_valid  | i={} loss={}, penalty={}, n_iter={}, alpha={}'.format(sgd_roc_auc_valid, i, loss, penalty, n_iter, alpha))\n",
    "\n",
    "    roc_auc_val_cv.append(sgd_roc_auc_valid)\n",
    "    roc_auc_tr_cv.append(sgd_roc_auc_valid)  \n",
    "    \n",
    "    # Модель LogisticRegression\n",
    "          \n",
    "    for c in Cs:\n",
    "        logit = LogisticRegression(n_jobs=-1, class_weight='balanced', random_state=1, C=c)\n",
    "        logit.fit(X_train_new, y_train)\n",
    "        pred_logit = logit.predict_proba(X_valid_new)[:,1]\n",
    "                    \n",
    "        logit_roc_auc_valid = roc_auc_score(y_valid, logit.predict_proba(X_valid_new)[:,1])\n",
    "        logit_roc_auc_train = roc_auc_score(y_train, logit.predict_proba(X_train_new)[:,1])\n",
    "          \n",
    "        print('{} logit_roc_auc_valid  | {} logit_roc_auc_train | {} C'.format(logit_roc_auc_valid, logit_roc_auc_train, c))\n",
    "        \n",
    "        \n",
    "                \n",
    "        # для гридсёча\n",
    "        res_df.loc[ii, 'i'] = i\n",
    "        res_df.loc[ii, 'roc_auc_val'] = logit_roc_auc_valid\n",
    "        #res_df.loc[ii, 'n_iter'] = n_iter\n",
    "        res_df.loc[ii, 'C'] = c\n",
    "        ii += 1\n",
    "            \n",
    "    roc_auc_val_logit.append(logit_roc_auc_valid)\n",
    "    roc_auc_tr_logit.append(logit_roc_auc_valid)\n",
    "\n",
    "    \"\"\"\n",
    "    i += 1\n",
    "# Результат по vy greed сv result_df['mean'].max(), argmax(result_df['mean'])\n",
    "result_df = res_df.groupby(['C'])['roc_auc_val'].agg(['mean', 'std'])\n",
    "best_result_ = result_df['mean'].max()\n",
    "best_params_ = argmax(result_df['mean'])\n",
    "best_std_ = result_df.loc[result_df['mean']==best_result_, 'std']\n",
    "print ('{} best_result_, {}  best_params_ C'.format(best_result_, best_params_))        \n",
    "        \n",
    "\"\"\"\n",
    "    \n",
    "    \n",
    "    \n",
    "    # Ансамбль\n",
    "    for m in Ms:\n",
    "        a_pred_val = pred_logit * (1 - m) + pred_sgd * m\n",
    "        a_pred_tr = (logit.predict_proba(X_train_new)[:,1])* (1 - m)  + (sgd.predict_proba(X_train_new)[:,1]) * m\n",
    "        a_roc_auc_valid = roc_auc_score(y_valid, a_pred_val)\n",
    "        a_roc_auc_train = roc_auc_score(y_train, a_pred_tr)\n",
    "        print('{} a_roc_auc_valid  | {} a_roc_auc_train | {} M'.format(a_roc_auc_valid, a_roc_auc_train, m))\n",
    "        \n",
    "        # для гридсёча\n",
    "        res_df.loc[ii, 'i'] = i\n",
    "        res_df.loc[ii, 'roc_auc_val'] = a_roc_auc_valid\n",
    "        #res_df.loc[ii, 'n_iter'] = n_iter\n",
    "        res_df.loc[ii, 'M'] = m\n",
    "        ii += 1\n",
    "    i += 1\n",
    "    \n",
    "         \n",
    "# постобработка\n",
    "\n",
    "if post != 0:\n",
    "    X_valid['Prediction'] = a_pred_val\n",
    "        \n",
    "    #X_valid.loc[X_valid.Word.str.split().str.len()>1, 'Prediction'] = 0\n",
    "                \n",
    "    # test isin train = train target\n",
    "    X_valid.loc[(X_valid.Word.isin(l_w_train)), 'Prediction'] = X_valid.loc[(X_valid.Word.isin(l_w_train)), 'Word'].map(dict_train)\n",
    "        \n",
    "    roc_auc_valid_post = roc_auc_score(y_valid, X_valid.Prediction)\n",
    "    print('{} roc_auc_valid_post'.format(roc_auc_valid_post))\n",
    "\n",
    "\n",
    "# Результат по vy greed сv result_df['mean'].max(), argmax(result_df['mean'])\n",
    "\n",
    "result_df = res_df.groupby(['M'])['roc_auc_val'].agg(['mean', 'std'])\n",
    "best_result_ = result_df['mean'].max()\n",
    "best_params_ = argmax(result_df['mean'])\n",
    "best_std_ = result_df.loc[result_df['mean']==best_result_, 'std']\n",
    "print ('{} best_result_, {}  best_params_ M'.format(best_result_, best_params_))\n",
    "         \n"
   ]
  },
  {
   "cell_type": "markdown",
   "metadata": {},
   "source": [
    "## Baseline 0 prediction = df_test.is_fst_upper"
   ]
  },
  {
   "cell_type": "code",
   "execution_count": 178,
   "metadata": {
    "collapsed": true
   },
   "outputs": [],
   "source": [
    "# df_test['Prediction'] = df_test.is_fst_upper\n",
    "\n",
    "# ROC_AUC is_fst_upper\n",
    "# valid       public \n",
    "# 0.740452    0.73708"
   ]
  },
  {
   "cell_type": "markdown",
   "metadata": {},
   "source": [
    "# Submition"
   ]
  },
  {
   "cell_type": "code",
   "execution_count": 143,
   "metadata": {
    "collapsed": true
   },
   "outputs": [],
   "source": [
    "feat_to_model = ['Word', 'ch_list', 'is_fst_upper','is_all_upper', 'is_only_fst_upper',\n",
    "       'len_w', 'log_len_w', 'group_len_w', 'group_len_upper', 'dubl_2target',\n",
    "       'log_nvowels', 'log_nconsonants', 'is_name', 'is_name_stem',\n",
    "       'is_surname', 'is_surn_stem', 'natasha_pers']"
   ]
  },
  {
   "cell_type": "code",
   "execution_count": 144,
   "metadata": {},
   "outputs": [
    {
     "data": {
      "text/plain": [
       "((101408, 17), (101408,), (188920, 17))"
      ]
     },
     "execution_count": 144,
     "metadata": {},
     "output_type": "execute_result"
    }
   ],
   "source": [
    "col_target = 'Label' \n",
    "X_train = df_train[feat_to_model]\n",
    "X_test = df_test[feat_to_model]\n",
    "y_train = df_train[col_target] \n",
    "X_train.shape, y_train.shape, X_test.shape"
   ]
  },
  {
   "cell_type": "code",
   "execution_count": 145,
   "metadata": {},
   "outputs": [
    {
     "name": "stdout",
     "output_type": "stream",
     "text": [
      " 0.9598800939831624 sgd_roc_auc_train\n",
      " 0.9841924917072734 logit_roc_auc_train\n",
      "0.9830801424167318 a_roc_auc_train | 0.1 M\n",
      "(188920,)\n",
      "0.9830801424167318 ens roc_auc_train\n"
     ]
    }
   ],
   "source": [
    "\"\"\"\n",
    "LOGIT\n",
    "\n",
    "\"\"\"\n",
    "\n",
    "\n",
    "cat_feats = ['is_fst_upper','is_all_upper', 'is_only_fst_upper', 'group_len_w', 'group_len_upper', 'dubl_2target', 'is_name', 'is_name_stem', 'is_surn_stem']\n",
    "num_feats = ['log_len_w', 'is_surname', 'log_nvowels', 'log_nconsonants'] #, \n",
    "bi_col = [] \n",
    "\n",
    "\n",
    "cols = ['i', 'roc_auc_val', 'loss', 'penalty', 'n_iter', 'alpha']\n",
    "res_sgd_df = pd.DataFrame()\n",
    "res_df = pd.DataFrame()\n",
    "result_df = pd.DataFrame()\n",
    "\n",
    "\n",
    "roc_auc_tr_cv = []\n",
    "roc_auc_tr_logit =[]\n",
    "RS=1024\n",
    "post = 0 # Флаг постобработки\n",
    "roc_auc_valid_post = 0\n",
    "\n",
    "l_w_train = df_train['Word'].tolist()\n",
    "dict_train = df_train.loc[df_train['Word'].drop_duplicates(keep='first').index,['Word', 'Label']].set_index('Word').to_dict()['Label'] # ! 1й дубликат правильный\n",
    "l_xtrain = []\n",
    "l_xvalid = []\n",
    "i = 0  # # папки валидации\n",
    "ii = 0\n",
    "\n",
    "Ms = [0.1] \n",
    "Cs = [0.95]\n",
    "\n",
    "greed_search_params_sgd = {\n",
    "    'loss' : ['log'],\n",
    "    'penalty' : ['l2'], \n",
    "    'n_iter' : [7], \n",
    "    'alpha' :  [0.00005] \n",
    "}\n",
    "\n",
    "# Кодирование категориальных средним таргетом\n",
    "\n",
    "num_col = []\n",
    "    \n",
    "#train_mean_target, test_mean_target, feats_new = mean_target_enc(X_train, X_test, y_train, cat_feats, alpha=10)\n",
    "num_col = feats_new + num_feats\n",
    "    \n",
    "# окончания\n",
    "vectorizer_ch_l = TfidfVectorizer(min_df=3)\n",
    "X_train_ch_l = vectorizer_ch_l.fit_transform(X_train.ch_list)\n",
    "X_test_ch_l = vectorizer_ch_l.transform(X_test.ch_list)\n",
    "        \n",
    "# chars\n",
    "vectorizer_ch = TfidfVectorizer(analyzer='char', min_df=3, ngram_range=(1, 5), lowercase=False)\n",
    "X_train_ch = vectorizer_ch.fit_transform(X_train.Word)\n",
    "X_test_ch = vectorizer_ch.transform(X_test.Word)\n",
    "    \n",
    "# numerical - to Scaler\n",
    "scaler = StandardScaler()\n",
    "X_train_scale = scaler.fit_transform(train_mean_target[num_col])\n",
    "X_test_scale = scaler.transform(test_mean_target[num_col])\n",
    "    \n",
    "#X_train_bi = X_train[bi_col].\n",
    "X_train_bi = np.array(X_train[bi_col])\n",
    "X_test_bi = np.array(X_test[bi_col])\n",
    "    \n",
    "# Соединяем матрицы\n",
    "X_train_new = scipy.sparse.hstack([X_train_ch, X_train_ch_l, X_train_bi, X_train_scale]) \n",
    "X_test_new = scipy.sparse.hstack([X_test_ch, X_test_ch_l, X_test_bi, X_test_scale])    \n",
    "\n",
    "# Модель SGDC\n",
    "for n_iter in greed_search_params_sgd['n_iter']:\n",
    "    for alpha in greed_search_params_sgd['alpha']:\n",
    "        sgd = SGDC(random_state=RS, n_jobs=-1, shuffle=True, class_weight='balanced',\\\n",
    "                   loss='log', penalty='l2', alpha=alpha, n_iter=n_iter)\n",
    "        sgd.fit(X_train_new, y_train) \n",
    "        pred_sgd = sgd.predict_proba(X_test_new)[:,1]\n",
    "                    \n",
    "        sgd_roc_auc_train = roc_auc_score(y_train, sgd.predict_proba(X_train_new)[:,1])\n",
    "        print(' {} sgd_roc_auc_train'.format( sgd_roc_auc_train))               \n",
    "\n",
    "    \n",
    "# Модель LogisticRegression\n",
    "for c in Cs:\n",
    "    logit = LogisticRegression(n_jobs=-1, class_weight='balanced', random_state=1, C=c)\n",
    "    logit.fit(X_train_new, y_train)\n",
    "    pred_logit = logit.predict_proba(X_test_new)[:,1]\n",
    "                    \n",
    "    logit_roc_auc_train = roc_auc_score(y_train, logit.predict_proba(X_train_new)[:,1])\n",
    "    print(' {} logit_roc_auc_train'.format(logit_roc_auc_train))        \n",
    "   \n",
    "    \n",
    "# Ансамбль\n",
    "for m in Ms:\n",
    "    a_pred_val = pred_logit * (1 - m) + pred_sgd * m\n",
    "    a_pred_tr = (logit.predict_proba(X_train_new)[:,1])* (1 - m)  + (sgd.predict_proba(X_train_new)[:,1]) * m\n",
    "    a_roc_auc_train = roc_auc_score(y_train, a_pred_tr)\n",
    "    print('{} a_roc_auc_train | {} M'.format(a_roc_auc_train, m))\n",
    "    print(a_pred_val.shape)   \n",
    "\n",
    "X_test['Prediction'] = a_pred_val                 \n",
    "# постобработка\n",
    "if post != 0:\n",
    "                        \n",
    "    # test isin train = train target\n",
    "    X_test.loc[(X_test.Word.isin(l_w_train)), 'Prediction'] = X_test.loc[(X_test.Word.isin(l_w_train)), 'Word'].map(dict_train)\n",
    "        \n",
    "print('{} ens roc_auc_train'.format(a_roc_auc_train))\n",
    "\n",
    "# public    Valid           Train\n",
    "# 0.92295 0.9411083048313419 0.9830875988335098 Sub16\n",
    "# 0.92287 0.9420304882309133 0.9830801424167318 Sub19\n",
    "# 0.92455 0.9420304882309133 0.9420304882309133 Sub21 испр. ошибка"
   ]
  },
  {
   "cell_type": "code",
   "execution_count": 129,
   "metadata": {},
   "outputs": [],
   "source": [
    "ind = array(range(X_test.shape[0]))\n",
    "preds = X_test.copy()# .drop('Word', axis=1) #, inplace=True)\n",
    "preds['Id'] = preds.index\n",
    "preds = preds[['Id', 'Prediction']]"
   ]
  },
  {
   "cell_type": "code",
   "execution_count": 130,
   "metadata": {},
   "outputs": [
    {
     "data": {
      "text/html": [
       "<div>\n",
       "<style scoped>\n",
       "    .dataframe tbody tr th:only-of-type {\n",
       "        vertical-align: middle;\n",
       "    }\n",
       "\n",
       "    .dataframe tbody tr th {\n",
       "        vertical-align: top;\n",
       "    }\n",
       "\n",
       "    .dataframe thead th {\n",
       "        text-align: right;\n",
       "    }\n",
       "</style>\n",
       "<table border=\"1\" class=\"dataframe\">\n",
       "  <thead>\n",
       "    <tr style=\"text-align: right;\">\n",
       "      <th></th>\n",
       "      <th>Id</th>\n",
       "      <th>Prediction</th>\n",
       "    </tr>\n",
       "  </thead>\n",
       "  <tbody>\n",
       "    <tr>\n",
       "      <th>0</th>\n",
       "      <td>0</td>\n",
       "      <td>0.907132</td>\n",
       "    </tr>\n",
       "    <tr>\n",
       "      <th>1</th>\n",
       "      <td>1</td>\n",
       "      <td>0.643041</td>\n",
       "    </tr>\n",
       "    <tr>\n",
       "      <th>2</th>\n",
       "      <td>2</td>\n",
       "      <td>0.539289</td>\n",
       "    </tr>\n",
       "    <tr>\n",
       "      <th>3</th>\n",
       "      <td>3</td>\n",
       "      <td>0.158828</td>\n",
       "    </tr>\n",
       "    <tr>\n",
       "      <th>4</th>\n",
       "      <td>4</td>\n",
       "      <td>0.529011</td>\n",
       "    </tr>\n",
       "  </tbody>\n",
       "</table>\n",
       "</div>"
      ],
      "text/plain": [
       "   Id  Prediction\n",
       "0   0    0.907132\n",
       "1   1    0.643041\n",
       "2   2    0.539289\n",
       "3   3    0.158828\n",
       "4   4    0.529011"
      ]
     },
     "execution_count": 130,
     "metadata": {},
     "output_type": "execute_result"
    }
   ],
   "source": [
    "preds[:5]"
   ]
  },
  {
   "cell_type": "code",
   "execution_count": 131,
   "metadata": {},
   "outputs": [
    {
     "data": {
      "text/plain": [
       "(188920, 2)"
      ]
     },
     "execution_count": 131,
     "metadata": {},
     "output_type": "execute_result"
    }
   ],
   "source": [
    "preds.shape"
   ]
  },
  {
   "cell_type": "code",
   "execution_count": 132,
   "metadata": {},
   "outputs": [
    {
     "data": {
      "text/plain": [
       "(188920, 17)"
      ]
     },
     "execution_count": 132,
     "metadata": {},
     "output_type": "execute_result"
    }
   ],
   "source": [
    "df_test.shape"
   ]
  },
  {
   "cell_type": "code",
   "execution_count": 133,
   "metadata": {
    "collapsed": true
   },
   "outputs": [],
   "source": [
    "def write_submission(preds, number_sub, index=False, header=True):\n",
    "    \n",
    "    preds = pd.DataFrame(preds)\n",
    "    output = PTSUB + 'submition_' + str(number_sub) + '.csv'\n",
    "    preds.to_csv(output, index=index, header=header)\n",
    "    print('Sub ', number_sub, ' in ', output)"
   ]
  },
  {
   "cell_type": "code",
   "execution_count": 146,
   "metadata": {
    "collapsed": true
   },
   "outputs": [],
   "source": [
    "number_sub = 19"
   ]
  },
  {
   "cell_type": "code",
   "execution_count": 147,
   "metadata": {},
   "outputs": [
    {
     "name": "stdout",
     "output_type": "stream",
     "text": [
      "Sub  19  in  ../../data/surnames/sub/submition_19.csv\n"
     ]
    }
   ],
   "source": [
    "write_submission(preds, number_sub)"
   ]
  }
 ],
 "metadata": {
  "anaconda-cloud": {},
  "kernelspec": {
   "display_name": "Python 3",
   "language": "python",
   "name": "python3"
  },
  "language_info": {
   "codemirror_mode": {
    "name": "ipython",
    "version": 3
   },
   "file_extension": ".py",
   "mimetype": "text/x-python",
   "name": "python",
   "nbconvert_exporter": "python",
   "pygments_lexer": "ipython3",
   "version": "3.6.4"
  },
  "toc": {
   "nav_menu": {
    "height": "279px",
    "width": "252px"
   },
   "number_sections": true,
   "sideBar": true,
   "skip_h1_title": false,
   "title_cell": "Table of Contents",
   "title_sidebar": "Contents",
   "toc_cell": true,
   "toc_position": {
    "height": "939px",
    "left": "0px",
    "right": "1708px",
    "top": "108px",
    "width": "212px"
   },
   "toc_section_display": "block",
   "toc_window_display": true
  }
 },
 "nbformat": 4,
 "nbformat_minor": 1
}
