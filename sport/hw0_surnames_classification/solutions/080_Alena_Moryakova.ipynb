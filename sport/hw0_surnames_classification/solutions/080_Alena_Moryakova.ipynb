{
 "cells": [
  {
   "cell_type": "code",
   "execution_count": 1,
   "metadata": {},
   "outputs": [],
   "source": [
    "# Libraries importing\n",
    "import pandas as pd\n",
    "import numpy as np\n",
    "import matplotlib.pyplot as plt, matplotlib.image as mpimg\n",
    "from sklearn.model_selection import train_test_split\n",
    "from sklearn import svm\n",
    "from sklearn.neighbors import KNeighborsClassifier\n",
    "%matplotlib inline\n",
    "from collections import Counter\n",
    "from sklearn.metrics import accuracy_score\n",
    "import pymorphy2\n",
    "import seaborn as sns\n",
    "from sklearn.linear_model import LogisticRegression\n",
    "from sklearn import ensemble\n",
    "from xgboost.sklearn import XGBClassifier\n",
    "from sklearn.utils import shuffle\n"
   ]
  },
  {
   "cell_type": "code",
   "execution_count": 10,
   "metadata": {},
   "outputs": [],
   "source": [
    "test_data = pd.read_csv('data/test.csv')\n",
    "data = pd.read_csv('data/train.csv')"
   ]
  },
  {
   "cell_type": "code",
   "execution_count": 11,
   "metadata": {
    "scrolled": true
   },
   "outputs": [],
   "source": [
    "def count_vowels(s):\n",
    "    count = 0\n",
    "    vowels = set(\"аеёиоуыэюя\")\n",
    "    for letter in s:\n",
    "        if letter in vowels:\n",
    "            count += 1\n",
    "    return count\n",
    "\n",
    "morph = pymorphy2.MorphAnalyzer()\n",
    "\n",
    "data['upper']=data['Word'].apply(lambda x: 1 if x[0].isupper() else 0)\n",
    "data['all_upper']=data['Word'].apply(lambda x: 1 if x.isupper() else 0)\n",
    "\n",
    "data['Word'] = data['Word'].apply(lambda x: morph.parse(x)[0].normal_form)\n",
    "\n",
    "c = Counter(data[data['Label']==1]['Word'].apply(lambda x: x[-3:].lower()))\n",
    "surname_endings_list=[]\n",
    "for word, count in c.most_common(200):\n",
    "    surname_endings_list.append(word)\n",
    "    \n",
    "c = Counter(data[data['Label']==1]['Word'].apply(lambda x: x[-2:].lower()))\n",
    "surname_endings_list_2=[]\n",
    "for word, count in c.most_common(200):\n",
    "    surname_endings_list_2.append(word)\n",
    "\n",
    "data['letters_count']=data['Word'].apply(lambda x: len(x))\n",
    "\n",
    "data['vowels_count'] = data['Word'].apply(lambda x: count_vowels(x))\n",
    "data['consonants_count'] = data['letters_count'] - data['vowels_count']\n",
    "\n",
    "    \n",
    "data['surname_ending']=data['Word'].apply(lambda x: 1 if x[-3:] in surname_endings_list else 0)\n",
    "data['surname_ending_2']=data['Word'].apply(lambda x: 1 if x[-2:] in surname_endings_list_2 else 0)\n"
   ]
  },
  {
   "cell_type": "code",
   "execution_count": 12,
   "metadata": {},
   "outputs": [
    {
     "name": "stderr",
     "output_type": "stream",
     "text": [
      "/home/alena/.local/lib/python3.5/site-packages/sklearn/model_selection/_split.py:2026: FutureWarning: From version 0.21, test_size will always complement train_size unless both are specified.\n",
      "  FutureWarning)\n"
     ]
    }
   ],
   "source": [
    "d = data.drop(['Word', 'Label'], axis=1)\n",
    "labels = data.iloc[0:,1:2]\n",
    "\n",
    "train_words, test_words,train_labels, test_labels = train_test_split(d,labels, \n",
    "                                                                         train_size=0.8, random_state=0)"
   ]
  },
  {
   "cell_type": "code",
   "execution_count": 19,
   "metadata": {},
   "outputs": [],
   "source": [
    "test_data = pd.read_csv('data/test.csv')\n",
    "\n",
    "test_data['upper']=test_data['\\ufeffWord'].apply(lambda x: 1 if x[0].isupper() else 0)\n",
    "test_data['all_upper']=test_data['\\ufeffWord'].apply(lambda x: 1 if x.isupper() else 0)\n",
    "\n",
    "test_data['\\ufeffWord'] = test_data['\\ufeffWord'].apply(lambda x: morph.parse(x)[0].normal_form)\n",
    "\n",
    "test_data['letters_count']=test_data['\\ufeffWord'].apply(lambda x: len(x))\n",
    "\n",
    "test_data['vowels_count'] = test_data['\\ufeffWord'].apply(lambda x: count_vowels(x))\n",
    "test_data['consonants_count'] = test_data['letters_count'] - test_data['vowels_count']\n",
    "\n",
    "    \n",
    "test_data['surname_ending']=test_data['\\ufeffWord'].apply(lambda x: 1 if x[-3:] in surname_endings_list else 0)\n",
    "test_data['surname_ending_2']=test_data['\\ufeffWord'].apply(lambda x: 1 if x[-2:] in surname_endings_list_2 else 0)\n",
    "\n",
    "t_data = test_data\n",
    "\n",
    "t_data = t_data.drop(['\\ufeffWord'], axis=1)"
   ]
  },
  {
   "cell_type": "code",
   "execution_count": 14,
   "metadata": {},
   "outputs": [
    {
     "name": "stdout",
     "output_type": "stream",
     "text": [
      "0.8936222665976382\n",
      "0.8911349965486638\n"
     ]
    }
   ],
   "source": [
    "knn = KNeighborsClassifier()\n",
    "\n",
    "#i = 6\n",
    "#train_words, test_words,train_labels, test_labels = train_test_split(d.iloc[i * 10140:(i + 1) * 10140], labels.iloc[i * 10140:(i + 1) * 10140], \n",
    "#                                                                         train_size=0.8, random_state=0)\n",
    "\n",
    "knn.fit(train_words, train_labels.values.ravel())\n",
    "train_labels_predict = knn.predict(train_words)\n",
    "test_labels_predict = knn.predict(test_words)\n",
    "\n",
    "\n",
    "print(accuracy_score(train_labels,train_labels_predict))\n",
    "print(accuracy_score(test_labels,test_labels_predict))"
   ]
  },
  {
   "cell_type": "code",
   "execution_count": 22,
   "metadata": {},
   "outputs": [],
   "source": [
    "def func(row):\n",
    "  return 1 if row['\\ufeffWord'] in surnames else row['Label']\n",
    "\n",
    "predictions=knn.predict_proba(t_data)\n",
    "test_data['Label'] = predictions[:,1]\n",
    "surnames=data[data['Label']==1]['Word'].tolist()\n",
    "test_data['Label']=test_data.apply(func, axis = 1)\n",
    "prediction = pd.DataFrame(test_data).to_csv('prediction.csv')"
   ]
  }
 ],
 "metadata": {
  "kernelspec": {
   "display_name": "Python 3",
   "language": "python",
   "name": "python3"
  },
  "language_info": {
   "codemirror_mode": {
    "name": "ipython",
    "version": 3
   },
   "file_extension": ".py",
   "mimetype": "text/x-python",
   "name": "python",
   "nbconvert_exporter": "python",
   "pygments_lexer": "ipython3",
   "version": "3.5.2"
  }
 },
 "nbformat": 4,
 "nbformat_minor": 2
}
