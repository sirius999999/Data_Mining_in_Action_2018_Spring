{
  "nbformat": 4,
  "nbformat_minor": 0,
  "metadata": {
    "colab": {
      "name": "DMIA Sport surnames.ipynb",
      "version": "0.3.2",
      "views": {},
      "default_view": {},
      "provenance": [],
      "collapsed_sections": []
    },
    "kernelspec": {
      "name": "python3",
      "display_name": "Python 3"
    },
    "accelerator": "GPU"
  },
  "cells": [
    {
      "metadata": {
        "id": "xDX8mi4hC3Th",
        "colab_type": "code",
        "colab": {
          "autoexec": {
            "startup": false,
            "wait_interval": 0
          }
        }
      },
      "cell_type": "code",
      "source": [
        "# Install a Drive FUSE wrapper.\n",
        "# https://github.com/astrada/google-drive-ocamlfuse\n",
        "!apt-get install -y -qq software-properties-common python-software-properties module-init-tools\n",
        "!add-apt-repository -y ppa:alessandro-strada/ppa 2>&1 > /dev/null\n",
        "!apt-get update -qq 2>&1 > /dev/null\n",
        "!apt-get -y install -qq google-drive-ocamlfuse fuse"
      ],
      "execution_count": 0,
      "outputs": []
    },
    {
      "metadata": {
        "id": "vrw0Wi_UGwT9",
        "colab_type": "code",
        "colab": {
          "autoexec": {
            "startup": false,
            "wait_interval": 0
          }
        }
      },
      "cell_type": "code",
      "source": [
        "# Generate auth tokens for Colab\n",
        "from google.colab import auth\n",
        "auth.authenticate_user()"
      ],
      "execution_count": 0,
      "outputs": []
    },
    {
      "metadata": {
        "id": "uwrT7GGTGyhv",
        "colab_type": "code",
        "colab": {
          "autoexec": {
            "startup": false,
            "wait_interval": 0
          }
        }
      },
      "cell_type": "code",
      "source": [
        "# Generate creds for the Drive FUSE library.\n",
        "from oauth2client.client import GoogleCredentials\n",
        "creds = GoogleCredentials.get_application_default()\n",
        "import getpass\n",
        "!google-drive-ocamlfuse -headless -id={creds.client_id} -secret={creds.client_secret} < /dev/null 2>&1 | grep URL\n",
        "vcode = getpass.getpass()\n",
        "!echo {vcode} | google-drive-ocamlfuse -headless -id={creds.client_id} -secret={creds.client_secret}"
      ],
      "execution_count": 0,
      "outputs": []
    },
    {
      "metadata": {
        "id": "SFnUB4QsG1Zu",
        "colab_type": "code",
        "colab": {
          "autoexec": {
            "startup": false,
            "wait_interval": 0
          }
        }
      },
      "cell_type": "code",
      "source": [
        "# Create a directory and mount Google Drive using that directory.\n",
        "!mkdir -p drive\n",
        "!google-drive-ocamlfuse drive"
      ],
      "execution_count": 0,
      "outputs": []
    },
    {
      "metadata": {
        "id": "cQn56Ki-EPex",
        "colab_type": "code",
        "colab": {
          "autoexec": {
            "startup": false,
            "wait_interval": 0
          }
        }
      },
      "cell_type": "code",
      "source": [
        "print('Files in Drive:')\n",
        "!ls drive/"
      ],
      "execution_count": 0,
      "outputs": []
    },
    {
      "metadata": {
        "id": "w5AeDS_0CZnh",
        "colab_type": "code",
        "colab": {
          "autoexec": {
            "startup": false,
            "wait_interval": 0
          }
        }
      },
      "cell_type": "code",
      "source": [
        "# https://github.com/dmlc/xgboost\n",
        "# This specific version is a work-around for a build issue in newer versions.\n",
        "!pip install -q xgboost==0.4a30\n",
        "import xgboost"
      ],
      "execution_count": 0,
      "outputs": []
    },
    {
      "metadata": {
        "id": "JuTBjq_Le2yV",
        "colab_type": "code",
        "colab": {
          "autoexec": {
            "startup": false,
            "wait_interval": 0
          },
          "output_extras": [
            {
              "item_id": 30
            }
          ],
          "base_uri": "https://localhost:8080/",
          "height": 768
        },
        "outputId": "e0012cb4-40d3-4d53-9d2a-94c1fe94f027",
        "executionInfo": {
          "status": "ok",
          "timestamp": 1519380804997,
          "user_tz": -180,
          "elapsed": 13449,
          "user": {
            "displayName": "Jamshid Ruziev",
            "photoUrl": "https://lh3.googleusercontent.com/a/default-user=s128",
            "userId": "110429054425049133435"
          }
        }
      },
      "cell_type": "code",
      "source": [
        "!pip install pymorphy2\n",
        "!pip install pymystem3\n",
        "!pip install natasha"
      ],
      "execution_count": 113,
      "outputs": [
        {
          "output_type": "stream",
          "text": [
            "Requirement already satisfied: pymorphy2 in /usr/local/lib/python3.6/dist-packages\r\n",
            "Requirement already satisfied: pymorphy2-dicts<3.0,>=2.4 in /usr/local/lib/python3.6/dist-packages (from pymorphy2)\r\n",
            "Requirement already satisfied: docopt>=0.6 in /usr/local/lib/python3.6/dist-packages (from pymorphy2)\n",
            "Requirement already satisfied: dawg-python>=0.7 in /usr/local/lib/python3.6/dist-packages (from pymorphy2)\n",
            "Collecting pymystem3\n",
            "  Downloading pymystem3-0.1.9.tar.gz\n",
            "Requirement already satisfied: requests in /usr/local/lib/python3.6/dist-packages (from pymystem3)\n",
            "Requirement already satisfied: urllib3<1.23,>=1.21.1 in /usr/local/lib/python3.6/dist-packages (from requests->pymystem3)\n",
            "Requirement already satisfied: certifi>=2017.4.17 in /usr/local/lib/python3.6/dist-packages (from requests->pymystem3)\n",
            "Requirement already satisfied: idna<2.7,>=2.5 in /usr/local/lib/python3.6/dist-packages (from requests->pymystem3)\n",
            "Requirement already satisfied: chardet<3.1.0,>=3.0.2 in /usr/local/lib/python3.6/dist-packages (from requests->pymystem3)\n",
            "Building wheels for collected packages: pymystem3\n",
            "  Running setup.py bdist_wheel for pymystem3 ... \u001b[?25l-\b \b\\\b \b|\b \b/\b \b-\b \bdone\n",
            "\u001b[?25h  Stored in directory: /content/.cache/pip/wheels/3e/10/f5/e54d2cc166cfa6f36ab46004a11d9a346635af69e1ac05cba7\n",
            "Successfully built pymystem3\n",
            "Installing collected packages: pymystem3\n",
            "Successfully installed pymystem3-0.1.9\n",
            "Collecting natasha\n",
            "  Downloading natasha-0.8.0-py2.py3-none-any.whl (795kB)\n",
            "\u001b[K    100% |████████████████████████████████| 798kB 1.3MB/s \n",
            "\u001b[?25hCollecting yargy (from natasha)\n",
            "  Downloading yargy-0.9.0-py2.py3-none-any.whl\n",
            "Collecting intervaltree==2.1.0 (from yargy->natasha)\n",
            "  Downloading intervaltree-2.1.0.tar.gz\n",
            "Requirement already satisfied: pymorphy2==0.8 in /usr/local/lib/python3.6/dist-packages (from yargy->natasha)\n",
            "Collecting jellyfish==0.5.6 (from yargy->natasha)\n",
            "  Downloading jellyfish-0.5.6.tar.gz (132kB)\n",
            "\u001b[K    100% |████████████████████████████████| 133kB 4.1MB/s \n",
            "\u001b[?25hCollecting backports.functools-lru-cache==1.3 (from yargy->natasha)\n",
            "  Downloading backports.functools_lru_cache-1.3-py2.py3-none-any.whl\n",
            "Collecting sortedcontainers (from intervaltree==2.1.0->yargy->natasha)\n",
            "  Downloading sortedcontainers-1.5.9-py2.py3-none-any.whl\n",
            "Requirement already satisfied: docopt>=0.6 in /usr/local/lib/python3.6/dist-packages (from pymorphy2==0.8->yargy->natasha)\n",
            "Requirement already satisfied: dawg-python>=0.7 in /usr/local/lib/python3.6/dist-packages (from pymorphy2==0.8->yargy->natasha)\n",
            "Requirement already satisfied: pymorphy2-dicts<3.0,>=2.4 in /usr/local/lib/python3.6/dist-packages (from pymorphy2==0.8->yargy->natasha)\n",
            "Building wheels for collected packages: intervaltree, jellyfish\n",
            "  Running setup.py bdist_wheel for intervaltree ... \u001b[?25l-\b \b\\\b \bdone\n",
            "\u001b[?25h  Stored in directory: /content/.cache/pip/wheels/89/40/01/fa05b5a8202a472fb143815e7589fdf74369e710ca675cad11\n",
            "  Running setup.py bdist_wheel for jellyfish ... \u001b[?25l-\b \b\\\b \b|\b \b/\b \b-\b \b\\\b \b|\b \b/\b \bdone\n",
            "\u001b[?25h  Stored in directory: /content/.cache/pip/wheels/0f/a8/f6/3c2f1675f6a60367a113203470a21398c178d5145df7e68d24\n",
            "Successfully built intervaltree jellyfish\n",
            "Installing collected packages: sortedcontainers, intervaltree, jellyfish, backports.functools-lru-cache, yargy, natasha\n",
            "Successfully installed backports.functools-lru-cache-1.3 intervaltree-2.1.0 jellyfish-0.5.6 natasha-0.8.0 sortedcontainers-1.5.9 yargy-0.9.0\n"
          ],
          "name": "stdout"
        }
      ]
    },
    {
      "metadata": {
        "id": "J8ArkvyrB0pi",
        "colab_type": "code",
        "colab": {
          "autoexec": {
            "startup": false,
            "wait_interval": 0
          }
        }
      },
      "cell_type": "code",
      "source": [
        "import xgboost as xgb\n",
        "from xgboost import plot_importance\n",
        "\n",
        "import numpy as np\n",
        "import pandas as pd\n",
        "import scipy\n",
        "\n",
        "from sklearn.preprocessing import StandardScaler, LabelEncoder\n",
        "\n",
        "import matplotlib.pyplot as plt\n",
        "%matplotlib inline\n",
        "\n",
        "from sklearn.feature_extraction.text import TfidfVectorizer, CountVectorizer\n",
        "from sklearn.linear_model import LogisticRegression\n",
        "from sklearn.preprocessing import normalize\n",
        "from sklearn.metrics import roc_auc_score\n",
        "from sklearn.model_selection import StratifiedKFold, cross_val_score, train_test_split\n",
        "from scipy.sparse import hstack\n",
        "import pymorphy2\n",
        "\n",
        "import pymystem3\n",
        "from natasha import NamesExtractor\n",
        "\n",
        "from sklearn.utils import resample\n",
        "\n",
        "from google.colab import files"
      ],
      "execution_count": 0,
      "outputs": []
    },
    {
      "metadata": {
        "id": "HA1NU8-CCYHz",
        "colab_type": "code",
        "colab": {
          "autoexec": {
            "startup": false,
            "wait_interval": 0
          },
          "output_extras": [
            {
              "item_id": 1
            }
          ],
          "base_uri": "https://localhost:8080/",
          "height": 136
        },
        "outputId": "f3a62f3c-cfdb-4f9f-ed31-1787a59eba9f",
        "executionInfo": {
          "status": "ok",
          "timestamp": 1519375414738,
          "user_tz": -180,
          "elapsed": 3153,
          "user": {
            "displayName": "Jamshid Ruziev",
            "photoUrl": "https://lh3.googleusercontent.com/a/default-user=s128",
            "userId": "110429054425049133435"
          }
        }
      },
      "cell_type": "code",
      "source": [
        "df = pd.read_csv('drive/DMIA/train.csv')\n",
        "df.info()"
      ],
      "execution_count": 10,
      "outputs": [
        {
          "output_type": "stream",
          "text": [
            "<class 'pandas.core.frame.DataFrame'>\n",
            "RangeIndex: 101408 entries, 0 to 101407\n",
            "Data columns (total 2 columns):\n",
            "Word     101408 non-null object\n",
            "Label    101408 non-null int64\n",
            "dtypes: int64(1), object(1)\n",
            "memory usage: 1.5+ MB\n"
          ],
          "name": "stdout"
        }
      ]
    },
    {
      "metadata": {
        "id": "uRM6gCM2OvHL",
        "colab_type": "code",
        "colab": {
          "autoexec": {
            "startup": false,
            "wait_interval": 0
          }
        }
      },
      "cell_type": "code",
      "source": [
        "################\n",
        "\n",
        "################"
      ],
      "execution_count": 0,
      "outputs": []
    },
    {
      "metadata": {
        "id": "mPxlJySVIO0v",
        "colab_type": "code",
        "colab": {
          "autoexec": {
            "startup": false,
            "wait_interval": 0
          }
        }
      },
      "cell_type": "code",
      "source": [
        "df_train, df_val = train_test_split(df, test_size=0.1) # UPSAMPLING\n",
        "\n",
        "words_train = df_train['Word']\n",
        "y_train = df_train['Label'].as_matrix()\n",
        "\n",
        "words_val = df_val['Word']\n",
        "y_val = df_val['Label'].as_matrix()"
      ],
      "execution_count": 0,
      "outputs": []
    },
    {
      "metadata": {
        "id": "2SITmAz1kXWo",
        "colab_type": "code",
        "colab": {
          "autoexec": {
            "startup": false,
            "wait_interval": 0
          },
          "output_extras": [
            {
              "item_id": 1
            }
          ],
          "base_uri": "https://localhost:8080/",
          "height": 68
        },
        "outputId": "44c31353-58bb-436d-9dd9-dffd21b9f5fe",
        "executionInfo": {
          "status": "ok",
          "timestamp": 1519377546822,
          "user_tz": -180,
          "elapsed": 578,
          "user": {
            "displayName": "Jamshid Ruziev",
            "photoUrl": "https://lh3.googleusercontent.com/a/default-user=s128",
            "userId": "110429054425049133435"
          }
        }
      },
      "cell_type": "code",
      "source": [
        "df_train['Label'].value_counts()"
      ],
      "execution_count": 54,
      "outputs": [
        {
          "output_type": "execute_result",
          "data": {
            "text/plain": [
              "0    81676\n",
              "1     9591\n",
              "Name: Label, dtype: int64"
            ]
          },
          "metadata": {
            "tags": []
          },
          "execution_count": 54
        }
      ]
    },
    {
      "metadata": {
        "id": "Oe36eARKEKQM",
        "colab_type": "code",
        "colab": {
          "autoexec": {
            "startup": false,
            "wait_interval": 0
          },
          "output_extras": [
            {
              "item_id": 1
            }
          ],
          "base_uri": "https://localhost:8080/",
          "height": 68
        },
        "outputId": "ad0a5c7a-dce0-4d3e-e4d6-731794198eb9",
        "executionInfo": {
          "status": "ok",
          "timestamp": 1519332451523,
          "user_tz": -180,
          "elapsed": 580,
          "user": {
            "displayName": "Jamshid Ruziev",
            "photoUrl": "https://lh3.googleusercontent.com/a/default-user=s128",
            "userId": "110429054425049133435"
          }
        }
      },
      "cell_type": "code",
      "source": [
        "# UPSAMPLE\n",
        "\n",
        "df_majority = df_train[df_train.Label==0]\n",
        "df_minority = df_train[df_train.Label==1]\n",
        "\n",
        "df_minority_upsampled = resample(df_minority, \n",
        "                                 replace=True,     # sample with replacement\n",
        "                                 n_samples=81679,    # to match majority class\n",
        "                                 random_state=128) # reproducible results\n",
        " \n",
        "# Combine majority class with upsampled minority class\n",
        "# df_train = pd.concat([df_majority, df_minority_upsampled])\n",
        "\n",
        "print(df_train['Label'].value_counts())"
      ],
      "execution_count": 97,
      "outputs": [
        {
          "output_type": "stream",
          "text": [
            "0    81712\n",
            "1    81679\n",
            "Name: Label, dtype: int64\n"
          ],
          "name": "stdout"
        }
      ]
    },
    {
      "metadata": {
        "id": "3V9Kfz0RIRWy",
        "colab_type": "code",
        "colab": {
          "autoexec": {
            "startup": false,
            "wait_interval": 0
          }
        }
      },
      "cell_type": "code",
      "source": [
        "morph = pymorphy2.analyzer.MorphAnalyzer()\n",
        "\n",
        "def tfidf(vectorizer, words, train=True):\n",
        "  if train:\n",
        "    vectorized = vectorizer.fit_transform(words)\n",
        "  else:\n",
        "    vectorized = vectorizer.transform(words)\n",
        "  return vectorized\n",
        "\n",
        "def morph_is_surname(word):\n",
        "  return 'Surn' in ' '.join(' '.join(x.grammemes) for x in morph.tag(word))\n",
        "\n",
        "def hand_feats(word, include_endings=True):\n",
        "  mystem = pymystem3.Mystem()\n",
        "  def name_from_pymystem(word):\n",
        "      try:\n",
        "          return 1 if 'имя' in mystem.analyze(word)[0]['analysis'][0]['gr'].split(',') else 0\n",
        "      except:\n",
        "          return 0\n",
        "  def surn_from_pymystem(word):\n",
        "      try:\n",
        "          return 1 if 'фам' in mystem.analyze(word)[0]['analysis'][0]['gr'].split(',') else 0\n",
        "      except:\n",
        "          return 0\n",
        "  func = NamesExtractor()\n",
        "  def function_natasha(word):\n",
        "      return 1 if func(word) else 0\n",
        "\n",
        "  all_data = pd.DataFrame()\n",
        "  \n",
        "  all_data['natasha_person'] = word.apply(function_natasha)\n",
        "  all_data['name_from_pymystem'] = word.apply(name_from_pymystem)\n",
        "  all_data['surn_from_pymystem'] = word.apply(surn_from_pymystem)\n",
        "  \n",
        "  all_data['pymorphy'] = word.apply(lambda x: morph.tag(x)[0])\n",
        "  all_data['pymorphy_animacy'] = all_data['pymorphy'].apply(lambda x: x.animacy)\n",
        "  all_data['pymorphy_POS'] = all_data['pymorphy'].apply(lambda x: x.POS)\n",
        "  all_data['pymorphy_case'] = all_data['pymorphy'].apply(lambda x: x.case)\n",
        "  all_data['pymorphy_number'] = all_data['pymorphy'].apply(lambda x: x.number)\n",
        "  all_data['pymorphy_gender'] = all_data['pymorphy'].apply(lambda x: x.gender)\n",
        "\n",
        "  all_data.drop('pymorphy' , axis=1 , inplace=True)\n",
        "  columns_to_one_hot = ['pymorphy_animacy', 'pymorphy_POS', 'pymorphy_case','pymorphy_number', 'pymorphy_gender']\n",
        "  for col in columns_to_one_hot:\n",
        "      all_data[col] = LabelEncoder().fit_transform(list(all_data[col].fillna('nan')))\n",
        "  \n",
        "  morph_surname = word.map(morph_is_surname).as_matrix()\n",
        "  first_capital = word.map(lambda x: len(x) > 1 and str.isupper(x[0])).as_matrix()\n",
        "  first_capital_second_not = word.map(\n",
        "      lambda x: len(x) > 2 and str.isupper(x[0]) and str.islower(x[1])).as_matrix()\n",
        "  capslock = word.map(lambda x: str.isupper(x)).as_matrix()\n",
        "  wordlen = word.map(lambda x: len(x)).as_matrix()\n",
        "  isalpha = word.map(lambda x: str.isalpha(x)).as_matrix()\n",
        "  upperinmiddle = word.map(lambda x: np.any([c.isupper() for c in x[1:]])).as_matrix()\n",
        "  islower = word.map(lambda x: str.islower(x)).as_matrix().reshape(-1,1)\n",
        "  \n",
        "  if include_endings:\n",
        "    ending_vectorizer = TfidfVectorizer(lowercase=False, analyzer='char', ngram_range=[1,7], strip_accents=None)\n",
        "    ending = ending_vectorizer.fit_transform(word.map(lambda x: x[-4:]))\n",
        "    return hstack([\n",
        "      morph_surname.reshape(-1,1),\n",
        "      first_capital.reshape(-1,1), \n",
        "      first_capital_second_not.reshape(-1,1), \n",
        "      capslock.reshape(-1,1), \n",
        "      wordlen.reshape(-1,1), \n",
        "      isalpha.reshape(-1,1), \n",
        "      ending,\n",
        "      upperinmiddle.reshape(-1,1),\n",
        "      all_data.as_matrix(),\n",
        "        islower,\n",
        "    ], format='csr')\n",
        "  else:\n",
        "    return np.hstack([\n",
        "      morph_surname.reshape(-1,1),\n",
        "      first_capital.reshape(-1,1), \n",
        "      first_capital_second_not.reshape(-1,1), \n",
        "      capslock.reshape(-1,1), \n",
        "      wordlen.reshape(-1,1), \n",
        "      isalpha.reshape(-1,1),\n",
        "      upperinmiddle.reshape(-1,1),\n",
        "      all_data.as_matrix(),\n",
        "        islower,\n",
        "    ])"
      ],
      "execution_count": 0,
      "outputs": []
    },
    {
      "metadata": {
        "id": "8hr2ncOpITmj",
        "colab_type": "code",
        "colab": {
          "autoexec": {
            "startup": false,
            "wait_interval": 0
          }
        }
      },
      "cell_type": "code",
      "source": [
        "##########\n",
        "\n",
        "def prepare_X(words, y=None):\n",
        "  features = hand_feats(words)\n",
        "  X = scipy.sparse.csr_matrix(features, dtype='float64')\n",
        "  return X\n",
        "\n",
        "def report_train(label, model, X, y):\n",
        "    preds = model.predict_proba(X)[:,1]\n",
        "    print('{} ROC AUC:'.format(label), roc_auc_score(y, preds))"
      ],
      "execution_count": 0,
      "outputs": []
    },
    {
      "metadata": {
        "id": "CT4rLmSMiM33",
        "colab_type": "code",
        "colab": {
          "autoexec": {
            "startup": false,
            "wait_interval": 0
          },
          "output_extras": [
            {
              "item_id": 1
            },
            {
              "item_id": 3
            }
          ],
          "base_uri": "https://localhost:8080/",
          "height": 68
        },
        "outputId": "b0fae6c2-b6b9-4f97-c185-d17d7c7ccac1",
        "executionInfo": {
          "status": "ok",
          "timestamp": 1519380992067,
          "user_tz": -180,
          "elapsed": 172216,
          "user": {
            "displayName": "Jamshid Ruziev",
            "photoUrl": "https://lh3.googleusercontent.com/a/default-user=s128",
            "userId": "110429054425049133435"
          }
        }
      },
      "cell_type": "code",
      "source": [
        "vectorizer = TfidfVectorizer(lowercase=False, ngram_range=(1,7), strip_accents=None, analyzer='char', max_features=80000)\n",
        "X_train_lr = tfidf(vectorizer, words_train, train=True)\n",
        "X_val_lr = tfidf(vectorizer, words_val, train=False)\n",
        "\n",
        "X_train_lr = hstack([\n",
        "  X_train_lr,\n",
        "  hand_feats(words_train, include_endings=False)\n",
        "], format='csr')\n",
        "\n",
        "X_val_lr = hstack([\n",
        "  X_val_lr,\n",
        "  hand_feats(words_val, include_endings=False)\n",
        "], format='csr')\n",
        "\n",
        "scaler = StandardScaler(with_mean=False)\n",
        "X_train_lr = scaler.fit_transform(X_train_lr)\n",
        "X_val_lr = scaler.transform(X_val_lr)\n",
        "\n",
        "logreg = LogisticRegression(penalty='l2',\n",
        "                            dual=False,\n",
        "                            tol=0.0001,\n",
        "                            C=3e-5,\n",
        "                            verbose=True,\n",
        "                            class_weight='balanced'\n",
        "                           )\n",
        "logreg.fit(X_train_lr, y_train)\n",
        "\n",
        "report_train('train', logreg, X_train_lr, y_train)\n",
        "report_train('val', logreg, X_val_lr, y_val)"
      ],
      "execution_count": 117,
      "outputs": [
        {
          "output_type": "stream",
          "text": [
            "Installing mystem to /content/.local/bin/mystem from http://download.cdn.yandex.net/mystem/mystem-3.0-linux3.1-64bit.tar.gz\n"
          ],
          "name": "stderr"
        },
        {
          "output_type": "stream",
          "text": [
            "[LibLinear]train ROC AUC: 0.9895271115026035\n",
            "val ROC AUC: 0.9092130499889828\n"
          ],
          "name": "stdout"
        }
      ]
    },
    {
      "metadata": {
        "id": "_7qOWmK_7icq",
        "colab_type": "code",
        "colab": {
          "autoexec": {
            "startup": false,
            "wait_interval": 0
          },
          "output_extras": [
            {
              "item_id": 2
            }
          ],
          "base_uri": "https://localhost:8080/",
          "height": 51
        },
        "outputId": "534b8e0c-76ff-453e-96b0-4c2981f710b9",
        "executionInfo": {
          "status": "ok",
          "timestamp": 1519381176026,
          "user_tz": -180,
          "elapsed": 177950,
          "user": {
            "displayName": "Jamshid Ruziev",
            "photoUrl": "https://lh3.googleusercontent.com/a/default-user=s128",
            "userId": "110429054425049133435"
          }
        }
      },
      "cell_type": "code",
      "source": [
        "vectorizer1 = TfidfVectorizer(preprocessor=stemmer.stem ,lowercase=False, ngram_range=(1,7), strip_accents='unicode', analyzer='char', max_features=80000)\n",
        "X_train_lr1 = tfidf(vectorizer1, words_train, train=True)\n",
        "X_val_lr1 = tfidf(vectorizer1, words_val, train=False)\n",
        "\n",
        "X_train_lr1 = hstack([\n",
        "  X_train_lr1,\n",
        "  hand_feats(words_train, include_endings=False)\n",
        "], format='csr')\n",
        "\n",
        "X_val_lr1 = hstack([\n",
        "  X_val_lr1,\n",
        "  hand_feats(words_val, include_endings=False)\n",
        "], format='csr')\n",
        "\n",
        "scaler1 = StandardScaler(with_mean=False)\n",
        "X_train_lr1 = scaler1.fit_transform(X_train_lr1)\n",
        "X_val_lr1 = scaler1.transform(X_val_lr1)\n",
        "\n",
        "logreg1 = LogisticRegression(penalty='l2',\n",
        "                            dual=False,\n",
        "                            tol=0.0001,\n",
        "                            C=3e-5,\n",
        "                            verbose=True,\n",
        "                            class_weight='balanced'\n",
        "                           )\n",
        "logreg1.fit(X_train_lr1, y_train)\n",
        "\n",
        "report_train('train', logreg1, X_train_lr1, y_train)\n",
        "report_train('val', logreg1, X_val_lr1, y_val)"
      ],
      "execution_count": 118,
      "outputs": [
        {
          "output_type": "stream",
          "text": [
            "[LibLinear]train ROC AUC: 0.9815800806591636\n",
            "val ROC AUC: 0.9056907805118944\n"
          ],
          "name": "stdout"
        }
      ]
    },
    {
      "metadata": {
        "id": "BSMe-OHTIX-9",
        "colab_type": "code",
        "colab": {
          "autoexec": {
            "startup": false,
            "wait_interval": 0
          },
          "output_extras": [
            {
              "item_id": 2
            }
          ],
          "base_uri": "https://localhost:8080/",
          "height": 51
        },
        "outputId": "61e4a43c-5969-4e22-e930-f6facb46c2e2",
        "executionInfo": {
          "status": "ok",
          "timestamp": 1519384886557,
          "user_tz": -180,
          "elapsed": 209713,
          "user": {
            "displayName": "Jamshid Ruziev",
            "photoUrl": "https://lh3.googleusercontent.com/a/default-user=s128",
            "userId": "110429054425049133435"
          }
        }
      },
      "cell_type": "code",
      "source": [
        "\n",
        "X_train = hand_feats(words_train, include_endings=False)\n",
        "X_val = hand_feats(words_val, include_endings=False)\n",
        "\n",
        "boost1 = xgb.XGBClassifier(silent=False, max_depth=10, learning_rate=0.09, n_estimators=670, colsample_bytree=0.9 , colsample_bylevel=0.6)\n",
        "boost1.fit(X_train, y_train)\n",
        "\n",
        "report_train('train', boost1, X_train, y_train)\n",
        "report_train('val', boost1, X_val, y_val)"
      ],
      "execution_count": 145,
      "outputs": [
        {
          "output_type": "stream",
          "text": [
            "train ROC AUC: 0.943569920646248\n",
            "val ROC AUC: 0.9243623691345133\n"
          ],
          "name": "stdout"
        }
      ]
    },
    {
      "metadata": {
        "id": "ypNsRw874L5k",
        "colab_type": "code",
        "colab": {
          "autoexec": {
            "startup": false,
            "wait_interval": 0
          },
          "output_extras": [
            {
              "item_id": 1
            }
          ],
          "base_uri": "https://localhost:8080/",
          "height": 51
        },
        "outputId": "045d437d-5ef4-4dc0-9337-1ed6e26f90dc",
        "executionInfo": {
          "status": "ok",
          "timestamp": 1519381471621,
          "user_tz": -180,
          "elapsed": 7335,
          "user": {
            "displayName": "Jamshid Ruziev",
            "photoUrl": "https://lh3.googleusercontent.com/a/default-user=s128",
            "userId": "110429054425049133435"
          }
        }
      },
      "cell_type": "code",
      "source": [
        "mean_pred_train = (logreg.predict_proba(X_train_lr)[:,1] + \n",
        "                   boost1.predict_proba(X_train)[:,1] +\n",
        "                   logreg1.predict_proba(X_train_lr1)[:,1]\n",
        "                  )/3\n",
        "\n",
        "mean_pred_val = (logreg.predict_proba(X_val_lr)[:,1] + \n",
        "                   boost1.predict_proba(X_val)[:,1] +\n",
        "                   logreg1.predict_proba(X_val_lr1)[:,1]\n",
        "                  )/3\n",
        "\n",
        "print(roc_auc_score(y_train, mean_pred_train ))\n",
        "print(roc_auc_score(y_val, mean_pred_val ))"
      ],
      "execution_count": 120,
      "outputs": [
        {
          "output_type": "stream",
          "text": [
            "0.9911318459801921\n",
            "0.9119613801221624\n"
          ],
          "name": "stdout"
        }
      ]
    },
    {
      "metadata": {
        "id": "VDO0APQwiO3s",
        "colab_type": "code",
        "colab": {
          "autoexec": {
            "startup": false,
            "wait_interval": 0
          }
        }
      },
      "cell_type": "code",
      "source": [
        "df_val['Prediction'] = boost1.predict_proba(X_val)[:,1]"
      ],
      "execution_count": 0,
      "outputs": []
    },
    {
      "metadata": {
        "id": "CElRqnYniGcg",
        "colab_type": "code",
        "colab": {
          "autoexec": {
            "startup": false,
            "wait_interval": 0
          }
        }
      },
      "cell_type": "code",
      "source": [
        "df_val.sample(5)"
      ],
      "execution_count": 0,
      "outputs": []
    },
    {
      "metadata": {
        "id": "iMBKadhCPTZm",
        "colab_type": "code",
        "colab": {
          "autoexec": {
            "startup": false,
            "wait_interval": 0
          }
        }
      },
      "cell_type": "code",
      "source": [
        "fig, ax = plt.subplots(1,1, figsize=[12,32])\n",
        "plot_importance(boost1, ax=ax)"
      ],
      "execution_count": 0,
      "outputs": []
    },
    {
      "metadata": {
        "id": "Mt6MQi73KCKJ",
        "colab_type": "text"
      },
      "cell_type": "markdown",
      "source": [
        "# Test"
      ]
    },
    {
      "metadata": {
        "id": "DNsWGChkJW6b",
        "colab_type": "code",
        "colab": {
          "autoexec": {
            "startup": false,
            "wait_interval": 0
          }
        }
      },
      "cell_type": "code",
      "source": [
        "test = pd.read_csv('drive/DMIA/test.csv')\n",
        "test_words = test['Word']"
      ],
      "execution_count": 0,
      "outputs": []
    },
    {
      "metadata": {
        "id": "piuc_RKbKIsn",
        "colab_type": "code",
        "colab": {
          "autoexec": {
            "startup": false,
            "wait_interval": 0
          }
        }
      },
      "cell_type": "code",
      "source": [
        "\n",
        "# X_test_lr = hstack([\n",
        "#   tfidf(vectorizer, test_words, train=False),\n",
        "#   hand_feats(test_words, include_endings=False)\n",
        "# ], format='csr')\n",
        "X_test = hand_feats(test_words)\n",
        "# X_test_lr1 = hstack([\n",
        "#   tfidf(vectorizer1, test_words, train=False),\n",
        "#   hand_feats(test_words, include_endings=False)\n",
        "# ], format='csr')\n",
        "\n",
        "# X_test_lr = scaler.transform(X_test_lr)\n",
        "# X_test_lr1 = scaler1.transform(X_test_lr1)\n",
        "\n",
        "# mean_pred_test = (logreg.predict_proba(X_test_lr)[:,1] + \n",
        "#                    boost1.predict_proba(X_test)[:,1] +\n",
        "#                    logreg1.predict_proba(X_test_lr1)[:,1]\n",
        "#                   )/3"
      ],
      "execution_count": 0,
      "outputs": []
    },
    {
      "metadata": {
        "id": "0_nwde_CLiZ3",
        "colab_type": "code",
        "colab": {
          "autoexec": {
            "startup": false,
            "wait_interval": 0
          }
        }
      },
      "cell_type": "code",
      "source": [
        "test['Prediction'] = boost1.predict_proba(X_test)[:,1] #mean_pred_test"
      ],
      "execution_count": 0,
      "outputs": []
    },
    {
      "metadata": {
        "id": "ji3lwVuONb_M",
        "colab_type": "code",
        "colab": {
          "autoexec": {
            "startup": false,
            "wait_interval": 0
          },
          "output_extras": [
            {
              "item_id": 1
            }
          ],
          "base_uri": "https://localhost:8080/",
          "height": 359
        },
        "outputId": "2d60e0fd-da7c-4951-c627-50b2dcf781b5",
        "executionInfo": {
          "status": "ok",
          "timestamp": 1519385312704,
          "user_tz": -180,
          "elapsed": 571,
          "user": {
            "displayName": "Jamshid Ruziev",
            "photoUrl": "https://lh3.googleusercontent.com/a/default-user=s128",
            "userId": "110429054425049133435"
          }
        }
      },
      "cell_type": "code",
      "source": [
        "test.sample(10)"
      ],
      "execution_count": 152,
      "outputs": [
        {
          "output_type": "execute_result",
          "data": {
            "text/html": [
              "<div>\n",
              "<style scoped>\n",
              "    .dataframe tbody tr th:only-of-type {\n",
              "        vertical-align: middle;\n",
              "    }\n",
              "\n",
              "    .dataframe tbody tr th {\n",
              "        vertical-align: top;\n",
              "    }\n",
              "\n",
              "    .dataframe thead th {\n",
              "        text-align: right;\n",
              "    }\n",
              "</style>\n",
              "<table border=\"1\" class=\"dataframe\">\n",
              "  <thead>\n",
              "    <tr style=\"text-align: right;\">\n",
              "      <th></th>\n",
              "      <th>Word</th>\n",
              "      <th>Prediction</th>\n",
              "    </tr>\n",
              "  </thead>\n",
              "  <tbody>\n",
              "    <tr>\n",
              "      <th>152500</th>\n",
              "      <td>сроки</td>\n",
              "      <td>0.024763</td>\n",
              "    </tr>\n",
              "    <tr>\n",
              "      <th>176745</th>\n",
              "      <td>хотений</td>\n",
              "      <td>0.002236</td>\n",
              "    </tr>\n",
              "    <tr>\n",
              "      <th>124611</th>\n",
              "      <td>Примитив</td>\n",
              "      <td>0.024965</td>\n",
              "    </tr>\n",
              "    <tr>\n",
              "      <th>126601</th>\n",
              "      <td>ПРОИЗВЕДЕНИЕ</td>\n",
              "      <td>0.001620</td>\n",
              "    </tr>\n",
              "    <tr>\n",
              "      <th>168433</th>\n",
              "      <td>Усмирение</td>\n",
              "      <td>0.086800</td>\n",
              "    </tr>\n",
              "    <tr>\n",
              "      <th>98602</th>\n",
              "      <td>ОБОРОТЕ</td>\n",
              "      <td>0.004672</td>\n",
              "    </tr>\n",
              "    <tr>\n",
              "      <th>177405</th>\n",
              "      <td>Хэддена</td>\n",
              "      <td>0.025660</td>\n",
              "    </tr>\n",
              "    <tr>\n",
              "      <th>180380</th>\n",
              "      <td>числительными</td>\n",
              "      <td>0.000500</td>\n",
              "    </tr>\n",
              "    <tr>\n",
              "      <th>183540</th>\n",
              "      <td>штрафах</td>\n",
              "      <td>0.002236</td>\n",
              "    </tr>\n",
              "    <tr>\n",
              "      <th>188330</th>\n",
              "      <td>яичко</td>\n",
              "      <td>0.024763</td>\n",
              "    </tr>\n",
              "  </tbody>\n",
              "</table>\n",
              "</div>"
            ],
            "text/plain": [
              "                 Word  Prediction\n",
              "152500          сроки    0.024763\n",
              "176745        хотений    0.002236\n",
              "124611       Примитив    0.024965\n",
              "126601   ПРОИЗВЕДЕНИЕ    0.001620\n",
              "168433      Усмирение    0.086800\n",
              "98602         ОБОРОТЕ    0.004672\n",
              "177405        Хэддена    0.025660\n",
              "180380  числительными    0.000500\n",
              "183540        штрафах    0.002236\n",
              "188330          яичко    0.024763"
            ]
          },
          "metadata": {
            "tags": []
          },
          "execution_count": 152
        }
      ]
    },
    {
      "metadata": {
        "id": "5rRlp9UFNlfw",
        "colab_type": "code",
        "colab": {
          "autoexec": {
            "startup": false,
            "wait_interval": 0
          }
        }
      },
      "cell_type": "code",
      "source": [
        "test.drop(['Word'], axis=1, inplace=True)\n",
        "test.index.rename(\"Id\", inplace=True)\n",
        "test.to_csv('drive/DMIA/sub.csv')\n",
        "\n",
        "# files.download('drive/DMIA/sub.csv')"
      ],
      "execution_count": 0,
      "outputs": []
    },
    {
      "metadata": {
        "id": "SAeQTcX9OJv9",
        "colab_type": "code",
        "colab": {
          "autoexec": {
            "startup": false,
            "wait_interval": 0
          }
        }
      },
      "cell_type": "code",
      "source": [
        ""
      ],
      "execution_count": 0,
      "outputs": []
    }
  ]
}