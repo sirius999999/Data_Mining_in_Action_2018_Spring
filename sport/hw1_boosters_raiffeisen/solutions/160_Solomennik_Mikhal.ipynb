{
 "cells": [
  {
   "cell_type": "markdown",
   "metadata": {},
   "source": [
    "# [Boosters] Raiffeisen Data Cup\n",
    "\n",
    "Использован Baseline Антона Чикина.\n",
    "\n",
    "Результат:\n",
    "- Открытый рейтинг: 146 (0.3395)\n",
    "- Финальный рейтинг: 160 (0.332583)\n",
    "\n",
    "Общий подход:\n",
    "- Добавляем к каждой транзакции столбец: is_work (если транзакция находится в пределах 0.02 от дома клиента)\n",
    "- Добавляем к каждой транзакции столбец: is_home (если транзакция находится в пределах 0.02 от работы клиента)\n",
    "- Обучаем классификатор предсказывающий вероятность (is_home == 1) для транзакции\n",
    "- Обучаем классификатор предсказывающий вероятность (is_work == 1) для транзакции\n",
    "\n",
    "Примечание\n",
    "* Требуется Python версии 3.5\n",
    "* Требуется библиотека xgboost (для обучения использовалась xgboost версии 0.7.post3)\n",
    "* Требуются файлы: test_set.csv, train_set.csv в одном каталоге с данным скриптом\n",
    "* Требования к памяти: должно работать с 2Гб свободного RAM"
   ]
  },
  {
   "cell_type": "code",
   "execution_count": 1,
   "metadata": {},
   "outputs": [
    {
     "name": "stdout",
     "output_type": "stream",
     "text": [
      "Wall time: 786 ms\n"
     ]
    }
   ],
   "source": [
    "%%time\n",
    "import pandas as pd\n",
    "import numpy as np\n",
    "import datetime\n",
    "\n",
    "import xgboost as xgb\n",
    "import sklearn\n",
    "\n",
    "from sklearn.model_selection import train_test_split\n",
    "\n",
    "import scipy.stats as stats\n",
    "import pylab as pl\n",
    "\n",
    "#Wall time: 563 ms"
   ]
  },
  {
   "cell_type": "code",
   "execution_count": 2,
   "metadata": {},
   "outputs": [],
   "source": [
    "# Определим типы колонок для экономии памяти\n",
    "dtypes = {\n",
    "    'transaction_date': str,\n",
    "    'atm_address': str,\n",
    "    'country': str,\n",
    "    'city': str,\n",
    "    'amount': np.float32,\n",
    "    'currency': np.float32,\n",
    "    'mcc': str,\n",
    "    'customer_id': str,\n",
    "    'pos_address': str,\n",
    "    'atm_address': str,\n",
    "    'pos_adress_lat': np.float32,\n",
    "    'pos_adress_lon': np.float32,\n",
    "    'pos_address_lat': np.float32,\n",
    "    'pos_address_lon': np.float32,\n",
    "    'atm_address_lat': np.float32,\n",
    "    'atm_address_lon': np.float32,\n",
    "    'home_add_lat': np.float32,\n",
    "    'home_add_lon': np.float32,\n",
    "    'work_add_lat': np.float32,\n",
    "    'work_add_lon': np.float32,\n",
    "}\n",
    "\n",
    "# для экономии памяти будем загружать только часть атрибутов транзакций\n",
    "usecols_train = ['customer_id','transaction_date','amount','country', 'city', 'currency', 'mcc', 'pos_adress_lat', 'pos_adress_lon', 'atm_address_lat', 'atm_address_lon','home_add_lat','home_add_lon','work_add_lat','work_add_lon']\n",
    "usecols_test = ['customer_id','transaction_date','amount','country', 'city', 'currency', 'mcc', 'pos_address_lat', 'pos_address_lon', 'atm_address_lat', 'atm_address_lon']"
   ]
  },
  {
   "cell_type": "markdown",
   "metadata": {},
   "source": [
    "## Читаем train_set, test_set, соединяем в один датасет"
   ]
  },
  {
   "cell_type": "code",
   "execution_count": 3,
   "metadata": {},
   "outputs": [
    {
     "name": "stdout",
     "output_type": "stream",
     "text": [
      "Wall time: 20 s\n"
     ]
    }
   ],
   "source": [
    "%%time\n",
    "train = pd.read_csv('train_set.csv', dtype = dtypes, usecols = usecols_train, parse_dates=['transaction_date'])\n",
    "train.rename(columns = {'pos_adress_lat': 'pos_address_lat', 'pos_adress_lon': 'pos_address_lon'}, inplace = True)\n",
    "\n",
    "test = pd.read_csv('test_set.csv', dtype = dtypes, usecols = usecols_test, parse_dates=['transaction_date'])\n",
    "\n",
    "# соединяем test/train в одном DataFrame\n",
    "train['is_train'] = np.int32(1)\n",
    "test['is_train'] = np.int32(0)\n",
    "# Wall time: 6.73 s"
   ]
  },
  {
   "cell_type": "code",
   "execution_count": 4,
   "metadata": {},
   "outputs": [],
   "source": [
    "dt = pd.concat([train, test], ignore_index=True)"
   ]
  },
  {
   "cell_type": "code",
   "execution_count": 5,
   "metadata": {},
   "outputs": [],
   "source": [
    "# сохраняем полный список клиентов, чтобы никого не потерять\n",
    "customer_ids = set(dt['customer_id'])"
   ]
  },
  {
   "cell_type": "code",
   "execution_count": 6,
   "metadata": {},
   "outputs": [
    {
     "data": {
      "text/plain": [
       "(1224734, 1265470, 2490204)"
      ]
     },
     "execution_count": 6,
     "metadata": {},
     "output_type": "execute_result"
    }
   ],
   "source": [
    "len(train), len(test), len(dt)"
   ]
  },
  {
   "cell_type": "markdown",
   "metadata": {},
   "source": [
    "#### Исследование данных"
   ]
  },
  {
   "cell_type": "code",
   "execution_count": 7,
   "metadata": {},
   "outputs": [
    {
     "data": {
      "text/plain": [
       "set()"
      ]
     },
     "execution_count": 7,
     "metadata": {},
     "output_type": "execute_result"
    }
   ],
   "source": [
    "# нет ли одинаковых пользователей в train и test\n",
    "set(train['customer_id']).intersection(set(test['customer_id']))"
   ]
  },
  {
   "cell_type": "code",
   "execution_count": 8,
   "metadata": {},
   "outputs": [
    {
     "data": {
      "text/plain": [
       "Index(['amount', 'atm_address_lat', 'atm_address_lon', 'city', 'country',\n",
       "       'currency', 'customer_id', 'home_add_lat', 'home_add_lon', 'mcc',\n",
       "       'pos_address_lat', 'pos_address_lon', 'transaction_date',\n",
       "       'work_add_lat', 'work_add_lon', 'is_train'],\n",
       "      dtype='object')"
      ]
     },
     "execution_count": 8,
     "metadata": {},
     "output_type": "execute_result"
    }
   ],
   "source": [
    "train.columns"
   ]
  },
  {
   "cell_type": "code",
   "execution_count": 9,
   "metadata": {},
   "outputs": [
    {
     "data": {
      "text/plain": [
       "Index(['amount', 'atm_address_lat', 'atm_address_lon', 'city', 'country',\n",
       "       'currency', 'customer_id', 'mcc', 'pos_address_lat', 'pos_address_lon',\n",
       "       'transaction_date', 'is_train'],\n",
       "      dtype='object')"
      ]
     },
     "execution_count": 9,
     "metadata": {},
     "output_type": "execute_result"
    }
   ],
   "source": [
    "test.columns"
   ]
  },
  {
   "cell_type": "code",
   "execution_count": 10,
   "metadata": {},
   "outputs": [
    {
     "data": {
      "text/plain": [
       "(Timestamp('2017-01-27 00:00:00'),\n",
       " Timestamp('2017-12-08 00:00:00'),\n",
       " Timestamp('2017-01-27 00:00:00'),\n",
       " Timestamp('2017-12-08 00:00:00'))"
      ]
     },
     "execution_count": 10,
     "metadata": {},
     "output_type": "execute_result"
    }
   ],
   "source": [
    "# Определяем период дат (с 2017-01-27 по 2017-12-08)\n",
    "train_transaction_date = train['transaction_date']\n",
    "test_transaction_date = test['transaction_date']\n",
    "min(train_transaction_date), max(train_transaction_date), min(test_transaction_date), max(test_transaction_date)"
   ]
  },
  {
   "cell_type": "markdown",
   "metadata": {},
   "source": [
    "### Обрабатываем дату транзакции и категориальные признаки"
   ]
  },
  {
   "cell_type": "code",
   "execution_count": 11,
   "metadata": {},
   "outputs": [
    {
     "name": "stdout",
     "output_type": "stream",
     "text": [
      "Wall time: 848 ms\n"
     ]
    }
   ],
   "source": [
    "%%time\n",
    "# удаляем транзакции без даты\n",
    "dt.drop(dt[dt['transaction_date'].isnull()].index, axis = 0, inplace = True)\n",
    "# Wall time: 1.01 s"
   ]
  },
  {
   "cell_type": "code",
   "execution_count": 12,
   "metadata": {},
   "outputs": [
    {
     "data": {
      "text/plain": [
       "2490159"
      ]
     },
     "execution_count": 12,
     "metadata": {},
     "output_type": "execute_result"
    }
   ],
   "source": [
    "len(dt)"
   ]
  },
  {
   "cell_type": "code",
   "execution_count": 13,
   "metadata": {},
   "outputs": [
    {
     "name": "stdout",
     "output_type": "stream",
     "text": [
      "Wall time: 6.82 s\n"
     ]
    }
   ],
   "source": [
    "%%time\n",
    "# приводим код страны к одному виду\n",
    "import pycountry\n",
    "dt.loc[dt['country'] == 'ROM', 'country'] = 'ROU'\n",
    "# на страну везде 3 символа, но местами их два и пробел\n",
    "dt['country'] = dt['country'].str.strip();\n",
    "dt.loc[dt['country'].str.len()==3, 'country'] = [pycountry.countries.get(alpha_3=alpha_3).alpha_2 for alpha_3 in dt[dt['country'].str.len()==3]['country']]\n",
    "# Wall time: 2.2 s"
   ]
  },
  {
   "cell_type": "code",
   "execution_count": 14,
   "metadata": {},
   "outputs": [],
   "source": [
    "dt['currency'] = dt['currency'].fillna(-1).astype(np.int32)\n",
    "dt['mcc'] = dt['mcc'].apply(lambda x: int(x.replace(',', ''))).astype(np.int32)\n",
    "dt['city'] = dt['city'].factorize()[0].astype(np.int32)\n",
    "dt['country'] = dt['country'].factorize()[0].astype(np.int32)"
   ]
  },
  {
   "cell_type": "markdown",
   "metadata": {},
   "source": [
    "### Фичи для даты"
   ]
  },
  {
   "cell_type": "code",
   "execution_count": 15,
   "metadata": {},
   "outputs": [],
   "source": [
    "dt['weekday'] = dt['transaction_date'].dt.weekday.astype(np.int32)\n",
    "weekend_2017 = ['2017-02-23', '2017-02-24', '2017-03-08', '2017-02-24', '2017-05-01', '2017-05-08', '2017-05-09', '2017-06-12', '2017-11-06']\n",
    "dt['is_weekend'] = ((dt[\"weekday\"] >= 5) | dt['transaction_date'].isin(weekend_2017)).astype(np.int32)"
   ]
  },
  {
   "cell_type": "markdown",
   "metadata": {},
   "source": [
    "### Приводим адрес транзакции для pos и atm-транзакций к единообразному виду"
   ]
  },
  {
   "cell_type": "code",
   "execution_count": 16,
   "metadata": {},
   "outputs": [],
   "source": [
    "dt['is_atm'] = (~dt['atm_address_lat'].isnull()).astype(np.int32)\n",
    "dt['is_pos'] = (~dt['pos_address_lat'].isnull()).astype(np.int32)\n",
    "\n",
    "dt['address_lat'] = dt['atm_address_lat'].fillna(0) + dt['pos_address_lat'].fillna(0)\n",
    "dt['address_lon'] = dt['atm_address_lon'].fillna(0) + dt['pos_address_lon'].fillna(0)"
   ]
  },
  {
   "cell_type": "code",
   "execution_count": 17,
   "metadata": {},
   "outputs": [
    {
     "name": "stdout",
     "output_type": "stream",
     "text": [
      "51.7425 15.4645\n",
      "37.293 16.9975\n"
     ]
    }
   ],
   "source": [
    "print(dt['address_lat'].mean(), dt['address_lat'].std())\n",
    "print(dt['address_lon'].mean(), dt['address_lon'].std())"
   ]
  },
  {
   "cell_type": "code",
   "execution_count": 18,
   "metadata": {},
   "outputs": [],
   "source": [
    "dt.drop(['atm_address_lat','atm_address_lon','pos_address_lat','pos_address_lon'], axis = 1, inplace = True)"
   ]
  },
  {
   "cell_type": "code",
   "execution_count": 19,
   "metadata": {},
   "outputs": [],
   "source": [
    "# удалим транзакции без адреса\n",
    "dt.drop(dt[((dt['address_lon'] == 0) & (dt['address_lon'] == 0))].index, axis = 0, inplace = True)"
   ]
  },
  {
   "cell_type": "markdown",
   "metadata": {},
   "source": [
    "#### Исследование данных"
   ]
  },
  {
   "cell_type": "code",
   "execution_count": 37,
   "metadata": {},
   "outputs": [
    {
     "data": {
      "image/png": "[encoded data removed]",
      "text/plain": [
       "<matplotlib.figure.Figure at 0xffcc0990b8>"
      ]
     },
     "metadata": {},
     "output_type": "display_data"
    }
   ],
   "source": [
    "h = np.sort(dt['address_lat'])\n",
    "fit = stats.norm.pdf(h, np.mean(h), np.std(h));\n",
    "pl.figure\n",
    "pl.subplot(1, 2, 1)\n",
    "pl.plot(h,fit,'-')\n",
    "pl.hist(h,normed=True);\n",
    "\n",
    "h = np.sort(dt['address_lon'])\n",
    "fit = stats.norm.pdf(h, np.mean(h), np.std(h));\n",
    "pl.subplot(1, 2, 2)\n",
    "pl.plot(h,fit,'-')\n",
    "pl.hist(h,normed=True);\n",
    "pl.show()"
   ]
  },
  {
   "cell_type": "code",
   "execution_count": 21,
   "metadata": {},
   "outputs": [
    {
     "data": {
      "image/png": "[encoded data removed]",
      "text/plain": [
       "<matplotlib.figure.Figure at 0xffc86210f0>"
      ]
     },
     "metadata": {},
     "output_type": "display_data"
    }
   ],
   "source": [
    "%matplotlib inline\n",
    "import seaborn as sns\n",
    "sns.set(color_codes=True)\n",
    "sns.jointplot(x=\"address_lon\", y=\"address_lat\", data=pd.DataFrame(dt, columns=[\"address_lat\", \"address_lon\"]));"
   ]
  },
  {
   "cell_type": "markdown",
   "metadata": {},
   "source": [
    "### Генерируем признаки is_home, is_work"
   ]
  },
  {
   "cell_type": "code",
   "execution_count": 22,
   "metadata": {},
   "outputs": [],
   "source": [
    "# для каждой транзакции вычисляем близко ли она от дома или работы \n",
    "lat = dt['home_add_lat'] - dt['address_lat']\n",
    "lon = dt['home_add_lon'] - dt['address_lon']\n",
    "dt['is_home'] = (np.sqrt((lat ** 2) + (lon ** 2)) <= 0.02).astype(np.int32)\n",
    "dt['has_home'] = (~dt['home_add_lon'].isnull()).astype(np.int32)\n",
    "\n",
    "lat = dt['work_add_lat'] - dt['address_lat']\n",
    "lon = dt['work_add_lon'] - dt['address_lon']\n",
    "dt['is_work'] = (np.sqrt((lat ** 2) + (lon ** 2)) <= 0.02).astype(np.int32)\n",
    "dt['has_work'] = (~dt['work_add_lon'].isnull()).astype(np.int32)\n",
    "\n",
    "#dt.drop(['work_add_lat','work_add_lon','home_add_lat','home_add_lon'], axis = 1, inplace = True)"
   ]
  },
  {
   "cell_type": "markdown",
   "metadata": {},
   "source": [
    "### Фильтруем по стандартному отклонению\n",
    "не зашло"
   ]
  },
  {
   "cell_type": "code",
   "execution_count": null,
   "metadata": {},
   "outputs": [],
   "source": [
    "len(dt)"
   ]
  },
  {
   "cell_type": "code",
   "execution_count": null,
   "metadata": {},
   "outputs": [],
   "source": [
    "%%time\n",
    "# отсекаем то, что лежит за пределами стандартного отклонения от среднего\n",
    "# сначала по долготе, это важно\n",
    "dt = dt.merge(dt.groupby('customer_id')['address_lon'].mean().reset_index(name = 'mean_lon'), how = 'left')\n",
    "dt = dt.merge(dt.groupby('customer_id')['address_lon'].std().fillna(0).reset_index(name = 'std_lon'), how = 'left')\n",
    "dt['diff_mean_lon'] = abs(dt['mean_lon'] - dt['address_lon'])\n",
    "\n",
    "dt = dt[dt['std_lon'] >= dt['diff_mean_lon']]\n",
    "dt.drop(['mean_lon','std_lon','diff_mean_lon'], axis = 1, inplace = True)"
   ]
  },
  {
   "cell_type": "code",
   "execution_count": null,
   "metadata": {},
   "outputs": [],
   "source": [
    "len(dt)"
   ]
  },
  {
   "cell_type": "code",
   "execution_count": null,
   "metadata": {},
   "outputs": [],
   "source": [
    "%%time\n",
    "# отсекаем то, что лежит за пределами стандартного отклонения от среднего\n",
    "dt = dt.merge(dt.groupby('customer_id')['address_lat'].mean().reset_index(name = 'mean_lat'), how = 'left')\n",
    "dt = dt.merge(dt.groupby('customer_id')['address_lat'].std().fillna(0).reset_index(name = 'std_lat'), how = 'left')\n",
    "dt['diff_mean_lat'] = abs(dt['mean_lat'] - dt['address_lat'])\n",
    "dt = dt[dt['std_lat'] >= dt['diff_mean_lat']]\n",
    "dt.drop(['mean_lat','std_lat','diff_mean_lat'], axis = 1, inplace = True)"
   ]
  },
  {
   "cell_type": "code",
   "execution_count": null,
   "metadata": {},
   "outputs": [],
   "source": [
    "len(dt)"
   ]
  },
  {
   "cell_type": "code",
   "execution_count": null,
   "metadata": {},
   "outputs": [],
   "source": [
    "customer_ids_after = set(dt['customer_id'])"
   ]
  },
  {
   "cell_type": "markdown",
   "metadata": {},
   "source": [
    "### Фильтруем по удалённости от медианного значения для каждого клиента\n",
    "не зашло"
   ]
  },
  {
   "cell_type": "code",
   "execution_count": null,
   "metadata": {},
   "outputs": [],
   "source": [
    "%%time\n",
    "dt = dt.merge(dt.groupby('customer_id')['address_lon'].quantile(0.5, interpolation='nearest').reset_index(name = 'median_lon'), how = 'left')\n",
    "dt['dist_lon'] = abs(dt['median_lon'] - dt['address_lon'])\n",
    "dt = dt[dt['dist_lon']<2]\n",
    "dt.drop(['median_lon','dist_lon'], axis = 1, inplace = True)\n",
    "# Wall time: 3.35 s"
   ]
  },
  {
   "cell_type": "code",
   "execution_count": null,
   "metadata": {},
   "outputs": [],
   "source": [
    "len(dt)"
   ]
  },
  {
   "cell_type": "code",
   "execution_count": null,
   "metadata": {},
   "outputs": [],
   "source": [
    "%%time\n",
    "dt = dt.merge(dt.groupby('customer_id')['address_lat'].quantile(0.5, interpolation='nearest').reset_index(name = 'median_lat'), how = 'left')\n",
    "dt['dist_lat'] = abs(dt['median_lat'] - dt['address_lat'])\n",
    "dt = dt[dt['dist_lat']<1]\n",
    "dt.drop(['median_lat','dist_lat'], axis = 1, inplace = True)\n",
    "# Wall time: 3.35 s"
   ]
  },
  {
   "cell_type": "code",
   "execution_count": null,
   "metadata": {},
   "outputs": [],
   "source": [
    "len(dt)"
   ]
  },
  {
   "cell_type": "code",
   "execution_count": null,
   "metadata": {},
   "outputs": [],
   "source": [
    "customer_ids_after = set(dt['customer_id'])"
   ]
  },
  {
   "cell_type": "code",
   "execution_count": null,
   "metadata": {},
   "outputs": [],
   "source": [
    "# проверка\n",
    "print(customer_ids_after.difference(customer_ids))\n",
    "print(str(len(customer_ids_after.difference(customer_ids))) + ' строк лишних')\n",
    "print(customer_ids.difference(customer_ids_after))\n",
    "print(str(len(customer_ids.difference(customer_ids_after))) + ' строк не хватает')"
   ]
  },
  {
   "cell_type": "markdown",
   "metadata": {},
   "source": [
    "### Генерируем категориальный признак для адреса"
   ]
  },
  {
   "cell_type": "code",
   "execution_count": 23,
   "metadata": {},
   "outputs": [],
   "source": [
    "dt['address'] = dt['address_lat'].apply(lambda x: \"%.02f\" % x) + ';' + dt['address_lon'].apply(lambda x: \"%.02f\" % x)\n",
    "dt['address'] = dt['address'].factorize()[0].astype(np.int32)"
   ]
  },
  {
   "cell_type": "markdown",
   "metadata": {},
   "source": [
    "### Генерируем несколько абонентских фич"
   ]
  },
  {
   "cell_type": "code",
   "execution_count": 24,
   "metadata": {},
   "outputs": [],
   "source": [
    "# количество транзакций каждого клиента\n",
    "dt = dt.merge(dt.groupby('customer_id')['amount'].count().reset_index(name = 'tx'), how = 'left')\n",
    "dt['tx'] = dt['tx'].astype(np.int32)"
   ]
  },
  {
   "cell_type": "code",
   "execution_count": 25,
   "metadata": {},
   "outputs": [
    {
     "name": "stdout",
     "output_type": "stream",
     "text": [
      "Wall time: 2.54 s\n"
     ]
    }
   ],
   "source": [
    "%%time\n",
    "# количество транзакций каждого клиента на данный адрес в будни и выходные\n",
    "dt = dt.merge(dt.groupby(['customer_id','address', 'is_weekend'])['amount'].count().reset_index(name = 'tx_cust_addr'), how = 'left')\n",
    "dt['tx_cust_addr'] = dt['tx_cust_addr'].astype(np.int32)\n",
    "\n",
    "# какая часть транзакций клиента приходится на данный адрес\n",
    "dt['ratio2'] = dt['tx_cust_addr'] / dt['tx']"
   ]
  },
  {
   "cell_type": "markdown",
   "metadata": {},
   "source": [
    "## Вспомогательные функции для оценки точности классификатора"
   ]
  },
  {
   "cell_type": "code",
   "execution_count": 26,
   "metadata": {},
   "outputs": [],
   "source": [
    "def _best(x):\n",
    "    ret = None\n",
    "    for col in ys:\n",
    "        pred = ('pred:%s' % col)\n",
    "        if pred in x:\n",
    "            i = (x[pred].idxmax())\n",
    "            cols = [pred,'address_lat','address_lon']\n",
    "            if col in x:\n",
    "                cols.append(col)\n",
    "            tmp = x.loc[i,cols]\n",
    "            tmp.rename({\n",
    "                'address_lat':'%s:add_lat' % col,\n",
    "                'address_lon':'%s:add_lon' % col,\n",
    "            }, inplace = True)\n",
    "            if ret is None:\n",
    "                ret = tmp\n",
    "            else:\n",
    "                ret = pd.concat([ret, tmp])\n",
    "    return ret"
   ]
  },
  {
   "cell_type": "code",
   "execution_count": 27,
   "metadata": {},
   "outputs": [],
   "source": [
    "def predict_proba(dt, ys = ['is_home', 'is_work']):\n",
    "    for col in ys:\n",
    "        pred = ('pred:%s' % col)\n",
    "        dt[pred] = model[col].predict_proba(dt[xs])[:,1]\n",
    "    return dt.groupby('customer_id').apply(_best).reset_index()"
   ]
  },
  {
   "cell_type": "code",
   "execution_count": 28,
   "metadata": {},
   "outputs": [],
   "source": [
    "def score(dt, ys = ['is_home', 'is_work']):\n",
    "    dt_ret = predict_proba(dt, ys)\n",
    "    mean = 0.0\n",
    "    for col in ys:\n",
    "        col_mean = dt_ret[col].mean()\n",
    "        mean += col_mean\n",
    "    if len(ys) == 2:\n",
    "        mean = mean / len(ys)\n",
    "    return mean"
   ]
  },
  {
   "cell_type": "markdown",
   "metadata": {},
   "source": [
    "### Признаки, на которых будем обучать модель"
   ]
  },
  {
   "cell_type": "code",
   "execution_count": 29,
   "metadata": {},
   "outputs": [],
   "source": [
    "xs = ['amount','currency','country','mcc','is_atm','is_pos','is_weekend','ratio2']\n",
    "ys = ['is_home', 'is_work']"
   ]
  },
  {
   "cell_type": "markdown",
   "metadata": {},
   "source": [
    "# Создаем классификаторы"
   ]
  },
  {
   "cell_type": "code",
   "execution_count": 30,
   "metadata": {},
   "outputs": [],
   "source": [
    "model0 = {\n",
    "    'is_home': xgb.XGBClassifier(n_estimators = 100, n_jobs = 4),\n",
    "    'is_work': xgb.XGBClassifier(n_estimators = 100, n_jobs = 4),\n",
    "}"
   ]
  },
  {
   "cell_type": "markdown",
   "metadata": {},
   "source": [
    "# Обучаем классификаторы"
   ]
  },
  {
   "cell_type": "code",
   "execution_count": 31,
   "metadata": {},
   "outputs": [
    {
     "name": "stdout",
     "output_type": "stream",
     "text": [
      "Training: is_home\n",
      "[0]\tvalidation_0-logloss:0.660936\tvalidation_1-logloss:0.659615\n",
      "[10]\tvalidation_0-logloss:0.528262\tvalidation_1-logloss:0.521156\n",
      "[20]\tvalidation_0-logloss:0.502661\tvalidation_1-logloss:0.494167\n",
      "[30]\tvalidation_0-logloss:0.494279\tvalidation_1-logloss:0.485179\n",
      "[40]\tvalidation_0-logloss:0.490883\tvalidation_1-logloss:0.482072\n",
      "[50]\tvalidation_0-logloss:0.488738\tvalidation_1-logloss:0.480459\n",
      "[60]\tvalidation_0-logloss:0.487355\tvalidation_1-logloss:0.479706\n",
      "[70]\tvalidation_0-logloss:0.486215\tvalidation_1-logloss:0.478545\n",
      "[80]\tvalidation_0-logloss:0.485513\tvalidation_1-logloss:0.477968\n",
      "[90]\tvalidation_0-logloss:0.484644\tvalidation_1-logloss:0.477975\n",
      "[99]\tvalidation_0-logloss:0.484103\tvalidation_1-logloss:0.477956\n",
      "Train accuracy: 0.378222222222\n",
      "Test accuracy: 0.371\n",
      "\n",
      "Training: is_work\n",
      "[0]\tvalidation_0-logloss:0.647692\tvalidation_1-logloss:0.6478\n",
      "[10]\tvalidation_0-logloss:0.457093\tvalidation_1-logloss:0.458621\n",
      "[20]\tvalidation_0-logloss:0.417794\tvalidation_1-logloss:0.421924\n",
      "[30]\tvalidation_0-logloss:0.408067\tvalidation_1-logloss:0.413914\n",
      "[40]\tvalidation_0-logloss:0.404718\tvalidation_1-logloss:0.411969\n",
      "[50]\tvalidation_0-logloss:0.403106\tvalidation_1-logloss:0.412555\n",
      "[60]\tvalidation_0-logloss:0.401693\tvalidation_1-logloss:0.413954\n",
      "[70]\tvalidation_0-logloss:0.400854\tvalidation_1-logloss:0.415194\n",
      "[80]\tvalidation_0-logloss:0.399935\tvalidation_1-logloss:0.41604\n",
      "[90]\tvalidation_0-logloss:0.39906\tvalidation_1-logloss:0.416922\n",
      "[99]\tvalidation_0-logloss:0.398391\tvalidation_1-logloss:0.417835\n",
      "Train accuracy: 0.280482550625\n",
      "Test accuracy: 0.269379844961\n",
      "\n",
      "Wall time: 1min 7s\n"
     ]
    }
   ],
   "source": [
    "%%time\n",
    "model = {}\n",
    "\n",
    "# последовательно обучаем два классификатора\n",
    "for col in ['is_home', 'is_work']:\n",
    "    \n",
    "    #выберем для обучение транзакции только тех клиентов из train, у которых хоть в одной транзакции указано место работы/жительства\n",
    "    cust_train = dt[dt['is_train'] == 1].groupby('customer_id')[col.replace('is_','has_')].max()\n",
    "    cust_train = cust_train[cust_train == 1].index\n",
    "    \n",
    "    #разобъем train на train/valid для валидации\n",
    "    cust_train, cust_valid = train_test_split(cust_train, test_size = 0.1, shuffle = True, random_state = 2)\n",
    "    \n",
    "    train = pd.DataFrame(cust_train, columns = ['customer_id']).merge(dt, how = 'left')\n",
    "    valid = pd.DataFrame(cust_valid, columns = ['customer_id']).merge(dt, how = 'left')\n",
    "\n",
    "    print (\"Training:\", col)\n",
    "    clf = sklearn.base.clone(model0[col])\n",
    "    clf.fit(train[xs], train[col], eval_metric = 'logloss', eval_set = [(train[xs], train[col]), (valid[xs], valid[col])], verbose=10)\n",
    "    model[col] = clf\n",
    "    print (\"Train accuracy:\", score(train, ys = [col]))\n",
    "    print (\"Test accuracy:\", score(valid, ys = [col]))\n",
    "    print ()\n"
   ]
  },
  {
   "cell_type": "markdown",
   "metadata": {},
   "source": [
    "# Predict"
   ]
  },
  {
   "cell_type": "code",
   "execution_count": 32,
   "metadata": {},
   "outputs": [
    {
     "name": "stdout",
     "output_type": "stream",
     "text": [
      "Wall time: 32.2 s\n"
     ]
    }
   ],
   "source": [
    "%%time\n",
    "cust_test = dt[dt['is_train'] == 0]['customer_id'].unique()\n",
    "test = pd.DataFrame(cust_test, columns = ['customer_id']).merge(dt, how = 'left')\n",
    "test_res = predict_proba(test)"
   ]
  },
  {
   "cell_type": "code",
   "execution_count": 33,
   "metadata": {},
   "outputs": [],
   "source": [
    "test_res.rename(columns = {\n",
    "        'customer_id':'customer_id',\n",
    "        'is_home:add_lat': 'home_add_lat',\n",
    "        'is_home:add_lon': 'home_add_lon',\n",
    "        'is_work:add_lat': 'work_add_lat',\n",
    "        'is_work:add_lon': 'work_add_lon'}, inplace = True)\n",
    "test_res_id = test_res[['customer_id', 'work_add_lat', 'work_add_lon', 'home_add_lat', 'home_add_lon']]"
   ]
  },
  {
   "cell_type": "markdown",
   "metadata": {},
   "source": [
    "# Формируем submission-файл"
   ]
  },
  {
   "cell_type": "code",
   "execution_count": 34,
   "metadata": {},
   "outputs": [],
   "source": [
    "submission = pd.DataFrame(test['customer_id'].unique(), columns = ['customer_id'])\n",
    "\n",
    "# Заполняем пропуски\n",
    "submission = submission.merge(test_res_id, how = 'left').fillna(0).sort_values(['customer_id'])\n",
    "\n",
    "# Пишем файл submission\n",
    "submission.to_csv('predict_100.csv', index = False, float_format='%.10f')"
   ]
  },
  {
   "cell_type": "markdown",
   "metadata": {},
   "source": [
    "# Проверка валидности submission-файла"
   ]
  },
  {
   "cell_type": "code",
   "execution_count": 35,
   "metadata": {},
   "outputs": [],
   "source": [
    "# от Иваницкий Илья и Amir Safiullin\n",
    "import pandas as pd\n",
    "import numpy as np\n",
    "\n",
    "path_to_csv = 'predict_100.csv'\n",
    "dfs = pd.read_csv('sample.csv')\n",
    "df = pd.read_csv(path_to_csv)\n",
    "assert df.shape == (9997, 5), u'Мало или много строк'\n",
    "\n",
    "# несмотря на то, что названия не имеют особого значения, правильный порядк колонок позволит не запутаться в широте-долготе\n",
    "# assert list(df.columns) == ['_ID_', '_WORK_LAT_', '_WORK_LON_', '_HOME_LAT_', '_HOME_LON_'], u'Неверные названия столбцов'\n",
    "assert np.any(df['customer_id'].duplicated()) == False, u'Одному клиенту соответствует больше одной записи'\n",
    "for col_name in df.columns:\n",
    "    if col_name != 'customer_id':\n",
    "        assert df[col_name].dtype in (np.float, np.int), u'В колонке {col_name} есть NULL'.format(col_name=col_name)\n",
    "    assert df[col_name].isnull().sum() == 0, u'В колонке {col_name} есть NULL'.format(col_name=col_name)"
   ]
  },
  {
   "cell_type": "code",
   "execution_count": 36,
   "metadata": {},
   "outputs": [
    {
     "name": "stdout",
     "output_type": "stream",
     "text": [
      "set()\n",
      "0 строк лишних\n",
      "set()\n",
      "0 строк не хватает\n"
     ]
    }
   ],
   "source": [
    "# проверка на лишние строки\n",
    "dfs2 = set(dfs['customer_id'])\n",
    "df2 = set(df['customer_id'])\n",
    "print(df2.difference(dfs2))\n",
    "print(str(len(df2.difference(dfs2))) + ' строк лишних')\n",
    "print(dfs2.difference(df2))\n",
    "print(str(len(dfs2.difference(df2))) + ' строк не хватает')"
   ]
  },
  {
   "cell_type": "code",
   "execution_count": null,
   "metadata": {},
   "outputs": [],
   "source": []
  }
 ],
 "metadata": {
  "kernelspec": {
   "display_name": "Python 3",
   "language": "python",
   "name": "python3"
  },
  "language_info": {
   "codemirror_mode": {
    "name": "ipython",
    "version": 3
   },
   "file_extension": ".py",
   "mimetype": "text/x-python",
   "name": "python",
   "nbconvert_exporter": "python",
   "pygments_lexer": "ipython3",
   "version": "3.6.3"
  }
 },
 "nbformat": 4,
 "nbformat_minor": 2
}
