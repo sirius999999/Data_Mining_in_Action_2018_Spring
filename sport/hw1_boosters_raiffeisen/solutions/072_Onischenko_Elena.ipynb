{
 "cells": [
  {
   "cell_type": "markdown",
   "metadata": {},
   "source": [
    "# ** [Boosters] Raiffeisen Data Cup. **\n",
    "\n",
    "Онищенко Елена (Maatkara)\n",
    "\n",
    "Общий подход:\n",
    "- Добавляем к каждой транзакции столбец: is_work (если транзакция находится в пределах 0.02 от дома клиента)\n",
    "- Добавляем к каждой транзакции столбец: is_home (если транзакция находится в пределах 0.02 от работы клиента)\n",
    "- Обучаем классификатор предсказывающий вероятность (is_home == 1) для транзакции\n",
    "- Обучаем классификатор предсказывающий вероятность (is_work == 1) для транзакции"
   ]
  },
  {
   "cell_type": "markdown",
   "metadata": {},
   "source": [
    "Использован Baseline Антона Чикина."
   ]
  },
  {
   "cell_type": "markdown",
   "metadata": {
    "toc": true
   },
   "source": [
    "<h1>Table of Contents<span class=\"tocSkip\"></span></h1>\n",
    "<div class=\"toc\"><ul class=\"toc-item\"><li><span><a href=\"#Читаем-train_set,-test_set,-соединяем-в-один-датасет\" data-toc-modified-id=\"Читаем-train_set,-test_set,-соединяем-в-один-датасет-1\"><span class=\"toc-item-num\">1&nbsp;&nbsp;</span>Читаем train_set, test_set, соединяем в один датасет</a></span><ul class=\"toc-item\"><li><span><a href=\"#Обрабатываем-дату-транзакции-и-категориальные-признаки\" data-toc-modified-id=\"Обрабатываем-дату-транзакции-и-категориальные-признаки-1.1\"><span class=\"toc-item-num\">1.1&nbsp;&nbsp;</span>Обрабатываем дату транзакции и категориальные признаки</a></span></li><li><span><a href=\"#Фичи-для-даты\" data-toc-modified-id=\"Фичи-для-даты-1.2\"><span class=\"toc-item-num\">1.2&nbsp;&nbsp;</span>Фичи для даты</a></span></li><li><span><a href=\"#Приводим-адрес-транзакции-для-pos-и-atm-транзакций-к-единообразному-виду\" data-toc-modified-id=\"Приводим-адрес-транзакции-для-pos-и-atm-транзакций-к-единообразному-виду-1.3\"><span class=\"toc-item-num\">1.3&nbsp;&nbsp;</span>Приводим адрес транзакции для pos и atm-транзакций к единообразному виду</a></span></li><li><span><a href=\"#Генерируем-признаки-is_home,-is_work\" data-toc-modified-id=\"Генерируем-признаки-is_home,-is_work-1.4\"><span class=\"toc-item-num\">1.4&nbsp;&nbsp;</span>Генерируем признаки is_home, is_work</a></span></li><li><span><a href=\"#Генерируем-категориальный-признак-для-адреса\" data-toc-modified-id=\"Генерируем-категориальный-признак-для-адреса-1.5\"><span class=\"toc-item-num\">1.5&nbsp;&nbsp;</span>Генерируем категориальный признак для адреса</a></span></li><li><span><a href=\"#Генерируем-несколько-абонентских-фич\" data-toc-modified-id=\"Генерируем-несколько-абонентских-фич-1.6\"><span class=\"toc-item-num\">1.6&nbsp;&nbsp;</span>Генерируем несколько абонентских фич</a></span></li><li><span><a href=\"#amount---etc.\" data-toc-modified-id=\"amount---etc.-1.7\"><span class=\"toc-item-num\">1.7&nbsp;&nbsp;</span>amount - etc.</a></span></li><li><span><a href=\"#MCC\" data-toc-modified-id=\"MCC-1.8\"><span class=\"toc-item-num\">1.8&nbsp;&nbsp;</span>MCC</a></span></li></ul></li><li><span><a href=\"#Обучение\" data-toc-modified-id=\"Обучение-2\"><span class=\"toc-item-num\">2&nbsp;&nbsp;</span>Обучение</a></span><ul class=\"toc-item\"><li><span><a href=\"#Вспомогательные-функции-для-оценки-точности-классификатора\" data-toc-modified-id=\"Вспомогательные-функции-для-оценки-точности-классификатора-2.1\"><span class=\"toc-item-num\">2.1&nbsp;&nbsp;</span>Вспомогательные функции для оценки точности классификатора</a></span></li><li><span><a href=\"#Признаки,-на-которых-будем-обучать-модель\" data-toc-modified-id=\"Признаки,-на-которых-будем-обучать-модель-2.2\"><span class=\"toc-item-num\">2.2&nbsp;&nbsp;</span>Признаки, на которых будем обучать модель</a></span></li><li><span><a href=\"#Создаем-классификаторы\" data-toc-modified-id=\"Создаем-классификаторы-2.3\"><span class=\"toc-item-num\">2.3&nbsp;&nbsp;</span>Создаем классификаторы</a></span></li><li><span><a href=\"#Обучаем-классификаторы\" data-toc-modified-id=\"Обучаем-классификаторы-2.4\"><span class=\"toc-item-num\">2.4&nbsp;&nbsp;</span>Обучаем классификаторы</a></span></li><li><span><a href=\"#Подбор-гиперпараметров\" data-toc-modified-id=\"Подбор-гиперпараметров-2.5\"><span class=\"toc-item-num\">2.5&nbsp;&nbsp;</span>Подбор гиперпараметров</a></span></li></ul></li><li><span><a href=\"#Predict\" data-toc-modified-id=\"Predict-3\"><span class=\"toc-item-num\">3&nbsp;&nbsp;</span>Predict</a></span><ul class=\"toc-item\"><li><span><a href=\"#Формируем-submission-файл\" data-toc-modified-id=\"Формируем-submission-файл-3.1\"><span class=\"toc-item-num\">3.1&nbsp;&nbsp;</span>Формируем submission-файл</a></span></li></ul></li></ul></div>"
   ]
  },
  {
   "cell_type": "code",
   "execution_count": 3,
   "metadata": {},
   "outputs": [],
   "source": [
    "import pandas as pd\n",
    "import numpy as np\n",
    "import datetime\n",
    "\n",
    "import xgboost as xgb\n",
    "import sklearn\n",
    "\n",
    "from sklearn.model_selection import KFold\n",
    "from sklearn.model_selection import train_test_split\n",
    "\n",
    "#import pymorphy2"
   ]
  },
  {
   "cell_type": "code",
   "execution_count": 4,
   "metadata": {},
   "outputs": [],
   "source": [
    "pd.set_option('display.max_columns', 300)\n",
    "pd.set_option('display.max_rows', 100)"
   ]
  },
  {
   "cell_type": "code",
   "execution_count": 5,
   "metadata": {},
   "outputs": [],
   "source": [
    "# Определим типы колонок для экономии памяти\n",
    "dtypes = {\n",
    "    'transaction_date': str,\n",
    "    'atm_address': str,\n",
    "    'country': str,\n",
    "    'city': str,\n",
    "    'amount': np.float32,\n",
    "    'currency': np.float32,\n",
    "    'mcc': str,\n",
    "    'customer_id': str,\n",
    "    'pos_address': str,\n",
    "    'atm_address': str,\n",
    "    'pos_adress_lat': np.float32,\n",
    "    'pos_adress_lon': np.float32,\n",
    "    'pos_address_lat': np.float32,\n",
    "    'pos_address_lon': np.float32,\n",
    "    'atm_address_lat': np.float32,\n",
    "    'atm_address_lon': np.float32,\n",
    "    'home_add_lat': np.float32,\n",
    "    'home_add_lon': np.float32,\n",
    "    'work_add_lat': np.float32,\n",
    "    'work_add_lon': np.float32,\n",
    "}\n",
    "\n",
    "# для экономии памяти будем загружать только часть атрибутов транзакций\n",
    "usecols_train = ['customer_id','transaction_date','amount','country', 'city', 'currency', 'mcc', 'pos_adress_lat', 'pos_adress_lon', 'atm_address_lat', 'atm_address_lon','home_add_lat','home_add_lon','work_add_lat','work_add_lon']\n",
    "usecols_test = ['customer_id','transaction_date','amount','country', 'city', 'currency', 'mcc', 'pos_address_lat', 'pos_address_lon', 'atm_address_lat', 'atm_address_lon']"
   ]
  },
  {
   "cell_type": "markdown",
   "metadata": {},
   "source": [
    "## Читаем train_set, test_set, соединяем в один датасет"
   ]
  },
  {
   "cell_type": "code",
   "execution_count": 19,
   "metadata": {},
   "outputs": [],
   "source": [
    "PTD = '/home/maatkara/2018/ML/DMIA/sport/data/RaiffeisenDataCup/'"
   ]
  },
  {
   "cell_type": "code",
   "execution_count": 20,
   "metadata": {},
   "outputs": [],
   "source": [
    "PTIN = PTD + 'raw/'\n",
    "PTR = PTD + 'result/'\n",
    "PTTMP = PTD + '_tmp/'\n",
    "PTSUB = PTD + 'sub/'"
   ]
  },
  {
   "cell_type": "code",
   "execution_count": 21,
   "metadata": {},
   "outputs": [],
   "source": [
    "eps = {}\n",
    "EPSILON = 0.02\n",
    "eps['is_home'] = EPSILON\n",
    "eps['is_work'] = EPSILON\n"
   ]
  },
  {
   "cell_type": "code",
   "execution_count": 22,
   "metadata": {},
   "outputs": [],
   "source": [
    "train = pd.read_csv(PTIN + 'train_set.csv', dtype = dtypes, usecols = usecols_train)\n",
    "train.rename(columns = {'pos_adress_lat': 'pos_address_lat', 'pos_adress_lon': 'pos_address_lon'}, inplace = True)\n",
    "\n",
    "test = pd.read_csv(PTIN + 'test_set.csv', dtype = dtypes, usecols = usecols_test)\n",
    "submission = pd.DataFrame(test['customer_id'].unique(), columns = ['_ID_'])\n",
    "\n",
    "# соединяем test/train в одном DataFrame\n",
    "train['is_train'] = np.int32(1)\n",
    "test['is_train'] = np.int32(0)\n",
    "dt = pd.concat([train, test])\n",
    "\n",
    "#del train, test"
   ]
  },
  {
   "cell_type": "markdown",
   "metadata": {},
   "source": [
    "### Обрабатываем дату транзакции и категориальные признаки"
   ]
  },
  {
   "cell_type": "code",
   "execution_count": 14,
   "metadata": {},
   "outputs": [],
   "source": [
    "dt['city'] = dt['city'].str.lower()"
   ]
  },
  {
   "cell_type": "code",
   "execution_count": 15,
   "metadata": {},
   "outputs": [],
   "source": [
    "dt['city'] = dt['city'].str.rstrip('.#,! ')"
   ]
  },
  {
   "cell_type": "code",
   "execution_count": 16,
   "metadata": {},
   "outputs": [],
   "source": [
    "dt.city.fillna('abcd', inplace=True)"
   ]
  },
  {
   "cell_type": "code",
   "execution_count": 17,
   "metadata": {},
   "outputs": [],
   "source": [
    "# Чистим города\n",
    "dt.loc[(dt.city.str.contains('moscow')) | (dt.city.str.contains('moskow')) & (~dt.city.str.contains('reg')) & (~dt.city.str.contains('obl')) & (~dt.city.str.contains('ska')), 'city'] = 'moscow'#.value_counts()#[:20]\n",
    "dt.loc[dt.city.str.contains('moskva') & (~dt.city.str.contains('reg')) & (~dt.city.str.contains('obl')), 'city'] = 'moscow' # .value_counts()#[:20]\n",
    "dt.loc[dt.city.str.contains('eter') | dt.city.str.contains('spb'), 'city'] = 'st-peterburg'\n",
    "dt.loc[dt.city.str.contains('dolgoprudnii'), 'city'] = 'dolgoprudnyy'\n",
    "dt.loc[dt.city.str.contains('volhov'), 'city'] = 'volkhov'\n",
    "\n"
   ]
  },
  {
   "cell_type": "code",
   "execution_count": null,
   "metadata": {},
   "outputs": [],
   "source": [
    "dt.loc[dt.city.str.contains('himki'), 'city'] ='himki'"
   ]
  },
  {
   "cell_type": "code",
   "execution_count": 18,
   "metadata": {},
   "outputs": [],
   "source": [
    "d_city = {\n",
    "    'nizjniy novg' : 'n.novgorod',\n",
    "    'nizhniy novg' : 'n.novgorod',\n",
    "    'n novgorod' : 'n.novgorod',\n",
    "    'nvsib'  : 'novosibirsk',\n",
    "    'cherepov' : 'cherepovets',\n",
    "    'mytis' : 'mytishchi',\n",
    "    'balashi' : 'balashikha',\n",
    "    'cheljabinsk' : 'chelyabinsk',\n",
    "    'cherepovec' : 'cherepovets',\n",
    "    'ekaterinb' : 'ekaterinburg',\n",
    "    'yekatr' :  'ekaterinburg',\n",
    "    'chelbn' : 'chelyabinsk',\n",
    "    'yaroslavl' : 'yaroslavl',\n",
    "    'rostov na don' : 'rostov-na-don',\n",
    "    'odincovo' : 'odintsovo',\n",
    "    'voronej ' : 'voronezh',\n",
    "    'vsevolojsk' : 'vsevolozhsk',\n",
    "    'kemerv' : 'kemervo',\n",
    "    'kommunar' :'kommunarka'\n",
    "}"
   ]
  },
  {
   "cell_type": "code",
   "execution_count": 19,
   "metadata": {},
   "outputs": [],
   "source": [
    "for w in (list(d_city.keys())):\n",
    "    dt.loc[dt.city.str.contains(w) & (~dt.city.str.contains('reg')) & (~dt.city.str.contains('obl')),  'city'] = d_city[w]\n",
    "    "
   ]
  },
  {
   "cell_type": "code",
   "execution_count": 20,
   "metadata": {},
   "outputs": [],
   "source": [
    "dt['currency'] = dt['currency'].fillna(-1).astype(np.int32)\n",
    "dt['mcc'] = dt['mcc'].apply(lambda x: int(x.replace(',', ''))).astype(np.int32)\n",
    "dt['city_f'] = dt['city'].factorize()[0].astype(np.int32)\n",
    "dt['country'] = dt['country'].factorize()[0].astype(np.int32)\n",
    "\n",
    "# удаляем транзакции без даты\n",
    "dt.drop(dt[dt['transaction_date'].isnull()].index, axis = 0, inplace = True)\n",
    "dt['transaction_date'] = dt['transaction_date'].apply(lambda x: datetime.datetime.strptime(x, '%Y-%m-%d'))"
   ]
  },
  {
   "cell_type": "markdown",
   "metadata": {},
   "source": [
    "### Фичи для даты"
   ]
  },
  {
   "cell_type": "code",
   "execution_count": 21,
   "metadata": {},
   "outputs": [],
   "source": [
    "dt['weekday'] = dt['transaction_date'].dt.weekday.astype(np.int32)\n",
    "dt['year_day'] = dt['transaction_date'].dt.dayofyear.astype(np.int32)\n",
    "dt['is_holyday'] = ((dt['weekday'] >= 5)).astype(np.int32)"
   ]
  },
  {
   "cell_type": "code",
   "execution_count": 22,
   "metadata": {},
   "outputs": [],
   "source": [
    "list_of_holy_add = ['2017-02-23', '2017-02-24','2017-03-08', '2017-05-01', '2017-05-08','2017-05-09','2017-06-12','2017-11-06']"
   ]
  },
  {
   "cell_type": "code",
   "execution_count": 23,
   "metadata": {},
   "outputs": [],
   "source": [
    "dt['is_holyday'] = dt['is_holyday'] + (dt['transaction_date'].astype(str).isin(list_of_holy_add)).astype(np.int32)"
   ]
  },
  {
   "cell_type": "code",
   "execution_count": 24,
   "metadata": {},
   "outputs": [],
   "source": [
    "dt['day_bef_holyday'] = 5 - dt['weekday']\n",
    "dt.loc[dt['day_bef_holyday'] < 0, ['day_bef_holyday']] = 0\n",
    "d_holy_w = {'2017-02-20' : 3,'2017-02-21' : 2, '2017-02-22' : 1,'2017-03-07' : 1,'2017-03-06' : 2}\n"
   ]
  },
  {
   "cell_type": "code",
   "execution_count": 25,
   "metadata": {},
   "outputs": [],
   "source": [
    "dt['transaction_date'].astype(str).isin(d_holy_w.keys())['day_bef_holyday'] = dt['transaction_date'].astype(str).map(d_holy_w)\n"
   ]
  },
  {
   "cell_type": "code",
   "execution_count": 26,
   "metadata": {},
   "outputs": [],
   "source": [
    "dt['day_bef_holyday'] = dt['day_bef_holyday'].astype(np.int32)"
   ]
  },
  {
   "cell_type": "markdown",
   "metadata": {},
   "source": [
    "### Приводим адрес транзакции для pos и atm-транзакций к единообразному виду"
   ]
  },
  {
   "cell_type": "code",
   "execution_count": 27,
   "metadata": {},
   "outputs": [],
   "source": [
    "dt['is_atm'] = (~dt['atm_address_lat'].isnull()).astype(np.int32)\n",
    "dt['is_pos'] = (~dt['pos_address_lat'].isnull()).astype(np.int32)\n",
    "\n",
    "dt['address_lat'] = dt['atm_address_lat'].fillna(0) + dt['pos_address_lat'].fillna(0)\n",
    "dt['address_lon'] = dt['atm_address_lon'].fillna(0) + dt['pos_address_lon'].fillna(0)\n",
    "\n",
    "dt.drop(['atm_address_lat','atm_address_lon','pos_address_lat','pos_address_lon'], axis = 1, inplace = True)\n",
    "\n",
    "# удалим транзакции без адреса\n",
    "dt.drop(dt[((dt['address_lon'] == 0) & (dt['address_lon'] == 0))].index, axis = 0, inplace = True)"
   ]
  },
  {
   "cell_type": "markdown",
   "metadata": {},
   "source": [
    "### Генерируем признаки is_home, is_work"
   ]
  },
  {
   "cell_type": "code",
   "execution_count": 28,
   "metadata": {},
   "outputs": [],
   "source": [
    "# eps = EPSILON\n",
    "lat = dt['home_add_lat'] - dt['address_lat']\n",
    "lon = dt['home_add_lon'] - dt['address_lon']\n",
    "#MX добавим расстояние от места траты до дома и до работы\n",
    "dt['l_home'] = np.sqrt((lat ** 2) + (lon ** 2))\n",
    "\n",
    "\n",
    "dt['is_home_0'] = (dt['l_home'] <= EPSILON).astype(np.int32) #MX\n",
    "dt['is_home'] = (dt['l_home'] <= eps['is_home']).astype(np.int32) #MX\n",
    "dt['has_home'] = (~dt['home_add_lon'].isnull()).astype(np.int32)\n",
    "\n",
    "\n",
    "lat = dt['work_add_lat'] - dt['address_lat']\n",
    "lon = dt['work_add_lon'] - dt['address_lon']\n",
    "\n",
    "#MX добавим расстояние от места траты до дома и до работы\n",
    "dt['l_work'] = np.sqrt((lat ** 2) + (lon ** 2))\n",
    "\n",
    "dt['is_work_0'] = ( dt['l_work'] <= EPSILON).astype(np.int32)\n",
    "dt['is_work'] = ( dt['l_work'] <= eps['is_work']).astype(np.int32)\n",
    "dt['has_work'] = (~dt['work_add_lon'].isnull()).astype(np.int32)\n",
    "\n",
    "dt.drop(['l_home', 'l_work'], axis = 1, inplace = True)\n",
    "# dt.drop(['work_add_lat','work_add_lon','home_add_lat','home_add_lon'], axis = 1, inplace = True)"
   ]
  },
  {
   "cell_type": "markdown",
   "metadata": {},
   "source": [
    "### Генерируем категориальный признак для адреса"
   ]
  },
  {
   "cell_type": "code",
   "execution_count": 32,
   "metadata": {},
   "outputs": [],
   "source": [
    "dt['address'] = dt['address_lat'].apply(lambda x: \"%.02f\" % x) + ';' + dt['address_lon'].apply(lambda x: \"%.02f\" % x)\n",
    "dt['address'] = dt['address'].factorize()[0].astype(np.int32)"
   ]
  },
  {
   "cell_type": "markdown",
   "metadata": {},
   "source": [
    "### Генерируем несколько абонентских фич"
   ]
  },
  {
   "cell_type": "code",
   "execution_count": 34,
   "metadata": {},
   "outputs": [],
   "source": [
    "# количество транзакций каждого клиента\n",
    "dt = dt.merge(dt.groupby('customer_id')['amount'].count().reset_index(name = 'tx'), how = 'left')\n",
    "dt['tx'] = dt['tx'].astype(np.int32) \n",
    "\n",
    "dt = dt.merge(dt.groupby(['customer_id','address'])['amount'].count().reset_index(name = 'tx_cust_addr'), how = 'left')\n",
    "dt['tx_cust_addr'] = dt['tx_cust_addr'].astype(np.int32) # кол-во транзакций каждого клиента в каждой точке \n",
    "\n",
    "# какая часть транзакций клиента приходится на данный адрес\n",
    "dt['ratio1'] = dt['tx_cust_addr'] / dt['tx']"
   ]
  },
  {
   "cell_type": "code",
   "execution_count": 35,
   "metadata": {},
   "outputs": [],
   "source": [
    "\n",
    "dt = dt.merge(dt.groupby(['customer_id','city_f'])['amount'].count().reset_index(name = 'city_cust_addr'), how = 'left')\n",
    "dt['city_cust_addr'] = dt['city_cust_addr'].astype(np.int32) # кол-во транзакций каждого клиента в каждоv городе \n",
    "\n",
    "# какая часть транзакций клиента приходится на данный адрес\n",
    "dt['ratio3'] = dt['city_cust_addr'] / dt['tx']"
   ]
  },
  {
   "cell_type": "code",
   "execution_count": 36,
   "metadata": {},
   "outputs": [],
   "source": [
    "dt= dt.merge(dt.groupby('customer_id')['address_lat'].median().reset_index(name = 'tx_cust_median_lat'), how = 'left')\n",
    "dt= dt.merge(dt.groupby('customer_id')['address_lon'].median().reset_index(name = 'tx_cust_median_lon'), how = 'left')\n"
   ]
  },
  {
   "cell_type": "code",
   "execution_count": 37,
   "metadata": {},
   "outputs": [],
   "source": [
    "dt= dt.merge(dt.groupby('customer_id')['address_lat'].mean().reset_index(name = 'tx_cust_mean_lat'), how = 'left')\n",
    "dt= dt.merge(dt.groupby('customer_id')['address_lon'].mean().reset_index(name = 'tx_cust_mean_lon'), how = 'left')\n"
   ]
  },
  {
   "cell_type": "code",
   "execution_count": 38,
   "metadata": {},
   "outputs": [],
   "source": [
    "# eps = EPSILON\n",
    "lat_ = dt['tx_cust_median_lat'] - dt['address_lat']\n",
    "lon_ = dt['tx_cust_median_lon'] - dt['address_lon']\n",
    "\n",
    "#MX добавим расстояние от места траты до медины трат по каждому клиенту\n",
    "dt['l_median'] = np.sqrt((lat_ ** 2) + (lon_ ** 2))\n",
    "dt['is_median'] = (dt['l_median'] <= EPSILON).astype(np.int32) #MX\n",
    "# dt.drop(['work_add_lat','work_add_lon','home_add_lat','home_add_lon'], axis = 1, inplace = True)"
   ]
  },
  {
   "cell_type": "code",
   "execution_count": 39,
   "metadata": {},
   "outputs": [],
   "source": [
    "# eps = EPSILON\n",
    "lat_ = dt['tx_cust_mean_lat'] - dt['address_lat']\n",
    "lon_ = dt['tx_cust_mean_lon'] - dt['address_lon']\n",
    "\n",
    "#MX добавим расстояние от места траты до медины трат по каждому клиенту\n",
    "dt['l_mean'] = np.sqrt((lat_ ** 2) + (lon_ ** 2))\n",
    "dt['is_mean'] = (dt['l_mean'] <= EPSILON).astype(np.int32) #MX\n",
    "# dt.drop(['work_add_lat','work_add_lon','home_add_lat','home_add_lon'], axis = 1, inplace = True)"
   ]
  },
  {
   "cell_type": "markdown",
   "metadata": {},
   "source": [
    "### amount - etc."
   ]
  },
  {
   "cell_type": "code",
   "execution_count": 46,
   "metadata": {},
   "outputs": [],
   "source": [
    "d_curs = {643 : 0,\n",
    "          978 : np.log(63.68),\n",
    "          784 : np.log(16.3),\n",
    "          840 : np.log(59.94)}"
   ]
  },
  {
   "cell_type": "code",
   "execution_count": 47,
   "metadata": {},
   "outputs": [
    {
     "data": {
      "text/plain": [
       "0.000000    2168407\n",
       "4.153871       2192\n",
       "4.093344       1866\n",
       "2.791165          7\n",
       "Name: currency, dtype: int64"
      ]
     },
     "execution_count": 47,
     "metadata": {},
     "output_type": "execute_result"
    }
   ],
   "source": [
    "dt.currency.map(d_curs).value_counts()"
   ]
  },
  {
   "cell_type": "code",
   "execution_count": 48,
   "metadata": {},
   "outputs": [],
   "source": [
    "dt['amount_r'] = dt.amount + dt.currency.map(d_curs)"
   ]
  },
  {
   "cell_type": "code",
   "execution_count": 49,
   "metadata": {},
   "outputs": [],
   "source": [
    "dt['amount_value'] = 10 ** dt['amount_r']"
   ]
  },
  {
   "cell_type": "code",
   "execution_count": 50,
   "metadata": {},
   "outputs": [],
   "source": [
    "# сумма транзакций каждого клиента\n",
    "dt = dt.merge(dt.groupby('customer_id')['amount_value'].sum().reset_index(name = 'sum_tr'), how = 'left')\n",
    "\n",
    "dt = dt.merge(dt.groupby(['customer_id','address'])['amount_value'].sum().reset_index(name = 'sum_tr_cust_addr'), how = 'left')\n",
    " \n",
    "#какая часть суммы транзакций клиента приходится на данный адрес\n",
    "dt['ratio2'] = dt['sum_tr_cust_addr'] / dt['sum_tr'].astype(np.float32)\n"
   ]
  },
  {
   "cell_type": "markdown",
   "metadata": {},
   "source": [
    "### MCC\n",
    "\n"
   ]
  },
  {
   "cell_type": "code",
   "execution_count": 59,
   "metadata": {},
   "outputs": [],
   "source": [
    "mcc_df = pd.read_csv(PTIN + 'mcc_t.csv', sep='\\t')\n",
    "mcc_df.fillna('абс', inplace=True)"
   ]
  },
  {
   "cell_type": "code",
   "execution_count": 60,
   "metadata": {},
   "outputs": [],
   "source": [
    "dt['mcc_gr'] = dt['mcc'].map(mcc_df[['MCC', 'Группа']].set_index('MCC')['Группа'].to_dict())\n",
    "dt['mcc_gr_le'] = dt['mcc_gr'].factorize()[0].astype(np.int32)"
   ]
  },
  {
   "cell_type": "code",
   "execution_count": 61,
   "metadata": {},
   "outputs": [],
   "source": [
    "dt['is_shop'] = dt['mcc_gr'].str.lower().str.contains('магазин').astype(np.int32)"
   ]
  },
  {
   "cell_type": "markdown",
   "metadata": {},
   "source": [
    "## Обучение"
   ]
  },
  {
   "cell_type": "markdown",
   "metadata": {},
   "source": [
    "### Вспомогательные функции для оценки точности классификатора"
   ]
  },
  {
   "cell_type": "code",
   "execution_count": 65,
   "metadata": {},
   "outputs": [],
   "source": [
    "def _best(x):\n",
    "    \"\"\"\n",
    "    ret - массив координат адресов, наиболее вероятных (по клиенту) (home/work)\n",
    "    \"\"\"\n",
    "    ret = None\n",
    "    for col in ys:\n",
    "        pred = ('pred:%s' % col)\n",
    "        if pred in x:\n",
    "            i = (x[pred].idxmax())\n",
    "            cols = [pred,'address_lat','address_lon']\n",
    "            if col in x:\n",
    "                col_0 = col + '_0'\n",
    "                cols.append(col)\n",
    "                cols.append(col_0)\n",
    "            tmp = x.loc[i,cols]\n",
    "            tmp.rename({\n",
    "                'address_lat':'%s:add_lat' % col,\n",
    "                'address_lon':'%s:add_lon' % col,\n",
    "            }, inplace = True)\n",
    "            if ret is None:\n",
    "                ret = tmp\n",
    "            else:\n",
    "                ret = pd.concat([ret, tmp])\n",
    "    return ret"
   ]
  },
  {
   "cell_type": "code",
   "execution_count": 66,
   "metadata": {},
   "outputs": [],
   "source": [
    "def predict_proba(dt, xs, ys=['is_home', 'is_work']):\n",
    "    for col in ys:\n",
    "        pred = ('pred:%s' % col)\n",
    "        dt[pred] = model[col].predict_proba(dt[xs[col]])[:,1]\n",
    "    return dt.groupby('customer_id').apply(_best).reset_index()"
   ]
  },
  {
   "cell_type": "code",
   "execution_count": 67,
   "metadata": {},
   "outputs": [],
   "source": [
    "def score(dt, xs, ys=['is_home', 'is_work']):\n",
    "    dt_ret = predict_proba(dt, xs, ys)\n",
    "    #print(dt_ret.head())\n",
    "    mean = 0.0\n",
    "    for col in ys:\n",
    "        col_0 = col + '_0'\n",
    "        col_mean = dt_ret[col_0].mean()\n",
    "        mean += col_mean\n",
    "    if len(ys) == 2:\n",
    "        mean = mean / len(ys)\n",
    "    return mean"
   ]
  },
  {
   "cell_type": "code",
   "execution_count": 68,
   "metadata": {},
   "outputs": [],
   "source": [
    "def mean_target_enc(train_df, valid_df, col_tag, cat_feats, n_splits=3, random_state=0, shuffle=True, alpha=10): #, skf=skf):\n",
    "    \n",
    "    vdf = []\n",
    "    feats_new = []\n",
    "    kf = KFold(n_splits=n_splits, shuffle=shuffle, random_state=random_state)\n",
    "    y_train = train_df[col_tag]\n",
    "    glob_mean = y_train.mean()\n",
    "    #print('glob_mean=', glob_mean)\n",
    "    #train_df = pd.concat([train_df, pd.Series(y_train, name='y')], axis=1)\n",
    "    new_train_df = train_df.copy()\n",
    "    new_valid_df = valid_df.copy()\n",
    "    # print(new_valid_df.head())\n",
    "    #for col in cat_feats:\n",
    "        #new_train_df[col + '_mean_target'] = [glob_mean for _ in range(new_train_df.shape[0])]\n",
    "    \n",
    "    cust_train = new_train_df.groupby('customer_id')[col_tag.replace('is_','has_')].max()\n",
    "    cust_train = cust_train[cust_train > 0].index\n",
    "    \n",
    "    for train_idx, valid_idx in kf.split(cust_train):\n",
    "        train_df_cv = pd.DataFrame(cust_train[train_idx], columns = ['customer_id']).merge(new_train_df, how = 'left')\n",
    "        valid_df_cv = pd.DataFrame(cust_train[valid_idx], columns = ['customer_id']).merge(new_train_df, how = 'left')\n",
    "        \n",
    "        for col in cat_feats:\n",
    "            feat_new = col + '_mean_target'\n",
    "            \n",
    "            k = train_df_cv.groupby(col).size()\n",
    "            \n",
    "            means = (train_df_cv.groupby(col)[col_tag].mean() * k + glob_mean * alpha) / (k + alpha)\n",
    "            means_reg = valid_df_cv[col].map(means) # (means * k + glob_mean * alpha) / (k + alpha)\n",
    "            valid_df_cv[feat_new] = means_reg.fillna(glob_mean)\n",
    "            \n",
    "        vdf.append(valid_df_cv)\n",
    "    \n",
    "    new_train_df = pd.concat(vdf)\n",
    "    \n",
    "    for col in cat_feats:\n",
    "        feat_new = col + '_mean_target'\n",
    "        feats_new.append(feat_new)\n",
    "        \n",
    "        k = train_df.groupby(col).size() # кол-во значений\n",
    "        \n",
    "        means = (train_df.groupby(col)[col_tag].mean() * k + glob_mean * alpha) / (k + alpha)\n",
    "        means_reg = valid_df[col].map(means) # (means * k + glob_mean * alpha) / (k + alpha)\n",
    "        new_valid_df[feat_new] = means_reg.fillna(glob_mean)\n",
    "        #print(k)\n",
    "        \n",
    "    #new_valid_df.drop(cat_feats, axis=1, inplace=True)\n",
    "    \n",
    "    return new_train_df, new_valid_df, feats_new"
   ]
  },
  {
   "cell_type": "markdown",
   "metadata": {},
   "source": [
    "### Признаки, на которых будем обучать модель"
   ]
  },
  {
   "cell_type": "code",
   "execution_count": 90,
   "metadata": {},
   "outputs": [],
   "source": [
    "xs_is_home = ['amount_r', 'weekday','year_day','mcc','is_atm','is_pos', 'ratio1', 'address_lat', 'address_lon', 'tx_cust_median_lat', 'tx_cust_median_lon', 'city_f'] #''city',   ,'ratio2'#, 'l_mean', 'mcc_gr_le','country', 'ratio2'- 'is_holyday','currency'\n",
    "xs_is_work =  xs_is_home #+ ['is_shop'] #  +['is_holyday']\n",
    "xs0 = {\n",
    "    'is_home': xs_is_home, #  + ['tx_cust_median_lat'] + ['tx_cust_median_lon'],\n",
    "    'is_work': xs_is_work # + ['ratio3']\n",
    "}\n",
    "\n",
    "ys = ['is_home', 'is_work']"
   ]
  },
  {
   "cell_type": "markdown",
   "metadata": {},
   "source": [
    "### Создаем классификаторы\n"
   ]
  },
  {
   "cell_type": "code",
   "execution_count": 73,
   "metadata": {},
   "outputs": [],
   "source": [
    "params_h = {}"
   ]
  },
  {
   "cell_type": "code",
   "execution_count": 105,
   "metadata": {},
   "outputs": [],
   "source": [
    "params_w = {\n",
    "    #'learning_rate': 0.1,\n",
    "    #'colsample_bytree': 0.65,\n",
    "    #'gamma': 0.18,\n",
    "    #'silent' : 50\n",
    "    'max_depth': 8,\n",
    "    'min_child_weight': 6,\n",
    "    #'subsample': 1.0,\n",
    "    #'reg_alpha': 0.00030293609068908023,\n",
    "    #'reg_lambda': 0.005864849614546989,\n",
    "}"
   ]
  },
  {
   "cell_type": "code",
   "execution_count": 108,
   "metadata": {},
   "outputs": [],
   "source": [
    "model0 = {\n",
    "    'is_home': xgb.XGBClassifier(**params_h, n_estimators = 1000, n_jobs = -1),\n",
    "    'is_work': xgb.XGBClassifier(**params_w, n_estimators = 100, n_jobs = -1),\n",
    "}"
   ]
  },
  {
   "cell_type": "markdown",
   "metadata": {},
   "source": [
    "### Обучаем классификаторы"
   ]
  },
  {
   "cell_type": "code",
   "execution_count": 109,
   "metadata": {
    "scrolled": true
   },
   "outputs": [
    {
     "name": "stdout",
     "output_type": "stream",
     "text": [
      "Training: is_home\n",
      "Test accuracy XGB:\n",
      "[0.41571685662867425, 0.4083408340834083, 0.40504050405040504]\n",
      "------------------------------------------------------------\n",
      "Mean Test accuracy XGB : 0.4096993982541625  std: 0.00446321248642139\n",
      "------------------------------------------------------------\n",
      "\n",
      "Training: is_work\n",
      "Test accuracy XGB:\n",
      "[0.31046511627906975, 0.29261198371146013, 0.3036649214659686]\n",
      "------------------------------------------------------------\n",
      "Mean Test accuracy XGB : 0.3022473404854995  std: 0.007357116169455783\n",
      "------------------------------------------------------------\n",
      "\n",
      "Test accuracy XGB min: 0.35047640889743426\n",
      "\n",
      "Test accuracy XGB: 0.35597336936983104\n"
     ]
    }
   ],
   "source": [
    "model = {}\n",
    "col_lat_add = False\n",
    "mean = 0.\n",
    "mean_test_kf = []\n",
    "mean_t_kf = []\n",
    "cat_feats = ['day_bef_holyday'] #, 'city_f'] # ['address']# ['mcc_gr_le'] #['is_shop']\n",
    "xsd = {}\n",
    "mean_test_d = {}\n",
    "\n",
    "kf = KFold(n_splits=3, shuffle=True, random_state=100)\n",
    "#col_mtarg = ['is_mean', 'is_median']\n",
    "# последовательно обучаем два классификатора\n",
    "\n",
    "\n",
    "for col in ['is_home','is_work']: #'is_home',\n",
    "    \n",
    "    print (\"Training:\", col)\n",
    "    print (\"Test accuracy XGB:\")\n",
    "    #выберем для обучение транзакции только тех клиентов из train, у которых хоть в одной транзакции указано место работы/жительства\n",
    "    cust_train = dt[dt['is_train'] == 1].groupby('customer_id')[col.replace('is_','has_')].max()\n",
    "    cust_train = cust_train[cust_train > 0].index\n",
    "    \n",
    "    #разобъем train на train/valid для валидации\n",
    "    for train_index, test_index in kf.split(cust_train):\n",
    "    \n",
    "        train = pd.DataFrame(cust_train[train_index], columns = ['customer_id']).merge(dt, how = 'left')\n",
    "        valid = pd.DataFrame(cust_train[test_index], columns = ['customer_id']).merge(dt, how = 'left')\n",
    "\n",
    "              \n",
    "        if len(cat_feats)>0:\n",
    "            # Кодирование категориальных средним таргет\n",
    "            train_new, valid_new, feats_new = mean_target_enc(train, valid, col, cat_feats, alpha=10)\n",
    "            xs = xs0[col] + feats_new\n",
    "        else:\n",
    "            train_new, valid_new = train, valid\n",
    "            xs = xs0[col]\n",
    "            \n",
    "        \n",
    "        clf = sklearn.base.clone(model0[col])\n",
    "        clf.fit(train_new[xs], train_new[col],\\\n",
    "                eval_metric = 'logloss',\\\n",
    "                eval_set = [(train_new[xs], train_new[col]),\\\n",
    "                            (valid_new[xs], valid_new[col])], verbose=0) \n",
    "        \n",
    "        xsd[col] = xs\n",
    "        model[col] = clf\n",
    "        col_0 = col + '_0'\n",
    "        #print(col_0)\n",
    "        mean_test_k = score(valid_new, xsd, ys=[col])\n",
    "        mean_t_k = score(train_new, xsd, ys=[col])\n",
    "        mean_test_kf.append(mean_test_k)\n",
    "        mean_t_kf.append(mean_t_k)\n",
    "        #print (mean_test_k )\n",
    "        model = {}\n",
    "    \n",
    "    \n",
    "    print (mean_test_kf)   \n",
    "    mean_test = np.mean(mean_test_kf)\n",
    "    mean_t = np.mean(mean_t_kf)\n",
    "    std_test = np.std(mean_test_kf)\n",
    "    mean_test_d[col] = mean_test_kf\n",
    "    mean += mean_test \n",
    "    mean_test_kf = []\n",
    "    mean_t_kf = []\n",
    "    mean_l =[]\n",
    "    \n",
    "    \n",
    "    print (60*'-')\n",
    "    #print (\"Mean Train accuracy XGB:\", mean_t)\n",
    "    print (\"Mean Test accuracy XGB :\", mean_test, \" std:\", std_test)\n",
    "    print (60*'-')\n",
    "    print ()\n",
    "\n",
    "    \n",
    "for i in range(3):\n",
    "    mean_l.append((mean_test_d[\"is_home\"][i] + mean_test_d[\"is_work\"][i])/ 2)\n",
    "     \n",
    "print (\"Test accuracy XGB min:\", np.min(mean_l)) \n",
    "print()\n",
    "print (\"Test accuracy XGB:\", mean / 2)   \n",
    "\n",
    "# Baseline\n",
    "# is_home\n",
    "# Train accuracy: 0.37755555555555553\n",
    "# Test accuracy: 0.376\n",
    "#\n",
    "# is_work\n",
    "#Train accuracy: 0.26066350710900477\n",
    "# Test accuracy: 0.24806201550387597\n",
    "\n",
    "# "
   ]
  },
  {
   "cell_type": "markdown",
   "metadata": {},
   "source": [
    "### Подбор гиперпараметров"
   ]
  },
  {
   "cell_type": "code",
   "execution_count": 83,
   "metadata": {},
   "outputs": [],
   "source": [
    "from hyperopt import hp\n",
    "from hyperopt import fmin, tpe, hp, STATUS_OK, Trials"
   ]
  },
  {
   "cell_type": "code",
   "execution_count": 84,
   "metadata": {},
   "outputs": [],
   "source": [
    "def score_hp(params):\n",
    "    from sklearn.metrics import log_loss\n",
    "    print(\"Training with params:\")\n",
    "    print(params)\n",
    "    params['max_depth'] = int(params['max_depth'])\n",
    "    dtrain = xgb.DMatrix(X_train, label=y_train)\n",
    "    dvalid = xgb.DMatrix(X_test, label=y_test)\n",
    "    model_ = xgb.train(params, dtrain, params['num_round'])\n",
    "    predictions = model_.predict(dvalid)#.reshape((X_test.shape[0], 2))\n",
    "    score_ = log_loss(y_test, predictions)\n",
    "    print(\"\\tScore {0}\\n\\n\".format(score_))\n",
    "    return {'loss': score_, 'status': STATUS_OK}"
   ]
  },
  {
   "cell_type": "code",
   "execution_count": 92,
   "metadata": {},
   "outputs": [],
   "source": [
    "def optimize(trials):\n",
    "    space = {\n",
    "        'num_round': 100,\n",
    "        #'learning_rate': 0.1,\n",
    "        'learning_rate': hp.quniform('eta', 0.01, 0.1, 0.005),\n",
    "        'max_depth': hp.quniform('max_depth', 3, 17, 1),\n",
    "        'min_child_weight': hp.quniform('min_child_weight', 1, 10, 1),\n",
    "        'subsample': hp.quniform('subsample', 0.6, 1, 0.05),\n",
    "        'gamma': hp.quniform('gamma', 0.05, 1, 0.01),\n",
    "        'colsample_bytree': hp.quniform('colsample_bytree', 0.6, 1, 0.05),\n",
    "        'reg_lambda' : hp.loguniform('reg_lambda', np.log( 1e-5 ), np.log( 100 )),\n",
    "        'reg_alpha' : hp.loguniform('reg_alpha',np.log( 1e-5 ), np.log( 100 )),\n",
    "        #'num_class' : 2,\n",
    "        'eval_metric': 'logloss',\n",
    "        'objective': 'binary:logistic',\n",
    "        'nthread' : 8,\n",
    "        'silent' : 0\n",
    "        }\n",
    "    \n",
    "    best = fmin(score_hp, space, algo=tpe.suggest, trials=trials, max_evals=50)\n",
    "    return best"
   ]
  },
  {
   "cell_type": "code",
   "execution_count": 93,
   "metadata": {
    "scrolled": true
   },
   "outputs": [
    {
     "name": "stdout",
     "output_type": "stream",
     "text": [
      "Training: is_work\n",
      "Training with params:\n",
      "{'colsample_bytree': 0.7000000000000001, 'eval_metric': 'logloss', 'gamma': 0.66, 'learning_rate': 0.02, 'max_depth': 8.0, 'min_child_weight': 6.0, 'nthread': 8, 'num_round': 100, 'objective': 'binary:logistic', 'reg_alpha': 0.31724604801755757, 'reg_lambda': 0.011883334569878596, 'silent': 0, 'subsample': 0.9}\n",
      "\tScore 0.3829840672711827\n",
      "\n",
      "\n",
      "Training with params:\n",
      "{'colsample_bytree': 0.8, 'eval_metric': 'logloss', 'gamma': 0.61, 'learning_rate': 0.035, 'max_depth': 5.0, 'min_child_weight': 9.0, 'nthread': 8, 'num_round': 100, 'objective': 'binary:logistic', 'reg_alpha': 0.0007077133383460728, 'reg_lambda': 1.061120725039018e-05, 'silent': 0, 'subsample': 0.8}\n",
      "\tScore 0.3764907744499563\n",
      "\n",
      "\n",
      "Training with params:\n",
      "{'colsample_bytree': 0.65, 'eval_metric': 'logloss', 'gamma': 0.72, 'learning_rate': 0.1, 'max_depth': 4.0, 'min_child_weight': 3.0, 'nthread': 8, 'num_round': 100, 'objective': 'binary:logistic', 'reg_alpha': 0.39464296265258825, 'reg_lambda': 0.0005549384392105376, 'silent': 0, 'subsample': 0.9}\n",
      "\tScore 0.36610598116908\n",
      "\n",
      "\n",
      "Training with params:\n",
      "{'colsample_bytree': 0.7000000000000001, 'eval_metric': 'logloss', 'gamma': 0.42, 'learning_rate': 0.02, 'max_depth': 13.0, 'min_child_weight': 9.0, 'nthread': 8, 'num_round': 100, 'objective': 'binary:logistic', 'reg_alpha': 16.358012040353586, 'reg_lambda': 4.863497675334457, 'silent': 0, 'subsample': 0.9}\n",
      "\tScore 0.37743926200359995\n",
      "\n",
      "\n",
      "Training with params:\n",
      "{'colsample_bytree': 0.9500000000000001, 'eval_metric': 'logloss', 'gamma': 0.22, 'learning_rate': 0.055, 'max_depth': 15.0, 'min_child_weight': 7.0, 'nthread': 8, 'num_round': 100, 'objective': 'binary:logistic', 'reg_alpha': 0.00011211905458308928, 'reg_lambda': 0.00010891581417461954, 'silent': 0, 'subsample': 0.65}\n",
      "\tScore 0.37751747034948097\n",
      "\n",
      "\n",
      "Training with params:\n",
      "{'colsample_bytree': 0.6000000000000001, 'eval_metric': 'logloss', 'gamma': 0.61, 'learning_rate': 0.06, 'max_depth': 12.0, 'min_child_weight': 8.0, 'nthread': 8, 'num_round': 100, 'objective': 'binary:logistic', 'reg_alpha': 0.04950994126915412, 'reg_lambda': 81.11697160174198, 'silent': 0, 'subsample': 0.6000000000000001}\n",
      "\tScore 0.3553664475610659\n",
      "\n",
      "\n",
      "Training with params:\n",
      "{'colsample_bytree': 0.9, 'eval_metric': 'logloss', 'gamma': 0.24, 'learning_rate': 0.01, 'max_depth': 16.0, 'min_child_weight': 6.0, 'nthread': 8, 'num_round': 100, 'objective': 'binary:logistic', 'reg_alpha': 0.0016807572028914486, 'reg_lambda': 5.77810270022133, 'silent': 0, 'subsample': 0.9}\n",
      "\tScore 0.4316551679619921\n",
      "\n",
      "\n",
      "Training with params:\n",
      "{'colsample_bytree': 0.7000000000000001, 'eval_metric': 'logloss', 'gamma': 0.9400000000000001, 'learning_rate': 0.065, 'max_depth': 4.0, 'min_child_weight': 3.0, 'nthread': 8, 'num_round': 100, 'objective': 'binary:logistic', 'reg_alpha': 0.3824510714447996, 'reg_lambda': 0.003736490695709192, 'silent': 0, 'subsample': 1.0}\n",
      "\tScore 0.37000464569713737\n",
      "\n",
      "\n",
      "Training with params:\n",
      "{'colsample_bytree': 0.8, 'eval_metric': 'logloss', 'gamma': 0.55, 'learning_rate': 0.025, 'max_depth': 4.0, 'min_child_weight': 6.0, 'nthread': 8, 'num_round': 100, 'objective': 'binary:logistic', 'reg_alpha': 0.0612609857030219, 'reg_lambda': 0.013020051884585115, 'silent': 0, 'subsample': 0.8500000000000001}\n",
      "\tScore 0.3955683565427527\n",
      "\n",
      "\n",
      "Training with params:\n",
      "{'colsample_bytree': 0.7000000000000001, 'eval_metric': 'logloss', 'gamma': 0.78, 'learning_rate': 0.07, 'max_depth': 7.0, 'min_child_weight': 2.0, 'nthread': 8, 'num_round': 100, 'objective': 'binary:logistic', 'reg_alpha': 0.00017153076211385952, 'reg_lambda': 63.57337245994909, 'silent': 0, 'subsample': 0.8}\n",
      "\tScore 0.3565644059082373\n",
      "\n",
      "\n",
      "Training with params:\n",
      "{'colsample_bytree': 0.9500000000000001, 'eval_metric': 'logloss', 'gamma': 0.73, 'learning_rate': 0.07, 'max_depth': 9.0, 'min_child_weight': 4.0, 'nthread': 8, 'num_round': 100, 'objective': 'binary:logistic', 'reg_alpha': 0.024259840897315248, 'reg_lambda': 0.08101590926760936, 'silent': 0, 'subsample': 0.9500000000000001}\n",
      "\tScore 0.3576122910243121\n",
      "\n",
      "\n",
      "Training with params:\n",
      "{'colsample_bytree': 0.65, 'eval_metric': 'logloss', 'gamma': 0.89, 'learning_rate': 0.07, 'max_depth': 11.0, 'min_child_weight': 5.0, 'nthread': 8, 'num_round': 100, 'objective': 'binary:logistic', 'reg_alpha': 0.0012332415442974207, 'reg_lambda': 0.00030443224657131967, 'silent': 0, 'subsample': 0.75}\n",
      "\tScore 0.3544241481814122\n",
      "\n",
      "\n",
      "Training with params:\n",
      "{'colsample_bytree': 0.9500000000000001, 'eval_metric': 'logloss', 'gamma': 0.6, 'learning_rate': 0.015, 'max_depth': 5.0, 'min_child_weight': 10.0, 'nthread': 8, 'num_round': 100, 'objective': 'binary:logistic', 'reg_alpha': 0.022038215557134713, 'reg_lambda': 8.741801914473893, 'silent': 0, 'subsample': 0.8}\n",
      "\tScore 0.41906417466459733\n",
      "\n",
      "\n",
      "Training with params:\n",
      "{'colsample_bytree': 1.0, 'eval_metric': 'logloss', 'gamma': 0.47000000000000003, 'learning_rate': 0.015, 'max_depth': 13.0, 'min_child_weight': 1.0, 'nthread': 8, 'num_round': 100, 'objective': 'binary:logistic', 'reg_alpha': 0.003455277766637898, 'reg_lambda': 1.3646098556634751, 'silent': 0, 'subsample': 0.9500000000000001}\n",
      "\tScore 0.3960534117141475\n",
      "\n",
      "\n",
      "Training with params:\n",
      "{'colsample_bytree': 0.9500000000000001, 'eval_metric': 'logloss', 'gamma': 0.24, 'learning_rate': 0.095, 'max_depth': 3.0, 'min_child_weight': 5.0, 'nthread': 8, 'num_round': 100, 'objective': 'binary:logistic', 'reg_alpha': 3.1347886064373454e-05, 'reg_lambda': 0.0766145326289868, 'silent': 0, 'subsample': 0.65}\n",
      "\tScore 0.3698609823638607\n",
      "\n",
      "\n",
      "Training with params:\n",
      "{'colsample_bytree': 0.7000000000000001, 'eval_metric': 'logloss', 'gamma': 0.58, 'learning_rate': 0.035, 'max_depth': 7.0, 'min_child_weight': 4.0, 'nthread': 8, 'num_round': 100, 'objective': 'binary:logistic', 'reg_alpha': 0.004423559933935636, 'reg_lambda': 0.5506303281534717, 'silent': 0, 'subsample': 0.65}\n",
      "\tScore 0.3665955012134207\n",
      "\n",
      "\n",
      "Training with params:\n",
      "{'colsample_bytree': 0.9500000000000001, 'eval_metric': 'logloss', 'gamma': 0.75, 'learning_rate': 0.085, 'max_depth': 4.0, 'min_child_weight': 4.0, 'nthread': 8, 'num_round': 100, 'objective': 'binary:logistic', 'reg_alpha': 0.01986697977504373, 'reg_lambda': 0.025249297632020253, 'silent': 0, 'subsample': 0.75}\n",
      "\tScore 0.3644169296693247\n",
      "\n",
      "\n",
      "Training with params:\n",
      "{'colsample_bytree': 0.8500000000000001, 'eval_metric': 'logloss', 'gamma': 0.07, 'learning_rate': 0.075, 'max_depth': 4.0, 'min_child_weight': 10.0, 'nthread': 8, 'num_round': 100, 'objective': 'binary:logistic', 'reg_alpha': 0.00037476597789097663, 'reg_lambda': 2.1102951345727337, 'silent': 0, 'subsample': 0.7000000000000001}\n",
      "\tScore 0.36808064802813306\n",
      "\n",
      "\n",
      "Training with params:\n",
      "{'colsample_bytree': 0.6000000000000001, 'eval_metric': 'logloss', 'gamma': 0.4, 'learning_rate': 0.05, 'max_depth': 5.0, 'min_child_weight': 10.0, 'nthread': 8, 'num_round': 100, 'objective': 'binary:logistic', 'reg_alpha': 5.7638390280891505, 'reg_lambda': 0.0012393795745501218, 'silent': 0, 'subsample': 0.65}\n",
      "\tScore 0.36966633076717825\n",
      "\n",
      "\n",
      "Training with params:\n",
      "{'colsample_bytree': 0.9500000000000001, 'eval_metric': 'logloss', 'gamma': 0.99, 'learning_rate': 0.06, 'max_depth': 14.0, 'min_child_weight': 9.0, 'nthread': 8, 'num_round': 100, 'objective': 'binary:logistic', 'reg_alpha': 0.002555640243932039, 'reg_lambda': 29.787935494663973, 'silent': 0, 'subsample': 0.8}\n",
      "\tScore 0.3644517151002255\n",
      "\n",
      "\n",
      "Training with params:\n",
      "{'colsample_bytree': 0.6000000000000001, 'eval_metric': 'logloss', 'gamma': 0.87, 'learning_rate': 0.045, 'max_depth': 11.0, 'min_child_weight': 8.0, 'nthread': 8, 'num_round': 100, 'objective': 'binary:logistic', 'reg_alpha': 1.880587473011743e-05, 'reg_lambda': 9.261842181748867e-05, 'silent': 0, 'subsample': 0.6000000000000001}\n",
      "\tScore 0.3567893886551402\n",
      "\n",
      "\n",
      "Training with params:\n",
      "{'colsample_bytree': 0.65, 'eval_metric': 'logloss', 'gamma': 0.88, 'learning_rate': 0.085, 'max_depth': 11.0, 'min_child_weight': 7.0, 'nthread': 8, 'num_round': 100, 'objective': 'binary:logistic', 'reg_alpha': 3.5310373161669983, 'reg_lambda': 1.6304776119161287e-05, 'silent': 0, 'subsample': 0.7000000000000001}\n",
      "\tScore 0.35456094255880793\n",
      "\n",
      "\n",
      "Training with params:\n",
      "{'colsample_bytree': 0.65, 'eval_metric': 'logloss', 'gamma': 0.87, 'learning_rate': 0.085, 'max_depth': 10.0, 'min_child_weight': 7.0, 'nthread': 8, 'num_round': 100, 'objective': 'binary:logistic', 'reg_alpha': 46.94287527192864, 'reg_lambda': 1.2681376842126568e-05, 'silent': 0, 'subsample': 0.75}\n"
     ]
    },
    {
     "name": "stdout",
     "output_type": "stream",
     "text": [
      "\tScore 0.3507788686497058\n",
      "\n",
      "\n",
      "Training with params:\n",
      "{'colsample_bytree': 0.75, 'eval_metric': 'logloss', 'gamma': 0.84, 'learning_rate': 0.085, 'max_depth': 10.0, 'min_child_weight': 5.0, 'nthread': 8, 'num_round': 100, 'objective': 'binary:logistic', 'reg_alpha': 42.70739963108683, 'reg_lambda': 7.433721220402864e-05, 'silent': 0, 'subsample': 0.75}\n",
      "\tScore 0.35225698388462295\n",
      "\n",
      "\n",
      "Training with params:\n",
      "{'colsample_bytree': 0.75, 'eval_metric': 'logloss', 'gamma': 0.98, 'learning_rate': 0.085, 'max_depth': 9.0, 'min_child_weight': 7.0, 'nthread': 8, 'num_round': 100, 'objective': 'binary:logistic', 'reg_alpha': 94.28008146924297, 'reg_lambda': 3.716391339795854e-05, 'silent': 0, 'subsample': 0.75}\n",
      "\tScore 0.35565188691040583\n",
      "\n",
      "\n",
      "Training with params:\n",
      "{'colsample_bytree': 0.75, 'eval_metric': 'logloss', 'gamma': 0.8200000000000001, 'learning_rate': 0.095, 'max_depth': 7.0, 'min_child_weight': 5.0, 'nthread': 8, 'num_round': 100, 'objective': 'binary:logistic', 'reg_alpha': 85.19151320218626, 'reg_lambda': 4.254660683193565e-05, 'silent': 0, 'subsample': 0.7000000000000001}\n",
      "\tScore 0.35294251404621024\n",
      "\n",
      "\n",
      "Training with params:\n",
      "{'colsample_bytree': 0.75, 'eval_metric': 'logloss', 'gamma': 1.0, 'learning_rate': 0.08, 'max_depth': 10.0, 'min_child_weight': 8.0, 'nthread': 8, 'num_round': 100, 'objective': 'binary:logistic', 'reg_alpha': 20.062602825372593, 'reg_lambda': 0.001812037511859253, 'silent': 0, 'subsample': 0.8500000000000001}\n",
      "\tScore 0.35610437255616345\n",
      "\n",
      "\n",
      "Training with params:\n",
      "{'colsample_bytree': 0.8500000000000001, 'eval_metric': 'logloss', 'gamma': 0.8300000000000001, 'learning_rate': 0.1, 'max_depth': 9.0, 'min_child_weight': 7.0, 'nthread': 8, 'num_round': 100, 'objective': 'binary:logistic', 'reg_alpha': 2.3523635339661766, 'reg_lambda': 0.0002443662144665492, 'silent': 0, 'subsample': 0.75}\n",
      "\tScore 0.35985118711160574\n",
      "\n",
      "\n",
      "Training with params:\n",
      "{'colsample_bytree': 0.65, 'eval_metric': 'logloss', 'gamma': 0.6900000000000001, 'learning_rate': 0.09, 'max_depth': 8.0, 'min_child_weight': 6.0, 'nthread': 8, 'num_round': 100, 'objective': 'binary:logistic', 'reg_alpha': 22.65285180917327, 'reg_lambda': 1.1117499359403442e-05, 'silent': 0, 'subsample': 0.8500000000000001}\n",
      "\tScore 0.35608687060445515\n",
      "\n",
      "\n",
      "Training with params:\n",
      "{'colsample_bytree': 0.75, 'eval_metric': 'logloss', 'gamma': 0.93, 'learning_rate': 0.08, 'max_depth': 10.0, 'min_child_weight': 3.0, 'nthread': 8, 'num_round': 100, 'objective': 'binary:logistic', 'reg_alpha': 1.0362176713202582, 'reg_lambda': 5.229452362067324e-05, 'silent': 0, 'subsample': 0.7000000000000001}\n",
      "\tScore 0.36077980442410357\n",
      "\n",
      "\n",
      "Training with params:\n",
      "{'colsample_bytree': 0.8500000000000001, 'eval_metric': 'logloss', 'gamma': 0.66, 'learning_rate': 0.095, 'max_depth': 12.0, 'min_child_weight': 6.0, 'nthread': 8, 'num_round': 100, 'objective': 'binary:logistic', 'reg_alpha': 89.08330073985071, 'reg_lambda': 1.4845454462818694e-05, 'silent': 0, 'subsample': 0.75}\n",
      "\tScore 0.3544174891465744\n",
      "\n",
      "\n",
      "Training with params:\n",
      "{'colsample_bytree': 0.8, 'eval_metric': 'logloss', 'gamma': 0.8, 'learning_rate': 0.045, 'max_depth': 8.0, 'min_child_weight': 5.0, 'nthread': 8, 'num_round': 100, 'objective': 'binary:logistic', 'reg_alpha': 39.21193504761006, 'reg_lambda': 0.0035300090697814156, 'silent': 0, 'subsample': 0.8500000000000001}\n",
      "\tScore 0.3618771634411738\n",
      "\n",
      "\n",
      "Training with params:\n",
      "{'colsample_bytree': 0.65, 'eval_metric': 'logloss', 'gamma': 0.49, 'learning_rate': 0.08, 'max_depth': 6.0, 'min_child_weight': 9.0, 'nthread': 8, 'num_round': 100, 'objective': 'binary:logistic', 'reg_alpha': 0.14449226085426578, 'reg_lambda': 0.0002863776134854757, 'silent': 0, 'subsample': 0.7000000000000001}\n",
      "\tScore 0.36055002630898714\n",
      "\n",
      "\n",
      "Training with params:\n",
      "{'colsample_bytree': 0.7000000000000001, 'eval_metric': 'logloss', 'gamma': 0.37, 'learning_rate': 0.09, 'max_depth': 13.0, 'min_child_weight': 2.0, 'nthread': 8, 'num_round': 100, 'objective': 'binary:logistic', 'reg_alpha': 8.043617513881488, 'reg_lambda': 0.0008317640709784913, 'silent': 0, 'subsample': 0.8}\n",
      "\tScore 0.3695935069340199\n",
      "\n",
      "\n",
      "Training with params:\n",
      "{'colsample_bytree': 0.75, 'eval_metric': 'logloss', 'gamma': 0.65, 'learning_rate': 0.075, 'max_depth': 14.0, 'min_child_weight': 8.0, 'nthread': 8, 'num_round': 100, 'objective': 'binary:logistic', 'reg_alpha': 0.6628602846775884, 'reg_lambda': 1.0123550077085838e-05, 'silent': 0, 'subsample': 0.6000000000000001}\n",
      "\tScore 0.3677638661355897\n",
      "\n",
      "\n",
      "Training with params:\n",
      "{'colsample_bytree': 0.6000000000000001, 'eval_metric': 'logloss', 'gamma': 0.91, 'learning_rate': 0.1, 'max_depth': 16.0, 'min_child_weight': 4.0, 'nthread': 8, 'num_round': 100, 'objective': 'binary:logistic', 'reg_alpha': 1.704835466406916, 'reg_lambda': 0.00016110989588228328, 'silent': 0, 'subsample': 0.75}\n",
      "\tScore 0.38776845594480874\n",
      "\n",
      "\n",
      "Training with params:\n",
      "{'colsample_bytree': 0.8, 'eval_metric': 'logloss', 'gamma': 0.84, 'learning_rate': 0.06, 'max_depth': 17.0, 'min_child_weight': 7.0, 'nthread': 8, 'num_round': 100, 'objective': 'binary:logistic', 'reg_alpha': 0.17021807014585383, 'reg_lambda': 0.20583810837861433, 'silent': 0, 'subsample': 0.8500000000000001}\n",
      "\tScore 0.3822020701994115\n",
      "\n",
      "\n",
      "Training with params:\n",
      "{'colsample_bytree': 0.7000000000000001, 'eval_metric': 'logloss', 'gamma': 0.9500000000000001, 'learning_rate': 0.065, 'max_depth': 12.0, 'min_child_weight': 6.0, 'nthread': 8, 'num_round': 100, 'objective': 'binary:logistic', 'reg_alpha': 9.344059022259637, 'reg_lambda': 0.0032478711750732856, 'silent': 0, 'subsample': 0.9}\n",
      "\tScore 0.3593479652026244\n",
      "\n",
      "\n",
      "Training with params:\n",
      "{'colsample_bytree': 0.6000000000000001, 'eval_metric': 'logloss', 'gamma': 0.29, 'learning_rate': 0.035, 'max_depth': 11.0, 'min_child_weight': 8.0, 'nthread': 8, 'num_round': 100, 'objective': 'binary:logistic', 'reg_alpha': 42.854904989639856, 'reg_lambda': 3.2130144856780304e-05, 'silent': 0, 'subsample': 0.8}\n",
      "\tScore 0.3636003477062617\n",
      "\n",
      "\n",
      "Training with params:\n",
      "{'colsample_bytree': 0.9, 'eval_metric': 'logloss', 'gamma': 0.06, 'learning_rate': 0.055, 'max_depth': 9.0, 'min_child_weight': 2.0, 'nthread': 8, 'num_round': 100, 'objective': 'binary:logistic', 'reg_alpha': 0.009336333271708156, 'reg_lambda': 0.01115275791729081, 'silent': 0, 'subsample': 0.65}\n",
      "\tScore 0.35495911866782737\n",
      "\n",
      "\n",
      "Training with params:\n",
      "{'colsample_bytree': 0.7000000000000001, 'eval_metric': 'logloss', 'gamma': 0.7000000000000001, 'learning_rate': 0.075, 'max_depth': 10.0, 'min_child_weight': 5.0, 'nthread': 8, 'num_round': 100, 'objective': 'binary:logistic', 'reg_alpha': 0.16730677558997592, 'reg_lambda': 0.0004926319704744787, 'silent': 0, 'subsample': 0.9}\n",
      "\tScore 0.35808094404316776\n",
      "\n",
      "\n",
      "Training with params:\n",
      "{'colsample_bytree': 0.65, 'eval_metric': 'logloss', 'gamma': 0.54, 'learning_rate': 0.09, 'max_depth': 6.0, 'min_child_weight': 1.0, 'nthread': 8, 'num_round': 100, 'objective': 'binary:logistic', 'reg_alpha': 39.8365693856262, 'reg_lambda': 0.00012548772475756372, 'silent': 0, 'subsample': 0.7000000000000001}\n",
      "\tScore 0.35574286359434637\n",
      "\n",
      "\n",
      "Training with params:\n",
      "{'colsample_bytree': 0.75, 'eval_metric': 'logloss', 'gamma': 0.13, 'learning_rate': 0.065, 'max_depth': 14.0, 'min_child_weight': 3.0, 'nthread': 8, 'num_round': 100, 'objective': 'binary:logistic', 'reg_alpha': 4.635138086636709, 'reg_lambda': 0.009811622286747727, 'silent': 0, 'subsample': 0.9500000000000001}\n",
      "\tScore 0.37260440555547686\n",
      "\n",
      "\n",
      "Training with params:\n",
      "{'colsample_bytree': 0.8, 'eval_metric': 'logloss', 'gamma': 0.78, 'learning_rate': 0.025, 'max_depth': 8.0, 'min_child_weight': 6.0, 'nthread': 8, 'num_round': 100, 'objective': 'binary:logistic', 'reg_alpha': 0.7359057947803384, 'reg_lambda': 2.091118461511812e-05, 'silent': 0, 'subsample': 0.75}\n",
      "\tScore 0.37275388371734913\n",
      "\n",
      "\n",
      "Training with params:\n",
      "{'colsample_bytree': 0.65, 'eval_metric': 'logloss', 'gamma': 0.74, 'learning_rate': 0.1, 'max_depth': 6.0, 'min_child_weight': 9.0, 'nthread': 8, 'num_round': 100, 'objective': 'binary:logistic', 'reg_alpha': 0.06103664494859756, 'reg_lambda': 6.19178132863575e-05, 'silent': 0, 'subsample': 0.8}\n",
      "\tScore 0.35876444171758437\n",
      "\n",
      "\n",
      "Training with params:\n",
      "{'colsample_bytree': 0.9, 'eval_metric': 'logloss', 'gamma': 0.65, 'learning_rate': 0.05, 'max_depth': 12.0, 'min_child_weight': 3.0, 'nthread': 8, 'num_round': 100, 'objective': 'binary:logistic', 'reg_alpha': 13.948576986601081, 'reg_lambda': 0.1628488145476371, 'silent': 0, 'subsample': 1.0}\n"
     ]
    },
    {
     "name": "stdout",
     "output_type": "stream",
     "text": [
      "\tScore 0.3615444396399445\n",
      "\n",
      "\n",
      "Training with params:\n",
      "{'colsample_bytree': 0.7000000000000001, 'eval_metric': 'logloss', 'gamma': 0.33, 'learning_rate': 0.095, 'max_depth': 15.0, 'min_child_weight': 7.0, 'nthread': 8, 'num_round': 100, 'objective': 'binary:logistic', 'reg_alpha': 1.5810452135079172, 'reg_lambda': 0.0004959092125149836, 'silent': 0, 'subsample': 0.8500000000000001}\n",
      "\tScore 0.37848656996609026\n",
      "\n",
      "\n",
      "Training with params:\n",
      "{'colsample_bytree': 0.8500000000000001, 'eval_metric': 'logloss', 'gamma': 0.58, 'learning_rate': 0.07, 'max_depth': 7.0, 'min_child_weight': 4.0, 'nthread': 8, 'num_round': 100, 'objective': 'binary:logistic', 'reg_alpha': 0.007932154815792939, 'reg_lambda': 0.02792877885629195, 'silent': 0, 'subsample': 0.65}\n",
      "\tScore 0.356790632522252\n",
      "\n",
      "\n",
      "Training with params:\n",
      "{'colsample_bytree': 0.6000000000000001, 'eval_metric': 'logloss', 'gamma': 0.51, 'learning_rate': 0.03, 'max_depth': 13.0, 'min_child_weight': 5.0, 'nthread': 8, 'num_round': 100, 'objective': 'binary:logistic', 'reg_alpha': 0.4110946359556664, 'reg_lambda': 0.006283226456109727, 'silent': 0, 'subsample': 0.65}\n",
      "\tScore 0.3592227451679941\n",
      "\n",
      "\n",
      "Training with params:\n",
      "{'colsample_bytree': 0.8, 'eval_metric': 'logloss', 'gamma': 0.45, 'learning_rate': 0.075, 'max_depth': 9.0, 'min_child_weight': 9.0, 'nthread': 8, 'num_round': 100, 'objective': 'binary:logistic', 'reg_alpha': 67.83282798557607, 'reg_lambda': 0.06863497185946006, 'silent': 0, 'subsample': 0.75}\n",
      "\tScore 0.3530486528967575\n",
      "\n",
      "\n",
      "\n"
     ]
    }
   ],
   "source": [
    "model = {}\n",
    "\n",
    "# последовательно обучаем два классификатора\n",
    "for col in ['is_work']:#,'is_work']:\n",
    "    \n",
    "    xs = xs0[col]\n",
    "    #выберем для обучение транзакции только тех клиентов из train, у которых хоть в одной транзакции указано место работы/жительства\n",
    "    cust_train = dt[dt['is_train'] == 1].groupby('customer_id')[col.replace('is_','has_')].max()\n",
    "    cust_train = cust_train[cust_train > 0].index\n",
    "    \n",
    "    #разобъем train на train/valid для валидации\n",
    "    cust_train, cust_valid = train_test_split(cust_train, test_size = 0.1, shuffle = True, random_state = 2)\n",
    "    \n",
    "    train = pd.DataFrame(cust_train, columns = ['customer_id']).merge(dt, how = 'left')\n",
    "    valid = pd.DataFrame(cust_valid, columns = ['customer_id']).merge(dt, how = 'left')\n",
    "    \n",
    "    X_train, y_train = train[xs], train[col]\n",
    "    X_test, y_test = valid[xs], valid[col]\n",
    "    \n",
    "    dtrain = xgb.DMatrix(X_train, label=y_train)\n",
    "    dvalid = xgb.DMatrix(X_test, label=y_test)\n",
    "    \n",
    "    print (\"Training:\", col)\n",
    "    \n",
    "    \n",
    "    trials = Trials()\n",
    "    best_params = optimize(trials)\n",
    "    best_params\n",
    "    \n",
    "    print ()\n",
    "\n"
   ]
  },
  {
   "cell_type": "code",
   "execution_count": 94,
   "metadata": {},
   "outputs": [
    {
     "data": {
      "text/plain": [
       "{'colsample_bytree': 0.65,\n",
       " 'eta': 0.085,\n",
       " 'gamma': 0.87,\n",
       " 'max_depth': 10.0,\n",
       " 'min_child_weight': 7.0,\n",
       " 'reg_alpha': 46.94287527192864,\n",
       " 'reg_lambda': 1.2681376842126568e-05,\n",
       " 'subsample': 0.75}"
      ]
     },
     "execution_count": 94,
     "metadata": {},
     "output_type": "execute_result"
    }
   ],
   "source": [
    "best_params"
   ]
  },
  {
   "cell_type": "code",
   "execution_count": 95,
   "metadata": {},
   "outputs": [
    {
     "data": {
      "text/plain": [
       "{'book_time': datetime.datetime(2018, 3, 23, 20, 22, 19, 267000),\n",
       " 'exp_key': None,\n",
       " 'misc': {'cmd': ('domain_attachment', 'FMinIter_Domain'),\n",
       "  'idxs': {'colsample_bytree': [22],\n",
       "   'eta': [22],\n",
       "   'gamma': [22],\n",
       "   'max_depth': [22],\n",
       "   'min_child_weight': [22],\n",
       "   'reg_alpha': [22],\n",
       "   'reg_lambda': [22],\n",
       "   'subsample': [22]},\n",
       "  'tid': 22,\n",
       "  'vals': {'colsample_bytree': [0.65],\n",
       "   'eta': [0.085],\n",
       "   'gamma': [0.87],\n",
       "   'max_depth': [10.0],\n",
       "   'min_child_weight': [7.0],\n",
       "   'reg_alpha': [46.94287527192864],\n",
       "   'reg_lambda': [1.2681376842126568e-05],\n",
       "   'subsample': [0.75]},\n",
       "  'workdir': None},\n",
       " 'owner': None,\n",
       " 'refresh_time': datetime.datetime(2018, 3, 23, 20, 22, 29, 688000),\n",
       " 'result': {'loss': 0.3507788686497058, 'status': 'ok'},\n",
       " 'spec': None,\n",
       " 'state': 2,\n",
       " 'tid': 22,\n",
       " 'version': 0}"
      ]
     },
     "execution_count": 95,
     "metadata": {},
     "output_type": "execute_result"
    }
   ],
   "source": [
    "trials.best_trial"
   ]
  },
  {
   "cell_type": "markdown",
   "metadata": {},
   "source": [
    "## Predict"
   ]
  },
  {
   "cell_type": "code",
   "execution_count": 110,
   "metadata": {},
   "outputs": [
    {
     "name": "stdout",
     "output_type": "stream",
     "text": [
      "Training: is_home\n",
      "Training: is_work\n"
     ]
    }
   ],
   "source": [
    "model = {}\n",
    "\n",
    "cust_test = dt[dt['is_train'] == 0]['customer_id'].unique()\n",
    "cust_train = dt[dt['is_train'] == 1]['customer_id'].unique()\n",
    "\n",
    "\n",
    "train = pd.DataFrame(cust_train, columns = ['customer_id']).merge(dt, how = 'left')\n",
    "test = pd.DataFrame(cust_test, columns = ['customer_id']).merge(dt, how = 'left')\n",
    "\n",
    "for col in ['is_home','is_work']:\n",
    "    \n",
    "    if  col_lat_add:\n",
    "        col_lat = col.replace('is_', '') + '_add_lat'#home_add_lat\thome_add_lon\t\n",
    "        col_lon = col.replace('is_', '') + '_add_lon'\n",
    "    else:\n",
    "        col_lat, col_lon = [], []\n",
    "            \n",
    "    if len(cat_feats)>0:\n",
    "            # Кодирование категориальных средним таргет\n",
    "        train_new, test_new, feats_new = mean_target_enc(train, test, col, cat_feats, alpha=10)\n",
    "        xs = xs0[col] + feats_new # + [col_lat] + [col_lon]\n",
    "    else:\n",
    "        train_new, valid_new = train, valid\n",
    "        xs = xs0[col]# + [col_lat] + [col_lon]        \n",
    "    print (\"Training:\", col)\n",
    "    \n",
    "    clf = sklearn.base.clone(model0[col])\n",
    "    clf.fit(train_new[xs], train_new[col],eval_metric = 'logloss', verbose=50) # early_stopping_rounds=10,\n",
    "      \n",
    "    model[col] = clf"
   ]
  },
  {
   "cell_type": "code",
   "execution_count": 113,
   "metadata": {},
   "outputs": [],
   "source": [
    "def my_plot_importance(booster, figsize, **kwargs):\n",
    "    from xgboost import plot_importance\n",
    "    import matplotlib.pyplot as plt\n",
    "    fig, ax = plt.subplots(1,1,figsize=figsize)\n",
    "    return plot_importance(booster=booster, ax=ax, **kwargs)\n"
   ]
  },
  {
   "cell_type": "code",
   "execution_count": 114,
   "metadata": {},
   "outputs": [
    {
     "data": {
      "text/plain": [
       "<matplotlib.axes._subplots.AxesSubplot at 0x7f2c0ea38cf8>"
      ]
     },
     "execution_count": 114,
     "metadata": {},
     "output_type": "execute_result"
    },
    {
     "data": {
      "image/png": "[encoded data removed]",
      "text/plain": [
       "<matplotlib.figure.Figure at 0x7f2c0e491eb8>"
      ]
     },
     "metadata": {},
     "output_type": "display_data"
    }
   ],
   "source": [
    "my_plot_importance(model['is_home'], figsize=(12, 4))"
   ]
  },
  {
   "cell_type": "code",
   "execution_count": 115,
   "metadata": {
    "scrolled": true
   },
   "outputs": [
    {
     "data": {
      "text/plain": [
       "<matplotlib.axes._subplots.AxesSubplot at 0x7f2c0f4aca90>"
      ]
     },
     "execution_count": 115,
     "metadata": {},
     "output_type": "execute_result"
    },
    {
     "data": {
      "image/png": "[encoded data removed]",
      "text/plain": [
       "<matplotlib.figure.Figure at 0x7f2c0e992908>"
      ]
     },
     "metadata": {},
     "output_type": "display_data"
    }
   ],
   "source": [
    "my_plot_importance(model['is_work'], figsize=(12, 4))"
   ]
  },
  {
   "cell_type": "code",
   "execution_count": 116,
   "metadata": {},
   "outputs": [],
   "source": [
    "test_ = predict_proba(test_new, xsd)\n",
    "test_.rename(columns = {\n",
    "        'customer_id':'_ID_',\n",
    "        'is_home:add_lat': '_HOME_LAT_',\n",
    "        'is_home:add_lon': '_HOME_LON_',\n",
    "        'is_work:add_lat': '_WORK_LAT_',\n",
    "        'is_work:add_lon': '_WORK_LON_'}, inplace = True)\n",
    "test_ = test_[['_ID_', '_WORK_LAT_', '_WORK_LON_', '_HOME_LAT_', '_HOME_LON_']]"
   ]
  },
  {
   "cell_type": "code",
   "execution_count": 122,
   "metadata": {},
   "outputs": [
    {
     "data": {
      "text/html": [
       "<div>\n",
       "<style scoped>\n",
       "    .dataframe tbody tr th:only-of-type {\n",
       "        vertical-align: middle;\n",
       "    }\n",
       "\n",
       "    .dataframe tbody tr th {\n",
       "        vertical-align: top;\n",
       "    }\n",
       "\n",
       "    .dataframe thead th {\n",
       "        text-align: right;\n",
       "    }\n",
       "</style>\n",
       "<table border=\"1\" class=\"dataframe\">\n",
       "  <thead>\n",
       "    <tr style=\"text-align: right;\">\n",
       "      <th></th>\n",
       "      <th>_ID_</th>\n",
       "      <th>_WORK_LAT_</th>\n",
       "      <th>_WORK_LON_</th>\n",
       "      <th>_HOME_LAT_</th>\n",
       "      <th>_HOME_LON_</th>\n",
       "    </tr>\n",
       "  </thead>\n",
       "  <tbody>\n",
       "  </tbody>\n",
       "</table>\n",
       "</div>"
      ],
      "text/plain": [
       "Empty DataFrame\n",
       "Columns: [_ID_, _WORK_LAT_, _WORK_LON_, _HOME_LAT_, _HOME_LON_]\n",
       "Index: []"
      ]
     },
     "execution_count": 122,
     "metadata": {},
     "output_type": "execute_result"
    }
   ],
   "source": [
    "test_.loc[test_._WORK_LAT_.isnull(), :]"
   ]
  },
  {
   "cell_type": "code",
   "execution_count": 125,
   "metadata": {},
   "outputs": [
    {
     "data": {
      "text/plain": [
       "_WORK_LAT_    55.774603\n",
       "_WORK_LON_    37.617001\n",
       "_HOME_LAT_    55.802303\n",
       "_HOME_LON_    37.615240\n",
       "dtype: float64"
      ]
     },
     "execution_count": 125,
     "metadata": {},
     "output_type": "execute_result"
    }
   ],
   "source": [
    "test_.median()"
   ]
  },
  {
   "cell_type": "markdown",
   "metadata": {},
   "source": [
    "### Формируем submission-файл"
   ]
  },
  {
   "cell_type": "code",
   "execution_count": 126,
   "metadata": {},
   "outputs": [],
   "source": [
    "n_sub = 8"
   ]
  },
  {
   "cell_type": "code",
   "execution_count": 127,
   "metadata": {},
   "outputs": [],
   "source": [
    "# Заполняем пропуски\n",
    "#submission = submission.merge(test, how = 'left').fillna(0)\n",
    "submission = submission.merge(test_, how = 'left').fillna(test_.median())\n",
    "# Пишем файл submission\n",
    "submission.to_csv(PTSUB + 'Sub_' + str(n_sub) + '.csv', index = False)"
   ]
  },
  {
   "cell_type": "code",
   "execution_count": null,
   "metadata": {},
   "outputs": [],
   "source": []
  }
 ],
 "metadata": {
  "kernelspec": {
   "display_name": "Python 3",
   "language": "python",
   "name": "python3"
  },
  "language_info": {
   "codemirror_mode": {
    "name": "ipython",
    "version": 3
   },
   "file_extension": ".py",
   "mimetype": "text/x-python",
   "name": "python",
   "nbconvert_exporter": "python",
   "pygments_lexer": "ipython3",
   "version": "3.6.4"
  },
  "toc": {
   "nav_menu": {},
   "number_sections": true,
   "sideBar": true,
   "skip_h1_title": true,
   "title_cell": "Table of Contents",
   "title_sidebar": "Contents",
   "toc_cell": true,
   "toc_position": {
    "height": "calc(100% - 180px)",
    "left": "10px",
    "top": "150px",
    "width": "249px"
   },
   "toc_section_display": true,
   "toc_window_display": true
  }
 },
 "nbformat": 4,
 "nbformat_minor": 2
}
