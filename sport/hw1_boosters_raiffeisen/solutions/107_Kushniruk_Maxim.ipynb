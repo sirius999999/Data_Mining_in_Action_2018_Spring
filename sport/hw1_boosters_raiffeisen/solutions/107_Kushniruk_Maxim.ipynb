{
 "cells": [
  {
   "cell_type": "markdown",
   "metadata": {},
   "source": [
    "# [Boosters] Raiffeisen Data Cup. Baseline\n",
    "Общий подход:\n",
    "- Добавляем к каждой транзакции столбец: is_work (если транзакция находится в пределах 0.02 от дома клиента)\n",
    "- Добавляем к каждой транзакции столбец: is_home (если транзакция находится в пределах 0.02 от работы клиента)\n",
    "- Обучаем классификатор предсказывающий вероятность (is_home == 1) для транзакции\n",
    "- Обучаем классификатор предсказывающий вероятность (is_work == 1) для транзакции\n",
    "\n",
    "Точность определения местоположения:\n",
    "- для классификатора is_home: ~3x%\n",
    "- для классификатора is_work: ~2x%\n",
    "- общая оценка на Public Leaderboard: ???\n",
    "\n",
    "Примечание\n",
    "* Требуется Python версии 3.5\n",
    "* Требуется библиотека xgboost (для обучения использовалась xgboost версии 0.7.post3)\n",
    "* Требуются файлы: test_set.csv, train_set.csv в одном каталоге с данным скриптом\n",
    "* Требования к памяти: должно работать с 2Гб свободного RAM\n",
    "* Время работы: ~3 минуты (тестировалось на процессоре Intel Core i7-4770)"
   ]
  },
  {
   "cell_type": "code",
   "execution_count": 1,
   "metadata": {
    "collapsed": true
   },
   "outputs": [],
   "source": [
    "import pandas as pd\n",
    "import numpy as np\n",
    "import datetime\n",
    "\n",
    "import sklearn.cluster as sk\n",
    "import xgboost as xgb\n",
    "\n",
    "import sklearn\n",
    "\n",
    "from sklearn.model_selection import train_test_split"
   ]
  },
  {
   "cell_type": "code",
   "execution_count": 19,
   "metadata": {
    "collapsed": true
   },
   "outputs": [],
   "source": [
    "# Определим типы колонок для экономии памяти\n",
    "dtypes = {\n",
    "    'transaction_date': str,\n",
    "    'atm_address': str,\n",
    "    'country': str,\n",
    "    'city': str,\n",
    "    'amount': np.float32,\n",
    "    'currency': np.float32,\n",
    "    'mcc': str,\n",
    "    'customer_id': str,\n",
    "    'pos_address': str,\n",
    "    'atm_address': str,\n",
    "    'pos_adress_lat': np.float32,\n",
    "    'pos_adress_lon': np.float32,\n",
    "    'pos_address_lat': np.float32,\n",
    "    'pos_address_lon': np.float32,\n",
    "    'atm_address_lat': np.float32,\n",
    "    'atm_address_lon': np.float32,\n",
    "    'home_add_lat': np.float32,\n",
    "    'home_add_lon': np.float32,\n",
    "    'work_add_lat': np.float32,\n",
    "    'work_add_lon': np.float32,\n",
    "}\n",
    "\n",
    "# для экономии памяти будем загружать только часть атрибутов транзакций\n",
    "usecols_train = ['customer_id','transaction_date','amount','country', 'city', 'currency', 'mcc', 'pos_adress_lat', 'pos_adress_lon', 'atm_address_lat', 'atm_address_lon','home_add_lat','home_add_lon','work_add_lat','work_add_lon']\n",
    "usecols_test = ['customer_id','transaction_date','amount','country', 'city', 'currency', 'mcc', 'pos_address_lat', 'pos_address_lon', 'atm_address_lat', 'atm_address_lon']"
   ]
  },
  {
   "cell_type": "markdown",
   "metadata": {},
   "source": [
    "## Читаем train_set, test_set, соединяем в один датасет"
   ]
  },
  {
   "cell_type": "code",
   "execution_count": 187,
   "metadata": {
    "collapsed": true
   },
   "outputs": [],
   "source": [
    "train = pd.read_csv('data/train_set.csv', dtype = dtypes, usecols = usecols_train)\n",
    "train.rename(columns = {'pos_adress_lat': 'pos_address_lat', 'pos_adress_lon': 'pos_address_lon'}, inplace = True)\n",
    "\n",
    "test = pd.read_csv('data/test_set.csv', dtype = dtypes, usecols = usecols_test)\n",
    "submission = pd.DataFrame(test['customer_id'].unique(), columns = ['_ID_'])\n",
    "\n",
    "# соединяем test/train в одном DataFrame\n",
    "train['is_train'] = np.int32(1)\n",
    "test['is_train'] = np.int32(0)\n",
    "dt = pd.concat([train, test])\n",
    "\n",
    "del train, test"
   ]
  },
  {
   "cell_type": "code",
   "execution_count": 41,
   "metadata": {},
   "outputs": [
    {
     "data": {
      "text/plain": [
       "array(['00fd410f5c580c8351cafa88d82b60f3',\n",
       "       '0106b669d5d10148c16ea81890b9d511',\n",
       "       '01097e0bcfe7e25e3a1e21d53fcde472', ...,\n",
       "       '6dcb0b69a981bcda27289aa05a801519',\n",
       "       '6e30f78725b6618176206d875f6a1aae',\n",
       "       '6f238e23623353aa774eacfae00b55af'], dtype=object)"
      ]
     },
     "execution_count": 41,
     "metadata": {},
     "output_type": "execute_result"
    }
   ],
   "source": [
    "test = pd.read_csv('data/test_set.csv', dtype = dtypes, usecols = usecols_test)\n",
    "test['customer_id'].unique()"
   ]
  },
  {
   "cell_type": "code",
   "execution_count": 42,
   "metadata": {},
   "outputs": [
    {
     "data": {
      "text/plain": [
       "9997"
      ]
     },
     "execution_count": 42,
     "metadata": {},
     "output_type": "execute_result"
    }
   ],
   "source": [
    "len(test['customer_id'].unique())"
   ]
  },
  {
   "cell_type": "code",
   "execution_count": 175,
   "metadata": {},
   "outputs": [
    {
     "data": {
      "text/plain": [
       "<matplotlib.collections.PathCollection at 0x7f5b8c9f2290>"
      ]
     },
     "execution_count": 175,
     "metadata": {},
     "output_type": "execute_result"
    },
    {
     "data": {
      "image/png": "[encoded data removed]",
      "text/plain": [
       "<matplotlib.figure.Figure at 0x7f5b8cb0bb90>"
      ]
     },
     "metadata": {},
     "output_type": "display_data"
    }
   ],
   "source": [
    "import random\n",
    "import matplotlib\n",
    "\n",
    " \n",
    "%matplotlib inline\n",
    "\n",
    "a=train.customer_id.unique()\n",
    "X_mean= train[(train.customer_id==cust)& (train.pos_address_lat>0) ][[ 'pos_address_lon','pos_address_lat']]\n",
    "#print len(a)\n",
    "\n",
    "\n",
    "cust=a[random.randint (0,len(a))]\n",
    "\n",
    "lon=train[(train.customer_id==cust)& (train.atm_address_lat>0) ][[  'atm_address_lon']]\n",
    "lat=train[(train.customer_id==cust)& (train.atm_address_lat>0) ][['atm_address_lat' ]]\n",
    "\n",
    "matplotlib.pyplot.scatter(lat,lon,color='r',alpha=1)\n",
    "\n",
    "lon=train[(train.customer_id==cust)& (train.pos_address_lat>0) ][ 'pos_address_lon']\n",
    "lat=train[(train.customer_id==cust)& (train.pos_address_lat>0) ][['pos_address_lat' ]]\n",
    "\n",
    "X_mean= train[(train.customer_id==cust)& (train.pos_address_lat>0) ][[ 'pos_address_lon','pos_address_lat']]\n",
    "\n",
    "matplotlib.pyplot.scatter(lat,lon,color='b',alpha=1)\n",
    "\n",
    "\n",
    "lon=train[(train.customer_id==cust)& (train.work_add_lon>0) ][ 'work_add_lon']\n",
    "lat=train[(train.customer_id==cust)& (train.work_add_lon>0) ][['work_add_lat' ]]\n",
    "\n",
    "matplotlib.pyplot.scatter(lat,lon,color='g',alpha=1,marker='^')\n",
    "\n",
    "\n",
    "lon=train[(train.customer_id==cust)& (train.home_add_lat>0) ][ 'home_add_lat']\n",
    "lat=train[(train.customer_id==cust)& (train.home_add_lat>0) ][['home_add_lat' ]]\n",
    "\n",
    "matplotlib.pyplot.scatter(lat,lon,color='y',alpha=1,marker='^')"
   ]
  },
  {
   "cell_type": "code",
   "execution_count": null,
   "metadata": {
    "collapsed": true
   },
   "outputs": [],
   "source": [
    "a=train.customer_id.unique()\n",
    "X_mean= train[(train.customer_id==cust)& (train.pos_address_lat>0) ][[ 'pos_address_lon','pos_address_lat']]\n",
    "ms=sk.MeanShift(bandwidth=0.02)\n",
    "ms.fit_predict(X_mean)  "
   ]
  },
  {
   "cell_type": "code",
   "execution_count": 179,
   "metadata": {},
   "outputs": [
    {
     "data": {
      "text/plain": [
       "array([3, 1, 2, 0, 0, 4, 1, 2, 3, 0, 2, 0, 2, 0, 0, 0, 2, 0, 0, 1, 0, 1,\n",
       "       0, 0, 0, 0])"
      ]
     },
     "execution_count": 179,
     "metadata": {},
     "output_type": "execute_result"
    }
   ],
   "source": [
    "\n",
    "ms=sk.MeanShift(bandwidth=0.02)\n",
    "ms.fit_predict(X_mean)  "
   ]
  },
  {
   "cell_type": "code",
   "execution_count": 181,
   "metadata": {},
   "outputs": [
    {
     "data": {
      "text/plain": [
       "(array([0, 1, 2, 3, 4]), array([14,  4,  5,  2,  1]))"
      ]
     },
     "execution_count": 181,
     "metadata": {},
     "output_type": "execute_result"
    }
   ],
   "source": [
    "np.unique(ms.fit_predict(X_mean), return_counts=True)"
   ]
  },
  {
   "cell_type": "markdown",
   "metadata": {},
   "source": [
    "### Обрабатываем дату транзакции и категориальные признаки"
   ]
  },
  {
   "cell_type": "code",
   "execution_count": 188,
   "metadata": {
    "collapsed": true
   },
   "outputs": [],
   "source": [
    "dt['currency'] = dt['currency'].fillna(-1).astype(np.int32)\n",
    "dt['mcc'] = dt['mcc'].apply(lambda x: int(x.replace(',', ''))).astype(np.int32)\n",
    "dt['city'] = dt['city'].factorize()[0].astype(np.int32)\n",
    "dt['country'] = dt['country'].factorize()[0].astype(np.int32)\n",
    "\n",
    "# удаляем транзакции без даты\n",
    "dt.drop(dt[dt['transaction_date'].isnull()].index, axis = 0, inplace = True)\n",
    "dt['transaction_date'] = dt['transaction_date'].apply(lambda x: datetime.datetime.strptime(x, '%Y-%m-%d'))"
   ]
  },
  {
   "cell_type": "markdown",
   "metadata": {},
   "source": [
    "### Фичи для даты"
   ]
  },
  {
   "cell_type": "code",
   "execution_count": 189,
   "metadata": {
    "collapsed": true
   },
   "outputs": [],
   "source": [
    "dt['weekday'] = dt['transaction_date'].dt.weekday.astype(np.int32)"
   ]
  },
  {
   "cell_type": "markdown",
   "metadata": {},
   "source": [
    "### Приводим адрес транзакции для pos и atm-транзакций к единообразному виду"
   ]
  },
  {
   "cell_type": "code",
   "execution_count": 190,
   "metadata": {
    "collapsed": true
   },
   "outputs": [],
   "source": [
    "dt['is_atm'] = (~dt['atm_address_lat'].isnull()).astype(np.int32)\n",
    "dt['is_pos'] = (~dt['pos_address_lat'].isnull()).astype(np.int32)\n",
    "\n",
    "dt['address_lat'] = dt['atm_address_lat'].fillna(0) + dt['pos_address_lat'].fillna(0)\n",
    "dt['address_lon'] = dt['atm_address_lon'].fillna(0) + dt['pos_address_lon'].fillna(0)\n",
    "\n",
    "dt.drop(['atm_address_lat','atm_address_lon','pos_address_lat','pos_address_lon'], axis = 1, inplace = True)\n",
    "\n",
    "# удалим транзакции без адреса\n",
    "dt.drop(dt[((dt['address_lon'] == 0) & (dt['address_lon'] == 0))].index, axis = 0, inplace = True)"
   ]
  },
  {
   "cell_type": "markdown",
   "metadata": {},
   "source": [
    "### Генерируем признаки is_home, is_work"
   ]
  },
  {
   "cell_type": "code",
   "execution_count": 191,
   "metadata": {
    "collapsed": true
   },
   "outputs": [],
   "source": [
    "lat = dt['home_add_lat'] - dt['address_lat']\n",
    "lon = dt['home_add_lon'] - dt['address_lon']\n",
    "dt['is_home'] = (np.sqrt((lat ** 2) + (lon ** 2)) <= 0.02).astype(np.int32)\n",
    "dt['has_home'] = (~dt['home_add_lon'].isnull()).astype(np.int32)\n",
    "\n",
    "lat = dt['work_add_lat'] - dt['address_lat']\n",
    "lon = dt['work_add_lon'] - dt['address_lon']\n",
    "dt['is_work'] = (np.sqrt((lat ** 2) + (lon ** 2)) <= 0.02).astype(np.int32)\n",
    "dt['has_work'] = (~dt['work_add_lon'].isnull()).astype(np.int32)\n",
    "\n",
    "dt.drop(['work_add_lat','work_add_lon','home_add_lat','home_add_lon'], axis = 1, inplace = True)"
   ]
  },
  {
   "cell_type": "markdown",
   "metadata": {},
   "source": [
    "### Генерируем категориальный признак для адреса"
   ]
  },
  {
   "cell_type": "code",
   "execution_count": 192,
   "metadata": {
    "collapsed": true
   },
   "outputs": [],
   "source": [
    "dt['address'] = dt['address_lat'].apply(lambda x: \"%.02f\" % x) + ';' + dt['address_lon'].apply(lambda x: \"%.02f\" % x)\n",
    "dt['address'] = dt['address'].factorize()[0].astype(np.int32)"
   ]
  },
  {
   "cell_type": "markdown",
   "metadata": {},
   "source": [
    "### Фичи со временем "
   ]
  },
  {
   "cell_type": "code",
   "execution_count": 193,
   "metadata": {
    "collapsed": true
   },
   "outputs": [],
   "source": [
    "a=datetime.datetime(2000, 1, 1)\n",
    "dt.transaction_date=dt.transaction_date.apply(pd.to_datetime)\n",
    "dt['weekday'] = dt.transaction_date.apply(lambda x:  x.weekday()  )\n",
    "dt['days']=dt.transaction_date.apply(lambda x: (x - a).days )\n",
    "dt['month']=dt.transaction_date.apply(lambda x:  x.month  )"
   ]
  },
  {
   "cell_type": "code",
   "execution_count": null,
   "metadata": {
    "collapsed": true
   },
   "outputs": [],
   "source": [
    "'weekday','month','days'"
   ]
  },
  {
   "cell_type": "markdown",
   "metadata": {},
   "source": [
    "### Генерируем несколько абонентских фич"
   ]
  },
  {
   "cell_type": "code",
   "execution_count": 194,
   "metadata": {
    "collapsed": true
   },
   "outputs": [],
   "source": [
    "# количество транзакций каждого клиента\n",
    "dt = dt.merge(dt.groupby('customer_id')['amount'].count().reset_index(name = 'tx'), how = 'left')\n",
    "dt['tx'] = dt['tx'].astype(np.int32)\n",
    "\n",
    "dt = dt.merge(dt.groupby(['customer_id','address'])['amount'].count().reset_index(name = 'tx_cust_addr'), how = 'left')\n",
    "dt['tx_cust_addr'] = dt['tx_cust_addr'].astype(np.int32)\n",
    "\n",
    "# какая часть транзакций клиента приходится на данный адрес\n",
    "dt['ratio1'] = dt['tx_cust_addr'] / dt['tx']"
   ]
  },
  {
   "cell_type": "code",
   "execution_count": 195,
   "metadata": {
    "collapsed": true
   },
   "outputs": [],
   "source": [
    "\n",
    "dt = dt.merge(dt.groupby(['customer_id'])['amount'].sum().reset_index(name = 'sum_amount'), how = 'left')\n",
    "dt = dt.merge(dt.groupby(['customer_id','address'])['amount'].sum().reset_index(name = 'sum_amount_address'), how = 'left')\n",
    "\n",
    "dt['sum_amount_address_ratio1'] = dt['sum_amount_address'] / dt['sum_amount']\n",
    "\n",
    "\n",
    "dt = dt.merge(dt.groupby(['customer_id','mcc'])['address_lat'].median().reset_index(name = 'mcc_lat'), how = 'left')\n",
    "dt = dt.merge(dt.groupby(['customer_id','mcc'])['address_lon'].median().reset_index(name = 'mcc_lon'), how = 'left')\n",
    "dt['mcc_radios']=np.sqrt((dt.address_lat-dt.mcc_lat)**2+(dt.address_lon-dt.mcc_lon)**2)/0.02\n",
    "\n",
    "dt = dt.merge(dt.groupby(['customer_id','transaction_date'])['amount'].count().reset_index(name = 'transaction_date_cnt'), how = 'left')\n",
    "dt['transaction_date_cnt_ratio']=dt['transaction_date_cnt']/dt['tx']\n",
    "\n",
    "\n",
    "dt.drop(['sum_amount','mcc_lat','mcc_lon'], axis = 1, inplace = True)"
   ]
  },
  {
   "cell_type": "code",
   "execution_count": null,
   "metadata": {
    "collapsed": true
   },
   "outputs": [],
   "source": []
  },
  {
   "cell_type": "code",
   "execution_count": 285,
   "metadata": {
    "collapsed": true
   },
   "outputs": [],
   "source": [
    "columns = ['customer_id', 'cluster_n', 'cluster_lon','cluster_lat']\n",
    "df1 = pd.DataFrame(columns=columns) "
   ]
  },
  {
   "cell_type": "code",
   "execution_count": 1,
   "metadata": {},
   "outputs": [
    {
     "ename": "NameError",
     "evalue": "name 'pd' is not defined",
     "output_type": "error",
     "traceback": [
      "\u001b[0;31m---------------------------------------------------------------------------\u001b[0m",
      "\u001b[0;31mNameError\u001b[0m                                 Traceback (most recent call last)",
      "\u001b[0;32m<ipython-input-1-115c96586411>\u001b[0m in \u001b[0;36m<module>\u001b[0;34m()\u001b[0m\n\u001b[1;32m      1\u001b[0m \u001b[0mcolumns\u001b[0m \u001b[0;34m=\u001b[0m \u001b[0;34m[\u001b[0m\u001b[0;34m'customer_id'\u001b[0m\u001b[0;34m,\u001b[0m \u001b[0;34m'cluster_n'\u001b[0m\u001b[0;34m,\u001b[0m \u001b[0;34m'cluster_lon'\u001b[0m\u001b[0;34m,\u001b[0m\u001b[0;34m'cluster_lat'\u001b[0m\u001b[0;34m]\u001b[0m\u001b[0;34m\u001b[0m\u001b[0m\n\u001b[0;32m----> 2\u001b[0;31m \u001b[0mdf1\u001b[0m \u001b[0;34m=\u001b[0m \u001b[0mpd\u001b[0m\u001b[0;34m.\u001b[0m\u001b[0mDataFrame\u001b[0m\u001b[0;34m(\u001b[0m\u001b[0mcolumns\u001b[0m\u001b[0;34m=\u001b[0m\u001b[0mcolumns\u001b[0m\u001b[0;34m)\u001b[0m\u001b[0;34m\u001b[0m\u001b[0m\n\u001b[0m\u001b[1;32m      3\u001b[0m \u001b[0;34m\u001b[0m\u001b[0m\n\u001b[1;32m      4\u001b[0m \u001b[0;34m\u001b[0m\u001b[0m\n\u001b[1;32m      5\u001b[0m \u001b[0ma\u001b[0m\u001b[0;34m=\u001b[0m\u001b[0mdt\u001b[0m\u001b[0;34m.\u001b[0m\u001b[0mcustomer_id\u001b[0m\u001b[0;34m.\u001b[0m\u001b[0munique\u001b[0m\u001b[0;34m(\u001b[0m\u001b[0;34m)\u001b[0m\u001b[0;34m\u001b[0m\u001b[0m\n",
      "\u001b[0;31mNameError\u001b[0m: name 'pd' is not defined"
     ]
    }
   ],
   "source": [
    "columns = ['customer_id', 'cluster_n', 'cluster_lon','cluster_lat']\n",
    "df1 = pd.DataFrame(columns=columns) \n",
    "\n",
    "\n",
    "a=dt.customer_id.unique()\n",
    "ms=sk.MeanShift(bandwidth=0.02)\n",
    "print len(a)\n",
    "i=0\n",
    "\n",
    "for cust in a: #a[:20]\n",
    "    i=i+1\n",
    "    print i\n",
    "    if (len(a)-i)%100==0:\n",
    "        print (len(a)-i)\n",
    "    \n",
    "    X_mean= dt[(dt.customer_id==cust)& (dt.address_lat>0) ][[ 'address_lon','address_lat']]\n",
    "    ms.fit_predict(X_mean) \n",
    "    dt.ix[(dt.customer_id==cust)& (dt.address_lat>0), 'cluster_n' ] = ms.predict(X_mean) \n",
    "    #print [cust]*len(np.unique(ms.labels_)), np.unique(ms.labels_) ,ms.cluster_centers_[:,0],ms.cluster_centers_[:,1]\n",
    "     \n",
    "    d = {'customer_id':[cust]*len(np.unique(ms.labels_)),\n",
    "         'cluster_n':np.unique(ms.labels_) ,\n",
    "         'cluster_lon':ms.cluster_centers_[:,0],\n",
    "         'cluster_lat':ms.cluster_centers_[:,1]\n",
    "        \n",
    "        }\n",
    "    df_tmp = pd.DataFrame(d)\n",
    "    df1.append(df_tmp)\n",
    "    #df_tmp = pd.DataFrame(d) \n",
    "    \n",
    "   ## df_cur=df1\n",
    "    #df1 = pd.concat([df_cur, df_tmp])\n",
    "     "
   ]
  },
  {
   "cell_type": "code",
   "execution_count": 2,
   "metadata": {
    "collapsed": true
   },
   "outputs": [],
   "source": [
    "#dt=pd.read_csv('df.csv')"
   ]
  },
  {
   "cell_type": "code",
   "execution_count": 3,
   "metadata": {
    "collapsed": true
   },
   "outputs": [],
   "source": [
    "#df1=pd.read_csv('df1.csv')"
   ]
  },
  {
   "cell_type": "code",
   "execution_count": 5,
   "metadata": {
    "collapsed": true
   },
   "outputs": [],
   "source": [
    "a=(dt.address_lat-dt.merge(df1,how='left', on =['cluster_n','customer_id']).cluster_lat)\n",
    "b=(dt.address_lon-dt.merge(df1,how='left', on =['cluster_n','customer_id']).cluster_lon)\n",
    "\n",
    "dt['cluster_n_0']=np.sqrt(a**2+b**2)/0.02\n",
    "\n"
   ]
  },
  {
   "cell_type": "code",
   "execution_count": null,
   "metadata": {
    "collapsed": true
   },
   "outputs": [],
   "source": [
    "'cluster_n_0','cluster_n'"
   ]
  },
  {
   "cell_type": "markdown",
   "metadata": {},
   "source": [
    "## Вспомогательные функции для оценки точности классификатора"
   ]
  },
  {
   "cell_type": "code",
   "execution_count": 7,
   "metadata": {
    "collapsed": true
   },
   "outputs": [],
   "source": [
    "def _best(x):\n",
    "    ret = None\n",
    "    for col in ys:\n",
    "        pred = ('pred:%s' % col)\n",
    "        if pred in x:\n",
    "            i = (x[pred].idxmax())\n",
    "            cols = [pred,'address_lat','address_lon']\n",
    "            if col in x:\n",
    "                cols.append(col)\n",
    "            tmp = x.loc[i,cols]\n",
    "            tmp.rename({\n",
    "                'address_lat':'%s:add_lat' % col,\n",
    "                'address_lon':'%s:add_lon' % col,\n",
    "            }, inplace = True)\n",
    "            if ret is None:\n",
    "                ret = tmp\n",
    "            else:\n",
    "                ret = pd.concat([ret, tmp])\n",
    "    return ret"
   ]
  },
  {
   "cell_type": "code",
   "execution_count": 8,
   "metadata": {
    "collapsed": true
   },
   "outputs": [],
   "source": [
    "def predict_proba(dt, ys = ['is_home', 'is_work']):\n",
    "    for col in ys:\n",
    "        pred = ('pred:%s' % col)\n",
    "        dt[pred] = model[col].predict_proba(dt[xs])[:,1]\n",
    "    return dt.groupby('customer_id').apply(_best).reset_index()"
   ]
  },
  {
   "cell_type": "code",
   "execution_count": 9,
   "metadata": {
    "collapsed": true
   },
   "outputs": [],
   "source": [
    "def score(dt, ys = ['is_home', 'is_work']):\n",
    "    dt_ret = predict_proba(dt, ys)\n",
    "    mean = 0.0\n",
    "    for col in ys:\n",
    "        col_mean = dt_ret[col].mean()\n",
    "        mean += col_mean\n",
    "    if len(ys) == 2:\n",
    "        mean = mean / len(ys)\n",
    "    return mean"
   ]
  },
  {
   "cell_type": "markdown",
   "metadata": {},
   "source": [
    "### Признаки, на которых будем обучать модель"
   ]
  },
  {
   "cell_type": "code",
   "execution_count": 10,
   "metadata": {
    "collapsed": true
   },
   "outputs": [],
   "source": [
    "xs = ['amount','currency','city','country','mcc','is_atm','is_pos','ratio1','sum_amount_address','sum_amount_address_ratio1','mcc_radios','transaction_date_cnt'\n",
    ",'transaction_date_cnt_ratio','weekday','month','days']\n",
    "ys = ['is_home', 'is_work']"
   ]
  },
  {
   "cell_type": "markdown",
   "metadata": {},
   "source": [
    "# Создаем классификаторы\n",
    "**Hint**: можно поигратьcя с гиперпараметрами для лучшего результата :)"
   ]
  },
  {
   "cell_type": "code",
   "execution_count": 11,
   "metadata": {
    "collapsed": true
   },
   "outputs": [],
   "source": [
    "model0 = {\n",
    "    'is_home': xgb.XGBClassifier(n_estimators = 100, n_jobs = 3),\n",
    "    'is_work': xgb.XGBClassifier(n_estimators = 100, n_jobs = 3),\n",
    "}"
   ]
  },
  {
   "cell_type": "code",
   "execution_count": 12,
   "metadata": {},
   "outputs": [
    {
     "name": "stdout",
     "output_type": "stream",
     "text": [
      "(7489,)\n",
      "(3210,)\n"
     ]
    }
   ],
   "source": [
    "model = {}\n",
    "\n",
    "# последовательно обучаем два классификатора\n",
    "for col in ['is_home', 'is_work']:\n",
    "    \n",
    "    #выберем для обучение транзакции только тех клиентов из train, у которых хоть в одной транзакции указано место работы/жительства\n",
    "    cust_train = dt[dt['is_train'] == 1].groupby('customer_id')[col].max()\n",
    "    cust_train = cust_train[cust_train > 0].index\n",
    "    print np.shape(cust_train)"
   ]
  },
  {
   "cell_type": "markdown",
   "metadata": {},
   "source": [
    "# Обучаем классификаторы"
   ]
  },
  {
   "cell_type": "code",
   "execution_count": 14,
   "metadata": {},
   "outputs": [
    {
     "name": "stdout",
     "output_type": "stream",
     "text": [
      "('Training:', 'is_home')\n",
      "[0]\tvalidation_0-logloss:0.659603\tvalidation_1-logloss:0.659681\n",
      "[10]\tvalidation_0-logloss:0.512707\tvalidation_1-logloss:0.514159\n",
      "[20]\tvalidation_0-logloss:0.471921\tvalidation_1-logloss:0.474692\n",
      "[30]\tvalidation_0-logloss:0.456626\tvalidation_1-logloss:0.462815\n",
      "[40]\tvalidation_0-logloss:0.446508\tvalidation_1-logloss:0.456076\n",
      "[50]\tvalidation_0-logloss:0.438471\tvalidation_1-logloss:0.452364\n",
      "[60]\tvalidation_0-logloss:0.43334\tvalidation_1-logloss:0.450032\n",
      "[70]\tvalidation_0-logloss:0.429719\tvalidation_1-logloss:0.450303\n",
      "[80]\tvalidation_0-logloss:0.426936\tvalidation_1-logloss:0.449351\n",
      "[90]\tvalidation_0-logloss:0.424836\tvalidation_1-logloss:0.449332\n",
      "[99]\tvalidation_0-logloss:0.42317\tvalidation_1-logloss:0.449807\n",
      "('Train accuracy:', 0.5416913946587537)\n",
      "('Test accuracy:', 0.5500667556742324)\n",
      "()\n",
      "('Training:', 'is_work')\n",
      "[0]\tvalidation_0-logloss:0.656515\tvalidation_1-logloss:0.656449\n",
      "[10]\tvalidation_0-logloss:0.496298\tvalidation_1-logloss:0.501573\n",
      "[20]\tvalidation_0-logloss:0.454246\tvalidation_1-logloss:0.46067\n",
      "[30]\tvalidation_0-logloss:0.438459\tvalidation_1-logloss:0.446013\n",
      "[40]\tvalidation_0-logloss:0.429815\tvalidation_1-logloss:0.438372\n",
      "[50]\tvalidation_0-logloss:0.423786\tvalidation_1-logloss:0.435987\n",
      "[60]\tvalidation_0-logloss:0.41875\tvalidation_1-logloss:0.435164\n",
      "[70]\tvalidation_0-logloss:0.41419\tvalidation_1-logloss:0.433577\n",
      "[80]\tvalidation_0-logloss:0.410974\tvalidation_1-logloss:0.433319\n",
      "[90]\tvalidation_0-logloss:0.407637\tvalidation_1-logloss:0.431323\n",
      "[99]\tvalidation_0-logloss:0.405458\tvalidation_1-logloss:0.431546\n",
      "('Train accuracy:', 0.4184839044652129)\n",
      "('Test accuracy:', 0.37383177570093457)\n",
      "()\n"
     ]
    }
   ],
   "source": [
    "model = {}\n",
    "\n",
    "# последовательно обучаем два классификатора\n",
    "for col in ['is_home', 'is_work']:\n",
    "    \n",
    "    #выберем для обучение транзакции только тех клиентов из train, у которых хоть в одной транзакции указано место работы/жительства\n",
    "    cust_train = dt[dt['is_train'] == 1].groupby('customer_id')[col].max()\n",
    "    cust_train = cust_train[cust_train > 0].index\n",
    "    \n",
    "    #разобъем train на train/valid для валидации\n",
    "    cust_train, cust_valid = train_test_split(cust_train, test_size = 0.1, shuffle = True, random_state = 2)\n",
    "    \n",
    "    train = pd.DataFrame(cust_train, columns = ['customer_id']).merge(dt, how = 'left')\n",
    "    valid = pd.DataFrame(cust_valid, columns = ['customer_id']).merge(dt, how = 'left')\n",
    "\n",
    "    print (\"Training:\", col)\n",
    "    clf = sklearn.base.clone(model0[col])\n",
    "    clf.fit(train[xs], train[col], eval_metric = 'logloss', eval_set = [(train[xs], train[col]), (valid[xs], valid[col])], verbose=10)\n",
    "    model[col] = clf\n",
    "    print (\"Train accuracy:\", score(train, ys = [col]))\n",
    "    print (\"Test accuracy:\", score(valid, ys = [col]))\n",
    "    print ()\n"
   ]
  },
  {
   "cell_type": "code",
   "execution_count": 45,
   "metadata": {},
   "outputs": [
    {
     "name": "stdout",
     "output_type": "stream",
     "text": [
      "('Training:', 'is_home')\n",
      "[0]\tvalidation_0-logloss:0.658342\tvalidation_1-logloss:0.657099\n",
      "[10]\tvalidation_0-logloss:0.513842\tvalidation_1-logloss:0.507505\n",
      "[20]\tvalidation_0-logloss:0.481401\tvalidation_1-logloss:0.474682\n",
      "[30]\tvalidation_0-logloss:0.47064\tvalidation_1-logloss:0.464442\n",
      "[40]\tvalidation_0-logloss:0.464078\tvalidation_1-logloss:0.45901\n",
      "[50]\tvalidation_0-logloss:0.459929\tvalidation_1-logloss:0.456033\n",
      "[60]\tvalidation_0-logloss:0.456621\tvalidation_1-logloss:0.453878\n",
      "[70]\tvalidation_0-logloss:0.454026\tvalidation_1-logloss:0.452766\n",
      "[80]\tvalidation_0-logloss:0.451746\tvalidation_1-logloss:0.452048\n",
      "[90]\tvalidation_0-logloss:0.449927\tvalidation_1-logloss:0.451534\n",
      "[99]\tvalidation_0-logloss:0.448292\tvalidation_1-logloss:0.451445\n",
      "('Train accuracy:', 0.4118888888888889)\n",
      "('Test accuracy:', 0.407)\n",
      "()\n",
      "('Training:', 'is_work')\n",
      "[0]\tvalidation_0-logloss:0.647191\tvalidation_1-logloss:0.647433\n",
      "[10]\tvalidation_0-logloss:0.451774\tvalidation_1-logloss:0.452244\n",
      "[20]\tvalidation_0-logloss:0.409084\tvalidation_1-logloss:0.409677\n",
      "[30]\tvalidation_0-logloss:0.396056\tvalidation_1-logloss:0.397279\n",
      "[40]\tvalidation_0-logloss:0.389862\tvalidation_1-logloss:0.393329\n",
      "[50]\tvalidation_0-logloss:0.386305\tvalidation_1-logloss:0.391826\n",
      "[60]\tvalidation_0-logloss:0.38336\tvalidation_1-logloss:0.390993\n",
      "[70]\tvalidation_0-logloss:0.379863\tvalidation_1-logloss:0.391834\n",
      "[80]\tvalidation_0-logloss:0.377799\tvalidation_1-logloss:0.392506\n",
      "[90]\tvalidation_0-logloss:0.375113\tvalidation_1-logloss:0.391626\n",
      "[99]\tvalidation_0-logloss:0.372741\tvalidation_1-logloss:0.3922\n",
      "('Train accuracy:', 0.26647996553209824)\n",
      "('Test accuracy:', 0.2596899224806202)\n",
      "()\n"
     ]
    }
   ],
   "source": [
    "model = {}\n",
    "\n",
    "# последовательно обучаем два классификатора\n",
    "for col in ['is_home', 'is_work']:\n",
    "    \n",
    "    #выберем для обучение транзакции только тех клиентов из train, у которых хоть в одной транзакции указано место работы/жительства\n",
    "    cust_train = dt[dt['is_train'] == 1].groupby('customer_id')[col.replace('is_','has_')].max()\n",
    "    cust_train = cust_train[cust_train > 0].index\n",
    "    \n",
    "    #разобъем train на train/valid для валидации\n",
    "    cust_train, cust_valid = train_test_split(cust_train, test_size = 0.1, shuffle = True, random_state = 2)\n",
    "    \n",
    "    train = pd.DataFrame(cust_train, columns = ['customer_id']).merge(dt, how = 'left')\n",
    "    valid = pd.DataFrame(cust_valid, columns = ['customer_id']).merge(dt, how = 'left')\n",
    "\n",
    "    print (\"Training:\", col)\n",
    "    clf = sklearn.base.clone(model0[col])\n",
    "    clf.fit(train[xs], train[col], eval_metric = 'logloss', eval_set = [(train[xs], train[col]), (valid[xs], valid[col])], verbose=10)\n",
    "    model[col] = clf\n",
    "    print (\"Train accuracy:\", score(train, ys = [col]))\n",
    "    print (\"Test accuracy:\", score(valid, ys = [col]))\n",
    "    print ()\n"
   ]
  },
  {
   "cell_type": "markdown",
   "metadata": {},
   "source": [
    "# Predict"
   ]
  },
  {
   "cell_type": "code",
   "execution_count": 44,
   "metadata": {
    "collapsed": true
   },
   "outputs": [],
   "source": [
    "cust_test = test['customer_id'].unique()\n",
    "test = pd.DataFrame(cust_test, columns = ['customer_id']).merge(dt, how = 'left')\n",
    "test = predict_proba(test)\n",
    "test.rename(columns = {\n",
    "        'customer_id':'_ID_',\n",
    "        'is_home:add_lat': '_HOME_LAT_',\n",
    "        'is_home:add_lon': '_HOME_LON_',\n",
    "        'is_work:add_lat': '_WORK_LAT_',\n",
    "        'is_work:add_lon': '_WORK_LON_'}, inplace = True)\n",
    "test = test[['_ID_', '_WORK_LAT_', '_WORK_LON_', '_HOME_LAT_', '_HOME_LON_']]"
   ]
  },
  {
   "cell_type": "code",
   "execution_count": 47,
   "metadata": {},
   "outputs": [
    {
     "data": {
      "text/plain": [
       "9997"
      ]
     },
     "execution_count": 47,
     "metadata": {},
     "output_type": "execute_result"
    }
   ],
   "source": [
    "len( test['_ID_'].unique())"
   ]
  },
  {
   "cell_type": "code",
   "execution_count": 34,
   "metadata": {
    "collapsed": true
   },
   "outputs": [],
   "source": [
    "test.rename(columns = {\n",
    "        'customer_id':'_ID_',\n",
    "        'is_home:add_lat': '_HOME_LAT_',\n",
    "        'is_home:add_lon': '_HOME_LON_',\n",
    "        'is_work:add_lat': '_WORK_LAT_',\n",
    "        'is_work:add_lon': '_WORK_LON_'}, inplace = True)"
   ]
  },
  {
   "cell_type": "markdown",
   "metadata": {},
   "source": [
    "# Формируем submission-файл"
   ]
  },
  {
   "cell_type": "code",
   "execution_count": 50,
   "metadata": {
    "collapsed": true
   },
   "outputs": [],
   "source": [
    "submission = pd.DataFrame(test['_ID_'].unique(), columns = ['_ID_'])\n",
    "# Заполняем пропуски\n",
    "submission = submission.merge(test, how = 'left').fillna(0)\n",
    "\n",
    "sample = pd.read_csv('data/sample.csv')\n",
    "\n",
    "submission.columns = sample.columns\n",
    "\n",
    "\n",
    "# Пишем файл submission\n",
    "submission.to_csv('baseline-very-simple.csv', index = False)"
   ]
  },
  {
   "cell_type": "code",
   "execution_count": 40,
   "metadata": {},
   "outputs": [
    {
     "data": {
      "text/plain": [
       "(9997, 5)"
      ]
     },
     "execution_count": 40,
     "metadata": {},
     "output_type": "execute_result"
    }
   ],
   "source": [
    "sample.shape"
   ]
  },
  {
   "cell_type": "code",
   "execution_count": 49,
   "metadata": {},
   "outputs": [
    {
     "data": {
      "text/plain": [
       "(9997, 5)"
      ]
     },
     "execution_count": 49,
     "metadata": {},
     "output_type": "execute_result"
    }
   ],
   "source": [
    "submission.shape"
   ]
  }
 ],
 "metadata": {
  "kernelspec": {
   "display_name": "Python 2",
   "language": "python",
   "name": "python2"
  },
  "language_info": {
   "codemirror_mode": {
    "name": "ipython",
    "version": 2
   },
   "file_extension": ".py",
   "mimetype": "text/x-python",
   "name": "python",
   "nbconvert_exporter": "python",
   "pygments_lexer": "ipython2",
   "version": "2.7.13"
  }
 },
 "nbformat": 4,
 "nbformat_minor": 2
}
