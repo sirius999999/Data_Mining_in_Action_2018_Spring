{
 "cells": [
  {
   "cell_type": "code",
   "execution_count": 1,
   "metadata": {
    "collapsed": true
   },
   "outputs": [],
   "source": [
    "import pandas as pd\n",
    "import numpy as np\n",
    "import datetime\n",
    "import re\n",
    "import pickle\n",
    "import sys\n",
    "from collections import Counter\n",
    "\n",
    "import xgboost as xgb\n",
    "import sklearn\n",
    "from sklearn.model_selection import train_test_split\n",
    "\n",
    "import geocoder\n",
    "import pycountry\n",
    "\n",
    "from tqdm import tqdm_notebook, tqdm"
   ]
  },
  {
   "cell_type": "code",
   "execution_count": 2,
   "metadata": {
    "collapsed": true
   },
   "outputs": [],
   "source": [
    "pd.set_option('display.max_columns', None)"
   ]
  },
  {
   "cell_type": "code",
   "execution_count": 3,
   "metadata": {
    "collapsed": true
   },
   "outputs": [],
   "source": [
    "dtypes = {\n",
    "    'transaction_date': str,\n",
    "    'atm_address': str,\n",
    "    'country': str,\n",
    "    'city': str,\n",
    "    'amount': np.float32,\n",
    "    'currency': np.float32,\n",
    "    'mcc': str,\n",
    "    'customer_id': str,\n",
    "    'terminal_id': str,\n",
    "    'pos_address': str,\n",
    "    'atm_address': str,\n",
    "    'pos_adress_lat': np.float32,\n",
    "    'pos_adress_lon': np.float32,\n",
    "    'pos_address_lat': np.float32,\n",
    "    'pos_address_lon': np.float32,\n",
    "    'atm_address_lat': np.float32,\n",
    "    'atm_address_lon': np.float32,\n",
    "    'home_add_lat': np.float32,\n",
    "    'home_add_lon': np.float32,\n",
    "    'work_add_lat': np.float32,\n",
    "    'work_add_lon': np.float32,\n",
    "}"
   ]
  },
  {
   "cell_type": "markdown",
   "metadata": {},
   "source": [
    "# Загрузка данных"
   ]
  },
  {
   "cell_type": "code",
   "execution_count": 4,
   "metadata": {
    "collapsed": true
   },
   "outputs": [],
   "source": [
    "train = pd.read_csv('data/train_set.csv.gz', compression='gzip', dtype=dtypes)\n",
    "train.rename(columns = {'pos_adress_lat': 'pos_address_lat', 'pos_adress_lon': 'pos_address_lon'}, inplace = True)\n",
    "\n",
    "test = pd.read_csv('data/test_set.csv.gz', compression='gzip', dtype=dtypes)\n",
    "submission = pd.DataFrame(test['customer_id'].unique(), columns = ['_ID_'])\n",
    "\n",
    "# соединяем test/train в одном DataFrame\n",
    "train['is_train'] = np.int32(1)\n",
    "test['is_train'] = np.int32(0)\n",
    "dt = pd.concat([train, test])\n",
    "\n",
    "del train, test"
   ]
  },
  {
   "cell_type": "code",
   "execution_count": 4,
   "metadata": {
    "collapsed": true
   },
   "outputs": [],
   "source": [
    "# train = train[(train.country == 'RU ') | (train.country == 'RUS')]\n",
    "# countries_all = set(train[~train.country.isnull()].country.apply(clean))"
   ]
  },
  {
   "cell_type": "code",
   "execution_count": null,
   "metadata": {
    "collapsed": true
   },
   "outputs": [],
   "source": []
  },
  {
   "cell_type": "markdown",
   "metadata": {},
   "source": [
    "# Нормализация городов"
   ]
  },
  {
   "cell_type": "code",
   "execution_count": 5,
   "metadata": {},
   "outputs": [
    {
     "data": {
      "text/plain": [
       "Country(alpha_2='RU', alpha_3='RUS', name='Russian Federation', numeric='643')"
      ]
     },
     "execution_count": 5,
     "metadata": {},
     "output_type": "execute_result"
    }
   ],
   "source": [
    "def clean(entity):\n",
    "    return re.sub('\\s+', ' ', entity.strip())\n",
    "\n",
    "def country_resolve(country):\n",
    "    if not (3 >= len(country) >= 2):\n",
    "        return None\n",
    "    try:\n",
    "        return pycountry.countries.lookup(country)\n",
    "    except LookupError:    \n",
    "        if len(country) != 3:\n",
    "            return None\n",
    "        try:\n",
    "            return pycountry.countries.lookup(country[:2])\n",
    "        except LookupError:\n",
    "            return None\n",
    "    \n",
    "country_resolve('RU')"
   ]
  },
  {
   "cell_type": "code",
   "execution_count": 6,
   "metadata": {
    "collapsed": true
   },
   "outputs": [],
   "source": [
    "cities_all = set(\n",
    "    dt[(~dt.city.isnull()) & (~dt.country.isnull())] \\\n",
    "        .apply(lambda x: (clean(x['city']), clean(x['country'])), axis=1))"
   ]
  },
  {
   "cell_type": "code",
   "execution_count": 7,
   "metadata": {
    "collapsed": true
   },
   "outputs": [],
   "source": [
    "cities_geocodes = pickle.load(open(\"cities_geocodes.p\", \"rb\" ))"
   ]
  },
  {
   "cell_type": "code",
   "execution_count": 8,
   "metadata": {},
   "outputs": [
    {
     "ename": "Exception",
     "evalue": "load cities from the pickle",
     "output_type": "error",
     "traceback": [
      "\u001b[0;31m---------------------------------------------------------------------------\u001b[0m",
      "\u001b[0;31mException\u001b[0m                                 Traceback (most recent call last)",
      "\u001b[0;32m<ipython-input-8-e4de78807aac>\u001b[0m in \u001b[0;36m<module>\u001b[0;34m()\u001b[0m\n\u001b[0;32m----> 1\u001b[0;31m \u001b[0;32mraise\u001b[0m \u001b[0mException\u001b[0m\u001b[0;34m(\u001b[0m\u001b[0;34m'load cities from the pickle'\u001b[0m\u001b[0;34m)\u001b[0m\u001b[0;34m\u001b[0m\u001b[0m\n\u001b[0m\u001b[1;32m      2\u001b[0m \u001b[0;34m\u001b[0m\u001b[0m\n\u001b[1;32m      3\u001b[0m \u001b[0mcities_geocodes\u001b[0m \u001b[0;34m=\u001b[0m \u001b[0;34m{\u001b[0m\u001b[0;34m}\u001b[0m\u001b[0;34m\u001b[0m\u001b[0m\n\u001b[1;32m      4\u001b[0m \u001b[0;34m\u001b[0m\u001b[0m\n\u001b[1;32m      5\u001b[0m \u001b[0;32mfor\u001b[0m \u001b[0mi\u001b[0m \u001b[0;32min\u001b[0m \u001b[0mrange\u001b[0m\u001b[0;34m(\u001b[0m\u001b[0;36m0\u001b[0m\u001b[0;34m,\u001b[0m \u001b[0;36m10\u001b[0m\u001b[0;34m)\u001b[0m\u001b[0;34m:\u001b[0m\u001b[0;34m\u001b[0m\u001b[0m\n",
      "\u001b[0;31mException\u001b[0m: load cities from the pickle"
     ]
    }
   ],
   "source": [
    "raise Exception('load cities from the pickle')\n",
    "\n",
    "cities_geocodes = {}\n",
    "\n",
    "for i in range(0, 10):\n",
    "    print('>>>', i)\n",
    "    \n",
    "    chunk_size = 1000\n",
    "    for key in tqdm_notebook(list(cities_all)[chunk_size*i : chunk_size*(i+1)]):\n",
    "        #if idx % 10 == 0:\n",
    "        #    print(idx, len(cities_all))\n",
    "        #    sys.__stdout__.write(\"{} {}\\n\".format(idx, len(cities_all)))\n",
    "\n",
    "        #if city is None or city == '':\n",
    "        #    print(city, country)\n",
    "        #if country is None or country == '':\n",
    "        #    print(city, country)\n",
    "        city, country = key\n",
    "        if key in cities_geocodes and cities_geocodes[key]['status'] == 'OK':\n",
    "            continue\n",
    "\n",
    "        country_resolved = country_resolve(country)\n",
    "        if country_resolved is None:\n",
    "            continue\n",
    "        country_resolved_name = country_resolved.name\n",
    "        if country_resolved_name == 'Russian Federation':\n",
    "            country_resolved_name = 'Russia'\n",
    "\n",
    "        attempts = 12\n",
    "        g = None\n",
    "        while g is None or (attempts > 0 and g.status != 'OK'):\n",
    "            g = geocoder.yandex(city + ', ' + country_resolved_name)\n",
    "            attempts -= 1\n",
    "\n",
    "        if g.status == 'OK':\n",
    "            cities_geocodes.update({key: g.json})\n",
    "    \n",
    "    pickle.dump(cities_geocodes, open('cities_geocodes_{}.p'.format(i), 'wb'))"
   ]
  },
  {
   "cell_type": "code",
   "execution_count": 9,
   "metadata": {},
   "outputs": [
    {
     "data": {
      "text/html": [
       "<div>\n",
       "<style scoped>\n",
       "    .dataframe tbody tr th:only-of-type {\n",
       "        vertical-align: middle;\n",
       "    }\n",
       "\n",
       "    .dataframe tbody tr th {\n",
       "        vertical-align: top;\n",
       "    }\n",
       "\n",
       "    .dataframe thead th {\n",
       "        text-align: right;\n",
       "    }\n",
       "</style>\n",
       "<table border=\"1\" class=\"dataframe\">\n",
       "  <thead>\n",
       "    <tr style=\"text-align: right;\">\n",
       "      <th></th>\n",
       "      <th>amount</th>\n",
       "      <th>atm_address</th>\n",
       "      <th>atm_address_lat</th>\n",
       "      <th>atm_address_lon</th>\n",
       "      <th>city</th>\n",
       "      <th>country</th>\n",
       "      <th>currency</th>\n",
       "      <th>customer_id</th>\n",
       "      <th>home_add_lat</th>\n",
       "      <th>home_add_lon</th>\n",
       "      <th>is_train</th>\n",
       "      <th>mcc</th>\n",
       "      <th>pos_address</th>\n",
       "      <th>pos_address_lat</th>\n",
       "      <th>pos_address_lon</th>\n",
       "      <th>terminal_id</th>\n",
       "      <th>transaction_date</th>\n",
       "      <th>work_add_lat</th>\n",
       "      <th>work_add_lon</th>\n",
       "    </tr>\n",
       "  </thead>\n",
       "  <tbody>\n",
       "    <tr>\n",
       "      <th>0</th>\n",
       "      <td>2.884034</td>\n",
       "      <td>NaN</td>\n",
       "      <td>NaN</td>\n",
       "      <td>NaN</td>\n",
       "      <td>ST PETERSBURG</td>\n",
       "      <td>RUS</td>\n",
       "      <td>643.0</td>\n",
       "      <td>0dc0137d280a2a82d2dc89282450ff1b</td>\n",
       "      <td>59.851002</td>\n",
       "      <td>30.232</td>\n",
       "      <td>1</td>\n",
       "      <td>5261</td>\n",
       "      <td>NaN</td>\n",
       "      <td>59.844074</td>\n",
       "      <td>30.179153</td>\n",
       "      <td>11606fde0c814ce78e0d726e39a0a5ee</td>\n",
       "      <td>2017-07-15</td>\n",
       "      <td>59.847</td>\n",
       "      <td>30.177</td>\n",
       "    </tr>\n",
       "    <tr>\n",
       "      <th>1</th>\n",
       "      <td>2.775633</td>\n",
       "      <td>NaN</td>\n",
       "      <td>NaN</td>\n",
       "      <td>NaN</td>\n",
       "      <td>ST PETERSBURG</td>\n",
       "      <td>RUS</td>\n",
       "      <td>643.0</td>\n",
       "      <td>0dc0137d280a2a82d2dc89282450ff1b</td>\n",
       "      <td>59.851002</td>\n",
       "      <td>30.232</td>\n",
       "      <td>1</td>\n",
       "      <td>5261</td>\n",
       "      <td>NaN</td>\n",
       "      <td>59.844074</td>\n",
       "      <td>30.179153</td>\n",
       "      <td>e9647a5e1eacfb06713b6af755ccc595</td>\n",
       "      <td>2017-10-27</td>\n",
       "      <td>59.847</td>\n",
       "      <td>30.177</td>\n",
       "    </tr>\n",
       "    <tr>\n",
       "      <th>2</th>\n",
       "      <td>3.708368</td>\n",
       "      <td>NaN</td>\n",
       "      <td>NaN</td>\n",
       "      <td>NaN</td>\n",
       "      <td>St Petersburg</td>\n",
       "      <td>RUS</td>\n",
       "      <td>643.0</td>\n",
       "      <td>0dc0137d280a2a82d2dc89282450ff1b</td>\n",
       "      <td>59.851002</td>\n",
       "      <td>30.232</td>\n",
       "      <td>1</td>\n",
       "      <td>5992</td>\n",
       "      <td>PR.MARSHALA ZHUKOVA,31St Petersburg190000    7...</td>\n",
       "      <td>59.858200</td>\n",
       "      <td>30.229023</td>\n",
       "      <td>df06c1fcd3718a514535ae822785f716</td>\n",
       "      <td>2017-10-03</td>\n",
       "      <td>59.847</td>\n",
       "      <td>30.177</td>\n",
       "    </tr>\n",
       "    <tr>\n",
       "      <th>3</th>\n",
       "      <td>2.787498</td>\n",
       "      <td>NaN</td>\n",
       "      <td>NaN</td>\n",
       "      <td>NaN</td>\n",
       "      <td>ST PETERSBURG</td>\n",
       "      <td>RUS</td>\n",
       "      <td>643.0</td>\n",
       "      <td>0dc0137d280a2a82d2dc89282450ff1b</td>\n",
       "      <td>59.851002</td>\n",
       "      <td>30.232</td>\n",
       "      <td>1</td>\n",
       "      <td>5261</td>\n",
       "      <td>NaN</td>\n",
       "      <td>59.844074</td>\n",
       "      <td>30.179153</td>\n",
       "      <td>6c5e5793ebc984fb72875feffff62854</td>\n",
       "      <td>2017-09-09</td>\n",
       "      <td>59.847</td>\n",
       "      <td>30.177</td>\n",
       "    </tr>\n",
       "    <tr>\n",
       "      <th>4</th>\n",
       "      <td>2.892510</td>\n",
       "      <td>NaN</td>\n",
       "      <td>NaN</td>\n",
       "      <td>NaN</td>\n",
       "      <td>ST PETERSBURG</td>\n",
       "      <td>RUS</td>\n",
       "      <td>643.0</td>\n",
       "      <td>0dc0137d280a2a82d2dc89282450ff1b</td>\n",
       "      <td>59.851002</td>\n",
       "      <td>30.232</td>\n",
       "      <td>1</td>\n",
       "      <td>5261</td>\n",
       "      <td>NaN</td>\n",
       "      <td>59.844074</td>\n",
       "      <td>30.179153</td>\n",
       "      <td>0576445d74e374c92c0902e612fca356</td>\n",
       "      <td>2017-07-06</td>\n",
       "      <td>59.847</td>\n",
       "      <td>30.177</td>\n",
       "    </tr>\n",
       "  </tbody>\n",
       "</table>\n",
       "</div>"
      ],
      "text/plain": [
       "     amount atm_address  atm_address_lat  atm_address_lon           city  \\\n",
       "0  2.884034         NaN              NaN              NaN  ST PETERSBURG   \n",
       "1  2.775633         NaN              NaN              NaN  ST PETERSBURG   \n",
       "2  3.708368         NaN              NaN              NaN  St Petersburg   \n",
       "3  2.787498         NaN              NaN              NaN  ST PETERSBURG   \n",
       "4  2.892510         NaN              NaN              NaN  ST PETERSBURG   \n",
       "\n",
       "  country  currency                       customer_id  home_add_lat  \\\n",
       "0     RUS     643.0  0dc0137d280a2a82d2dc89282450ff1b     59.851002   \n",
       "1     RUS     643.0  0dc0137d280a2a82d2dc89282450ff1b     59.851002   \n",
       "2     RUS     643.0  0dc0137d280a2a82d2dc89282450ff1b     59.851002   \n",
       "3     RUS     643.0  0dc0137d280a2a82d2dc89282450ff1b     59.851002   \n",
       "4     RUS     643.0  0dc0137d280a2a82d2dc89282450ff1b     59.851002   \n",
       "\n",
       "   home_add_lon  is_train   mcc  \\\n",
       "0        30.232         1  5261   \n",
       "1        30.232         1  5261   \n",
       "2        30.232         1  5992   \n",
       "3        30.232         1  5261   \n",
       "4        30.232         1  5261   \n",
       "\n",
       "                                         pos_address  pos_address_lat  \\\n",
       "0                                                NaN        59.844074   \n",
       "1                                                NaN        59.844074   \n",
       "2  PR.MARSHALA ZHUKOVA,31St Petersburg190000    7...        59.858200   \n",
       "3                                                NaN        59.844074   \n",
       "4                                                NaN        59.844074   \n",
       "\n",
       "   pos_address_lon                       terminal_id transaction_date  \\\n",
       "0        30.179153  11606fde0c814ce78e0d726e39a0a5ee       2017-07-15   \n",
       "1        30.179153  e9647a5e1eacfb06713b6af755ccc595       2017-10-27   \n",
       "2        30.229023  df06c1fcd3718a514535ae822785f716       2017-10-03   \n",
       "3        30.179153  6c5e5793ebc984fb72875feffff62854       2017-09-09   \n",
       "4        30.179153  0576445d74e374c92c0902e612fca356       2017-07-06   \n",
       "\n",
       "   work_add_lat  work_add_lon  \n",
       "0        59.847        30.177  \n",
       "1        59.847        30.177  \n",
       "2        59.847        30.177  \n",
       "3        59.847        30.177  \n",
       "4        59.847        30.177  "
      ]
     },
     "execution_count": 9,
     "metadata": {},
     "output_type": "execute_result"
    }
   ],
   "source": [
    "dt.head()"
   ]
  },
  {
   "cell_type": "code",
   "execution_count": 10,
   "metadata": {
    "collapsed": true
   },
   "outputs": [],
   "source": [
    "def clean_country(country):\n",
    "    cntr = country_resolve(clean(country))\n",
    "    if cntr is None:\n",
    "        return None\n",
    "    return cntr.name\n",
    "\n",
    "dt['country_clean'] = dt['country'].apply(clean_country)"
   ]
  },
  {
   "cell_type": "code",
   "execution_count": 11,
   "metadata": {
    "collapsed": true
   },
   "outputs": [],
   "source": [
    "def clean_city(row):\n",
    "    country = clean(str(row['country']))\n",
    "    city = clean(str(row['city']))\n",
    "    key = (city, country)\n",
    "    \n",
    "    if key in cities_geocodes:\n",
    "        val = cities_geocodes[key]['raw']['name']\n",
    "        #if val not in {'Saint Petersburg', 'Novosibirsk', 'Moscow', 'Novorossiysk'}:\n",
    "        #    print(city, '|', country, '||', val)\n",
    "        return val\n",
    "    else:\n",
    "        return None\n",
    "\n",
    "dt['city_clean'] = dt.apply(clean_city, axis=1)"
   ]
  },
  {
   "cell_type": "code",
   "execution_count": null,
   "metadata": {
    "collapsed": true
   },
   "outputs": [],
   "source": []
  },
  {
   "cell_type": "markdown",
   "metadata": {
    "collapsed": true
   },
   "source": [
    "# Нормализация MCC"
   ]
  },
  {
   "cell_type": "code",
   "execution_count": 12,
   "metadata": {
    "collapsed": true
   },
   "outputs": [],
   "source": [
    "dt['mcc'] = dt['mcc'].apply(lambda x: int(str(x).replace(',', ''))).astype(np.int32)"
   ]
  },
  {
   "cell_type": "code",
   "execution_count": null,
   "metadata": {
    "collapsed": true
   },
   "outputs": [],
   "source": []
  },
  {
   "cell_type": "code",
   "execution_count": 39,
   "metadata": {
    "collapsed": true
   },
   "outputs": [],
   "source": [
    "mcc_codes = pd.read_csv('data/mcc_codes.csv')\n",
    "\n",
    "mcc_codes_dict = {}\n",
    "for row in list(mcc_codes.iterrows()):\n",
    "    mcc = row[1]['mcc']\n",
    "    gr = row[1]['irs_description']\n",
    "    if gr is None or gr == '' or (isinstance(gr, float) and np.isnan(gr)):\n",
    "        continue\n",
    "    #print(row[1]['mcc'])\n",
    "    #print(row[1]['irs_description'])\n",
    "    mcc_codes_dict.update({mcc: gr})\n",
    "\n",
    "def mcc_group_do(mcc_code):\n",
    "    if mcc_code == 5816:\n",
    "        return 'Digital Goods: Games'\n",
    "    else:\n",
    "        return mcc_codes_dict[mcc_code]\n",
    "    \n",
    "dt['mcc_group'] = dt['mcc'].apply(mcc_group_do).factorize()[0].astype(np.int32)\n",
    "    \n",
    "del mcc_codes"
   ]
  },
  {
   "cell_type": "code",
   "execution_count": null,
   "metadata": {
    "collapsed": true
   },
   "outputs": [],
   "source": []
  },
  {
   "cell_type": "markdown",
   "metadata": {},
   "source": [
    "# Факторизация города и страны"
   ]
  },
  {
   "cell_type": "code",
   "execution_count": 13,
   "metadata": {
    "collapsed": true
   },
   "outputs": [],
   "source": [
    "dt['city_clean_factorized'] = dt['city_clean'].factorize()[0].astype(np.int32)\n",
    "dt['country_clean_factorized'] = dt['country_clean'].factorize()[0].astype(np.int32)"
   ]
  },
  {
   "cell_type": "code",
   "execution_count": 14,
   "metadata": {},
   "outputs": [
    {
     "data": {
      "text/plain": [
       "(2490204, 23)"
      ]
     },
     "execution_count": 14,
     "metadata": {},
     "output_type": "execute_result"
    }
   ],
   "source": [
    "dt.shape"
   ]
  },
  {
   "cell_type": "markdown",
   "metadata": {},
   "source": [
    "# Удаляем транзакции без даты"
   ]
  },
  {
   "cell_type": "code",
   "execution_count": 15,
   "metadata": {
    "collapsed": true
   },
   "outputs": [],
   "source": [
    "dt.drop(dt[dt['transaction_date'].isnull()].index, axis = 0, inplace = True)\n",
    "dt['transaction_date'] = dt['transaction_date'].apply(lambda x: datetime.datetime.strptime(x, '%Y-%m-%d'))"
   ]
  },
  {
   "cell_type": "code",
   "execution_count": 16,
   "metadata": {},
   "outputs": [
    {
     "data": {
      "text/plain": [
       "(2490114, 23)"
      ]
     },
     "execution_count": 16,
     "metadata": {},
     "output_type": "execute_result"
    }
   ],
   "source": [
    "dt.shape"
   ]
  },
  {
   "cell_type": "code",
   "execution_count": null,
   "metadata": {
    "collapsed": true
   },
   "outputs": [],
   "source": []
  },
  {
   "cell_type": "markdown",
   "metadata": {},
   "source": [
    "### Фичи для даты"
   ]
  },
  {
   "cell_type": "code",
   "execution_count": 17,
   "metadata": {},
   "outputs": [
    {
     "name": "stdout",
     "output_type": "stream",
     "text": [
      "2017-01-27 00:00:00 2017-12-08 00:00:00\n"
     ]
    }
   ],
   "source": [
    "print(dt.transaction_date.min(), dt.transaction_date.max())"
   ]
  },
  {
   "cell_type": "code",
   "execution_count": 18,
   "metadata": {
    "collapsed": true
   },
   "outputs": [],
   "source": [
    "dt['weekday'] = dt['transaction_date'].dt.weekday.astype(np.int32)"
   ]
  },
  {
   "cell_type": "code",
   "execution_count": 19,
   "metadata": {},
   "outputs": [
    {
     "name": "stdout",
     "output_type": "stream",
     "text": [
      "True\n"
     ]
    }
   ],
   "source": [
    "months = ['Январь','Февраль','Март','Апрель','Май','Июнь','Июль','Август','Сентябрь','Октябрь','Ноябрь','Декабрь']\n",
    "nonworking_days = set()\n",
    "\n",
    "for month_idx, row in enumerate(pd.read_csv('data/data_nonworking_days_russia.csv').loc[18,months]):\n",
    "    #print(month_idx, row.split(','))\n",
    "    for day in row.split(','):\n",
    "        if day[-1] == '*':\n",
    "            continue\n",
    "        nonworking_days.add(datetime.datetime(2017, month_idx + 1, int(day)))\n",
    "    \n",
    "del months\n",
    "\n",
    "print(datetime.datetime(2017, 5, 9) in nonworking_days)"
   ]
  },
  {
   "cell_type": "code",
   "execution_count": 20,
   "metadata": {
    "collapsed": true
   },
   "outputs": [],
   "source": [
    "def is_working_day_transform(dtime):\n",
    "    if dtime in nonworking_days:\n",
    "        return 0\n",
    "    else:\n",
    "        return 1\n",
    "\n",
    "dt['is_working_day'] = dt['transaction_date'].apply(is_working_day_transform).astype(np.int32)"
   ]
  },
  {
   "cell_type": "code",
   "execution_count": null,
   "metadata": {
    "collapsed": true
   },
   "outputs": [],
   "source": []
  },
  {
   "cell_type": "markdown",
   "metadata": {},
   "source": [
    "### Приводим адрес транзакции для pos и atm-транзакций к единообразному виду"
   ]
  },
  {
   "cell_type": "code",
   "execution_count": 21,
   "metadata": {
    "collapsed": true
   },
   "outputs": [],
   "source": [
    "dt['is_atm'] = (~dt['atm_address_lat'].isnull() & ~dt['atm_address_lon'].isnull()).astype(np.int32)\n",
    "dt['is_pos'] = (~dt['pos_address_lat'].isnull() & ~dt['pos_address_lon'].isnull()).astype(np.int32)\n",
    "\n",
    "dt['address_lat'] = dt['atm_address_lat'].fillna(0) + dt['pos_address_lat'].fillna(0)\n",
    "dt['address_lon'] = dt['atm_address_lon'].fillna(0) + dt['pos_address_lon'].fillna(0)\n",
    "\n",
    "dt.drop(['atm_address_lat','atm_address_lon','pos_address_lat','pos_address_lon'], axis=1, inplace=True)\n",
    "\n",
    "# удалим транзакции без адреса\n",
    "dt.drop(dt[((dt['address_lon'] == 0) & (dt['address_lat'] == 0))].index, axis=0, inplace=True)"
   ]
  },
  {
   "cell_type": "markdown",
   "metadata": {},
   "source": [
    "### Генерируем признаки is_home, is_work"
   ]
  },
  {
   "cell_type": "code",
   "execution_count": 22,
   "metadata": {
    "collapsed": true
   },
   "outputs": [],
   "source": [
    "lat = dt['home_add_lat'] - dt['address_lat']\n",
    "lon = dt['home_add_lon'] - dt['address_lon']\n",
    "dt['is_home'] = (np.sqrt((lat ** 2) + (lon ** 2)) <= 0.02).astype(np.int32)\n",
    "dt['has_home'] = (~dt['home_add_lon'].isnull()).astype(np.int32)\n",
    "\n",
    "lat = dt['work_add_lat'] - dt['address_lat']\n",
    "lon = dt['work_add_lon'] - dt['address_lon']\n",
    "dt['is_work'] = (np.sqrt((lat ** 2) + (lon ** 2)) <= 0.02).astype(np.int32)\n",
    "dt['has_work'] = (~dt['work_add_lon'].isnull()).astype(np.int32)\n",
    "\n",
    "dt.drop(['work_add_lat','work_add_lon','home_add_lat','home_add_lon'], axis=1, inplace=True)"
   ]
  },
  {
   "cell_type": "markdown",
   "metadata": {},
   "source": [
    "### Генерируем категориальный признак для адреса"
   ]
  },
  {
   "cell_type": "code",
   "execution_count": 23,
   "metadata": {
    "collapsed": true
   },
   "outputs": [],
   "source": [
    "dt['address'] = dt['address_lat'].apply(lambda x: \"%.02f\" % x) + ';' + dt['address_lon'].apply(lambda x: \"%.02f\" % x)\n",
    "dt['address'] = dt['address'].factorize()[0].astype(np.int32)"
   ]
  },
  {
   "cell_type": "code",
   "execution_count": 24,
   "metadata": {
    "collapsed": true
   },
   "outputs": [],
   "source": [
    "(dt['address_lat'].apply(lambda x: \"%.02f\" % x) + ';' + dt['address_lon'].apply(lambda x: \"%.02f\" % x)).to_csv('tmp.csv')"
   ]
  },
  {
   "cell_type": "markdown",
   "metadata": {},
   "source": [
    "### Генерируем несколько абонентских фич"
   ]
  },
  {
   "cell_type": "code",
   "execution_count": 25,
   "metadata": {},
   "outputs": [
    {
     "data": {
      "text/plain": [
       "array([643., 978., 784., 840.])"
      ]
     },
     "execution_count": 25,
     "metadata": {},
     "output_type": "execute_result"
    }
   ],
   "source": [
    "dt.currency.unique()"
   ]
  },
  {
   "cell_type": "code",
   "execution_count": 30,
   "metadata": {
    "collapsed": true
   },
   "outputs": [],
   "source": [
    "average_rates = {\n",
    "    643: 1.0, \n",
    "    978: 65.8714, \n",
    "    784: 16.0,\n",
    "    840: 58.3086\n",
    "}\n",
    "\n",
    "def amount_clean_do(row):\n",
    "    currency = row['currency']\n",
    "    return row['amount'] * average_rates[currency]\n",
    "dt['amount_clean'] = dt.apply(amount_clean_do, axis=1)\n",
    "\n",
    "del average_rates"
   ]
  },
  {
   "cell_type": "code",
   "execution_count": 32,
   "metadata": {
    "collapsed": true
   },
   "outputs": [],
   "source": [
    "# количество транзакций каждого клиента\n",
    "dt = dt.merge(dt.groupby('customer_id')['amount_clean'].count().reset_index(name = 'tx'), how = 'left')\n",
    "dt['tx'] = dt['tx'].astype(np.int32)\n",
    "\n",
    "dt = dt.merge(dt.groupby(['customer_id','address'])['amount_clean'].count().reset_index(name = 'tx_cust_addr'), how = 'left')\n",
    "dt['tx_cust_addr'] = dt['tx_cust_addr'].astype(np.int32)\n",
    "\n",
    "# какая часть транзакций клиента приходится на данный адрес\n",
    "dt['ratio1'] = dt['tx_cust_addr'] / dt['tx']"
   ]
  },
  {
   "cell_type": "code",
   "execution_count": 33,
   "metadata": {
    "collapsed": true
   },
   "outputs": [],
   "source": [
    "dt = dt.merge(dt.groupby(['customer_id', 'mcc'])['amount_clean'].count().reset_index(name='mcc_distinct'), how='left')"
   ]
  },
  {
   "cell_type": "markdown",
   "metadata": {},
   "source": [
    "## Вспомогательные функции для оценки точности классификатора"
   ]
  },
  {
   "cell_type": "code",
   "execution_count": 41,
   "metadata": {
    "collapsed": true
   },
   "outputs": [],
   "source": [
    "def _best(x):\n",
    "    ret = None\n",
    "    for col in ys:\n",
    "        pred = ('pred:%s' % col)\n",
    "        if pred in x:\n",
    "            i = (x[pred].idxmax())\n",
    "            cols = [pred,'address_lat','address_lon']\n",
    "            if col in x:\n",
    "                cols.append(col)\n",
    "            tmp = x.loc[i,cols]\n",
    "            tmp.rename({\n",
    "                'address_lat':'%s:add_lat' % col,\n",
    "                'address_lon':'%s:add_lon' % col,\n",
    "            }, inplace = True)\n",
    "            if ret is None:\n",
    "                ret = tmp\n",
    "            else:\n",
    "                ret = pd.concat([ret, tmp])\n",
    "    return ret"
   ]
  },
  {
   "cell_type": "code",
   "execution_count": 42,
   "metadata": {
    "collapsed": true
   },
   "outputs": [],
   "source": [
    "def predict_proba(dt, ys = ['is_home', 'is_work']):\n",
    "    for col in ys:\n",
    "        pred = ('pred:%s' % col)\n",
    "        dt[pred] = model[col].predict_proba(dt[xs])[:,1]\n",
    "    return dt.groupby('customer_id').apply(_best).reset_index()"
   ]
  },
  {
   "cell_type": "code",
   "execution_count": 43,
   "metadata": {
    "collapsed": true
   },
   "outputs": [],
   "source": [
    "def score(dt, ys = ['is_home', 'is_work']):\n",
    "    dt_ret = predict_proba(dt, ys)\n",
    "    mean = 0.0\n",
    "    for col in ys:\n",
    "        col_mean = dt_ret[col].mean()\n",
    "        mean += col_mean\n",
    "    if len(ys) == 2:\n",
    "        mean = mean / len(ys)\n",
    "    return mean"
   ]
  },
  {
   "cell_type": "markdown",
   "metadata": {},
   "source": [
    "### Признаки, на которых будем обучать модель"
   ]
  },
  {
   "cell_type": "code",
   "execution_count": 44,
   "metadata": {},
   "outputs": [
    {
     "data": {
      "text/plain": [
       "Index(['amount', 'atm_address', 'city', 'country', 'currency', 'customer_id',\n",
       "       'is_train', 'mcc', 'pos_address', 'terminal_id', 'transaction_date',\n",
       "       'country_clean', 'city_clean', 'city_clean_factorized',\n",
       "       'country_clean_factorized', 'weekday', 'is_working_day', 'is_atm',\n",
       "       'is_pos', 'address_lat', 'address_lon', 'is_home', 'has_home',\n",
       "       'is_work', 'has_work', 'address', 'amount_clean', 'tx', 'tx_cust_addr',\n",
       "       'ratio1', 'mcc_distinct', 'mcc_group'],\n",
       "      dtype='object')"
      ]
     },
     "execution_count": 44,
     "metadata": {},
     "output_type": "execute_result"
    }
   ],
   "source": [
    "dt.columns"
   ]
  },
  {
   "cell_type": "code",
   "execution_count": 45,
   "metadata": {
    "collapsed": true
   },
   "outputs": [],
   "source": [
    "xs = ['amount_clean','currency','city_clean_factorized','country_clean_factorized','mcc', 'mcc_group', 'mcc_distinct', 'is_atm',\n",
    "      'is_pos','weekday','is_working_day','ratio1']\n",
    "ys = ['is_home', 'is_work']"
   ]
  },
  {
   "cell_type": "code",
   "execution_count": 46,
   "metadata": {
    "collapsed": true
   },
   "outputs": [],
   "source": [
    "params = {\n",
    "    'max_depth': 10,\n",
    "    'n_estimators': 670,\n",
    "    'learning_rate': 0.09,\n",
    "    'colsample_bytree': 0.9,\n",
    "    'colsample_bylevel': 0.6,\n",
    "    'n_jobs': -1\n",
    "}\n",
    "model0 = {\n",
    "    'is_home': xgb.XGBClassifier(params=params),\n",
    "    'is_work': xgb.XGBClassifier(params=params),\n",
    "}"
   ]
  },
  {
   "cell_type": "code",
   "execution_count": 47,
   "metadata": {},
   "outputs": [
    {
     "name": "stdout",
     "output_type": "stream",
     "text": [
      "Training: is_home\n",
      "[0]\tvalidation_0-logloss:0.659771\tvalidation_1-logloss:0.658203\n",
      "[10]\tvalidation_0-logloss:0.521018\tvalidation_1-logloss:0.512803\n",
      "[20]\tvalidation_0-logloss:0.493036\tvalidation_1-logloss:0.484286\n",
      "[30]\tvalidation_0-logloss:0.483494\tvalidation_1-logloss:0.474773\n",
      "[40]\tvalidation_0-logloss:0.478438\tvalidation_1-logloss:0.470081\n",
      "[50]\tvalidation_0-logloss:0.475763\tvalidation_1-logloss:0.469084\n",
      "[60]\tvalidation_0-logloss:0.472877\tvalidation_1-logloss:0.46817\n",
      "[70]\tvalidation_0-logloss:0.47062\tvalidation_1-logloss:0.466971\n",
      "[80]\tvalidation_0-logloss:0.468469\tvalidation_1-logloss:0.466239\n",
      "[90]\tvalidation_0-logloss:0.467252\tvalidation_1-logloss:0.465948\n",
      "[99]\tvalidation_0-logloss:0.465932\tvalidation_1-logloss:0.465253\n",
      "Train accuracy: 0.3923333333333333\n",
      "Test accuracy: 0.374\n",
      "\n",
      "Training: is_work\n",
      "[0]\tvalidation_0-logloss:0.64721\tvalidation_1-logloss:0.647118\n",
      "[10]\tvalidation_0-logloss:0.45376\tvalidation_1-logloss:0.453329\n",
      "[20]\tvalidation_0-logloss:0.412395\tvalidation_1-logloss:0.412821\n",
      "[30]\tvalidation_0-logloss:0.399702\tvalidation_1-logloss:0.401155\n",
      "[40]\tvalidation_0-logloss:0.393845\tvalidation_1-logloss:0.397578\n",
      "[50]\tvalidation_0-logloss:0.390339\tvalidation_1-logloss:0.396279\n",
      "[60]\tvalidation_0-logloss:0.387558\tvalidation_1-logloss:0.395771\n",
      "[70]\tvalidation_0-logloss:0.384955\tvalidation_1-logloss:0.395141\n",
      "[80]\tvalidation_0-logloss:0.382988\tvalidation_1-logloss:0.39433\n",
      "[90]\tvalidation_0-logloss:0.380953\tvalidation_1-logloss:0.395211\n",
      "[99]\tvalidation_0-logloss:0.379388\tvalidation_1-logloss:0.394898\n",
      "Train accuracy: 0.2636794485135717\n",
      "Test accuracy: 0.2558139534883721\n",
      "\n"
     ]
    }
   ],
   "source": [
    "model = {}\n",
    "\n",
    "# последовательно обучаем два классификатора\n",
    "for col in ['is_home', 'is_work']:\n",
    "    \n",
    "    #выберем для обучение транзакции только тех клиентов из train, \n",
    "    #у которых хоть в одной транзакции указано место работы/жительства\n",
    "    cust_train = dt[dt['is_train'] == 1].groupby('customer_id')[col.replace('is_','has_')].max()\n",
    "    cust_train = cust_train[cust_train > 0].index\n",
    "    \n",
    "    #разобъем train на train/valid для валидации\n",
    "    cust_train, cust_valid = train_test_split(cust_train, test_size = 0.1, shuffle = True, random_state = 2)\n",
    "    \n",
    "    train = pd.DataFrame(cust_train, columns = ['customer_id']).merge(dt, how='left')\n",
    "    valid = pd.DataFrame(cust_valid, columns = ['customer_id']).merge(dt, how='left')\n",
    "\n",
    "    print(\"Training:\", col)\n",
    "    clf = sklearn.base.clone(model0[col])\n",
    "    clf.fit(train[xs], train[col], eval_metric = 'logloss', eval_set = [(train[xs], train[col]), (valid[xs], valid[col])], verbose=10)\n",
    "    model[col] = clf\n",
    "    print(\"Train accuracy:\", score(train, ys = [col]))\n",
    "    print(\"Test accuracy:\", score(valid, ys = [col]))\n",
    "    print()"
   ]
  },
  {
   "cell_type": "code",
   "execution_count": null,
   "metadata": {
    "collapsed": true
   },
   "outputs": [],
   "source": []
  },
  {
   "cell_type": "code",
   "execution_count": 48,
   "metadata": {
    "collapsed": true
   },
   "outputs": [],
   "source": [
    "cust_test = dt[dt['is_train'] == 0]['customer_id'].unique()\n",
    "test = pd.DataFrame(cust_test, columns = ['customer_id']).merge(dt, how = 'left')\n",
    "test = predict_proba(test)\n",
    "test.rename(columns = {\n",
    "        'customer_id':'_ID_',\n",
    "        'is_home:add_lat': '_HOME_LAT_',\n",
    "        'is_home:add_lon': '_HOME_LON_',\n",
    "        'is_work:add_lat': '_WORK_LAT_',\n",
    "        'is_work:add_lon': '_WORK_LON_'}, inplace = True)\n",
    "test = test[['_ID_', '_WORK_LAT_', '_WORK_LON_', '_HOME_LAT_', '_HOME_LON_']]"
   ]
  },
  {
   "cell_type": "code",
   "execution_count": 49,
   "metadata": {
    "collapsed": true
   },
   "outputs": [],
   "source": [
    "submission = submission.merge(test, how='left').fillna(0)\n",
    "\n",
    "submission.to_csv('myltsev_submission.csv', index=False)"
   ]
  },
  {
   "cell_type": "code",
   "execution_count": null,
   "metadata": {
    "collapsed": true
   },
   "outputs": [],
   "source": []
  },
  {
   "cell_type": "code",
   "execution_count": null,
   "metadata": {
    "collapsed": true
   },
   "outputs": [],
   "source": []
  }
 ],
 "metadata": {
  "anaconda-cloud": {},
  "kernelspec": {
   "display_name": "Python 3",
   "language": "python",
   "name": "python3"
  },
  "language_info": {
   "codemirror_mode": {
    "name": "ipython",
    "version": 3
   },
   "file_extension": ".py",
   "mimetype": "text/x-python",
   "name": "python",
   "nbconvert_exporter": "python",
   "pygments_lexer": "ipython3",
   "version": "3.6.2"
  },
  "notify_time": "5",
  "varInspector": {
   "cols": {
    "lenName": 16,
    "lenType": 16,
    "lenVar": 40
   },
   "kernels_config": {
    "python": {
     "delete_cmd_postfix": "",
     "delete_cmd_prefix": "del ",
     "library": "var_list.py",
     "varRefreshCmd": "print(var_dic_list())"
    },
    "r": {
     "delete_cmd_postfix": ") ",
     "delete_cmd_prefix": "rm(",
     "library": "var_list.r",
     "varRefreshCmd": "cat(var_dic_list()) "
    }
   },
   "oldHeight": 477,
   "position": {
    "height": "499px",
    "left": "793px",
    "right": "158px",
    "top": "101px",
    "width": "485px"
   },
   "types_to_exclude": [
    "module",
    "function",
    "builtin_function_or_method",
    "instance",
    "_Feature"
   ],
   "varInspector_section_display": "block",
   "window_display": false
  },
  "widgets": {
   "state": {
    "f76dbf9244854cafa3dc887157f632a1": {
     "views": [
      {
       "cell_index": 8
      }
     ]
    }
   },
   "version": "1.2.0"
  }
 },
 "nbformat": 4,
 "nbformat_minor": 2
}