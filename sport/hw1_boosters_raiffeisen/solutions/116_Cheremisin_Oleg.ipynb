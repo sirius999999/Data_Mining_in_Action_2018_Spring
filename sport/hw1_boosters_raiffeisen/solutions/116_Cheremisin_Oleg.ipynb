{
  "nbformat": 4,
  "nbformat_minor": 0,
  "metadata": {
    "colab": {
      "name": "Baseline-Raiffeisen .ipynb",
      "version": "0.3.2",
      "views": {},
      "default_view": {},
      "provenance": []
    },
    "kernelspec": {
      "display_name": "Python 3",
      "language": "python",
      "name": "python3"
    }
  },
  "cells": [
    {
      "metadata": {
        "id": "4mVJkN1SVRGW",
        "colab_type": "text"
      },
      "cell_type": "markdown",
      "source": [
        "# Raiffeisen Data Cup \n",
        "### 112 LB / Final 116 of 548 LB 0.344339\n",
        "\n",
        "На основе baseline от Антон Чикин 0.328625 (https://vk.com/boosters_official?w=wall-117459195_526)\n",
        "\n",
        "Добавлены фичи про выходные дни и категории MCC (так как даже разные заправки имеют разный код), эта часть помечена как mktoid features\n",
        "Запускалось на Google Colab \n"
      ]
    },
    {
      "metadata": {
        "id": "YggIl8ZhWS1A",
        "colab_type": "code",
        "colab": {
          "autoexec": {
            "startup": false,
            "wait_interval": 0
          },
          "output_extras": [
            {
              "item_id": 5
            }
          ],
          "base_uri": "https://localhost:8080/",
          "height": 101
        },
        "outputId": "c830d7a5-66cd-4524-f8c0-10d49f5b043f",
        "executionInfo": {
          "status": "ok",
          "timestamp": 1521818314812,
          "user_tz": -300,
          "elapsed": 7661,
          "user": {
            "displayName": "Oleg Cheremisin",
            "photoUrl": "https://lh3.googleusercontent.com/a/default-user=s128",
            "userId": "109618106997231151508"
          }
        }
      },
      "cell_type": "code",
      "source": [
        "!pip install -U -q PyDrive\n",
        "\n",
        "from pydrive.auth import GoogleAuth\n",
        "from pydrive.drive import GoogleDrive\n",
        "from google.colab import auth\n",
        "from oauth2client.client import GoogleCredentials\n",
        "\n",
        "# 1. Authenticate and create the PyDrive client.\n",
        "auth.authenticate_user()\n",
        "gauth = GoogleAuth()\n",
        "gauth.credentials = GoogleCredentials.get_application_default()\n",
        "drive = GoogleDrive(gauth)\n",
        "\n",
        "downloaded = drive.CreateFile({'id': '1n3VrV6Hx_jXLW9fc7HGHEhBL3mo-qx_a'})\n",
        "print('Downloaded content \"{}\"'.format((downloaded['title'])))\n",
        "downloaded.GetContentFile('sample.csv')\n",
        "\n",
        "downloaded = drive.CreateFile({'id': '1Plpet7kjTUQZvdKSV9bZUE1w6yXfEuQO'})\n",
        "print('Downloaded content \"{}\"'.format((downloaded['title'])))\n",
        "downloaded.GetContentFile(downloaded['title'])\n",
        "\n",
        "downloaded = drive.CreateFile({'id': '1mtLiIBIanehQ46CkPkf9gtFQcCGBxk2Z'})\n",
        "print('Downloaded content \"{}\"'.format((downloaded['title'])))\n",
        "downloaded.GetContentFile(downloaded['title'])\n",
        "\n",
        "downloaded = drive.CreateFile({'id': '1LT2noXNFFgm9iyIzaRngIvbiYXHrpeml'})\n",
        "print('Downloaded content \"{}\"'.format((downloaded['title'])))\n",
        "downloaded.GetContentFile(downloaded['title'])\n",
        "\n",
        "downloaded = drive.CreateFile({'id': '1XIDBqKK2xsXzZLYn5Fo8NiSTR09TvEKr'})\n",
        "print('Downloaded content \"{}\"'.format((downloaded['title'])))\n",
        "downloaded.GetContentFile(downloaded['title'])\n"
      ],
      "execution_count": 1,
      "outputs": [
        {
          "output_type": "stream",
          "text": [
            "Downloaded content \"sample.csv\"\n",
            "Downloaded content \"test_set.csv\"\n",
            "Downloaded content \"train_set.csv\"\n",
            "Downloaded content \"Spravochnik_MCC_Cod w9l.xls\"\n",
            "Downloaded content \"data-20171211T1403-structure-20171211T1403.csv\"\n"
          ],
          "name": "stdout"
        }
      ]
    },
    {
      "metadata": {
        "id": "mbYItoZxWdnA",
        "colab_type": "code",
        "colab": {
          "autoexec": {
            "startup": false,
            "wait_interval": 0
          }
        }
      },
      "cell_type": "code",
      "source": [
        "# https://github.com/dmlc/xgboost\n",
        "# This specific version is a work-around for a build issue in newer versions.\n",
        "!pip install -q xgboost==0.4a30"
      ],
      "execution_count": 0,
      "outputs": []
    },
    {
      "metadata": {
        "id": "oP6pQ702VRGZ",
        "colab_type": "code",
        "colab": {
          "autoexec": {
            "startup": false,
            "wait_interval": 0
          }
        }
      },
      "cell_type": "code",
      "source": [
        "import pandas as pd\n",
        "import numpy as np\n",
        "import datetime\n",
        "\n",
        "import xgboost as xgb\n",
        "import sklearn\n",
        "\n",
        "from sklearn.model_selection import train_test_split"
      ],
      "execution_count": 0,
      "outputs": []
    },
    {
      "metadata": {
        "id": "tiHOMK_sVRGj",
        "colab_type": "code",
        "colab": {
          "autoexec": {
            "startup": false,
            "wait_interval": 0
          }
        }
      },
      "cell_type": "code",
      "source": [
        "# Определим типы колонок для экономии памяти\n",
        "dtypes = {\n",
        "    'transaction_date': str,\n",
        "    'atm_address': str,\n",
        "    'country': str,\n",
        "    'city': str,\n",
        "    'amount': np.float32,\n",
        "    'currency': np.float32,\n",
        "    'mcc': str,\n",
        "    'customer_id': str,\n",
        "    'pos_address': str,\n",
        "    'atm_address': str,\n",
        "    'pos_adress_lat': np.float32,\n",
        "    'pos_adress_lon': np.float32,\n",
        "    'pos_address_lat': np.float32,\n",
        "    'pos_address_lon': np.float32,\n",
        "    'atm_address_lat': np.float32,\n",
        "    'atm_address_lon': np.float32,\n",
        "    'home_add_lat': np.float32,\n",
        "    'home_add_lon': np.float32,\n",
        "    'work_add_lat': np.float32,\n",
        "    'work_add_lon': np.float32,\n",
        "}\n",
        "\n",
        "# для экономии памяти будем загружать только часть атрибутов транзакций\n",
        "usecols_train = ['customer_id','transaction_date','amount','country', 'city', 'currency', 'mcc', 'pos_adress_lat', 'pos_adress_lon', 'atm_address_lat', 'atm_address_lon','home_add_lat','home_add_lon','work_add_lat','work_add_lon']\n",
        "usecols_test = ['customer_id','transaction_date','amount','country', 'city', 'currency', 'mcc', 'pos_address_lat', 'pos_address_lon', 'atm_address_lat', 'atm_address_lon']"
      ],
      "execution_count": 0,
      "outputs": []
    },
    {
      "metadata": {
        "id": "rBZ9XkE3VRGn",
        "colab_type": "text"
      },
      "cell_type": "markdown",
      "source": [
        "## Читаем train_set, test_set, соединяем в один датасет"
      ]
    },
    {
      "metadata": {
        "id": "FMB_WW62VRGo",
        "colab_type": "code",
        "colab": {
          "autoexec": {
            "startup": false,
            "wait_interval": 0
          }
        }
      },
      "cell_type": "code",
      "source": [
        "train = pd.read_csv('train_set.csv', dtype = dtypes, usecols = usecols_train)\n",
        "train.rename(columns = {'pos_adress_lat': 'pos_address_lat', 'pos_adress_lon': 'pos_address_lon'}, inplace = True)\n",
        "\n",
        "test = pd.read_csv('test_set.csv', dtype = dtypes, usecols = usecols_test)\n",
        "submission = pd.DataFrame(test['customer_id'].unique(), columns = ['_ID_'])\n",
        "\n",
        "# соединяем test/train в одном DataFrame\n",
        "train['is_train'] = np.int32(1)\n",
        "test['is_train'] = np.int32(0)\n",
        "dt = pd.concat([train, test])\n",
        "\n",
        "del train, test"
      ],
      "execution_count": 0,
      "outputs": []
    },
    {
      "metadata": {
        "id": "k6Md3z7xVRGv",
        "colab_type": "text"
      },
      "cell_type": "markdown",
      "source": [
        "### Обрабатываем дату транзакции и категориальные признаки"
      ]
    },
    {
      "metadata": {
        "id": "5t7JqTmBVRGx",
        "colab_type": "code",
        "colab": {
          "autoexec": {
            "startup": false,
            "wait_interval": 0
          }
        }
      },
      "cell_type": "code",
      "source": [
        "dt['currency'] = dt['currency'].fillna(-1).astype(np.int32)\n",
        "dt['mcc'] = dt['mcc'].apply(lambda x: int(x.replace(',', ''))).astype(np.int32)\n",
        "dt['city'] = dt['city'].factorize()[0].astype(np.int32)\n",
        "dt['country'] = dt['country'].factorize()[0].astype(np.int32)\n",
        "\n",
        "# удаляем транзакции без даты\n",
        "dt.drop(dt[dt['transaction_date'].isnull()].index, axis = 0, inplace = True)\n",
        "dt['transaction_date'] = dt['transaction_date'].apply(lambda x: datetime.datetime.strptime(x, '%Y-%m-%d'))"
      ],
      "execution_count": 0,
      "outputs": []
    },
    {
      "metadata": {
        "id": "Dl3NqzFYVRG1",
        "colab_type": "text"
      },
      "cell_type": "markdown",
      "source": [
        "### Фичи для даты"
      ]
    },
    {
      "metadata": {
        "id": "Qz5tB7n4VRG3",
        "colab_type": "code",
        "colab": {
          "autoexec": {
            "startup": false,
            "wait_interval": 0
          }
        }
      },
      "cell_type": "code",
      "source": [
        "dt['weekday'] = dt['transaction_date'].dt.weekday.astype(np.int32)"
      ],
      "execution_count": 0,
      "outputs": []
    },
    {
      "metadata": {
        "id": "PRUOLj66VRG-",
        "colab_type": "text"
      },
      "cell_type": "markdown",
      "source": [
        "### Приводим адрес транзакции для pos и atm-транзакций к единообразному виду"
      ]
    },
    {
      "metadata": {
        "id": "HfLqdiD5VRHA",
        "colab_type": "code",
        "colab": {
          "autoexec": {
            "startup": false,
            "wait_interval": 0
          }
        }
      },
      "cell_type": "code",
      "source": [
        "dt['is_atm'] = (~dt['atm_address_lat'].isnull()).astype(np.int32)\n",
        "dt['is_pos'] = (~dt['pos_address_lat'].isnull()).astype(np.int32)\n",
        "\n",
        "dt['address_lat'] = dt['atm_address_lat'].fillna(0) + dt['pos_address_lat'].fillna(0)\n",
        "dt['address_lon'] = dt['atm_address_lon'].fillna(0) + dt['pos_address_lon'].fillna(0)\n",
        "\n",
        "dt.drop(['atm_address_lat','atm_address_lon','pos_address_lat','pos_address_lon'], axis = 1, inplace = True)\n",
        "\n",
        "# удалим транзакции без адреса\n",
        "dt.drop(dt[((dt['address_lon'] == 0) & (dt['address_lon'] == 0))].index, axis = 0, inplace = True)"
      ],
      "execution_count": 0,
      "outputs": []
    },
    {
      "metadata": {
        "id": "CBu0m_ylVRHE",
        "colab_type": "text"
      },
      "cell_type": "markdown",
      "source": [
        "### Генерируем признаки is_home, is_work"
      ]
    },
    {
      "metadata": {
        "id": "A62qbrfgVRHF",
        "colab_type": "code",
        "colab": {
          "autoexec": {
            "startup": false,
            "wait_interval": 0
          }
        }
      },
      "cell_type": "code",
      "source": [
        "lat = dt['home_add_lat'] - dt['address_lat']\n",
        "lon = dt['home_add_lon'] - dt['address_lon']\n",
        "dt['is_home'] = (np.sqrt((lat ** 2) + (lon ** 2)) <= 0.02).astype(np.int32)\n",
        "dt['has_home'] = (~dt['home_add_lon'].isnull()).astype(np.int32)\n",
        "\n",
        "lat = dt['work_add_lat'] - dt['address_lat']\n",
        "lon = dt['work_add_lon'] - dt['address_lon']\n",
        "dt['is_work'] = (np.sqrt((lat ** 2) + (lon ** 2)) <= 0.02).astype(np.int32)\n",
        "dt['has_work'] = (~dt['work_add_lon'].isnull()).astype(np.int32)\n",
        "\n",
        "dt.drop(['work_add_lat','work_add_lon','home_add_lat','home_add_lon'], axis = 1, inplace = True)"
      ],
      "execution_count": 0,
      "outputs": []
    },
    {
      "metadata": {
        "id": "OZUPPZURVRHJ",
        "colab_type": "text"
      },
      "cell_type": "markdown",
      "source": [
        "### Генерируем категориальный признак для адреса"
      ]
    },
    {
      "metadata": {
        "id": "Mpbbs8B-VRHP",
        "colab_type": "code",
        "colab": {
          "autoexec": {
            "startup": false,
            "wait_interval": 0
          }
        }
      },
      "cell_type": "code",
      "source": [
        "dt['address'] = dt['address_lat'].apply(lambda x: \"%.02f\" % x) + ';' + dt['address_lon'].apply(lambda x: \"%.02f\" % x)\n",
        "dt['address'] = dt['address'].factorize()[0].astype(np.int32)"
      ],
      "execution_count": 0,
      "outputs": []
    },
    {
      "metadata": {
        "id": "4o9y7Pb0VRHY",
        "colab_type": "text"
      },
      "cell_type": "markdown",
      "source": [
        "### Генерируем несколько абонентских фич"
      ]
    },
    {
      "metadata": {
        "id": "2KGPmndLVRHZ",
        "colab_type": "code",
        "colab": {
          "autoexec": {
            "startup": false,
            "wait_interval": 0
          }
        }
      },
      "cell_type": "code",
      "source": [
        "# количество транзакций каждого клиента\n",
        "dt = dt.merge(dt.groupby('customer_id')['amount'].count().reset_index(name = 'tx'), how = 'left')\n",
        "dt['tx'] = dt['tx'].astype(np.int32)\n",
        "\n",
        "dt = dt.merge(dt.groupby(['customer_id','address'])['amount'].count().reset_index(name = 'tx_cust_addr'), how = 'left')\n",
        "dt['tx_cust_addr'] = dt['tx_cust_addr'].astype(np.int32)\n",
        "\n",
        "# какая часть транзакций клиента приходится на данный адрес\n",
        "dt['ratio1'] = dt['tx_cust_addr'] / dt['tx']"
      ],
      "execution_count": 0,
      "outputs": []
    },
    {
      "metadata": {
        "id": "Kb1ANRKya2TX",
        "colab_type": "code",
        "colab": {
          "autoexec": {
            "startup": false,
            "wait_interval": 0
          },
          "output_extras": [
            {
              "item_id": 1
            }
          ],
          "base_uri": "https://localhost:8080/",
          "height": 126
        },
        "outputId": "3bc8b6e3-5f21-4cd6-f1d0-43fa200d0b67",
        "executionInfo": {
          "status": "ok",
          "timestamp": 1521818431147,
          "user_tz": -300,
          "elapsed": 1426,
          "user": {
            "displayName": "Oleg Cheremisin",
            "photoUrl": "https://lh3.googleusercontent.com/a/default-user=s128",
            "userId": "109618106997231151508"
          }
        }
      },
      "cell_type": "code",
      "source": [
        "dt.sample()"
      ],
      "execution_count": 12,
      "outputs": [
        {
          "output_type": "execute_result",
          "data": {
            "text/html": [
              "<div>\n",
              "<style scoped>\n",
              "    .dataframe tbody tr th:only-of-type {\n",
              "        vertical-align: middle;\n",
              "    }\n",
              "\n",
              "    .dataframe tbody tr th {\n",
              "        vertical-align: top;\n",
              "    }\n",
              "\n",
              "    .dataframe thead th {\n",
              "        text-align: right;\n",
              "    }\n",
              "</style>\n",
              "<table border=\"1\" class=\"dataframe\">\n",
              "  <thead>\n",
              "    <tr style=\"text-align: right;\">\n",
              "      <th></th>\n",
              "      <th>amount</th>\n",
              "      <th>city</th>\n",
              "      <th>country</th>\n",
              "      <th>currency</th>\n",
              "      <th>customer_id</th>\n",
              "      <th>is_train</th>\n",
              "      <th>mcc</th>\n",
              "      <th>transaction_date</th>\n",
              "      <th>weekday</th>\n",
              "      <th>is_atm</th>\n",
              "      <th>...</th>\n",
              "      <th>address_lat</th>\n",
              "      <th>address_lon</th>\n",
              "      <th>is_home</th>\n",
              "      <th>has_home</th>\n",
              "      <th>is_work</th>\n",
              "      <th>has_work</th>\n",
              "      <th>address</th>\n",
              "      <th>tx</th>\n",
              "      <th>tx_cust_addr</th>\n",
              "      <th>ratio1</th>\n",
              "    </tr>\n",
              "  </thead>\n",
              "  <tbody>\n",
              "    <tr>\n",
              "      <th>1169967</th>\n",
              "      <td>2.625629</td>\n",
              "      <td>1217</td>\n",
              "      <td>0</td>\n",
              "      <td>643</td>\n",
              "      <td>2471e684f2bf5ddadbd61d3c199521e6</td>\n",
              "      <td>0</td>\n",
              "      <td>5411</td>\n",
              "      <td>2017-08-12</td>\n",
              "      <td>5</td>\n",
              "      <td>0</td>\n",
              "      <td>...</td>\n",
              "      <td>56.852627</td>\n",
              "      <td>35.849838</td>\n",
              "      <td>0</td>\n",
              "      <td>0</td>\n",
              "      <td>0</td>\n",
              "      <td>0</td>\n",
              "      <td>3167</td>\n",
              "      <td>84</td>\n",
              "      <td>3</td>\n",
              "      <td>0.035714</td>\n",
              "    </tr>\n",
              "  </tbody>\n",
              "</table>\n",
              "<p>1 rows × 21 columns</p>\n",
              "</div>"
            ],
            "text/plain": [
              "           amount  city  country  currency                       customer_id  \\\n",
              "1169967  2.625629  1217        0       643  2471e684f2bf5ddadbd61d3c199521e6   \n",
              "\n",
              "         is_train   mcc transaction_date  weekday  is_atm    ...     \\\n",
              "1169967         0  5411       2017-08-12        5       0    ...      \n",
              "\n",
              "         address_lat  address_lon  is_home  has_home  is_work  has_work  \\\n",
              "1169967    56.852627    35.849838        0         0        0         0   \n",
              "\n",
              "         address  tx  tx_cust_addr    ratio1  \n",
              "1169967     3167  84             3  0.035714  \n",
              "\n",
              "[1 rows x 21 columns]"
            ]
          },
          "metadata": {
            "tags": []
          },
          "execution_count": 12
        }
      ]
    },
    {
      "metadata": {
        "id": "VvL21mUlZrCN",
        "colab_type": "code",
        "colab": {
          "autoexec": {
            "startup": false,
            "wait_interval": 0
          },
          "output_extras": [
            {
              "item_id": 3
            }
          ],
          "base_uri": "https://localhost:8080/",
          "height": 101
        },
        "outputId": "6372d3a0-2de1-457a-91da-44fa38408fd6",
        "executionInfo": {
          "status": "ok",
          "timestamp": 1521818434994,
          "user_tz": -300,
          "elapsed": 3693,
          "user": {
            "displayName": "Oleg Cheremisin",
            "photoUrl": "https://lh3.googleusercontent.com/a/default-user=s128",
            "userId": "109618106997231151508"
          }
        }
      },
      "cell_type": "code",
      "source": [
        "# mktoid features\n",
        "\n",
        "!pip install xlrd\n",
        "\n",
        "mcc_codes = pd.read_excel(\"Spravochnik_MCC_Cod w9l.xls\") # data from http://www.banki.ru/wikibank/mcc-kod/\n",
        "mcc_codes.drop(0, axis=0, inplace=True)\n",
        "\n",
        "mcc_cats = mcc_codes[[\"Справочник МСС-кодов\",\"Unnamed: 1\", \"Unnamed: 2\"]]\n",
        "\n",
        "mccc = {}\n",
        "\n",
        "for index, row in mcc_cats.iterrows():\n",
        "  mccc[int(row['Справочник МСС-кодов'])] = row[\"Unnamed: 2\"]\n",
        "  \n",
        "def mcc2mcc_cat(mcc): #usage mcc2mcc_cat(5261)\n",
        "  try:\n",
        "    return mccc[int(mcc)]\n",
        "  except:\n",
        "    return 0\n",
        "  \n",
        "mcctypes = {}\n",
        "\n",
        "for index, row in mcc_cats.iterrows():\n",
        "  mcctypes[int(row['Справочник МСС-кодов'])] = row[\"Unnamed: 1\"]\n",
        "\n",
        "def mcc2mcc_type(mcc): #usage mcc2mcc_cat(5261)\n",
        "  try:\n",
        "    return mcctypes[int(mcc)]\n",
        "  except:\n",
        "    return 0\n",
        "  \n",
        "holidays = pd.read_csv('data-20171211T1403-structure-20171211T1403.csv') # data from data.gov.ru/opendata/7708660670-proizvcalendar\n",
        "\n",
        "hol_cache = {}\n",
        "\n",
        "def is_holiday(strdate):\n",
        "  \n",
        "  strdate = str(strdate)\n",
        "  \n",
        "  if strdate in hol_cache.keys():\n",
        "    return hol_cache[strdate]\n",
        "\n",
        "  try:\n",
        "    year, month, day = strdate.split('-')\n",
        "  except:\n",
        "    return -1;\n",
        "  \n",
        "  colsindexes = {}\n",
        "  i = 0\n",
        "  for col in holidays.columns:\n",
        "    colsindexes[i] = col\n",
        "    i = i+1\n",
        "\n",
        "  colsindexes[1]\n",
        "\n",
        "  hol_in_mnt = holidays[holidays['Год/Месяц'] == int(year)][colsindexes[int(month)]].values[0]\n",
        "  hols = hol_in_mnt.replace('*','').split(',')\n",
        "\n",
        "  if str(int(day)) in hols:\n",
        "    hol_cache[strdate] = 1\n",
        "    return 1\n",
        "  else:\n",
        "    hol_cache[strdate] = 0\n",
        "    return 0\n",
        "  \n",
        "from dateutil import parser\n",
        "\n",
        "wd_cache = {}\n",
        "\n",
        "def weekday(string):\n",
        "  if string in wd_cache.keys():\n",
        "    return wd_cache[string]\n",
        "  try:\n",
        "    dt = parser.parse(string)\n",
        "    wd_cache[string] = dt.weekday()\n",
        "    return dt.weekday()\n",
        "  except:\n",
        "    wd_cache[string] = -1\n",
        "    return -1"
      ],
      "execution_count": 13,
      "outputs": [
        {
          "output_type": "stream",
          "text": [
            "Collecting xlrd\n",
            "  Downloading xlrd-1.1.0-py2.py3-none-any.whl (108kB)\n",
            "\u001b[K    100% |████████████████████████████████| 112kB 2.3MB/s \n",
            "\u001b[?25hInstalling collected packages: xlrd\n",
            "Successfully installed xlrd-1.1.0\n"
          ],
          "name": "stdout"
        }
      ]
    },
    {
      "metadata": {
        "id": "FtAo0f1BareJ",
        "colab_type": "code",
        "colab": {
          "autoexec": {
            "startup": false,
            "wait_interval": 0
          },
          "output_extras": [
            {
              "item_id": 1
            }
          ],
          "base_uri": "https://localhost:8080/",
          "height": 51
        },
        "outputId": "54fc97af-63ba-4329-f7b7-6cd5e8e3458a",
        "executionInfo": {
          "status": "ok",
          "timestamp": 1521818448868,
          "user_tz": -300,
          "elapsed": 13812,
          "user": {
            "displayName": "Oleg Cheremisin",
            "photoUrl": "https://lh3.googleusercontent.com/a/default-user=s128",
            "userId": "109618106997231151508"
          }
        }
      },
      "cell_type": "code",
      "source": [
        "%%time\n",
        "\n",
        "dt['mcc_type'] = dt['mcc'].apply(mcc2mcc_type).astype(str)\n",
        "\n",
        "dt['mcc_group'] = dt['mcc'].apply(mcc2mcc_cat).astype(str)\n",
        "\n",
        "dt['currency'] = dt['currency'].fillna(0).astype(int)\n",
        "\n",
        "dt['is_russia'] = dt['country'].apply(lambda x: 1 if x == 'RUS' or x == 'RU' else 0)\n",
        "\n",
        "dt['is_holiday'] = dt['transaction_date'].astype(str).apply(is_holiday)\n"
      ],
      "execution_count": 14,
      "outputs": [
        {
          "output_type": "stream",
          "text": [
            "CPU times: user 12.6 s, sys: 424 ms, total: 13.1 s\n",
            "Wall time: 13.1 s\n"
          ],
          "name": "stdout"
        }
      ]
    },
    {
      "metadata": {
        "id": "y1prPrqrcaOf",
        "colab_type": "code",
        "colab": {
          "autoexec": {
            "startup": false,
            "wait_interval": 0
          }
        }
      },
      "cell_type": "code",
      "source": [
        "from sklearn.preprocessing import LabelEncoder\n",
        "\n",
        "le_type = LabelEncoder()\n",
        "le_group = LabelEncoder()\n",
        "\n",
        "le_type.fit(dt['mcc_type'])\n",
        "le_group.fit(dt['mcc_group'])\n",
        "\n",
        "dt['mcc_type'] = le_type.transform(dt['mcc_type'])\n",
        "\n",
        "dt['mcc_group'] = le_group.transform(dt['mcc_group'])"
      ],
      "execution_count": 0,
      "outputs": []
    },
    {
      "metadata": {
        "id": "AwFfUgAgVRHf",
        "colab_type": "text"
      },
      "cell_type": "markdown",
      "source": [
        "## Вспомогательные функции для оценки точности классификатора"
      ]
    },
    {
      "metadata": {
        "id": "w0gkf2cVVRHh",
        "colab_type": "code",
        "colab": {
          "autoexec": {
            "startup": false,
            "wait_interval": 0
          }
        }
      },
      "cell_type": "code",
      "source": [
        "def _best(x):\n",
        "    ret = None\n",
        "    for col in ys:\n",
        "        pred = ('pred:%s' % col)\n",
        "        if pred in x:\n",
        "            i = (x[pred].idxmax())\n",
        "            cols = [pred,'address_lat','address_lon']\n",
        "            if col in x:\n",
        "                cols.append(col)\n",
        "            tmp = x.loc[i,cols]\n",
        "            tmp.rename({\n",
        "                'address_lat':'%s:add_lat' % col,\n",
        "                'address_lon':'%s:add_lon' % col,\n",
        "            }, inplace = True)\n",
        "            if ret is None:\n",
        "                ret = tmp\n",
        "            else:\n",
        "                ret = pd.concat([ret, tmp])\n",
        "    return ret"
      ],
      "execution_count": 0,
      "outputs": []
    },
    {
      "metadata": {
        "id": "TOvJCMmmVRHl",
        "colab_type": "code",
        "colab": {
          "autoexec": {
            "startup": false,
            "wait_interval": 0
          }
        }
      },
      "cell_type": "code",
      "source": [
        "def predict_proba(dt, ys = ['is_home', 'is_work']):\n",
        "    for col in ys:\n",
        "        pred = ('pred:%s' % col)\n",
        "        dt[pred] = model[col].predict_proba(dt[xs])[:,1]\n",
        "    return dt.groupby('customer_id').apply(_best).reset_index()"
      ],
      "execution_count": 0,
      "outputs": []
    },
    {
      "metadata": {
        "id": "uq7WQYSeVRHp",
        "colab_type": "code",
        "colab": {
          "autoexec": {
            "startup": false,
            "wait_interval": 0
          }
        }
      },
      "cell_type": "code",
      "source": [
        "def score(dt, ys = ['is_home', 'is_work']):\n",
        "    dt_ret = predict_proba(dt, ys)\n",
        "    mean = 0.0\n",
        "    for col in ys:\n",
        "        col_mean = dt_ret[col].mean()\n",
        "        mean += col_mean\n",
        "    if len(ys) == 2:\n",
        "        mean = mean / len(ys)\n",
        "    return mean"
      ],
      "execution_count": 0,
      "outputs": []
    },
    {
      "metadata": {
        "id": "CU-jDGNVVRHy",
        "colab_type": "text"
      },
      "cell_type": "markdown",
      "source": [
        "### Признаки, на которых будем обучать модель"
      ]
    },
    {
      "metadata": {
        "id": "xkXtHSdjVRHz",
        "colab_type": "code",
        "colab": {
          "autoexec": {
            "startup": false,
            "wait_interval": 0
          }
        }
      },
      "cell_type": "code",
      "source": [
        "xs = ['amount','currency','city','country','is_atm','is_pos','ratio1','mcc_type','mcc_group','is_russia','is_holiday','weekday']\n",
        "##xs = ['amount','currency','is_atm','is_pos','ratio1','mcc_type','mcc_group','is_russia','is_holiday','weekday']\n",
        "ys = ['is_home', 'is_work']"
      ],
      "execution_count": 0,
      "outputs": []
    },
    {
      "metadata": {
        "id": "N4GLXn4LVRH3",
        "colab_type": "text"
      },
      "cell_type": "markdown",
      "source": [
        "# Создаем классификаторы\n",
        "**Hint**: можно поигратьcя с гиперпараметрами для лучшего результата :)"
      ]
    },
    {
      "metadata": {
        "id": "7WivpaP9VRH3",
        "colab_type": "code",
        "colab": {
          "autoexec": {
            "startup": false,
            "wait_interval": 0
          }
        }
      },
      "cell_type": "code",
      "source": [
        "model0 = {\n",
        "    'is_home': xgb.XGBClassifier(),\n",
        "    'is_work': xgb.XGBClassifier(),\n",
        "}"
      ],
      "execution_count": 0,
      "outputs": []
    },
    {
      "metadata": {
        "id": "HAUI9AXwVRH6",
        "colab_type": "text"
      },
      "cell_type": "markdown",
      "source": [
        "# Обучаем классификаторы"
      ]
    },
    {
      "metadata": {
        "id": "CKjjUH2_VRH7",
        "colab_type": "code",
        "colab": {
          "autoexec": {
            "startup": false,
            "wait_interval": 0
          },
          "output_extras": [
            {
              "item_id": 1
            },
            {
              "item_id": 12
            },
            {
              "item_id": 15
            },
            {
              "item_id": 26
            },
            {
              "item_id": 28
            }
          ],
          "base_uri": "https://localhost:8080/",
          "height": 521
        },
        "outputId": "b86e2b58-abe2-40cd-adee-0976ac3e4382",
        "executionInfo": {
          "status": "ok",
          "timestamp": 1521818541538,
          "user_tz": -300,
          "elapsed": 81239,
          "user": {
            "displayName": "Oleg Cheremisin",
            "photoUrl": "https://lh3.googleusercontent.com/a/default-user=s128",
            "userId": "109618106997231151508"
          }
        }
      },
      "cell_type": "code",
      "source": [
        "model = {}\n",
        "\n",
        "# последовательно обучаем два классификатора\n",
        "for col in ['is_home', 'is_work']:\n",
        "    \n",
        "    #выберем для обучение транзакции только тех клиентов из train, у которых хоть в одной транзакции указано место работы/жительства\n",
        "    cust_train = dt[dt['is_train'] == 1].groupby('customer_id')[col.replace('is_','has_')].max()\n",
        "    cust_train = cust_train[cust_train > 0].index\n",
        "    \n",
        "    #разобъем train на train/valid для валидации\n",
        "    cust_train, cust_valid = train_test_split(cust_train, test_size = 0.1, shuffle = True, random_state = 2)\n",
        "    \n",
        "    train = pd.DataFrame(cust_train, columns = ['customer_id']).merge(dt, how = 'left')\n",
        "    valid = pd.DataFrame(cust_valid, columns = ['customer_id']).merge(dt, how = 'left')\n",
        "\n",
        "    print (\"Training:\", col)\n",
        "    clf = sklearn.base.clone(model0[col])\n",
        "    clf.fit(train[xs], train[col], eval_metric = 'logloss', eval_set = [(train[xs], train[col]), (valid[xs], valid[col])], verbose=10)\n",
        "    model[col] = clf\n",
        "    print (\"Train accuracy:\", score(train, ys = [col]))\n",
        "    print (\"Test accuracy:\", score(valid, ys = [col]))\n",
        "    print ()\n"
      ],
      "execution_count": 21,
      "outputs": [
        {
          "output_type": "stream",
          "text": [
            "Training: is_home\n"
          ],
          "name": "stdout"
        },
        {
          "output_type": "stream",
          "text": [
            "[0]\tvalidation_0-logloss:0.660081\tvalidation_1-logloss:0.657865\n",
            "[10]\tvalidation_0-logloss:0.520271\tvalidation_1-logloss:0.511804\n",
            "[20]\tvalidation_0-logloss:0.492357\tvalidation_1-logloss:0.482038\n",
            "[30]\tvalidation_0-logloss:0.483562\tvalidation_1-logloss:0.473762\n",
            "[40]\tvalidation_0-logloss:0.479480\tvalidation_1-logloss:0.471127\n",
            "[50]\tvalidation_0-logloss:0.476409\tvalidation_1-logloss:0.468769\n",
            "[60]\tvalidation_0-logloss:0.474438\tvalidation_1-logloss:0.467155\n",
            "[70]\tvalidation_0-logloss:0.472759\tvalidation_1-logloss:0.466255\n",
            "[80]\tvalidation_0-logloss:0.471724\tvalidation_1-logloss:0.465397\n",
            "[90]\tvalidation_0-logloss:0.470486\tvalidation_1-logloss:0.464576\n",
            "[99]\tvalidation_0-logloss:0.469717\tvalidation_1-logloss:0.464712\n"
          ],
          "name": "stderr"
        },
        {
          "output_type": "stream",
          "text": [
            "Train accuracy: 0.38522222222222224\n",
            "Test accuracy: 0.371\n",
            "\n",
            "Training: is_work\n"
          ],
          "name": "stdout"
        },
        {
          "output_type": "stream",
          "text": [
            "[0]\tvalidation_0-logloss:0.646982\tvalidation_1-logloss:0.646691\n",
            "[10]\tvalidation_0-logloss:0.452797\tvalidation_1-logloss:0.451160\n",
            "[20]\tvalidation_0-logloss:0.412228\tvalidation_1-logloss:0.409166\n",
            "[30]\tvalidation_0-logloss:0.401046\tvalidation_1-logloss:0.398479\n",
            "[40]\tvalidation_0-logloss:0.396597\tvalidation_1-logloss:0.395533\n",
            "[50]\tvalidation_0-logloss:0.393499\tvalidation_1-logloss:0.393837\n",
            "[60]\tvalidation_0-logloss:0.391409\tvalidation_1-logloss:0.393847\n",
            "[70]\tvalidation_0-logloss:0.389794\tvalidation_1-logloss:0.393996\n",
            "[80]\tvalidation_0-logloss:0.388342\tvalidation_1-logloss:0.393981\n",
            "[90]\tvalidation_0-logloss:0.387277\tvalidation_1-logloss:0.393525\n",
            "[99]\tvalidation_0-logloss:0.386290\tvalidation_1-logloss:0.393387\n"
          ],
          "name": "stderr"
        },
        {
          "output_type": "stream",
          "text": [
            "Train accuracy: 0.2725118483412322\n",
            "Test accuracy: 0.26744186046511625\n",
            "\n"
          ],
          "name": "stdout"
        }
      ]
    },
    {
      "metadata": {
        "id": "btAFV_LCVRIH",
        "colab_type": "text"
      },
      "cell_type": "markdown",
      "source": [
        "# Predict"
      ]
    },
    {
      "metadata": {
        "id": "Nlt1PcG_VRII",
        "colab_type": "code",
        "colab": {
          "autoexec": {
            "startup": false,
            "wait_interval": 0
          }
        }
      },
      "cell_type": "code",
      "source": [
        "cust_test = dt[dt['is_train'] == 0]['customer_id'].unique()\n",
        "test = pd.DataFrame(cust_test, columns = ['customer_id']).merge(dt, how = 'left')\n",
        "test = predict_proba(test)\n",
        "test.rename(columns = {\n",
        "        'customer_id':'_ID_',\n",
        "        'is_home:add_lat': '_HOME_LAT_',\n",
        "        'is_home:add_lon': '_HOME_LON_',\n",
        "        'is_work:add_lat': '_WORK_LAT_',\n",
        "        'is_work:add_lon': '_WORK_LON_'}, inplace = True)\n",
        "test = test[['_ID_', '_WORK_LAT_', '_WORK_LON_', '_HOME_LAT_', '_HOME_LON_']]"
      ],
      "execution_count": 0,
      "outputs": []
    },
    {
      "metadata": {
        "id": "v1cpqZBLVRIK",
        "colab_type": "text"
      },
      "cell_type": "markdown",
      "source": [
        "# Формируем submission-файл"
      ]
    },
    {
      "metadata": {
        "id": "pyZUNtnxVRIL",
        "colab_type": "code",
        "colab": {
          "autoexec": {
            "startup": false,
            "wait_interval": 0
          }
        }
      },
      "cell_type": "code",
      "source": [
        "# Заполняем пропуски\n",
        "submission = submission.merge(test, how = 'left').fillna(0)\n",
        "\n",
        "# Пишем файл submission\n",
        "submission.to_csv('baseline-very-simple.csv', index = False)"
      ],
      "execution_count": 0,
      "outputs": []
    },
    {
      "metadata": {
        "id": "rkn5U3-BVRIQ",
        "colab_type": "code",
        "colab": {
          "autoexec": {
            "startup": false,
            "wait_interval": 0
          }
        }
      },
      "cell_type": "code",
      "source": [
        "from google.colab import files\n",
        "\n",
        "files.download('baseline-very-simple.csv')"
      ],
      "execution_count": 0,
      "outputs": []
    }
  ]
}