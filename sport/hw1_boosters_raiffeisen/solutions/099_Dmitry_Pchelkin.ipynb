{
 "cells": [
  {
   "cell_type": "markdown",
   "metadata": {},
   "source": [
    "# <center> Data Mining In Action\n",
    "## <center> [Raiffeisen Data Cup](https://boosters.pro/champ_11)\n",
    "\n",
    "<center> *До 23.03.2018*"
   ]
  },
  {
   "cell_type": "markdown",
   "metadata": {},
   "source": [
    "Общий подход (заимствован из бейзлайна):\n",
    "- Добавляем к каждой транзакции столбец: is_work (если транзакция находится в пределах 0.02 от дома клиента)\n",
    "- Добавляем к каждой транзакции столбец: is_home (если транзакция находится в пределах 0.02 от работы клиента)\n",
    "- Обучаем классификатор предсказывающий вероятность (is_home == 1) для транзакции\n",
    "- Обучаем классификатор предсказывающий вероятность (is_work == 1) для транзакции\n",
    "\n",
    "Точность определения местоположения:\n",
    "- для классификатора is_home: ~3x%\n",
    "- для классификатора is_work: ~2x%\n",
    "- общая оценка на Public Leaderboard: **0.357375**\n",
    "\n",
    "Используемые версии библиотек:"
   ]
  },
  {
   "cell_type": "code",
   "execution_count": 1,
   "metadata": {},
   "outputs": [
    {
     "name": "stdout",
     "output_type": "stream",
     "text": [
      "CPython 3.5.2\n",
      "IPython 6.2.1\n",
      "\n",
      "numpy 1.13.3\n",
      "scipy 1.0.0\n",
      "pandas 0.22.0\n",
      "matplotlib 2.1.2\n",
      "sklearn 0.19.1\n",
      "xgboost 0.7.post3\n",
      "reverse_geocoder n\u0007\n",
      "requests 2.18.4\n",
      "\n",
      "compiler   : GCC 5.4.0 20160609\n",
      "system     : Linux\n",
      "release    : 4.4.119-boot2docker\n",
      "machine    : x86_64\n",
      "processor  : x86_64\n",
      "CPU cores  : 2\n",
      "interpreter: 64bit\n",
      "Git hash   : e5336b6e8ecc4422ae6975a19ef72c16e67d0558\n"
     ]
    }
   ],
   "source": [
    "#!pip install watermark\n",
    "%load_ext watermark\n",
    "%watermark -v -m -p numpy,scipy,pandas,matplotlib,sklearn,xgboost,reverse_geocoder,requests -g"
   ]
  },
  {
   "cell_type": "code",
   "execution_count": 2,
   "metadata": {},
   "outputs": [],
   "source": [
    "import matplotlib.pyplot as plt\n",
    "import pandas as pd\n",
    "import numpy as np\n",
    "import reverse_geocoder\n",
    "import datetime\n",
    "import re\n",
    "import xgboost as xgb\n",
    "import sklearn\n",
    "\n",
    "from sklearn.model_selection import train_test_split\n",
    "\n",
    "from IPython.core.interactiveshell import InteractiveShell\n",
    "InteractiveShell.ast_node_interactivity = \"all\"\n",
    "\n",
    "%matplotlib inline\n",
    "%config InlineBackend.figure_format = 'svg'\n",
    "\n",
    "plt.rcParams['figure.figsize'] = (9,6)"
   ]
  },
  {
   "cell_type": "code",
   "execution_count": 3,
   "metadata": {},
   "outputs": [],
   "source": [
    "RANDOM_SEED = 7\n",
    "np.random.seed(RANDOM_SEED)"
   ]
  },
  {
   "cell_type": "markdown",
   "metadata": {},
   "source": [
    "### Задача\n",
    "По обезличенным данным об истории транзакций и информацию о мерчантах (место, позволяющее принимать платежи с использованием банковской пластиковой карты) требуется предсказать две пары координат: дом и работу клиента."
   ]
  },
  {
   "cell_type": "markdown",
   "metadata": {},
   "source": [
    "### Описание данных\n",
    "\n",
    "Требуется предсказать две пары координат (работы и дома): \n",
    "* (`_HOME_LAT_`, `_HOME_LON_`); \n",
    "* (`_WORK_LAT_`, `_WORK_LON_`).\n",
    "\n",
    "|Признак|Описание|Тип|\n",
    "|-------|--------|---|\n",
    "|`terminal_id`|идентификационный номер терминала|**уникальный**|\n",
    "|`customer_id`|идентификационный номер клиента|**уникальный**|\n",
    "|`amount`|количество потраченных средств за транзакцию|**численный**|\n",
    "|`country`|страна|**категориальный**|\n",
    "|`city`|город|**категориальный**|\n",
    "|`currency`|валюта|**категориальный**|\n",
    "|`mcc`|код категории продавца|**уникальный**|\n",
    "|`transaction_date`|дата транзакции|**категориальный**|\n",
    "|`atm_address`|адрес банкомата|**категориальный**|\n",
    "|`pos_address`|адрес установки pos-терминала|**категориальный**|\n",
    "|`pos_address_lat`|адрес установки pos-терминала широта|**численный**|\n",
    "|`pos_address_lon`|адрес установки pos-терминала долгота|**численный**|\n",
    "|`work_add_lat`|широта работы клиента|**численный**|\n",
    "|`work_add_lon`|долгота работы клиента|**численный**|\n",
    "|`home_add_lat`|широта дома клиента|**численный**|\n",
    "|`home_add_lon`|долгота дома клиента|**численный**|"
   ]
  },
  {
   "cell_type": "markdown",
   "metadata": {},
   "source": [
    "### Оценка алгоритма\n",
    "Метрикой качества в задаче является процент попаданий в окружность радиуса 0.02 градуса относительно координат дома и работы клиента. \n",
    "$$\\text{Score} = \\frac{N_h}{N} \\times 100\\% \\text{, где } N \\text{ - число всех клиентов.}$$\n",
    "\n",
    "$$ N_h\\displaystyle\\sum_{i=1}^{N} I_i, \n",
    "I_i = \\begin{cases}\n",
    "    1, \\quad ||\\hat{r_i} - r_i|| \\leq R \\\\\n",
    "    0, \\quad ||\\hat{r_i} - r_i|| > R\n",
    "\\end{cases} $$\n",
    "\n",
    "* $R$ - радиус круга (0.02 градуса);\n",
    "* $\\hat{r_i}$ - предсказанные координаты;\n",
    "* $r_i$ - точные координаты;\n",
    "* $r_i$ = (lat, lon).\n",
    " \n",
    "$$||\\hat{r_i} - r_i|| = \\sqrt{(\\hat{lat} - lat)^2 + (\\hat{lon} - lon)^2}$$"
   ]
  },
  {
   "cell_type": "markdown",
   "metadata": {},
   "source": [
    "### Полезное\n",
    "* [MCC codes](https://github.com/greggles/mcc-codes)\n",
    "* [Hint Geo](https://www.youtube.com/watch?v=NVKDSNM702k) - from [Tinkoff competition](https://boosters.pro/champ_3)"
   ]
  },
  {
   "cell_type": "code",
   "execution_count": 4,
   "metadata": {},
   "outputs": [],
   "source": [
    "# Определим типы колонок для экономии памяти\n",
    "dtypes = {\n",
    "    'transaction_date': str,\n",
    "    'atm_address': str,\n",
    "    'country': str,\n",
    "    'city': str,\n",
    "    'amount': np.float32,\n",
    "    'currency': np.float32,\n",
    "    'mcc': str,\n",
    "    'customer_id': str,\n",
    "    'pos_address': str,\n",
    "    'atm_address': str,\n",
    "    'pos_adress_lat': np.float32,\n",
    "    'pos_adress_lon': np.float32,\n",
    "    'pos_address_lat': np.float32,\n",
    "    'pos_address_lon': np.float32,\n",
    "    'atm_address_lat': np.float32,\n",
    "    'atm_address_lon': np.float32,\n",
    "    'home_add_lat': np.float32,\n",
    "    'home_add_lon': np.float32,\n",
    "    'work_add_lat': np.float32,\n",
    "    'work_add_lon': np.float32,\n",
    "}\n",
    "\n",
    "# для экономии памяти будем загружать только часть атрибутов транзакций\n",
    "usecols_train = [\n",
    "    'customer_id', \n",
    "    'transaction_date',\n",
    "    'amount',\n",
    "    'country', \n",
    "    'city', \n",
    "    'currency', \n",
    "    'mcc', \n",
    "    'pos_adress_lat', \n",
    "    'pos_adress_lon', \n",
    "    'atm_address_lat', \n",
    "    'atm_address_lon',\n",
    "    'home_add_lat',\n",
    "    'home_add_lon',\n",
    "    'work_add_lat',\n",
    "    'work_add_lon', \n",
    "    'terminal_id'\n",
    "]\n",
    "usecols_test = [\n",
    "    'customer_id',\n",
    "    'transaction_date',\n",
    "    'amount',\n",
    "    'country', \n",
    "    'city', \n",
    "    'currency', \n",
    "    'mcc', \n",
    "    'pos_address_lat', \n",
    "    'pos_address_lon', \n",
    "    'atm_address_lat', \n",
    "    'atm_address_lon',\n",
    "    'terminal_id'\n",
    "]"
   ]
  },
  {
   "cell_type": "code",
   "execution_count": 5,
   "metadata": {},
   "outputs": [
    {
     "name": "stdout",
     "output_type": "stream",
     "text": [
      "CPU times: user 8.08 s, sys: 550 ms, total: 8.63 s\n",
      "Wall time: 8.91 s\n"
     ]
    }
   ],
   "source": [
    "%%time\n",
    "\n",
    "train_df = pd.read_csv(r\"../../data/train_set-Raiffaizen.csv\", dtype=dtypes, usecols=usecols_train)  # low_memory=False\n",
    "train_df.rename(columns={'pos_adress_lat': 'pos_address_lat', 'pos_adress_lon': 'pos_address_lon'}, inplace=True)\n",
    "\n",
    "test_df = pd.read_csv(r\"../../data/test_set-Raiffaizen.csv\", dtype=dtypes, usecols=usecols_test)  # low_memory=False\n",
    "submission = pd.DataFrame(test_df.customer_id.unique(), columns = ['_ID_'])\n",
    "\n",
    "# соединяем test/train в одном DataFrame\n",
    "train_df['is_train'] = np.int32(1)\n",
    "test_df['is_train'] = np.int32(0)\n",
    "df = pd.concat([train_df, test_df])\n",
    "\n",
    "df.sample(5)\n",
    "\n",
    "del train_df, test_df"
   ]
  },
  {
   "cell_type": "code",
   "execution_count": 6,
   "metadata": {},
   "outputs": [
    {
     "name": "stdout",
     "output_type": "stream",
     "text": [
      "CPU times: user 28.1 s, sys: 320 ms, total: 28.4 s\n",
      "Wall time: 28.5 s\n"
     ]
    }
   ],
   "source": [
    "%%time\n",
    "\n",
    "df.currency = df.currency.fillna(-1).astype(np.int32)\n",
    "df.mcc = df.mcc.apply(lambda x: int(x.replace(',', ''))).astype(np.int32)\n",
    "\n",
    "# удаляем транзакции без даты\n",
    "df.drop(df[df.transaction_date.isnull()].index, axis=0, inplace=True)\n",
    "df.transaction_date = df.transaction_date.apply(lambda x: datetime.datetime.strptime(x, '%Y-%m-%d'))\n",
    "df['weekday'] = df.transaction_date.dt.weekday.astype(np.int32)"
   ]
  },
  {
   "cell_type": "code",
   "execution_count": 7,
   "metadata": {},
   "outputs": [
    {
     "data": {
      "text/plain": [
       "(2490114, 18)"
      ]
     },
     "execution_count": 7,
     "metadata": {},
     "output_type": "execute_result"
    }
   ],
   "source": [
    "df.shape"
   ]
  },
  {
   "cell_type": "markdown",
   "metadata": {},
   "source": [
    "#### Очистка названий городов (попытка убрать лишние классы)."
   ]
  },
  {
   "cell_type": "code",
   "execution_count": 8,
   "metadata": {},
   "outputs": [],
   "source": [
    "pattern = re.compile(\"[^ a-zA-Z]\")\n",
    "def filter_city(city: str, min_len: int=2) -> list:\n",
    "    t = pattern.sub(r\"\", city.lower())\n",
    "    return \" \".join([c for c in t.strip().split() if len(c) > min_len])"
   ]
  },
  {
   "cell_type": "code",
   "execution_count": 9,
   "metadata": {},
   "outputs": [],
   "source": [
    "df.city = df.city.apply(lambda x: str.lower(x) if x is not np.NaN else \"\")\n",
    "df.city = df.city.apply(filter_city)\n",
    "df.city = df.city.factorize()[0].astype(np.int32)"
   ]
  },
  {
   "cell_type": "code",
   "execution_count": 10,
   "metadata": {},
   "outputs": [],
   "source": [
    "df.country = df.country.apply(lambda x: str.lower(x) if x is not np.NaN else \"\")\n",
    "df.country = df.country.apply(filter_city)\n",
    "df.country = df.country.factorize()[0].astype(np.int32)"
   ]
  },
  {
   "cell_type": "markdown",
   "metadata": {},
   "source": [
    "#### Объединение координат адресов pos- и atm- терминалов."
   ]
  },
  {
   "cell_type": "code",
   "execution_count": 11,
   "metadata": {},
   "outputs": [
    {
     "name": "stdout",
     "output_type": "stream",
     "text": [
      "CPU times: user 1.09 s, sys: 140 ms, total: 1.23 s\n",
      "Wall time: 1.23 s\n"
     ]
    }
   ],
   "source": [
    "%%time\n",
    "\n",
    "df['is_atm'] = (~df.atm_address_lat.isnull()).astype(np.int32)\n",
    "df['is_pos'] = (~df.pos_address_lat.isnull()).astype(np.int32)\n",
    "\n",
    "df['address_lat'] = df.atm_address_lat.fillna(0) + df.pos_address_lat.fillna(0)\n",
    "df['address_lon'] = df.atm_address_lon.fillna(0) + df.pos_address_lon.fillna(0)\n",
    "\n",
    "df.drop(['atm_address_lat','atm_address_lon','pos_address_lat','pos_address_lon'], axis=1, inplace=True)\n",
    "\n",
    "# удалим транзакции без адреса\n",
    "df.drop(df[((df.address_lon == 0) & (df.address_lon == 0))].index, axis=0, inplace=True)"
   ]
  },
  {
   "cell_type": "markdown",
   "metadata": {},
   "source": [
    "#### Создание бинарных признаков is_home и is_work, категоризация признака \"адрес\"."
   ]
  },
  {
   "cell_type": "code",
   "execution_count": 12,
   "metadata": {},
   "outputs": [],
   "source": [
    "def custom_metrics(lat: np.ndarray, lon: np.ndarray, eps: float=0.02) -> np.ndarray:\n",
    "    return (np.sqrt((lat**2) + (lon**2)) <= eps).astype(np.int32)"
   ]
  },
  {
   "cell_type": "code",
   "execution_count": 13,
   "metadata": {},
   "outputs": [
    {
     "name": "stdout",
     "output_type": "stream",
     "text": [
      "CPU times: user 350 ms, sys: 80 ms, total: 430 ms\n",
      "Wall time: 436 ms\n"
     ]
    }
   ],
   "source": [
    "%%time\n",
    "\n",
    "lat_h = df.home_add_lat - df.address_lat\n",
    "lon_h = df.home_add_lon - df.address_lon\n",
    "df['is_home'] = custom_metrics(lat_h, lon_h)\n",
    "df['has_home'] = (~df.home_add_lon.isnull()).astype(np.int32)\n",
    "\n",
    "lat_w = df.work_add_lat - df.address_lat\n",
    "lon_w = df.work_add_lon - df.address_lon\n",
    "df['is_work'] = custom_metrics(lat_w, lon_w)\n",
    "df['has_work'] = (~df.work_add_lon.isnull()).astype(np.int32)\n",
    "\n",
    "df.drop(['work_add_lat','work_add_lon','home_add_lat','home_add_lon'], axis=1, inplace=True)\n",
    "\n",
    "del lat_h, lon_h, lat_w, lon_w"
   ]
  },
  {
   "cell_type": "markdown",
   "metadata": {},
   "source": [
    "#### Усреднение местоположения для банкоматов."
   ]
  },
  {
   "cell_type": "code",
   "execution_count": 14,
   "metadata": {},
   "outputs": [
    {
     "name": "stdout",
     "output_type": "stream",
     "text": [
      "CPU times: user 4.63 s, sys: 150 ms, total: 4.78 s\n",
      "Wall time: 4.78 s\n"
     ]
    }
   ],
   "source": [
    "%%time\n",
    "\n",
    "# средние координаты терминалов\n",
    "df = df.merge(df.groupby('terminal_id').address_lat.mean().reset_index(name='terminal_lat'), how='left')\n",
    "df = df.merge(df.groupby('terminal_id').address_lon.mean().reset_index(name='terminal_lon'), how='left')\n",
    "\n",
    "df.drop(['address_lat','address_lon'], axis=1, inplace=True)"
   ]
  },
  {
   "cell_type": "code",
   "execution_count": 15,
   "metadata": {},
   "outputs": [],
   "source": [
    "addr_lat = df.terminal_lat.apply(lambda x: \"%.02f\" % x)\n",
    "addr_lon = df.terminal_lon.apply(lambda x: \"%.02f\" % x)\n",
    "df['address'] = addr_lat + ';' + addr_lon\n",
    "df.address = df.address.factorize()[0].astype(np.int32)\n",
    "del addr_lat, addr_lon"
   ]
  },
  {
   "cell_type": "code",
   "execution_count": 16,
   "metadata": {},
   "outputs": [
    {
     "data": {
      "text/html": [
       "<div>\n",
       "<style scoped>\n",
       "    .dataframe tbody tr th:only-of-type {\n",
       "        vertical-align: middle;\n",
       "    }\n",
       "\n",
       "    .dataframe tbody tr th {\n",
       "        vertical-align: top;\n",
       "    }\n",
       "\n",
       "    .dataframe thead th {\n",
       "        text-align: right;\n",
       "    }\n",
       "</style>\n",
       "<table border=\"1\" class=\"dataframe\">\n",
       "  <thead>\n",
       "    <tr style=\"text-align: right;\">\n",
       "      <th></th>\n",
       "      <th>amount</th>\n",
       "      <th>city</th>\n",
       "      <th>country</th>\n",
       "      <th>currency</th>\n",
       "      <th>customer_id</th>\n",
       "      <th>is_train</th>\n",
       "      <th>mcc</th>\n",
       "      <th>terminal_id</th>\n",
       "      <th>transaction_date</th>\n",
       "      <th>weekday</th>\n",
       "      <th>is_atm</th>\n",
       "      <th>is_pos</th>\n",
       "      <th>is_home</th>\n",
       "      <th>has_home</th>\n",
       "      <th>is_work</th>\n",
       "      <th>has_work</th>\n",
       "      <th>terminal_lat</th>\n",
       "      <th>terminal_lon</th>\n",
       "      <th>address</th>\n",
       "    </tr>\n",
       "  </thead>\n",
       "  <tbody>\n",
       "    <tr>\n",
       "      <th>0</th>\n",
       "      <td>2.884034</td>\n",
       "      <td>0</td>\n",
       "      <td>0</td>\n",
       "      <td>643</td>\n",
       "      <td>0dc0137d280a2a82d2dc89282450ff1b</td>\n",
       "      <td>1</td>\n",
       "      <td>5261</td>\n",
       "      <td>11606fde0c814ce78e0d726e39a0a5ee</td>\n",
       "      <td>2017-07-15</td>\n",
       "      <td>5</td>\n",
       "      <td>0</td>\n",
       "      <td>1</td>\n",
       "      <td>0</td>\n",
       "      <td>1</td>\n",
       "      <td>1</td>\n",
       "      <td>1</td>\n",
       "      <td>59.844074</td>\n",
       "      <td>30.179153</td>\n",
       "      <td>0</td>\n",
       "    </tr>\n",
       "    <tr>\n",
       "      <th>1</th>\n",
       "      <td>2.775633</td>\n",
       "      <td>0</td>\n",
       "      <td>0</td>\n",
       "      <td>643</td>\n",
       "      <td>0dc0137d280a2a82d2dc89282450ff1b</td>\n",
       "      <td>1</td>\n",
       "      <td>5261</td>\n",
       "      <td>e9647a5e1eacfb06713b6af755ccc595</td>\n",
       "      <td>2017-10-27</td>\n",
       "      <td>4</td>\n",
       "      <td>0</td>\n",
       "      <td>1</td>\n",
       "      <td>0</td>\n",
       "      <td>1</td>\n",
       "      <td>1</td>\n",
       "      <td>1</td>\n",
       "      <td>59.844074</td>\n",
       "      <td>30.179153</td>\n",
       "      <td>0</td>\n",
       "    </tr>\n",
       "    <tr>\n",
       "      <th>2</th>\n",
       "      <td>3.708368</td>\n",
       "      <td>0</td>\n",
       "      <td>0</td>\n",
       "      <td>643</td>\n",
       "      <td>0dc0137d280a2a82d2dc89282450ff1b</td>\n",
       "      <td>1</td>\n",
       "      <td>5992</td>\n",
       "      <td>df06c1fcd3718a514535ae822785f716</td>\n",
       "      <td>2017-10-03</td>\n",
       "      <td>1</td>\n",
       "      <td>0</td>\n",
       "      <td>1</td>\n",
       "      <td>1</td>\n",
       "      <td>1</td>\n",
       "      <td>0</td>\n",
       "      <td>1</td>\n",
       "      <td>59.858200</td>\n",
       "      <td>30.229023</td>\n",
       "      <td>1</td>\n",
       "    </tr>\n",
       "    <tr>\n",
       "      <th>3</th>\n",
       "      <td>2.787498</td>\n",
       "      <td>0</td>\n",
       "      <td>0</td>\n",
       "      <td>643</td>\n",
       "      <td>0dc0137d280a2a82d2dc89282450ff1b</td>\n",
       "      <td>1</td>\n",
       "      <td>5261</td>\n",
       "      <td>6c5e5793ebc984fb72875feffff62854</td>\n",
       "      <td>2017-09-09</td>\n",
       "      <td>5</td>\n",
       "      <td>0</td>\n",
       "      <td>1</td>\n",
       "      <td>0</td>\n",
       "      <td>1</td>\n",
       "      <td>1</td>\n",
       "      <td>1</td>\n",
       "      <td>59.844074</td>\n",
       "      <td>30.179153</td>\n",
       "      <td>0</td>\n",
       "    </tr>\n",
       "    <tr>\n",
       "      <th>4</th>\n",
       "      <td>2.892510</td>\n",
       "      <td>0</td>\n",
       "      <td>0</td>\n",
       "      <td>643</td>\n",
       "      <td>0dc0137d280a2a82d2dc89282450ff1b</td>\n",
       "      <td>1</td>\n",
       "      <td>5261</td>\n",
       "      <td>0576445d74e374c92c0902e612fca356</td>\n",
       "      <td>2017-07-06</td>\n",
       "      <td>3</td>\n",
       "      <td>0</td>\n",
       "      <td>1</td>\n",
       "      <td>0</td>\n",
       "      <td>1</td>\n",
       "      <td>1</td>\n",
       "      <td>1</td>\n",
       "      <td>59.844074</td>\n",
       "      <td>30.179153</td>\n",
       "      <td>0</td>\n",
       "    </tr>\n",
       "  </tbody>\n",
       "</table>\n",
       "</div>"
      ],
      "text/plain": [
       "     amount  city  country  currency                       customer_id  \\\n",
       "0  2.884034     0        0       643  0dc0137d280a2a82d2dc89282450ff1b   \n",
       "1  2.775633     0        0       643  0dc0137d280a2a82d2dc89282450ff1b   \n",
       "2  3.708368     0        0       643  0dc0137d280a2a82d2dc89282450ff1b   \n",
       "3  2.787498     0        0       643  0dc0137d280a2a82d2dc89282450ff1b   \n",
       "4  2.892510     0        0       643  0dc0137d280a2a82d2dc89282450ff1b   \n",
       "\n",
       "   is_train   mcc                       terminal_id transaction_date  weekday  \\\n",
       "0         1  5261  11606fde0c814ce78e0d726e39a0a5ee       2017-07-15        5   \n",
       "1         1  5261  e9647a5e1eacfb06713b6af755ccc595       2017-10-27        4   \n",
       "2         1  5992  df06c1fcd3718a514535ae822785f716       2017-10-03        1   \n",
       "3         1  5261  6c5e5793ebc984fb72875feffff62854       2017-09-09        5   \n",
       "4         1  5261  0576445d74e374c92c0902e612fca356       2017-07-06        3   \n",
       "\n",
       "   is_atm  is_pos  is_home  has_home  is_work  has_work  terminal_lat  \\\n",
       "0       0       1        0         1        1         1     59.844074   \n",
       "1       0       1        0         1        1         1     59.844074   \n",
       "2       0       1        1         1        0         1     59.858200   \n",
       "3       0       1        0         1        1         1     59.844074   \n",
       "4       0       1        0         1        1         1     59.844074   \n",
       "\n",
       "   terminal_lon  address  \n",
       "0     30.179153        0  \n",
       "1     30.179153        0  \n",
       "2     30.229023        1  \n",
       "3     30.179153        0  \n",
       "4     30.179153        0  "
      ]
     },
     "execution_count": 16,
     "metadata": {},
     "output_type": "execute_result"
    }
   ],
   "source": [
    "df.head()"
   ]
  },
  {
   "cell_type": "code",
   "execution_count": 17,
   "metadata": {},
   "outputs": [
    {
     "name": "stdout",
     "output_type": "stream",
     "text": [
      "CPU times: user 4.87 s, sys: 210 ms, total: 5.08 s\n",
      "Wall time: 5.09 s\n"
     ]
    }
   ],
   "source": [
    "%%time\n",
    "\n",
    "# количество транзакций каждого клиента\n",
    "df = df.merge(df.groupby('customer_id').amount.count().reset_index(name='customer_trans'), how='left')\n",
    "df.customer_trans = df.customer_trans.astype(np.int32)\n",
    "\n",
    "df = df.merge(df.groupby(['customer_id','address']).amount.count().reset_index(name='customer_trans_addr'), how='left')\n",
    "df.customer_trans_addr = df.customer_trans_addr.astype(np.int32)\n",
    "\n",
    "# какая часть транзакций клиента приходится на данный адрес\n",
    "df['ratio1'] = df.customer_trans_addr / df.customer_trans\n",
    "\n",
    "# средняя сумма клиента, снятая в банкомате\n",
    "df = df.merge(df.groupby(['customer_id', 'address']).amount.mean().reset_index(name='pos_mean'), how='left')\n",
    "df = df.merge(df.groupby(['customer_id', 'address']).amount.sum().reset_index(name='pos_amount'), how='left')"
   ]
  },
  {
   "cell_type": "markdown",
   "metadata": {},
   "source": [
    "#### Определение района."
   ]
  },
  {
   "cell_type": "code",
   "execution_count": 18,
   "metadata": {},
   "outputs": [
    {
     "name": "stdout",
     "output_type": "stream",
     "text": [
      "CPU times: user 8.77 s, sys: 780 ms, total: 9.55 s\n",
      "Wall time: 11.6 s\n"
     ]
    }
   ],
   "source": [
    "%%time\n",
    "\n",
    "coordinates = tuple(np.hstack((\n",
    "    df.terminal_lat.values.reshape(-1, 1), df.terminal_lon.values.reshape(-1, 1)\n",
    ")))\n",
    "coordinates = tuple(map(tuple, coordinates))\n",
    "disctricts = np.array(list(map(\n",
    "    lambda x: (x['name']), reverse_geocoder.search(coordinates, verbose=False)\n",
    ")))\n",
    "df['district'] = df.city.apply(str) + '_' + disctricts\n",
    "df.district = df.district.factorize()[0].astype(np.int32)"
   ]
  },
  {
   "cell_type": "code",
   "execution_count": 19,
   "metadata": {
    "scrolled": true
   },
   "outputs": [
    {
     "data": {
      "text/html": [
       "<div>\n",
       "<style scoped>\n",
       "    .dataframe tbody tr th:only-of-type {\n",
       "        vertical-align: middle;\n",
       "    }\n",
       "\n",
       "    .dataframe tbody tr th {\n",
       "        vertical-align: top;\n",
       "    }\n",
       "\n",
       "    .dataframe thead th {\n",
       "        text-align: right;\n",
       "    }\n",
       "</style>\n",
       "<table border=\"1\" class=\"dataframe\">\n",
       "  <thead>\n",
       "    <tr style=\"text-align: right;\">\n",
       "      <th></th>\n",
       "      <th>amount</th>\n",
       "      <th>city</th>\n",
       "      <th>country</th>\n",
       "      <th>currency</th>\n",
       "      <th>customer_id</th>\n",
       "      <th>is_train</th>\n",
       "      <th>mcc</th>\n",
       "      <th>terminal_id</th>\n",
       "      <th>transaction_date</th>\n",
       "      <th>weekday</th>\n",
       "      <th>...</th>\n",
       "      <th>has_work</th>\n",
       "      <th>terminal_lat</th>\n",
       "      <th>terminal_lon</th>\n",
       "      <th>address</th>\n",
       "      <th>customer_trans</th>\n",
       "      <th>customer_trans_addr</th>\n",
       "      <th>ratio1</th>\n",
       "      <th>pos_mean</th>\n",
       "      <th>pos_amount</th>\n",
       "      <th>district</th>\n",
       "    </tr>\n",
       "  </thead>\n",
       "  <tbody>\n",
       "    <tr>\n",
       "      <th>0</th>\n",
       "      <td>2.884034</td>\n",
       "      <td>0</td>\n",
       "      <td>0</td>\n",
       "      <td>643</td>\n",
       "      <td>0dc0137d280a2a82d2dc89282450ff1b</td>\n",
       "      <td>1</td>\n",
       "      <td>5261</td>\n",
       "      <td>11606fde0c814ce78e0d726e39a0a5ee</td>\n",
       "      <td>2017-07-15</td>\n",
       "      <td>5</td>\n",
       "      <td>...</td>\n",
       "      <td>1</td>\n",
       "      <td>59.844074</td>\n",
       "      <td>30.179153</td>\n",
       "      <td>0</td>\n",
       "      <td>39</td>\n",
       "      <td>17</td>\n",
       "      <td>0.435897</td>\n",
       "      <td>3.298660</td>\n",
       "      <td>56.077213</td>\n",
       "      <td>0</td>\n",
       "    </tr>\n",
       "    <tr>\n",
       "      <th>1</th>\n",
       "      <td>2.775633</td>\n",
       "      <td>0</td>\n",
       "      <td>0</td>\n",
       "      <td>643</td>\n",
       "      <td>0dc0137d280a2a82d2dc89282450ff1b</td>\n",
       "      <td>1</td>\n",
       "      <td>5261</td>\n",
       "      <td>e9647a5e1eacfb06713b6af755ccc595</td>\n",
       "      <td>2017-10-27</td>\n",
       "      <td>4</td>\n",
       "      <td>...</td>\n",
       "      <td>1</td>\n",
       "      <td>59.844074</td>\n",
       "      <td>30.179153</td>\n",
       "      <td>0</td>\n",
       "      <td>39</td>\n",
       "      <td>17</td>\n",
       "      <td>0.435897</td>\n",
       "      <td>3.298660</td>\n",
       "      <td>56.077213</td>\n",
       "      <td>0</td>\n",
       "    </tr>\n",
       "    <tr>\n",
       "      <th>2</th>\n",
       "      <td>3.708368</td>\n",
       "      <td>0</td>\n",
       "      <td>0</td>\n",
       "      <td>643</td>\n",
       "      <td>0dc0137d280a2a82d2dc89282450ff1b</td>\n",
       "      <td>1</td>\n",
       "      <td>5992</td>\n",
       "      <td>df06c1fcd3718a514535ae822785f716</td>\n",
       "      <td>2017-10-03</td>\n",
       "      <td>1</td>\n",
       "      <td>...</td>\n",
       "      <td>1</td>\n",
       "      <td>59.858200</td>\n",
       "      <td>30.229023</td>\n",
       "      <td>1</td>\n",
       "      <td>39</td>\n",
       "      <td>5</td>\n",
       "      <td>0.128205</td>\n",
       "      <td>3.679532</td>\n",
       "      <td>18.397659</td>\n",
       "      <td>1</td>\n",
       "    </tr>\n",
       "    <tr>\n",
       "      <th>3</th>\n",
       "      <td>2.787498</td>\n",
       "      <td>0</td>\n",
       "      <td>0</td>\n",
       "      <td>643</td>\n",
       "      <td>0dc0137d280a2a82d2dc89282450ff1b</td>\n",
       "      <td>1</td>\n",
       "      <td>5261</td>\n",
       "      <td>6c5e5793ebc984fb72875feffff62854</td>\n",
       "      <td>2017-09-09</td>\n",
       "      <td>5</td>\n",
       "      <td>...</td>\n",
       "      <td>1</td>\n",
       "      <td>59.844074</td>\n",
       "      <td>30.179153</td>\n",
       "      <td>0</td>\n",
       "      <td>39</td>\n",
       "      <td>17</td>\n",
       "      <td>0.435897</td>\n",
       "      <td>3.298660</td>\n",
       "      <td>56.077213</td>\n",
       "      <td>0</td>\n",
       "    </tr>\n",
       "    <tr>\n",
       "      <th>4</th>\n",
       "      <td>2.892510</td>\n",
       "      <td>0</td>\n",
       "      <td>0</td>\n",
       "      <td>643</td>\n",
       "      <td>0dc0137d280a2a82d2dc89282450ff1b</td>\n",
       "      <td>1</td>\n",
       "      <td>5261</td>\n",
       "      <td>0576445d74e374c92c0902e612fca356</td>\n",
       "      <td>2017-07-06</td>\n",
       "      <td>3</td>\n",
       "      <td>...</td>\n",
       "      <td>1</td>\n",
       "      <td>59.844074</td>\n",
       "      <td>30.179153</td>\n",
       "      <td>0</td>\n",
       "      <td>39</td>\n",
       "      <td>17</td>\n",
       "      <td>0.435897</td>\n",
       "      <td>3.298660</td>\n",
       "      <td>56.077213</td>\n",
       "      <td>0</td>\n",
       "    </tr>\n",
       "  </tbody>\n",
       "</table>\n",
       "<p>5 rows × 25 columns</p>\n",
       "</div>"
      ],
      "text/plain": [
       "     amount  city  country  currency                       customer_id  \\\n",
       "0  2.884034     0        0       643  0dc0137d280a2a82d2dc89282450ff1b   \n",
       "1  2.775633     0        0       643  0dc0137d280a2a82d2dc89282450ff1b   \n",
       "2  3.708368     0        0       643  0dc0137d280a2a82d2dc89282450ff1b   \n",
       "3  2.787498     0        0       643  0dc0137d280a2a82d2dc89282450ff1b   \n",
       "4  2.892510     0        0       643  0dc0137d280a2a82d2dc89282450ff1b   \n",
       "\n",
       "   is_train   mcc                       terminal_id transaction_date  weekday  \\\n",
       "0         1  5261  11606fde0c814ce78e0d726e39a0a5ee       2017-07-15        5   \n",
       "1         1  5261  e9647a5e1eacfb06713b6af755ccc595       2017-10-27        4   \n",
       "2         1  5992  df06c1fcd3718a514535ae822785f716       2017-10-03        1   \n",
       "3         1  5261  6c5e5793ebc984fb72875feffff62854       2017-09-09        5   \n",
       "4         1  5261  0576445d74e374c92c0902e612fca356       2017-07-06        3   \n",
       "\n",
       "     ...     has_work  terminal_lat  terminal_lon  address  customer_trans  \\\n",
       "0    ...            1     59.844074     30.179153        0              39   \n",
       "1    ...            1     59.844074     30.179153        0              39   \n",
       "2    ...            1     59.858200     30.229023        1              39   \n",
       "3    ...            1     59.844074     30.179153        0              39   \n",
       "4    ...            1     59.844074     30.179153        0              39   \n",
       "\n",
       "   customer_trans_addr    ratio1  pos_mean  pos_amount  district  \n",
       "0                   17  0.435897  3.298660   56.077213         0  \n",
       "1                   17  0.435897  3.298660   56.077213         0  \n",
       "2                    5  0.128205  3.679532   18.397659         1  \n",
       "3                   17  0.435897  3.298660   56.077213         0  \n",
       "4                   17  0.435897  3.298660   56.077213         0  \n",
       "\n",
       "[5 rows x 25 columns]"
      ]
     },
     "execution_count": 19,
     "metadata": {},
     "output_type": "execute_result"
    }
   ],
   "source": [
    "df.head()"
   ]
  },
  {
   "cell_type": "markdown",
   "metadata": {},
   "source": [
    "#### Вспомогательные функции для оценки точности классификатора"
   ]
  },
  {
   "cell_type": "code",
   "execution_count": 20,
   "metadata": {},
   "outputs": [],
   "source": [
    "def _best(x):\n",
    "    ret = None\n",
    "    for col in ys:\n",
    "        pred = ('pred:%s' % col)\n",
    "        if pred in x:\n",
    "            i = (x[pred].idxmax())\n",
    "            cols = [pred,'terminal_lat','terminal_lon']\n",
    "            if col in x:\n",
    "                cols.append(col)\n",
    "            tmp = x.loc[i,cols]\n",
    "            tmp.rename({\n",
    "                'terminal_lat':'%s:add_lat' % col,\n",
    "                'terminal_lon':'%s:add_lon' % col,\n",
    "            }, inplace = True)\n",
    "            if ret is None:\n",
    "                ret = tmp\n",
    "            else:\n",
    "                ret = pd.concat([ret, tmp])\n",
    "    return ret\n",
    "\n",
    "def predict_proba(df, ys=['is_home', 'is_work']):\n",
    "    for col in ys:\n",
    "        pred = ('pred:%s' % col)\n",
    "        df[pred] = model[col].predict_proba(df[xs])[:,1]\n",
    "    return df.groupby('customer_id').apply(_best).reset_index()\n",
    "\n",
    "def score(df, ys=['is_home', 'is_work']):\n",
    "    df_ret = predict_proba(df, ys)\n",
    "    mean = 0.0\n",
    "    for col in ys:\n",
    "        col_mean = df_ret[col].mean()\n",
    "        mean += col_mean\n",
    "    if len(ys) == 2:\n",
    "        mean = mean / len(ys)\n",
    "    return mean"
   ]
  },
  {
   "cell_type": "markdown",
   "metadata": {},
   "source": [
    "#### Обучение"
   ]
  },
  {
   "cell_type": "code",
   "execution_count": 65,
   "metadata": {},
   "outputs": [],
   "source": [
    "# фичи, на которых идет обучение\n",
    "xs = [\n",
    "    'amount',\n",
    "#     'currency',\n",
    "    'city',\n",
    "#     'country',\n",
    "    'mcc',\n",
    "    'is_atm',\n",
    "    'ratio1',\n",
    "    'district', \n",
    "    'address', \n",
    "    'pos_amount',\n",
    "    'pos_mean',\n",
    "#     'customer_trans_addr', \n",
    "    'weekday'\n",
    "]\n",
    "ys = ['is_home', 'is_work']\n",
    "\n",
    "# модели\n",
    "model0 = {\n",
    "    'is_home': xgb.XGBClassifier(max_depth=4, n_estimators=200, nthread=3, random_state=RANDOM_SEED),\n",
    "    'is_work': xgb.XGBClassifier(n_estimators=150, nthread=3, random_state=RANDOM_SEED)\n",
    "}\n",
    "\n",
    "model = {}"
   ]
  },
  {
   "cell_type": "code",
   "execution_count": 66,
   "metadata": {},
   "outputs": [],
   "source": [
    "def fit_models(x_idx: list, verbose: int=25, models: dict={}) -> dict:\n",
    "    # последовательно обучаем два классификатора\n",
    "    for col in ['is_home', 'is_work']:\n",
    "        #выберем для обучение транзакции только тех клиентов из train, у которых хоть в одной транзакции указано место работы/жительства\n",
    "        cust_train = df[df.is_train == 1].groupby('customer_id')[col.replace('is_','has_')].max()\n",
    "        cust_train = cust_train[cust_train > 0].index\n",
    "\n",
    "        #разобъем train на train/valid для валидации\n",
    "        cust_train, cust_valid = train_test_split(cust_train, test_size=0.2, \n",
    "                                                  shuffle=True, random_state=RANDOM_SEED)\n",
    "\n",
    "        train = pd.DataFrame(cust_train, columns=['customer_id']).merge(df, how='left')\n",
    "        valid = pd.DataFrame(cust_valid, columns=['customer_id']).merge(df, how='left')\n",
    "\n",
    "        print (\"Training:\", col)\n",
    "        clf = sklearn.base.clone(model0[col])\n",
    "        clf.fit(train[x_idx], train[col], eval_metric='logloss', \n",
    "                eval_set=[(train[x_idx], train[col]), (valid[x_idx], valid[col])], verbose=verbose)\n",
    "        model[col] = clf\n",
    "        print (\"Train accuracy:\", score(train, ys=[col]))\n",
    "        print (\"Test accuracy:\", score(valid, ys=[col]))\n",
    "        print ()\n",
    "    return model"
   ]
  },
  {
   "cell_type": "code",
   "execution_count": 67,
   "metadata": {
    "scrolled": false
   },
   "outputs": [
    {
     "name": "stdout",
     "output_type": "stream",
     "text": [
      "Training: is_home\n",
      "[0]\tvalidation_0-logloss:0.659042\tvalidation_1-logloss:0.658413\n",
      "[10]\tvalidation_0-logloss:0.514481\tvalidation_1-logloss:0.511787\n",
      "[20]\tvalidation_0-logloss:0.480596\tvalidation_1-logloss:0.479243\n",
      "[30]\tvalidation_0-logloss:0.466995\tvalidation_1-logloss:0.467237\n",
      "[40]\tvalidation_0-logloss:0.459382\tvalidation_1-logloss:0.46141\n",
      "[50]\tvalidation_0-logloss:0.453781\tvalidation_1-logloss:0.458654\n",
      "[60]\tvalidation_0-logloss:0.450092\tvalidation_1-logloss:0.456802\n",
      "[70]\tvalidation_0-logloss:0.446665\tvalidation_1-logloss:0.455987\n",
      "[80]\tvalidation_0-logloss:0.443862\tvalidation_1-logloss:0.455411\n",
      "[90]\tvalidation_0-logloss:0.441109\tvalidation_1-logloss:0.455621\n",
      "[100]\tvalidation_0-logloss:0.4383\tvalidation_1-logloss:0.45487\n",
      "[110]\tvalidation_0-logloss:0.435111\tvalidation_1-logloss:0.454176\n",
      "[120]\tvalidation_0-logloss:0.432053\tvalidation_1-logloss:0.453705\n",
      "[130]\tvalidation_0-logloss:0.429205\tvalidation_1-logloss:0.45246\n",
      "[140]\tvalidation_0-logloss:0.427078\tvalidation_1-logloss:0.451731\n",
      "[150]\tvalidation_0-logloss:0.424317\tvalidation_1-logloss:0.451649\n",
      "[160]\tvalidation_0-logloss:0.421565\tvalidation_1-logloss:0.452019\n",
      "[170]\tvalidation_0-logloss:0.41921\tvalidation_1-logloss:0.451944\n",
      "[180]\tvalidation_0-logloss:0.417177\tvalidation_1-logloss:0.451618\n",
      "[190]\tvalidation_0-logloss:0.415254\tvalidation_1-logloss:0.451439\n",
      "[199]\tvalidation_0-logloss:0.413243\tvalidation_1-logloss:0.451181\n",
      "Train accuracy: 0.43325\n",
      "Test accuracy: 0.4295\n",
      "\n",
      "Training: is_work\n",
      "[0]\tvalidation_0-logloss:0.646256\tvalidation_1-logloss:0.646955\n",
      "[10]\tvalidation_0-logloss:0.445559\tvalidation_1-logloss:0.450163\n",
      "[20]\tvalidation_0-logloss:0.398962\tvalidation_1-logloss:0.407665\n",
      "[30]\tvalidation_0-logloss:0.382454\tvalidation_1-logloss:0.39435\n",
      "[40]\tvalidation_0-logloss:0.373541\tvalidation_1-logloss:0.387885\n",
      "[50]\tvalidation_0-logloss:0.368752\tvalidation_1-logloss:0.385096\n",
      "[60]\tvalidation_0-logloss:0.364365\tvalidation_1-logloss:0.383573\n",
      "[70]\tvalidation_0-logloss:0.360409\tvalidation_1-logloss:0.381771\n",
      "[80]\tvalidation_0-logloss:0.35754\tvalidation_1-logloss:0.380565\n",
      "[90]\tvalidation_0-logloss:0.35489\tvalidation_1-logloss:0.378985\n",
      "[100]\tvalidation_0-logloss:0.352215\tvalidation_1-logloss:0.378195\n",
      "[110]\tvalidation_0-logloss:0.348935\tvalidation_1-logloss:0.37748\n",
      "[120]\tvalidation_0-logloss:0.346111\tvalidation_1-logloss:0.375887\n",
      "[130]\tvalidation_0-logloss:0.343968\tvalidation_1-logloss:0.375655\n",
      "[140]\tvalidation_0-logloss:0.341731\tvalidation_1-logloss:0.37411\n",
      "[149]\tvalidation_0-logloss:0.339964\tvalidation_1-logloss:0.37422\n",
      "Train accuracy: 0.298594280175\n",
      "Test accuracy: 0.263565891473\n",
      "\n",
      "CPU times: user 5min 9s, sys: 2.49 s, total: 5min 12s\n",
      "Wall time: 3min 13s\n"
     ]
    }
   ],
   "source": [
    "%%time\n",
    "\n",
    "model = fit_models(xs, 10, model)"
   ]
  },
  {
   "cell_type": "code",
   "execution_count": 68,
   "metadata": {},
   "outputs": [
    {
     "data": {
      "text/html": [
       "<div>\n",
       "<style scoped>\n",
       "    .dataframe tbody tr th:only-of-type {\n",
       "        vertical-align: middle;\n",
       "    }\n",
       "\n",
       "    .dataframe tbody tr th {\n",
       "        vertical-align: top;\n",
       "    }\n",
       "\n",
       "    .dataframe thead th {\n",
       "        text-align: right;\n",
       "    }\n",
       "</style>\n",
       "<table border=\"1\" class=\"dataframe\">\n",
       "  <thead>\n",
       "    <tr style=\"text-align: right;\">\n",
       "      <th></th>\n",
       "      <th>amount</th>\n",
       "      <th>city</th>\n",
       "      <th>mcc</th>\n",
       "      <th>is_atm</th>\n",
       "      <th>ratio1</th>\n",
       "      <th>district</th>\n",
       "      <th>address</th>\n",
       "      <th>pos_amount</th>\n",
       "      <th>pos_mean</th>\n",
       "      <th>weekday</th>\n",
       "    </tr>\n",
       "  </thead>\n",
       "  <tbody>\n",
       "    <tr>\n",
       "      <th>0</th>\n",
       "      <td>0.013776</td>\n",
       "      <td>0.074885</td>\n",
       "      <td>0.095726</td>\n",
       "      <td>0.007065</td>\n",
       "      <td>0.152949</td>\n",
       "      <td>0.156835</td>\n",
       "      <td>0.146945</td>\n",
       "      <td>0.20982</td>\n",
       "      <td>0.132462</td>\n",
       "      <td>0.009537</td>\n",
       "    </tr>\n",
       "  </tbody>\n",
       "</table>\n",
       "</div>"
      ],
      "text/plain": [
       "     amount      city       mcc    is_atm    ratio1  district   address  \\\n",
       "0  0.013776  0.074885  0.095726  0.007065  0.152949  0.156835  0.146945   \n",
       "\n",
       "   pos_amount  pos_mean   weekday  \n",
       "0     0.20982  0.132462  0.009537  "
      ]
     },
     "execution_count": 68,
     "metadata": {},
     "output_type": "execute_result"
    }
   ],
   "source": [
    "pd.DataFrame(model['is_home'].feature_importances_, index=xs).T"
   ]
  },
  {
   "cell_type": "code",
   "execution_count": 69,
   "metadata": {},
   "outputs": [
    {
     "data": {
      "text/html": [
       "<div>\n",
       "<style scoped>\n",
       "    .dataframe tbody tr th:only-of-type {\n",
       "        vertical-align: middle;\n",
       "    }\n",
       "\n",
       "    .dataframe tbody tr th {\n",
       "        vertical-align: top;\n",
       "    }\n",
       "\n",
       "    .dataframe thead th {\n",
       "        text-align: right;\n",
       "    }\n",
       "</style>\n",
       "<table border=\"1\" class=\"dataframe\">\n",
       "  <thead>\n",
       "    <tr style=\"text-align: right;\">\n",
       "      <th></th>\n",
       "      <th>amount</th>\n",
       "      <th>city</th>\n",
       "      <th>mcc</th>\n",
       "      <th>is_atm</th>\n",
       "      <th>ratio1</th>\n",
       "      <th>district</th>\n",
       "      <th>address</th>\n",
       "      <th>pos_amount</th>\n",
       "      <th>pos_mean</th>\n",
       "      <th>weekday</th>\n",
       "    </tr>\n",
       "  </thead>\n",
       "  <tbody>\n",
       "    <tr>\n",
       "      <th>0</th>\n",
       "      <td>0.013645</td>\n",
       "      <td>0.078947</td>\n",
       "      <td>0.059454</td>\n",
       "      <td>0.016569</td>\n",
       "      <td>0.149123</td>\n",
       "      <td>0.192008</td>\n",
       "      <td>0.146199</td>\n",
       "      <td>0.19883</td>\n",
       "      <td>0.116959</td>\n",
       "      <td>0.028265</td>\n",
       "    </tr>\n",
       "  </tbody>\n",
       "</table>\n",
       "</div>"
      ],
      "text/plain": [
       "     amount      city       mcc    is_atm    ratio1  district   address  \\\n",
       "0  0.013645  0.078947  0.059454  0.016569  0.149123  0.192008  0.146199   \n",
       "\n",
       "   pos_amount  pos_mean   weekday  \n",
       "0     0.19883  0.116959  0.028265  "
      ]
     },
     "execution_count": 69,
     "metadata": {},
     "output_type": "execute_result"
    }
   ],
   "source": [
    "pd.DataFrame(model['is_work'].feature_importances_, index=xs).T"
   ]
  },
  {
   "cell_type": "markdown",
   "metadata": {},
   "source": [
    "```python\n",
    "%%time\n",
    "\n",
    "main_xs = ['city', 'mcc', 'ratio1', 'district', 'address', 'weekday']\n",
    "good_xs = ['customer_trans_addr', 'pos_mean', 'pos_amount']\n",
    "other_xs = ['amount', 'is_atm']\n",
    "XS = [\n",
    "    main_xs + good_xs + other_xs,  # full\n",
    "    main_xs + good_xs,\n",
    "    main_xs,\n",
    "    main_xs + other_xs,\n",
    "    main_xs + good_xs[:-1],\n",
    "    main_xs + good_xs[1:]\n",
    "]\n",
    "\n",
    "models = []\n",
    "feature_importances = []\n",
    "\n",
    "for xs in XS:\n",
    "    models.append(fit_models(xs, verbose=50))\n",
    "```"
   ]
  },
  {
   "cell_type": "markdown",
   "metadata": {},
   "source": [
    "#### Предсказание."
   ]
  },
  {
   "cell_type": "code",
   "execution_count": 70,
   "metadata": {},
   "outputs": [
    {
     "name": "stdout",
     "output_type": "stream",
     "text": [
      "CPU times: user 49.3 s, sys: 130 ms, total: 49.4 s\n",
      "Wall time: 49.5 s\n"
     ]
    }
   ],
   "source": [
    "%%time\n",
    "\n",
    "cust_test = df[df.is_train == 0].customer_id.unique()\n",
    "test = pd.DataFrame(cust_test, columns=['customer_id']).merge(df, how='left')\n",
    "test = predict_proba(test)\n",
    "test.rename(inplace=True, columns={\n",
    "    'customer_id': '_ID_',\n",
    "    'is_home:add_lat': '_HOME_LAT_',\n",
    "    'is_home:add_lon': '_HOME_LON_',\n",
    "    'is_work:add_lat': '_WORK_LAT_',\n",
    "    'is_work:add_lon': '_WORK_LON_'\n",
    "})\n",
    "test = test[['_ID_', '_WORK_LAT_', '_WORK_LON_', '_HOME_LAT_', '_HOME_LON_']]"
   ]
  },
  {
   "cell_type": "code",
   "execution_count": 72,
   "metadata": {},
   "outputs": [],
   "source": [
    "# Заполняем пропуски\n",
    "submission = submission.merge(test, how='left').fillna(0)\n",
    "\n",
    "# Пишем файл submission\n",
    "submission.to_csv('submission_final.csv', index=False)"
   ]
  }
 ],
 "metadata": {
  "kernelspec": {
   "display_name": "Python 3",
   "language": "python",
   "name": "python3"
  },
  "language_info": {
   "codemirror_mode": {
    "name": "ipython",
    "version": 3
   },
   "file_extension": ".py",
   "mimetype": "text/x-python",
   "name": "python",
   "nbconvert_exporter": "python",
   "pygments_lexer": "ipython3",
   "version": "3.5.2"
  }
 },
 "nbformat": 4,
 "nbformat_minor": 2
}
