{
 "cells": [
  {
   "cell_type": "code",
   "execution_count": 2,
   "metadata": {},
   "outputs": [],
   "source": [
    "import pandas as pd\n",
    "import numpy as np\n",
    "import matplotlib.pyplot as plt, matplotlib.image as mpimg\n",
    "from sklearn.model_selection import train_test_split, GridSearchCV\n",
    "from sklearn import svm\n",
    "from sklearn.neighbors import KNeighborsClassifier\n",
    "%matplotlib inline\n",
    "from collections import Counter\n",
    "from sklearn.metrics import accuracy_score\n",
    "from sklearn import ensemble\n",
    "from xgboost.sklearn import XGBClassifier\n",
    "from sklearn.utils import shuffle\n",
    "from datetime import date\n",
    "import math\n",
    "from sklearn.metrics import accuracy_score\n",
    "from lightgbm import LGBMClassifier\n",
    "from datetime import date"
   ]
  },
  {
   "cell_type": "code",
   "execution_count": 36,
   "metadata": {},
   "outputs": [],
   "source": [
    "def check_if_atm(row):\n",
    "    if math.isnan(row['atm_address_lat']):\n",
    "        return 0\n",
    "    else:\n",
    "        return 1\n",
    "\n",
    "def generate_features(data):    \n",
    "    data['transaction_date'] = pd.to_datetime(data['transaction_date'])\n",
    "    data['currency'] = data['currency'].fillna(-1).astype(np.int32)\n",
    "    data['city'] = data['city'].apply(lambda x: str(x).lower())\n",
    "    data['city'] = data['city'].factorize()[0].astype(np.int32)\n",
    "    data['country'] = data['country'].factorize()[0].astype(np.int32)\n",
    "    data['c_country'] = data['country'].apply(lambda x: 1 if x == 0 else 0)\n",
    "    data['c_curr'] = data['currency'].apply(lambda x: 1 if x == 643 else 0)\n",
    "    data['weekday'] = data['transaction_date'].dt.weekday.astype(np.int32)\n",
    "    data['is_holiday'] = data['transaction_date'].apply(lambda x : date.weekday(x) > 4)\n",
    "    data['is_holiday'] = data['is_holiday'].astype(float)\n",
    "     \n",
    "    data['is_atm'] = data.apply(lambda row: check_if_atm(row), axis=1)\n",
    "\n",
    "    data['address_lat'] = data['atm_address_lat'].fillna(data['pos_adress_lat'])\n",
    "    data['address_lon'] = data['atm_address_lon'].fillna(data['pos_adress_lon'])\n",
    "    \n",
    "    data['address'] = data['address_lat'].apply(lambda x: \"%.02f\" % x) + ';' + data['address_lon'].apply(lambda x: \"%.02f\" % x)\n",
    "    data['address'] = data['address'].factorize()[0].astype(np.int32)\n",
    "    \n",
    "    data['count_of_transactions']=data.groupby(['customer_id'])[\"address_lat\"].transform(\"count\")\n",
    "    data['transactions']=data.groupby(['customer_id','address'])[\"address_lat\"].transform(\"count\")\n",
    "\n",
    "    data['pers'] = data['transactions'] / data['count_of_transactions']\n",
    "\n",
    "    return data\n",
    "\n",
    "def generate_target(data):\n",
    "    lat = data['home_add_lat'] - data['adress_lat']\n",
    "    lon = data['home_add_lon'] - data['adress_lon']\n",
    "    data['is_home'] = (np.sqrt((lat ** 2) + (lon ** 2)) <= 0.02).astype(np.int32)\n",
    "    #data['has_home'] = (~data['home_add_lon'].isnull()).astype(np.int32)\n",
    "\n",
    "    lat = data['work_add_lat'] - data['adress_lat']\n",
    "    lon = data['work_add_lon'] - data['adress_lon']\n",
    "    data['is_work'] = (np.sqrt((lat ** 2) + (lon ** 2)) <= 0.02).astype(np.int32)\n",
    "    #data['has_work'] = (~data['work_add_lon'].isnull()).astype(np.int32)\n"
   ]
  },
  {
   "cell_type": "code",
   "execution_count": 14,
   "metadata": {},
   "outputs": [
    {
     "name": "stderr",
     "output_type": "stream",
     "text": [
      "/home/alena/py_36_env/lib/python3.6/site-packages/IPython/core/interactiveshell.py:2717: DtypeWarning: Columns (1,8,9) have mixed types. Specify dtype option on import or set low_memory=False.\n",
      "  interactivity=interactivity, compiler=compiler, result=result)\n",
      "/home/alena/py_36_env/lib/python3.6/site-packages/IPython/core/interactiveshell.py:2717: DtypeWarning: Columns (1,11) have mixed types. Specify dtype option on import or set low_memory=False.\n",
      "  interactivity=interactivity, compiler=compiler, result=result)\n"
     ]
    }
   ],
   "source": [
    "test_data = pd.read_csv('data/test_set.csv')\n",
    "data = pd.read_csv('data/train_set.csv')"
   ]
  },
  {
   "cell_type": "code",
   "execution_count": null,
   "metadata": {},
   "outputs": [],
   "source": [
    "data = data.dropna(subset=['terminal_id', 'transaction_date'])\n",
    "data = generate_features(data)\n",
    "#data.drop(data[((data['address_lon'] == 0) & (data['address_lon'] == 0))].index, axis = 0, inplace = True)\n",
    "data = data[data['mcc'] != 5541]\n",
    "data = generate_target(data)\n",
    "\n",
    "test_data['mcc'].apply(lambda x: int(x.replace(',', '')))\n",
    "test_data = generate_features(test_data)"
   ]
  },
  {
   "cell_type": "code",
   "execution_count": 5,
   "metadata": {},
   "outputs": [],
   "source": [
    "columns = ['amount', 'currency', 'city', 'country','mcc', 'c_mcc', 'is_atm', 'weekday', 'pers',  'address_lat', 'address_lon', 'address']\n",
    "\n",
    "model_home = LGBMClassifier( n_jobs=-1)\n",
    "model_work = LGBMClassifier(learning_rate = 0.05, num_iterations=560, jobs=-1)\n",
    "model_home.fit(train[columns], train['is_home'])\n",
    "model_work.fit(train[columns], train['is_work'])"
   ]
  },
  {
   "cell_type": "code",
   "execution_count": null,
   "metadata": {},
   "outputs": [],
   "source": [
    "test_data['is_work'] = model_work.predict(test_data[columns])\n",
    "test_data['is_home'] = model_home.predict(test_data[columns])\n",
    "\n",
    "sub_data = pd.read_csv('sample.csv')\n",
    "sub_data['home_add_lat'] = sub_data['home_add_lat'].astype(float)\n",
    "sub_data['home_add_lon'] = sub_data['home_add_lon'].astype(float)\n",
    "sub_data['work_add_lat'] = sub_data['work_add_lat'].astype(float)\n",
    "sub_data['work_add_lon'] = sub_data['work_add_lon'].astype(float)\n",
    "for i, row in sub_data.iterrows():\n",
    "    res = test_data.loc[test_data['customer_id'] == row['customer_id']]\n",
    "    work_rows = res[res['is_work'] == 1]\n",
    "    if work_rows.size > 1:\n",
    "        lat = work_rows.loc[work_rows['count'].idxmax()]['adress_lat']\n",
    "        lon = work_rows.loc[work_rows['count'].idxmax()]['adress_lon']\n",
    "    elif work_rows.size == 1:\n",
    "        lat = work_rows['adress_lat'][0]\n",
    "        lon = work_rows['adress_lon'][0]\n",
    "    else:\n",
    "        work_rows_0 = res[(res['is_work'] == 0) & (res['is_home'] == 0)]\n",
    "        if work_rows_0.size > 0:\n",
    "            lat = work_rows_0.loc[work_rows_0['count'].idxmax()]['adress_lat']\n",
    "            lon = work_rows_0.loc[work_rows_0['count'].idxmax()]['adress_lon']\n",
    "        else:\n",
    "            lat = 0\n",
    "            lon = 0\n",
    "    sub_data.set_value(i,'work_add_lat', lat)\n",
    "    sub_data.set_value(i,'work_add_lon', lon)\n",
    "    home_rows = res[res['is_home'] == 1]\n",
    "    if home_rows.size > 1:\n",
    "        lat = home_rows.loc[home_rows['count'].idxmax()]['adress_lat']\n",
    "        lon = home_rows.loc[home_rows['count'].idxmax()]['adress_lon']\n",
    "    elif home_rows.size == 1:\n",
    "        lat = home_rows['adress_lat'][0]\n",
    "        lon = home_rows['adress_lon'][0]\n",
    "    else:\n",
    "        home_rows_0 = res[(res['is_work'] == 0) & (res['is_home'] == 0)]\n",
    "        if home_rows_0.size > 0:\n",
    "            lat = home_rows_0.loc[home_rows_0['count'].idxmax()]['adress_lat']\n",
    "            lon = home_rows_0.loc[home_rows_0['count'].idxmax()]['adress_lon']\n",
    "        else:\n",
    "            lat = 0\n",
    "            lon = 0\n",
    "    sub_data.set_value(i,'home_add_lat', lat)\n",
    "    \n",
    "    sub_data.set_value(i,'home_add_lon', lon)   \n",
    "\n",
    "prediction = pd.DataFrame(sub_data).to_csv('prediction.csv')"
   ]
  }
 ],
 "metadata": {
  "kernelspec": {
   "display_name": "py_36_env",
   "language": "python",
   "name": "py_36_env"
  }
 },
 "nbformat": 4,
 "nbformat_minor": 2
}
