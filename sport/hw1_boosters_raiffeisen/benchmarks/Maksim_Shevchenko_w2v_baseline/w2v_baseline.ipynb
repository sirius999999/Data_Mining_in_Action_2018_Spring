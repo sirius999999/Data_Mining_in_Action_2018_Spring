{
 "cells": [
  {
   "cell_type": "markdown",
   "metadata": {},
   "source": [
    "# Baseline w2v на слогах\n",
    "\n",
    "В данном ноутбуке представлена только практическая часть применения word2vec. Неплохое введение в технологию на русском языке можно найти в данном [туториале](https://github.com/Yorko/mlcourse_open/blob/master/jupyter_russian/tutorials/word2vec_demonzheg.ipynb). Там же есть полезные ссылки на английском языке. Основная идея данного бейзлайна посмотрена оттуда.\n",
    "\n",
    "Приступим:"
   ]
  },
  {
   "cell_type": "code",
   "execution_count": 1,
   "metadata": {},
   "outputs": [],
   "source": [
    "# Импортируем библиотеки и функции\n",
    "import pandas as pd\n",
    "import numpy as np\n",
    "\n",
    "from sklearn.metrics import roc_auc_score"
   ]
  },
  {
   "cell_type": "code",
   "execution_count": 2,
   "metadata": {},
   "outputs": [
    {
     "name": "stdout",
     "output_type": "stream",
     "text": [
      "(101408, 2)\n"
     ]
    },
    {
     "data": {
      "text/html": [
       "<div>\n",
       "<style>\n",
       "    .dataframe thead tr:only-child th {\n",
       "        text-align: right;\n",
       "    }\n",
       "\n",
       "    .dataframe thead th {\n",
       "        text-align: left;\n",
       "    }\n",
       "\n",
       "    .dataframe tbody tr th {\n",
       "        vertical-align: top;\n",
       "    }\n",
       "</style>\n",
       "<table border=\"1\" class=\"dataframe\">\n",
       "  <thead>\n",
       "    <tr style=\"text-align: right;\">\n",
       "      <th></th>\n",
       "      <th>Word</th>\n",
       "      <th>Label</th>\n",
       "    </tr>\n",
       "  </thead>\n",
       "  <tbody>\n",
       "    <tr>\n",
       "      <th>0</th>\n",
       "      <td>Аалтонен</td>\n",
       "      <td>1</td>\n",
       "    </tr>\n",
       "    <tr>\n",
       "      <th>1</th>\n",
       "      <td>Аар</td>\n",
       "      <td>0</td>\n",
       "    </tr>\n",
       "    <tr>\n",
       "      <th>2</th>\n",
       "      <td>Аарон</td>\n",
       "      <td>0</td>\n",
       "    </tr>\n",
       "    <tr>\n",
       "      <th>3</th>\n",
       "      <td>ААРОН</td>\n",
       "      <td>0</td>\n",
       "    </tr>\n",
       "    <tr>\n",
       "      <th>4</th>\n",
       "      <td>Аарона</td>\n",
       "      <td>0</td>\n",
       "    </tr>\n",
       "  </tbody>\n",
       "</table>\n",
       "</div>"
      ],
      "text/plain": [
       "       Word  Label\n",
       "0  Аалтонен      1\n",
       "1       Аар      0\n",
       "2     Аарон      0\n",
       "3     ААРОН      0\n",
       "4    Аарона      0"
      ]
     },
     "execution_count": 2,
     "metadata": {},
     "output_type": "execute_result"
    }
   ],
   "source": [
    "# Загрузим обучающие данные\n",
    "train = pd.read_csv('../data/train.csv')\n",
    "print(train.shape)\n",
    "train.head()"
   ]
  },
  {
   "cell_type": "code",
   "execution_count": 3,
   "metadata": {},
   "outputs": [
    {
     "name": "stdout",
     "output_type": "stream",
     "text": [
      "(101408, 2)\n"
     ]
    },
    {
     "data": {
      "text/html": [
       "<div>\n",
       "<style>\n",
       "    .dataframe thead tr:only-child th {\n",
       "        text-align: right;\n",
       "    }\n",
       "\n",
       "    .dataframe thead th {\n",
       "        text-align: left;\n",
       "    }\n",
       "\n",
       "    .dataframe tbody tr th {\n",
       "        vertical-align: top;\n",
       "    }\n",
       "</style>\n",
       "<table border=\"1\" class=\"dataframe\">\n",
       "  <thead>\n",
       "    <tr style=\"text-align: right;\">\n",
       "      <th></th>\n",
       "      <th>Word</th>\n",
       "    </tr>\n",
       "  </thead>\n",
       "  <tbody>\n",
       "    <tr>\n",
       "      <th>0</th>\n",
       "      <td>Аалто</td>\n",
       "    </tr>\n",
       "    <tr>\n",
       "      <th>1</th>\n",
       "      <td>ААР</td>\n",
       "    </tr>\n",
       "    <tr>\n",
       "      <th>2</th>\n",
       "      <td>Аара</td>\n",
       "    </tr>\n",
       "    <tr>\n",
       "      <th>3</th>\n",
       "      <td>Ааре</td>\n",
       "    </tr>\n",
       "    <tr>\n",
       "      <th>4</th>\n",
       "      <td>Аарон</td>\n",
       "    </tr>\n",
       "  </tbody>\n",
       "</table>\n",
       "</div>"
      ],
      "text/plain": [
       "    Word\n",
       "0  Аалто\n",
       "1    ААР\n",
       "2   Аара\n",
       "3   Ааре\n",
       "4  Аарон"
      ]
     },
     "execution_count": 3,
     "metadata": {},
     "output_type": "execute_result"
    }
   ],
   "source": [
    "# Загрузим тестовые данные\n",
    "test = pd.read_csv('../data/test.csv')\n",
    "print(train.shape)\n",
    "test.head()"
   ]
  },
  {
   "cell_type": "markdown",
   "metadata": {},
   "source": [
    "В данном подходе было решено основываться на слогах, так как на семинаре возникали некоторые идеи их применения. На просторах гитхаба была найдена [библиотека](https://github.com/tumikosha/iPoet), которая умеет разбивать слова на слоги, например:"
   ]
  },
  {
   "cell_type": "code",
   "execution_count": 4,
   "metadata": {},
   "outputs": [
    {
     "data": {
      "text/plain": [
       "['До', 'бле', 'стный']"
      ]
     },
     "execution_count": 4,
     "metadata": {},
     "output_type": "execute_result"
    }
   ],
   "source": [
    "from IPoet2 import slogTokenizer3\n",
    "\n",
    "slogTokenizer3('Доблестный')"
   ]
  },
  {
   "cell_type": "markdown",
   "metadata": {},
   "source": [
    "Однако стоит заметить, что данная библиотека не всегда срабатывает хорошо:"
   ]
  },
  {
   "cell_type": "code",
   "execution_count": 5,
   "metadata": {},
   "outputs": [
    {
     "data": {
      "text/plain": [
       "['Ма', 'льчик']"
      ]
     },
     "execution_count": 5,
     "metadata": {},
     "output_type": "execute_result"
    }
   ],
   "source": [
    "slogTokenizer3('Мальчик')"
   ]
  },
  {
   "cell_type": "markdown",
   "metadata": {},
   "source": [
    "Это же слово на [slogi.su](http://slogi.su/%D0%BC%D0%B0%D0%BB%D1%8C%D1%87%D0%B8%D0%BA).\n",
    "\n",
    "Вернемся к нашим данным. Для обучения модели w2v нам потребуются все слова, поэтому объединим обучающую и тестовые выборки:"
   ]
  },
  {
   "cell_type": "code",
   "execution_count": 6,
   "metadata": {},
   "outputs": [],
   "source": [
    "data = pd.concat([train[['Word']], test[['Word']]])"
   ]
  },
  {
   "cell_type": "markdown",
   "metadata": {},
   "source": [
    "Приведем их к нижнему регистру и оставим только кириллические символы, а также посчитаем кол-во гласных букв:"
   ]
  },
  {
   "cell_type": "code",
   "execution_count": 7,
   "metadata": {},
   "outputs": [],
   "source": [
    "import re\n",
    "\n",
    "def prepare_df(df):\n",
    "    vowels = set('аоиеёэыуюя')\n",
    "    \n",
    "    df.loc[:, 'word'] = df['Word'].apply(lambda x: re.sub(\"[^а-я]\", \"\", x.lower()))\n",
    "    df.loc[:, 'vowels'] = df['word'].apply(lambda word: sum(letter in vowels for letter in word))\n",
    "    \n",
    "    return df\n",
    "\n",
    "data = prepare_df(data)"
   ]
  },
  {
   "cell_type": "markdown",
   "metadata": {},
   "source": [
    "Поссмотрим на слово с максимальным кол-вом слогов:"
   ]
  },
  {
   "cell_type": "code",
   "execution_count": 8,
   "metadata": {},
   "outputs": [
    {
     "data": {
      "text/html": [
       "<div>\n",
       "<style>\n",
       "    .dataframe thead tr:only-child th {\n",
       "        text-align: right;\n",
       "    }\n",
       "\n",
       "    .dataframe thead th {\n",
       "        text-align: left;\n",
       "    }\n",
       "\n",
       "    .dataframe tbody tr th {\n",
       "        vertical-align: top;\n",
       "    }\n",
       "</style>\n",
       "<table border=\"1\" class=\"dataframe\">\n",
       "  <thead>\n",
       "    <tr style=\"text-align: right;\">\n",
       "      <th></th>\n",
       "      <th>Word</th>\n",
       "      <th>word</th>\n",
       "      <th>vowels</th>\n",
       "    </tr>\n",
       "  </thead>\n",
       "  <tbody>\n",
       "    <tr>\n",
       "      <th>132521</th>\n",
       "      <td>Райффайзен Интернациональ Банк-Холдинг</td>\n",
       "      <td>райффайзенинтернациональбанкхолдинг</td>\n",
       "      <td>12</td>\n",
       "    </tr>\n",
       "  </tbody>\n",
       "</table>\n",
       "</div>"
      ],
      "text/plain": [
       "                                          Word  \\\n",
       "132521  Райффайзен Интернациональ Банк-Холдинг   \n",
       "\n",
       "                                       word  vowels  \n",
       "132521  райффайзенинтернациональбанкхолдинг      12  "
      ]
     },
     "execution_count": 8,
     "metadata": {},
     "output_type": "execute_result"
    }
   ],
   "source": [
    "data[data['vowels']==data['vowels'].max()]"
   ]
  },
  {
   "cell_type": "markdown",
   "metadata": {},
   "source": [
    "Будем считать, что фамилии, как правило, состоят из не более, чем 8 слогов. Напишем функцию, которая будет возвращать нам ровно 8 первых слогов. Если слогов меньше, то вместо них оставим пустые строки:"
   ]
  },
  {
   "cell_type": "code",
   "execution_count": 9,
   "metadata": {},
   "outputs": [],
   "source": [
    "def slog(word):\n",
    "    return (slogTokenizer3(word) + ['']*11)[:8]\n",
    "\n",
    "data['list_w'] = data['word'].apply(slog)"
   ]
  },
  {
   "cell_type": "code",
   "execution_count": 10,
   "metadata": {},
   "outputs": [
    {
     "data": {
      "text/html": [
       "<div>\n",
       "<style>\n",
       "    .dataframe thead tr:only-child th {\n",
       "        text-align: right;\n",
       "    }\n",
       "\n",
       "    .dataframe thead th {\n",
       "        text-align: left;\n",
       "    }\n",
       "\n",
       "    .dataframe tbody tr th {\n",
       "        vertical-align: top;\n",
       "    }\n",
       "</style>\n",
       "<table border=\"1\" class=\"dataframe\">\n",
       "  <thead>\n",
       "    <tr style=\"text-align: right;\">\n",
       "      <th></th>\n",
       "      <th>Word</th>\n",
       "      <th>word</th>\n",
       "      <th>vowels</th>\n",
       "      <th>list_w</th>\n",
       "    </tr>\n",
       "  </thead>\n",
       "  <tbody>\n",
       "    <tr>\n",
       "      <th>0</th>\n",
       "      <td>Аалтонен</td>\n",
       "      <td>аалтонен</td>\n",
       "      <td>4</td>\n",
       "      <td>[а, а, лто, нен, , , , ]</td>\n",
       "    </tr>\n",
       "    <tr>\n",
       "      <th>1</th>\n",
       "      <td>Аар</td>\n",
       "      <td>аар</td>\n",
       "      <td>2</td>\n",
       "      <td>[а, ар, , , , , , ]</td>\n",
       "    </tr>\n",
       "    <tr>\n",
       "      <th>2</th>\n",
       "      <td>Аарон</td>\n",
       "      <td>аарон</td>\n",
       "      <td>3</td>\n",
       "      <td>[а, а, рон, , , , , ]</td>\n",
       "    </tr>\n",
       "    <tr>\n",
       "      <th>3</th>\n",
       "      <td>ААРОН</td>\n",
       "      <td>аарон</td>\n",
       "      <td>3</td>\n",
       "      <td>[а, а, рон, , , , , ]</td>\n",
       "    </tr>\n",
       "    <tr>\n",
       "      <th>4</th>\n",
       "      <td>Аарона</td>\n",
       "      <td>аарона</td>\n",
       "      <td>4</td>\n",
       "      <td>[а, а, ро, на, , , , ]</td>\n",
       "    </tr>\n",
       "  </tbody>\n",
       "</table>\n",
       "</div>"
      ],
      "text/plain": [
       "       Word      word  vowels                    list_w\n",
       "0  Аалтонен  аалтонен       4  [а, а, лто, нен, , , , ]\n",
       "1       Аар       аар       2       [а, ар, , , , , , ]\n",
       "2     Аарон     аарон       3     [а, а, рон, , , , , ]\n",
       "3     ААРОН     аарон       3     [а, а, рон, , , , , ]\n",
       "4    Аарона    аарона       4    [а, а, ро, на, , , , ]"
      ]
     },
     "execution_count": 10,
     "metadata": {},
     "output_type": "execute_result"
    }
   ],
   "source": [
    "data.head()"
   ]
  },
  {
   "cell_type": "markdown",
   "metadata": {},
   "source": [
    "Таким образом, построим w2v модель: предложением в нашем случае будет выступать последовательность слогов. Размер окна будет примем равным 3, а пространство для вектора слога примем равным 100."
   ]
  },
  {
   "cell_type": "code",
   "execution_count": 11,
   "metadata": {},
   "outputs": [],
   "source": [
    "from gensim.models import word2vec\n",
    "\n",
    "model = word2vec.Word2Vec(data['list_w'], size=100, window=3, workers=4)"
   ]
  },
  {
   "cell_type": "markdown",
   "metadata": {},
   "source": [
    "Создадим словарь со словами и соответсвующими им векторами:"
   ]
  },
  {
   "cell_type": "code",
   "execution_count": 12,
   "metadata": {},
   "outputs": [],
   "source": [
    "w2v = dict(zip(model.wv.index2word, model.wv.syn0))"
   ]
  },
  {
   "cell_type": "markdown",
   "metadata": {},
   "source": [
    "Т.к. сейчас мы каждому слогу сопоставили вектор, то нужно решить что сопоставить целому слово (\"предложению\" из слогов). Один из возможных вариантов это просто усреднить все вектора слов в предложении и получить некоторый смысл всего слова (если слова нет в тексте, то берем нулевой вектор)."
   ]
  },
  {
   "cell_type": "code",
   "execution_count": 13,
   "metadata": {},
   "outputs": [],
   "source": [
    "class mean_vectorizer(object):\n",
    "    def __init__(self, word2vec):\n",
    "        self.word2vec = word2vec\n",
    "        self.dim = len(next(iter(w2v.values())))\n",
    "    \n",
    "    def fit(self, X):\n",
    "        return self \n",
    "\n",
    "    def transform(self, X):\n",
    "        return np.array([\n",
    "            np.mean([self.word2vec[w] for w in words if w in self.word2vec] \n",
    "                    or [np.zeros(self.dim)], axis=0)\n",
    "            for words in X\n",
    "        ])"
   ]
  },
  {
   "cell_type": "markdown",
   "metadata": {},
   "source": [
    "Получим представления обучающей выборке в виде последовательности слогов:"
   ]
  },
  {
   "cell_type": "code",
   "execution_count": 14,
   "metadata": {},
   "outputs": [
    {
     "data": {
      "text/html": [
       "<div>\n",
       "<style>\n",
       "    .dataframe thead tr:only-child th {\n",
       "        text-align: right;\n",
       "    }\n",
       "\n",
       "    .dataframe thead th {\n",
       "        text-align: left;\n",
       "    }\n",
       "\n",
       "    .dataframe tbody tr th {\n",
       "        vertical-align: top;\n",
       "    }\n",
       "</style>\n",
       "<table border=\"1\" class=\"dataframe\">\n",
       "  <thead>\n",
       "    <tr style=\"text-align: right;\">\n",
       "      <th></th>\n",
       "      <th>Word</th>\n",
       "      <th>Label</th>\n",
       "      <th>word</th>\n",
       "      <th>vowels</th>\n",
       "      <th>list_w</th>\n",
       "    </tr>\n",
       "  </thead>\n",
       "  <tbody>\n",
       "    <tr>\n",
       "      <th>0</th>\n",
       "      <td>Аалтонен</td>\n",
       "      <td>1</td>\n",
       "      <td>аалтонен</td>\n",
       "      <td>4</td>\n",
       "      <td>[а, а, лто, нен, , , , ]</td>\n",
       "    </tr>\n",
       "    <tr>\n",
       "      <th>1</th>\n",
       "      <td>Аар</td>\n",
       "      <td>0</td>\n",
       "      <td>аар</td>\n",
       "      <td>2</td>\n",
       "      <td>[а, ар, , , , , , ]</td>\n",
       "    </tr>\n",
       "    <tr>\n",
       "      <th>2</th>\n",
       "      <td>Аарон</td>\n",
       "      <td>0</td>\n",
       "      <td>аарон</td>\n",
       "      <td>3</td>\n",
       "      <td>[а, а, рон, , , , , ]</td>\n",
       "    </tr>\n",
       "    <tr>\n",
       "      <th>3</th>\n",
       "      <td>ААРОН</td>\n",
       "      <td>0</td>\n",
       "      <td>аарон</td>\n",
       "      <td>3</td>\n",
       "      <td>[а, а, рон, , , , , ]</td>\n",
       "    </tr>\n",
       "    <tr>\n",
       "      <th>4</th>\n",
       "      <td>Аарона</td>\n",
       "      <td>0</td>\n",
       "      <td>аарона</td>\n",
       "      <td>4</td>\n",
       "      <td>[а, а, ро, на, , , , ]</td>\n",
       "    </tr>\n",
       "  </tbody>\n",
       "</table>\n",
       "</div>"
      ],
      "text/plain": [
       "       Word  Label      word  vowels                    list_w\n",
       "0  Аалтонен      1  аалтонен       4  [а, а, лто, нен, , , , ]\n",
       "1       Аар      0       аар       2       [а, ар, , , , , , ]\n",
       "2     Аарон      0     аарон       3     [а, а, рон, , , , , ]\n",
       "3     ААРОН      0     аарон       3     [а, а, рон, , , , , ]\n",
       "4    Аарона      0    аарона       4    [а, а, ро, на, , , , ]"
      ]
     },
     "execution_count": 14,
     "metadata": {},
     "output_type": "execute_result"
    }
   ],
   "source": [
    "train = prepare_df(train)\n",
    "train['list_w'] = train['word'].apply(slog)\n",
    "train.head()"
   ]
  },
  {
   "cell_type": "markdown",
   "metadata": {},
   "source": [
    "Теперь на основе этого получим представление обучающей выборки ввиде векторов:"
   ]
  },
  {
   "cell_type": "code",
   "execution_count": 15,
   "metadata": {},
   "outputs": [
    {
     "name": "stdout",
     "output_type": "stream",
     "text": [
      "(101408, 100)\n"
     ]
    }
   ],
   "source": [
    "train_matrix = mean_vectorizer(w2v).fit(train['list_w']).transform(train['list_w'])\n",
    "print(train_matrix.shape)"
   ]
  },
  {
   "cell_type": "markdown",
   "metadata": {},
   "source": [
    "Посмотрим результаты на валидационной выборке:"
   ]
  },
  {
   "cell_type": "code",
   "execution_count": 16,
   "metadata": {},
   "outputs": [
    {
     "name": "stdout",
     "output_type": "stream",
     "text": [
      "0.7659296460897204\n"
     ]
    }
   ],
   "source": [
    "from sklearn.linear_model import LogisticRegression\n",
    "from sklearn.model_selection import train_test_split\n",
    "\n",
    "X_train, X_val, y_train, y_val = train_test_split(\n",
    "    train_matrix, train['Label'].values.flatten(), \n",
    "    test_size=0.2, stratify=train['Label'], random_state=777)\n",
    "\n",
    "lr_model = LogisticRegression().fit(X_train, y_train)\n",
    "\n",
    "print(roc_auc_score(y_val, lr_model.predict_proba(X_val)[:, 1]))"
   ]
  },
  {
   "cell_type": "markdown",
   "metadata": {},
   "source": [
    "Аналогичным образом представим тестовую выборку в виде векторов:"
   ]
  },
  {
   "cell_type": "code",
   "execution_count": 17,
   "metadata": {},
   "outputs": [
    {
     "name": "stdout",
     "output_type": "stream",
     "text": [
      "(188920, 100)\n"
     ]
    }
   ],
   "source": [
    "test = prepare_df(test)\n",
    "test['list_w'] = test['word'].apply(slog)\n",
    "test_matrix = mean_vectorizer(w2v).fit(test['list_w']).transform(test['list_w'])\n",
    "print(test_matrix.shape)"
   ]
  },
  {
   "cell_type": "markdown",
   "metadata": {},
   "source": [
    "Обучим модель на всех данных и сделаем сабмит:"
   ]
  },
  {
   "cell_type": "code",
   "execution_count": 18,
   "metadata": {},
   "outputs": [
    {
     "data": {
      "text/html": [
       "<div>\n",
       "<style>\n",
       "    .dataframe thead tr:only-child th {\n",
       "        text-align: right;\n",
       "    }\n",
       "\n",
       "    .dataframe thead th {\n",
       "        text-align: left;\n",
       "    }\n",
       "\n",
       "    .dataframe tbody tr th {\n",
       "        vertical-align: top;\n",
       "    }\n",
       "</style>\n",
       "<table border=\"1\" class=\"dataframe\">\n",
       "  <thead>\n",
       "    <tr style=\"text-align: right;\">\n",
       "      <th></th>\n",
       "      <th>Id</th>\n",
       "      <th>Word</th>\n",
       "      <th>word</th>\n",
       "      <th>vowels</th>\n",
       "      <th>list_w</th>\n",
       "      <th>Prediction</th>\n",
       "    </tr>\n",
       "  </thead>\n",
       "  <tbody>\n",
       "    <tr>\n",
       "      <th>0</th>\n",
       "      <td>0</td>\n",
       "      <td>Аалто</td>\n",
       "      <td>аалто</td>\n",
       "      <td>3</td>\n",
       "      <td>[а, а, лто, , , , , ]</td>\n",
       "      <td>0.778822</td>\n",
       "    </tr>\n",
       "    <tr>\n",
       "      <th>1</th>\n",
       "      <td>1</td>\n",
       "      <td>ААР</td>\n",
       "      <td>аар</td>\n",
       "      <td>2</td>\n",
       "      <td>[а, ар, , , , , , ]</td>\n",
       "      <td>0.807601</td>\n",
       "    </tr>\n",
       "    <tr>\n",
       "      <th>2</th>\n",
       "      <td>2</td>\n",
       "      <td>Аара</td>\n",
       "      <td>аара</td>\n",
       "      <td>3</td>\n",
       "      <td>[а, а, ра, , , , , ]</td>\n",
       "      <td>0.818267</td>\n",
       "    </tr>\n",
       "    <tr>\n",
       "      <th>3</th>\n",
       "      <td>3</td>\n",
       "      <td>Ааре</td>\n",
       "      <td>ааре</td>\n",
       "      <td>3</td>\n",
       "      <td>[а, а, ре, , , , , ]</td>\n",
       "      <td>0.851415</td>\n",
       "    </tr>\n",
       "    <tr>\n",
       "      <th>4</th>\n",
       "      <td>4</td>\n",
       "      <td>Аарон</td>\n",
       "      <td>аарон</td>\n",
       "      <td>3</td>\n",
       "      <td>[а, а, рон, , , , , ]</td>\n",
       "      <td>0.849097</td>\n",
       "    </tr>\n",
       "  </tbody>\n",
       "</table>\n",
       "</div>"
      ],
      "text/plain": [
       "   Id   Word   word  vowels                 list_w  Prediction\n",
       "0   0  Аалто  аалто       3  [а, а, лто, , , , , ]    0.778822\n",
       "1   1    ААР    аар       2    [а, ар, , , , , , ]    0.807601\n",
       "2   2   Аара   аара       3   [а, а, ра, , , , , ]    0.818267\n",
       "3   3   Ааре   ааре       3   [а, а, ре, , , , , ]    0.851415\n",
       "4   4  Аарон  аарон       3  [а, а, рон, , , , , ]    0.849097"
      ]
     },
     "execution_count": 18,
     "metadata": {},
     "output_type": "execute_result"
    }
   ],
   "source": [
    "model = LogisticRegression().fit(train_matrix, train['Label'].values.flatten())\n",
    "\n",
    "test['Prediction'] = model.predict_proba(test_matrix)[:, 0]\n",
    "test = test.reset_index().rename(columns={'index': 'Id'})\n",
    "test[['Id', 'Prediction']].to_csv('../submissions/sample_sub.csv', index=False)\n",
    "test.head()"
   ]
  },
  {
   "cell_type": "markdown",
   "metadata": {},
   "source": [
    "На публичном лб значение метрики ROC AUC равно 0.76442, что в целом совпадает с нашей локальной валидацией. Относительно неплохой результат для бейзлайна.\n",
    "\n",
    "На мой взгляд, можно поптаться его улучшить следующими способами:\n",
    "* увеличить размерность векторного пространства, подобрать размер окна;\n",
    "* придумать другой способ агрегации слогов (возможно, учитывающий каким-либо образом последовательность слогов);\n",
    "* подобрать параметры модели;\n",
    "* и многое другое ;)\n",
    "\n",
    "Спасибо, что дочитали до конца. Буду рад обсуждению."
   ]
  }
 ],
 "metadata": {
  "kernelspec": {
   "display_name": "Python 3",
   "language": "python",
   "name": "python3"
  },
  "language_info": {
   "codemirror_mode": {
    "name": "ipython",
    "version": 3
   },
   "file_extension": ".py",
   "mimetype": "text/x-python",
   "name": "python",
   "nbconvert_exporter": "python",
   "pygments_lexer": "ipython3",
   "version": "3.5.2"
  }
 },
 "nbformat": 4,
 "nbformat_minor": 2
}
